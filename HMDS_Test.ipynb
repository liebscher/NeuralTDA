{
 "cells": [
  {
   "cell_type": "code",
   "execution_count": 18,
   "metadata": {
    "collapsed": false
   },
   "outputs": [
    {
     "data": {
      "text/plain": [
       "<module 'neuraltda.H_MDS' from 'neuraltda/H_MDS.py'>"
      ]
     },
     "execution_count": 18,
     "metadata": {},
     "output_type": "execute_result"
    }
   ],
   "source": [
    "import numpy as np\n",
    "import neuraltda.H_MDS as hmds\n",
    "reload(hmds)"
   ]
  },
  {
   "cell_type": "code",
   "execution_count": 65,
   "metadata": {
    "collapsed": false
   },
   "outputs": [],
   "source": [
    "n = 4\n",
    "X = np.random.randn(n)\n",
    "Y = np.random.randn(n)\n",
    "mag = np.multiply(np.random.uniform(1, 4, size=n), np.abs(X+1j*Y))\n",
    "X = np.divide(X, mag)\n",
    "Y = np.divide(Y, mag)\n",
    "D = 10*np.square(np.random.randn(n, n))\n",
    "D = D - np.diag(np.diag(D))\n",
    "w = np.ones((n, n))\n",
    "wtot = 0.5*np.sum(np.sum(D))\n",
    "w = np.power(D+np.diag(np.ones(n)), -1)/wtot\n",
    "w = w - np.diag(np.diag(w))\n"
   ]
  },
  {
   "cell_type": "code",
   "execution_count": 66,
   "metadata": {
    "collapsed": false
   },
   "outputs": [
    {
     "data": {
      "text/plain": [
       "array([[  0.00000000e+00,   1.19722876e-03,   1.80785336e-02,\n",
       "          4.29140646e-03],\n",
       "       [  1.92865745e-03,   0.00000000e+00,   1.34098777e-03,\n",
       "          6.30622190e-04],\n",
       "       [  6.21488877e+00,   1.37455263e-03,   0.00000000e+00,\n",
       "          2.22735589e-03],\n",
       "       [  3.84207729e-03,   5.76360033e-04,   3.19656408e-01,\n",
       "          0.00000000e+00]])"
      ]
     },
     "execution_count": 66,
     "metadata": {},
     "output_type": "execute_result"
    }
   ],
   "source": [
    "w"
   ]
  },
  {
   "cell_type": "code",
   "execution_count": null,
   "metadata": {
    "collapsed": false
   },
   "outputs": [],
   "source": [
    "test = hmds.d_H"
   ]
  },
  {
   "cell_type": "code",
   "execution_count": null,
   "metadata": {
    "collapsed": true
   },
   "outputs": [],
   "source": [
    "test = hmds.mobius_xform(1+1j, X[1]+1j*Y[1], 1)"
   ]
  },
  {
   "cell_type": "code",
   "execution_count": null,
   "metadata": {
    "collapsed": true
   },
   "outputs": [],
   "source": [
    "test = hmds.get_distances(X, Y)"
   ]
  },
  {
   "cell_type": "code",
   "execution_count": null,
   "metadata": {
    "collapsed": false
   },
   "outputs": [],
   "source": [
    "test = hmds.E_x(X, Y, D, w)"
   ]
  },
  {
   "cell_type": "code",
   "execution_count": null,
   "metadata": {
    "collapsed": false
   },
   "outputs": [],
   "source": [
    "test = hmds.dE_dxa(D, w, X, Y, 0, 2)"
   ]
  },
  {
   "cell_type": "code",
   "execution_count": null,
   "metadata": {
    "collapsed": false
   },
   "outputs": [],
   "source": [
    "test"
   ]
  },
  {
   "cell_type": "code",
   "execution_count": null,
   "metadata": {
    "collapsed": false
   },
   "outputs": [],
   "source": [
    "hmds.ddH_dx1_1(X[1]+1j*Y[1], )"
   ]
  },
  {
   "cell_type": "code",
   "execution_count": null,
   "metadata": {
    "collapsed": false
   },
   "outputs": [],
   "source": [
    "X"
   ]
  },
  {
   "cell_type": "code",
   "execution_count": null,
   "metadata": {
    "collapsed": false
   },
   "outputs": [],
   "source": [
    "Y"
   ]
  },
  {
   "cell_type": "code",
   "execution_count": null,
   "metadata": {
    "collapsed": false
   },
   "outputs": [],
   "source": [
    "new = hmds.HMDS_update(D, w ,X, Y, 1, 0.1)"
   ]
  },
  {
   "cell_type": "code",
   "execution_count": null,
   "metadata": {
    "collapsed": false
   },
   "outputs": [],
   "source": [
    "new"
   ]
  },
  {
   "cell_type": "code",
   "execution_count": 67,
   "metadata": {
    "collapsed": false
   },
   "outputs": [
    {
     "name": "stdout",
     "output_type": "stream",
     "text": [
      "6.66880624189\n",
      "6.65208537333\n",
      "4.98142948083\n",
      "3.82468538466\n",
      "13.9506674963\n",
      "13.9389571395\n",
      "13.9389123141\n"
     ]
    }
   ],
   "source": [
    "eta = 0.2\n",
    "eps = 1e-6\n",
    "diffp = 1\n",
    "E = 0\n",
    "while diffp > eps:\n",
    "    alpha = np.random.randint(len(X))\n",
    "    new = hmds.HMDS_update(D, w, X, Y, alpha, eta)\n",
    "    X[alpha] = np.real(new)\n",
    "    Y[alpha] = np.imag(new)\n",
    "    newE = hmds.E_x(X, Y, D, w)\n",
    "    diffp = np.abs(E - newE)\n",
    "    print(newE)\n",
    "    E = newE"
   ]
  },
  {
   "cell_type": "code",
   "execution_count": 63,
   "metadata": {
    "collapsed": false
   },
   "outputs": [
    {
     "name": "stdout",
     "output_type": "stream",
     "text": [
      "(-0.511558608907-0.566558305484j)\n",
      "(-0.624933648241-0.625728336653j)\n"
     ]
    },
    {
     "data": {
      "text/plain": [
       "0.88435174901994806"
      ]
     },
     "execution_count": 63,
     "metadata": {},
     "output_type": "execute_result"
    }
   ],
   "source": [
    "pts = X+1j*Y\n",
    "print(pts[0])\n",
    "print(pts[2])\n",
    "np.abs(pts[2])"
   ]
  },
  {
   "cell_type": "code",
   "execution_count": 64,
   "metadata": {
    "collapsed": false
   },
   "outputs": [
    {
     "name": "stdout",
     "output_type": "stream",
     "text": [
      "[[ 0.          6.00707554  0.82458487         nan]\n",
      " [ 6.00707554  0.          6.79009484         nan]\n",
      " [ 0.82458487  6.79009484  0.                 nan]\n",
      " [        nan         nan         nan  0.        ]]\n",
      "[[  0.00000000e+00   1.99792060e+01   2.36499468e+00   1.53405143e+01]\n",
      " [  1.24060164e+01   0.00000000e+00   1.12511099e+01   2.35143965e-01]\n",
      " [  4.09661513e+01   2.14068472e-02   0.00000000e+00   1.43925895e+01]\n",
      " [  1.48917918e-01   2.48583390e+00   1.02837678e+00   0.00000000e+00]]\n"
     ]
    }
   ],
   "source": [
    "print(hmds.get_distances(X, Y))\n",
    "print(D)"
   ]
  },
  {
   "cell_type": "code",
   "execution_count": 60,
   "metadata": {
    "collapsed": false
   },
   "outputs": [
    {
     "name": "stdout",
     "output_type": "stream",
     "text": [
      "[[  0.00000000e+00   7.28588910e+00   7.46655962e+00   5.19337594e+02]\n",
      " [  3.71283231e+02   0.00000000e+00   5.13445936e-04   1.19533145e+03]\n",
      " [  1.65740292e+01   2.21474796e+01   0.00000000e+00   4.60105647e+00]\n",
      " [  6.98843871e-01   7.39900884e+01   2.14208566e-01   0.00000000e+00]]\n",
      "nan\n",
      "[[        inf  0.00333894  0.00187583  0.00028126]\n",
      " [ 0.00960614         inf  0.00909526  0.00119533]\n",
      " [ 0.01287936  0.00291381         inf  0.01645859]\n",
      " [ 0.00637723  0.00450455  0.00106681         inf]]\n"
     ]
    }
   ],
   "source": [
    "d = hmds.get_distances(X, Y)\n",
    "diffmat = np.subtract(d, D)\n",
    "diffmat = np.square(diffmat)\n",
    "\n",
    "E = 0.5*np.einsum('ij,ij', w, diffmat)\n",
    "print(diffmat)\n",
    "print(E)\n",
    "print(w)"
   ]
  },
  {
   "cell_type": "code",
   "execution_count": null,
   "metadata": {
    "collapsed": false
   },
   "outputs": [],
   "source": [
    "def func_to_min(X, D, Npts):\n",
    "    \n",
    "    x = X[0:Npts]\n",
    "    y = X[Npts:]\n",
    "    d = hmds.get_distances(x, y)\n",
    "    diff = np.subtract(d, D)\n",
    "    return np.sum(diff, axis=1)"
   ]
  },
  {
   "cell_type": "code",
   "execution_count": null,
   "metadata": {
    "collapsed": true
   },
   "outputs": [],
   "source": [
    "from scipy.optimize import leastsq"
   ]
  },
  {
   "cell_type": "code",
   "execution_count": null,
   "metadata": {
    "collapsed": false
   },
   "outputs": [],
   "source": [
    "x0 = np.hstack((X, Y))\n",
    "x0 = np.transpose(x0)"
   ]
  },
  {
   "cell_type": "code",
   "execution_count": null,
   "metadata": {
    "collapsed": false
   },
   "outputs": [],
   "source": [
    "\n",
    "res = leastsq(func_to_min, x0, args=(D, n))"
   ]
  },
  {
   "cell_type": "code",
   "execution_count": null,
   "metadata": {
    "collapsed": true
   },
   "outputs": [],
   "source": []
  }
 ],
 "metadata": {
  "kernelspec": {
   "display_name": "Python 2",
   "language": "python",
   "name": "python2"
  },
  "language_info": {
   "codemirror_mode": {
    "name": "ipython",
    "version": 2
   },
   "file_extension": ".py",
   "mimetype": "text/x-python",
   "name": "python",
   "nbconvert_exporter": "python",
   "pygments_lexer": "ipython2",
   "version": "2.7.11"
  }
 },
 "nbformat": 4,
 "nbformat_minor": 0
}
