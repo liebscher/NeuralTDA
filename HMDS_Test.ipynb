{
 "cells": [
  {
   "cell_type": "code",
   "execution_count": 24,
   "metadata": {
    "collapsed": false
   },
   "outputs": [
    {
     "data": {
      "text/plain": [
       "<module 'neuraltda.H_MDS' from 'neuraltda/H_MDS.pyc'>"
      ]
     },
     "execution_count": 24,
     "metadata": {},
     "output_type": "execute_result"
    }
   ],
   "source": [
    "import numpy as np\n",
    "import neuraltda.H_MDS as hmds\n",
    "import matplotlib.pyplot as plt\n",
    "%matplotlib inline\n",
    "reload(hmds)"
   ]
  },
  {
   "cell_type": "code",
   "execution_count": 20,
   "metadata": {
    "collapsed": false
   },
   "outputs": [],
   "source": [
    "n = 10\n",
    "X = np.random.randn(n)\n",
    "Y = np.random.randn(n)\n",
    "r = np.random.uniform()\n",
    "mag = np.multiply(np.random.uniform(1, 4, size=n), np.abs(X+1j*Y))\n",
    "X = np.divide(X, mag)\n",
    "Y = np.divide(Y, mag)\n",
    "D = 100*np.square(np.random.randn(n, n))\n",
    "D = D - np.diag(np.diag(D))\n",
    "w = np.ones((n, n))\n",
    "wtot = 0.5*np.sum(np.sum(D))\n",
    "w = np.power(D+np.diag(np.ones(n)), -1)/wtot\n",
    "w = w - np.diag(np.diag(w))\n"
   ]
  },
  {
   "cell_type": "code",
   "execution_count": 21,
   "metadata": {
    "collapsed": false
   },
   "outputs": [
    {
     "data": {
      "text/plain": [
       "443.2583061718791"
      ]
     },
     "execution_count": 21,
     "metadata": {},
     "output_type": "execute_result"
    }
   ],
   "source": [
    "hmds.test_delta_hyperbolic(D)"
   ]
  },
  {
   "cell_type": "code",
   "execution_count": 18,
   "metadata": {
    "collapsed": false
   },
   "outputs": [
    {
     "data": {
      "text/plain": [
       "(10, 10)"
      ]
     },
     "execution_count": 18,
     "metadata": {},
     "output_type": "execute_result"
    }
   ],
   "source": [
    "D.shape"
   ]
  },
  {
   "cell_type": "code",
   "execution_count": null,
   "metadata": {
    "collapsed": true
   },
   "outputs": [],
   "source": [
    "test = hmds.mobius_xform(1+1j, X[1]+1j*Y[1], 1)"
   ]
  },
  {
   "cell_type": "code",
   "execution_count": null,
   "metadata": {
    "collapsed": true
   },
   "outputs": [],
   "source": [
    "test = hmds.get_distances(X, Y)"
   ]
  },
  {
   "cell_type": "code",
   "execution_count": null,
   "metadata": {
    "collapsed": false
   },
   "outputs": [],
   "source": [
    "test = hmds.E_x(X, Y, D, w)"
   ]
  },
  {
   "cell_type": "code",
   "execution_count": null,
   "metadata": {
    "collapsed": false
   },
   "outputs": [],
   "source": [
    "test = hmds.dE_dxa(D, w, X, Y, 0, 2)"
   ]
  },
  {
   "cell_type": "code",
   "execution_count": null,
   "metadata": {
    "collapsed": false
   },
   "outputs": [],
   "source": [
    "test"
   ]
  },
  {
   "cell_type": "code",
   "execution_count": null,
   "metadata": {
    "collapsed": false
   },
   "outputs": [],
   "source": [
    "hmds.ddH_dx1_1(X[1]+1j*Y[1], )"
   ]
  },
  {
   "cell_type": "code",
   "execution_count": null,
   "metadata": {
    "collapsed": false
   },
   "outputs": [],
   "source": [
    "X"
   ]
  },
  {
   "cell_type": "code",
   "execution_count": null,
   "metadata": {
    "collapsed": false
   },
   "outputs": [],
   "source": [
    "Y"
   ]
  },
  {
   "cell_type": "code",
   "execution_count": null,
   "metadata": {
    "collapsed": false
   },
   "outputs": [],
   "source": [
    "new = hmds.HMDS_update(D, w ,X, Y, 1, 0.1)"
   ]
  },
  {
   "cell_type": "code",
   "execution_count": null,
   "metadata": {
    "collapsed": false
   },
   "outputs": [],
   "source": [
    "new"
   ]
  },
  {
   "cell_type": "code",
   "execution_count": null,
   "metadata": {
    "collapsed": false
   },
   "outputs": [],
   "source": [
    "eta = 0.1\n",
    "eps = 1e-4\n",
    "epsvec = np.ones(n)\n",
    "diffp = 1\n",
    "X_s = X\n",
    "Y_s = Y\n",
    "lam = 0.001\n",
    "while diffp > eps:\n",
    "    E = hmds.E_x(X_s, Y_s, D, w)\n",
    "    new = hmds.HMDS_update3(D, w, X_s, Y_s,eta, lam)\n",
    "    for alph in range(len(X)):\n",
    "        X_s[alph] = np.real(new[alph])\n",
    "        Y_s[alph] = np.imag(new[alph])\n",
    "    newE = hmds.E_x(X_s, Y_s, D, w)\n",
    "    if newE > E:\n",
    "        lam = lam*10.0\n",
    "        X_s = X\n",
    "        Y_s = Y\n",
    "    elif newE < E:\n",
    "        lam = lam/10.0\n",
    "        X = X_s\n",
    "        Y = Y_s\n",
    "    if lam > 1e4:\n",
    "        lam = 1e4\n",
    "    elif lam < 1e-4:\n",
    "        lam = 1e-4\n",
    "    diffp = np.abs(newE-E)\n",
    "    print(newE)"
   ]
  },
  {
   "cell_type": "code",
   "execution_count": 11,
   "metadata": {
    "collapsed": false
   },
   "outputs": [
    {
     "name": "stdout",
     "output_type": "stream",
     "text": [
      "newE: 1.08224411579  E: 1.08745860433\n",
      "newE: 1.07549623934  E: 1.08224411579\n",
      "newE: 1.07017727886  E: 1.07549623934\n",
      "newE: 1.01024489925  E: 1.07017727886\n",
      "newE: 1.00746693023  E: 1.01024489925\n",
      "newE: 1.00702984026  E: 1.00746693023\n",
      "newE: 1.34498424371  E: 1.00702984026\n",
      "newE: 1.00522963879  E: 1.00702984026\n",
      "newE: 1.01029320698  E: 1.00522963879\n",
      "newE: 0.985198165133  E: 1.00522963879\n",
      "newE: 0.990679891032  E: 0.985198165133\n",
      "newE: 0.985055570298  E: 0.985198165133\n",
      "newE: 0.980566948371  E: 0.985055570298\n",
      "newE: 0.981120881385  E: 0.980566948371\n",
      "newE: 1.02122839152  E: 0.980566948371\n",
      "newE: 0.979594183135  E: 0.980566948371\n",
      "newE: 0.982365386684  E: 0.979594183135\n",
      "newE: 0.979633697962  E: 0.979594183135\n"
     ]
    }
   ],
   "source": [
    "-"
   ]
  },
  {
   "cell_type": "code",
   "execution_count": null,
   "metadata": {
    "collapsed": false
   },
   "outputs": [],
   "source": [
    "\n",
    "pts = X+1j*Y\n",
    "print(pts[0])\n",
    "print(pts[3])\n",
    "np.abs(pts[3])"
   ]
  },
  {
   "cell_type": "code",
   "execution_count": 8,
   "metadata": {
    "collapsed": false
   },
   "outputs": [
    {
     "name": "stdout",
     "output_type": "stream",
     "text": [
      "[[  0.           5.73002932   1.99324187   0.59023717   4.91019222\n",
      "    6.28327389   1.37551145   2.14771433   2.6568527    1.4808462 ]\n",
      " [  5.73002932   0.           7.1202075    5.45661563   7.84391859\n",
      "   11.70579476   6.66321509   7.2037747    7.7196958    7.03539212]\n",
      " [  1.99324187   7.1202075    0.           2.50973979   6.65068974\n",
      "    8.19658693   3.34575203   4.13928804   4.64771624   3.32225548]\n",
      " [  0.59023717   5.45661563   2.50973979   0.           4.38189736\n",
      "    6.24924063   1.2126209    1.82043545   2.33573564   1.59947157]\n",
      " [  4.91019222   7.84391859   6.65068974   4.38189736   0.          10.49122393\n",
      "    5.39755683   5.76089503   6.27180071   5.92982385]\n",
      " [  6.28327389  11.70579476   8.19658693   6.24924063  10.49122393   0.\n",
      "    5.11503356   5.7760743    6.10179881   5.021386  ]\n",
      " [  1.37551145   6.66321509   3.34575203   1.2126209    5.39755683\n",
      "    5.11503356   0.           0.98380178   1.44948535   0.9136202 ]\n",
      " [  2.14771433   7.2037747    4.13928804   1.82043545   5.76089503\n",
      "    5.7760743    0.98380178   0.           0.51601026   1.89196791]\n",
      " [  2.6568527    7.7196958    4.64771624   2.33573564   6.27180071\n",
      "    6.10179881   1.44948535   0.51601026   0.           2.34245851]\n",
      " [  1.4808462    7.03539212   3.32225548   1.59947157   5.92982385\n",
      "    5.021386     0.9136202    1.89196791   2.34245851   0.        ]]\n",
      "[[  0.00000000e+00   4.98979331e+02   1.43529317e+02   4.13786894e+00\n",
      "    5.33499423e+01   2.93365030e+00   3.75730871e+01   1.96930451e+02\n",
      "    1.98595611e+02   1.82335325e+00]\n",
      " [  4.91759443e+01   0.00000000e+00   8.93833868e+01   2.43044653e+01\n",
      "    7.49139775e+01   9.74849253e+00   2.75311434e+02   9.14837697e+01\n",
      "    2.38184053e+02   1.87919057e+02]\n",
      " [  4.20464733e-02   2.46193772e+02   0.00000000e+00   2.69602505e+00\n",
      "    7.29457465e+01   1.01781271e+02   1.74128444e+02   1.73502116e+01\n",
      "    5.40194854e+01   8.32872301e+01]\n",
      " [  5.86588470e+00   8.96762814e+00   2.04431784e-02   0.00000000e+00\n",
      "    4.91343471e-01   1.17884123e+01   3.52162793e+02   1.84475875e+00\n",
      "    1.00265736e+02   1.35621628e+02]\n",
      " [  8.85094342e+01   7.02988093e+01   2.55758829e+01   4.49505488e+01\n",
      "    0.00000000e+00   5.25742598e+00   2.12359538e+01   1.45233047e+00\n",
      "    1.46428086e+02   2.64946248e+02]\n",
      " [  6.21048099e+02   1.12080765e+01   5.47986146e+00   4.09030679e+02\n",
      "    4.37651943e+01   0.00000000e+00   8.87331213e+00   1.08883782e+01\n",
      "    7.65946761e+00   1.36609999e+01]\n",
      " [  3.65294556e+00   1.69976026e+00   2.12045180e+02   2.17285636e+02\n",
      "    5.45122430e+01   5.39510574e+00   0.00000000e+00   3.47615321e+02\n",
      "    6.28573463e+00   7.64728508e+01]\n",
      " [  1.15403496e+01   1.16813622e+02   4.42852374e+01   3.78671287e+01\n",
      "    4.46238824e+02   2.78388608e+00   2.86049340e+01   0.00000000e+00\n",
      "    3.75983611e+00   7.85391065e+01]\n",
      " [  5.77492371e+02   1.65404896e+01   6.15713744e+01   5.07423260e+00\n",
      "    2.44348290e+02   2.72802533e+01   5.65435123e-02   9.98582292e+01\n",
      "    0.00000000e+00   2.08342598e+01]\n",
      " [  1.33173775e+01   9.57600674e+01   5.32035150e+01   2.24063917e+02\n",
      "    4.75453676e+02   2.55156577e+01   1.01974782e+02   9.22252026e-04\n",
      "    3.30173998e+02   0.00000000e+00]]\n"
     ]
    }
   ],
   "source": [
    "print(hmds.get_distances(X_s, Y_s))\n",
    "print(D)"
   ]
  },
  {
   "cell_type": "code",
   "execution_count": null,
   "metadata": {
    "collapsed": false
   },
   "outputs": [],
   "source": [
    "d = hmds.get_distances(X, Y)\n",
    "diffmat = np.subtract(d, D)\n",
    "diffmat = np.square(diffmat)\n",
    "\n",
    "E = 0.5*np.einsum('ij,ij', w, diffmat)\n",
    "print(diffmat)\n",
    "print(E)\n",
    "print(w)"
   ]
  },
  {
   "cell_type": "code",
   "execution_count": null,
   "metadata": {
    "collapsed": false
   },
   "outputs": [],
   "source": [
    "def func_to_min(X, D, Npts):\n",
    "    \n",
    "    x = X[0:Npts]\n",
    "    y = X[Npts:]\n",
    "    d = hmds.get_distances(x, y)\n",
    "    diff = np.subtract(d, D)\n",
    "    return np.sum(diff, axis=1)"
   ]
  },
  {
   "cell_type": "code",
   "execution_count": null,
   "metadata": {
    "collapsed": true
   },
   "outputs": [],
   "source": [
    "from scipy.optimize import leastsq"
   ]
  },
  {
   "cell_type": "code",
   "execution_count": null,
   "metadata": {
    "collapsed": false
   },
   "outputs": [],
   "source": [
    "x0 = np.hstack((X, Y))\n",
    "x0 = np.transpose(x0)"
   ]
  },
  {
   "cell_type": "code",
   "execution_count": null,
   "metadata": {
    "collapsed": false
   },
   "outputs": [],
   "source": [
    "\n",
    "res = leastsq(func_to_min, x0, args=(D, n))"
   ]
  },
  {
   "cell_type": "code",
   "execution_count": 22,
   "metadata": {
    "collapsed": false
   },
   "outputs": [
    {
     "data": {
      "text/plain": [
       "(0.01+0j)"
      ]
     },
     "execution_count": 22,
     "metadata": {},
     "output_type": "execute_result"
    }
   ],
   "source": [
    "pt = 0.01 +1j*0\n",
    "pt"
   ]
  },
  {
   "cell_type": "code",
   "execution_count": 27,
   "metadata": {
    "collapsed": false
   },
   "outputs": [
    {
     "data": {
      "text/plain": [
       "<matplotlib.collections.PathCollection at 0x109189210>"
      ]
     },
     "execution_count": 27,
     "metadata": {},
     "output_type": "execute_result"
    },
    {
     "data": {
      "image/png": "[encoded data removed]",
      "text/plain": [
       "<matplotlib.figure.Figure at 0x108ef2550>"
      ]
     },
     "metadata": {},
     "output_type": "display_data"
    }
   ],
   "source": [
    "rs = np.linspace(0, 1000, 100)\n",
    "vec = np.sqrt(2)/4 + 1j*np.sqrt(2)/4\n",
    "sv = []\n",
    "for r in rs:\n",
    "    z = hmds.mobius_xform(pt, vec, rs)\n",
    "    sv.append(z)\n",
    "plt.figure()\n",
    "plt.scatter(np.real(sv), np.imag(sv))"
   ]
  },
  {
   "cell_type": "code",
   "execution_count": null,
   "metadata": {
    "collapsed": true
   },
   "outputs": [],
   "source": []
  }
 ],
 "metadata": {
  "kernelspec": {
   "display_name": "Python 2",
   "language": "python",
   "name": "python2"
  },
  "language_info": {
   "codemirror_mode": {
    "name": "ipython",
    "version": 2
   },
   "file_extension": ".py",
   "mimetype": "text/x-python",
   "name": "python",
   "nbconvert_exporter": "python",
   "pygments_lexer": "ipython2",
   "version": "2.7.11"
  }
 },
 "nbformat": 4,
 "nbformat_minor": 0
}
