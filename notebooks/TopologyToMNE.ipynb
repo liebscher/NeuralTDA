{
 "cells": [
  {
   "cell_type": "code",
   "execution_count": 2,
   "metadata": {},
   "outputs": [],
   "source": [
    "import numpy as np\n",
    "import matplotlib.pyplot as plt"
   ]
  },
  {
   "cell_type": "code",
   "execution_count": 60,
   "metadata": {},
   "outputs": [],
   "source": [
    "# make a STA receptive fields\n",
    "nneurons = 10\n",
    "nstimdims = 16\n",
    "NT = 100\n",
    "ntrials = 25\n",
    "\n",
    "STAs = np.zeros((nneurons, nstimdims))\n",
    "for n in range(nneurons):\n",
    "    STAs[n, n+2:n+4] = 1\n",
    "\n",
    "STAs /=1000\n",
    "# make white noise stimuli\n",
    "A = 3\n",
    "\n",
    "# compute neuron probabilities\n",
    "def simulate(STAs, stim):\n",
    "    \n",
    "    kern = 1+np.exp(A + -1.0*np.einsum('ij, jkl->ikl', STAs, stim))\n",
    "    probs = 1/kern\n",
    "    (a,b,c) = np.shape(probs)\n",
    "    spikes = 1.0*np.less(np.random.rand(a,b,c), probs)\n",
    "    return spikes, probs\n",
    "\n",
    "def compute_STA(stim, spikes):\n",
    "    (nn, nt, ntri) = np.shape(spikes)\n",
    "    sta = np.einsum('ijk, ljk->il', spikes, stim) / (nt*ntri)\n",
    "    return sta\n",
    "\n",
    "def predicted_1_laplacian(probs):\n",
    "    corr = 1 - np.einsum('is,js->ijs', probs[:, :, 0], probs[:, :, 0])\n",
    "    corr_int = np.prod(corr, axis = 2) # integrated probability of not firing\n",
    "    #adj = np.mean((1- corr_int), axis=2)\n",
    "    adj = (1-corr_int)\n",
    "    adj = adj - np.diag(np.diag(adj))\n",
    "    L = np.diag(np.sum(adj, axis=0)) - adj\n",
    "    return L"
   ]
  },
  {
   "cell_type": "code",
   "execution_count": 61,
   "metadata": {},
   "outputs": [
    {
     "data": {
      "image/png": "[encoded data removed]",
      "text/plain": [
       "<matplotlib.figure.Figure at 0x7f6b573486a0>"
      ]
     },
     "metadata": {},
     "output_type": "display_data"
    }
   ],
   "source": [
    "stim = np.random.randn(nstimdims, NT, ntrials)\n",
    "spikes, probs = simulate(STAs, stim)\n",
    "plt.imshow(spikes[:, :, 0])\n",
    "sta = compute_STA(stim, spikes)\n",
    "L = predicted_1_laplacian(probs)\n"
   ]
  },
  {
   "cell_type": "code",
   "execution_count": 79,
   "metadata": {},
   "outputs": [
    {
     "data": {
      "text/plain": [
       "<matplotlib.colorbar.Colorbar at 0x7f6b56ec2b38>"
      ]
     },
     "execution_count": 79,
     "metadata": {},
     "output_type": "execute_result"
    },
    {
     "data": {
      "image/png": "[encoded data removed]",
      "text/plain": [
       "<matplotlib.figure.Figure at 0x7f6b56f23da0>"
      ]
     },
     "metadata": {},
     "output_type": "display_data"
    }
   ],
   "source": [
    "plt.imshow(L, vmin=-0.202, vmax=-0.2012)\n",
    "plt.colorbar()"
   ]
  },
  {
   "cell_type": "code",
   "execution_count": 64,
   "metadata": {},
   "outputs": [],
   "source": [
    "corr = 1 - np.einsum('is,js->ijs', probs[:, :, 0], probs[:, :, 0])\n",
    "corr_int = np.prod(corr, axis = 2) # integrated probability of not firing\n",
    "#adj = np.mean((1- corr_int), axis=2)\n",
    "adj = (1-corr_int)\n",
    "adj = adj - np.diag(np.diag(adj))\n",
    "L = np.diag(np.sum(adj, axis=0)) - adj"
   ]
  },
  {
   "cell_type": "code",
   "execution_count": 72,
   "metadata": {},
   "outputs": [
    {
     "data": {
      "text/plain": [
       "array([[ 1.81409397, -0.20152011, -0.20159182, -0.20158255, -0.20155997,\n",
       "        -0.20156047, -0.20156015, -0.20156439, -0.20156723, -0.20158728],\n",
       "       [-0.20152011,  1.81427128, -0.20161415, -0.20160468, -0.20158209,\n",
       "        -0.20158262, -0.2015823 , -0.20158653, -0.20158939, -0.20160942],\n",
       "       [-0.20159182, -0.20161415,  1.81484651, -0.20167671, -0.20165396,\n",
       "        -0.2016545 , -0.20165423, -0.20165848, -0.20166131, -0.20168134],\n",
       "       [-0.20158255, -0.20160468, -0.20167671,  1.81477225, -0.20164487,\n",
       "        -0.20164523, -0.20164495, -0.20164925, -0.20165203, -0.20167197],\n",
       "       [-0.20155997, -0.20158209, -0.20165396, -0.20164487,  1.81459152,\n",
       "        -0.20162284, -0.20162232, -0.20162667, -0.20162947, -0.20164933],\n",
       "       [-0.20156047, -0.20158262, -0.2016545 , -0.20164523, -0.20162284,\n",
       "         1.81459568, -0.20162299, -0.20162714, -0.20162999, -0.2016499 ],\n",
       "       [-0.20156015, -0.2015823 , -0.20165423, -0.20164495, -0.20162232,\n",
       "        -0.20162299,  1.81459319, -0.201627  , -0.20162966, -0.20164959],\n",
       "       [-0.20156439, -0.20158653, -0.20165848, -0.20164925, -0.20162667,\n",
       "        -0.20162714, -0.201627  ,  1.81462745, -0.20163413, -0.20165386],\n",
       "       [-0.20156723, -0.20158939, -0.20166131, -0.20165203, -0.20162947,\n",
       "        -0.20162999, -0.20162966, -0.20163413,  1.81465008, -0.20165687],\n",
       "       [-0.20158728, -0.20160942, -0.20168134, -0.20167197, -0.20164933,\n",
       "        -0.2016499 , -0.20164959, -0.20165386, -0.20165687,  1.81480956]])"
      ]
     },
     "execution_count": 72,
     "metadata": {},
     "output_type": "execute_result"
    }
   ],
   "source": [
    "L"
   ]
  },
  {
   "cell_type": "code",
   "execution_count": null,
   "metadata": {},
   "outputs": [],
   "source": []
  }
 ],
 "metadata": {
  "kernelspec": {
   "display_name": "Python 3",
   "language": "python",
   "name": "python3"
  },
  "language_info": {
   "codemirror_mode": {
    "name": "ipython",
    "version": 3
   },
   "file_extension": ".py",
   "mimetype": "text/x-python",
   "name": "python",
   "nbconvert_exporter": "python",
   "pygments_lexer": "ipython3",
   "version": "3.6.2"
  }
 },
 "nbformat": 4,
 "nbformat_minor": 2
}
