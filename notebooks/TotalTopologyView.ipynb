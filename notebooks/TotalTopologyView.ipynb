{
 "cells": [
  {
   "cell_type": "code",
   "execution_count": 1,
   "metadata": {
    "collapsed": false
   },
   "outputs": [
    {
     "data": {
      "text/plain": [
       "<module 'neuraltda.SimplicialComplex' from '/Users/brad/GentnerLab/code/NeuralTDA/neuraltda/SimplicialComplex.pyc'>"
      ]
     },
     "execution_count": 1,
     "metadata": {},
     "output_type": "execute_result"
    }
   ],
   "source": [
    "import numpy as np\n",
    "import pickle\n",
    "import neuraltda.SimplicialComplex as sc\n",
    "import matplotlib.pyplot as plt\n",
    "import scipy.linalg as spla\n",
    "%matplotlib inline\n",
    "reload(sc)"
   ]
  },
  {
   "cell_type": "code",
   "execution_count": null,
   "metadata": {
    "collapsed": false
   },
   "outputs": [],
   "source": [
    "resF = ['/Volumes/gentner/btheilma/experiments/B1075/phy041216/Pen01_Lft_AP300_ML700__Site03_Z2700__B1075_cat_P01_S03_1/20170127T183908Z-10.0-5.0-4.0-TotalTopology.pkl',\n",
    "        '/Volumes/gentner/btheilma/experiments/B1235/phy051316/Pen02_Lft_AP200_ML800__Site01_Z3000__B1235_cat_P02_S01_1/20170127T235347Z-10.0-5.0-4.0-TotalTopology.pkl',\n",
    "        '/Volumes/gentner/btheilma/experiments/B1083/klusta/phy040516/Pen03_Lft_AP0_ML1000__Site03_Z2700__B1083_cat_P03_S03_1/20170127T202857Z-10.0-5.0-4.0-TotalTopology.pkl']\n",
    "\n",
    "resF = ['/Volumes/gentner/btheilma/experiments/B1235/phy051316/Pen02_Lft_AP200_ML800__Site01_Z3000__B1235_cat_P02_S01_1/20170127T235347Z-10.0-5.0-4.0-TotalTopology.pkl',\n",
    "        '/Volumes/gentner/btheilma/experiments/B1235/phy051316/Pen02_Lft_AP200_ML800__Site03_Z3000__B1235_cat_P02_S03_1/20170128T005306Z-10.0-5.0-4.0-TotalTopology.pkl',\n",
    "        '/Volumes/gentner/btheilma/experiments/B1235/phy051316/Pen02_Lft_AP200_ML800__Site04_Z3800__B1235_cat_P02_S04_1/20170128T005334Z-10.0-5.0-4.0-TotalTopology.pkl']\n",
    "for resfname in resF:\n",
    "    with open(resfname, 'r') as fd:\n",
    "        resDict = pickle.load(fd)\n",
    "        print(resDict)\n",
    "        ec = 0\n",
    "        for ind, num in enumerate(resDict['raw']['bettis'][1][1:]):\n",
    "            ec = ec + (-1)**ind * num\n",
    "        print(ec)\n",
    "        "
   ]
  },
  {
   "cell_type": "code",
   "execution_count": 18,
   "metadata": {
    "collapsed": false
   },
   "outputs": [],
   "source": [
    "def union(a, b):\n",
    "    return list(set(a) | set(b))\n",
    "\n",
    "def simplexUnion(E1, E2):\n",
    "    ''' Calculate the union of two simplicial complexes represented as lists of generators\n",
    "    '''\n",
    "    sortedE = sorted([E1, E2], key=len)\n",
    "    maxlen = len(sortedE[1])\n",
    "    minlen = len(sortedE[0])\n",
    "    for i in range(maxlen-minlen):\n",
    "        sortedE[0].append([])\n",
    "    newE = []\n",
    "    for ind in range(maxlen):\n",
    "        newE.append(sorted(union(sortedE[0][ind], sortedE[1][ind])))\n",
    "    return newE\n",
    "    \n",
    "def primaryFaces(Q):\n",
    "    L = []\n",
    "    d = len(Q)\n",
    "    Q = list(Q)\n",
    "    Q.extend(Q[:d-2])\n",
    "    for ind in range(d):\n",
    "        s = (Q[ind:ind+(d-1)])\n",
    "        L.append(tuple(sorted(s)))\n",
    "    return L\n",
    "\n",
    "def simplicialChainGroups(maxsimps):\n",
    "    maxdim = max([len(s) for s in maxsimps])\n",
    "    E=[[] for ind in range(maxdim+2)]\n",
    "    K = list(maxsimps)\n",
    "    while(len(K) > 0):\n",
    "        Q = K.pop(0)\n",
    "        L = primaryFaces(Q)\n",
    "        k = len(Q)-1\n",
    "        K = union(K, L)\n",
    "        E[k] = union(E[k], L)\n",
    "        E[k+1] = union(E[k+1], {Q})\n",
    "    for k in range(len(E)):\n",
    "        E[k] = sorted(E[k])\n",
    "    return E\n",
    "\n",
    "def boundaryOperator(Q):\n",
    "    sgn = 1\n",
    "    c = dict()\n",
    "    Ql = list(Q)\n",
    "    for ind in range(len(Ql)):\n",
    "        n = Ql.pop(ind)\n",
    "        c[tuple(Ql)] = sgn\n",
    "        Ql.insert(ind, n)\n",
    "        sgn = -1*sgn\n",
    "    return c\n",
    "\n",
    "def canonicalCoordinates(c, K):\n",
    "    v = np.zeros(len(K))\n",
    "    for ind in range(len(K)):\n",
    "        if c.has_key(K[ind]):\n",
    "            v[ind] = c[K[ind]]\n",
    "    return v\n",
    "\n",
    "def boundaryOperatorMatrix(E):\n",
    "    \n",
    "    nmat = len(E)-1\n",
    "    D = [[] for i in range(nmat)]\n",
    "    for k in range(1, nmat):\n",
    "        m = len(E[k-1])\n",
    "        n = len(E[k])\n",
    "        mat = np.zeros((m, n))\n",
    "        for j in range(n):\n",
    "            c = boundaryOperator(E[k][j])\n",
    "            mat[:, j] = canonicalCoordinates(c, E[k-1])\n",
    "        D[k-1] = mat\n",
    "    return D\n",
    "\n",
    "\n",
    "def projectedCanonicalCoordinates(c, K):\n",
    "    ''' c is dict: {simplex: factor}\n",
    "        K is list of simplices\n",
    "    '''\n",
    "    v = np.zeros(len(K))\n",
    "    for ind in range(len(K)):\n",
    "        if c.has_key(K[ind]):\n",
    "            v[ind] = c[K[ind]]\n",
    "    return v \n",
    "\n",
    "def maskedBoundaryOperatorMatrix(E, Emask):\n",
    "    ''' Emask is the simplicial Chain groups you want to mask in\n",
    "        It is the chain groups of the subsimplex\n",
    "    '''\n",
    "    nmat = len(E)-1\n",
    "    D = [[] for i in range(nmat)]\n",
    "    difflen = len(E) - len(Emask)\n",
    "    for ind in range(difflen):\n",
    "        Emask.append([])\n",
    "    for k in range(1, nmat):\n",
    "        m = len(E[k-1])\n",
    "        n = len(E[k])\n",
    "        mat = np.zeros((m, n))\n",
    "        for j in range(n):\n",
    "            if E[k][j] in Emask[k]:\n",
    "                c = boundaryOperator(E[k][j])\n",
    "                mat[:, j] = canonicalCoordinates(c, E[k-1])\n",
    "        D[k-1] = mat\n",
    "    return D\n",
    "\n",
    "def laplacian(D, dim):\n",
    "    \n",
    "    Di = D[dim]\n",
    "    Di1 = D[dim+1]\n",
    "    return np.dot(Di.T, Di) + np.dot(Di1, Di1.T)\n",
    "\n",
    "def expandBasis(mat, oldK, newK, oldKm1, newKm1):\n",
    "    ''' oldK: source basis 1\n",
    "        newK: source basis 2\n",
    "        oldKm1: target basis 1\n",
    "        newKm1: target basis 2\n",
    "    '''\n",
    "    basSource = sorted(union(oldK, newK))\n",
    "    basTarget = sorted(union(oldKm1, newKm1))\n",
    "    if mat == []:\n",
    "        mat = np.zeros((len(basTarget), len(basSource)))\n",
    "    else:    \n",
    "        for ind, b in enumerate(basSource):\n",
    "            if b not in oldK:\n",
    "                mat = np.insert(mat, ind, 0, axis=1)\n",
    "        for ind, b in enumerate(basTarget):\n",
    "            if b not in oldKm1:\n",
    "                mat = np.insert(mat, ind, 0, axis=0)\n",
    "    return mat\n",
    "\n",
    "def expandBases(D1, D2, E1, E2):\n",
    "    newD1 = []\n",
    "    newD2 = []\n",
    "    minlen = min([len(D1), len(D2)])\n",
    "    for ind in range(minlen-1):\n",
    "        print(ind)\n",
    "        print(D1[ind], D2[ind])\n",
    "        newMat1 = expandBasis(D1[ind], E1[ind+1], E2[ind+1], E1[ind], E2[ind])\n",
    "        newMat2 = expandBasis(D2[ind], E2[ind+1], E1[ind+1], E2[ind], E1[ind])\n",
    "        newD1.append(newMat1)\n",
    "        newD2.append(newMat2)\n",
    "    return (newD1, newD2)\n",
    "\n",
    "def densityMatrices(D, beta_list):\n",
    "\n",
    "    rhos = []\n",
    "    for ind in range(len(D)-3):\n",
    "        L = laplacian(D, ind)\n",
    "        M = spla.expm(beta_list[ind]*L)\n",
    "        M = M / np.trace(M)\n",
    "        rhos.append(M)\n",
    "    return rhos\n",
    "\n",
    "def KLdivergence(rho, sigma):\n",
    "    r, w = np.linalg.eig(rho)\n",
    "    s, w = np.linalg.eig(sigma)\n",
    "    r = np.real(r)\n",
    "    s = np.real(s)\n",
    "    div = np.sum(np.multiply(r, (np.log(r) - np.log(s))/np.log(2.0)))\n",
    "    return div\n",
    "\n",
    "def JSdivergence(rho, sigma):\n",
    "    \n",
    "    M = (rho+sigma)/2.0\n",
    "    return (KLdivergence(rho, M) + KLdivergence(sigma, M))/2.0\n",
    "\n",
    "def JSdivergences(rho, sigma):\n",
    "    \n",
    "    assert (len(rho) == len(sigma))\n",
    "    div = []\n",
    "    for r, s in zip(rho, sigma):\n",
    "        div.append(JSdivergence(r, s))\n",
    "    return div\n",
    "\n",
    "def spectralEntropies(rhos):\n",
    "\n",
    "    ents = []\n",
    "    for ind in range(len(rhos)):\n",
    "        v, w = np.linalg.eig(rhos[ind])\n",
    "        ve = np.log(v)\n",
    "        ent = -np.dot(v.T, ve)\n",
    "        ents.append(ent)\n",
    "    return ents\n",
    "\n",
    "def laplacians(D):\n",
    "\n",
    "    l = len(D)\n",
    "    laps = []\n",
    "    for dim in range(1, len(D)-1):\n",
    "        laps.append(laplacian(D, dim))\n",
    "    return laps \n",
    "\n",
    "def stimSpaceGraph(E, D):\n",
    "    ''' Takes a set of generators for the chain groups \n",
    "    and produces generators for the graph of the space\n",
    "    '''\n",
    "    E[0] = []\n",
    "    Ec = [v for sl in E for v in sl]\n",
    "    adj = np.zeros((len(Ec), len(Ec)))\n",
    "    for k in range(1, len(E)-1):\n",
    "        mat = np.array(D[k])\n",
    "        lm1 = sum([len(E[i]) for i in range(k)])\n",
    "        lm2 = lm1 + len(E[k])\n",
    "        lm3 = sum([len(E[i]) for i in range(k+1)])\n",
    "        lm4 = lm2 + len(E[k+1])\n",
    "        adj[lm1:lm2, lm3:lm4] = np.abs(mat)\n",
    "    adj = (adj + adj.T)\n",
    "    return adj\n",
    "\n",
    "def graphLaplacian(adj):\n",
    "    \n",
    "    D = np.diag(np.sum(adj, axis=0))\n",
    "    L = D - adj\n",
    "    return L"
   ]
  },
  {
   "cell_type": "code",
   "execution_count": null,
   "metadata": {
    "collapsed": false
   },
   "outputs": [],
   "source": [
    "adj = stimSpaceGraph(E, D)\n",
    "L = graphLaplacian(adj)"
   ]
  },
  {
   "cell_type": "code",
   "execution_count": null,
   "metadata": {
    "collapsed": false
   },
   "outputs": [],
   "source": [
    "E = simplicialChainGroups(sorted([(1,2,3)]))\n",
    "D = boundaryOperatorMatrix(E)\n",
    "\n",
    "n = np.random.rand(15, 1200)\n",
    "n = (n > 0.92).astype(int)\n",
    "maxSimpList = sorted(sc.BinaryToMaxSimplex(n, rDup=True))\n",
    "%time E = simplicialChainGroups(maxSimpList)\n",
    "D = boundaryOperatorMatrix(E)\n",
    "adj = stimSpaceGraph(E,D)\n",
    "print(adj)\n",
    "L = graphLaplacian(adj)\n",
    "w, v = np.linalg.eig(L)\n",
    "y, x, dontcare = plt.hist(np.real(w), 100)\n",
    "\n",
    "\n",
    "plt.show()"
   ]
  },
  {
   "cell_type": "code",
   "execution_count": null,
   "metadata": {
    "collapsed": false
   },
   "outputs": [],
   "source": [
    "k=8\n",
    "E[0] = []\n",
    "lm1 = sum([len(E[i]) for i in range(k)])\n",
    "lm2 = lm1 + len(E[k])\n",
    "lm3 = sum([len(E[i]) for i in range(k+1)])\n",
    "lm4 = lm2 + len(E[k+1])\n",
    "print(lm1, lm2, lm3, lm4)"
   ]
  },
  {
   "cell_type": "code",
   "execution_count": null,
   "metadata": {
    "collapsed": false
   },
   "outputs": [],
   "source": [
    "len(E[5])"
   ]
  },
  {
   "cell_type": "code",
   "execution_count": null,
   "metadata": {
    "collapsed": false
   },
   "outputs": [],
   "source": [
    "from scipy.interpolate import interp1d\n",
    "t = np.linspace(0, 30, 1000)\n",
    "avg = np.zeros(len(t))\n",
    "nreps = 60\n",
    "for i in range(nreps):\n",
    "    print(i)\n",
    "    n = np.random.rand(15, 1200)\n",
    "    n = (n > 0.90).astype(int)\n",
    "    maxSimpList = sorted(sc.BinaryToMaxSimplex(n, rDup=True))\n",
    "    E = simplicialChainGroups(maxSimpList)\n",
    "    D = boundaryOperatorMatrix(E)\n",
    "    adj = stimSpaceGraph(E,D)\n",
    "    L = graphLaplacian(adj)\n",
    "    w, v = np.linalg.eig(L)\n",
    "    y, x, dontcare = plt.hist(np.real(w), 100)\n",
    "    f = interp1d(x[:-1], y, kind='zero', bounds_error=False, fill_value=0)\n",
    "    dat = f(t)\n",
    "    avg = avg + dat\n",
    "avg = avg / float(nreps)\n",
    "plt.figure(figsize=(11,11))\n",
    "\n",
    "plt.plot(t, avg)\n",
    "plt.show()"
   ]
  },
  {
   "cell_type": "code",
   "execution_count": null,
   "metadata": {
    "collapsed": false
   },
   "outputs": [],
   "source": [
    "avg.shape"
   ]
  },
  {
   "cell_type": "code",
   "execution_count": null,
   "metadata": {
    "collapsed": false
   },
   "outputs": [],
   "source": [
    "E = simplicialChainGroups(sorted([(1,2), (3,4), (4,5), (1,4), (2,5)]), 1)\n",
    "D = boundaryOperatorMatrix(E)\n",
    "print(E)\n",
    "print(D)"
   ]
  },
  {
   "cell_type": "code",
   "execution_count": null,
   "metadata": {
    "collapsed": false
   },
   "outputs": [],
   "source": [
    "n = np.random.rand(15, 1200)\n",
    "n = (n > 0.97).astype(int)\n",
    "maxSimpList = sorted(sc.BinaryToMaxSimplex(n, rDup=True))\n",
    "%time E = simplicialChainGroups(maxSimpList)\n",
    "D = boundaryOperatorMatrix(E)\n",
    "L = laplacian(D, 2)\n",
    "rhos = densityMatrices(D, np.ones(len(D)))\n",
    "print(spectralEntropies(rhos))\n"
   ]
  },
  {
   "cell_type": "code",
   "execution_count": null,
   "metadata": {
    "collapsed": false,
    "scrolled": true
   },
   "outputs": [],
   "source": [
    "rhos"
   ]
  },
  {
   "cell_type": "code",
   "execution_count": null,
   "metadata": {
    "collapsed": true
   },
   "outputs": [],
   "source": [
    "D = boundaryOperatorMatrix(E)\n",
    "w, v = np.linalg.eig(laplacian(D, 2))\n",
    "y, x, dontcare = plt.hist(np.real(w), 100)\n",
    "y"
   ]
  },
  {
   "cell_type": "code",
   "execution_count": null,
   "metadata": {
    "collapsed": false
   },
   "outputs": [],
   "source": [
    "c = boundaryOperator((1,2,3))\n",
    "E = [(1,2), (1,3), (2,3), (4,5)]\n",
    "canonicalCoordinates(c, E)"
   ]
  },
  {
   "cell_type": "code",
   "execution_count": null,
   "metadata": {
    "collapsed": false
   },
   "outputs": [],
   "source": [
    "set([1,2])"
   ]
  },
  {
   "cell_type": "code",
   "execution_count": null,
   "metadata": {
    "collapsed": false
   },
   "outputs": [],
   "source": [
    "set([]).union(*[[1,2], [2,3]])"
   ]
  },
  {
   "cell_type": "code",
   "execution_count": null,
   "metadata": {
    "collapsed": false
   },
   "outputs": [],
   "source": [
    "tuple([[1,2],[3,4]])"
   ]
  },
  {
   "cell_type": "code",
   "execution_count": null,
   "metadata": {
    "collapsed": false
   },
   "outputs": [],
   "source": [
    "np.outer([-4, -2, 3], [1,3,1])"
   ]
  },
  {
   "cell_type": "markdown",
   "metadata": {
    "collapsed": true
   },
   "source": [
    "# Expanding bases"
   ]
  },
  {
   "cell_type": "code",
   "execution_count": null,
   "metadata": {
    "collapsed": false
   },
   "outputs": [],
   "source": [
    "n = np.random.rand(15, 1200)\n",
    "n = (n > 0.92).astype(int)\n",
    "maxSimpList = sorted(sc.BinaryToMaxSimplex(n, rDup=True))\n",
    "%time E = simplicialChainGroups(maxSimpList)\n",
    "D = boundaryOperatorMatrix(E)\n",
    "\n",
    "n2 = np.random.rand(15, 1200)\n",
    "n2 = (n2 > 0.92).astype(int)\n",
    "maxSimpList2 = sorted(sc.BinaryToMaxSimplex(n2, rDup=True))\n",
    "%time E2 = simplicialChainGroups(maxSimpList2)\n",
    "D2 = boundaryOperatorMatrix(E2)"
   ]
  },
  {
   "cell_type": "code",
   "execution_count": null,
   "metadata": {
    "collapsed": false
   },
   "outputs": [],
   "source": [
    "# E[i] is the basis for the i-1 chain group\n",
    "# if mat = D[i] then mat: C_{i} to C_{i-1} \n",
    "# so new bases for D[i] is E[i+1], E[i]\n",
    "\n",
    "newD_4 = expandBasis(D[4], E[5], E2[5], E[4], E2[4])\n",
    "newD2_4 = expandBasis(D2[4], E2[5], E[5], E2[4], E[4])"
   ]
  },
  {
   "cell_type": "code",
   "execution_count": null,
   "metadata": {
    "collapsed": false
   },
   "outputs": [],
   "source": [
    "E[6]"
   ]
  },
  {
   "cell_type": "code",
   "execution_count": null,
   "metadata": {
    "collapsed": false
   },
   "outputs": [],
   "source": [
    "newD2_4.shape"
   ]
  },
  {
   "cell_type": "code",
   "execution_count": 3,
   "metadata": {
    "collapsed": false
   },
   "outputs": [
    {
     "name": "stdout",
     "output_type": "stream",
     "text": [
      "0\n",
      "(array([[ 1.,  1.,  1.]]), array([[ 1.,  1.,  1.,  1.]]))\n",
      "1\n",
      "(array([[-1., -1.,  0.],\n",
      "       [ 1.,  0., -1.],\n",
      "       [ 0.,  1.,  1.]]), array([[-1., -1., -1.,  0.,  0.,  0.],\n",
      "       [ 1.,  0.,  0., -1., -1.,  0.],\n",
      "       [ 0.,  1.,  0.,  1.,  0., -1.],\n",
      "       [ 0.,  0.,  1.,  0.,  1.,  1.]]))\n",
      "2\n",
      "(array([[ 1.],\n",
      "       [-1.],\n",
      "       [ 1.]]), array([[ 1.,  1.,  0.,  0.],\n",
      "       [-1.,  0.,  1.,  0.],\n",
      "       [ 0., -1., -1.,  0.],\n",
      "       [ 1.,  0.,  0.,  1.],\n",
      "       [ 0.,  1.,  0., -1.],\n",
      "       [ 0.,  0.,  1.,  1.]]))\n"
     ]
    },
    {
     "name": "stderr",
     "output_type": "stream",
     "text": [
      "/Users/brad/anaconda/envs/neuraltda/lib/python2.7/site-packages/ipykernel/__main__.py:119: DeprecationWarning: elementwise == comparison failed; this will raise an error in the future.\n"
     ]
    }
   ],
   "source": [
    "ms1 = sorted([(1,2,3), (3,4), (4,5), (4,6), (5, 6)])\n",
    "ms2 = sorted([(1,2,3), (4,5,6), (3,4)])\n",
    "ms1 = sorted([(1,2,3)])\n",
    "ms2 = sorted([(4,5,6,7)])\n",
    "msTot = union(ms1, ms2)\n",
    "E1 = simplicialChainGroups(ms1)\n",
    "E2 = simplicialChainGroups(ms2)\n",
    "Etot = simplicialChainGroups(msTot)\n",
    "D1 = boundaryOperatorMatrix(E1)\n",
    "D2 = boundaryOperatorMatrix(E2)\n",
    "t = expandBases(D1, D2, E1, E2)"
   ]
  },
  {
   "cell_type": "code",
   "execution_count": 4,
   "metadata": {
    "collapsed": false
   },
   "outputs": [],
   "source": [
    "D1exp = maskedBoundaryOperatorMatrix(Etot, E1)\n",
    "D2exp = maskedBoundaryOperatorMatrix(Etot, E2)"
   ]
  },
  {
   "cell_type": "code",
   "execution_count": 7,
   "metadata": {
    "collapsed": false
   },
   "outputs": [],
   "source": [
    "rho1exp= densityMatrices(D1exp, np.ones(len(D1)))"
   ]
  },
  {
   "cell_type": "code",
   "execution_count": 9,
   "metadata": {
    "collapsed": false
   },
   "outputs": [
    {
     "name": "stdout",
     "output_type": "stream",
     "text": [
      "CPU times: user 35.7 ms, sys: 72 µs, total: 35.7 ms\n",
      "Wall time: 35.8 ms\n",
      "CPU times: user 43.2 ms, sys: 259 µs, total: 43.5 ms\n",
      "Wall time: 43.8 ms\n"
     ]
    }
   ],
   "source": [
    "n = np.random.rand(15, 1200)\n",
    "n = (n > 0.92).astype(int)\n",
    "maxSimpList = sorted(sc.BinaryToMaxSimplex(n, rDup=True))\n",
    "%time E1 = simplicialChainGroups(maxSimpList)\n",
    "D1 = boundaryOperatorMatrix(E1)\n",
    "\n",
    "n2 = np.random.rand(15, 1200)\n",
    "n2 = (n2 > 0.92).astype(int)\n",
    "maxSimpList2 = sorted(sc.BinaryToMaxSimplex(n2, rDup=True))\n",
    "%time E2 = simplicialChainGroups(maxSimpList2)\n",
    "D2 = boundaryOperatorMatrix(E2)\n",
    "\n",
    "Etot = simplexUnion(E1, E2)\n",
    "D1exp = maskedBoundaryOperatorMatrix(Etot, E1)\n",
    "D2exp = maskedBoundaryOperatorMatrix(Etot, E2)\n",
    "rho1exp= densityMatrices(D1exp, np.ones(len(D1)))\n",
    "rho2exp = densityMatrices(D2exp, np.ones(len(D2)))"
   ]
  },
  {
   "cell_type": "code",
   "execution_count": 10,
   "metadata": {
    "collapsed": false
   },
   "outputs": [
    {
     "data": {
      "text/plain": [
       "[array([[ 0.06666667,  0.        ,  0.        ,  0.        ,  0.        ,\n",
       "          0.        ,  0.        ,  0.        ,  0.        ,  0.        ,\n",
       "          0.        ,  0.        ,  0.        ,  0.        ,  0.        ],\n",
       "        [ 0.        ,  0.06666667,  0.        ,  0.        ,  0.        ,\n",
       "          0.        ,  0.        ,  0.        ,  0.        ,  0.        ,\n",
       "          0.        ,  0.        ,  0.        ,  0.        ,  0.        ],\n",
       "        [ 0.        ,  0.        ,  0.06666667,  0.        ,  0.        ,\n",
       "          0.        ,  0.        ,  0.        ,  0.        ,  0.        ,\n",
       "          0.        ,  0.        ,  0.        ,  0.        ,  0.        ],\n",
       "        [ 0.        ,  0.        ,  0.        ,  0.06666667,  0.        ,\n",
       "          0.        ,  0.        ,  0.        ,  0.        ,  0.        ,\n",
       "          0.        ,  0.        ,  0.        ,  0.        ,  0.        ],\n",
       "        [ 0.        ,  0.        ,  0.        ,  0.        ,  0.06666667,\n",
       "          0.        ,  0.        ,  0.        ,  0.        ,  0.        ,\n",
       "          0.        ,  0.        ,  0.        ,  0.        ,  0.        ],\n",
       "        [ 0.        ,  0.        ,  0.        ,  0.        ,  0.        ,\n",
       "          0.06666667,  0.        ,  0.        ,  0.        ,  0.        ,\n",
       "          0.        ,  0.        ,  0.        ,  0.        ,  0.        ],\n",
       "        [ 0.        ,  0.        ,  0.        ,  0.        ,  0.        ,\n",
       "          0.        ,  0.06666667,  0.        ,  0.        ,  0.        ,\n",
       "          0.        ,  0.        ,  0.        ,  0.        ,  0.        ],\n",
       "        [ 0.        ,  0.        ,  0.        ,  0.        ,  0.        ,\n",
       "          0.        ,  0.        ,  0.06666667,  0.        ,  0.        ,\n",
       "          0.        ,  0.        ,  0.        ,  0.        ,  0.        ],\n",
       "        [ 0.        ,  0.        ,  0.        ,  0.        ,  0.        ,\n",
       "          0.        ,  0.        ,  0.        ,  0.06666667,  0.        ,\n",
       "          0.        ,  0.        ,  0.        ,  0.        ,  0.        ],\n",
       "        [ 0.        ,  0.        ,  0.        ,  0.        ,  0.        ,\n",
       "          0.        ,  0.        ,  0.        ,  0.        ,  0.06666667,\n",
       "          0.        ,  0.        ,  0.        ,  0.        ,  0.        ],\n",
       "        [ 0.        ,  0.        ,  0.        ,  0.        ,  0.        ,\n",
       "          0.        ,  0.        ,  0.        ,  0.        ,  0.        ,\n",
       "          0.06666667,  0.        ,  0.        ,  0.        ,  0.        ],\n",
       "        [ 0.        ,  0.        ,  0.        ,  0.        ,  0.        ,\n",
       "          0.        ,  0.        ,  0.        ,  0.        ,  0.        ,\n",
       "          0.        ,  0.06666667,  0.        ,  0.        ,  0.        ],\n",
       "        [ 0.        ,  0.        ,  0.        ,  0.        ,  0.        ,\n",
       "          0.        ,  0.        ,  0.        ,  0.        ,  0.        ,\n",
       "          0.        ,  0.        ,  0.06666667,  0.        ,  0.        ],\n",
       "        [ 0.        ,  0.        ,  0.        ,  0.        ,  0.        ,\n",
       "          0.        ,  0.        ,  0.        ,  0.        ,  0.        ,\n",
       "          0.        ,  0.        ,  0.        ,  0.06666667,  0.        ],\n",
       "        [ 0.        ,  0.        ,  0.        ,  0.        ,  0.        ,\n",
       "          0.        ,  0.        ,  0.        ,  0.        ,  0.        ,\n",
       "          0.        ,  0.        ,  0.        ,  0.        ,  0.06666667]]),\n",
       " array([[  1.14208519e-02,   4.71741578e-03,   4.19314752e-03, ...,\n",
       "           1.26356076e-05,   4.63213083e-05,   1.11707225e-04],\n",
       "        [  4.71741578e-03,   9.11061029e-03,   4.50277172e-03, ...,\n",
       "           3.16711874e-06,   3.09891317e-06,   1.20040961e-05],\n",
       "        [  4.19314752e-03,   4.50277172e-03,   9.23717684e-03, ...,\n",
       "          -1.02645350e-06,  -1.58643822e-05,  -1.92547760e-05],\n",
       "        ..., \n",
       "        [  1.26356076e-05,   3.16711874e-06,  -1.02645350e-06, ...,\n",
       "           9.06441639e-03,   4.52484088e-03,  -4.52079749e-03],\n",
       "        [  4.63213083e-05,   3.09891317e-06,  -1.58643822e-05, ...,\n",
       "           4.52484088e-03,   9.09981392e-03,   4.55832327e-03],\n",
       "        [  1.11707225e-04,   1.20040961e-05,  -1.92547760e-05, ...,\n",
       "          -4.52079749e-03,   4.55832327e-03,   9.13969424e-03]]),\n",
       " array([[  6.96942409e-03,   6.68055699e-03,   5.80450057e-03, ...,\n",
       "           5.52154478e-04,   9.20779338e-04,   0.00000000e+00],\n",
       "        [  6.68055699e-03,   1.01749103e-02,   5.69437184e-03, ...,\n",
       "           5.72071221e-04,   8.73201044e-04,   0.00000000e+00],\n",
       "        [  5.80450057e-03,   5.69437184e-03,   1.03254112e-02, ...,\n",
       "           1.82816850e-04,   4.61359813e-04,   0.00000000e+00],\n",
       "        ..., \n",
       "        [  5.52154478e-04,   5.72071221e-04,   1.82816850e-04, ...,\n",
       "           2.10045221e-03,   1.51329273e-03,   0.00000000e+00],\n",
       "        [  9.20779338e-04,   8.73201044e-04,   4.61359813e-04, ...,\n",
       "           1.51329273e-03,   2.47787627e-03,   0.00000000e+00],\n",
       "        [  0.00000000e+00,   0.00000000e+00,   0.00000000e+00, ...,\n",
       "           0.00000000e+00,   0.00000000e+00,   4.19363670e-07]])]"
      ]
     },
     "execution_count": 10,
     "metadata": {},
     "output_type": "execute_result"
    }
   ],
   "source": []
  },
  {
   "cell_type": "code",
   "execution_count": 11,
   "metadata": {
    "collapsed": false
   },
   "outputs": [
    {
     "data": {
      "text/plain": [
       "[array([[ 0.06666667,  0.        ,  0.        ,  0.        ,  0.        ,\n",
       "          0.        ,  0.        ,  0.        ,  0.        ,  0.        ,\n",
       "          0.        ,  0.        ,  0.        ,  0.        ,  0.        ],\n",
       "        [ 0.        ,  0.06666667,  0.        ,  0.        ,  0.        ,\n",
       "          0.        ,  0.        ,  0.        ,  0.        ,  0.        ,\n",
       "          0.        ,  0.        ,  0.        ,  0.        ,  0.        ],\n",
       "        [ 0.        ,  0.        ,  0.06666667,  0.        ,  0.        ,\n",
       "          0.        ,  0.        ,  0.        ,  0.        ,  0.        ,\n",
       "          0.        ,  0.        ,  0.        ,  0.        ,  0.        ],\n",
       "        [ 0.        ,  0.        ,  0.        ,  0.06666667,  0.        ,\n",
       "          0.        ,  0.        ,  0.        ,  0.        ,  0.        ,\n",
       "          0.        ,  0.        ,  0.        ,  0.        ,  0.        ],\n",
       "        [ 0.        ,  0.        ,  0.        ,  0.        ,  0.06666667,\n",
       "          0.        ,  0.        ,  0.        ,  0.        ,  0.        ,\n",
       "          0.        ,  0.        ,  0.        ,  0.        ,  0.        ],\n",
       "        [ 0.        ,  0.        ,  0.        ,  0.        ,  0.        ,\n",
       "          0.06666667,  0.        ,  0.        ,  0.        ,  0.        ,\n",
       "          0.        ,  0.        ,  0.        ,  0.        ,  0.        ],\n",
       "        [ 0.        ,  0.        ,  0.        ,  0.        ,  0.        ,\n",
       "          0.        ,  0.06666667,  0.        ,  0.        ,  0.        ,\n",
       "          0.        ,  0.        ,  0.        ,  0.        ,  0.        ],\n",
       "        [ 0.        ,  0.        ,  0.        ,  0.        ,  0.        ,\n",
       "          0.        ,  0.        ,  0.06666667,  0.        ,  0.        ,\n",
       "          0.        ,  0.        ,  0.        ,  0.        ,  0.        ],\n",
       "        [ 0.        ,  0.        ,  0.        ,  0.        ,  0.        ,\n",
       "          0.        ,  0.        ,  0.        ,  0.06666667,  0.        ,\n",
       "          0.        ,  0.        ,  0.        ,  0.        ,  0.        ],\n",
       "        [ 0.        ,  0.        ,  0.        ,  0.        ,  0.        ,\n",
       "          0.        ,  0.        ,  0.        ,  0.        ,  0.06666667,\n",
       "          0.        ,  0.        ,  0.        ,  0.        ,  0.        ],\n",
       "        [ 0.        ,  0.        ,  0.        ,  0.        ,  0.        ,\n",
       "          0.        ,  0.        ,  0.        ,  0.        ,  0.        ,\n",
       "          0.06666667,  0.        ,  0.        ,  0.        ,  0.        ],\n",
       "        [ 0.        ,  0.        ,  0.        ,  0.        ,  0.        ,\n",
       "          0.        ,  0.        ,  0.        ,  0.        ,  0.        ,\n",
       "          0.        ,  0.06666667,  0.        ,  0.        ,  0.        ],\n",
       "        [ 0.        ,  0.        ,  0.        ,  0.        ,  0.        ,\n",
       "          0.        ,  0.        ,  0.        ,  0.        ,  0.        ,\n",
       "          0.        ,  0.        ,  0.06666667,  0.        ,  0.        ],\n",
       "        [ 0.        ,  0.        ,  0.        ,  0.        ,  0.        ,\n",
       "          0.        ,  0.        ,  0.        ,  0.        ,  0.        ,\n",
       "          0.        ,  0.        ,  0.        ,  0.06666667,  0.        ],\n",
       "        [ 0.        ,  0.        ,  0.        ,  0.        ,  0.        ,\n",
       "          0.        ,  0.        ,  0.        ,  0.        ,  0.        ,\n",
       "          0.        ,  0.        ,  0.        ,  0.        ,  0.06666667]]),\n",
       " array([[  9.19262206e-03,   4.54768622e-03,   4.46071664e-03, ...,\n",
       "          -4.20281968e-06,  -1.62056114e-05,  -3.15864367e-05],\n",
       "        [  4.54768622e-03,   9.33056629e-03,   4.50127174e-03, ...,\n",
       "           4.58744139e-05,  -1.07056056e-05,   1.79398156e-05],\n",
       "        [  4.46071664e-03,   4.50127174e-03,   9.38512229e-03, ...,\n",
       "           3.44258357e-05,   6.12355777e-05,   6.20073589e-05],\n",
       "        ..., \n",
       "        [ -4.20281968e-06,   4.58744139e-05,   3.44258357e-05, ...,\n",
       "           9.55454634e-03,   4.48770856e-03,  -4.42824212e-03],\n",
       "        [ -1.62056114e-05,  -1.07056056e-05,   6.12355777e-05, ...,\n",
       "           4.48770856e-03,   9.46570222e-03,   4.53652481e-03],\n",
       "        [ -3.15864367e-05,   1.79398156e-05,   6.20073589e-05, ...,\n",
       "          -4.42824212e-03,   4.53652481e-03,   9.24501198e-03]]),\n",
       " array([[  2.65270830e-03,   0.00000000e+00,   0.00000000e+00, ...,\n",
       "          -4.81585545e-04,   0.00000000e+00,  -2.28740381e-04],\n",
       "        [  0.00000000e+00,   4.56491892e-07,   0.00000000e+00, ...,\n",
       "           0.00000000e+00,   0.00000000e+00,   0.00000000e+00],\n",
       "        [  0.00000000e+00,   0.00000000e+00,   4.56491892e-07, ...,\n",
       "           0.00000000e+00,   0.00000000e+00,   0.00000000e+00],\n",
       "        ..., \n",
       "        [ -4.81585545e-04,   0.00000000e+00,   0.00000000e+00, ...,\n",
       "           3.93737887e-03,   0.00000000e+00,  -1.07612972e-03],\n",
       "        [  0.00000000e+00,   0.00000000e+00,   0.00000000e+00, ...,\n",
       "           0.00000000e+00,   4.56491892e-07,   0.00000000e+00],\n",
       "        [ -2.28740381e-04,   0.00000000e+00,   0.00000000e+00, ...,\n",
       "          -1.07612972e-03,   0.00000000e+00,   2.79393658e-03]])]"
      ]
     },
     "execution_count": 11,
     "metadata": {},
     "output_type": "execute_result"
    }
   ],
   "source": []
  },
  {
   "cell_type": "code",
   "execution_count": 19,
   "metadata": {
    "collapsed": false
   },
   "outputs": [
    {
     "data": {
      "text/plain": [
       "[0.0, 3.8238864716669076, 0.19309699926754353]"
      ]
     },
     "execution_count": 19,
     "metadata": {},
     "output_type": "execute_result"
    }
   ],
   "source": [
    "JSdivergences(rho1exp, rho2exp)"
   ]
  },
  {
   "cell_type": "code",
   "execution_count": null,
   "metadata": {
    "collapsed": false
   },
   "outputs": [],
   "source": [
    "Dmax2 = boundaryOperatorMatrix(Etot)"
   ]
  },
  {
   "cell_type": "code",
   "execution_count": null,
   "metadata": {
    "collapsed": false
   },
   "outputs": [],
   "source": [
    "Dmax2"
   ]
  },
  {
   "cell_type": "code",
   "execution_count": null,
   "metadata": {
    "collapsed": true
   },
   "outputs": [],
   "source": []
  }
 ],
 "metadata": {
  "kernelspec": {
   "display_name": "Python 2",
   "language": "python",
   "name": "python2"
  },
  "language_info": {
   "codemirror_mode": {
    "name": "ipython",
    "version": 2
   },
   "file_extension": ".py",
   "mimetype": "text/x-python",
   "name": "python",
   "nbconvert_exporter": "python",
   "pygments_lexer": "ipython2",
   "version": "2.7.13"
  }
 },
 "nbformat": 4,
 "nbformat_minor": 0
}
