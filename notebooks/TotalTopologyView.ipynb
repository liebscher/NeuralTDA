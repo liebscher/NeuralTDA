{
 "cells": [
  {
   "cell_type": "code",
   "execution_count": 219,
   "metadata": {
    "collapsed": false
   },
   "outputs": [
    {
     "data": {
      "text/plain": [
       "<module 'neuraltda.SimplicialComplex' from '/Users/brad/GentnerLab/code/NeuralTDA/neuraltda/SimplicialComplex.pyc'>"
      ]
     },
     "execution_count": 219,
     "metadata": {},
     "output_type": "execute_result"
    }
   ],
   "source": [
    "import numpy as np\n",
    "import pickle\n",
    "import neuraltda.SimplicialComplex as sc\n",
    "import matplotlib.pyplot as plt\n",
    "import scipy.linalg as spla\n",
    "%matplotlib inline\n",
    "reload(sc)"
   ]
  },
  {
   "cell_type": "code",
   "execution_count": 10,
   "metadata": {
    "collapsed": false
   },
   "outputs": [
    {
     "name": "stdout",
     "output_type": "stream",
     "text": [
      "{'raw': {'bettis': [11963, [1, 25, 779, 61, 0]]}}\n",
      "-693\n",
      "{'raw': {'bettis': [15765, [1, 11, 837, 1472, 0, 0, 0, 0, 0, 0]]}}\n",
      "646\n",
      "{'raw': {'bettis': [10170, [1, 34, 623, 113, 0]]}}\n",
      "-476\n"
     ]
    }
   ],
   "source": [
    "resF = ['/Volumes/gentner/btheilma/experiments/B1075/phy041216/Pen01_Lft_AP300_ML700__Site03_Z2700__B1075_cat_P01_S03_1/20170127T183908Z-10.0-5.0-4.0-TotalTopology.pkl',\n",
    "        '/Volumes/gentner/btheilma/experiments/B1235/phy051316/Pen02_Lft_AP200_ML800__Site01_Z3000__B1235_cat_P02_S01_1/20170127T235347Z-10.0-5.0-4.0-TotalTopology.pkl',\n",
    "        '/Volumes/gentner/btheilma/experiments/B1083/klusta/phy040516/Pen03_Lft_AP0_ML1000__Site03_Z2700__B1083_cat_P03_S03_1/20170127T202857Z-10.0-5.0-4.0-TotalTopology.pkl']\n",
    "\n",
    "resF = ['/Volumes/gentner/btheilma/experiments/B1235/phy051316/Pen02_Lft_AP200_ML800__Site01_Z3000__B1235_cat_P02_S01_1/20170127T235347Z-10.0-5.0-4.0-TotalTopology.pkl',\n",
    "        '/Volumes/gentner/btheilma/experiments/B1235/phy051316/Pen02_Lft_AP200_ML800__Site03_Z3000__B1235_cat_P02_S03_1/20170128T005306Z-10.0-5.0-4.0-TotalTopology.pkl',\n",
    "        '/Volumes/gentner/btheilma/experiments/B1235/phy051316/Pen02_Lft_AP200_ML800__Site04_Z3800__B1235_cat_P02_S04_1/20170128T005334Z-10.0-5.0-4.0-TotalTopology.pkl']\n",
    "for resfname in resF:\n",
    "    with open(resfname, 'r') as fd:\n",
    "        resDict = pickle.load(fd)\n",
    "        print(resDict)\n",
    "        ec = 0\n",
    "        for ind, num in enumerate(resDict['raw']['bettis'][1][1:]):\n",
    "            ec = ec + (-1)**ind * num\n",
    "        print(ec)\n",
    "        "
   ]
  },
  {
   "cell_type": "code",
   "execution_count": 3,
   "metadata": {
    "collapsed": false
   },
   "outputs": [
    {
     "data": {
      "text/plain": [
       "{'raw': {'bettis': [488, [1, 150, 21, 0]]}}"
      ]
     },
     "execution_count": 3,
     "metadata": {},
     "output_type": "execute_result"
    }
   ],
   "source": [
    "resDict"
   ]
  },
  {
   "cell_type": "code",
   "execution_count": 12,
   "metadata": {
    "collapsed": false
   },
   "outputs": [],
   "source": [
    "E = dict()\n",
    "E[3] = 1"
   ]
  },
  {
   "cell_type": "code",
   "execution_count": 13,
   "metadata": {
    "collapsed": false
   },
   "outputs": [
    {
     "data": {
      "text/plain": [
       "{3: 1}"
      ]
     },
     "execution_count": 13,
     "metadata": {},
     "output_type": "execute_result"
    }
   ],
   "source": [
    "E"
   ]
  },
  {
   "cell_type": "code",
   "execution_count": 15,
   "metadata": {
    "collapsed": false
   },
   "outputs": [],
   "source": [
    "E=[[] for ind in range(4)]"
   ]
  },
  {
   "cell_type": "code",
   "execution_count": 16,
   "metadata": {
    "collapsed": false
   },
   "outputs": [
    {
     "data": {
      "text/plain": [
       "[[], [], [], []]"
      ]
     },
     "execution_count": 16,
     "metadata": {},
     "output_type": "execute_result"
    }
   ],
   "source": [
    "E"
   ]
  },
  {
   "cell_type": "code",
   "execution_count": 345,
   "metadata": {
    "collapsed": false
   },
   "outputs": [],
   "source": [
    "def union(a, b):\n",
    "    return list(set(a) | set(b))\n",
    "\n",
    "def primaryFaces(Q):\n",
    "    L = []\n",
    "    d = len(Q)\n",
    "    Q = list(Q)\n",
    "    Q.extend(Q[:d-2])\n",
    "    for ind in range(d):\n",
    "        s = (Q[ind:ind+(d-1)])\n",
    "        L.append(tuple(sorted(s)))\n",
    "    return L\n",
    "\n",
    "def simplicialChainGroups(maxsimps):\n",
    "    maxdim = max([len(s) for s in maxsimps])\n",
    "    E=[[] for ind in range(maxdim+2)]\n",
    "    K = list(maxsimps)\n",
    "    while(len(K) > 0):\n",
    "        Q = K.pop(0)\n",
    "        L = primaryFaces(Q)\n",
    "        k = len(Q)-1\n",
    "        K = union(K, L)\n",
    "        E[k] = union(E[k], L)\n",
    "        E[k+1] = union(E[k+1], {Q})\n",
    "    for k in range(len(E)):\n",
    "        E[k] = sorted(E[k])\n",
    "    return E\n",
    "\n",
    "def boundaryOperator(Q):\n",
    "    sgn = 1\n",
    "    c = dict()\n",
    "    Ql = list(Q)\n",
    "    for ind in range(len(Ql)):\n",
    "        n = Ql.pop(ind)\n",
    "        c[tuple(Ql)] = sgn\n",
    "        Ql.insert(ind, n)\n",
    "        sgn = -1*sgn\n",
    "    return c\n",
    "\n",
    "def canonicalCoordinates(c, K):\n",
    "    v = np.zeros(len(K))\n",
    "    for ind in range(len(K)):\n",
    "        if c.has_key(K[ind]):\n",
    "            v[ind] = c[K[ind]]\n",
    "    return v\n",
    "\n",
    "def boundaryOperatorMatrix(E):\n",
    "    \n",
    "    nmat = len(E)\n",
    "    D = [[] for i in range(nmat)]\n",
    "    for k in range(1, nmat):\n",
    "        m = len(E[k-1])\n",
    "        n = len(E[k])\n",
    "        mat = np.zeros((m, n))\n",
    "        for j in range(n):\n",
    "            c = boundaryOperator(E[k][j])\n",
    "            mat[:, j] = canonicalCoordinates(c, E[k-1])\n",
    "            D[k-1] = mat\n",
    "    return D\n",
    "\n",
    "def laplacian(D, dim):\n",
    "    \n",
    "    Di = D[dim]\n",
    "    Di1 = D[dim+1]\n",
    "    return np.dot(Di.T, Di) + np.dot(Di1, Di1.T)\n",
    "\n",
    "def expandBasis(mat, oldK, newK, oldKm1, newKm1):\n",
    "    \n",
    "    basSource = sorted(union(oldK, newK))\n",
    "    basTarget = sorted(union(oldKm1, newKm1))\n",
    "    for ind, b in enumerate(basSource):\n",
    "        if b not in oldK:\n",
    "            mat = np.insert(mat, ind, 0, axis=1)\n",
    "    for ind, b in enumerate(basTarget):\n",
    "        if b not in oldKm1:\n",
    "            mat = np.insert(mat, ind, 0, axis=0)\n",
    "    return mat\n",
    "\n",
    "def expandBases(D1, D2, E1, E2):\n",
    "    pass\n",
    "\n",
    "def densityMatrices(D, beta_list):\n",
    "\n",
    "    rhos = []\n",
    "    for ind in range(len(D)-3):\n",
    "        L = laplacian(D, ind)\n",
    "        M = spla.expm(beta_list[ind]*L)\n",
    "        M = M / np.trace(M)\n",
    "        rhos.append(M)\n",
    "    return rhos\n",
    "\n",
    "def spectralEntropies(rhos):\n",
    "\n",
    "    ents = []\n",
    "    for ind in range(len(rhos)):\n",
    "        v, w = np.linalg.eig(rhos[ind])\n",
    "        ve = np.log(v)\n",
    "        ent = -np.dot(v.T, ve)\n",
    "        ents.append(ent)\n",
    "    return ents\n",
    "\n",
    "def stimSpaceGraph(E, D):\n",
    "    ''' Takes a set of generators for the chain groups \n",
    "    and produces generators for the graph of the space\n",
    "    '''\n",
    "    E[0] = []\n",
    "    Ec = [v for sl in E for v in sl]\n",
    "    adj = np.zeros((len(Ec), len(Ec)))\n",
    "    for k in range(1, len(E)-1):\n",
    "        mat = np.array(D[k])\n",
    "        lm1 = sum([len(E[i]) for i in range(k)])\n",
    "        lm2 = lm1 + len(E[k])\n",
    "        lm3 = sum([len(E[i]) for i in range(k+1)])\n",
    "        lm4 = lm2 + len(E[k+1])\n",
    "        adj[lm1:lm2, lm3:lm4] = np.abs(mat)\n",
    "    adj = (adj + adj.T)\n",
    "    return adj\n",
    "\n",
    "def graphLaplacian(adj):\n",
    "    \n",
    "    D = np.diag(np.sum(adj, axis=0))\n",
    "    L = D - adj\n",
    "    return L"
   ]
  },
  {
   "cell_type": "code",
   "execution_count": 338,
   "metadata": {
    "collapsed": false
   },
   "outputs": [
    {
     "name": "stdout",
     "output_type": "stream",
     "text": [
      "(113, 113)\n",
      "(0, 15, 15, 89)\n",
      "(15, 74)\n",
      "(15, 89, 89, 110)\n",
      "(74, 21)\n",
      "(89, 110, 110, 113)\n",
      "(21, 3)\n",
      "(110, 113, 113, 113)\n",
      "(0,)\n"
     ]
    }
   ],
   "source": [
    "adj = stimSpaceGraph(E, D)\n",
    "L = graphLaplacian(adj)"
   ]
  },
  {
   "cell_type": "code",
   "execution_count": 350,
   "metadata": {
    "collapsed": false
   },
   "outputs": [
    {
     "name": "stdout",
     "output_type": "stream",
     "text": [
      "CPU times: user 324 ms, sys: 1.05 ms, total: 325 ms\n",
      "Wall time: 327 ms\n",
      "[[ 0.  0.  0. ...,  0.  0.  0.]\n",
      " [ 0.  0.  0. ...,  0.  0.  0.]\n",
      " [ 0.  0.  0. ...,  0.  0.  0.]\n",
      " ..., \n",
      " [ 0.  0.  0. ...,  0.  0.  0.]\n",
      " [ 0.  0.  0. ...,  0.  0.  0.]\n",
      " [ 0.  0.  0. ...,  0.  0.  0.]]\n"
     ]
    },
    {
     "data": {
      "image/png": "[encoded data removed]",
      "text/plain": [
       "<matplotlib.figure.Figure at 0x10e9fb710>"
      ]
     },
     "metadata": {},
     "output_type": "display_data"
    }
   ],
   "source": [
    "E = simplicialChainGroups(sorted([(1,2,3)]))\n",
    "D = boundaryOperatorMatrix(E)\n",
    "\n",
    "n = np.random.rand(15, 1200)\n",
    "n = (n > 0.90).astype(int)\n",
    "maxSimpList = sorted(sc.BinaryToMaxSimplex(n, rDup=True))\n",
    "%time E = simplicialChainGroups(maxSimpList)\n",
    "D = boundaryOperatorMatrix(E)\n",
    "adj = stimSpaceGraph(E,D)\n",
    "print(adj)\n",
    "L = graphLaplacian(adj)\n",
    "w, v = np.linalg.eig(L)\n",
    "y, x, dontcare = plt.hist(np.real(w), 100)\n",
    "\n",
    "\n",
    "plt.show()"
   ]
  },
  {
   "cell_type": "code",
   "execution_count": 313,
   "metadata": {
    "collapsed": false
   },
   "outputs": [
    {
     "ename": "IndexError",
     "evalue": "list index out of range",
     "output_type": "error",
     "traceback": [
      "\u001b[0;31m---------------------------------------------------------------------------\u001b[0m",
      "\u001b[0;31mIndexError\u001b[0m                                Traceback (most recent call last)",
      "\u001b[0;32m<ipython-input-313-0342dbfc0393>\u001b[0m in \u001b[0;36m<module>\u001b[0;34m()\u001b[0m\n\u001b[1;32m      4\u001b[0m \u001b[0mlm2\u001b[0m \u001b[0;34m=\u001b[0m \u001b[0mlm1\u001b[0m \u001b[0;34m+\u001b[0m \u001b[0mlen\u001b[0m\u001b[0;34m(\u001b[0m\u001b[0mE\u001b[0m\u001b[0;34m[\u001b[0m\u001b[0mk\u001b[0m\u001b[0;34m]\u001b[0m\u001b[0;34m)\u001b[0m\u001b[0;34m\u001b[0m\u001b[0m\n\u001b[1;32m      5\u001b[0m \u001b[0mlm3\u001b[0m \u001b[0;34m=\u001b[0m \u001b[0msum\u001b[0m\u001b[0;34m(\u001b[0m\u001b[0;34m[\u001b[0m\u001b[0mlen\u001b[0m\u001b[0;34m(\u001b[0m\u001b[0mE\u001b[0m\u001b[0;34m[\u001b[0m\u001b[0mi\u001b[0m\u001b[0;34m]\u001b[0m\u001b[0;34m)\u001b[0m \u001b[0;32mfor\u001b[0m \u001b[0mi\u001b[0m \u001b[0;32min\u001b[0m \u001b[0mrange\u001b[0m\u001b[0;34m(\u001b[0m\u001b[0mk\u001b[0m\u001b[0;34m+\u001b[0m\u001b[0;36m1\u001b[0m\u001b[0;34m)\u001b[0m\u001b[0;34m]\u001b[0m\u001b[0;34m)\u001b[0m\u001b[0;34m\u001b[0m\u001b[0m\n\u001b[0;32m----> 6\u001b[0;31m \u001b[0mlm4\u001b[0m \u001b[0;34m=\u001b[0m \u001b[0mlm2\u001b[0m \u001b[0;34m+\u001b[0m \u001b[0mlen\u001b[0m\u001b[0;34m(\u001b[0m\u001b[0mE\u001b[0m\u001b[0;34m[\u001b[0m\u001b[0mk\u001b[0m\u001b[0;34m+\u001b[0m\u001b[0;36m1\u001b[0m\u001b[0;34m]\u001b[0m\u001b[0;34m)\u001b[0m\u001b[0;34m\u001b[0m\u001b[0m\n\u001b[0m\u001b[1;32m      7\u001b[0m \u001b[0;32mprint\u001b[0m\u001b[0;34m(\u001b[0m\u001b[0mlm1\u001b[0m\u001b[0;34m,\u001b[0m \u001b[0mlm2\u001b[0m\u001b[0;34m,\u001b[0m \u001b[0mlm3\u001b[0m\u001b[0;34m,\u001b[0m \u001b[0mlm4\u001b[0m\u001b[0;34m)\u001b[0m\u001b[0;34m\u001b[0m\u001b[0m\n",
      "\u001b[0;31mIndexError\u001b[0m: list index out of range"
     ]
    }
   ],
   "source": [
    "k=8\n",
    "E[0] = []\n",
    "lm1 = sum([len(E[i]) for i in range(k)])\n",
    "lm2 = lm1 + len(E[k])\n",
    "lm3 = sum([len(E[i]) for i in range(k+1)])\n",
    "lm4 = lm2 + len(E[k+1])\n",
    "print(lm1, lm2, lm3, lm4)"
   ]
  },
  {
   "cell_type": "code",
   "execution_count": 304,
   "metadata": {
    "collapsed": false
   },
   "outputs": [
    {
     "data": {
      "text/plain": [
       "69"
      ]
     },
     "execution_count": 304,
     "metadata": {},
     "output_type": "execute_result"
    }
   ],
   "source": [
    "len(E[5])"
   ]
  },
  {
   "cell_type": "code",
   "execution_count": 368,
   "metadata": {
    "collapsed": false
   },
   "outputs": [
    {
     "name": "stdout",
     "output_type": "stream",
     "text": [
      "0\n",
      "1\n",
      "2\n",
      "3\n",
      "4\n",
      "5\n",
      "6\n",
      "7\n",
      "8\n",
      "9\n",
      "10\n",
      "11\n",
      "12\n",
      "13\n",
      "14\n",
      "15\n",
      "16\n",
      "17\n",
      "18\n",
      "19\n",
      "20\n",
      "21\n",
      "22\n",
      "23\n",
      "24\n",
      "25\n",
      "26\n",
      "27\n",
      "28\n",
      "29\n",
      "30\n",
      "31\n",
      "32\n",
      "33\n",
      "34\n",
      "35\n",
      "36\n",
      "37\n",
      "38\n",
      "39\n",
      "40\n",
      "41\n",
      "42\n",
      "43\n",
      "44\n",
      "45\n",
      "46\n",
      "47\n",
      "48\n",
      "49\n",
      "50\n",
      "51\n",
      "52\n",
      "53\n",
      "54\n",
      "55\n",
      "56\n",
      "57\n",
      "58\n",
      "59\n"
     ]
    },
    {
     "data": {
      "image/png": "[encoded data removed]",
      "text/plain": [
       "<matplotlib.figure.Figure at 0x110030fd0>"
      ]
     },
     "metadata": {},
     "output_type": "display_data"
    },
    {
     "data": {
      "image/png": "[encoded data removed]",
      "text/plain": [
       "<matplotlib.figure.Figure at 0x1273a6fd0>"
      ]
     },
     "metadata": {},
     "output_type": "display_data"
    }
   ],
   "source": [
    "from scipy.interpolate import interp1d\n",
    "t = np.linspace(0, 30, 1000)\n",
    "avg = np.zeros(len(t))\n",
    "nreps = 60\n",
    "for i in range(nreps):\n",
    "    print(i)\n",
    "    n = np.random.rand(15, 1200)\n",
    "    n = (n > 0.90).astype(int)\n",
    "    maxSimpList = sorted(sc.BinaryToMaxSimplex(n, rDup=True))\n",
    "    E = simplicialChainGroups(maxSimpList)\n",
    "    D = boundaryOperatorMatrix(E)\n",
    "    adj = stimSpaceGraph(E,D)\n",
    "    L = graphLaplacian(adj)\n",
    "    w, v = np.linalg.eig(L)\n",
    "    y, x, dontcare = plt.hist(np.real(w), 100)\n",
    "    f = interp1d(x[:-1], y, kind='zero', bounds_error=False, fill_value=0)\n",
    "    dat = f(t)\n",
    "    avg = avg + dat\n",
    "avg = avg / float(nreps)\n",
    "plt.figure(figsize=(11,11))\n",
    "\n",
    "plt.plot(t, avg)\n",
    "plt.show()"
   ]
  },
  {
   "cell_type": "code",
   "execution_count": 363,
   "metadata": {
    "collapsed": false
   },
   "outputs": [
    {
     "data": {
      "text/plain": [
       "(1000,)"
      ]
     },
     "execution_count": 363,
     "metadata": {},
     "output_type": "execute_result"
    }
   ],
   "source": [
    "avg.shape"
   ]
  },
  {
   "cell_type": "code",
   "execution_count": 134,
   "metadata": {
    "collapsed": false
   },
   "outputs": [
    {
     "name": "stdout",
     "output_type": "stream",
     "text": [
      "[[()], [(1,), (2,), (3,), (4,), (5,)], [(1, 2), (1, 4), (2, 5), (3, 4), (4, 5)]]\n",
      "[array([[ 1.,  1.,  1.,  1.,  1.]]), array([[-1., -1.,  0.,  0.,  0.],\n",
      "       [ 1.,  0., -1.,  0.,  0.],\n",
      "       [ 0.,  0.,  0., -1.,  0.],\n",
      "       [ 0.,  1.,  0.,  1., -1.],\n",
      "       [ 0.,  0.,  1.,  0.,  1.]]), []]\n"
     ]
    }
   ],
   "source": [
    "E = simplicialChainGroups(sorted([(1,2), (3,4), (4,5), (1,4), (2,5)]), 1)\n",
    "D = boundaryOperatorMatrix(E)\n",
    "print(E)\n",
    "print(D)"
   ]
  },
  {
   "cell_type": "code",
   "execution_count": 328,
   "metadata": {
    "collapsed": false
   },
   "outputs": [
    {
     "name": "stdout",
     "output_type": "stream",
     "text": [
      "CPU times: user 4.85 ms, sys: 68 µs, total: 4.92 ms\n",
      "Wall time: 5.11 ms\n",
      "[1.6645763804102462, (1.6828760763763169+2.6192647243666408e-32j), 2.3232141013680998]\n"
     ]
    }
   ],
   "source": [
    "n = np.random.rand(15, 1200)\n",
    "n = (n > 0.97).astype(int)\n",
    "maxSimpList = sorted(sc.BinaryToMaxSimplex(n, rDup=True))\n",
    "%time E = simplicialChainGroups(maxSimpList)\n",
    "D = boundaryOperatorMatrix(E)\n",
    "L = laplacian(D, 2)\n",
    "rhos = densityMatrices(D, np.ones(len(D)))\n",
    "print(spectralEntropies(rhos))\n"
   ]
  },
  {
   "cell_type": "code",
   "execution_count": 238,
   "metadata": {
    "collapsed": false,
    "scrolled": true
   },
   "outputs": [
    {
     "data": {
      "text/plain": [
       "[array([[ 0.06666667,  0.        ,  0.        ,  0.        ,  0.        ,\n",
       "          0.        ,  0.        ,  0.        ,  0.        ,  0.        ,\n",
       "          0.        ,  0.        ,  0.        ,  0.        ,  0.        ],\n",
       "        [ 0.        ,  0.06666667,  0.        ,  0.        ,  0.        ,\n",
       "          0.        ,  0.        ,  0.        ,  0.        ,  0.        ,\n",
       "          0.        ,  0.        ,  0.        ,  0.        ,  0.        ],\n",
       "        [ 0.        ,  0.        ,  0.06666667,  0.        ,  0.        ,\n",
       "          0.        ,  0.        ,  0.        ,  0.        ,  0.        ,\n",
       "          0.        ,  0.        ,  0.        ,  0.        ,  0.        ],\n",
       "        [ 0.        ,  0.        ,  0.        ,  0.06666667,  0.        ,\n",
       "          0.        ,  0.        ,  0.        ,  0.        ,  0.        ,\n",
       "          0.        ,  0.        ,  0.        ,  0.        ,  0.        ],\n",
       "        [ 0.        ,  0.        ,  0.        ,  0.        ,  0.06666667,\n",
       "          0.        ,  0.        ,  0.        ,  0.        ,  0.        ,\n",
       "          0.        ,  0.        ,  0.        ,  0.        ,  0.        ],\n",
       "        [ 0.        ,  0.        ,  0.        ,  0.        ,  0.        ,\n",
       "          0.06666667,  0.        ,  0.        ,  0.        ,  0.        ,\n",
       "          0.        ,  0.        ,  0.        ,  0.        ,  0.        ],\n",
       "        [ 0.        ,  0.        ,  0.        ,  0.        ,  0.        ,\n",
       "          0.        ,  0.06666667,  0.        ,  0.        ,  0.        ,\n",
       "          0.        ,  0.        ,  0.        ,  0.        ,  0.        ],\n",
       "        [ 0.        ,  0.        ,  0.        ,  0.        ,  0.        ,\n",
       "          0.        ,  0.        ,  0.06666667,  0.        ,  0.        ,\n",
       "          0.        ,  0.        ,  0.        ,  0.        ,  0.        ],\n",
       "        [ 0.        ,  0.        ,  0.        ,  0.        ,  0.        ,\n",
       "          0.        ,  0.        ,  0.        ,  0.06666667,  0.        ,\n",
       "          0.        ,  0.        ,  0.        ,  0.        ,  0.        ],\n",
       "        [ 0.        ,  0.        ,  0.        ,  0.        ,  0.        ,\n",
       "          0.        ,  0.        ,  0.        ,  0.        ,  0.06666667,\n",
       "          0.        ,  0.        ,  0.        ,  0.        ,  0.        ],\n",
       "        [ 0.        ,  0.        ,  0.        ,  0.        ,  0.        ,\n",
       "          0.        ,  0.        ,  0.        ,  0.        ,  0.        ,\n",
       "          0.06666667,  0.        ,  0.        ,  0.        ,  0.        ],\n",
       "        [ 0.        ,  0.        ,  0.        ,  0.        ,  0.        ,\n",
       "          0.        ,  0.        ,  0.        ,  0.        ,  0.        ,\n",
       "          0.        ,  0.06666667,  0.        ,  0.        ,  0.        ],\n",
       "        [ 0.        ,  0.        ,  0.        ,  0.        ,  0.        ,\n",
       "          0.        ,  0.        ,  0.        ,  0.        ,  0.        ,\n",
       "          0.        ,  0.        ,  0.06666667,  0.        ,  0.        ],\n",
       "        [ 0.        ,  0.        ,  0.        ,  0.        ,  0.        ,\n",
       "          0.        ,  0.        ,  0.        ,  0.        ,  0.        ,\n",
       "          0.        ,  0.        ,  0.        ,  0.06666667,  0.        ],\n",
       "        [ 0.        ,  0.        ,  0.        ,  0.        ,  0.        ,\n",
       "          0.        ,  0.        ,  0.        ,  0.        ,  0.        ,\n",
       "          0.        ,  0.        ,  0.        ,  0.        ,  0.06666667]]),\n",
       " array([[  1.68594775e-02,   0.00000000e+00,   0.00000000e+00, ...,\n",
       "           0.00000000e+00,   0.00000000e+00,   0.00000000e+00],\n",
       "        [  0.00000000e+00,   4.29254886e-03,   5.09628831e-04, ...,\n",
       "           0.00000000e+00,  -1.21873297e-05,   1.90819000e-04],\n",
       "        [  0.00000000e+00,   5.09628831e-04,   9.04827858e-03, ...,\n",
       "           0.00000000e+00,  -6.12310654e-06,  -8.28600945e-05],\n",
       "        ..., \n",
       "        [  0.00000000e+00,   0.00000000e+00,   0.00000000e+00, ...,\n",
       "           1.68594775e-02,   0.00000000e+00,   0.00000000e+00],\n",
       "        [  0.00000000e+00,  -1.21873297e-05,  -6.12310654e-06, ...,\n",
       "           0.00000000e+00,   1.01831331e-02,   2.04696631e-04],\n",
       "        [  0.00000000e+00,   1.90819000e-04,  -8.28600945e-05, ...,\n",
       "           0.00000000e+00,   2.04696631e-04,   6.91758889e-03]]),\n",
       " array([[  2.08828934e-03,   1.79290850e-03,   1.65051781e-03, ...,\n",
       "           2.77940278e-06,  -8.97109495e-05,  -3.55998657e-05],\n",
       "        [  1.79290850e-03,   3.08118683e-03,   1.51900033e-03, ...,\n",
       "           9.40431760e-06,   6.42744161e-05,  -1.85456284e-05],\n",
       "        [  1.65051781e-03,   1.51900033e-03,   3.53186367e-03, ...,\n",
       "           5.97320894e-06,  -3.45092210e-05,   4.13278334e-06],\n",
       "        ..., \n",
       "        [  2.77940278e-06,   9.40431760e-06,   5.97320894e-06, ...,\n",
       "           2.17472439e-03,   8.13434526e-04,  -7.63503192e-04],\n",
       "        [ -8.97109495e-05,   6.42744161e-05,  -3.45092210e-05, ...,\n",
       "           8.13434526e-04,   1.91014882e-03,   6.63466360e-04],\n",
       "        [ -3.55998657e-05,  -1.85456284e-05,   4.13278334e-06, ...,\n",
       "          -7.63503192e-04,   6.63466360e-04,   2.95836796e-03]]),\n",
       " array([[  1.94771790e-03,   1.08326486e-03,   9.41595466e-04, ...,\n",
       "           3.37272178e-05,  -6.68093583e-06,   2.18983636e-07],\n",
       "        [  1.08326486e-03,   1.59021295e-03,   5.89874762e-04, ...,\n",
       "           1.46139114e-05,  -3.48715681e-06,   5.13754550e-06],\n",
       "        [  9.41595466e-04,   5.89874762e-04,   1.34162709e-03, ...,\n",
       "           1.73072827e-04,  -6.26354859e-05,   7.01738566e-05],\n",
       "        ..., \n",
       "        [  3.37272178e-05,   1.46139114e-05,   1.73072827e-04, ...,\n",
       "           3.73642812e-03,  -8.09822113e-04,   1.27088363e-03],\n",
       "        [ -6.68093583e-06,  -3.48715681e-06,  -6.26354859e-05, ...,\n",
       "          -8.09822113e-04,   3.36004288e-03,  -2.67557658e-03],\n",
       "        [  2.18983636e-07,   5.13754550e-06,   7.01738566e-05, ...,\n",
       "           1.27088363e-03,  -2.67557658e-03,   3.34093352e-03]]),\n",
       " array([[ 0.00784382,  0.        ,  0.        , ...,  0.        ,\n",
       "          0.        ,  0.        ],\n",
       "        [ 0.        ,  0.00784382,  0.        , ...,  0.        ,\n",
       "          0.        ,  0.        ],\n",
       "        [ 0.        ,  0.        ,  0.01210365, ...,  0.        ,\n",
       "          0.        ,  0.        ],\n",
       "        ..., \n",
       "        [ 0.        ,  0.        ,  0.        , ...,  0.00784382,\n",
       "          0.        ,  0.        ],\n",
       "        [ 0.        ,  0.        ,  0.        , ...,  0.        ,\n",
       "          0.00784382,  0.        ],\n",
       "        [ 0.        ,  0.        ,  0.        , ...,  0.        ,\n",
       "          0.        ,  0.00784382]])]"
      ]
     },
     "execution_count": 238,
     "metadata": {},
     "output_type": "execute_result"
    }
   ],
   "source": [
    "rhos"
   ]
  },
  {
   "cell_type": "code",
   "execution_count": 218,
   "metadata": {
    "collapsed": true
   },
   "outputs": [
    {
     "data": {
      "text/plain": [
       "array([ 87.,   2.,   2.,   1.,   3.,   3.,   4.,   4.,   3.,   3.,   3.,\n",
       "         4.,   2.,   4.,   3.,   4.,   2.,   5.,   2.,   3.,   4.,   2.,\n",
       "         4.,   3.,   2.,   3.,   4.,   4.,   2.,   4.,   2.,   3.,   5.,\n",
       "         2.,   3.,   2.,   4.,   3.,   2.,   4.,   2.,   4.,   2.,   4.,\n",
       "         1.,   3.,   6.,   5.,   2.,   3.,   3.,   5.,   3.,   3.,   4.,\n",
       "         3.,   3.,   3.,   3.,   4.,   3.,   3.,   5.,   3.,   3.,   3.,\n",
       "         2.,   1.,   3.,   4.,   2.,   1.,   2.,   3.,   1.,   3.,   2.,\n",
       "         3.,   3.,   1.,   2.,   2.,   2.,   0.,   2.,   0.,   4.,   1.,\n",
       "         2.,   1.,   0.,   2.,   2.,   1.,   3.,   2.,   3.,   2.,   4.,\n",
       "        32.])"
      ]
     },
     "execution_count": 218,
     "metadata": {},
     "output_type": "execute_result"
    },
    {
     "data": {
      "image/png": "[encoded data removed]",
      "text/plain": [
       "<matplotlib.figure.Figure at 0x105670c10>"
      ]
     },
     "metadata": {},
     "output_type": "display_data"
    }
   ],
   "source": [
    "D = boundaryOperatorMatrix(E)\n",
    "w, v = np.linalg.eig(laplacian(D, 2))\n",
    "y, x, dontcare = plt.hist(np.real(w), 100)\n",
    "y"
   ]
  },
  {
   "cell_type": "code",
   "execution_count": 102,
   "metadata": {
    "collapsed": false
   },
   "outputs": [
    {
     "data": {
      "text/plain": [
       "array([ 1., -1.,  1.,  0.])"
      ]
     },
     "execution_count": 102,
     "metadata": {},
     "output_type": "execute_result"
    }
   ],
   "source": [
    "c = boundaryOperator((1,2,3))\n",
    "E = [(1,2), (1,3), (2,3), (4,5)]\n",
    "canonicalCoordinates(c, E)"
   ]
  },
  {
   "cell_type": "code",
   "execution_count": 52,
   "metadata": {
    "collapsed": false
   },
   "outputs": [
    {
     "data": {
      "text/plain": [
       "{1, 2}"
      ]
     },
     "execution_count": 52,
     "metadata": {},
     "output_type": "execute_result"
    }
   ],
   "source": [
    "set([1,2])"
   ]
  },
  {
   "cell_type": "code",
   "execution_count": 55,
   "metadata": {
    "collapsed": false
   },
   "outputs": [
    {
     "data": {
      "text/plain": [
       "{1, 2, 3}"
      ]
     },
     "execution_count": 55,
     "metadata": {},
     "output_type": "execute_result"
    }
   ],
   "source": [
    "set([]).union(*[[1,2], [2,3]])"
   ]
  },
  {
   "cell_type": "code",
   "execution_count": 57,
   "metadata": {
    "collapsed": false
   },
   "outputs": [
    {
     "data": {
      "text/plain": [
       "([1, 2], [3, 4])"
      ]
     },
     "execution_count": 57,
     "metadata": {},
     "output_type": "execute_result"
    }
   ],
   "source": [
    "tuple([[1,2],[3,4]])"
   ]
  },
  {
   "cell_type": "code",
   "execution_count": 122,
   "metadata": {
    "collapsed": false
   },
   "outputs": [
    {
     "data": {
      "text/plain": [
       "array([[ -4, -12,  -4],\n",
       "       [ -2,  -6,  -2],\n",
       "       [  3,   9,   3]])"
      ]
     },
     "execution_count": 122,
     "metadata": {},
     "output_type": "execute_result"
    }
   ],
   "source": [
    "np.outer([-4, -2, 3], [1,3,1])"
   ]
  },
  {
   "cell_type": "code",
   "execution_count": null,
   "metadata": {
    "collapsed": true
   },
   "outputs": [],
   "source": []
  }
 ],
 "metadata": {
  "kernelspec": {
   "display_name": "Python 2",
   "language": "python",
   "name": "python2"
  },
  "language_info": {
   "codemirror_mode": {
    "name": "ipython",
    "version": 2
   },
   "file_extension": ".py",
   "mimetype": "text/x-python",
   "name": "python",
   "nbconvert_exporter": "python",
   "pygments_lexer": "ipython2",
   "version": "2.7.11"
  }
 },
 "nbformat": 4,
 "nbformat_minor": 0
}
