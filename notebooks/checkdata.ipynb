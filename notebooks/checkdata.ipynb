{
 "cells": [
  {
   "cell_type": "code",
   "execution_count": 1,
   "metadata": {},
   "outputs": [
    {
     "name": "stderr",
     "output_type": "stream",
     "text": [
      "/home/brad/.conda/envs/neuraltda-3/lib/python3.6/site-packages/IPython/html.py:14: ShimWarning: The `IPython.html` package has been deprecated since IPython 4.0. You should import from `notebook` instead. `IPython.html.widgets` has moved to `ipywidgets`.\n",
      "  \"`IPython.html.widgets` has moved to `ipywidgets`.\", ShimWarning)\n"
     ]
    }
   ],
   "source": [
    "import neuraltda.topology2 as tp2\n",
    "import pandas as pd\n",
    "from joblib import Parallel, delayed\n",
    "import neuraltda.simpComp as sc\n",
    "import neuraltda.topology2 as tp2\n",
    "import neuraltda.spectralAnalysis as sa\n",
    "import datetime\n",
    "import pickle\n",
    "import glob\n",
    "import os\n",
    "from ephys import core, events, clust\n",
    "import numpy as np\n",
    "import tqdm\n",
    "import matplotlib.pyplot as plt\n",
    "import h5py as h5\n",
    "%matplotlib inline\n",
    "import seaborn as sns\n",
    "sns.set_context('poster')\n",
    "sns.set_style('white')"
   ]
  },
  {
   "cell_type": "code",
   "execution_count": 2,
   "metadata": {
    "collapsed": true
   },
   "outputs": [],
   "source": [
    "# Rebin with 5ms, no overlap, start+2500ms to end+300ms, correct trials\n",
    "block_path = '/home/brad/emily/P01S15/'\n",
    "block_path = '/home/brad/emily/P01S13/'\n",
    "block_path = '/home/brad/emily/P01S18/'\n",
    "winsize = 5.0\n",
    "dtover = 0.0\n",
    "segment = [2500, 300]\n",
    "\n",
    "cluster_group = ['Good', 'MUA']\n",
    "#widenarrow_threshold = 0.000230 # sw threshold in seconds P01S15\n",
    "widenarrow_threshold = 0.000240 #P01S18"
   ]
  },
  {
   "cell_type": "code",
   "execution_count": 3,
   "metadata": {},
   "outputs": [
    {
     "name": "stdout",
     "output_type": "stream",
     "text": [
      "['Repeat_15_1052sec5_sqzdn_65db' 'Repeat_58_1052sec3_sqzup_65db'\n",
      " 'Repeat_23_C22sec2_sqzdn_65db' 'Repeat_44_B32sec1_sqzup_65db' 'T58S58D-1'\n",
      " 'T58S58D23' 'T58S44D23' 'T58S44D-1' 'T-1S-1D23' 'T58S44D21' 'T58S58D7'\n",
      " 'T23S15D-1' 'T23S23D58' 'T23S23D-1' 'T-1S-1D58' 'T23S15D58' 'T23S23D52'\n",
      " 'T23S15D60' 'T58S58D15' 'T58S44D15' 'T-1S-1D15' 'T23S15D44' 'T23S23D44'\n",
      " 'T-1S-1D44']\n"
     ]
    }
   ],
   "source": [
    "spikes = core.load_spikes(block_path)\n",
    "trials = events.load_trials(block_path)\n",
    "fs = core.load_fs(block_path)\n",
    "\n",
    "# Get wide/narrow clusters\n",
    "clusters = core.load_clusters(block_path)\n",
    "clusters_list = clusters[clusters.quality.isin(cluster_group)]['cluster'].unique()\n",
    "(wide, narrow) = clust.get_wide_narrow(block_path, clusters_list, widenarrow_threshold)\n",
    "\n",
    "# Get Correct/Incorrect Trials\n",
    "correctTrials = trials[trials['correct']==True]\n",
    "incorrectTrials = trials[trials['correct']==False]\n",
    "passiveTrials = trials[-(trials['correct'].isin([True, False]))]\n",
    "\n",
    "print(trials['stimulus'].unique())\n"
   ]
  },
  {
   "cell_type": "code",
   "execution_count": 7,
   "metadata": {},
   "outputs": [
    {
     "data": {
      "text/plain": [
       "array(['T58S44D-1', 'T58S58D23', 'T58S44D23', 'T58S58D7', 'T58S58D-1',\n",
       "       'T58S44D21', 'T23S15D58', 'T23S15D-1', 'T23S23D58', 'T23S23D52',\n",
       "       'T58S58D15', 'T58S44D15', 'T23S15D44', 'T23S23D44'], dtype=object)"
      ]
     },
     "execution_count": 7,
     "metadata": {},
     "output_type": "execute_result"
    }
   ],
   "source": [
    "incorrectTrials['stimulus'].unique()"
   ]
  },
  {
   "cell_type": "code",
   "execution_count": null,
   "metadata": {
    "collapsed": true
   },
   "outputs": [],
   "source": []
  }
 ],
 "metadata": {
  "kernelspec": {
   "display_name": "Python 3",
   "language": "python",
   "name": "python3"
  },
  "language_info": {
   "codemirror_mode": {
    "name": "ipython",
    "version": 3
   },
   "file_extension": ".py",
   "mimetype": "text/x-python",
   "name": "python",
   "nbconvert_exporter": "python",
   "pygments_lexer": "ipython3",
   "version": "3.6.1"
  }
 },
 "nbformat": 4,
 "nbformat_minor": 2
}
