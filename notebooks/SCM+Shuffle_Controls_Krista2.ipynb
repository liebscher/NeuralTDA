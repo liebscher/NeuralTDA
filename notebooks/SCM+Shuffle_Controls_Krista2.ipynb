{
 "cells": [
  {
   "cell_type": "code",
   "execution_count": 1,
   "metadata": {},
   "outputs": [
    {
     "name": "stderr",
     "output_type": "stream",
     "text": [
      "/home/brad/.conda/envs/neuraltda-3/lib/python3.6/site-packages/IPython/html.py:14: ShimWarning: The `IPython.html` package has been deprecated since IPython 4.0. You should import from `notebook` instead. `IPython.html.widgets` has moved to `ipywidgets`.\n",
      "  \"`IPython.html.widgets` has moved to `ipywidgets`.\", ShimWarning)\n"
     ]
    }
   ],
   "source": [
    "import subprocess as sp\n",
    "import networkx as nx\n",
    "import matplotlib.pyplot as plt\n",
    "import seaborn as sns  # for aesthetic\n",
    "\n",
    "import neuraltda.topology2 as tp2\n",
    "import neuraltda.spectralAnalysis as sa\n",
    "import neuraltda.simpComp as sc\n",
    "import numpy as np\n",
    "import tempfile\n",
    "import h5py as h5\n",
    "import glob\n",
    "import os\n",
    "%matplotlib inline\n",
    "\n",
    "sns.set_style('ticks')"
   ]
  },
  {
   "cell_type": "code",
   "execution_count": 61,
   "metadata": {
    "collapsed": true
   },
   "outputs": [],
   "source": [
    "def rejection_sampling(command, seed=0):\n",
    "    # Call sampler with subprocess\n",
    "    proc = sp.run(command, stdout=sp.PIPE)\n",
    "    # Read output as a facet list \n",
    "    facet_list = []\n",
    "    for line in proc.stdout.decode().split(\"\\n\")[1:-1]:\n",
    "        if line.find(\"#\") == 0:\n",
    "            yield facet_list\n",
    "            facet_list = []\n",
    "        else:\n",
    "            facet_list.append([int(x) for x in line.strip().split()])\n",
    "    yield facet_list\n",
    "    \n",
    "def prepare_scm_initial_condition(binmat, **kwargs):\n",
    "    \n",
    "    facets = sc.binarytomaxsimplex(binmat, rDup=True, **kwargs)\n",
    "    with tempfile.NamedTemporaryFile(mode='w+t', delete=False) as f: \n",
    "        fname = f.name\n",
    "        for facet in facets:\n",
    "            fstr = str(facet)\n",
    "            fstr = fstr.replace('(', '')\n",
    "            fstr = fstr.replace(')', '')\n",
    "            fstr = fstr.replace(',', '')\n",
    "            f.write(fstr+'\\n')\n",
    "    return fname\n",
    "\n",
    "def prepare_scm_command(facet_file, nsamps):\n",
    "    \n",
    "    command = ['/home/brad/bin/mcmc_sampler', facet_file, '-t', str(nsamps)]\n",
    "    return command\n",
    "\n",
    "def extract_population_tensor(binned_data_file, stim, shuffle=False, clusters=None):\n",
    "    print('Extracting Population Activity Tensor...')\n",
    "    with h5.File(binned_data_file, 'r') as bdf:\n",
    "        binned_clusters = np.array(bdf[stim]['clusters'])\n",
    "        poptens = np.array(bdf[stim]['pop_tens'])\n",
    "        print('Stim: {}, Clusters:{}'.format(stim, str(clusters)))\n",
    "        try:\n",
    "            if clusters is not None:\n",
    "                poptens = poptens[np.in1d(binned_clusters, clusters), :, :]\n",
    "                print(\"Selecting Clusters: poptens:\" + str(np.shape(poptens)))\n",
    "            (ncell, nwin, ntrial) = np.shape(poptens)\n",
    "        except (ValueError, IndexError):\n",
    "            print('Population Tensor Error')\n",
    "            return []\n",
    "        if shuffle:\n",
    "            poptens = tp2.build_shuffled_data_tensor(poptens, 1)\n",
    "            poptens = poptens[:, :, :, 0]\n",
    "        if  nwin == 0:\n",
    "            return []\n",
    "    return poptens\n",
    "            \n",
    "def compute_trial_final_bettis(poptens, thresh, trial):\n",
    "    popmat = poptens[:, :, trial]\n",
    "    nclus = num_cells(poptens)\n",
    "    popmat_binary = sc.binnedtobinary(popmat, thresh)\n",
    "    bettis = tp2.calc_bettis(popmat, np.arange(nclus), '/home/brad/betti_pfile.txt', thresh)\n",
    "    final_bettis = bettis[-1][1]\n",
    "    return final_bettis\n",
    "\n",
    "def compute_betti_curves(poptens, thresh, trial):\n",
    "    popmat = poptens[:, :, trial]\n",
    "    nclus = num_cells(poptens)\n",
    "    bettis = tp2.calc_bettis(popmat, np.arange(nclus), '/home/brad/betti_pfile.txt', thresh)\n",
    "    max_betti = max([len(x[1]) for x in bettis])\n",
    "    betticurves = np.zeros((len(bettis), max_betti+1))\n",
    "    betticurves[:, 0] = [x[0] for x in bettis]\n",
    "    for bett in range(max_betti):\n",
    "        betticurves[:, bett+1] = [x[1][bett] for x in bettis]\n",
    "    return betticurves\n",
    "\n",
    "def num_trials(poptens):\n",
    "    (ncells, nwin, ntrials) = np.shape(poptens)\n",
    "    return ntrials\n",
    "\n",
    "def num_win(poptens):\n",
    "    (ncells, nwin, ntrials) = np.shape(poptens)\n",
    "    return nwin\n",
    "\n",
    "def num_cells(poptens):\n",
    "    (ncells, nwin, ntrials) = np.shape(poptens)\n",
    "    return ncells\n",
    "      \n",
    "def calc_scm_betti_distribution(poptens, thresh, trial, nsamples):\n",
    "    popmat = poptens[:, :, trial]\n",
    "    popmat_bin = sc.binnedtobinary(popmat, thresh)\n",
    "    fname = prepare_scm_initial_condition(popmat_bin)\n",
    "    cmd = prepare_scm_command(fname, nsamples)\n",
    "    samples = rejection_sampling(cmd)\n",
    "    sample_bettis = []\n",
    "    for sample in tqdm.tqdm(samples):\n",
    "        bettis=[]\n",
    "        cgs = [[1, x] for x in sample]\n",
    "        tp2.build_perseus_input(cgs, '/home/brad/betti_pfile.txt')\n",
    "        betti_file = tp2.run_perseus('/home/brad/betti_pfile.txt')\n",
    "        try:\n",
    "            with open(betti_file, 'r') as bf:\n",
    "                for bf_line in bf:\n",
    "                    if len(bf_line) < 2:\n",
    "                        continue\n",
    "                    betti_data = bf_line.split()\n",
    "                    filtration_time = int(betti_data[0])\n",
    "                    betti_numbers = list(map(int, betti_data[1:]))\n",
    "                    bettis.append(np.array(betti_numbers))\n",
    "        except:\n",
    "            bettis.append([-1, [-1]])\n",
    "        sample_bettis.append(bettis)\n",
    "    return np.array(sample_bettis)"
   ]
  },
  {
   "cell_type": "code",
   "execution_count": 6,
   "metadata": {},
   "outputs": [
    {
     "data": {
      "text/plain": [
       "<module 'neuraltda.topology2' from '/home/brad/code/NeuralTDA/neuraltda/topology2.py'>"
      ]
     },
     "execution_count": 6,
     "metadata": {},
     "output_type": "execute_result"
    }
   ],
   "source": [
    "from importlib import reload\n",
    "reload(tp2.events)\n",
    "reload(tp2.core)\n",
    "reload(tp2)"
   ]
  },
  {
   "cell_type": "code",
   "execution_count": 7,
   "metadata": {},
   "outputs": [
    {
     "name": "stderr",
     "output_type": "stream",
     "text": [
      "--- Logging error ---\n",
      "Traceback (most recent call last):\n",
      "  File \"/home/brad/.conda/envs/neuraltda-3/lib/python3.6/logging/__init__.py\", line 994, in emit\n",
      "    stream.write(msg)\n",
      "AttributeError: 'int' object has no attribute 'write'\n",
      "Call stack:\n",
      "  File \"/home/brad/.conda/envs/neuraltda-3/lib/python3.6/runpy.py\", line 193, in _run_module_as_main\n",
      "    \"__main__\", mod_spec)\n",
      "  File \"/home/brad/.conda/envs/neuraltda-3/lib/python3.6/runpy.py\", line 85, in _run_code\n",
      "    exec(code, run_globals)\n",
      "  File \"/home/brad/.conda/envs/neuraltda-3/lib/python3.6/site-packages/ipykernel_launcher.py\", line 16, in <module>\n",
      "    app.launch_new_instance()\n",
      "  File \"/home/brad/.conda/envs/neuraltda-3/lib/python3.6/site-packages/traitlets/config/application.py\", line 658, in launch_instance\n",
      "    app.start()\n",
      "  File \"/home/brad/.conda/envs/neuraltda-3/lib/python3.6/site-packages/ipykernel/kernelapp.py\", line 477, in start\n",
      "    ioloop.IOLoop.instance().start()\n",
      "  File \"/home/brad/.conda/envs/neuraltda-3/lib/python3.6/site-packages/zmq/eventloop/ioloop.py\", line 177, in start\n",
      "    super(ZMQIOLoop, self).start()\n",
      "  File \"/home/brad/.conda/envs/neuraltda-3/lib/python3.6/site-packages/tornado/ioloop.py\", line 888, in start\n",
      "    handler_func(fd_obj, events)\n",
      "  File \"/home/brad/.conda/envs/neuraltda-3/lib/python3.6/site-packages/tornado/stack_context.py\", line 277, in null_wrapper\n",
      "    return fn(*args, **kwargs)\n",
      "  File \"/home/brad/.conda/envs/neuraltda-3/lib/python3.6/site-packages/zmq/eventloop/zmqstream.py\", line 440, in _handle_events\n",
      "    self._handle_recv()\n",
      "  File \"/home/brad/.conda/envs/neuraltda-3/lib/python3.6/site-packages/zmq/eventloop/zmqstream.py\", line 472, in _handle_recv\n",
      "    self._run_callback(callback, msg)\n",
      "  File \"/home/brad/.conda/envs/neuraltda-3/lib/python3.6/site-packages/zmq/eventloop/zmqstream.py\", line 414, in _run_callback\n",
      "    callback(*args, **kwargs)\n",
      "  File \"/home/brad/.conda/envs/neuraltda-3/lib/python3.6/site-packages/tornado/stack_context.py\", line 277, in null_wrapper\n",
      "    return fn(*args, **kwargs)\n",
      "  File \"/home/brad/.conda/envs/neuraltda-3/lib/python3.6/site-packages/ipykernel/kernelbase.py\", line 283, in dispatcher\n",
      "    return self.dispatch_shell(stream, msg)\n",
      "  File \"/home/brad/.conda/envs/neuraltda-3/lib/python3.6/site-packages/ipykernel/kernelbase.py\", line 235, in dispatch_shell\n",
      "    handler(stream, idents, msg)\n",
      "  File \"/home/brad/.conda/envs/neuraltda-3/lib/python3.6/site-packages/ipykernel/kernelbase.py\", line 399, in execute_request\n",
      "    user_expressions, allow_stdin)\n",
      "  File \"/home/brad/.conda/envs/neuraltda-3/lib/python3.6/site-packages/ipykernel/ipkernel.py\", line 196, in do_execute\n",
      "    res = shell.run_cell(code, store_history=store_history, silent=silent)\n",
      "  File \"/home/brad/.conda/envs/neuraltda-3/lib/python3.6/site-packages/ipykernel/zmqshell.py\", line 533, in run_cell\n",
      "    return super(ZMQInteractiveShell, self).run_cell(*args, **kwargs)\n",
      "  File \"/home/brad/.conda/envs/neuraltda-3/lib/python3.6/site-packages/IPython/core/interactiveshell.py\", line 2698, in run_cell\n",
      "    interactivity=interactivity, compiler=compiler, result=result)\n",
      "  File \"/home/brad/.conda/envs/neuraltda-3/lib/python3.6/site-packages/IPython/core/interactiveshell.py\", line 2802, in run_ast_nodes\n",
      "    if self.run_code(code, result):\n",
      "  File \"/home/brad/.conda/envs/neuraltda-3/lib/python3.6/site-packages/IPython/core/interactiveshell.py\", line 2862, in run_code\n",
      "    exec(code_obj, self.user_global_ns, self.user_ns)\n",
      "  File \"<ipython-input-7-bb1754021410>\", line 6, in <module>\n",
      "    bfdict = tp2.dag_bin(block_path, winsize, segment_info, cluster_group=['Good', 'MUA'], dt_overlap=pover*winsize, comment='fulltrial')\n",
      "  File \"/home/brad/code/NeuralTDA/neuraltda/topology2.py\", line 902, in dag_bin\n",
      "    fs, winsize, segment_info, **kwargs)\n",
      "  File \"/home/brad/code/NeuralTDA/neuraltda/topology2.py\", line 969, in do_dag_bin_lazy\n",
      "    setup_logging('Dag Bin')\n",
      "  File \"/home/brad/code/NeuralTDA/neuraltda/topology2.py\", line 76, in setup_logging\n",
      "    logger.info('Starting {}.'.format(func_name))\n",
      "Message: 'Starting Dag Bin.'\n",
      "Arguments: ()\n",
      "--- Logging error ---\n",
      "Traceback (most recent call last):\n",
      "  File \"/home/brad/.conda/envs/neuraltda-3/lib/python3.6/logging/__init__.py\", line 994, in emit\n",
      "    stream.write(msg)\n",
      "AttributeError: 'int' object has no attribute 'write'\n",
      "Call stack:\n",
      "  File \"/home/brad/.conda/envs/neuraltda-3/lib/python3.6/runpy.py\", line 193, in _run_module_as_main\n",
      "    \"__main__\", mod_spec)\n",
      "  File \"/home/brad/.conda/envs/neuraltda-3/lib/python3.6/runpy.py\", line 85, in _run_code\n",
      "    exec(code, run_globals)\n",
      "  File \"/home/brad/.conda/envs/neuraltda-3/lib/python3.6/site-packages/ipykernel_launcher.py\", line 16, in <module>\n",
      "    app.launch_new_instance()\n",
      "  File \"/home/brad/.conda/envs/neuraltda-3/lib/python3.6/site-packages/traitlets/config/application.py\", line 658, in launch_instance\n",
      "    app.start()\n",
      "  File \"/home/brad/.conda/envs/neuraltda-3/lib/python3.6/site-packages/ipykernel/kernelapp.py\", line 477, in start\n",
      "    ioloop.IOLoop.instance().start()\n",
      "  File \"/home/brad/.conda/envs/neuraltda-3/lib/python3.6/site-packages/zmq/eventloop/ioloop.py\", line 177, in start\n",
      "    super(ZMQIOLoop, self).start()\n",
      "  File \"/home/brad/.conda/envs/neuraltda-3/lib/python3.6/site-packages/tornado/ioloop.py\", line 888, in start\n",
      "    handler_func(fd_obj, events)\n",
      "  File \"/home/brad/.conda/envs/neuraltda-3/lib/python3.6/site-packages/tornado/stack_context.py\", line 277, in null_wrapper\n",
      "    return fn(*args, **kwargs)\n",
      "  File \"/home/brad/.conda/envs/neuraltda-3/lib/python3.6/site-packages/zmq/eventloop/zmqstream.py\", line 440, in _handle_events\n",
      "    self._handle_recv()\n",
      "  File \"/home/brad/.conda/envs/neuraltda-3/lib/python3.6/site-packages/zmq/eventloop/zmqstream.py\", line 472, in _handle_recv\n",
      "    self._run_callback(callback, msg)\n",
      "  File \"/home/brad/.conda/envs/neuraltda-3/lib/python3.6/site-packages/zmq/eventloop/zmqstream.py\", line 414, in _run_callback\n",
      "    callback(*args, **kwargs)\n",
      "  File \"/home/brad/.conda/envs/neuraltda-3/lib/python3.6/site-packages/tornado/stack_context.py\", line 277, in null_wrapper\n",
      "    return fn(*args, **kwargs)\n",
      "  File \"/home/brad/.conda/envs/neuraltda-3/lib/python3.6/site-packages/ipykernel/kernelbase.py\", line 283, in dispatcher\n",
      "    return self.dispatch_shell(stream, msg)\n",
      "  File \"/home/brad/.conda/envs/neuraltda-3/lib/python3.6/site-packages/ipykernel/kernelbase.py\", line 235, in dispatch_shell\n",
      "    handler(stream, idents, msg)\n",
      "  File \"/home/brad/.conda/envs/neuraltda-3/lib/python3.6/site-packages/ipykernel/kernelbase.py\", line 399, in execute_request\n",
      "    user_expressions, allow_stdin)\n",
      "  File \"/home/brad/.conda/envs/neuraltda-3/lib/python3.6/site-packages/ipykernel/ipkernel.py\", line 196, in do_execute\n",
      "    res = shell.run_cell(code, store_history=store_history, silent=silent)\n",
      "  File \"/home/brad/.conda/envs/neuraltda-3/lib/python3.6/site-packages/ipykernel/zmqshell.py\", line 533, in run_cell\n",
      "    return super(ZMQInteractiveShell, self).run_cell(*args, **kwargs)\n",
      "  File \"/home/brad/.conda/envs/neuraltda-3/lib/python3.6/site-packages/IPython/core/interactiveshell.py\", line 2698, in run_cell\n",
      "    interactivity=interactivity, compiler=compiler, result=result)\n",
      "  File \"/home/brad/.conda/envs/neuraltda-3/lib/python3.6/site-packages/IPython/core/interactiveshell.py\", line 2802, in run_ast_nodes\n",
      "    if self.run_code(code, result):\n",
      "  File \"/home/brad/.conda/envs/neuraltda-3/lib/python3.6/site-packages/IPython/core/interactiveshell.py\", line 2862, in run_code\n",
      "    exec(code_obj, self.user_global_ns, self.user_ns)\n",
      "  File \"<ipython-input-7-bb1754021410>\", line 6, in <module>\n",
      "    bfdict = tp2.dag_bin(block_path, winsize, segment_info, cluster_group=['Good', 'MUA'], dt_overlap=pover*winsize, comment='fulltrial')\n",
      "  File \"/home/brad/code/NeuralTDA/neuraltda/topology2.py\", line 902, in dag_bin\n",
      "    fs, winsize, segment_info, **kwargs)\n",
      "  File \"/home/brad/code/NeuralTDA/neuraltda/topology2.py\", line 969, in do_dag_bin_lazy\n",
      "    setup_logging('Dag Bin')\n",
      "  File \"/home/brad/code/NeuralTDA/neuraltda/topology2.py\", line 76, in setup_logging\n",
      "    logger.info('Starting {}.'.format(func_name))\n",
      "Message: 'Starting Dag Bin.'\n",
      "Arguments: ()\n"
     ]
    },
    {
     "name": "stdout",
     "output_type": "stream",
     "text": [
      "Data Not already binned\n"
     ]
    }
   ],
   "source": [
    "winsize = 10.0\n",
    "segment_info = [0, 0]\n",
    "pover = 0.5\n",
    "block_path = '/home/brad/krista/B1083/P03S03/'\n",
    "# Bin and compute SCG\n",
    "bfdict = tp2.dag_bin(block_path, winsize, segment_info, cluster_group=['Good', 'MUA'], dt_overlap=pover*winsize, comment='fulltrial')\n",
    "binned_data_file = glob.glob(os.path.join(bfdict['raw'], '*.binned'))[0]\n"
   ]
  },
  {
   "cell_type": "code",
   "execution_count": 44,
   "metadata": {},
   "outputs": [
    {
     "name": "stderr",
     "output_type": "stream",
     "text": [
      "\n",
      "\r",
      "  0%|          | 0/20 [00:00<?, ?it/s]"
     ]
    },
    {
     "name": "stdout",
     "output_type": "stream",
     "text": [
      "I_40k\n",
      "Extracting Population Activity Tensor...\n",
      "Stim: I_40k, Clusters:None\n",
      "Extracting Population Activity Tensor...\n",
      "Stim: I_40k, Clusters:None\n"
     ]
    },
    {
     "name": "stderr",
     "output_type": "stream",
     "text": [
      "\u001b[A\n",
      "100%|██████████| 20/20 [55:06<00:00, 159.90s/it] \n",
      "  0%|          | 0/20 [00:00<?, ?it/s]"
     ]
    },
    {
     "name": "stdout",
     "output_type": "stream",
     "text": [
      "J_40k\n",
      "Extracting Population Activity Tensor...\n",
      "Stim: J_40k, Clusters:None\n",
      "Extracting Population Activity Tensor...\n",
      "Stim: J_40k, Clusters:None\n"
     ]
    },
    {
     "name": "stderr",
     "output_type": "stream",
     "text": [
      "100%|██████████| 20/20 [51:22<00:00, 115.22s/it] \n",
      "  0%|          | 0/20 [00:00<?, ?it/s]"
     ]
    },
    {
     "name": "stdout",
     "output_type": "stream",
     "text": [
      "K_40k\n",
      "Extracting Population Activity Tensor...\n",
      "Stim: K_40k, Clusters:None\n",
      "Extracting Population Activity Tensor...\n",
      "Stim: K_40k, Clusters:None\n"
     ]
    },
    {
     "name": "stderr",
     "output_type": "stream",
     "text": [
      "100%|██████████| 20/20 [36:10<00:00, 136.20s/it] \n",
      "  0%|          | 0/20 [00:00<?, ?it/s]"
     ]
    },
    {
     "name": "stdout",
     "output_type": "stream",
     "text": [
      "L_40k\n",
      "Extracting Population Activity Tensor...\n",
      "Stim: L_40k, Clusters:None\n",
      "Extracting Population Activity Tensor...\n",
      "Stim: L_40k, Clusters:None\n"
     ]
    },
    {
     "name": "stderr",
     "output_type": "stream",
     "text": [
      "100%|██████████| 20/20 [1:01:11<00:00, 155.90s/it]\n",
      "  0%|          | 0/20 [00:00<?, ?it/s]"
     ]
    },
    {
     "name": "stdout",
     "output_type": "stream",
     "text": [
      "M_40k\n",
      "Extracting Population Activity Tensor...\n",
      "Stim: M_40k, Clusters:None\n",
      "Extracting Population Activity Tensor...\n",
      "Stim: M_40k, Clusters:None\n"
     ]
    },
    {
     "name": "stderr",
     "output_type": "stream",
     "text": [
      "100%|██████████| 20/20 [23:56<00:00, 80.40s/it]\n",
      "  0%|          | 0/20 [00:00<?, ?it/s]"
     ]
    },
    {
     "name": "stdout",
     "output_type": "stream",
     "text": [
      "N_40k\n",
      "Extracting Population Activity Tensor...\n",
      "Stim: N_40k, Clusters:None\n",
      "Extracting Population Activity Tensor...\n",
      "Stim: N_40k, Clusters:None\n"
     ]
    },
    {
     "name": "stderr",
     "output_type": "stream",
     "text": [
      "100%|██████████| 20/20 [41:34<00:00, 141.32s/it]\n",
      "  0%|          | 0/20 [00:00<?, ?it/s]"
     ]
    },
    {
     "name": "stdout",
     "output_type": "stream",
     "text": [
      "O_40k\n",
      "Extracting Population Activity Tensor...\n",
      "Stim: O_40k, Clusters:None\n",
      "Extracting Population Activity Tensor...\n",
      "Stim: O_40k, Clusters:None\n"
     ]
    },
    {
     "name": "stderr",
     "output_type": "stream",
     "text": [
      "100%|██████████| 20/20 [32:48<00:00, 119.27s/it]\n",
      "  0%|          | 0/20 [00:00<?, ?it/s]"
     ]
    },
    {
     "name": "stdout",
     "output_type": "stream",
     "text": [
      "P_40k\n",
      "Extracting Population Activity Tensor...\n",
      "Stim: P_40k, Clusters:None\n",
      "Extracting Population Activity Tensor...\n",
      "Stim: P_40k, Clusters:None\n"
     ]
    },
    {
     "name": "stderr",
     "output_type": "stream",
     "text": [
      "100%|██████████| 20/20 [51:21<00:00, 170.00s/it]\n"
     ]
    }
   ],
   "source": [
    "import tqdm\n",
    "thresh = 13.0\n",
    "nsamples = 30\n",
    "stim_dict = {}\n",
    "stim_shuffled_dict = {}\n",
    "stim_scm_dict = {}\n",
    "stim_betticurve_dict = {}\n",
    "stim_shuffled_betticurve_dict = {}\n",
    "with h5.File(binned_data_file, 'r') as bdf:\n",
    "    stims = bdf.keys()\n",
    "    for stim in stims:\n",
    "        print(stim)\n",
    "        stim_poptens = extract_population_tensor(binned_data_file, stim)\n",
    "        stim_poptens_shuffled = extract_population_tensor(binned_data_file, stim, shuffle=True)\n",
    "        ntrials = num_trials(stim_poptens)\n",
    "        stim_dat = []\n",
    "        stim_shuffled_dat= []\n",
    "        stim_scm_dat= []\n",
    "        stim_betticurve_dat= []\n",
    "        stim_shuffled_betticurve_dat= []\n",
    "        for trial in tqdm.tqdm(range(ntrials)):\n",
    "            \n",
    "            #stim_bettis = compute_trial_final_bettis(stim_poptens, thresh, trial)\n",
    "            \n",
    "            #stim_shuffled_bettis = compute_trial_final_bettis(stim_poptens_shuffled, thresh, trial)\n",
    "            \n",
    "            scm_bettis = calc_scm_betti_distribution(stim_poptens, thresh, trial, nsamples)\n",
    "        \n",
    "            stim_betticurves = compute_betti_curves(stim_poptens, thresh, trial)\n",
    "            stim_shuffled_betticurves = compute_betti_curves(stim_poptens_shuffled, thresh, trial)\n",
    "        \n",
    "            #stim_dat.append(stim_bettis)\n",
    "            #stim_shuffled_dat.append(stim_shuffled_bettis)\n",
    "            stim_scm_dat.append(scm_bettis)\n",
    "            stim_betticurve_dat.append(stim_betticurves)\n",
    "            stim_shuffled_betticurve_dat.append(stim_shuffled_betticurves)\n",
    "        stim_dict[stim] = stim_dat\n",
    "        stim_shuffled_dict[stim] = stim_shuffled_dat\n",
    "        stim_scm_dict[stim] = stim_scm_dat\n",
    "        stim_betticurve_dict[stim] = stim_betticurve_dat\n",
    "        stim_shuffled_betticurve_dict[stim] = stim_shuffled_betticurve_dat"
   ]
  },
  {
   "cell_type": "code",
   "execution_count": 45,
   "metadata": {},
   "outputs": [],
   "source": [
    "import pickle\n",
    "with open('scm_control_save2.pkl', 'wb') as f:\n",
    "    pickle.dump([stim_dict, stim_shuffled_dict, stim_scm_dict, stim_betticurve_dict, stim_shuffled_betticurve_dict], f)"
   ]
  },
  {
   "cell_type": "code",
   "execution_count": 85,
   "metadata": {},
   "outputs": [],
   "source": [
    "def plot_scm_distribution(scm_bettis, trial, bettinum, ax=None):\n",
    "    \n",
    "    scm_trial_bettis = scm_bettis[trial]\n",
    "    try:\n",
    "        bettivals = [x[0][bettinum] for x in scm_trial_bettis]\n",
    "    except IndexError:\n",
    "        bettivals = [x[bettinum] for x in scm_trial_bettis]\n",
    "    plt.hist(bettivals, 20, normed=1)"
   ]
  },
  {
   "cell_type": "code",
   "execution_count": 78,
   "metadata": {},
   "outputs": [
    {
     "data": {
      "image/png": "[encoded data removed]",
      "text/plain": [
       "<matplotlib.figure.Figure at 0x7fbcf3dfb518>"
      ]
     },
     "metadata": {},
     "output_type": "display_data"
    }
   ],
   "source": [
    "plot_scm_distribution(stim_scm_dict['I_40k'], 0, 1)"
   ]
  },
  {
   "cell_type": "code",
   "execution_count": 33,
   "metadata": {},
   "outputs": [
    {
     "data": {
      "text/plain": [
       "[[1, 47, 293, 0],\n",
       " [1, 54, 215, 0],\n",
       " [2, 61, 174, 1],\n",
       " [2, 45, 132, 2],\n",
       " [2, 39, 174, 4],\n",
       " [1, 45, 160, 8],\n",
       " [1, 37, 149, 1],\n",
       " [2, 72, 175, 0],\n",
       " [2, 56, 184, 1],\n",
       " [2, 76, 138, 1],\n",
       " [2, 45, 126, 0],\n",
       " [1, 52, 170, 3],\n",
       " [2, 43, 209, 7, 0, 0, 0, 0],\n",
       " [1, 48, 161, 1],\n",
       " [2, 44, 128, 0],\n",
       " [1, 34, 166, 4, 0, 0, 0, 0, 0, 0],\n",
       " [1, 37, 219, 4, 0],\n",
       " [1, 45, 158, 4],\n",
       " [1, 32, 190, 0],\n",
       " [1, 47, 198, 0]]"
      ]
     },
     "execution_count": 33,
     "metadata": {},
     "output_type": "execute_result"
    }
   ],
   "source": [
    "stim_dict['I_40k']"
   ]
  },
  {
   "cell_type": "code",
   "execution_count": 39,
   "metadata": {},
   "outputs": [
    {
     "data": {
      "text/plain": [
       "array([  1.08800000e+03,   1.00000000e+00,   4.70000000e+01,\n",
       "         1.98000000e+02,   0.00000000e+00])"
      ]
     },
     "execution_count": 39,
     "metadata": {},
     "output_type": "execute_result"
    }
   ],
   "source": [
    "stim_betticurve_dict['I_40k'][-1][-1]"
   ]
  },
  {
   "cell_type": "code",
   "execution_count": 63,
   "metadata": {},
   "outputs": [
    {
     "name": "stderr",
     "output_type": "stream",
     "text": [
      "\r",
      "  0%|          | 0/8 [00:00<?, ?it/s]"
     ]
    },
    {
     "name": "stdout",
     "output_type": "stream",
     "text": [
      "I_40k\n",
      "Extracting Population Activity Tensor...\n",
      "Stim: I_40k, Clusters:None\n",
      "Extracting Population Activity Tensor...\n",
      "Stim: I_40k, Clusters:None\n"
     ]
    },
    {
     "name": "stderr",
     "output_type": "stream",
     "text": [
      "\n",
      "0it [00:00, ?it/s]\u001b[A\n",
      "1it [06:50, 410.97s/it]\u001b[A\n",
      "2it [06:51, 287.79s/it]\u001b[A\n",
      "3it [06:51, 201.58s/it]\u001b[A\n",
      "4it [06:52, 141.22s/it]\u001b[A\n",
      "5it [06:52, 98.97s/it] \u001b[A\n",
      "6it [06:52, 69.42s/it]\u001b[A\n",
      "7it [06:53, 48.71s/it]\u001b[A\n",
      "8it [06:53, 34.21s/it]\u001b[A\n",
      "9it [06:54, 24.07s/it]\u001b[A\n",
      "10it [06:54, 16.97s/it]\u001b[A\n",
      "11it [06:54, 12.00s/it]\u001b[A\n",
      "12it [06:55,  8.52s/it]\u001b[A\n",
      "13it [06:55,  6.08s/it]\u001b[A\n",
      "14it [06:56,  4.38s/it]\u001b[A\n",
      "15it [06:56,  3.18s/it]\u001b[A\n",
      "16it [06:56,  2.35s/it]\u001b[A\n",
      "17it [06:57,  1.78s/it]\u001b[A\n",
      "18it [06:57,  1.37s/it]\u001b[A\n",
      "19it [06:58,  1.10s/it]\u001b[A\n",
      "20it [06:58,  1.13it/s]\u001b[A\n",
      "21it [06:59,  1.34it/s]\u001b[A\n",
      "22it [06:59,  1.56it/s]\u001b[A\n",
      "23it [06:59,  1.78it/s]\u001b[A\n",
      "24it [07:00,  1.91it/s]\u001b[A\n",
      "25it [07:00,  2.02it/s]\u001b[A\n",
      "26it [07:01,  2.19it/s]\u001b[A\n",
      "27it [07:01,  2.27it/s]\u001b[A\n",
      "28it [07:01,  2.24it/s]\u001b[A\n",
      "29it [07:02,  2.35it/s]\u001b[A\n",
      "30it [07:02,  2.43it/s]\u001b[A\n",
      "31it [07:03,  2.38it/s]\u001b[A\n",
      "32it [07:03,  2.42it/s]\u001b[A\n",
      "33it [07:03,  2.48it/s]\u001b[A\n",
      "34it [07:04,  2.58it/s]\u001b[A\n",
      "35it [07:04,  2.57it/s]\u001b[A\n",
      "36it [07:05,  2.45it/s]\u001b[A\n",
      "37it [07:05,  2.42it/s]\u001b[A\n",
      "38it [07:05,  2.42it/s]\u001b[A\n",
      "39it [07:06,  2.40it/s]\u001b[A\n",
      "40it [07:06,  2.44it/s]\u001b[A\n",
      "41it [07:07,  2.44it/s]\u001b[A\n",
      "42it [07:07,  2.32it/s]\u001b[A\n",
      "43it [07:08,  2.39it/s]\u001b[A\n",
      "44it [07:08,  2.45it/s]\u001b[A\n",
      "45it [07:08,  2.53it/s]\u001b[A\n",
      "46it [07:09,  2.51it/s]\u001b[A\n",
      "47it [07:09,  2.48it/s]\u001b[A\n",
      "48it [07:10,  2.44it/s]\u001b[A\n",
      "49it [07:10,  2.47it/s]\u001b[A\n",
      "50it [07:10,  2.42it/s]\u001b[A\n",
      "51it [07:11,  2.44it/s]\u001b[A\n",
      "52it [07:11,  2.48it/s]\u001b[A\n",
      "53it [07:12,  2.51it/s]\u001b[A\n",
      "54it [07:12,  2.49it/s]\u001b[A\n",
      "55it [07:12,  2.41it/s]\u001b[A\n",
      "56it [07:13,  2.34it/s]\u001b[A\n",
      "57it [07:13,  2.39it/s]\u001b[A\n",
      "58it [07:14,  2.33it/s]\u001b[A\n",
      "59it [07:14,  2.42it/s]\u001b[A\n",
      "60it [07:15,  2.35it/s]\u001b[A\n",
      "61it [07:15,  2.33it/s]\u001b[A\n",
      "62it [07:15,  2.34it/s]\u001b[A\n",
      "63it [07:16,  2.44it/s]\u001b[A\n",
      "64it [07:16,  2.44it/s]\u001b[A\n",
      "65it [07:17,  2.37it/s]\u001b[A\n",
      "66it [07:17,  2.44it/s]\u001b[A\n",
      "67it [07:17,  2.50it/s]\u001b[A\n",
      "68it [07:18,  2.49it/s]\u001b[A\n",
      "69it [07:18,  2.45it/s]\u001b[A\n",
      "70it [07:19,  2.40it/s]\u001b[A\n",
      "71it [07:19,  2.38it/s]\u001b[A\n",
      "72it [07:20,  2.40it/s]\u001b[A\n",
      "73it [07:20,  2.42it/s]\u001b[A\n",
      "74it [07:20,  2.45it/s]\u001b[A\n",
      "75it [07:21,  2.48it/s]\u001b[A\n",
      "76it [07:21,  2.35it/s]\u001b[A\n",
      "77it [07:22,  2.42it/s]\u001b[A\n",
      "78it [07:22,  2.43it/s]\u001b[A\n",
      "79it [07:22,  2.43it/s]\u001b[A\n",
      "80it [07:23,  2.49it/s]\u001b[A\n",
      "81it [07:23,  2.45it/s]\u001b[A\n",
      "82it [07:24,  2.39it/s]\u001b[A\n",
      "83it [07:24,  2.40it/s]\u001b[A\n",
      "84it [07:24,  2.45it/s]\u001b[A\n",
      "85it [07:25,  2.54it/s]\u001b[A\n",
      "86it [07:25,  2.39it/s]\u001b[A\n",
      "87it [07:26,  2.37it/s]\u001b[A\n",
      "88it [07:26,  2.50it/s]\u001b[A\n",
      "89it [07:26,  2.44it/s]\u001b[A\n",
      "90it [07:27,  2.47it/s]\u001b[A\n",
      "91it [07:27,  2.49it/s]\u001b[A\n",
      "92it [07:28,  2.49it/s]\u001b[A\n",
      "93it [07:28,  2.47it/s]\u001b[A\n",
      "94it [07:28,  2.53it/s]\u001b[A\n",
      "95it [07:29,  2.57it/s]\u001b[A\n",
      "96it [07:29,  2.60it/s]\u001b[A\n",
      "97it [07:30,  2.46it/s]\u001b[A\n",
      "98it [07:30,  2.39it/s]\u001b[A\n",
      "99it [07:31,  2.38it/s]\u001b[A\n",
      "100it [07:31,  2.43it/s]\u001b[A\n",
      " 12%|█▎        | 1/8 [07:32<52:46, 452.31s/it]"
     ]
    },
    {
     "name": "stdout",
     "output_type": "stream",
     "text": [
      "J_40k\n",
      "Extracting Population Activity Tensor...\n",
      "Stim: J_40k, Clusters:None\n",
      "Extracting Population Activity Tensor...\n",
      "Stim: J_40k, Clusters:None\n"
     ]
    },
    {
     "name": "stderr",
     "output_type": "stream",
     "text": [
      "\n",
      "0it [00:00, ?it/s]\u001b[A\n",
      "1it [04:47, 287.67s/it]\u001b[A\n",
      "3it [04:47, 201.39s/it]\u001b[A\n",
      "5it [04:48, 141.00s/it]\u001b[A\n",
      "6it [04:48, 98.73s/it] \u001b[A\n",
      "8it [04:48, 69.14s/it]\u001b[A\n",
      "10it [04:48, 48.42s/it]\u001b[A\n",
      "12it [04:48, 33.92s/it]\u001b[A\n",
      "13it [04:48, 23.78s/it]\u001b[A\n",
      "15it [04:48, 16.67s/it]\u001b[A\n",
      "17it [04:49, 11.70s/it]\u001b[A\n",
      "19it [04:49,  8.21s/it]\u001b[A\n",
      "21it [04:49,  5.78s/it]\u001b[A\n",
      "23it [04:49,  4.07s/it]\u001b[A\n",
      "25it [04:49,  2.88s/it]\u001b[A\n",
      "27it [04:50,  2.04s/it]\u001b[A\n",
      "29it [04:50,  1.46s/it]\u001b[A\n",
      "31it [04:50,  1.05s/it]\u001b[A\n",
      "33it [04:50,  1.31it/s]\u001b[A\n",
      "35it [04:50,  1.77it/s]\u001b[A\n",
      "37it [04:51,  2.36it/s]\u001b[A\n",
      "39it [04:51,  3.07it/s]\u001b[A\n",
      "41it [04:51,  3.86it/s]\u001b[A\n",
      "43it [04:51,  4.80it/s]\u001b[A\n",
      "45it [04:51,  5.75it/s]\u001b[A\n",
      "47it [04:51,  6.69it/s]\u001b[A\n",
      "49it [04:52,  7.46it/s]\u001b[A\n",
      "51it [04:52,  8.23it/s]\u001b[A\n",
      "53it [04:52,  8.88it/s]\u001b[A\n",
      "55it [04:52,  9.16it/s]\u001b[A\n",
      "57it [04:52,  9.60it/s]\u001b[A\n",
      "59it [04:53,  9.66it/s]\u001b[A\n",
      "61it [04:53,  9.87it/s]\u001b[A\n",
      "63it [04:53, 10.04it/s]\u001b[A\n",
      "65it [04:53, 10.25it/s]\u001b[A\n",
      "67it [04:53, 10.59it/s]\u001b[A\n",
      "69it [04:54, 10.69it/s]\u001b[A\n",
      "71it [04:54, 10.87it/s]\u001b[A\n",
      "73it [04:54, 10.97it/s]\u001b[A\n",
      "75it [04:54, 10.54it/s]\u001b[A\n",
      "77it [04:54,  9.79it/s]\u001b[A\n",
      "78it [04:54,  9.83it/s]\u001b[A\n",
      "80it [04:55,  9.72it/s]\u001b[A\n",
      "81it [04:55,  9.22it/s]\u001b[A\n",
      "82it [04:55,  9.22it/s]\u001b[A\n",
      "83it [04:55,  9.20it/s]\u001b[A\n",
      "85it [04:55,  9.41it/s]\u001b[A\n",
      "87it [04:55,  9.74it/s]\u001b[A\n",
      "89it [04:56, 10.09it/s]\u001b[A\n",
      "91it [04:56,  9.62it/s]\u001b[A\n",
      "92it [04:56,  9.55it/s]\u001b[A\n",
      "93it [04:56,  9.57it/s]\u001b[A\n",
      "95it [04:56,  9.83it/s]\u001b[A\n",
      "97it [04:56,  9.89it/s]\u001b[A\n",
      "99it [04:57, 10.27it/s]\u001b[A\n",
      " 25%|██▌       | 2/8 [12:29<40:35, 405.89s/it]"
     ]
    },
    {
     "name": "stdout",
     "output_type": "stream",
     "text": [
      "K_40k\n",
      "Extracting Population Activity Tensor...\n",
      "Stim: K_40k, Clusters:None\n",
      "Extracting Population Activity Tensor...\n",
      "Stim: K_40k, Clusters:None\n"
     ]
    },
    {
     "name": "stderr",
     "output_type": "stream",
     "text": [
      "\n",
      "0it [00:00, ?it/s]\u001b[A\n",
      "1it [04:56, 296.53s/it]\u001b[A\n",
      "2it [04:56, 207.62s/it]\u001b[A\n",
      "3it [04:56, 145.39s/it]\u001b[A\n",
      "4it [04:57, 101.83s/it]\u001b[A\n",
      "5it [04:57, 71.34s/it] \u001b[A\n",
      "6it [04:57, 49.99s/it]\u001b[A\n",
      "7it [04:57, 35.04s/it]\u001b[A\n",
      "8it [04:57, 24.58s/it]\u001b[A\n",
      "9it [04:57, 17.26s/it]\u001b[A\n",
      "10it [04:58, 12.13s/it]\u001b[A\n",
      "11it [04:58,  8.55s/it]\u001b[A\n",
      "12it [04:58,  6.03s/it]\u001b[A\n",
      "13it [04:58,  4.29s/it]\u001b[A\n",
      "14it [04:58,  3.06s/it]\u001b[A\n",
      "15it [04:59,  2.19s/it]\u001b[A\n",
      "16it [04:59,  1.59s/it]\u001b[A\n",
      "17it [04:59,  1.17s/it]\u001b[A\n",
      "18it [04:59,  1.15it/s]\u001b[A\n",
      "19it [04:59,  1.50it/s]\u001b[A\n",
      "20it [04:59,  1.94it/s]\u001b[A\n",
      "21it [05:00,  2.44it/s]\u001b[A\n",
      "22it [05:00,  2.95it/s]\u001b[A\n",
      "23it [05:00,  3.45it/s]\u001b[A\n",
      "24it [05:00,  3.92it/s]\u001b[A\n",
      "25it [05:00,  4.27it/s]\u001b[A\n",
      "26it [05:01,  4.43it/s]\u001b[A\n",
      "27it [05:01,  4.81it/s]\u001b[A\n",
      "28it [05:01,  4.87it/s]\u001b[A\n",
      "29it [05:01,  5.16it/s]\u001b[A\n",
      "30it [05:01,  5.30it/s]\u001b[A\n",
      "31it [05:01,  5.35it/s]\u001b[A\n",
      "32it [05:02,  5.51it/s]\u001b[A\n",
      "33it [05:02,  5.58it/s]\u001b[A\n",
      "34it [05:02,  5.66it/s]\u001b[A\n",
      "35it [05:02,  5.80it/s]\u001b[A\n",
      "36it [05:02,  5.66it/s]\u001b[A\n",
      "37it [05:02,  5.51it/s]\u001b[A\n",
      "38it [05:03,  5.55it/s]\u001b[A\n",
      "39it [05:03,  5.67it/s]\u001b[A\n",
      "40it [05:03,  5.63it/s]\u001b[A\n",
      "41it [05:03,  5.73it/s]\u001b[A\n",
      "42it [05:03,  5.74it/s]\u001b[A\n",
      "43it [05:03,  5.79it/s]\u001b[A\n",
      "44it [05:04,  5.74it/s]\u001b[A\n",
      "45it [05:04,  5.68it/s]\u001b[A\n",
      "46it [05:04,  5.79it/s]\u001b[A\n",
      "47it [05:04,  5.78it/s]\u001b[A\n",
      "48it [05:04,  5.55it/s]\u001b[A\n",
      "49it [05:05,  5.48it/s]\u001b[A\n",
      "50it [05:05,  5.63it/s]\u001b[A\n",
      "51it [05:05,  5.71it/s]\u001b[A\n",
      "52it [05:05,  5.57it/s]\u001b[A\n",
      "53it [05:05,  5.70it/s]\u001b[A\n",
      "54it [05:05,  5.69it/s]\u001b[A\n",
      "55it [05:06,  5.49it/s]\u001b[A\n",
      "56it [05:06,  5.54it/s]\u001b[A\n",
      "57it [05:06,  5.62it/s]\u001b[A\n",
      "58it [05:06,  5.55it/s]\u001b[A\n",
      "59it [05:06,  5.58it/s]\u001b[A\n",
      "60it [05:07,  5.57it/s]\u001b[A\n",
      "61it [05:07,  5.59it/s]\u001b[A\n",
      "62it [05:07,  5.58it/s]\u001b[A\n",
      "63it [05:07,  5.51it/s]\u001b[A\n",
      "64it [05:07,  5.74it/s]\u001b[A\n",
      "65it [05:07,  5.59it/s]\u001b[A\n",
      "66it [05:08,  5.67it/s]\u001b[A\n",
      "67it [05:08,  5.79it/s]\u001b[A\n",
      "68it [05:08,  5.76it/s]\u001b[A\n",
      "69it [05:08,  5.81it/s]\u001b[A\n",
      "70it [05:08,  5.80it/s]\u001b[A\n",
      "71it [05:08,  5.86it/s]\u001b[A\n",
      "72it [05:09,  5.69it/s]\u001b[A\n",
      "73it [05:09,  5.65it/s]\u001b[A\n",
      "74it [05:09,  5.71it/s]\u001b[A\n",
      "75it [05:09,  5.81it/s]\u001b[A\n",
      "76it [05:09,  5.87it/s]\u001b[A\n",
      "77it [05:09,  5.81it/s]\u001b[A\n",
      "78it [05:10,  5.78it/s]\u001b[A\n",
      "79it [05:10,  5.80it/s]\u001b[A\n",
      "80it [05:10,  5.78it/s]\u001b[A\n",
      "81it [05:10,  5.68it/s]\u001b[A\n",
      "82it [05:10,  5.69it/s]\u001b[A\n",
      "83it [05:11,  5.64it/s]\u001b[A\n",
      "84it [05:11,  5.69it/s]\u001b[A\n",
      "85it [05:11,  5.73it/s]\u001b[A\n",
      "86it [05:11,  5.77it/s]\u001b[A\n",
      "87it [05:11,  5.76it/s]\u001b[A\n",
      "88it [05:11,  5.81it/s]\u001b[A\n",
      "89it [05:12,  5.63it/s]\u001b[A\n",
      "90it [05:12,  5.71it/s]\u001b[A\n",
      "91it [05:12,  5.77it/s]\u001b[A\n",
      "92it [05:12,  5.74it/s]\u001b[A\n",
      "93it [05:12,  5.65it/s]\u001b[A\n",
      "94it [05:12,  5.55it/s]\u001b[A\n",
      "95it [05:13,  5.50it/s]\u001b[A\n",
      "96it [05:13,  5.46it/s]\u001b[A\n",
      "97it [05:13,  5.55it/s]\u001b[A\n",
      "98it [05:13,  5.47it/s]\u001b[A\n",
      "99it [05:13,  5.60it/s]\u001b[A\n",
      "100it [05:14,  5.64it/s]\u001b[A\n",
      " 38%|███▊      | 3/8 [17:44<31:32, 378.50s/it]"
     ]
    },
    {
     "name": "stdout",
     "output_type": "stream",
     "text": [
      "L_40k\n",
      "Extracting Population Activity Tensor...\n",
      "Stim: L_40k, Clusters:None\n",
      "Extracting Population Activity Tensor...\n",
      "Stim: L_40k, Clusters:None\n"
     ]
    },
    {
     "name": "stderr",
     "output_type": "stream",
     "text": [
      "\n",
      "0it [00:00, ?it/s]\u001b[A\n",
      "1it [02:17, 137.26s/it]\u001b[A\n",
      "2it [02:17, 96.18s/it] \u001b[A\n",
      "3it [02:17, 67.42s/it]\u001b[A\n",
      "4it [02:18, 47.28s/it]\u001b[A\n",
      "5it [02:18, 33.19s/it]\u001b[A\n",
      "6it [02:18, 23.32s/it]\u001b[A\n",
      "7it [02:19, 16.42s/it]\u001b[A\n",
      "8it [02:19, 11.58s/it]\u001b[A\n",
      "9it [02:19,  8.19s/it]\u001b[A\n",
      "10it [02:20,  5.83s/it]\u001b[A\n",
      "11it [02:20,  4.17s/it]\u001b[A\n",
      "12it [02:20,  3.01s/it]\u001b[A\n",
      "13it [02:20,  2.20s/it]\u001b[A\n",
      "14it [02:21,  1.64s/it]\u001b[A\n",
      "15it [02:21,  1.25s/it]\u001b[A\n",
      "16it [02:21,  1.03it/s]\u001b[A\n",
      "17it [02:22,  1.31it/s]\u001b[A\n",
      "18it [02:22,  1.61it/s]\u001b[A\n",
      "19it [02:22,  1.90it/s]\u001b[A\n",
      "20it [02:23,  2.21it/s]\u001b[A\n",
      "21it [02:23,  2.40it/s]\u001b[A\n",
      "22it [02:23,  2.63it/s]\u001b[A\n",
      "23it [02:23,  2.81it/s]\u001b[A\n",
      "24it [02:24,  2.95it/s]\u001b[A\n",
      "25it [02:24,  3.08it/s]\u001b[A\n",
      "26it [02:24,  3.08it/s]\u001b[A\n",
      "27it [02:25,  3.18it/s]\u001b[A\n",
      "28it [02:25,  3.20it/s]\u001b[A\n",
      "29it [02:25,  3.29it/s]\u001b[A\n",
      "30it [02:26,  3.30it/s]\u001b[A\n",
      "31it [02:26,  3.36it/s]\u001b[A\n",
      "32it [02:26,  3.34it/s]\u001b[A\n",
      "33it [02:26,  3.39it/s]\u001b[A\n",
      "34it [02:27,  3.40it/s]\u001b[A\n",
      "35it [02:27,  3.24it/s]\u001b[A\n",
      "36it [02:27,  3.32it/s]\u001b[A\n",
      "37it [02:28,  3.39it/s]\u001b[A\n",
      "38it [02:28,  3.26it/s]\u001b[A\n",
      "39it [02:28,  3.31it/s]\u001b[A\n",
      "40it [02:29,  3.37it/s]\u001b[A\n",
      "41it [02:29,  3.36it/s]\u001b[A\n",
      "42it [02:29,  3.38it/s]\u001b[A\n",
      "43it [02:29,  3.37it/s]\u001b[A\n",
      "44it [02:30,  3.35it/s]\u001b[A\n",
      "45it [02:30,  3.29it/s]\u001b[A\n",
      "46it [02:30,  3.25it/s]\u001b[A\n",
      "47it [02:31,  3.25it/s]\u001b[A\n",
      "48it [02:31,  3.25it/s]\u001b[A\n",
      "49it [02:31,  3.22it/s]\u001b[A\n",
      "50it [02:32,  3.28it/s]\u001b[A\n",
      "51it [02:32,  3.30it/s]\u001b[A\n",
      "52it [02:32,  3.25it/s]\u001b[A\n",
      "53it [02:33,  3.25it/s]\u001b[A\n",
      "54it [02:33,  3.30it/s]\u001b[A\n",
      "55it [02:33,  3.40it/s]\u001b[A\n",
      "56it [02:33,  3.38it/s]\u001b[A\n",
      "57it [02:34,  3.36it/s]\u001b[A\n",
      "58it [02:34,  3.33it/s]\u001b[A\n",
      "59it [02:34,  3.36it/s]\u001b[A\n",
      "60it [02:35,  3.32it/s]\u001b[A\n",
      "61it [02:35,  3.27it/s]\u001b[A\n",
      "62it [02:35,  3.29it/s]\u001b[A\n",
      "63it [02:36,  3.22it/s]\u001b[A\n",
      "64it [02:36,  3.26it/s]\u001b[A\n",
      "65it [02:36,  3.23it/s]\u001b[A\n",
      "66it [02:36,  3.34it/s]\u001b[A\n",
      "67it [02:37,  3.34it/s]\u001b[A\n",
      "68it [02:37,  3.28it/s]\u001b[A\n",
      "69it [02:37,  3.24it/s]\u001b[A\n",
      "70it [02:38,  3.07it/s]\u001b[A\n",
      "71it [02:38,  3.05it/s]\u001b[A\n",
      "72it [02:38,  3.08it/s]\u001b[A\n",
      "73it [02:39,  3.20it/s]\u001b[A\n",
      "74it [02:39,  3.22it/s]\u001b[A\n",
      "75it [02:39,  3.22it/s]\u001b[A\n",
      "76it [02:40,  3.31it/s]\u001b[A\n",
      "77it [02:40,  3.26it/s]\u001b[A\n",
      "78it [02:40,  3.23it/s]\u001b[A\n",
      "79it [02:41,  3.29it/s]\u001b[A\n",
      "80it [02:41,  3.25it/s]\u001b[A\n",
      "81it [02:41,  3.14it/s]\u001b[A\n",
      "82it [02:41,  3.15it/s]\u001b[A\n",
      "83it [02:42,  3.16it/s]\u001b[A\n",
      "84it [02:42,  3.08it/s]\u001b[A\n",
      "85it [02:42,  3.08it/s]\u001b[A\n",
      "86it [02:43,  3.12it/s]\u001b[A\n",
      "87it [02:43,  3.21it/s]\u001b[A\n",
      "88it [02:43,  3.25it/s]\u001b[A\n",
      "89it [02:44,  3.25it/s]\u001b[A\n",
      "90it [02:44,  3.30it/s]\u001b[A\n",
      "91it [02:44,  3.25it/s]\u001b[A\n",
      "92it [02:45,  3.28it/s]\u001b[A\n",
      "93it [02:45,  3.32it/s]\u001b[A\n",
      "94it [02:45,  3.33it/s]\u001b[A\n",
      "95it [02:45,  3.30it/s]\u001b[A\n",
      "96it [02:46,  3.28it/s]\u001b[A\n",
      "97it [02:46,  3.22it/s]\u001b[A\n",
      "98it [02:46,  3.12it/s]\u001b[A\n",
      "99it [02:47,  3.18it/s]\u001b[A\n",
      "100it [02:47,  3.25it/s]\u001b[A\n",
      " 50%|█████     | 4/8 [20:32<21:01, 315.37s/it]\n",
      "0it [00:00, ?it/s]\u001b[A"
     ]
    },
    {
     "name": "stdout",
     "output_type": "stream",
     "text": [
      "M_40k\n",
      "Extracting Population Activity Tensor...\n",
      "Stim: M_40k, Clusters:None\n",
      "Extracting Population Activity Tensor...\n",
      "Stim: M_40k, Clusters:None\n"
     ]
    },
    {
     "name": "stderr",
     "output_type": "stream",
     "text": [
      "\n",
      "1it [06:04, 364.61s/it]\u001b[A\n",
      "2it [06:04, 255.27s/it]\u001b[A\n",
      "3it [06:04, 178.74s/it]\u001b[A\n",
      "4it [06:05, 125.16s/it]\u001b[A\n",
      "5it [06:05, 87.65s/it] \u001b[A\n",
      "6it [06:05, 61.40s/it]\u001b[A\n",
      "7it [06:05, 43.02s/it]\u001b[A\n",
      "8it [06:05, 30.16s/it]\u001b[A\n",
      "9it [06:05, 21.15s/it]\u001b[A\n",
      "10it [06:05, 14.85s/it]\u001b[A\n",
      "11it [06:06, 10.44s/it]\u001b[A\n",
      "12it [06:06,  7.36s/it]\u001b[A\n",
      "13it [06:06,  5.19s/it]\u001b[A\n",
      "14it [06:06,  3.68s/it]\u001b[A\n",
      "15it [06:06,  2.62s/it]\u001b[A\n",
      "16it [06:06,  1.87s/it]\u001b[A\n",
      "17it [06:06,  1.36s/it]\u001b[A\n",
      "18it [06:07,  1.01it/s]\u001b[A\n",
      "19it [06:07,  1.34it/s]\u001b[A\n",
      "20it [06:07,  1.77it/s]\u001b[A\n",
      "21it [06:07,  2.27it/s]\u001b[A\n",
      "22it [06:07,  2.80it/s]\u001b[A\n",
      "23it [06:07,  3.41it/s]\u001b[A\n",
      "24it [06:08,  3.90it/s]\u001b[A\n",
      "25it [06:08,  4.58it/s]\u001b[A\n",
      "26it [06:08,  4.77it/s]\u001b[A\n",
      "27it [06:08,  5.20it/s]\u001b[A\n",
      "28it [06:08,  5.53it/s]\u001b[A\n",
      "29it [06:08,  5.76it/s]\u001b[A\n",
      "30it [06:08,  6.09it/s]\u001b[A\n",
      "31it [06:09,  6.24it/s]\u001b[A\n",
      "32it [06:09,  6.28it/s]\u001b[A\n",
      "33it [06:09,  6.12it/s]\u001b[A\n",
      "34it [06:09,  6.17it/s]\u001b[A\n",
      "35it [06:09,  6.56it/s]\u001b[A\n",
      "36it [06:09,  6.58it/s]\u001b[A\n",
      "37it [06:10,  6.44it/s]\u001b[A\n",
      "38it [06:10,  6.52it/s]\u001b[A\n",
      "39it [06:10,  6.64it/s]\u001b[A\n",
      "40it [06:10,  6.77it/s]\u001b[A\n",
      "41it [06:10,  6.99it/s]\u001b[A\n",
      "42it [06:10,  7.21it/s]\u001b[A\n",
      "43it [06:10,  7.35it/s]\u001b[A\n",
      "44it [06:10,  7.45it/s]\u001b[A\n",
      "45it [06:11,  7.52it/s]\u001b[A\n",
      "46it [06:11,  7.62it/s]\u001b[A\n",
      "47it [06:11,  7.56it/s]\u001b[A\n",
      "48it [06:11,  7.56it/s]\u001b[A\n",
      "49it [06:11,  7.64it/s]\u001b[A\n",
      "50it [06:11,  7.58it/s]\u001b[A\n",
      "51it [06:11,  7.38it/s]\u001b[A\n",
      "52it [06:12,  7.18it/s]\u001b[A\n",
      "53it [06:12,  7.12it/s]\u001b[A\n",
      "54it [06:12,  7.02it/s]\u001b[A\n",
      "55it [06:12,  7.22it/s]\u001b[A\n",
      "56it [06:12,  7.23it/s]\u001b[A\n",
      "57it [06:12,  7.09it/s]\u001b[A\n",
      "58it [06:12,  7.13it/s]\u001b[A\n",
      "59it [06:13,  7.03it/s]\u001b[A\n",
      "60it [06:13,  7.13it/s]\u001b[A\n",
      "61it [06:13,  6.94it/s]\u001b[A\n",
      "62it [06:13,  7.15it/s]\u001b[A\n",
      "63it [06:13,  6.88it/s]\u001b[A\n",
      "64it [06:13,  6.91it/s]\u001b[A\n",
      "65it [06:13,  6.85it/s]\u001b[A\n",
      "66it [06:14,  7.02it/s]\u001b[A\n",
      "67it [06:14,  7.17it/s]\u001b[A\n",
      "68it [06:14,  7.30it/s]\u001b[A\n",
      "69it [06:14,  7.24it/s]\u001b[A\n",
      "70it [06:14,  7.36it/s]\u001b[A\n",
      "71it [06:14,  7.34it/s]\u001b[A\n",
      "72it [06:14,  7.24it/s]\u001b[A\n",
      "73it [06:15,  6.98it/s]\u001b[A\n",
      "74it [06:15,  6.87it/s]\u001b[A\n",
      "75it [06:15,  6.80it/s]\u001b[A\n",
      "76it [06:15,  6.80it/s]\u001b[A\n",
      "77it [06:15,  6.81it/s]\u001b[A\n",
      "78it [06:15,  6.77it/s]\u001b[A\n",
      "79it [06:15,  6.97it/s]\u001b[A\n",
      "80it [06:16,  6.87it/s]\u001b[A\n",
      "81it [06:16,  6.76it/s]\u001b[A\n",
      "82it [06:16,  6.87it/s]\u001b[A\n",
      "83it [06:16,  7.05it/s]\u001b[A\n",
      "84it [06:16,  6.79it/s]\u001b[A\n",
      "85it [06:16,  6.96it/s]\u001b[A\n",
      "86it [06:16,  7.14it/s]\u001b[A\n",
      "87it [06:17,  7.08it/s]\u001b[A\n",
      "88it [06:17,  7.07it/s]\u001b[A\n",
      "89it [06:17,  7.09it/s]\u001b[A\n",
      "90it [06:17,  7.15it/s]\u001b[A\n",
      "91it [06:17,  7.28it/s]\u001b[A\n",
      "92it [06:17,  7.27it/s]\u001b[A\n",
      "93it [06:17,  7.28it/s]\u001b[A\n",
      "94it [06:18,  7.25it/s]\u001b[A\n",
      "95it [06:18,  7.00it/s]\u001b[A\n",
      "96it [06:18,  6.90it/s]\u001b[A\n",
      "97it [06:18,  7.01it/s]\u001b[A\n",
      "98it [06:18,  6.83it/s]\u001b[A\n",
      "99it [06:18,  6.82it/s]\u001b[A\n",
      "100it [06:18,  6.40it/s]\u001b[A\n",
      " 62%|██████▎   | 5/8 [26:52<16:43, 334.60s/it]\n",
      "0it [00:00, ?it/s]"
     ]
    },
    {
     "name": "stdout",
     "output_type": "stream",
     "text": [
      "N_40k\n",
      "Extracting Population Activity Tensor...\n",
      "Stim: N_40k, Clusters:None\n",
      "Extracting Population Activity Tensor...\n",
      "Stim: N_40k, Clusters:None\n"
     ]
    },
    {
     "name": "stderr",
     "output_type": "stream",
     "text": [
      "\u001b[A\n",
      "1it [06:28, 388.04s/it]\u001b[A\n",
      "2it [06:28, 271.72s/it]\u001b[A\n",
      "3it [06:28, 190.30s/it]\u001b[A\n",
      "4it [06:28, 133.30s/it]\u001b[A\n",
      "5it [06:29, 93.40s/it] \u001b[A\n",
      "6it [06:29, 65.47s/it]\u001b[A\n",
      "7it [06:29, 45.93s/it]\u001b[A\n",
      "8it [06:30, 32.24s/it]\u001b[A\n",
      "9it [06:30, 22.67s/it]\u001b[A\n",
      "10it [06:30, 15.96s/it]\u001b[A\n",
      "11it [06:31, 11.27s/it]\u001b[A\n",
      "12it [06:31,  7.97s/it]\u001b[A\n",
      "13it [06:31,  5.68s/it]\u001b[A\n",
      "14it [06:32,  4.06s/it]\u001b[A\n",
      "15it [06:32,  2.95s/it]\u001b[A\n",
      "16it [06:32,  2.17s/it]\u001b[A\n",
      "17it [06:33,  1.63s/it]\u001b[A\n",
      "18it [06:33,  1.23s/it]\u001b[A\n",
      "19it [06:33,  1.04it/s]\u001b[A\n",
      "20it [06:34,  1.28it/s]\u001b[A\n",
      "21it [06:34,  1.51it/s]\u001b[A\n",
      "22it [06:34,  1.80it/s]\u001b[A\n",
      "23it [06:35,  2.08it/s]\u001b[A\n",
      "24it [06:35,  2.32it/s]\u001b[A\n",
      "25it [06:35,  2.45it/s]\u001b[A\n",
      "26it [06:36,  2.67it/s]\u001b[A\n",
      "27it [06:36,  2.82it/s]\u001b[A\n",
      "28it [06:36,  2.85it/s]\u001b[A\n",
      "29it [06:37,  2.79it/s]\u001b[A\n",
      "30it [06:37,  2.91it/s]\u001b[A\n",
      "31it [06:37,  3.03it/s]\u001b[A\n",
      "32it [06:38,  3.09it/s]\u001b[A\n",
      "33it [06:38,  3.16it/s]\u001b[A\n",
      "34it [06:38,  3.21it/s]\u001b[A\n",
      "35it [06:38,  3.14it/s]\u001b[A\n",
      "36it [06:39,  3.17it/s]\u001b[A\n",
      "37it [06:39,  3.19it/s]\u001b[A\n",
      "38it [06:39,  3.16it/s]\u001b[A\n",
      "39it [06:40,  3.18it/s]\u001b[A\n",
      "40it [06:40,  3.10it/s]\u001b[A\n",
      "41it [06:40,  3.05it/s]\u001b[A\n",
      "42it [06:41,  3.08it/s]\u001b[A\n",
      "43it [06:41,  3.10it/s]\u001b[A\n",
      "44it [06:41,  3.19it/s]\u001b[A\n",
      "45it [06:42,  3.27it/s]\u001b[A\n",
      "46it [06:42,  3.18it/s]\u001b[A\n",
      "47it [06:42,  3.10it/s]\u001b[A\n",
      "48it [06:43,  3.09it/s]\u001b[A\n",
      "49it [06:43,  3.16it/s]\u001b[A\n",
      "50it [06:43,  3.24it/s]\u001b[A\n",
      "51it [06:44,  3.24it/s]\u001b[A\n",
      "52it [06:44,  3.24it/s]\u001b[A\n",
      "53it [06:44,  3.29it/s]\u001b[A\n",
      "54it [06:44,  3.28it/s]\u001b[A\n",
      "55it [06:45,  3.32it/s]\u001b[A\n",
      "56it [06:45,  3.14it/s]\u001b[A\n",
      "57it [06:45,  3.12it/s]\u001b[A\n",
      "58it [06:46,  3.06it/s]\u001b[A\n",
      "59it [06:46,  3.16it/s]\u001b[A\n",
      "60it [06:46,  3.16it/s]\u001b[A\n",
      "61it [06:47,  3.13it/s]\u001b[A\n",
      "62it [06:47,  3.12it/s]\u001b[A\n",
      "63it [06:47,  3.01it/s]\u001b[A\n",
      "64it [06:48,  2.99it/s]\u001b[A\n",
      "65it [06:48,  2.99it/s]\u001b[A\n",
      "66it [06:48,  3.02it/s]\u001b[A\n",
      "67it [06:49,  2.97it/s]\u001b[A\n",
      "68it [06:49,  3.09it/s]\u001b[A\n",
      "69it [06:49,  3.06it/s]\u001b[A\n",
      "70it [06:50,  3.14it/s]\u001b[A\n",
      "71it [06:50,  3.10it/s]\u001b[A\n",
      "72it [06:50,  3.07it/s]\u001b[A\n",
      "73it [06:51,  3.05it/s]\u001b[A\n",
      "74it [06:51,  3.06it/s]\u001b[A\n",
      "75it [06:51,  3.13it/s]\u001b[A\n",
      "76it [06:52,  3.14it/s]\u001b[A\n",
      "77it [06:52,  3.10it/s]\u001b[A\n",
      "78it [06:52,  3.12it/s]\u001b[A\n",
      "79it [06:53,  3.13it/s]\u001b[A\n",
      "80it [06:53,  3.16it/s]\u001b[A\n",
      "81it [06:53,  3.16it/s]\u001b[A\n",
      "82it [06:53,  3.21it/s]\u001b[A\n",
      "83it [06:54,  3.12it/s]\u001b[A\n",
      "84it [06:54,  3.18it/s]\u001b[A\n",
      "85it [06:54,  3.17it/s]\u001b[A\n",
      "86it [06:55,  3.17it/s]\u001b[A\n",
      "87it [06:55,  3.19it/s]\u001b[A\n",
      "88it [06:55,  3.21it/s]\u001b[A\n",
      "89it [06:56,  3.27it/s]\u001b[A\n",
      "90it [06:56,  3.24it/s]\u001b[A\n",
      "91it [06:56,  3.16it/s]\u001b[A\n",
      "92it [06:57,  3.11it/s]\u001b[A\n",
      "93it [06:57,  3.10it/s]\u001b[A\n",
      "94it [06:57,  3.07it/s]\u001b[A\n",
      "95it [06:58,  3.03it/s]\u001b[A\n",
      "96it [06:58,  3.04it/s]\u001b[A\n",
      "97it [06:58,  2.92it/s]\u001b[A\n",
      "98it [06:59,  3.03it/s]\u001b[A\n",
      "99it [06:59,  3.07it/s]\u001b[A\n",
      "100it [06:59,  3.12it/s]\u001b[A\n",
      " 75%|███████▌  | 6/8 [33:52<12:00, 360.35s/it]\n",
      "0it [00:00, ?it/s]"
     ]
    },
    {
     "name": "stdout",
     "output_type": "stream",
     "text": [
      "O_40k\n",
      "Extracting Population Activity Tensor...\n",
      "Stim: O_40k, Clusters:None\n",
      "Extracting Population Activity Tensor...\n",
      "Stim: O_40k, Clusters:None\n"
     ]
    },
    {
     "name": "stderr",
     "output_type": "stream",
     "text": [
      "\u001b[A\n",
      "1it [02:58, 178.92s/it]\u001b[A\n",
      "6it [02:59, 125.25s/it]\u001b[A\n",
      "11it [02:59, 87.68s/it]\u001b[A\n",
      "16it [02:59, 61.39s/it]\u001b[A\n",
      "21it [02:59, 42.98s/it]\u001b[A\n",
      "26it [02:59, 30.09s/it]\u001b[A\n",
      "31it [02:59, 21.07s/it]\u001b[A\n",
      "36it [02:59, 14.76s/it]\u001b[A\n",
      "41it [02:59, 10.34s/it]\u001b[A\n",
      "46it [02:59,  7.24s/it]\u001b[A\n",
      "51it [03:00,  5.08s/it]\u001b[A\n",
      "56it [03:00,  3.56s/it]\u001b[A\n",
      "61it [03:00,  2.50s/it]\u001b[A\n",
      "66it [03:00,  1.76s/it]\u001b[A\n",
      "71it [03:00,  1.24s/it]\u001b[A\n",
      "76it [03:00,  1.15it/s]\u001b[A\n",
      "81it [03:00,  1.62it/s]\u001b[A\n",
      "86it [03:00,  2.28it/s]\u001b[A\n",
      "91it [03:00,  3.19it/s]\u001b[A\n",
      "96it [03:01,  4.41it/s]\u001b[A\n",
      " 88%|████████▊ | 7/8 [36:53<05:06, 306.68s/it]\n",
      "0it [00:00, ?it/s]"
     ]
    },
    {
     "name": "stdout",
     "output_type": "stream",
     "text": [
      "P_40k\n",
      "Extracting Population Activity Tensor...\n",
      "Stim: P_40k, Clusters:None\n",
      "Extracting Population Activity Tensor...\n",
      "Stim: P_40k, Clusters:None\n"
     ]
    },
    {
     "name": "stderr",
     "output_type": "stream",
     "text": [
      "\u001b[A\n",
      "1it [03:11, 191.77s/it]\u001b[A\n",
      "4it [03:11, 134.25s/it]\u001b[A\n",
      "7it [03:12, 93.99s/it] \u001b[A\n",
      "10it [03:12, 65.80s/it]\u001b[A\n",
      "13it [03:12, 46.07s/it]\u001b[A\n",
      "16it [03:12, 32.26s/it]\u001b[A\n",
      "19it [03:12, 22.60s/it]\u001b[A\n",
      "22it [03:12, 15.83s/it]\u001b[A\n",
      "25it [03:12, 11.09s/it]\u001b[A\n",
      "28it [03:12,  7.78s/it]\u001b[A\n",
      "31it [03:12,  5.45s/it]\u001b[A\n",
      "34it [03:13,  3.83s/it]\u001b[A\n",
      "37it [03:13,  2.69s/it]\u001b[A\n",
      "40it [03:13,  1.89s/it]\u001b[A\n",
      "43it [03:13,  1.34s/it]\u001b[A\n",
      "46it [03:13,  1.06it/s]\u001b[A\n",
      "49it [03:13,  1.49it/s]\u001b[A\n",
      "52it [03:13,  2.07it/s]\u001b[A\n",
      "55it [03:13,  2.87it/s]\u001b[A\n",
      "58it [03:13,  3.93it/s]\u001b[A\n",
      "61it [03:13,  5.30it/s]\u001b[A\n",
      "64it [03:14,  6.99it/s]\u001b[A\n",
      "67it [03:14,  9.02it/s]\u001b[A\n",
      "70it [03:14, 11.21it/s]\u001b[A\n",
      "73it [03:14, 13.73it/s]\u001b[A\n",
      "76it [03:14, 16.30it/s]\u001b[A\n",
      "79it [03:14, 18.86it/s]\u001b[A\n",
      "83it [03:14, 21.21it/s]\u001b[A\n",
      "86it [03:14, 23.18it/s]\u001b[A\n",
      "89it [03:14, 24.75it/s]\u001b[A\n",
      "92it [03:15, 26.09it/s]\u001b[A\n",
      "95it [03:15, 26.99it/s]\u001b[A\n",
      "98it [03:15, 27.49it/s]\u001b[A\n",
      "100%|██████████| 8/8 [40:09<00:00, 273.39s/it]\n"
     ]
    }
   ],
   "source": [
    "# average over all trials\n",
    "import tqdm\n",
    "thresh = 13.0\n",
    "nsamples = 100\n",
    "stim_dict = {}\n",
    "stim_shuffled_dict = {}\n",
    "stim_scm_dict = {}\n",
    "stim_betticurve_dict = {}\n",
    "stim_shuffled_betticurve_dict = {}\n",
    "with h5.File(binned_data_file, 'r') as bdf:\n",
    "    stims = bdf.keys()\n",
    "    for stim in tqdm.tqdm(stims):\n",
    "        print(stim)\n",
    "        trial=0\n",
    "        stim_poptens = extract_population_tensor(binned_data_file, stim)\n",
    "        stim_poptens_shuffled = extract_population_tensor(binned_data_file, stim, shuffle=True)\n",
    "        ntrials = num_trials(stim_poptens)\n",
    "        stim_dat = []\n",
    "        stim_shuffled_dat= []\n",
    "        stim_scm_dat= []\n",
    "        stim_betticurve_dat= []\n",
    "        stim_shuffled_betticurve_dat= []\n",
    "        stim_trialavg_poptens = np.mean(stim_poptens, axis=2)[:, :, np.newaxis]\n",
    "        stim_trialavg_poptens_shuffled = np.mean(stim_poptens_shuffled, axis=2)[:, :, np.newaxis]\n",
    "            \n",
    "        #stim_bettis = compute_trial_final_bettis(stim_poptens, thresh, trial)\n",
    "            \n",
    "        #stim_shuffled_bettis = compute_trial_final_bettis(stim_poptens_shuffled, thresh, trial)\n",
    "            \n",
    "        scm_bettis = calc_scm_betti_distribution(stim_trialavg_poptens, thresh, trial, nsamples)\n",
    "        \n",
    "        stim_betticurves = compute_betti_curves(stim_trialavg_poptens, thresh, trial)\n",
    "        stim_shuffled_betticurves = compute_betti_curves(stim_trialavg_poptens_shuffled, thresh, trial)\n",
    "\n",
    "        stim_scm_dict[stim] = scm_bettis\n",
    "        stim_betticurve_dict[stim] = stim_betticurves\n",
    "        stim_shuffled_betticurve_dict[stim] = stim_shuffled_betticurves"
   ]
  },
  {
   "cell_type": "code",
   "execution_count": 95,
   "metadata": {},
   "outputs": [
    {
     "data": {
      "text/plain": [
       "KeysView(<Closed HDF5 file>)"
      ]
     },
     "execution_count": 95,
     "metadata": {},
     "output_type": "execute_result"
    },
    {
     "data": {
      "image/png": "[encoded data removed]",
      "text/plain": [
       "<matplotlib.figure.Figure at 0x7fbcf3c80860>"
      ]
     },
     "metadata": {},
     "output_type": "display_data"
    }
   ],
   "source": [
    "plot_scm_distribution([stim_scm_dict['L_40k']], 0, 1)\n",
    "stims"
   ]
  },
  {
   "cell_type": "code",
   "execution_count": 93,
   "metadata": {},
   "outputs": [
    {
     "data": {
      "text/plain": [
       "array([  1.14700000e+03,   2.00000000e+00,   7.30000000e+01,\n",
       "         1.00000000e+01,   1.00000000e+00,   2.00000000e+00])"
      ]
     },
     "execution_count": 93,
     "metadata": {},
     "output_type": "execute_result"
    }
   ],
   "source": [
    "stim_betticurve_dict['L_40k'][-1]"
   ]
  },
  {
   "cell_type": "code",
   "execution_count": 100,
   "metadata": {
    "scrolled": false
   },
   "outputs": [
    {
     "data": {
      "image/png": "[encoded data removed]",
      "text/plain": [
       "<matplotlib.figure.Figure at 0x7fbcf2aa1710>"
      ]
     },
     "metadata": {},
     "output_type": "display_data"
    },
    {
     "data": {
      "image/png": "[encoded data removed]",
      "text/plain": [
       "<matplotlib.figure.Figure at 0x7fbcf2ca52b0>"
      ]
     },
     "metadata": {},
     "output_type": "display_data"
    },
    {
     "data": {
      "image/png": "[encoded data removed]",
      "text/plain": [
       "<matplotlib.figure.Figure at 0x7fbcf39bcb00>"
      ]
     },
     "metadata": {},
     "output_type": "display_data"
    },
    {
     "data": {
      "image/png": "[encoded data removed]",
      "text/plain": [
       "<matplotlib.figure.Figure at 0x7fbcf3d7b550>"
      ]
     },
     "metadata": {},
     "output_type": "display_data"
    },
    {
     "data": {
      "image/png": "[encoded data removed]",
      "text/plain": [
       "<matplotlib.figure.Figure at 0x7fbcf3db7f98>"
      ]
     },
     "metadata": {},
     "output_type": "display_data"
    },
    {
     "data": {
      "image/png": "[encoded data removed]",
      "text/plain": [
       "<matplotlib.figure.Figure at 0x7fbcf3dbad30>"
      ]
     },
     "metadata": {},
     "output_type": "display_data"
    },
    {
     "data": {
      "image/png": "[encoded data removed]",
      "text/plain": [
       "<matplotlib.figure.Figure at 0x7fbcf2a9e710>"
      ]
     },
     "metadata": {},
     "output_type": "display_data"
    },
    {
     "data": {
      "image/png": "[encoded data removed]",
      "text/plain": [
       "<matplotlib.figure.Figure at 0x7fbcf2cd9da0>"
      ]
     },
     "metadata": {},
     "output_type": "display_data"
    }
   ],
   "source": [
    "for stim in stim_betticurve_dict.keys():\n",
    "    final_bettis = stim_betticurve_dict[stim][-1]\n",
    "    plt.figure()\n",
    "    plot_scm_distribution([stim_scm_dict[stim]], 0, 1)\n",
    "    b = final_bettis[2]\n",
    "    plt.plot([b, b], [0, 0.15], 'k--')\n",
    "    plt.title(stim)\n",
    "    plt.xlim([0, 150])\n",
    "    plt.ylim([0, 0.15])"
   ]
  },
  {
   "cell_type": "code",
   "execution_count": null,
   "metadata": {
    "collapsed": true
   },
   "outputs": [],
   "source": []
  }
 ],
 "metadata": {
  "kernelspec": {
   "display_name": "Python 3",
   "language": "python",
   "name": "python3"
  },
  "language_info": {
   "codemirror_mode": {
    "name": "ipython",
    "version": 3
   },
   "file_extension": ".py",
   "mimetype": "text/x-python",
   "name": "python",
   "nbconvert_exporter": "python",
   "pygments_lexer": "ipython3",
   "version": "3.6.1"
  }
 },
 "nbformat": 4,
 "nbformat_minor": 2
}
