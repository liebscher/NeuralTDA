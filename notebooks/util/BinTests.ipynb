{
 "cells": [
  {
   "cell_type": "code",
   "execution_count": 9,
   "metadata": {},
   "outputs": [],
   "source": [
    "import numpy as np\n",
    "from ephys import core, events\n",
    "import neuraltda.topology2 as tp2\n",
    "from importlib import reload"
   ]
  },
  {
   "cell_type": "code",
   "execution_count": 2,
   "metadata": {},
   "outputs": [],
   "source": [
    "# Set up birds and block_paths\n",
    "birds = ['B1083', 'B1056', 'B1235', 'B1075']\n",
    "bps = {'B1083': '/home/brad/krista/B1083/P03S03/', 'B1075': '/home/brad/krista/B1075/P01S03/',\n",
    "       'B1235': '/home/brad/krista/B1235/P02S01/', 'B1056': '/home/brad/krista/B1056/klusta/phy020516/Pen01_Lft_AP100_ML1300__Site03_Z2500__B1056_cat_P01_S03_1/',\n",
    "       'B1056': '/home/brad/krista/B1056/klusta/phy020516/Pen01_Lft_AP100_ML1300__Site03_Z2500__B1056_cat_P01_S03_1/'}\n"
   ]
  },
  {
   "cell_type": "code",
   "execution_count": 3,
   "metadata": {},
   "outputs": [],
   "source": [
    "bp = bps['B1056']"
   ]
  },
  {
   "cell_type": "code",
   "execution_count": 4,
   "metadata": {},
   "outputs": [],
   "source": [
    "spikes = core.load_spikes(bp)\n",
    "trials = events.load_trials(bp)\n",
    "fs = core.load_fs(bp)\n",
    "clusters = core.load_clusters(bp)"
   ]
  },
  {
   "cell_type": "code",
   "execution_count": 5,
   "metadata": {},
   "outputs": [],
   "source": [
    "trial = 0\n",
    "stim_trials = trials[trials['stimulus'] == 'D_scaled_burung']\n",
    "trial_bounds = (stim_trials.iloc[trial]['time_samples'], stim_trials.iloc[trial]['stimulus_end'])\n",
    "clusters_to_use = clusters[clusters['quality'] == 'Good']\n",
    "clusters_list = clusters_to_use['cluster'].unique()\n",
    "spikes = spikes[spikes['cluster'].isin(list(clusters_list))]"
   ]
  },
  {
   "cell_type": "code",
   "execution_count": 27,
   "metadata": {},
   "outputs": [],
   "source": [
    "windows = np.around(np.linspace(0, 5, 123)*fs)\n",
    "segment = tp2.get_segment((0, trial_bounds[1]-trial_bounds[0]), fs, [0,0])\n",
    "nclus = len(clusters_list)\n"
   ]
  },
  {
   "cell_type": "code",
   "execution_count": 17,
   "metadata": {},
   "outputs": [],
   "source": [
    "reload(tp2)\n",
    "test = tp2.build_poptens_given_windows(stim_trials, spikes, windows, 0, clusters_list, nclus, segment)"
   ]
  },
  {
   "cell_type": "code",
   "execution_count": 18,
   "metadata": {},
   "outputs": [
    {
     "data": {
      "text/plain": [
       "0.0"
      ]
     },
     "execution_count": 18,
     "metadata": {},
     "output_type": "execute_result"
    }
   ],
   "source": [
    "np.amax(test)"
   ]
  },
  {
   "cell_type": "code",
   "execution_count": 36,
   "metadata": {},
   "outputs": [],
   "source": [
    "nreps = len(stim_trials.index)\n",
    "stim_recs = stim_trials['recording'].values \n",
    "nwins = len(windows)\n",
    "poptens = np.zeros((nclus, nwins, nreps))\n",
    "for rep in range(nreps):\n",
    "    trial_start = stim_trials.iloc[rep]['time_samples']\n",
    "    trial_end = stim_trials.iloc[rep]['stimulus_end']\n",
    "    samp_period = (trial_start + segment[0], \n",
    "                   trial_start + segment[1])\n",
    "    rec = stim_recs[rep]\n",
    "    stim_rec_spikes = tp2.get_spikes_in_window(spikes, samp_period, rec)\n",
    "    clusters = stim_rec_spikes['cluster'].values \n",
    "    sptimes = stim_rec_spikes['time_samples'].values - samp_period[0]\n",
    "    clusters = stim_rec_spikes['cluster'].values\n",
    "    sptclur = np.tile(sptimes[:, np.newaxis], (1, nwins))\n",
    "    swin = np.tile(windows[np.newaxis, :], (len(sptimes), 1))\n",
    "    upper = (sptclur <= swin)[:, 1:]\n",
    "    lower = (sptclur > swin)[:, 0:-1]\n",
    "    binss = np.logical_and(upper, lower)\n",
    "    for clu in clusters_list:\n",
    "        poptens[clusters_list==clu, 1:, rep] = np.sum(binss[clusters==clu, :], axis=0)"
   ]
  },
  {
   "cell_type": "code",
   "execution_count": 37,
   "metadata": {},
   "outputs": [
    {
     "data": {
      "text/plain": [
       "array([[0., 0., 2., ..., 0., 0., 0.],\n",
       "       [0., 0., 0., ..., 0., 0., 0.],\n",
       "       [0., 0., 1., ..., 0., 0., 0.],\n",
       "       ...,\n",
       "       [0., 0., 0., ..., 0., 0., 0.],\n",
       "       [0., 1., 2., ..., 0., 0., 0.],\n",
       "       [0., 3., 2., ..., 0., 0., 0.]])"
      ]
     },
     "execution_count": 37,
     "metadata": {},
     "output_type": "execute_result"
    }
   ],
   "source": [
    "poptens[:, :, 0]"
   ]
  },
  {
   "cell_type": "code",
   "execution_count": 30,
   "metadata": {},
   "outputs": [
    {
     "data": {
      "text/plain": [
       "array([0.        , 0.04098361, 0.08196721, 0.12295082, 0.16393443,\n",
       "       0.20491803, 0.24590164, 0.28688525, 0.32786885, 0.36885246,\n",
       "       0.40983607, 0.45081967, 0.49180328, 0.53278689, 0.57377049,\n",
       "       0.6147541 , 0.6557377 , 0.69672131, 0.73770492, 0.77868852,\n",
       "       0.81967213, 0.86065574, 0.90163934, 0.94262295, 0.98360656,\n",
       "       1.02459016, 1.06557377, 1.10655738, 1.14754098, 1.18852459,\n",
       "       1.2295082 , 1.2704918 , 1.31147541, 1.35245902, 1.39344262,\n",
       "       1.43442623, 1.47540984, 1.51639344, 1.55737705, 1.59836066,\n",
       "       1.63934426, 1.68032787, 1.72131148, 1.76229508, 1.80327869,\n",
       "       1.8442623 , 1.8852459 , 1.92622951, 1.96721311, 2.00819672,\n",
       "       2.04918033, 2.09016393, 2.13114754, 2.17213115, 2.21311475,\n",
       "       2.25409836, 2.29508197, 2.33606557, 2.37704918, 2.41803279,\n",
       "       2.45901639, 2.5       , 2.54098361, 2.58196721, 2.62295082,\n",
       "       2.66393443, 2.70491803, 2.74590164, 2.78688525, 2.82786885,\n",
       "       2.86885246, 2.90983607, 2.95081967, 2.99180328, 3.03278689,\n",
       "       3.07377049, 3.1147541 , 3.1557377 , 3.19672131, 3.23770492,\n",
       "       3.27868852, 3.31967213, 3.36065574, 3.40163934, 3.44262295,\n",
       "       3.48360656, 3.52459016, 3.56557377, 3.60655738, 3.64754098,\n",
       "       3.68852459, 3.7295082 , 3.7704918 , 3.81147541, 3.85245902,\n",
       "       3.89344262, 3.93442623, 3.97540984, 4.01639344, 4.05737705,\n",
       "       4.09836066, 4.13934426, 4.18032787, 4.22131148, 4.26229508,\n",
       "       4.30327869, 4.3442623 , 4.3852459 , 4.42622951, 4.46721311,\n",
       "       4.50819672, 4.54918033, 4.59016393, 4.63114754, 4.67213115,\n",
       "       4.71311475, 4.75409836, 4.79508197, 4.83606557, 4.87704918,\n",
       "       4.91803279, 4.95901639, 5.        ])"
      ]
     },
     "execution_count": 30,
     "metadata": {},
     "output_type": "execute_result"
    }
   ],
   "source": [
    "np.linspace(0,5,123)"
   ]
  },
  {
   "cell_type": "code",
   "execution_count": null,
   "metadata": {},
   "outputs": [],
   "source": []
  }
 ],
 "metadata": {
  "kernelspec": {
   "display_name": "Python 3",
   "language": "python",
   "name": "python3"
  },
  "language_info": {
   "codemirror_mode": {
    "name": "ipython",
    "version": 3
   },
   "file_extension": ".py",
   "mimetype": "text/x-python",
   "name": "python",
   "nbconvert_exporter": "python",
   "pygments_lexer": "ipython3",
   "version": "3.6.2"
  }
 },
 "nbformat": 4,
 "nbformat_minor": 2
}
