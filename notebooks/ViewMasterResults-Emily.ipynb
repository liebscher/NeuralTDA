{
 "cells": [
  {
   "cell_type": "code",
   "execution_count": 1,
   "metadata": {
    "collapsed": false
   },
   "outputs": [
    {
     "name": "stdout",
     "output_type": "stream",
     "text": [
      "Populating the interactive namespace from numpy and matplotlib\n"
     ]
    },
    {
     "data": {
      "text/plain": [
       "<module 'neuraltda.topology' from '/home/brad/code/NeuralTDA/neuraltda/topology.pyc'>"
      ]
     },
     "execution_count": 1,
     "metadata": {},
     "output_type": "execute_result"
    }
   ],
   "source": [
    "import numpy as np\n",
    "import scipy as sp\n",
    "import matplotlib.pyplot as plt\n",
    "import pickle\n",
    "import os\n",
    "import sys\n",
    "from ephys import core, events, rasters\n",
    "from neuraltda import topology\n",
    "import glob\n",
    "import string\n",
    "from scipy.io import wavfile\n",
    "import scipy.signal as signal\n",
    "from scipy.interpolate import interp1d\n",
    "import seaborn as sns\n",
    "import scipy.stats as st\n",
    "sns.set_context('poster')\n",
    "sns.set_style('white')\n",
    "\n",
    "%pylab inline\n",
    "reload(topology)"
   ]
  },
  {
   "cell_type": "code",
   "execution_count": 2,
   "metadata": {
    "collapsed": false
   },
   "outputs": [],
   "source": [
    "maxt = 100\n",
    "prefix = 'B999'\n",
    "def plotBarcodeRecursive(resDict):\n",
    "    \n",
    "    if 'barcodes' in resDict.keys():\n",
    "        barcodeDat = resDict['barcodes']\n",
    "        bettis = barcodeDat.keys()\n",
    "        for betti in bettis:\n",
    "            bettiBarcode = barcodeDat[betti]\n",
    "            nlines = len(bettiBarcode)\n",
    "            ycoords = [[s,s] for s in range(nlines)]\n",
    "            xcoords = [[s[0], s[1]+maxt*(s[1] < 0)] for s in bettiBarcode]\n",
    "            fig = plt.figure()\n",
    "            plt.plot(np.transpose(xcoords), np.transpose(ycoords))\n",
    "            plt.title('Hstr: %s  Betti: %s' % (resDict['hstr'], betti))\n",
    "            plt.show()\n",
    "    else:\n",
    "        for ind, k in enumerate(resDict.keys()):\n",
    "            plotBarcodeRecursive(resDict[k])\n",
    "            \n",
    "def plotPersistenceDiagramRecursive(resDict):\n",
    "    \n",
    "    if 'barcodes' in resDict.keys():\n",
    "        barcodeDat = resDict['barcodes']\n",
    "        bettis = barcodeDat.keys()\n",
    "        for betti in bettis:\n",
    "            bettiBarcode = barcodeDat[betti]\n",
    "            nlines = len(bettiBarcode)\n",
    "            ycoords = [s[1]+max(max(bettiBarcode))*(s[1] < 0) for s in bettiBarcode]\n",
    "            xcoords = [s[0] for s in bettiBarcode]\n",
    "            fig = plt.figure()\n",
    "            plt.plot(np.transpose(xcoords), np.transpose(ycoords), '.')\n",
    "            plt.plot(np.linspace(0, maxt, 10), np.linspace(0, maxt, 10), 'k')\n",
    "            plt.title('Hstr: %s  Betti: %s' % (resDict['hstr'], betti))\n",
    "            plt.xlim([-2, maxt])\n",
    "            plt.ylim([-2, maxt])\n",
    "            plt.show()\n",
    "    else:\n",
    "        for ind, k in enumerate(resDict.keys()):\n",
    "            plotPersistenceDiagramRecursive(resDict[k])\n",
    "\n",
    "\n",
    "def plotBettiCurveRecursive(resDict):\n",
    "    \n",
    "    if 'bettis' in resDict.keys():\n",
    "        bettiDat = resDict['bettis']\n",
    "        bettis = len(bettiDat[0][1])\n",
    "        for betti in range(bettis):\n",
    "            ycoords = [s[1][betti] for s in bettiDat]\n",
    "            xcoords = [s[0] for s in bettiDat]\n",
    "            fig = plt.figure()\n",
    "            plt.plot(np.transpose(xcoords), np.transpose(ycoords))\n",
    "            plt.title('Hstr: %s  Betti: %s' % (resDict['hstr'], betti))\n",
    "            plt.show()\n",
    "    else:\n",
    "        for ind, k in enumerate(resDict.keys()):\n",
    "            plotBettiCurveRecursive(resDict[k])\n",
    "            \n",
    "def avgBettiRecursive(bettiDict, bettinum, runningSum, N, maxT, windt, dtOver=0.0):\n",
    "    if 'bettis' in bettiDict.keys():\n",
    "        bettiT = np.array([s[0] for s in bettiDict['bettis']])*((windt-dtOver)/1000.)\n",
    "        maxT = max(bettiT)\n",
    "        try:\n",
    "            bettiB = np.array([s[1][bettinum] for s in bettiDict['bettis']])\n",
    "        except:\n",
    "            \n",
    "            bettiB = np.zeros(len(bettiT))\n",
    "        bfunc = interp1d(bettiT, bettiB, kind='zero', bounds_error=False, fill_value=(bettiB[0], bettiB[-1]))\n",
    "        t = np.linspace(0, maxT, 1000)\n",
    "        bvals = bfunc(t)\n",
    "        return (runningSum + bvals, N+1, maxT)\n",
    "    else:\n",
    "        for k in bettiDict.keys():\n",
    "            runningSum, N, maxT = avgBettiRecursive(bettiDict[k], bettinum, runningSum, N, maxT, windt, dtOver)\n",
    "        return (runningSum, N, maxT)\n",
    "    \n",
    "def avgstdBettiRecursive(bettiDict, bettinum, bettiSave, N, maxT, windt, dtOver=0.0 ):\n",
    "    if 'bettis' in bettiDict.keys():\n",
    "        bettiT = np.array([s[0] for s in bettiDict['bettis']])*((windt-dtOver)/1000.)\n",
    "        maxT = max(bettiT)\n",
    "        try:\n",
    "            bettiB = np.array([s[1][bettinum] for s in bettiDict['bettis']])\n",
    "        except:\n",
    "            \n",
    "            bettiB = np.zeros(len(bettiT))\n",
    "        bfunc = interp1d(bettiT, bettiB, kind='zero', bounds_error=False, fill_value=(bettiB[0], bettiB[-1]))\n",
    "        t = np.linspace(0, maxT, 1000)\n",
    "        bvals = np.array(bfunc(t))\n",
    "        bettiSave = np.vstack((bettiSave, bvals))\n",
    "        return (bettiSave, N+1, maxT)\n",
    "    else:\n",
    "        for k in bettiDict.keys():\n",
    "            bettiSave, N, maxT = avgstdBettiRecursive(bettiDict[k], bettinum, bettiSave, N, maxT, windt, dtOver=dtOver)\n",
    "        return (bettiSave, N, maxT) \n",
    "    \n",
    "def computeAvgStdBettiCurve(resDict, stim, betti, windt):\n",
    "    \n",
    "    stimdata = resDict[stim]\n",
    "    bettiSave = np.zeros(1000)\n",
    "    bettiSave, N, maxT = avgstdBettiRecursive(stimdata, betti, bettiSave, 0, 0, windt)\n",
    "    avgBetti = np.mean(bettiSave, axis=0)\n",
    "    stdBetti = np.std(bettiSave, axis=0)\n",
    "    semBetti = stdBetti / np.sqrt(N)\n",
    "    ci95Betti = semBetti*st.t.interval(0.95, N-1)[1]\n",
    "    t = np.linspace(0, maxT, len(avgBetti))\n",
    "    \n",
    "    return (avgBetti, stdBetti, ci95Betti, t, maxT)\n",
    "    \n",
    "def computeAvgBettiCurve(resDict, stim, betti, windt, dtOver=0.0):\n",
    "    \n",
    "    stimdata = resDict[stim]\n",
    "    \n",
    "    runningSum, N, maxT = avgBettiRecursive(stimdata, betti, np.zeros(1000), 0, 0, windt, dtOver=dtOver)\n",
    "    avgBetti = runningSum / float(N)\n",
    "    t = np.linspace(0, maxT, len(avgBetti))\n",
    "    \n",
    "    return (avgBetti, t, maxT)\n",
    "\n",
    "def computeAvgBettiCurveSingleTrial(resDict, stim, trial, betti, windt, dtOver=0.0):\n",
    "    stimdata = resDict[stim]\n",
    "    trials = stimdata.keys()\n",
    "    trialdata = stimdata[trial]\n",
    "    runningSum, N, maxT = avgBettiRecursive(trialdata, betti, np.zeros(1000), 0, 0, windt, dtOver=dtOver)\n",
    "    avgBetti = runningSum / float(N)\n",
    "    t = np.linspace(0, maxT, len(avgBetti))\n",
    "    \n",
    "    return (avgBetti, t, maxT)\n",
    "\n",
    "def plotAvgBettiCurves(avgBetti, t, betti, stim): \n",
    "    \n",
    "    plt.figure()\n",
    "    plt.plot(t, avgBetti)\n",
    "    plt.title('Stim: %s Betti: %d' %(stim, betti))\n",
    "    plt.ylim([0, max(avgBetti)+2])\n",
    "    plt.xlim([0, max(t)])\n",
    "    plt.show()\n",
    "def plotStimAvgMinusTotalAvg(resDict, stim, betti):\n",
    "    stimdata = resDict[stim]\n",
    "    t = np.linspace(0, 2, 1000)\n",
    "    runningSum, N = avgBettiRecursive(stimdata, betti, np.zeros(len(t)), 0, t)\n",
    "    avgBetti = runningSum / float(N)\n",
    "    \n",
    "    totAvg, N = avgBettiRecursive(resDict, betti, np.zeros(len(t)), 0, t)\n",
    "    totAvg = totAvg/float(N)\n",
    "    \n",
    "    \n",
    "    plt.figure(figsize=(11, 8))\n",
    "    plt.plot(t, avgBetti-totAvg)\n",
    "    sns.despine()\n",
    "    plt.title('Stim: %s Betti: %d' %(stim, betti))\n",
    "    plt.ylim([-5, 5])\n",
    "    plt.xlabel('Time (seconds)')\n",
    "    plt.ylabel('Difference')\n",
    "    plt.savefig('{}-Stim_{}-Betti_{}.png'.format(prefix, stim, betti))\n",
    "    plt.show()\n",
    "    "
   ]
  },
  {
   "cell_type": "code",
   "execution_count": null,
   "metadata": {
    "collapsed": true
   },
   "outputs": [],
   "source": []
  },
  {
   "cell_type": "code",
   "execution_count": 17,
   "metadata": {
    "collapsed": true
   },
   "outputs": [],
   "source": [
    "resFname = '/Volumes/gentner/btheilma/experiments/B1075/phy041216/Pen01_Lft_AP300_ML700__Site03_Z2700__B1075_cat_P01_S03_1/20170220T170821Z-10.0-5.0-4.0-masterResults.pkl'\n",
    "resFname = '/mnt/cube/btheilma/emily/B604/klusta/phy103116/Pen01_Lft_AP2300_ML1250__Site15_Z2780__B604_cat_P01_S15_1/Good_MUA_AllTrials_MasterResults/20170323T161421Z-10.0-5.0-13.0-masterResults.pkl'\n",
    "resFname = '/mnt/cube/btheilma/emily/B604/klusta/phy103116/Pen01_Lft_AP2300_ML1250__Site16_Z2865__B604_cat_P01_S16_1/20170405T154932Z-10.0-5.0-13.0-masterResults.pkl'\n",
    "resFname = '/mnt/cube/btheilma/emily/B604/klusta/phy103116/Pen01_Lft_AP2300_ML1250__Site15_Z2780__B604_cat_P01_S15_1/20170405T220810Z-10.0-5.0-13.0-swl_50-masterResults.pkl'\n",
    "resFname = '/mnt/cube/btheilma/emily/B604/klusta/phy103116/Pen01_Lft_AP2300_ML1250__Site15_Z2780__B604_cat_P01_S15_1/Good_MUA_ActiveListeningTrials_MasterResults/20170406T222052Z-10.0-5.0-13.0-masterResults.pkl'\n",
    "with open(resFname, 'r') as f:\n",
    "    mrDict = pickle.load(f)\n",
    "print(mrDict.keys())"
   ]
  },
  {
   "cell_type": "code",
   "execution_count": 19,
   "metadata": {
    "collapsed": false
   },
   "outputs": [],
   "source": [
    "    \n",
    "\n",
    "computationClass = 'permuted'\n",
    "results = mrDict[computationClass]\n",
    "resultsSh = mrDict['shuffledpermuted']\n",
    "stims = results.keys()"
   ]
  },
  {
   "cell_type": "code",
   "execution_count": 20,
   "metadata": {
    "collapsed": false,
    "scrolled": false
   },
   "outputs": [
    {
     "name": "stdout",
     "output_type": "stream",
     "text": [
      "[u'T40S40D3', u'T3S8D40', u'T3S3D-1', u'T40S70D-1', u'T3S3D40', u'T40S70D3', u'T3S8D-1', u'T40S40D-1']\n",
      "[u'T40S40D3', u'T3S8D40', u'T3S3D-1', u'T40S70D-1', u'T3S3D40', u'T40S70D3', u'T3S8D-1', u'T40S40D-1']\n"
     ]
    }
   ],
   "source": [
    "print(stims)\n",
    "behav_stims = [s for s in stims if s[0]=='T']\n",
    "print(behav_stims)\n"
   ]
  },
  {
   "cell_type": "code",
   "execution_count": 21,
   "metadata": {
    "collapsed": false
   },
   "outputs": [
    {
     "data": {
      "image/png": "[encoded data removed]",
      "text/plain": [
       "<matplotlib.figure.Figure at 0x7f5f252d8850>"
      ]
     },
     "metadata": {},
     "output_type": "display_data"
    }
   ],
   "source": [
    "bettisave = np.zeros((1000, len(stims)))\n",
    "betti = 1\n",
    "windt = 10.0\n",
    "for ind, stim in enumerate(behav_stims):\n",
    "    (avgBetti, t, maxT) = computeAvgBettiCurve(results, stim, betti, windt, dtOver=windt/2.0)\n",
    "    bettisave[:, ind] = avgBetti\n",
    "plt.figure(figsize=(11,11))  \n",
    "colormap = plt.cm.gist_ncar\n",
    "plt.gca().set_color_cycle([colormap(i) for i in np.linspace(0, 0.9, len(behav_stims))])\n",
    "\n",
    "plt.plot(t, bettisave)\n",
    "plt.legend(behav_stims, loc='left')\n",
    "plt.savefig('/home/brad/B604_P01S15_Betti{}_dt{}-ActiveListeningTrial_AllStims_GoodMUA-original.png'.format(betti, windt), format='png')"
   ]
  },
  {
   "cell_type": "code",
   "execution_count": null,
   "metadata": {
    "collapsed": false
   },
   "outputs": [],
   "source": [
    "bettisave = np.zeros((1000, len(stims)))\n",
    "betti = 1\n",
    "windt = 10.0\n",
    "for ind, stim in enumerate(behav_stims):\n",
    "    (avgBetti, t, maxT) = computeAvgBettiCurve(resultsSh, stim, betti, windt, dtOver=windt/2.0)\n",
    "    bettisave[:, ind] = avgBetti\n",
    "plt.figure(figsize=(11,11))    \n",
    "colormap = plt.cm.gist_ncar\n",
    "plt.gca().set_color_cycle([colormap(i) for i in np.linspace(0, 0.9, len(behav_stims))])\n",
    "plt.plot(t, bettisave)\n",
    "plt.savefig('/home/brad/B604_P01S16_Betti{}_dt{}-AllTrial_AllStims_GoodMUA_shuffled.png'.format(betti, windt), format='png')"
   ]
  },
  {
   "cell_type": "code",
   "execution_count": null,
   "metadata": {
    "collapsed": false,
    "scrolled": false
   },
   "outputs": [],
   "source": [
    "bettisave = np.zeros((1000, len(behav_stims)))\n",
    "betti = 1\n",
    "windt = 20.0\n",
    "for ind, stim in enumerate(behav_stims):\n",
    "    (avgBettiR, tR, maxTR) = computeAvgBettiCurve(results, stim, betti, windt, dtOver=windt/2.0)\n",
    "    (avgBetti, t, maxT) = computeAvgBettiCurve(resultsSh, stim, betti, windt, dtOver=windt/2.0)\n",
    "    bettisave[:, ind] = avgBettiR - avgBetti\n",
    "plt.figure(figsize=(11,11)) \n",
    "colormap = plt.cm.gist_ncar\n",
    "plt.gca().set_color_cycle([colormap(i) for i in np.linspace(0, 0.9, len(behav_stims))])\n",
    "plt.plot(t, bettisave)\n",
    "\n",
    "plt.legend(behav_stims, loc='lower left')\n",
    "plt.savefig('/home/brad/B604_P01S16_Betti{}_dt{}-AllTrial_AllStims_GoodMUA_originalminusshuffled.png'.format(betti, windt), format='png')"
   ]
  },
  {
   "cell_type": "code",
   "execution_count": null,
   "metadata": {
    "collapsed": true
   },
   "outputs": [],
   "source": [
    "MRs = glob.glob('/home/brad/bcube/experiments/B1083/klusta/phy040516/Pen03_Lft_AP0_ML1000__Site03_Z2700__B1083_cat_P03_S03_1/2016111*')\n",
    "\n",
    "thresh = 4.0\n",
    "changedt = [s for s in MRs if s.split('-')[2] == str(thresh)]\n",
    "cdt_over = sort(changedt)[range(0, len(changedt), 2)]"
   ]
  },
  {
   "cell_type": "markdown",
   "metadata": {},
   "source": [
    "# All Stims at once across params"
   ]
  },
  {
   "cell_type": "code",
   "execution_count": null,
   "metadata": {
    "collapsed": false
   },
   "outputs": [],
   "source": [
    "MRs = glob.glob('/Volumes/gentner/btheilma/experiments/B1235/phy051316/Pen02_Lft_AP200_ML800__Site01_Z3000__B1235_cat_P02_S01_1/*masterResults.pkl')\n",
    "\n",
    "thresh = 4.0\n",
    "changedt = [s for s in MRs if s.split('-')[3] == str(thresh)]\n",
    "cdt_over = sort(changedt)\n",
    "cdt_over"
   ]
  },
  {
   "cell_type": "code",
   "execution_count": null,
   "metadata": {
    "collapsed": false,
    "scrolled": false
   },
   "outputs": [],
   "source": [
    "bettisave = np.zeros((1000, len(stims)))\n",
    "for resFname in cdt_over:\n",
    "    print(resFname)\n",
    "    with open(resFname, 'r') as f:\n",
    "        mrDict = pickle.load(f)\n",
    "    windt = float(resFname.split('-')[1])\n",
    "    dtOvr = float(resFname.split('-')[2])\n",
    "    computationClass = 'permuted'\n",
    "    results = mrDict[computationClass]\n",
    "    resultsSh = mrDict['shuffledpermuted']\n",
    "    stims = results.keys()\n",
    "    betti = 1\n",
    "    for ind, stim in enumerate(stims):\n",
    "        (avgBetti, t, maxT) = computeAvgBettiCurve(results, stim, betti, windt, dtOvr)\n",
    "        bettisave[:, ind] = avgBetti\n",
    "    plt.figure(figsize=(11,11))    \n",
    "    plt.plot(t, bettisave)\n",
    "    plt.title('Window Size: {} ms Threshold: {} Betti: {}'.format(windt, thresh, betti))\n",
    "    plt.xlabel('Time (seconds)')\n",
    "    plt.ylabel('Betti Number Value')\n",
    "    plt.savefig('/Users/brad/B1235_P02S01_{}_{}_{}_b{}.pdf'.format(windt, dtOvr, thresh, betti), format='pdf')"
   ]
  },
  {
   "cell_type": "code",
   "execution_count": null,
   "metadata": {
    "collapsed": false,
    "scrolled": false
   },
   "outputs": [],
   "source": [
    "bettisave = np.zeros((1000, len(stims)))\n",
    "for resFname in cdt_over:\n",
    "    print(resFname)\n",
    "    with open(resFname, 'r') as f:\n",
    "        mrDict = pickle.load(f)\n",
    "    windt = float(resFname.split('-')[1])\n",
    "    dtOvr = float(resFname.split('-')[2])\n",
    "    computationClass = 'permuted'\n",
    "    results = mrDict[computationClass]\n",
    "    resultsSh = mrDict['shuffledpermuted']\n",
    "    stims = results.keys()\n",
    "    betti = 0\n",
    "    for ind, stim in enumerate(stims):\n",
    "        (avgBetti, t, maxT) = computeAvgBettiCurve(results, stim, betti, windt, dtOvr)\n",
    "        bettisave[:, ind] = avgBetti\n",
    "    plt.figure(figsize=(11,11))    \n",
    "    plt.plot(t, bettisave)\n",
    "    plt.title('Window Size: {} Threshold: {} Betti: {}'.format(windt, thresh, betti))"
   ]
  },
  {
   "cell_type": "markdown",
   "metadata": {},
   "source": [
    "# All Bettis Avg One Stim"
   ]
  },
  {
   "cell_type": "code",
   "execution_count": null,
   "metadata": {
    "collapsed": false,
    "scrolled": false
   },
   "outputs": [],
   "source": [
    "bettisave = np.zeros((1000, len(stims)))\n",
    "maxbetti = 3\n",
    "stim = 'A_scaled_burung'\n",
    "for resFname in cdt_over:\n",
    "    print(resFname)\n",
    "    with open(resFname, 'r') as f:\n",
    "        mrDict = pickle.load(f)\n",
    "    windt = float(resFname.split('-')[1])\n",
    "    dtOvr = float(resFname.split('-')[2])\n",
    "    computationClass = 'permuted'\n",
    "    results = mrDict[computationClass]\n",
    "    resultsSh = mrDict['shuffledpermuted']\n",
    "    stims = results.keys()\n",
    "    betti = 1\n",
    "    for ind, betti in enumerate(range(maxbetti)):\n",
    "        (avgBetti, t, maxT) = computeAvgBettiCurve(results, stim, betti, windt, dtOvr)\n",
    "        bettisave[:, ind] = avgBetti\n",
    "    plt.figure(figsize=(11,11))    \n",
    "    plt.plot(t, bettisave)\n",
    "    plt.title('Window Size: {} ms Threshold: {} Stimulus: {}'.format(windt, thresh, stim))\n",
    "    plt.xlabel('Time (seconds)')\n",
    "    plt.ylabel('Betti Number Value')\n",
    "    plt.savefig('/Users/brad/B1235_P02S01_{}_{}_{}_{}.pdf'.format(windt, dtOvr, thresh, stim), format='pdf')"
   ]
  },
  {
   "cell_type": "code",
   "execution_count": null,
   "metadata": {
    "collapsed": false,
    "scrolled": false
   },
   "outputs": [],
   "source": [
    "bettisave = np.zeros((1000, len(stims)))\n",
    "maxbetti = 3\n",
    "stim = 'A_scaled_burung'\n",
    "for resFname in cdt_over:\n",
    "    print(resFname)\n",
    "    with open(resFname, 'r') as f:\n",
    "        mrDict = pickle.load(f)\n",
    "    windt = float(resFname.split('-')[1])\n",
    "    dtOvr = float(resFname.split('-')[2])\n",
    "    computationClass = 'permuted'\n",
    "    results = mrDict[computationClass]\n",
    "    resultsSh = mrDict['shuffledpermuted']\n",
    "    stims = results.keys()\n",
    "    betti = 1\n",
    "    fig, axarr = plt.subplots(4,4, figsize=(11,11), sharey=True, sharex=True)\n",
    "    axarr = axarr.flatten()\n",
    "    for ind, stim in enumerate(stims):\n",
    "        #print((ind, stim))\n",
    "        for ind2, betti in enumerate(range(maxbetti)):\n",
    "            (avgBetti, t, maxT) = computeAvgBettiCurve(results, stim, betti, windt, dtOvr)\n",
    "            bettisave[:, ind2] = avgBetti\n",
    "     \n",
    "        axarr[ind].plot(t, bettisave)\n",
    "        #axarr[ind].set_title('Stimulus: {}'.format(stim))\n",
    "        #axarr[ind].set_xlabel('Time (seconds)')\n",
    "        #axarr[ind].set_ylabel('Betti Number Value')\n",
    "    plt.savefig('/Users/brad/B1235_P02S01_{}_{}_{}_{}.pdf'.format(windt, dtOvr, thresh, 'AllStim'), format='pdf')"
   ]
  },
  {
   "cell_type": "code",
   "execution_count": null,
   "metadata": {
    "collapsed": false,
    "scrolled": false
   },
   "outputs": [],
   "source": [
    "bettisave = np.zeros((1000, len(stims)))\n",
    "ind = 0\n",
    "fig, axarr = plt.subplots(2,2, figsize=(11,11), sharex=True, sharey=True)\n",
    "axarr = axarr.flatten()\n",
    "for ind,resFname in enumerate(cdt_over):\n",
    "    print(resFname)\n",
    "    with open(resFname, 'r') as f:\n",
    "        mrDict = pickle.load(f)\n",
    "    windt = float(resFname.split('-')[1])\n",
    "    dtOvr = float(resFname.split('-')[2])\n",
    "    computationClass = 'permuted'\n",
    "    results = mrDict[computationClass]\n",
    "    resultsSh = mrDict['shuffledpermuted']\n",
    "    stims = results.keys()\n",
    "    betti = 2\n",
    "    stim = 'A_scaled_burung'\n",
    "    (avgBetti, t, maxT) = computeAvgBettiCurve(results, stim, betti, windt, dtOvr)\n",
    "    (avgBettishuff, t2, maxT2) = computeAvgBettiCurve(resultsSh, stim, betti, windt, dtOvr)\n",
    "    axarr[ind].plot(t, avgBetti, t2, avgBettishuff)\n",
    "    axarr[ind].set_title('{} ms'.format(windt))\n",
    "\n",
    "plt.savefig('/Users/brad/B1235_P02S01_{}_{}_{}_b{}-wshuffledAlldts.pdf'.format(windt, dtOvr, thresh, betti), format='pdf')"
   ]
  },
  {
   "cell_type": "code",
   "execution_count": null,
   "metadata": {
    "collapsed": false
   },
   "outputs": [],
   "source": [
    "axarr"
   ]
  },
  {
   "cell_type": "markdown",
   "metadata": {},
   "source": [
    "# Single stim across windts on same plot - constant threshold"
   ]
  },
  {
   "cell_type": "code",
   "execution_count": null,
   "metadata": {
    "collapsed": false
   },
   "outputs": [],
   "source": [
    "MRs = glob.glob('/home/brad/bcube/experiments/B1083/klusta/phy040516/Pen03_Lft_AP0_ML1000__Site03_Z2700__B1083_cat_P03_S03_1/2016111*')\n",
    "\n",
    "thresh = 3.0\n",
    "changedt = [s for s in MRs if s.split('-')[2] == str(thresh)]\n",
    "cdt_over = sort(changedt)[range(1, len(changedt), 2)]\n",
    "\n",
    "windts = [5.0, 10.0, 25.0, 50.0]\n",
    "betti = 2\n",
    "stim = 'K_40k'\n",
    "bettisave = np.zeros((1000, len(cdt_over)))\n",
    "for ind, resFname in enumerate(cdt_over):\n",
    "    with open(resFname, 'r') as f:\n",
    "        mrDict = pickle.load(f)\n",
    "    \n",
    "    computationClass = 'permuted'\n",
    "    results = mrDict[computationClass]\n",
    "    (avgBetti, t, maxT) = computeAvgBettiCurve(results, stim, betti, windts[ind])\n",
    "    bettisave[:, ind] = avgBetti\n",
    "plt.figure(figsize=(11,11))    \n",
    "plt.plot(t, bettisave)\n",
    "plt.title('')\n",
    "plt.legend(windts)"
   ]
  },
  {
   "cell_type": "code",
   "execution_count": null,
   "metadata": {
    "collapsed": false,
    "scrolled": false
   },
   "outputs": [],
   "source": [
    "MRs = glob.glob('/home/brad/bcube/experiments/B1083/klusta/phy040516/Pen03_Lft_AP0_ML1000__Site03_Z2700__B1083_cat_P03_S03_1/2016111*')\n",
    "\n",
    "thresh = 3.0\n",
    "changedt = [s for s in MRs if s.split('-')[2] == str(thresh)]\n",
    "cdt_over = sort(changedt)[range(1, len(changedt), 2)]\n",
    "\n",
    "windts = [5.0, 10.0, 25.0, 50.0]\n",
    "betti = 2\n",
    "stim = 'K_40k'\n",
    "avgbettisave = np.zeros((1000, len(cdt_over)))\n",
    "stdbettisave = np.zeros((1000, len(cdt_over)))\n",
    "cisave = np.zeros((1000, len(cdt_over)))\n",
    "for ind, resFname in enumerate(cdt_over):\n",
    "    with open(resFname, 'r') as f:\n",
    "        mrDict = pickle.load(f)\n",
    "    \n",
    "    computationClass = 'permuted'\n",
    "    results = mrDict[computationClass]\n",
    "    (avgBetti, stdBetti, ci95betti, t, maxT) = computeAvgStdBettiCurve(results, stim, betti, windts[ind])\n",
    "    avgbettisave[:, ind] = avgBetti\n",
    "    stdbettisave[:, ind] = stdBetti\n",
    "    cisave[:, ind] = ci95betti\n",
    "plt.figure(figsize=(11,11))    \n",
    "plt.plot(t, avgbettisave)\n",
    "plt.plot(t, avgbettisave + cisave, 'k.')\n",
    "plt.plot(t, avgbettisave - cisave, 'k-')\n",
    "plt.title('yep')\n",
    "plt.legend(windts)"
   ]
  },
  {
   "cell_type": "markdown",
   "metadata": {},
   "source": [
    "# Look at changing winsize, constant threshold, with 50% overlap"
   ]
  },
  {
   "cell_type": "code",
   "execution_count": null,
   "metadata": {
    "collapsed": false,
    "scrolled": false
   },
   "outputs": [],
   "source": [
    "MRs = glob.glob('/home/brad/bcube/experiments/B1075/phy041216/Pen01_Lft_AP300_ML700__Site03_Z2700__B1075_cat_P01_S03_1/paramSweep_20161111/*.pkl')\n",
    "\n",
    "bird = 'B1075'\n",
    "thresh = 3.0\n",
    "changedt = [s for s in MRs if s.split('-')[2] == str(thresh)]\n",
    "cdt_over = sort(changedt)[range(1, len(changedt), 2)]\n",
    "over = 0.5\n",
    "\n",
    "windts = [5.0, 10.0, 25.0, 50.0]\n",
    "\n",
    "bkan = pickle.load(open(cdt_over[0], 'r'))\n",
    "stims = bkan['permuted'].keys()\n",
    "bettis = [0,1,2]\n",
    "for stim in stims:\n",
    "    for betti in bettis:   \n",
    "        avgbettisave = np.zeros((1000, len(cdt_over)))\n",
    "        stdbettisave = np.zeros((1000, len(cdt_over)))\n",
    "        cisave = np.zeros((1000, len(cdt_over)))\n",
    "        for ind, resFname in enumerate(cdt_over):\n",
    "            with open(resFname, 'r') as f:\n",
    "                mrDict = pickle.load(f)\n",
    "    \n",
    "            computationClass = 'permuted'\n",
    "            results = mrDict[computationClass]\n",
    "            if over:\n",
    "                dt = windts[ind]*over\n",
    "            (avgBetti, stdBetti, ci95betti, t, maxT) = computeAvgStdBettiCurve(results, stim, betti, dt)\n",
    "            avgbettisave[:, ind] = avgBetti\n",
    "            stdbettisave[:, ind] = stdBetti\n",
    "            cisave[:, ind] = ci95betti\n",
    "        plt.figure(figsize=(11,11))    \n",
    "        plt.plot(t, avgbettisave)\n",
    "        plt.plot(t, avgbettisave + cisave, 'k--', linewidth=1)\n",
    "        plt.plot(t, avgbettisave - cisave, 'k--', linewidth=1)\n",
    "        plt.title('Bird {} Betti {} Stim {}'.format(bird, betti, stim))\n",
    "        plt.legend(windts)\n",
    "        plt.savefig('/home/brad/plots/{}-Betti{}-Stim{}-Thresh{}-Over{}.png'.format(bird, betti, stim, thresh, over))"
   ]
  },
  {
   "cell_type": "markdown",
   "metadata": {
    "collapsed": true
   },
   "source": [
    "# Look at changing threshold, constant winsize, with 50% overlap"
   ]
  },
  {
   "cell_type": "code",
   "execution_count": null,
   "metadata": {
    "collapsed": false,
    "scrolled": false
   },
   "outputs": [],
   "source": [
    "MRs = glob.glob('/home/brad/bcube/experiments/B1083/klusta/phy040516/Pen03_Lft_AP0_ML1000__Site03_Z2700__B1083_cat_P03_S03_1/2016111*')\n",
    "MRs = glob.glob('/home/brad/bcube/experiments/B1075/phy041216/Pen01_Lft_AP300_ML700__Site03_Z2700__B1075_cat_P01_S03_1/paramSweep_20161111/*.pkl')\n",
    "\n",
    "\n",
    "bird = 'B1075'\n",
    "winsize = 10.0\n",
    "changethresh = [s for s in MRs if s.split('-')[1] == str(winsize)]\n",
    "cdt_over = sort(changethresh)[range(1, len(changethresh), 2)]\n",
    "over = 0.5\n",
    "\n",
    "threshs = [3.0, 4.0, 6.0]\n",
    "\n",
    "bkan = pickle.load(open(cdt_over[0], 'r'))\n",
    "stims = bkan['permuted'].keys()\n",
    "bettis = [0,1,2]\n",
    "for stim in stims:\n",
    "    for betti in bettis:   \n",
    "        avgbettisave = np.zeros((1000, len(cdt_over)))\n",
    "        stdbettisave = np.zeros((1000, len(cdt_over)))\n",
    "        cisave = np.zeros((1000, len(cdt_over)))\n",
    "        for ind, resFname in enumerate(cdt_over):\n",
    "            with open(resFname, 'r') as f:\n",
    "                mrDict = pickle.load(f)\n",
    "    \n",
    "            computationClass = 'permuted'\n",
    "            results = mrDict[computationClass]\n",
    "            if over:\n",
    "                dt =winsize*over\n",
    "            (avgBetti, stdBetti, ci95betti, t, maxT) = computeAvgStdBettiCurve(results, stim, betti, dt)\n",
    "            avgbettisave[:, ind] = avgBetti\n",
    "            stdbettisave[:, ind] = stdBetti\n",
    "            cisave[:, ind] = ci95betti\n",
    "        plt.figure(figsize=(11,11))    \n",
    "        plt.plot(t, avgbettisave)\n",
    "        plt.plot(t, avgbettisave + cisave, 'k--', linewidth=1)\n",
    "        plt.plot(t, avgbettisave - cisave, 'k--', linewidth=1)\n",
    "        plt.title('Bird {} Betti {} Stim {}'.format(bird, betti, stim))\n",
    "        plt.legend(threshs)\n",
    "        plt.savefig('/home/brad/plots/{}-Betti{}-Stim{}-WinSize{}-Over{}.png'.format(bird, betti, stim, winsize, over))"
   ]
  },
  {
   "cell_type": "code",
   "execution_count": null,
   "metadata": {
    "collapsed": false
   },
   "outputs": [],
   "source": [
    "MR = '/home/brad/experiments/B999/20161202T212758Z-25.0-0.0-4.0-masterResults.pkl'\n",
    "with open(MR, 'r') as f:\n",
    "    res = pickle.load(f)"
   ]
  },
  {
   "cell_type": "markdown",
   "metadata": {
    "collapsed": false
   },
   "source": [
    "# Plot single trial bettis"
   ]
  },
  {
   "cell_type": "code",
   "execution_count": null,
   "metadata": {
    "collapsed": false
   },
   "outputs": [],
   "source": [
    "betti = 1\n",
    "\n",
    "betti = 1\n",
    "windt = 25.0\n",
    "stimlist = ['T40S40D3', 'T3S3D-1']\n",
    "colors = ['r', 'b']\n",
    "plt.figure(figsize=(11,11))  \n",
    "colormap = plt.cm.gist_ncar\n",
    "for cind, stim in enumerate(stims):\n",
    "    bettisave = np.zeros((1000, len(results[stim].keys())))\n",
    "    for ind, trial in enumerate(results[stim].keys()):\n",
    "        (avgBetti, t, maxT) = computeAvgBettiCurveSingleTrial(results, stim, trial, betti, windt, dtOver=12.5)\n",
    "        bettisave[:, ind] = avgBetti\n",
    "    plt.plot(t, bettisave, color=colormap(np.linspace(0, 0.9, len(stims))[cind]))\n",
    "\n"
   ]
  },
  {
   "cell_type": "code",
   "execution_count": null,
   "metadata": {
    "collapsed": false,
    "scrolled": false
   },
   "outputs": [],
   "source": [
    "stims\n"
   ]
  },
  {
   "cell_type": "code",
   "execution_count": null,
   "metadata": {
    "collapsed": true
   },
   "outputs": [],
   "source": []
  }
 ],
 "metadata": {
  "kernelspec": {
   "display_name": "Python 2",
   "language": "python",
   "name": "python2"
  },
  "language_info": {
   "codemirror_mode": {
    "name": "ipython",
    "version": 2
   },
   "file_extension": ".py",
   "mimetype": "text/x-python",
   "name": "python",
   "nbconvert_exporter": "python",
   "pygments_lexer": "ipython2",
   "version": "2.7.13"
  }
 },
 "nbformat": 4,
 "nbformat_minor": 0
}
