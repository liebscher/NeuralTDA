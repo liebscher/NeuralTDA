{
 "cells": [
  {
   "cell_type": "code",
   "execution_count": 1,
   "metadata": {
    "collapsed": false
   },
   "outputs": [
    {
     "data": {
      "text/plain": [
       "<module 'neuraltda.simpComp' from '/home/brad/code/NeuralTDA/neuraltda/simpComp.pyc'>"
      ]
     },
     "execution_count": 1,
     "metadata": {},
     "output_type": "execute_result"
    }
   ],
   "source": [
    "import neuraltda.simpComp as sc\n",
    "import neuraltda.topology2 as tp2\n",
    "import neuraltda.spectralAnalysis as sa\n",
    "import pickle\n",
    "import glob\n",
    "import os\n",
    "import numpy as np\n",
    "import scipy as sp\n",
    "import matplotlib.pyplot as plt\n",
    "import seaborn as sns\n",
    "import h5py as h5\n",
    "import tqdm\n",
    "%matplotlib inline\n",
    "reload(sa)\n",
    "reload(sc)"
   ]
  },
  {
   "cell_type": "code",
   "execution_count": 2,
   "metadata": {
    "collapsed": false
   },
   "outputs": [],
   "source": [
    "\n",
    "blockPath = '/mnt/cube/btheilma/emily/B604/klusta/phy103116/Pen01_Lft_AP2300_ML1250__Site15_Z2780__B604_cat_P01_S15_1/'\n",
    "#Load simplicial chain generator dictionary\n",
    "scgfss = glob.glob(os.path.join(blockPath, 'scg/*.scg'))\n"
   ]
  },
  {
   "cell_type": "code",
   "execution_count": 6,
   "metadata": {
    "collapsed": false
   },
   "outputs": [
    {
     "name": "stdout",
     "output_type": "stream",
     "text": [
      "{'Targ': ['Targ-correct-wide.scg', 'Targ-correct-narrow.scg', 'Targ-incorrect-wide.scg', 'Targ-incorrect-narrow.scg'], 'SD': ['SD-correct-wide.scg', 'SD-correct-narrow.scg', 'SD-incorrect-wide.scg', 'SD-incorrect-narrow.scg']}\n"
     ]
    }
   ],
   "source": [
    "apdict = {'A':'active', 'P':'passive'}\n",
    "cidict = {'C':'correct', 'I':'incorrect'}\n",
    "widthdict= {'W':'wide', 'N':'narrow', 'B':''}\n",
    "periods = ['SD', 'Targ']\n",
    "widths = ['W', 'N', 'B']\n",
    "widths = ['W', 'N']\n",
    "ap = ['A', 'P']\n",
    "ci = ['C', 'I']\n",
    "fnames = {}\n",
    "for p in periods:\n",
    "    k = []\n",
    "    for a in ci:\n",
    "        for w in widths:\n",
    "            if w == 'B':\n",
    "                q = ''\n",
    "            else:\n",
    "                q = '-{}'.format(widthdict[w])\n",
    "            k.append(p + '-' + cidict[a] + q +'.scg')\n",
    "    fnames[p] = k\n",
    "print(fnames)\n",
    "\n"
   ]
  },
  {
   "cell_type": "code",
   "execution_count": 7,
   "metadata": {
    "collapsed": false
   },
   "outputs": [],
   "source": [
    "def JS_vs_beta_pairwise(beta, scg_A, scg_B, d):\n",
    "    '''\n",
    "    Compute pairwise divergences between trials \n",
    "    for spike trains A and B represented as simplicial complexes\n",
    "    '''\n",
    "    divsave = []\n",
    "    divincsave = []\n",
    "    diffsave = []\n",
    "    ntrials1 = len(scg_A)\n",
    "    ntrials2 = len(scg_B)\n",
    "    for ind in range(ntrials1):\n",
    "        for ind2 in range(ntrials2):\n",
    "            #print(stim1, t1, stim2, t2)\n",
    "            scgAt = scg_A[ind] #SD\n",
    "            scgBt = scg_B[ind2] #Targ\n",
    "            div = sa.compute_JS_expanded(scgAt, scgBt, d, beta)\n",
    "            divsave.append(float(div))\n",
    "    m1 = np.mean(divsave)\n",
    "    sd1 = np.std(divsave)\n",
    "\n",
    "    return divsave"
   ]
  },
  {
   "cell_type": "code",
   "execution_count": 8,
   "metadata": {
    "collapsed": false
   },
   "outputs": [
    {
     "name": "stdout",
     "output_type": "stream",
     "text": [
      "('/mnt/cube/btheilma/emily/B604/klusta/phy103116/Pen01_Lft_AP2300_ML1250__Site15_Z2780__B604_cat_P01_S15_1/scg/20170508T205931Z-10.0-5.0-13.0-SD-correct-wide.scg', '/mnt/cube/btheilma/emily/B604/klusta/phy103116/Pen01_Lft_AP2300_ML1250__Site15_Z2780__B604_cat_P01_S15_1/scg/20170508T205931Z-10.0-5.0-13.0-SD-correct-wide.scg')\n"
     ]
    },
    {
     "name": "stderr",
     "output_type": "stream",
     "text": [
      "100%|██████████| 20/20 [12:13<00:00, 36.73s/it]\n",
      "  0%|          | 0/20 [00:00<?, ?it/s]"
     ]
    },
    {
     "name": "stdout",
     "output_type": "stream",
     "text": [
      "('/mnt/cube/btheilma/emily/B604/klusta/phy103116/Pen01_Lft_AP2300_ML1250__Site15_Z2780__B604_cat_P01_S15_1/scg/20170508T205931Z-10.0-5.0-13.0-SD-correct-narrow.scg', '/mnt/cube/btheilma/emily/B604/klusta/phy103116/Pen01_Lft_AP2300_ML1250__Site15_Z2780__B604_cat_P01_S15_1/scg/20170508T205931Z-10.0-5.0-13.0-SD-correct-narrow.scg')\n"
     ]
    },
    {
     "name": "stderr",
     "output_type": "stream",
     "text": [
      "100%|██████████| 20/20 [00:28<00:00,  1.45s/it]\n"
     ]
    },
    {
     "name": "stdout",
     "output_type": "stream",
     "text": [
      "('/mnt/cube/btheilma/emily/B604/klusta/phy103116/Pen01_Lft_AP2300_ML1250__Site15_Z2780__B604_cat_P01_S15_1/scg/20170508T195953Z-10.0-5.0-13.0-SD-incorrect-wide.scg', '/mnt/cube/btheilma/emily/B604/klusta/phy103116/Pen01_Lft_AP2300_ML1250__Site15_Z2780__B604_cat_P01_S15_1/scg/20170508T195953Z-10.0-5.0-13.0-SD-incorrect-wide.scg')\n"
     ]
    },
    {
     "name": "stderr",
     "output_type": "stream",
     "text": [
      "100%|██████████| 20/20 [02:45<00:00,  8.18s/it]\n",
      "  0%|          | 0/20 [00:00<?, ?it/s]"
     ]
    },
    {
     "name": "stdout",
     "output_type": "stream",
     "text": [
      "('/mnt/cube/btheilma/emily/B604/klusta/phy103116/Pen01_Lft_AP2300_ML1250__Site15_Z2780__B604_cat_P01_S15_1/scg/20170508T195953Z-10.0-5.0-13.0-SD-incorrect-narrow.scg', '/mnt/cube/btheilma/emily/B604/klusta/phy103116/Pen01_Lft_AP2300_ML1250__Site15_Z2780__B604_cat_P01_S15_1/scg/20170508T195953Z-10.0-5.0-13.0-SD-incorrect-narrow.scg')\n"
     ]
    },
    {
     "name": "stderr",
     "output_type": "stream",
     "text": [
      "100%|██████████| 20/20 [00:11<00:00,  1.71it/s]\n"
     ]
    }
   ],
   "source": [
    "AllSave = {}\n",
    "\n",
    "stim_hi = 'T40S40D3'\n",
    "stim_lo = 'T3S3D40'\n",
    "for tc, sdc in zip(fnames['SD'], fnames['SD']):\n",
    "    sdfile = glob.glob(os.path.join(blockPath, 'scg/*-'+sdc))[0]\n",
    "    tfile = glob.glob(os.path.join(blockPath, 'scg/*-'+tc))[0]\n",
    "    print((sdfile, tfile))\n",
    "    with open(sdfile, 'r') as scgf:\n",
    "        scgHi = pickle.load(scgf)\n",
    "    \n",
    "    with open(tfile, 'r') as scgf:\n",
    "        scgLo = pickle.load(scgf)\n",
    "\n",
    "    betas = np.linspace(0.001, 1,20)\n",
    "    msdActSave = []\n",
    "    for beta in tqdm.tqdm(betas):\n",
    "        divsave = JS_vs_beta_pairwise(beta,scgHi[stim_hi], scgLo[stim_lo], 1)\n",
    "        msdActSave.append(divsave)\n",
    "    AllSave[tc] = msdActSave\n",
    "    \n",
    "import pickle\n",
    "with open('B604_1SLSE_pairwise_comparisons_attn_comparison_version2.pkl', 'wb') as out:\n",
    "    pickle.dump(AllSave, out)\n",
    "    "
   ]
  },
  {
   "cell_type": "code",
   "execution_count": 9,
   "metadata": {
    "collapsed": false
   },
   "outputs": [
    {
     "data": {
      "text/plain": [
       "<matplotlib.text.Text at 0x7f14f1f0a910>"
      ]
     },
     "execution_count": 9,
     "metadata": {},
     "output_type": "execute_result"
    },
    {
     "data": {
      "image/png": "[encoded data removed]",
      "text/plain": [
       "<matplotlib.figure.Figure at 0x7f14f22ed090>"
      ]
     },
     "metadata": {},
     "output_type": "display_data"
    },
    {
     "data": {
      "image/png": "[encoded data removed]",
      "text/plain": [
       "<matplotlib.figure.Figure at 0x7f14f22f34d0>"
      ]
     },
     "metadata": {},
     "output_type": "display_data"
    }
   ],
   "source": [
    "#Wide\n",
    "\n",
    "cw = np.array(AllSave['SD-correct-wide.scg'])\n",
    "xw = np.array(AllSave['SD-incorrect-wide.scg'])\n",
    "\n",
    "cw_mean = np.mean(cw, axis=1)\n",
    "xw_mean = np.mean(xw, axis=1)\n",
    "\n",
    "cw_sem = np.std(cw, axis=1) / np.sqrt(np.shape(cw)[1])\n",
    "xw_sem = np.std(xw, axis=1) / np.sqrt(np.shape(xw)[1])\n",
    "\n",
    "plt.figure()\n",
    "plt.errorbar(betas, cw_mean, fmt='g', yerr=cw_sem)\n",
    "plt.errorbar(betas, xw_mean, fmt='k', yerr=xw_sem)\n",
    "plt.title('Wide Attend Hi vs. Attend Lo')\n",
    "plt.xlabel('Beta')\n",
    "plt.ylabel('Mean JSD')\n",
    "\n",
    "#Narrow\n",
    "\n",
    "cn = np.array(AllSave['SD-correct-narrow.scg'])\n",
    "xn = np.array(AllSave['SD-incorrect-narrow.scg'])\n",
    "\n",
    "cn_mean = np.mean(cn, axis=1)\n",
    "xn_mean = np.mean(xn, axis=1)\n",
    "\n",
    "cn_sem = np.std(cn, axis=1) / np.sqrt(np.shape(cn)[1])\n",
    "xn_sem = np.std(xn, axis=1) / np.sqrt(np.shape(xn)[1])\n",
    "\n",
    "plt.figure()\n",
    "plt.errorbar(betas, cn_mean, fmt='g', yerr=cn_sem)\n",
    "plt.errorbar(betas, xn_mean, fmt='k', yerr=xn_sem)\n",
    "plt.title('Narrow Attend Hi vs. Attend Lo')\n",
    "plt.xlabel('Beta')\n",
    "plt.ylabel('Mean JSD')"
   ]
  },
  {
   "cell_type": "code",
   "execution_count": null,
   "metadata": {
    "collapsed": true
   },
   "outputs": [],
   "source": []
  }
 ],
 "metadata": {
  "kernelspec": {
   "display_name": "Python 2",
   "language": "python",
   "name": "python2"
  },
  "language_info": {
   "codemirror_mode": {
    "name": "ipython",
    "version": 2
   },
   "file_extension": ".py",
   "mimetype": "text/x-python",
   "name": "python",
   "nbconvert_exporter": "python",
   "pygments_lexer": "ipython2",
   "version": "2.7.13"
  }
 },
 "nbformat": 4,
 "nbformat_minor": 0
}
