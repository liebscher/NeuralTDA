{
 "cells": [
  {
   "cell_type": "code",
   "execution_count": 5,
   "metadata": {},
   "outputs": [
    {
     "name": "stdout",
     "output_type": "stream",
     "text": [
      "    cluster quality\n",
      "1         2    Good\n",
      "3         4    Good\n",
      "4         5    Good\n",
      "5         6    Good\n",
      "6         7    Good\n",
      "7         8    Good\n",
      "8         9    Good\n",
      "9        10    Good\n",
      "10       11    Good\n",
      "11       12    Good\n",
      "12       13    Good\n",
      "13       14    Good\n",
      "14       15    Good\n",
      "15       16    Good\n",
      "16       17    Good\n",
      "17       18    Good\n",
      "18       19    Good\n",
      "19       20    Good\n",
      "20       21    Good\n",
      "21       22    Good\n",
      "22       23    Good\n",
      "23       24    Good\n",
      "24       25    Good\n",
      "25       26    Good\n",
      "26       27    Good\n",
      "27       28    Good\n",
      "28       29    Good\n",
      "29       30    Good\n",
      "30       31    Good\n",
      "31       32    Good\n",
      "32       33    Good\n",
      "33       34    Good\n",
      "34       35    Good\n"
     ]
    }
   ],
   "source": [
    "from ephys import core, events, rasters\n",
    "\n",
    "\n",
    "\n",
    "# Set up birds and block_paths\n",
    "birds = ['B1083', 'B1056', 'B1235', 'B1075']\n",
    "bps = {'B1083': '/home/brad/krista/B1083/P03S03/', 'B1075': '/home/brad/krista/B1075/P01S03/',\n",
    "       'B1235': '/home/brad/krista/B1235/P02S01/', 'B1056': '/home/brad/krista/B1056/klusta/phy020516/Pen01_Lft_AP100_ML1300__Site03_Z2500__B1056_cat_P01_S03_1/',\n",
    "       'B1056': '/home/brad/krista/B1056/klusta/phy020516/Pen01_Lft_AP100_ML1300__Site03_Z2500__B1056_cat_P01_S03_1/'}\n",
    "\n",
    "\n",
    "bird = 'B1075'\n",
    "\n",
    "block_path = bps[bird]\n",
    "spikes     = core.load_spikes(block_path)\n",
    "clusters   = core.load_clusters(block_path)\n",
    "digmarks = events.load_events(block_path, 'DigMark')\n",
    "fs         = core.load_fs(block_path)\n",
    "trials     = events.load_trials(block_path)\n",
    "rec        = 0 \n",
    "\n",
    "clusters_to_plot = clusters[clusters['quality']=='Good']\n",
    "print(clusters_to_plot)"
   ]
  },
  {
   "cell_type": "code",
   "execution_count": null,
   "metadata": {},
   "outputs": [],
   "source": []
  }
 ],
 "metadata": {
  "kernelspec": {
   "display_name": "Python 3",
   "language": "python",
   "name": "python3"
  },
  "language_info": {
   "codemirror_mode": {
    "name": "ipython",
    "version": 3
   },
   "file_extension": ".py",
   "mimetype": "text/x-python",
   "name": "python",
   "nbconvert_exporter": "python",
   "pygments_lexer": "ipython3",
   "version": "3.6.2"
  }
 },
 "nbformat": 4,
 "nbformat_minor": 2
}
