{
 "cells": [
  {
   "cell_type": "code",
   "execution_count": 1,
   "metadata": {},
   "outputs": [
    {
     "name": "stderr",
     "output_type": "stream",
     "text": [
      "/home/brad/.conda/envs/neuraltda-3/lib/python3.6/site-packages/IPython/html.py:14: ShimWarning: The `IPython.html` package has been deprecated since IPython 4.0. You should import from `notebook` instead. `IPython.html.widgets` has moved to `ipywidgets`.\n",
      "  \"`IPython.html.widgets` has moved to `ipywidgets`.\", ShimWarning)\n"
     ]
    },
    {
     "data": {
      "text/plain": [
       "<module 'neuraltda.TPLCP' from '/home/brad/code/NeuralTDA/neuraltda/TPLCP.py'>"
      ]
     },
     "execution_count": 1,
     "metadata": {},
     "output_type": "execute_result"
    }
   ],
   "source": [
    "import numpy as np\n",
    "import scipy as sp\n",
    "from importlib import reload\n",
    "import neuraltda.topology2 as tp2\n",
    "import glob\n",
    "import os\n",
    "import matplotlib.pyplot as plt\n",
    "%matplotlib inline\n",
    "\n",
    "import seaborn as sns\n",
    "import pandas as pd\n",
    "from neuraltda import TPLCP\n",
    "reload(TPLCP)"
   ]
  },
  {
   "cell_type": "code",
   "execution_count": 6,
   "metadata": {
    "collapsed": true
   },
   "outputs": [],
   "source": [
    "block_path = '/home/brad/krista/B1075/P01S03/'\n",
    "block_path = '/home/brad/krista/B1083/P03S03/'\n",
    "bdf = glob.glob('/home/brad/krista/B1083/P03S03/binned_data/win-10.0_dtovr-5.0_seg-0-0-fulltrial/20170626T223014Z-10.0-5.0.binned')[0]\n",
    "\n",
    "birds = ['B1083', 'B1075', 'B1235']\n",
    "#birds = ['B1075']\n",
    "\n",
    "bps = {'B1083': '/home/brad/krista/B1083/P03S03/', 'B1075': '/home/brad/krista/B1075/P01S03/', 'B1235': '/home/brad/krista/B1235/P02S01/'}\n",
    "\n",
    "# Stim classes\n",
    "B1083_classes = {'M_40k': 'R', 'N_40k':'L', 'O_40k':'R', 'P_40k':'L'}\n",
    "B1075_classes = {'E_40k': 'R', 'F_40k':'L', 'G_40k':'R', 'H_40k':'L'}\n",
    "B1087_classes = {'M_40k': 'R', 'N_40k':'L', 'O_40k':'R', 'P_40k':'L'}\n",
    "B1235_classes = {'E_scaled_burung': 'R', 'F_scaled_burung':'L', 'G_scaled_burung':'R', 'H_scaled_burung':'L'}\n",
    "\n",
    "stims = ['M_40k', 'N_40k', 'O_40k', 'P_40k']\n",
    "B1083_stims = ['M_40k', 'N_40k', 'O_40k', 'P_40k']\n",
    "B1075_stims = ['E_40k', 'F_40k', 'G_40k', 'H_40k']\n",
    "B1235_stims = ['E_scaled_burung', 'F_scaled_burung', 'G_scaled_burung', 'H_scaled_burung']\n",
    "\n",
    "stim_classes = {'B1083': B1083_classes, 'B1075': B1075_classes, 'B1235': B1235_classes}\n",
    "bird_stims = {'B1083': B1083_stims, 'B1075': B1075_stims, 'B1235': B1235_stims}"
   ]
  },
  {
   "cell_type": "code",
   "execution_count": 7,
   "metadata": {},
   "outputs": [
    {
     "name": "stdout",
     "output_type": "stream",
     "text": [
      "/home/brad/krista/B1083/P03S03/binned_data/win-10.0_dtovr-5.0_seg-0-0-ForLogisticPred/20170724T191746Z-10.0-5.0.binned\n",
      "/home/brad/krista/B1075/P01S03/binned_data/win-10.0_dtovr-5.0_seg-0-0-ForLogisticPred/20170724T194237Z-10.0-5.0.binned\n",
      "/home/brad/krista/B1235/P02S01/binned_data/win-10.0_dtovr-5.0_seg-0-0-ForLogisticPred/20170724T194243Z-10.0-5.0.binned\n"
     ]
    }
   ],
   "source": [
    "winsize = 10.0\n",
    "dtovr = winsize*0.5\n",
    "comment = 'ForLogisticPred'\n",
    "segment_info = [0,0]\n",
    "\n",
    "bdfs = []\n",
    "for bird in birds:\n",
    "    block_path = bps[bird]\n",
    "    bfdict = tp2.dag_bin(block_path, winsize, segment_info, cluster_group=['Good'], dt_overlap=dtovr, comment=comment)\n",
    "    bdf = glob.glob(os.path.join(bfdict['raw'], '*.binned'))[0]\n",
    "    print(bdf)\n",
    "    bdfs.append([bird, bdf])"
   ]
  },
  {
   "cell_type": "code",
   "execution_count": 8,
   "metadata": {
    "collapsed": true
   },
   "outputs": [],
   "source": [
    "# Behavioral class decoder accuracy vs shuffled. \n",
    "\n",
    "reload(tp2)\n",
    "analysis_id = 'test'\n",
    "thresh = 4.0\n",
    "nperms = 20\n",
    "ncellsperm = 30\n",
    "dim = 2\n",
    "Ntimes = 10\n",
    "twin = np.linspace(0, 6000, Ntimes)\n",
    "p_test = 0.2\n",
    "N_tests = 30\n",
    "\n",
    "name = 'ShuffleClassLabels'\n",
    "acframe = pd.DataFrame(columns=['Bird', 'Accuracy', 'Shuffle'])\n",
    "for b in bdfs:\n",
    "    bird = b[0]\n",
    "    bdf = b[1]\n",
    "    stimc = stim_classes[bird]\n",
    "    stims = bird_stims[bird]\n",
    "    (bc2, t, t_ms) = tp2.compute_betti_curves(analysis_id, block_path, bdf, thresh, nperms, ncellsperm, 2, twin, winsize, dtovr)\n",
    "    (bc1, t, t_ms) = tp2.compute_betti_curves(analysis_id, block_path, bdf, thresh, nperms, ncellsperm, 1, twin, winsize, dtovr)\n",
    "    (bc0, t, t_ms) = tp2.compute_betti_curves(analysis_id, block_path, bdf, thresh, nperms, ncellsperm, 0, twin, winsize, dtovr)\n",
    "    (bc3, t, t_ms) = tp2.compute_betti_curves(analysis_id, block_path, bdf, thresh, nperms, ncellsperm, 3, twin, winsize, dtovr)\n",
    "    \n",
    "\n",
    "    #bc2s, ts, ts_ms) = tp2.compute_betti_curves(analysis_id, block_path, bdf, thresh, nperms, ncellsperm, 2, twin, winsize, dtovr, shuffle=True)\n",
    "    #bc1s, ts, ts_ms) = tp2.compute_betti_curves(analysis_id, block_path, bdf, thresh, nperms, ncellsperm, 1, twin, winsize, dtovr, shuffle=True)\n",
    "    #bc0s, ts, ts_ms) = tp2.compute_betti_curves(analysis_id, block_path, bdf, thresh, nperms, ncellsperm, 0, twin, winsize, dtovr, shuffle=True)\n",
    "    #bc3s, ts, ts_ms) = tp2.compute_betti_curves(analysis_id, block_path, bdf, thresh, nperms, ncellsperm, 3, twin, winsize, dtovr, shuffle=True)\n",
    "    \n",
    "    \n",
    "\n",
    "    accuracies = TPLCP.predict_stimuli_classes([bc1, bc2, bc0, bc3], Ntimes, stims, stimc, p_test, N_tests)\n",
    "    accuracies_shuff = TPLCP.predict_stimuli_classes([bc1, bc2, bc0, bc3], Ntimes, stims, stimc, p_test, N_tests, shuff_Y=True)\n",
    "    acframeapp = pd.DataFrame({'Bird': N_tests*[bird], 'Accuracy': accuracies, 'Shuffle': N_tests*['No'] })\n",
    "    acframeapps = pd.DataFrame({'Bird': N_tests*[bird], 'Accuracy': accuracies_shuff, 'Shuffle': N_tests*['Yes'] })\n",
    "    acframe = acframe.append(acframeapp)\n",
    "    acframe = acframe.append(acframeapps)"
   ]
  },
  {
   "cell_type": "code",
   "execution_count": 9,
   "metadata": {},
   "outputs": [
    {
     "data": {
      "image/png": "[encoded data removed]",
      "text/plain": [
       "<matplotlib.figure.Figure at 0x7f610eb702e8>"
      ]
     },
     "metadata": {},
     "output_type": "display_data"
    }
   ],
   "source": [
    "    \n",
    "plt.figure()\n",
    "sns.boxplot(x='Bird', y='Accuracy', hue='Shuffle', data=acframe)\n",
    "plt.savefig('/home/brad/DailyLog/20170724/{}-{}-{}-{}-{}-{}-{}-{}-{}.png'.format(winsize, dtovr, thresh, nperms, ncellsperm, Ntimes, p_test, N_tests, name))"
   ]
  },
  {
   "cell_type": "code",
   "execution_count": null,
   "metadata": {},
   "outputs": [],
   "source": [
    "B1083_classes = {'M_40k': 'R', 'N_40k':'L', 'O_40k':'R', 'P_40k':'L'}\n",
    "B1083_unfclasses = {'I_40k': 'L', 'J_40k': 'R', 'K_40k': 'L', 'L_40k':'R'}\n",
    "\n",
    "B1075_classes = {'E_40k': 'R', 'F_40k':'L', 'G_40k':'R', 'H_40k':'L'}\n",
    "B1087_classes = {'M_40k': 'R', 'N_40k':'L', 'O_40k':'R', 'P_40k':'L'}\n",
    "B1235_classes = {'E_40k': 'R', 'F_40k':'L', 'G_40k':'R', 'H_40k':'L'}\n",
    "\n",
    "stims = ['M_40k', 'N_40k', 'O_40k', 'P_40k']\n",
    "unfstims = ['I_40k', 'J_40k', 'K_40k', 'L_40k']\n",
    "\n",
    "accuracies = TPLCP.predict_stimuli_classes([bc1, bc2, bc0], Ntimes, stims, B1083_classes, p_test, N_tests)\n",
    "print(np.mean(accuracies))\n",
    "\n",
    "unfacc = TPLCP.predict_stimuli_classes([bc1, bc2, bc0], Ntimes, unfstims, B1083_unfclasses, p_test, N_tests)\n",
    "print(np.mean(unfacc))"
   ]
  },
  {
   "cell_type": "code",
   "execution_count": null,
   "metadata": {},
   "outputs": [],
   "source": [
    "# Decode stimulus name\n",
    "B1083_classes = {'M_40k': 'A', 'N_40k':'B', 'O_40k':'C', 'P_40k':'D',\n",
    "                 'I_40k': 'E', 'J_40k': 'F', 'K_40k': 'G', 'L_40k':'H'}\n",
    "B1083_unfclasses = {}\n",
    "stims = ['M_40k', 'N_40k', 'O_40k', 'P_40k', 'I_40k', 'J_40k', 'K_40k', 'L_40k']\n",
    "\n",
    "accuracies = TPLCP.predict_stimuli_classes([bc1, bc2, bc0], Ntimes, stims, B1083_classes, 0.1, 30)\n",
    "print(np.mean(accuracies))\n"
   ]
  },
  {
   "cell_type": "code",
   "execution_count": null,
   "metadata": {},
   "outputs": [],
   "source": [
    "    plt.figure()\n",
    "    sns.boxplot( y = [accuracies, accuracies_shuff])"
   ]
  },
  {
   "cell_type": "code",
   "execution_count": null,
   "metadata": {
    "collapsed": true
   },
   "outputs": [],
   "source": []
  }
 ],
 "metadata": {
  "kernelspec": {
   "display_name": "Python 3",
   "language": "python",
   "name": "python3"
  },
  "language_info": {
   "codemirror_mode": {
    "name": "ipython",
    "version": 3
   },
   "file_extension": ".py",
   "mimetype": "text/x-python",
   "name": "python",
   "nbconvert_exporter": "python",
   "pygments_lexer": "ipython3",
   "version": "3.6.1"
  }
 },
 "nbformat": 4,
 "nbformat_minor": 2
}
