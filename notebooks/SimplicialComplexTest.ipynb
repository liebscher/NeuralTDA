{
 "cells": [
  {
   "cell_type": "code",
   "execution_count": 1,
   "metadata": {
    "collapsed": false
   },
   "outputs": [
    {
     "name": "stderr",
     "output_type": "stream",
     "text": [
      "/Users/brad/anaconda/envs/neuraltda/lib/python2.7/site-packages/pandas/computation/__init__.py:19: UserWarning: The installed version of numexpr 2.4.4 is not supported in pandas and will be not be used\n",
      "\n",
      "  UserWarning)\n"
     ]
    },
    {
     "data": {
      "text/plain": [
       "<module 'neuraltda.simpComp' from '/Users/brad/GentnerLab/code/NeuralTDA/neuraltda/simpComp.pyc'>"
      ]
     },
     "execution_count": 1,
     "metadata": {},
     "output_type": "execute_result"
    }
   ],
   "source": [
    "import neuraltda.simpComp as sc\n",
    "import neuraltda.topology2 as tp2\n",
    "import neuraltda.spectralAnalysis as sa\n",
    "import pickle\n",
    "import glob\n",
    "import os\n",
    "import numpy as np\n",
    "reload(sa)\n",
    "reload(sc)"
   ]
  },
  {
   "cell_type": "code",
   "execution_count": null,
   "metadata": {
    "collapsed": true
   },
   "outputs": [],
   "source": [
    "blockPath = '/Volumes/gentner/btheilma/experiments/B1235/phy051316/Pen02_Lft_AP200_ML800__Site03_Z3000__B1235_cat_P02_S03_1/'\n",
    "bdf = '/Volumes/gentner/btheilma/experiments/B1235/phy051316/Pen02_Lft_AP200_ML800__Site03_Z3000__B1235_cat_P02_S03_1/binned_data/20170128T005306Z/20170128T005306Z-10.0-5.0.binned'\n",
    "scgf = '/Volumes/gentner/btheilma/experiments/B1235/phy051316/Pen02_Lft_AP200_ML800__Site03_Z3000__B1235_cat_P02_S03_1/scg/20170128T005306Z-10.0-5.0.scg'"
   ]
  },
  {
   "cell_type": "code",
   "execution_count": null,
   "metadata": {
    "collapsed": false
   },
   "outputs": [],
   "source": [
    "thresh = 15.0\n",
    "sa.computeChainGroups(blockPath, bdf, thresh)"
   ]
  },
  {
   "cell_type": "code",
   "execution_count": null,
   "metadata": {
    "collapsed": false
   },
   "outputs": [],
   "source": [
    "with open(scgf, 'r') as scgff:\n",
    "    scg = pickle.load(scgff)"
   ]
  },
  {
   "cell_type": "markdown",
   "metadata": {},
   "source": [
    "# Bin, Compute Chain Group Generators"
   ]
  },
  {
   "cell_type": "code",
   "execution_count": null,
   "metadata": {
    "collapsed": false
   },
   "outputs": [],
   "source": [
    "bp1 = '/Volumes/gentner/btheilma/experiments/B1235/phy051316/Pen02_Lft_AP200_ML800__Site01_Z3000__B1235_cat_P02_S01_1/'\n",
    "\n",
    "bps = [bp1]\n",
    "\n",
    "winSize = 10.0 #ms\n",
    "segmentInfo = {'period': 1}\n",
    "ncellsperm = 0\n",
    "nperms = 0\n",
    "nshuffs = 0\n",
    "thresh = 6.0\n",
    "propOverlap = 0.5\n",
    "dtovr = propOverlap*winSize\n",
    "\n",
    "for blockPath in bps:\n",
    "    bfdict = tp2.dag_bin(blockPath, winSize, segmentInfo, ncellsperm, nperms, nshuffs, dtOverlap=dtovr)\n",
    "    bdf = glob.glob(os.path.join(bfdict['raw'], '*.binned'))[0]\n",
    "    sa.computeChainGroups(blockPath, bdf, thresh)"
   ]
  },
  {
   "cell_type": "code",
   "execution_count": null,
   "metadata": {
    "collapsed": false
   },
   "outputs": [],
   "source": [
    "bdf = glob.glob(os.path.join(bfdict['raw'], '*.binned'))[0]\n",
    "sa.computeChainGroups(blockPath, bdf, thresh)"
   ]
  },
  {
   "cell_type": "code",
   "execution_count": 2,
   "metadata": {
    "collapsed": false
   },
   "outputs": [],
   "source": [
    "blockPath = '/Volumes/gentner/btheilma/experiments/B1235/phy051316/Pen02_Lft_AP200_ML800__Site01_Z3000__B1235_cat_P02_S01_1/'\n",
    "#Load simplicial chain generator dictionary\n",
    "scgfs = glob.glob(os.path.join(blockPath, 'scg/*.scg'))[0]\n",
    "with open(scgfs, 'r') as scgf:\n",
    "    scg = pickle.load(scgf)"
   ]
  },
  {
   "cell_type": "code",
   "execution_count": 13,
   "metadata": {
    "collapsed": false
   },
   "outputs": [
    {
     "data": {
      "text/plain": [
       "[(u'F_scaled_burung', 0),\n",
       " (u'F_scaled_burung', 1),\n",
       " (u'K_scaled_burung', 0),\n",
       " (u'K_scaled_burung', 1),\n",
       " (u'O_scaled_burung', 0),\n",
       " (u'O_scaled_burung', 1),\n",
       " (u'P_scaled_burung', 0),\n",
       " (u'P_scaled_burung', 1),\n",
       " (u'M_scaled_burung', 0),\n",
       " (u'M_scaled_burung', 1),\n",
       " (u'C_scaled_burung', 0),\n",
       " (u'C_scaled_burung', 1)]"
      ]
     },
     "execution_count": 13,
     "metadata": {},
     "output_type": "execute_result"
    }
   ],
   "source": [
    "\n",
    "stimtrials = [(s, t) for s in scg.keys() for t in range(20)]\n",
    "stimtrials = [(s, t) for s in scg.keys()[0:6] for t in range(2)]\n",
    "stimtrials"
   ]
  },
  {
   "cell_type": "code",
   "execution_count": null,
   "metadata": {
    "collapsed": false
   },
   "outputs": [
    {
     "name": "stdout",
     "output_type": "stream",
     "text": [
      "(u'F_scaled_burung', 0, u'F_scaled_burung', 0)\n",
      "(u'F_scaled_burung', 0, u'F_scaled_burung', 1)\n",
      "(u'F_scaled_burung', 0, u'K_scaled_burung', 0)\n",
      "(u'F_scaled_burung', 0, u'K_scaled_burung', 1)\n",
      "(u'F_scaled_burung', 0, u'O_scaled_burung', 0)\n",
      "(u'F_scaled_burung', 0, u'O_scaled_burung', 1)\n",
      "(u'F_scaled_burung', 0, u'P_scaled_burung', 0)\n",
      "(u'F_scaled_burung', 0, u'P_scaled_burung', 1)\n",
      "(u'F_scaled_burung', 0, u'M_scaled_burung', 0)\n",
      "(u'F_scaled_burung', 0, u'M_scaled_burung', 1)\n"
     ]
    }
   ],
   "source": [
    "beta = 1\n",
    "divsave = []\n",
    "for ind in range(len(stimtrials)):\n",
    "    for ind2 in range(ind, len(stimtrials)):\n",
    "        \n",
    "        stim1 = stimtrials[ind][0]\n",
    "        t1 = stimtrials[ind][1]\n",
    "        stim2 = stimtrials[ind2][0]\n",
    "        t2 = stimtrials[ind2][1]\n",
    "        print(stim1, t1, stim2, t2)\n",
    "        scg1 = scg[stim1][t1]\n",
    "        scg2 = scg[stim2][t2]\n",
    "        \n",
    "        scgTot = sc.simplexUnion(scg1, scg2)\n",
    "        D1 = sc.maskedBoundaryOperatorMatrix(scgTot, scg1)\n",
    "        D2 = sc.maskedBoundaryOperatorMatrix(scgTot, scg2)\n",
    "        \n",
    "        rhos1 = sc.densityMatrices(D1, beta*np.ones(len(D1)))\n",
    "        rhos2 = sc.densityMatrices(D2, beta*np.ones(len(D2)))\n",
    "        \n",
    "        div = sc.JSdivergences(rhos1, rhos2)\n",
    "        divsave.append(((stim1, t1), (stim2, t2), div))"
   ]
  },
  {
   "cell_type": "code",
   "execution_count": 11,
   "metadata": {
    "collapsed": false
   },
   "outputs": [
    {
     "ename": "IndexError",
     "evalue": "list index out of range",
     "output_type": "error",
     "traceback": [
      "\u001b[0;31m---------------------------------------------------------------------------\u001b[0m",
      "\u001b[0;31mIndexError\u001b[0m                                Traceback (most recent call last)",
      "\u001b[0;32m<ipython-input-11-1d11e5ae5926>\u001b[0m in \u001b[0;36m<module>\u001b[0;34m()\u001b[0m\n\u001b[1;32m      6\u001b[0m \u001b[0;32mfor\u001b[0m \u001b[0mind\u001b[0m\u001b[0;34m,\u001b[0m \u001b[0mx\u001b[0m \u001b[0;32min\u001b[0m \u001b[0menumerate\u001b[0m\u001b[0;34m(\u001b[0m\u001b[0mdivsave\u001b[0m\u001b[0;34m)\u001b[0m\u001b[0;34m:\u001b[0m\u001b[0;34m\u001b[0m\u001b[0m\n\u001b[1;32m      7\u001b[0m \u001b[0;34m\u001b[0m\u001b[0m\n\u001b[0;32m----> 8\u001b[0;31m     \u001b[0mmat\u001b[0m\u001b[0;34m[\u001b[0m\u001b[0miu1\u001b[0m\u001b[0;34m[\u001b[0m\u001b[0;36m0\u001b[0m\u001b[0;34m]\u001b[0m\u001b[0;34m[\u001b[0m\u001b[0mind\u001b[0m\u001b[0;34m]\u001b[0m\u001b[0;34m,\u001b[0m \u001b[0miu1\u001b[0m\u001b[0;34m[\u001b[0m\u001b[0;36m1\u001b[0m\u001b[0;34m]\u001b[0m\u001b[0;34m[\u001b[0m\u001b[0mind\u001b[0m\u001b[0;34m]\u001b[0m\u001b[0;34m]\u001b[0m \u001b[0;34m=\u001b[0m \u001b[0mx\u001b[0m\u001b[0;34m[\u001b[0m\u001b[0;36m2\u001b[0m\u001b[0;34m]\u001b[0m\u001b[0;34m[\u001b[0m\u001b[0md\u001b[0m\u001b[0;34m]\u001b[0m\u001b[0;34m\u001b[0m\u001b[0m\n\u001b[0m\u001b[1;32m      9\u001b[0m \u001b[0;34m\u001b[0m\u001b[0m\n\u001b[1;32m     10\u001b[0m \u001b[0mmat\u001b[0m \u001b[0;34m=\u001b[0m \u001b[0mmat\u001b[0m \u001b[0;34m+\u001b[0m \u001b[0mmat\u001b[0m\u001b[0;34m.\u001b[0m\u001b[0mT\u001b[0m\u001b[0;34m\u001b[0m\u001b[0m\n",
      "\u001b[0;31mIndexError\u001b[0m: list index out of range"
     ]
    }
   ],
   "source": [
    "d = 3\n",
    "\n",
    "mat = np.zeros((len(stimtrials), len(stimtrials)))\n",
    "iu1 = np.triu_indices(len(stimtrials))\n",
    "\n",
    "for ind, x in enumerate(divsave):\n",
    "    \n",
    "    mat[iu1[0][ind], iu1[1][ind]] = x[2][d]\n",
    "\n",
    "mat = mat + mat.T"
   ]
  },
  {
   "cell_type": "code",
   "execution_count": 8,
   "metadata": {
    "collapsed": false
   },
   "outputs": [
    {
     "data": {
      "text/plain": [
       "<matplotlib.image.AxesImage at 0x10ad75c10>"
      ]
     },
     "execution_count": 8,
     "metadata": {},
     "output_type": "execute_result"
    },
    {
     "data": {
      "image/png": "[encoded data removed]",
      "text/plain": [
       "<matplotlib.figure.Figure at 0x10d5f2690>"
      ]
     },
     "metadata": {},
     "output_type": "display_data"
    }
   ],
   "source": [
    "import matplotlib.pyplot as plt\n",
    "%matplotlib inline\n",
    "\n",
    "plt.imshow(mat)"
   ]
  },
  {
   "cell_type": "code",
   "execution_count": 11,
   "metadata": {
    "collapsed": false
   },
   "outputs": [
    {
     "data": {
      "text/plain": [
       "36"
      ]
     },
     "execution_count": 11,
     "metadata": {},
     "output_type": "execute_result"
    }
   ],
   "source": [
    "len(iu1[0])"
   ]
  },
  {
   "cell_type": "code",
   "execution_count": 12,
   "metadata": {
    "collapsed": false
   },
   "outputs": [
    {
     "data": {
      "text/plain": [
       "[((u'F_scaled_burung', 0), (u'F_scaled_burung', 0), [0.0, 0.0, 0.0]),\n",
       " ((u'F_scaled_burung', 0),\n",
       "  (u'F_scaled_burung', 1),\n",
       "  [0.096250206232633875,\n",
       "   0.25791105562857813,\n",
       "   0.23454617231088756,\n",
       "   1.3681835110975296]),\n",
       " ((u'F_scaled_burung', 0),\n",
       "  (u'K_scaled_burung', 0),\n",
       "  [0.070969130335988645,\n",
       "   0.38091788233084189,\n",
       "   0.32206603196492006,\n",
       "   1.8140335185447738,\n",
       "   2.0531506869105645]),\n",
       " ((u'F_scaled_burung', 0),\n",
       "  (u'K_scaled_burung', 1),\n",
       "  [0.041292243475591711,\n",
       "   0.384221643245998,\n",
       "   0.22002427319869639,\n",
       "   2.7593547665595444,\n",
       "   0.92451491422377341]),\n",
       " ((u'F_scaled_burung', 1), (u'F_scaled_burung', 1), [0.0, 0.0, 0.0, 0.0]),\n",
       " ((u'F_scaled_burung', 1),\n",
       "  (u'K_scaled_burung', 0),\n",
       "  [0.059068596698701833,\n",
       "   0.46273249878859202,\n",
       "   0.28631146747744363,\n",
       "   1.0690587920903341,\n",
       "   2.4399489615648413]),\n",
       " ((u'F_scaled_burung', 1),\n",
       "  (u'K_scaled_burung', 1),\n",
       "  [0.092522494189029025,\n",
       "   0.470768653497527,\n",
       "   0.22309571728634545,\n",
       "   1.3003442723565921,\n",
       "   1.2488728822941249]),\n",
       " ((u'K_scaled_burung', 0), (u'K_scaled_burung', 0), [0.0, 0.0, 0.0, 0.0, 0.0]),\n",
       " ((u'K_scaled_burung', 0),\n",
       "  (u'K_scaled_burung', 1),\n",
       "  [0.02801739859530528,\n",
       "   0.19393818000169577,\n",
       "   0.38857410000103731,\n",
       "   1.2726521517531135,\n",
       "   1.1597330801059975]),\n",
       " ((u'K_scaled_burung', 1), (u'K_scaled_burung', 1), [0.0, 0.0, 0.0, 0.0, 0.0])]"
      ]
     },
     "execution_count": 12,
     "metadata": {},
     "output_type": "execute_result"
    }
   ],
   "source": [
    "divsave"
   ]
  },
  {
   "cell_type": "code",
   "execution_count": null,
   "metadata": {
    "collapsed": true
   },
   "outputs": [],
   "source": []
  }
 ],
 "metadata": {
  "kernelspec": {
   "display_name": "Python 2",
   "language": "python",
   "name": "python2"
  },
  "language_info": {
   "codemirror_mode": {
    "name": "ipython",
    "version": 2
   },
   "file_extension": ".py",
   "mimetype": "text/x-python",
   "name": "python",
   "nbconvert_exporter": "python",
   "pygments_lexer": "ipython2",
   "version": "2.7.11"
  }
 },
 "nbformat": 4,
 "nbformat_minor": 0
}
