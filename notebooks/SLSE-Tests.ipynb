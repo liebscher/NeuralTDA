{
 "cells": [
  {
   "cell_type": "code",
   "execution_count": 1,
   "metadata": {
    "collapsed": true
   },
   "outputs": [],
   "source": [
    "import neuraltda.simpComp as sc\n",
    "import neuraltda.topology2 as tp2\n",
    "import neuraltda.spectralAnalysis as sa\n",
    "import pickle\n",
    "import glob\n",
    "import os\n",
    "import numpy as np\n",
    "import scipy as sp\n",
    "import matplotlib.pyplot as plt\n",
    "%matplotlib inline\n",
    "reload(sa)\n",
    "reload(sc)\n",
    "import random"
   ]
  },
  {
   "cell_type": "code",
   "execution_count": 87,
   "metadata": {
    "collapsed": false
   },
   "outputs": [
    {
     "data": {
      "text/plain": [
       "[<matplotlib.lines.Line2D at 0x7f6e2e2bb610>]"
      ]
     },
     "execution_count": 87,
     "metadata": {},
     "output_type": "execute_result"
    },
    {
     "data": {
      "image/png": "[encoded data removed]",
      "text/plain": [
       "<matplotlib.figure.Figure at 0x7f6e2e3254d0>"
      ]
     },
     "metadata": {},
     "output_type": "display_data"
    }
   ],
   "source": [
    "testMaxSimps = []\n",
    "for t in range(12):\n",
    "    testMaxSimps.append(tuple(range(t+1, 5+t)))\n",
    "    \n",
    "ms = []\n",
    "ntrianglesMax = 32\n",
    "\n",
    "KLsave = []\n",
    "d=1\n",
    "beta = 0.1\n",
    "Edata = sc.simplicialChainGroups(testMaxSimps)\n",
    "for n in range(1, ntrianglesMax):\n",
    "    ms = []\n",
    "    for t in range(n):\n",
    "        ms.append(tuple(range(t+1, 4+t)))\n",
    "    #print(ms)\n",
    "    Emodel = sc.simplicialChainGroups(ms)\n",
    "    Ecomb = sc.simplexUnion(Edata, Emodel)\n",
    "    Ddata = sc.maskedBoundaryOperatorMatrix(Ecomb, Edata)\n",
    "    Dsamp = sc.maskedBoundaryOperatorMatrix(Ecomb, Emodel)\n",
    "        \n",
    "    Lsamp = sc.laplacian(Dsamp, d)\n",
    "    Ldata = sc.laplacian(Ddata, d)\n",
    "    rsamp = sc.densityMatrix(Lsamp, beta)        \n",
    "    rdata = sc.densityMatrix(Ldata, beta)\n",
    "        \n",
    "    KLsave.append(sc.KLdivergence(rdata, rsamp))\n",
    "\n",
    "\n",
    "plt.plot(range(1, 1+len(KLsave)),KLsave)"
   ]
  },
  {
   "cell_type": "code",
   "execution_count": 44,
   "metadata": {
    "collapsed": false
   },
   "outputs": [
    {
     "data": {
      "text/plain": [
       "[(1, 2), (1, 3), (2, 3), (2, 4), (3, 4)]"
      ]
     },
     "execution_count": 44,
     "metadata": {},
     "output_type": "execute_result"
    }
   ],
   "source": [
    "Emodel[2]"
   ]
  },
  {
   "cell_type": "code",
   "execution_count": 45,
   "metadata": {
    "collapsed": false
   },
   "outputs": [
    {
     "data": {
      "text/plain": [
       "[(1, 2), (1, 3), (1, 4), (2, 3), (2, 4), (3, 4), (5, 6), (5, 7), (6, 7)]"
      ]
     },
     "execution_count": 45,
     "metadata": {},
     "output_type": "execute_result"
    }
   ],
   "source": [
    "Edata[2]"
   ]
  },
  {
   "cell_type": "code",
   "execution_count": 47,
   "metadata": {
    "collapsed": false
   },
   "outputs": [
    {
     "data": {
      "text/plain": [
       "array([[ 0.,  0.,  0.,  0.,  0.,  0.,  0.,  0.,  0.],\n",
       "       [ 0.,  0., -1., -1.,  0.,  0.,  0.,  0.,  0.],\n",
       "       [ 0.,  0.,  1.,  0., -1., -1.,  0.,  0.,  0.],\n",
       "       [ 0.,  0.,  0.,  1.,  1.,  0., -1.,  0.,  0.],\n",
       "       [ 0.,  0.,  0.,  0.,  0.,  1.,  1.,  0.,  0.],\n",
       "       [ 0.,  0.,  0.,  0.,  0.,  0.,  0.,  0.,  0.]])"
      ]
     },
     "execution_count": 47,
     "metadata": {},
     "output_type": "execute_result"
    }
   ],
   "source": [
    "Ddata[1]"
   ]
  },
  {
   "cell_type": "code",
   "execution_count": 48,
   "metadata": {
    "collapsed": false
   },
   "outputs": [
    {
     "data": {
      "text/plain": [
       "array([[ 0.,  0.,  0.,  0.,  0.,  0.,  0.,  0.,  0.],\n",
       "       [ 0.,  0., -1., -1.,  0.,  0.,  0.,  0.,  0.],\n",
       "       [ 0.,  0.,  1.,  0., -1., -1.,  0.,  0.,  0.],\n",
       "       [ 0.,  0.,  0.,  1.,  1.,  0., -1.,  0.,  0.],\n",
       "       [ 0.,  0.,  0.,  0.,  0.,  1.,  1.,  0.,  0.],\n",
       "       [ 0.,  0.,  0.,  0.,  0.,  0.,  0.,  0.,  0.]])"
      ]
     },
     "execution_count": 48,
     "metadata": {},
     "output_type": "execute_result"
    }
   ],
   "source": [
    "Dsamp[1]"
   ]
  },
  {
   "cell_type": "code",
   "execution_count": 50,
   "metadata": {
    "collapsed": false
   },
   "outputs": [
    {
     "data": {
      "text/plain": [
       "[(0, 1), (0, 2), (1, 2), (1, 3), (2, 3), (2, 4), (3, 4), (3, 5), (4, 5)]"
      ]
     },
     "execution_count": 50,
     "metadata": {},
     "output_type": "execute_result"
    }
   ],
   "source": [
    "Ecomb[2]"
   ]
  },
  {
   "cell_type": "code",
   "execution_count": 81,
   "metadata": {
    "collapsed": false
   },
   "outputs": [
    {
     "data": {
      "text/plain": [
       "[<matplotlib.lines.Line2D at 0x7f6e2eaff1d0>]"
      ]
     },
     "execution_count": 81,
     "metadata": {},
     "output_type": "execute_result"
    },
    {
     "data": {
      "image/png": "[encoded data removed]",
      "text/plain": [
       "<matplotlib.figure.Figure at 0x7f6e40105b50>"
      ]
     },
     "metadata": {},
     "output_type": "display_data"
    }
   ],
   "source": [
    "tms = []\n",
    "for t in range(32):\n",
    "    tms.append(tuple(range(t+1, 4+t)))\n",
    "    \n",
    "testMaxSimps = random.sample(tms, 4)\n",
    "ms = []\n",
    "ntrianglesMax = 50\n",
    "\n",
    "KLsave = []\n",
    "d=1\n",
    "beta = 0.05\n",
    "Edata = sc.simplicialChainGroups(testMaxSimps)\n",
    "for n in range(1, ntrianglesMax):\n",
    "    ms = []\n",
    "    for t in range(n):\n",
    "        ms.append(tuple(range(t+1, 4+t)))\n",
    "    #print(ms)\n",
    "    Emodel = sc.simplicialChainGroups(ms)\n",
    "    Ecomb = sc.simplexUnion(Edata, Emodel)\n",
    "    Ddata = sc.maskedBoundaryOperatorMatrix(Ecomb, Edata)\n",
    "    Dsamp = sc.maskedBoundaryOperatorMatrix(Ecomb, Emodel)\n",
    "        \n",
    "    Lsamp = sc.laplacian(Dsamp, d)\n",
    "    Ldata = sc.laplacian(Ddata, d)\n",
    "    rsamp = sc.densityMatrix(Lsamp, beta)        \n",
    "    rdata = sc.densityMatrix(Ldata, beta)\n",
    "        \n",
    "    KLsave.append(sc.KLdivergence(rdata, rsamp))\n",
    "\n",
    "\n",
    "plt.plot(range(1, 1+len(KLsave)),KLsave)"
   ]
  },
  {
   "cell_type": "code",
   "execution_count": 79,
   "metadata": {
    "collapsed": false
   },
   "outputs": [
    {
     "data": {
      "text/plain": [
       "[(17, 18, 19), (10, 11, 12), (6, 7, 8), (23, 24, 25)]"
      ]
     },
     "execution_count": 79,
     "metadata": {},
     "output_type": "execute_result"
    }
   ],
   "source": [
    "testMaxSimps"
   ]
  },
  {
   "cell_type": "code",
   "execution_count": 33,
   "metadata": {
    "collapsed": false
   },
   "outputs": [
    {
     "name": "stdout",
     "output_type": "stream",
     "text": [
      "0.180367160522\n"
     ]
    },
    {
     "ename": "ValueError",
     "evalue": "operands could not be broadcast together with shapes (6,) (3,) ",
     "output_type": "error",
     "traceback": [
      "\u001b[1;31m---------------------------------------------------------------------------\u001b[0m",
      "\u001b[1;31mValueError\u001b[0m                                Traceback (most recent call last)",
      "\u001b[1;32m<ipython-input-33-d4e0084e94cc>\u001b[0m in \u001b[0;36m<module>\u001b[1;34m()\u001b[0m\n\u001b[0;32m     24\u001b[0m \u001b[0mrdata\u001b[0m \u001b[1;33m=\u001b[0m \u001b[0msc\u001b[0m\u001b[1;33m.\u001b[0m\u001b[0mdensityMatrix\u001b[0m\u001b[1;33m(\u001b[0m\u001b[0mLdata\u001b[0m\u001b[1;33m,\u001b[0m \u001b[0mbeta\u001b[0m\u001b[1;33m)\u001b[0m\u001b[1;33m\u001b[0m\u001b[0m\n\u001b[0;32m     25\u001b[0m \u001b[1;32mprint\u001b[0m\u001b[1;33m(\u001b[0m\u001b[0msc\u001b[0m\u001b[1;33m.\u001b[0m\u001b[0mKLdivergence\u001b[0m\u001b[1;33m(\u001b[0m\u001b[0mrdata\u001b[0m\u001b[1;33m,\u001b[0m \u001b[0mrsamp\u001b[0m\u001b[1;33m)\u001b[0m\u001b[1;33m)\u001b[0m\u001b[1;33m\u001b[0m\u001b[0m\n\u001b[1;32m---> 26\u001b[1;33m \u001b[1;32mprint\u001b[0m\u001b[1;33m(\u001b[0m\u001b[0msc\u001b[0m\u001b[1;33m.\u001b[0m\u001b[0mKLdivergence\u001b[0m\u001b[1;33m(\u001b[0m\u001b[0mrs2\u001b[0m\u001b[1;33m,\u001b[0m \u001b[0mrd2\u001b[0m\u001b[1;33m)\u001b[0m\u001b[1;33m)\u001b[0m\u001b[1;33m\u001b[0m\u001b[0m\n\u001b[0m",
      "\u001b[1;32m/home/brad/code/NeuralTDA/neuraltda/simpComp.pyc\u001b[0m in \u001b[0;36mKLdivergence\u001b[1;34m(rho, sigma)\u001b[0m\n\u001b[0;32m    240\u001b[0m     \u001b[0mr\u001b[0m \u001b[1;33m=\u001b[0m \u001b[0mnp\u001b[0m\u001b[1;33m.\u001b[0m\u001b[0mreal\u001b[0m\u001b[1;33m(\u001b[0m\u001b[0mr\u001b[0m\u001b[1;33m)\u001b[0m\u001b[1;33m\u001b[0m\u001b[0m\n\u001b[0;32m    241\u001b[0m     \u001b[0ms\u001b[0m \u001b[1;33m=\u001b[0m \u001b[0mnp\u001b[0m\u001b[1;33m.\u001b[0m\u001b[0mreal\u001b[0m\u001b[1;33m(\u001b[0m\u001b[0ms\u001b[0m\u001b[1;33m)\u001b[0m\u001b[1;33m\u001b[0m\u001b[0m\n\u001b[1;32m--> 242\u001b[1;33m     \u001b[0mdiv\u001b[0m \u001b[1;33m=\u001b[0m \u001b[0mnp\u001b[0m\u001b[1;33m.\u001b[0m\u001b[0msum\u001b[0m\u001b[1;33m(\u001b[0m\u001b[0mnp\u001b[0m\u001b[1;33m.\u001b[0m\u001b[0mmultiply\u001b[0m\u001b[1;33m(\u001b[0m\u001b[0mr\u001b[0m\u001b[1;33m,\u001b[0m \u001b[1;33m(\u001b[0m\u001b[0mnp\u001b[0m\u001b[1;33m.\u001b[0m\u001b[0mlog\u001b[0m\u001b[1;33m(\u001b[0m\u001b[0mr\u001b[0m\u001b[1;33m)\u001b[0m \u001b[1;33m-\u001b[0m \u001b[0mnp\u001b[0m\u001b[1;33m.\u001b[0m\u001b[0mlog\u001b[0m\u001b[1;33m(\u001b[0m\u001b[0ms\u001b[0m\u001b[1;33m)\u001b[0m\u001b[1;33m)\u001b[0m\u001b[1;33m/\u001b[0m\u001b[0mnp\u001b[0m\u001b[1;33m.\u001b[0m\u001b[0mlog\u001b[0m\u001b[1;33m(\u001b[0m\u001b[1;36m2.0\u001b[0m\u001b[1;33m)\u001b[0m\u001b[1;33m)\u001b[0m\u001b[1;33m)\u001b[0m\u001b[1;33m\u001b[0m\u001b[0m\n\u001b[0m\u001b[0;32m    243\u001b[0m     \u001b[1;32mreturn\u001b[0m \u001b[0mdiv\u001b[0m\u001b[1;33m\u001b[0m\u001b[0m\n\u001b[0;32m    244\u001b[0m \u001b[1;33m\u001b[0m\u001b[0m\n",
      "\u001b[1;31mValueError\u001b[0m: operands could not be broadcast together with shapes (6,) (3,) "
     ]
    }
   ],
   "source": [
    "testMaxSimps = [(1,2,3)]\n",
    "ms = [(4,5,6,7)]\n",
    "d=1\n",
    "beta = 0.15\n",
    "Edata = sc.simplicialChainGroups(testMaxSimps)\n",
    "\n",
    "Emodel = sc.simplicialChainGroups(ms)\n",
    "Ecomb = sc.simplexUnion(Edata, Emodel)\n",
    "Ddata = sc.maskedBoundaryOperatorMatrix(Ecomb, Edata)\n",
    "Dsamp = sc.maskedBoundaryOperatorMatrix(Ecomb, Emodel)\n",
    "\n",
    "Dd2 = sc.boundaryOperatorMatrix(Edata)\n",
    "Ds2 = sc.boundaryOperatorMatrix(Emodel)\n",
    "\n",
    "Ls2 = sc.laplacian(Ds2, d)\n",
    "Ld2 = sc.laplacian(Dd2, d)\n",
    "\n",
    "rs2 = sc.densityMatrix(Ls2, beta)\n",
    "rd2 = sc.densityMatrix(Ld2, beta)\n",
    "        \n",
    "Lsamp = sc.laplacian(Dsamp, d)\n",
    "Ldata = sc.laplacian(Ddata, d)\n",
    "rsamp = sc.densityMatrix(Lsamp, beta)        \n",
    "rdata = sc.densityMatrix(Ldata, beta)\n",
    "print(sc.KLdivergence(rdata, rsamp))\n",
    "print(sc.KLdivergence(rs2, rd2))"
   ]
  },
  {
   "cell_type": "code",
   "execution_count": 34,
   "metadata": {
    "collapsed": false
   },
   "outputs": [
    {
     "data": {
      "text/plain": [
       "array([[ 3.,  0.,  0.],\n",
       "       [ 0.,  3.,  0.],\n",
       "       [ 0.,  0.,  3.]])"
      ]
     },
     "execution_count": 34,
     "metadata": {},
     "output_type": "execute_result"
    }
   ],
   "source": [
    "Ld2"
   ]
  },
  {
   "cell_type": "code",
   "execution_count": 35,
   "metadata": {
    "collapsed": false
   },
   "outputs": [
    {
     "data": {
      "text/plain": [
       "array([[ 4.,  0.,  0.,  0.,  0.,  0.],\n",
       "       [ 0.,  4.,  0.,  0.,  0.,  0.],\n",
       "       [ 0.,  0.,  4.,  0.,  0.,  0.],\n",
       "       [ 0.,  0.,  0.,  4.,  0.,  0.],\n",
       "       [ 0.,  0.,  0.,  0.,  4.,  0.],\n",
       "       [ 0.,  0.,  0.,  0.,  0.,  4.]])"
      ]
     },
     "execution_count": 35,
     "metadata": {},
     "output_type": "execute_result"
    }
   ],
   "source": [
    "Ls2"
   ]
  },
  {
   "cell_type": "code",
   "execution_count": 27,
   "metadata": {
    "collapsed": false
   },
   "outputs": [
    {
     "data": {
      "text/plain": [
       "array([[ 3.,  0.,  0.],\n",
       "       [ 0.,  3.,  0.],\n",
       "       [ 0.,  0.,  3.]])"
      ]
     },
     "execution_count": 27,
     "metadata": {},
     "output_type": "execute_result"
    }
   ],
   "source": [
    "Ld2_2 = np.zeros(Ls2.shape)\n",
    "(a, b) = Ld2.shape\n",
    "Ld2_2[0:a, 0:b] =Ld2\n",
    "Ld2_2"
   ]
  },
  {
   "cell_type": "code",
   "execution_count": 28,
   "metadata": {
    "collapsed": false
   },
   "outputs": [
    {
     "name": "stdout",
     "output_type": "stream",
     "text": [
      "0.0\n"
     ]
    }
   ],
   "source": [
    "rsamp = sc.densityMatrix(Ls2, beta)        \n",
    "rdata = sc.densityMatrix(Ld2_2, beta)\n",
    "print(sc.KLdivergence(rdata, rsamp))\n"
   ]
  },
  {
   "cell_type": "code",
   "execution_count": 29,
   "metadata": {
    "collapsed": false
   },
   "outputs": [
    {
     "data": {
      "text/plain": [
       "9"
      ]
     },
     "execution_count": 29,
     "metadata": {},
     "output_type": "execute_result"
    }
   ],
   "source": [
    "np.size(Ls2)"
   ]
  },
  {
   "cell_type": "code",
   "execution_count": 36,
   "metadata": {
    "collapsed": false
   },
   "outputs": [
    {
     "data": {
      "text/plain": [
       "[array([[ 3.,  0.,  0.],\n",
       "        [ 0.,  3.,  0.],\n",
       "        [ 0.,  0.,  3.]]), array([[ 4.,  0.,  0.,  0.,  0.,  0.],\n",
       "        [ 0.,  4.,  0.,  0.,  0.,  0.],\n",
       "        [ 0.,  0.,  4.,  0.,  0.,  0.],\n",
       "        [ 0.,  0.,  0.,  4.,  0.,  0.],\n",
       "        [ 0.,  0.,  0.,  0.,  4.,  0.],\n",
       "        [ 0.,  0.,  0.,  0.,  0.,  4.]])]"
      ]
     },
     "execution_count": 36,
     "metadata": {},
     "output_type": "execute_result"
    }
   ],
   "source": [
    "sorted([Ls2, Ld2], key=np.size)"
   ]
  },
  {
   "cell_type": "code",
   "execution_count": 37,
   "metadata": {
    "collapsed": false
   },
   "outputs": [
    {
     "data": {
      "text/plain": [
       "<module 'neuraltda.simpComp' from '/home/brad/code/NeuralTDA/neuraltda/simpComp.py'>"
      ]
     },
     "execution_count": 37,
     "metadata": {},
     "output_type": "execute_result"
    }
   ],
   "source": [
    "reload(sc)"
   ]
  },
  {
   "cell_type": "code",
   "execution_count": 38,
   "metadata": {
    "collapsed": false
   },
   "outputs": [
    {
     "data": {
      "text/plain": [
       "(array([[ 3.,  0.,  0.,  0.,  0.,  0.],\n",
       "        [ 0.,  3.,  0.,  0.,  0.,  0.],\n",
       "        [ 0.,  0.,  3.,  0.,  0.,  0.],\n",
       "        [ 0.,  0.,  0.,  0.,  0.,  0.],\n",
       "        [ 0.,  0.,  0.,  0.,  0.,  0.],\n",
       "        [ 0.,  0.,  0.,  0.,  0.,  0.]]),\n",
       " array([[ 4.,  0.,  0.,  0.,  0.,  0.],\n",
       "        [ 0.,  4.,  0.,  0.,  0.,  0.],\n",
       "        [ 0.,  0.,  4.,  0.,  0.,  0.],\n",
       "        [ 0.,  0.,  0.,  4.,  0.,  0.],\n",
       "        [ 0.,  0.,  0.,  0.,  4.,  0.],\n",
       "        [ 0.,  0.,  0.,  0.,  0.,  4.]]))"
      ]
     },
     "execution_count": 38,
     "metadata": {},
     "output_type": "execute_result"
    }
   ],
   "source": [
    "sc.reconcile_laplacians(Ls2, Ld2)"
   ]
  },
  {
   "cell_type": "code",
   "execution_count": null,
   "metadata": {
    "collapsed": true
   },
   "outputs": [],
   "source": []
  }
 ],
 "metadata": {
  "kernelspec": {
   "display_name": "Python 2",
   "language": "python",
   "name": "python2"
  },
  "language_info": {
   "codemirror_mode": {
    "name": "ipython",
    "version": 2
   },
   "file_extension": ".py",
   "mimetype": "text/x-python",
   "name": "python",
   "nbconvert_exporter": "python",
   "pygments_lexer": "ipython2",
   "version": "2.7.13"
  }
 },
 "nbformat": 4,
 "nbformat_minor": 0
}
