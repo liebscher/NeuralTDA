{
 "cells": [
  {
   "cell_type": "code",
   "execution_count": 8,
   "metadata": {},
   "outputs": [
    {
     "name": "stdout",
     "output_type": "stream",
     "text": [
      "/home/brad/DailyLog/20171026/\n"
     ]
    }
   ],
   "source": [
    "# standard\n",
    "import numpy as np\n",
    "import glob\n",
    "import os\n",
    "import pickle\n",
    "import tqdm\n",
    "from itertools import product\n",
    "from joblib import Parallel, delayed\n",
    "import datetime\n",
    "\n",
    "# My code\n",
    "import neuraltda.simpComp as sc\n",
    "import neuraltda.spectralAnalysis as sa\n",
    "import neuraltda.topology2 as tp2\n",
    "import pyslsa\n",
    "\n",
    "# Plotting\n",
    "import matplotlib.pyplot as plt\n",
    "%matplotlib inline\n",
    "\n",
    "# file save path\n",
    "daystr = datetime.datetime.now().strftime('%Y%m%d')\n",
    "figsavepth = '/home/brad/DailyLog/'+daystr+'/'\n",
    "print(figsavepth)"
   ]
  },
  {
   "cell_type": "code",
   "execution_count": 2,
   "metadata": {
    "collapsed": true
   },
   "outputs": [],
   "source": [
    "# The goal is to compute the pairwise distances using the KL divergence between all trials of each stimuli.\n",
    "# First we set up the parameters for the analysis\n",
    "\n",
    "# Bird parameters\n",
    "bps = {'B1083': '/home/brad/krista/B1083/P03S03/', 'B1075': '/home/brad/krista/B1075/P01S03/',\n",
    "       'B1235': '/home/brad/krista/B1235/P02S01/', 'B1056': '/home/brad/krista/B1056/klusta/phy020516/Pen01_Lft_AP100_ML1300__Site03_Z2500__B1056_cat_P01_S03_1/',\n",
    "       'B1056': '/home/brad/krista/B1056/klusta/phy020516/Pen01_Lft_AP100_ML1300__Site03_Z2500__B1056_cat_P01_S03_1/'}\n",
    "\n",
    "birds = ['B1083']\n",
    "\n",
    "# Binning parameters\n",
    "windt = 10.0                      # milliseconds\n",
    "dtovr = 0.5*windt                 # milliseconds\n",
    "segment_info = [0, 0]             # use full Trial\n",
    "cluster_group = ['Good']          # use just good clusters\n",
    "comment = 'ForSLSE'               # SLSE Computations\n",
    "bdfs = {}                         # Dictionary to store bdf\n",
    "scgfs = {}                         # Dictionary to store simplicial complexes\n",
    "\n",
    "# Simplicial complex parameters\n",
    "thresh = 6.0\n",
    "dim = 1\n",
    "beta = -0.65\n",
    "\n",
    "dims = [1,2,3]\n",
    "betas = [-0.15, -0.65, -0.95]"
   ]
  },
  {
   "cell_type": "code",
   "execution_count": 3,
   "metadata": {},
   "outputs": [
    {
     "name": "stdout",
     "output_type": "stream",
     "text": [
      "/home/brad/krista/B1083/P03S03/binned_data/win-10.0_dtovr-5.0_seg-0-0-ForSLSE/20171019T171241Z-10.0-5.0.binned\n"
     ]
    }
   ],
   "source": [
    "# Now, bin the data\n",
    "for bird in birds:\n",
    "    block_path = bps[bird]\n",
    "    bfdict = tp2.dag_bin(block_path, windt, segment_info, cluster_group=cluster_group, dt_overlap=dtovr, comment=comment)\n",
    "    bdf = glob.glob(os.path.join(bfdict['raw'], '*.binned'))[0]\n",
    "    print(bdf)\n",
    "    bdfs[bird] = bdf"
   ]
  },
  {
   "cell_type": "code",
   "execution_count": 4,
   "metadata": {},
   "outputs": [
    {
     "name": "stdout",
     "output_type": "stream",
     "text": [
      "Computing Chain Groups...\n",
      "KeysView(<HDF5 file \"20171019T171241Z-10.0-5.0.binned\" (mode r)>)\n",
      "Stim: I_40k, Clusters:None\n",
      "Calling PySLSA...\n",
      "Stim: J_40k, Clusters:None\n",
      "Calling PySLSA...\n",
      "Stim: K_40k, Clusters:None\n",
      "Calling PySLSA...\n",
      "Stim: L_40k, Clusters:None\n",
      "Calling PySLSA...\n",
      "Stim: M_40k, Clusters:None\n",
      "Calling PySLSA...\n",
      "Stim: N_40k, Clusters:None\n",
      "Calling PySLSA...\n",
      "Stim: O_40k, Clusters:None\n",
      "Calling PySLSA...\n",
      "Stim: P_40k, Clusters:None\n",
      "Calling PySLSA...\n"
     ]
    }
   ],
   "source": [
    "# Ok, data binned, now we compute chain groups\n",
    "for bird in birds:\n",
    "    block_path = bps[bird]\n",
    "    #scg_f = sa.computeChainGroups(block_path, bdfs[bird], thresh, comment=comment)\n",
    "    scg_f = sa.pyslsa_compute_chain_groups_binned(block_path, bdfs[bird], thresh, comment=comment)\n",
    "    scgfs[bird] = scg_f"
   ]
  },
  {
   "cell_type": "code",
   "execution_count": 5,
   "metadata": {},
   "outputs": [],
   "source": [
    "scgfs[bird] = scg_f\n"
   ]
  },
  {
   "cell_type": "code",
   "execution_count": null,
   "metadata": {
    "collapsed": true,
    "scrolled": true
   },
   "outputs": [],
   "source": [
    "# Organization of scg file is [stim]\n",
    "#with open(scgfs[bird], 'rb') as scgf:\n",
    "#    scg_data = pickle.load(scgf)\n",
    "#    print(scg_data.keys())\n",
    "\n",
    "scg_data = scgfs[bird]\n",
    "# Logic of computation.  For each pair of stimuli, \n",
    "# we compute the KL divergence between all pairs of trials.\n",
    "# so we need an Nstim x Nstim x (Ntrials*Ntrials) matrix to store all the values\n",
    "stims = list(scg_data.keys())   # Get list of stimuli\n",
    "Nstim = len(stims)              # Get number of stimuli\n",
    "Ntrials = 5                     # Hard coded for now...\n",
    "\n",
    "# Create result array\n",
    "KL_divs = np.zeros((Nstim, Nstim, Ntrials*Ntrials))\n",
    "\n",
    "# KL divergence is not symmetric, so we have to do i.e. I/L and L/I\n",
    "for i, stim1 in enumerate(stims):\n",
    "    for j, stim2 in enumerate(stims):\n",
    "        print(\"Beginning Stimulus pair: ({}, {})\".format(stim1, stim2))\n",
    "        # Extract scgs for each stimulis\n",
    "        scg1_dat = scg_data[stim1]\n",
    "        scg2_dat = scg_data[stim2]\n",
    "        Parallel(n_jobs=7)(delayed(par_KL)(scg1_dat, scg2_dat, trial1, trial2, KL_divs, i, j) \n",
    "                           for trial1,trial2 in product(range(Ntrials), range(Ntrials)))\n"
   ]
  },
  {
   "cell_type": "code",
   "execution_count": null,
   "metadata": {
    "collapsed": true
   },
   "outputs": [],
   "source": [
    "def par_KL(scg1_dat, scg2_dat, trial1, trial2, KL_divs, i, j):\n",
    "    scg1 = scg1_dat[trial1]\n",
    "    scg2 = scg2_dat[trial2]\n",
    "\n",
    "    # Compute Laplacians\n",
    "    L1 = sc.compute_laplacian(scg1, dim)\n",
    "    L2 = sc.compute_laplacian(scg2, dim)\n",
    "\n",
    "    # Reconcile Laplacians\n",
    "    # Lsamp : scg1 Ldata : scg2\n",
    "    if (np.size(L1) > np.size(L2)):\n",
    "        (L2, L1) = sc.reconcile_laplacians(L2, L1)\n",
    "    else:\n",
    "        (L1, L2) = sc.reconcile_laplacians(L1, L2)\n",
    "\n",
    "    # Compute Divergence\n",
    "    KL = sc.KLdivergence_lap(L1, L2, beta)\n",
    "    KL_divs[i, j, trial1*Ntrials + trial2] = KL"
   ]
  },
  {
   "cell_type": "code",
   "execution_count": null,
   "metadata": {
    "collapsed": true
   },
   "outputs": [],
   "source": [
    "# Non parallel version\n",
    "# Organization of scg file is [stim]\n",
    "with open(scgfs[bird], 'rb') as scgf:\n",
    "    scg_data = pickle.load(scgf)\n",
    "    print(scg_data.keys())\n",
    "    \n",
    "# Logic of computation.  For each pair of stimuli, \n",
    "# we compute the KL divergence between all pairs of trials.\n",
    "# so we need an Nstim x Nstim x (Ntrials*Ntrials) matrix to store all the values\n",
    "stims = list(scg_data.keys())   # Get list of stimuli\n",
    "Nstim = len(stims)              # Get number of stimuli\n",
    "Ntrials = 5                     # Hard coded for now...\n",
    "\n",
    "# Create result array\n",
    "KL_divs = np.zeros((Nstim, Nstim, Ntrials*Ntrials))\n",
    "\n",
    "# KL divergence is not symmetric, so we have to do i.e. I/L and L/I\n",
    "for i, stim1 in enumerate(stims):\n",
    "    for j, stim2 in enumerate(stims):\n",
    "        print(\"Beginning Stimulus pair: ({}, {})\".format(stim1, stim2))\n",
    "        # Extract scgs for each stimulis\n",
    "        scg1_dat = scg_data[stim1]\n",
    "        scg2_dat = scg_data[stim2]\n",
    "        for (trial1, trial2) in tqdm.tqdm(product(range(Ntrials), range(Ntrials))):\n",
    "            scg1 = scg1_dat[trial1]\n",
    "            scg2 = scg2_dat[trial2]\n",
    "\n",
    "            # Compute Laplacians\n",
    "            L1 = sc.compute_laplacian(scg1, dim)\n",
    "            L2 = sc.compute_laplacian(scg2, dim)\n",
    "\n",
    "            # Reconcile Laplacians\n",
    "            # Lsamp : scg1 Ldata : scg2\n",
    "            if (np.size(L1) > np.size(L2)):\n",
    "                (L2, L1) = sc.reconcile_laplacians(L2, L1)\n",
    "            else:\n",
    "                (L1, L2) = sc.reconcile_laplacians(L1, L2)\n",
    "\n",
    "            # Compute Divergence\n",
    "            KL = sc.KLdivergence_lap(L1, L2, beta)\n",
    "            KL_divs[i, j, trial1*Ntrials + trial2] = KL\n",
    "            \n",
    "            "
   ]
  },
  {
   "cell_type": "code",
   "execution_count": null,
   "metadata": {
    "collapsed": true
   },
   "outputs": [],
   "source": [
    "with open(os.path.join(figsavepth, 'KL_divs_{}.pkl'.format(bird)), 'wb') as f:\n",
    "    pickle.dump(KL_divs, f)"
   ]
  },
  {
   "cell_type": "code",
   "execution_count": 9,
   "metadata": {},
   "outputs": [
    {
     "name": "stderr",
     "output_type": "stream",
     "text": [
      "\r",
      "0it [00:00, ?it/s]"
     ]
    },
    {
     "name": "stdout",
     "output_type": "stream",
     "text": [
      "Beginning Stimulus pair: (I_40k, I_40k)\n"
     ]
    },
    {
     "name": "stderr",
     "output_type": "stream",
     "text": [
      "25it [00:28,  1.00it/s]\n",
      "0it [00:00, ?it/s]"
     ]
    },
    {
     "name": "stdout",
     "output_type": "stream",
     "text": [
      "Beginning Stimulus pair: (I_40k, J_40k)\n"
     ]
    },
    {
     "name": "stderr",
     "output_type": "stream",
     "text": [
      "25it [00:29,  1.00it/s]\n",
      "0it [00:00, ?it/s]"
     ]
    },
    {
     "name": "stdout",
     "output_type": "stream",
     "text": [
      "Beginning Stimulus pair: (I_40k, K_40k)\n"
     ]
    },
    {
     "name": "stderr",
     "output_type": "stream",
     "text": [
      "25it [00:27,  1.06it/s]\n",
      "0it [00:00, ?it/s]"
     ]
    },
    {
     "name": "stdout",
     "output_type": "stream",
     "text": [
      "Beginning Stimulus pair: (I_40k, L_40k)\n"
     ]
    },
    {
     "name": "stderr",
     "output_type": "stream",
     "text": [
      "25it [00:44,  1.49s/it]\n",
      "0it [00:00, ?it/s]"
     ]
    },
    {
     "name": "stdout",
     "output_type": "stream",
     "text": [
      "Beginning Stimulus pair: (I_40k, M_40k)\n"
     ]
    },
    {
     "name": "stderr",
     "output_type": "stream",
     "text": [
      "25it [00:20,  1.41it/s]\n",
      "0it [00:00, ?it/s]"
     ]
    },
    {
     "name": "stdout",
     "output_type": "stream",
     "text": [
      "Beginning Stimulus pair: (I_40k, N_40k)\n"
     ]
    },
    {
     "name": "stderr",
     "output_type": "stream",
     "text": [
      "25it [00:26,  1.03it/s]\n",
      "0it [00:00, ?it/s]"
     ]
    },
    {
     "name": "stdout",
     "output_type": "stream",
     "text": [
      "Beginning Stimulus pair: (I_40k, O_40k)\n"
     ]
    },
    {
     "name": "stderr",
     "output_type": "stream",
     "text": [
      "25it [00:20,  1.38it/s]\n",
      "0it [00:00, ?it/s]"
     ]
    },
    {
     "name": "stdout",
     "output_type": "stream",
     "text": [
      "Beginning Stimulus pair: (I_40k, P_40k)\n"
     ]
    },
    {
     "name": "stderr",
     "output_type": "stream",
     "text": [
      "25it [00:36,  1.18s/it]\n",
      "0it [00:00, ?it/s]"
     ]
    },
    {
     "name": "stdout",
     "output_type": "stream",
     "text": [
      "Beginning Stimulus pair: (J_40k, I_40k)\n"
     ]
    },
    {
     "name": "stderr",
     "output_type": "stream",
     "text": [
      "25it [00:32,  1.11it/s]\n",
      "0it [00:00, ?it/s]"
     ]
    },
    {
     "name": "stdout",
     "output_type": "stream",
     "text": [
      "Beginning Stimulus pair: (J_40k, J_40k)\n"
     ]
    },
    {
     "name": "stderr",
     "output_type": "stream",
     "text": [
      "25it [00:31,  1.13it/s]\n",
      "0it [00:00, ?it/s]"
     ]
    },
    {
     "name": "stdout",
     "output_type": "stream",
     "text": [
      "Beginning Stimulus pair: (J_40k, K_40k)\n"
     ]
    },
    {
     "name": "stderr",
     "output_type": "stream",
     "text": [
      "25it [00:29,  1.21it/s]\n",
      "0it [00:00, ?it/s]"
     ]
    },
    {
     "name": "stdout",
     "output_type": "stream",
     "text": [
      "Beginning Stimulus pair: (J_40k, L_40k)\n"
     ]
    },
    {
     "name": "stderr",
     "output_type": "stream",
     "text": [
      "25it [00:41,  1.28s/it]\n",
      "0it [00:00, ?it/s]"
     ]
    },
    {
     "name": "stdout",
     "output_type": "stream",
     "text": [
      "Beginning Stimulus pair: (J_40k, M_40k)\n"
     ]
    },
    {
     "name": "stderr",
     "output_type": "stream",
     "text": [
      "25it [00:20,  1.77it/s]\n",
      "0it [00:00, ?it/s]"
     ]
    },
    {
     "name": "stdout",
     "output_type": "stream",
     "text": [
      "Beginning Stimulus pair: (J_40k, N_40k)\n"
     ]
    },
    {
     "name": "stderr",
     "output_type": "stream",
     "text": [
      "25it [00:27,  1.22it/s]\n",
      "0it [00:00, ?it/s]"
     ]
    },
    {
     "name": "stdout",
     "output_type": "stream",
     "text": [
      "Beginning Stimulus pair: (J_40k, O_40k)\n"
     ]
    },
    {
     "name": "stderr",
     "output_type": "stream",
     "text": [
      "25it [00:21,  1.71it/s]\n",
      "0it [00:00, ?it/s]"
     ]
    },
    {
     "name": "stdout",
     "output_type": "stream",
     "text": [
      "Beginning Stimulus pair: (J_40k, P_40k)\n"
     ]
    },
    {
     "name": "stderr",
     "output_type": "stream",
     "text": [
      "25it [00:36,  1.00it/s]\n",
      "0it [00:00, ?it/s]"
     ]
    },
    {
     "name": "stdout",
     "output_type": "stream",
     "text": [
      "Beginning Stimulus pair: (K_40k, I_40k)\n"
     ]
    },
    {
     "name": "stderr",
     "output_type": "stream",
     "text": [
      "25it [00:27,  1.19it/s]\n",
      "0it [00:00, ?it/s]"
     ]
    },
    {
     "name": "stdout",
     "output_type": "stream",
     "text": [
      "Beginning Stimulus pair: (K_40k, J_40k)\n"
     ]
    },
    {
     "name": "stderr",
     "output_type": "stream",
     "text": [
      "25it [00:28,  1.19it/s]\n",
      "0it [00:00, ?it/s]"
     ]
    },
    {
     "name": "stdout",
     "output_type": "stream",
     "text": [
      "Beginning Stimulus pair: (K_40k, K_40k)\n"
     ]
    },
    {
     "name": "stderr",
     "output_type": "stream",
     "text": [
      "25it [00:26,  1.27it/s]\n",
      "0it [00:00, ?it/s]"
     ]
    },
    {
     "name": "stdout",
     "output_type": "stream",
     "text": [
      "Beginning Stimulus pair: (K_40k, L_40k)\n"
     ]
    },
    {
     "name": "stderr",
     "output_type": "stream",
     "text": [
      "25it [00:40,  1.26s/it]\n",
      "0it [00:00, ?it/s]"
     ]
    },
    {
     "name": "stdout",
     "output_type": "stream",
     "text": [
      "Beginning Stimulus pair: (K_40k, M_40k)\n"
     ]
    },
    {
     "name": "stderr",
     "output_type": "stream",
     "text": [
      "25it [00:18,  1.92it/s]\n",
      "0it [00:00, ?it/s]"
     ]
    },
    {
     "name": "stdout",
     "output_type": "stream",
     "text": [
      "Beginning Stimulus pair: (K_40k, N_40k)\n"
     ]
    },
    {
     "name": "stderr",
     "output_type": "stream",
     "text": [
      "25it [00:24,  1.27it/s]\n",
      "0it [00:00, ?it/s]"
     ]
    },
    {
     "name": "stdout",
     "output_type": "stream",
     "text": [
      "Beginning Stimulus pair: (K_40k, O_40k)\n"
     ]
    },
    {
     "name": "stderr",
     "output_type": "stream",
     "text": [
      "25it [00:19,  1.80it/s]\n",
      "0it [00:00, ?it/s]"
     ]
    },
    {
     "name": "stdout",
     "output_type": "stream",
     "text": [
      "Beginning Stimulus pair: (K_40k, P_40k)\n"
     ]
    },
    {
     "name": "stderr",
     "output_type": "stream",
     "text": [
      "25it [00:34,  1.03it/s]\n",
      "0it [00:00, ?it/s]"
     ]
    },
    {
     "name": "stdout",
     "output_type": "stream",
     "text": [
      "Beginning Stimulus pair: (L_40k, I_40k)\n"
     ]
    },
    {
     "name": "stderr",
     "output_type": "stream",
     "text": [
      "25it [00:41,  1.27s/it]\n",
      "0it [00:00, ?it/s]"
     ]
    },
    {
     "name": "stdout",
     "output_type": "stream",
     "text": [
      "Beginning Stimulus pair: (L_40k, J_40k)\n"
     ]
    },
    {
     "name": "stderr",
     "output_type": "stream",
     "text": [
      "25it [00:41,  1.29s/it]\n",
      "0it [00:00, ?it/s]"
     ]
    },
    {
     "name": "stdout",
     "output_type": "stream",
     "text": [
      "Beginning Stimulus pair: (L_40k, K_40k)\n"
     ]
    },
    {
     "name": "stderr",
     "output_type": "stream",
     "text": [
      "25it [00:40,  1.21s/it]\n",
      "0it [00:00, ?it/s]"
     ]
    },
    {
     "name": "stdout",
     "output_type": "stream",
     "text": [
      "Beginning Stimulus pair: (L_40k, L_40k)\n"
     ]
    },
    {
     "name": "stderr",
     "output_type": "stream",
     "text": [
      "25it [00:52,  1.67s/it]\n",
      "0it [00:00, ?it/s]"
     ]
    },
    {
     "name": "stdout",
     "output_type": "stream",
     "text": [
      "Beginning Stimulus pair: (L_40k, M_40k)\n"
     ]
    },
    {
     "name": "stderr",
     "output_type": "stream",
     "text": [
      "25it [00:31,  1.05it/s]\n",
      "0it [00:00, ?it/s]"
     ]
    },
    {
     "name": "stdout",
     "output_type": "stream",
     "text": [
      "Beginning Stimulus pair: (L_40k, N_40k)\n"
     ]
    },
    {
     "name": "stderr",
     "output_type": "stream",
     "text": [
      "25it [00:38,  1.19s/it]\n",
      "0it [00:00, ?it/s]"
     ]
    },
    {
     "name": "stdout",
     "output_type": "stream",
     "text": [
      "Beginning Stimulus pair: (L_40k, O_40k)\n"
     ]
    },
    {
     "name": "stderr",
     "output_type": "stream",
     "text": [
      "25it [00:32,  1.02it/s]\n",
      "0it [00:00, ?it/s]"
     ]
    },
    {
     "name": "stdout",
     "output_type": "stream",
     "text": [
      "Beginning Stimulus pair: (L_40k, P_40k)\n"
     ]
    },
    {
     "name": "stderr",
     "output_type": "stream",
     "text": [
      "25it [00:46,  1.41s/it]\n",
      "0it [00:00, ?it/s]"
     ]
    },
    {
     "name": "stdout",
     "output_type": "stream",
     "text": [
      "Beginning Stimulus pair: (M_40k, I_40k)\n"
     ]
    },
    {
     "name": "stderr",
     "output_type": "stream",
     "text": [
      "25it [00:18,  1.46it/s]\n",
      "0it [00:00, ?it/s]"
     ]
    },
    {
     "name": "stdout",
     "output_type": "stream",
     "text": [
      "Beginning Stimulus pair: (M_40k, J_40k)\n"
     ]
    },
    {
     "name": "stderr",
     "output_type": "stream",
     "text": [
      "25it [00:20,  1.46it/s]\n",
      "0it [00:00, ?it/s]"
     ]
    },
    {
     "name": "stdout",
     "output_type": "stream",
     "text": [
      "Beginning Stimulus pair: (M_40k, K_40k)\n"
     ]
    },
    {
     "name": "stderr",
     "output_type": "stream",
     "text": [
      "25it [00:18,  1.58it/s]\n",
      "0it [00:00, ?it/s]"
     ]
    },
    {
     "name": "stdout",
     "output_type": "stream",
     "text": [
      "Beginning Stimulus pair: (M_40k, L_40k)\n"
     ]
    },
    {
     "name": "stderr",
     "output_type": "stream",
     "text": [
      "25it [00:32,  1.12s/it]\n",
      "0it [00:00, ?it/s]"
     ]
    },
    {
     "name": "stdout",
     "output_type": "stream",
     "text": [
      "Beginning Stimulus pair: (M_40k, M_40k)\n"
     ]
    },
    {
     "name": "stderr",
     "output_type": "stream",
     "text": [
      "25it [00:09,  2.86it/s]\n",
      "0it [00:00, ?it/s]"
     ]
    },
    {
     "name": "stdout",
     "output_type": "stream",
     "text": [
      "Beginning Stimulus pair: (M_40k, N_40k)\n"
     ]
    },
    {
     "name": "stderr",
     "output_type": "stream",
     "text": [
      "25it [00:16,  1.59it/s]\n",
      "0it [00:00, ?it/s]"
     ]
    },
    {
     "name": "stdout",
     "output_type": "stream",
     "text": [
      "Beginning Stimulus pair: (M_40k, O_40k)\n"
     ]
    },
    {
     "name": "stderr",
     "output_type": "stream",
     "text": [
      "25it [00:10,  2.41it/s]\n",
      "0it [00:00, ?it/s]"
     ]
    },
    {
     "name": "stdout",
     "output_type": "stream",
     "text": [
      "Beginning Stimulus pair: (M_40k, P_40k)\n"
     ]
    },
    {
     "name": "stderr",
     "output_type": "stream",
     "text": [
      "25it [00:26,  1.17it/s]\n",
      "0it [00:00, ?it/s]"
     ]
    },
    {
     "name": "stdout",
     "output_type": "stream",
     "text": [
      "Beginning Stimulus pair: (N_40k, I_40k)\n"
     ]
    },
    {
     "name": "stderr",
     "output_type": "stream",
     "text": [
      "25it [00:25,  1.12it/s]\n",
      "0it [00:00, ?it/s]"
     ]
    },
    {
     "name": "stdout",
     "output_type": "stream",
     "text": [
      "Beginning Stimulus pair: (N_40k, J_40k)\n"
     ]
    },
    {
     "name": "stderr",
     "output_type": "stream",
     "text": [
      "25it [00:26,  1.12it/s]\n",
      "0it [00:00, ?it/s]"
     ]
    },
    {
     "name": "stdout",
     "output_type": "stream",
     "text": [
      "Beginning Stimulus pair: (N_40k, K_40k)\n"
     ]
    },
    {
     "name": "stderr",
     "output_type": "stream",
     "text": [
      "25it [00:24,  1.18it/s]\n",
      "0it [00:00, ?it/s]"
     ]
    },
    {
     "name": "stdout",
     "output_type": "stream",
     "text": [
      "Beginning Stimulus pair: (N_40k, L_40k)\n"
     ]
    },
    {
     "name": "stderr",
     "output_type": "stream",
     "text": [
      "25it [00:38,  1.32s/it]\n",
      "0it [00:00, ?it/s]"
     ]
    },
    {
     "name": "stdout",
     "output_type": "stream",
     "text": [
      "Beginning Stimulus pair: (N_40k, M_40k)\n"
     ]
    },
    {
     "name": "stderr",
     "output_type": "stream",
     "text": [
      "25it [00:16,  1.73it/s]\n",
      "0it [00:00, ?it/s]"
     ]
    },
    {
     "name": "stdout",
     "output_type": "stream",
     "text": [
      "Beginning Stimulus pair: (N_40k, N_40k)\n"
     ]
    },
    {
     "name": "stderr",
     "output_type": "stream",
     "text": [
      "25it [00:23,  1.18it/s]\n",
      "0it [00:00, ?it/s]"
     ]
    },
    {
     "name": "stdout",
     "output_type": "stream",
     "text": [
      "Beginning Stimulus pair: (N_40k, O_40k)\n"
     ]
    },
    {
     "name": "stderr",
     "output_type": "stream",
     "text": [
      "25it [00:17,  1.64it/s]\n",
      "0it [00:00, ?it/s]"
     ]
    },
    {
     "name": "stdout",
     "output_type": "stream",
     "text": [
      "Beginning Stimulus pair: (N_40k, P_40k)\n"
     ]
    },
    {
     "name": "stderr",
     "output_type": "stream",
     "text": [
      "25it [00:32,  1.04s/it]\n",
      "0it [00:00, ?it/s]"
     ]
    },
    {
     "name": "stdout",
     "output_type": "stream",
     "text": [
      "Beginning Stimulus pair: (O_40k, I_40k)\n"
     ]
    },
    {
     "name": "stderr",
     "output_type": "stream",
     "text": [
      "25it [00:20,  1.41it/s]\n",
      "0it [00:00, ?it/s]"
     ]
    },
    {
     "name": "stdout",
     "output_type": "stream",
     "text": [
      "Beginning Stimulus pair: (O_40k, J_40k)\n"
     ]
    },
    {
     "name": "stderr",
     "output_type": "stream",
     "text": [
      "25it [00:21,  1.42it/s]\n",
      "0it [00:00, ?it/s]"
     ]
    },
    {
     "name": "stdout",
     "output_type": "stream",
     "text": [
      "Beginning Stimulus pair: (O_40k, K_40k)\n"
     ]
    },
    {
     "name": "stderr",
     "output_type": "stream",
     "text": [
      "25it [00:19,  1.53it/s]\n",
      "0it [00:00, ?it/s]"
     ]
    },
    {
     "name": "stdout",
     "output_type": "stream",
     "text": [
      "Beginning Stimulus pair: (O_40k, L_40k)\n"
     ]
    },
    {
     "name": "stderr",
     "output_type": "stream",
     "text": [
      "25it [00:32,  1.13s/it]\n",
      "0it [00:00, ?it/s]"
     ]
    },
    {
     "name": "stdout",
     "output_type": "stream",
     "text": [
      "Beginning Stimulus pair: (O_40k, M_40k)\n"
     ]
    },
    {
     "name": "stderr",
     "output_type": "stream",
     "text": [
      "25it [00:10,  2.72it/s]\n",
      "0it [00:00, ?it/s]"
     ]
    },
    {
     "name": "stdout",
     "output_type": "stream",
     "text": [
      "Beginning Stimulus pair: (O_40k, N_40k)\n"
     ]
    },
    {
     "name": "stderr",
     "output_type": "stream",
     "text": [
      "25it [00:17,  1.51it/s]\n",
      "0it [00:00, ?it/s]"
     ]
    },
    {
     "name": "stdout",
     "output_type": "stream",
     "text": [
      "Beginning Stimulus pair: (O_40k, O_40k)\n"
     ]
    },
    {
     "name": "stderr",
     "output_type": "stream",
     "text": [
      "25it [00:11,  2.46it/s]\n",
      "0it [00:00, ?it/s]"
     ]
    },
    {
     "name": "stdout",
     "output_type": "stream",
     "text": [
      "Beginning Stimulus pair: (O_40k, P_40k)\n"
     ]
    },
    {
     "name": "stderr",
     "output_type": "stream",
     "text": [
      "25it [00:26,  1.20it/s]\n",
      "0it [00:00, ?it/s]"
     ]
    },
    {
     "name": "stdout",
     "output_type": "stream",
     "text": [
      "Beginning Stimulus pair: (P_40k, I_40k)\n"
     ]
    },
    {
     "name": "stderr",
     "output_type": "stream",
     "text": [
      "25it [00:35,  1.09it/s]\n",
      "0it [00:00, ?it/s]"
     ]
    },
    {
     "name": "stdout",
     "output_type": "stream",
     "text": [
      "Beginning Stimulus pair: (P_40k, J_40k)\n"
     ]
    },
    {
     "name": "stderr",
     "output_type": "stream",
     "text": [
      "25it [00:36,  1.09it/s]\n",
      "0it [00:00, ?it/s]"
     ]
    },
    {
     "name": "stdout",
     "output_type": "stream",
     "text": [
      "Beginning Stimulus pair: (P_40k, K_40k)\n"
     ]
    },
    {
     "name": "stderr",
     "output_type": "stream",
     "text": [
      "25it [00:34,  1.16it/s]\n",
      "0it [00:00, ?it/s]"
     ]
    },
    {
     "name": "stdout",
     "output_type": "stream",
     "text": [
      "Beginning Stimulus pair: (P_40k, L_40k)\n"
     ]
    },
    {
     "name": "stderr",
     "output_type": "stream",
     "text": [
      "25it [00:46,  1.33s/it]\n",
      "0it [00:00, ?it/s]"
     ]
    },
    {
     "name": "stdout",
     "output_type": "stream",
     "text": [
      "Beginning Stimulus pair: (P_40k, M_40k)\n"
     ]
    },
    {
     "name": "stderr",
     "output_type": "stream",
     "text": [
      "25it [00:24,  1.69it/s]\n",
      "0it [00:00, ?it/s]"
     ]
    },
    {
     "name": "stdout",
     "output_type": "stream",
     "text": [
      "Beginning Stimulus pair: (P_40k, N_40k)\n"
     ]
    },
    {
     "name": "stderr",
     "output_type": "stream",
     "text": [
      "25it [00:32,  1.16it/s]\n",
      "0it [00:00, ?it/s]"
     ]
    },
    {
     "name": "stdout",
     "output_type": "stream",
     "text": [
      "Beginning Stimulus pair: (P_40k, O_40k)\n"
     ]
    },
    {
     "name": "stderr",
     "output_type": "stream",
     "text": [
      "25it [00:26,  1.59it/s]\n",
      "0it [00:00, ?it/s]"
     ]
    },
    {
     "name": "stdout",
     "output_type": "stream",
     "text": [
      "Beginning Stimulus pair: (P_40k, P_40k)\n"
     ]
    },
    {
     "name": "stderr",
     "output_type": "stream",
     "text": [
      "25it [00:41,  1.05s/it]\n"
     ]
    }
   ],
   "source": [
    "# C version\n",
    "# Organization of scg file is [stim]\n",
    "#with open(scgfs[bird], 'rb') as scgf:\n",
    "#    scg_data = pickle.load(scgf)\n",
    "#    print(scg_data.keys())\n",
    "   \n",
    "scg_data = scgfs[bird]\n",
    "# Logic of computation.  For each pair of stimuli, \n",
    "# we compute the KL divergence between all pairs of trials.\n",
    "# so we need an Nstim x Nstim x (Ntrials*Ntrials) matrix to store all the values\n",
    "stims = list(scg_data.keys())   # Get list of stimuli\n",
    "Nstim = len(stims)              # Get number of stimuli\n",
    "Ntrials = 5                     # Hard coded for now...\n",
    "\n",
    "# Create result array\n",
    "KL_divs = np.zeros((Nstim, Nstim, Ntrials*Ntrials))\n",
    "\n",
    "# KL divergence is not symmetric, so we have to do i.e. I/L and L/I\n",
    "for i, stim1 in enumerate(stims):\n",
    "    for j, stim2 in enumerate(stims):\n",
    "        print(\"Beginning Stimulus pair: ({}, {})\".format(stim1, stim2))\n",
    "        # Extract scgs for each stimulis\n",
    "        scg1_dat = scg_data[stim1]\n",
    "        scg2_dat = scg_data[stim2]\n",
    "        for (trial1, trial2) in tqdm.tqdm(product(range(Ntrials), range(Ntrials))):\n",
    "            scg1 = scg1_dat[trial1]\n",
    "            scg2 = scg2_dat[trial2]\n",
    "            KL = pyslsa.KL(scg1, scg2, dim, beta)\n",
    "            KL_divs[i, j, trial1*Ntrials + trial2] = KL\n",
    "            \n",
    "            "
   ]
  },
  {
   "cell_type": "code",
   "execution_count": 10,
   "metadata": {
    "collapsed": true
   },
   "outputs": [],
   "source": [
    "with open(os.path.join(figsavepth, 'KL_divs_{}.pkl'.format(bird)), 'wb') as f:\n",
    "    pickle.dump(KL_divs, f)"
   ]
  },
  {
   "cell_type": "code",
   "execution_count": 11,
   "metadata": {},
   "outputs": [
    {
     "data": {
      "text/plain": [
       "(8, 8, 25)"
      ]
     },
     "execution_count": 11,
     "metadata": {},
     "output_type": "execute_result"
    }
   ],
   "source": [
    "KL_divs.shape"
   ]
  },
  {
   "cell_type": "code",
   "execution_count": 12,
   "metadata": {
    "collapsed": true
   },
   "outputs": [],
   "source": [
    "KL_div_mean = np.mean(KL_divs, axis=2)"
   ]
  },
  {
   "cell_type": "code",
   "execution_count": 13,
   "metadata": {},
   "outputs": [
    {
     "data": {
      "text/plain": [
       "<matplotlib.colorbar.Colorbar at 0x7feed8142c88>"
      ]
     },
     "execution_count": 13,
     "metadata": {},
     "output_type": "execute_result"
    },
    {
     "data": {
      "image/png": "[encoded data removed]",
      "text/plain": [
       "<matplotlib.figure.Figure at 0x7feed94a4c50>"
      ]
     },
     "metadata": {},
     "output_type": "display_data"
    }
   ],
   "source": [
    "plt.imshow(KL_div_mean, interpolation='nearest')\n",
    "plt.colorbar()"
   ]
  },
  {
   "cell_type": "code",
   "execution_count": null,
   "metadata": {
    "collapsed": true
   },
   "outputs": [],
   "source": [
    "from scipy.cluster.hierarchy import dendrogram, linkage\n",
    "\n",
    "# Make compressed distance matrix\n",
    "y = KL_div_mean[np.triu_indices(Nstim, k=1)].flatten()\n",
    "Z = linkage(y)"
   ]
  },
  {
   "cell_type": "code",
   "execution_count": null,
   "metadata": {
    "collapsed": true
   },
   "outputs": [],
   "source": [
    "dendrogram(Z)"
   ]
  },
  {
   "cell_type": "code",
   "execution_count": null,
   "metadata": {
    "collapsed": true
   },
   "outputs": [],
   "source": [
    "d_fam_fam = KL_div_mean[4:, 4:] # familiar familiar\n",
    "d_fam_nov = KL_div_mean[4:, 0:4] # familiear vs novel\n",
    "d_nov_fam = KL_div_mean[0:4, 4:] # Novel vs familiar\n",
    "d_nov_nov = KL_div_mean[0:4, 0:4] # Novel vs Novel"
   ]
  },
  {
   "cell_type": "code",
   "execution_count": null,
   "metadata": {},
   "outputs": [
    {
     "name": "stderr",
     "output_type": "stream",
     "text": [
      "\r",
      "0it [00:00, ?it/s]"
     ]
    },
    {
     "name": "stdout",
     "output_type": "stream",
     "text": [
      "Beginning Stimulus pair: (I_40k, I_40k)\n"
     ]
    },
    {
     "name": "stderr",
     "output_type": "stream",
     "text": [
      "25it [00:28,  1.01it/s]\n",
      "0it [00:00, ?it/s]"
     ]
    },
    {
     "name": "stdout",
     "output_type": "stream",
     "text": [
      "Beginning Stimulus pair: (I_40k, J_40k)\n"
     ]
    },
    {
     "name": "stderr",
     "output_type": "stream",
     "text": [
      "25it [00:29,  1.01s/it]\n",
      "0it [00:00, ?it/s]"
     ]
    },
    {
     "name": "stdout",
     "output_type": "stream",
     "text": [
      "Beginning Stimulus pair: (I_40k, K_40k)\n"
     ]
    },
    {
     "name": "stderr",
     "output_type": "stream",
     "text": [
      "25it [00:27,  1.06it/s]\n",
      "0it [00:00, ?it/s]"
     ]
    },
    {
     "name": "stdout",
     "output_type": "stream",
     "text": [
      "Beginning Stimulus pair: (I_40k, L_40k)\n"
     ]
    },
    {
     "name": "stderr",
     "output_type": "stream",
     "text": [
      "25it [00:40,  1.42s/it]\n",
      "0it [00:00, ?it/s]"
     ]
    },
    {
     "name": "stdout",
     "output_type": "stream",
     "text": [
      "Beginning Stimulus pair: (I_40k, M_40k)\n"
     ]
    },
    {
     "name": "stderr",
     "output_type": "stream",
     "text": [
      "25it [00:18,  1.49it/s]\n",
      "0it [00:00, ?it/s]"
     ]
    },
    {
     "name": "stdout",
     "output_type": "stream",
     "text": [
      "Beginning Stimulus pair: (I_40k, N_40k)\n"
     ]
    },
    {
     "name": "stderr",
     "output_type": "stream",
     "text": [
      "25it [00:25,  1.07it/s]\n",
      "0it [00:00, ?it/s]"
     ]
    },
    {
     "name": "stdout",
     "output_type": "stream",
     "text": [
      "Beginning Stimulus pair: (I_40k, O_40k)\n"
     ]
    },
    {
     "name": "stderr",
     "output_type": "stream",
     "text": [
      "25it [00:19,  1.42it/s]\n",
      "0it [00:00, ?it/s]"
     ]
    },
    {
     "name": "stdout",
     "output_type": "stream",
     "text": [
      "Beginning Stimulus pair: (I_40k, P_40k)\n"
     ]
    },
    {
     "name": "stderr",
     "output_type": "stream",
     "text": [
      "25it [00:35,  1.14s/it]\n",
      "0it [00:00, ?it/s]"
     ]
    },
    {
     "name": "stdout",
     "output_type": "stream",
     "text": [
      "Beginning Stimulus pair: (J_40k, I_40k)\n"
     ]
    },
    {
     "name": "stderr",
     "output_type": "stream",
     "text": [
      "25it [00:29,  1.16it/s]\n",
      "0it [00:00, ?it/s]"
     ]
    },
    {
     "name": "stdout",
     "output_type": "stream",
     "text": [
      "Beginning Stimulus pair: (J_40k, J_40k)\n"
     ]
    },
    {
     "name": "stderr",
     "output_type": "stream",
     "text": [
      "25it [00:30,  1.16it/s]\n",
      "0it [00:00, ?it/s]"
     ]
    },
    {
     "name": "stdout",
     "output_type": "stream",
     "text": [
      "Beginning Stimulus pair: (J_40k, K_40k)\n"
     ]
    },
    {
     "name": "stderr",
     "output_type": "stream",
     "text": [
      "25it [00:28,  1.23it/s]\n",
      "0it [00:00, ?it/s]"
     ]
    },
    {
     "name": "stdout",
     "output_type": "stream",
     "text": [
      "Beginning Stimulus pair: (J_40k, L_40k)\n"
     ]
    },
    {
     "name": "stderr",
     "output_type": "stream",
     "text": [
      "25it [00:42,  1.28s/it]\n",
      "0it [00:00, ?it/s]"
     ]
    },
    {
     "name": "stdout",
     "output_type": "stream",
     "text": [
      "Beginning Stimulus pair: (J_40k, M_40k)\n"
     ]
    },
    {
     "name": "stderr",
     "output_type": "stream",
     "text": [
      "25it [00:19,  1.83it/s]\n",
      "0it [00:00, ?it/s]"
     ]
    },
    {
     "name": "stdout",
     "output_type": "stream",
     "text": [
      "Beginning Stimulus pair: (J_40k, N_40k)\n"
     ]
    },
    {
     "name": "stderr",
     "output_type": "stream",
     "text": [
      "25it [00:27,  1.21it/s]\n",
      "0it [00:00, ?it/s]"
     ]
    },
    {
     "name": "stdout",
     "output_type": "stream",
     "text": [
      "Beginning Stimulus pair: (J_40k, O_40k)\n"
     ]
    },
    {
     "name": "stderr",
     "output_type": "stream",
     "text": [
      "25it [00:22,  1.69it/s]\n",
      "0it [00:00, ?it/s]"
     ]
    },
    {
     "name": "stdout",
     "output_type": "stream",
     "text": [
      "Beginning Stimulus pair: (J_40k, P_40k)\n"
     ]
    },
    {
     "name": "stderr",
     "output_type": "stream",
     "text": [
      "25it [00:37,  1.02s/it]\n",
      "0it [00:00, ?it/s]"
     ]
    },
    {
     "name": "stdout",
     "output_type": "stream",
     "text": [
      "Beginning Stimulus pair: (K_40k, I_40k)\n"
     ]
    },
    {
     "name": "stderr",
     "output_type": "stream",
     "text": [
      "25it [00:27,  1.18it/s]\n",
      "0it [00:00, ?it/s]"
     ]
    },
    {
     "name": "stdout",
     "output_type": "stream",
     "text": [
      "Beginning Stimulus pair: (K_40k, J_40k)\n"
     ]
    },
    {
     "name": "stderr",
     "output_type": "stream",
     "text": [
      "25it [00:29,  1.17it/s]\n",
      "0it [00:00, ?it/s]"
     ]
    },
    {
     "name": "stdout",
     "output_type": "stream",
     "text": [
      "Beginning Stimulus pair: (K_40k, K_40k)\n"
     ]
    },
    {
     "name": "stderr",
     "output_type": "stream",
     "text": [
      "25it [00:27,  1.25it/s]\n",
      "0it [00:00, ?it/s]"
     ]
    },
    {
     "name": "stdout",
     "output_type": "stream",
     "text": [
      "Beginning Stimulus pair: (K_40k, L_40k)\n"
     ]
    },
    {
     "name": "stderr",
     "output_type": "stream",
     "text": [
      "25it [00:41,  1.31s/it]\n",
      "0it [00:00, ?it/s]"
     ]
    },
    {
     "name": "stdout",
     "output_type": "stream",
     "text": [
      "Beginning Stimulus pair: (K_40k, M_40k)\n"
     ]
    },
    {
     "name": "stderr",
     "output_type": "stream",
     "text": [
      "25it [00:18,  1.91it/s]\n",
      "0it [00:00, ?it/s]"
     ]
    },
    {
     "name": "stdout",
     "output_type": "stream",
     "text": [
      "Beginning Stimulus pair: (K_40k, N_40k)\n"
     ]
    },
    {
     "name": "stderr",
     "output_type": "stream",
     "text": [
      "25it [00:25,  1.25it/s]\n",
      "0it [00:00, ?it/s]"
     ]
    },
    {
     "name": "stdout",
     "output_type": "stream",
     "text": [
      "Beginning Stimulus pair: (K_40k, O_40k)\n"
     ]
    },
    {
     "name": "stderr",
     "output_type": "stream",
     "text": [
      "25it [00:19,  1.77it/s]\n",
      "0it [00:00, ?it/s]"
     ]
    },
    {
     "name": "stdout",
     "output_type": "stream",
     "text": [
      "Beginning Stimulus pair: (K_40k, P_40k)\n"
     ]
    },
    {
     "name": "stderr",
     "output_type": "stream",
     "text": [
      "25it [00:35,  1.00it/s]\n",
      "0it [00:00, ?it/s]"
     ]
    },
    {
     "name": "stdout",
     "output_type": "stream",
     "text": [
      "Beginning Stimulus pair: (L_40k, I_40k)\n"
     ]
    },
    {
     "name": "stderr",
     "output_type": "stream",
     "text": [
      "25it [00:42,  1.30s/it]\n",
      "0it [00:00, ?it/s]"
     ]
    },
    {
     "name": "stdout",
     "output_type": "stream",
     "text": [
      "Beginning Stimulus pair: (L_40k, J_40k)\n"
     ]
    },
    {
     "name": "stderr",
     "output_type": "stream",
     "text": [
      "25it [00:43,  1.34s/it]\n",
      "0it [00:00, ?it/s]"
     ]
    },
    {
     "name": "stdout",
     "output_type": "stream",
     "text": [
      "Beginning Stimulus pair: (L_40k, K_40k)\n"
     ]
    },
    {
     "name": "stderr",
     "output_type": "stream",
     "text": [
      "25it [00:41,  1.27s/it]\n",
      "0it [00:00, ?it/s]"
     ]
    },
    {
     "name": "stdout",
     "output_type": "stream",
     "text": [
      "Beginning Stimulus pair: (L_40k, L_40k)\n"
     ]
    },
    {
     "name": "stderr",
     "output_type": "stream",
     "text": [
      "25it [00:59,  1.97s/it]\n",
      "0it [00:00, ?it/s]"
     ]
    },
    {
     "name": "stdout",
     "output_type": "stream",
     "text": [
      "Beginning Stimulus pair: (L_40k, M_40k)\n"
     ]
    },
    {
     "name": "stderr",
     "output_type": "stream",
     "text": [
      "25it [00:34,  1.04s/it]\n",
      "0it [00:00, ?it/s]"
     ]
    },
    {
     "name": "stdout",
     "output_type": "stream",
     "text": [
      "Beginning Stimulus pair: (L_40k, N_40k)\n"
     ]
    },
    {
     "name": "stderr",
     "output_type": "stream",
     "text": [
      "25it [00:44,  1.36s/it]\n",
      "0it [00:00, ?it/s]"
     ]
    },
    {
     "name": "stdout",
     "output_type": "stream",
     "text": [
      "Beginning Stimulus pair: (L_40k, O_40k)\n"
     ]
    },
    {
     "name": "stderr",
     "output_type": "stream",
     "text": [
      "25it [00:35,  1.04s/it]\n",
      "0it [00:00, ?it/s]"
     ]
    },
    {
     "name": "stdout",
     "output_type": "stream",
     "text": [
      "Beginning Stimulus pair: (L_40k, P_40k)\n"
     ]
    },
    {
     "name": "stderr",
     "output_type": "stream",
     "text": [
      "25it [00:48,  1.46s/it]\n",
      "0it [00:00, ?it/s]"
     ]
    },
    {
     "name": "stdout",
     "output_type": "stream",
     "text": [
      "Beginning Stimulus pair: (M_40k, I_40k)\n"
     ]
    },
    {
     "name": "stderr",
     "output_type": "stream",
     "text": [
      "25it [00:19,  1.43it/s]\n",
      "0it [00:00, ?it/s]"
     ]
    },
    {
     "name": "stdout",
     "output_type": "stream",
     "text": [
      "Beginning Stimulus pair: (M_40k, J_40k)\n"
     ]
    },
    {
     "name": "stderr",
     "output_type": "stream",
     "text": [
      "25it [00:20,  1.44it/s]\n",
      "0it [00:00, ?it/s]"
     ]
    },
    {
     "name": "stdout",
     "output_type": "stream",
     "text": [
      "Beginning Stimulus pair: (M_40k, K_40k)\n"
     ]
    },
    {
     "name": "stderr",
     "output_type": "stream",
     "text": [
      "25it [00:19,  1.57it/s]\n",
      "0it [00:00, ?it/s]"
     ]
    },
    {
     "name": "stdout",
     "output_type": "stream",
     "text": [
      "Beginning Stimulus pair: (M_40k, L_40k)\n"
     ]
    },
    {
     "name": "stderr",
     "output_type": "stream",
     "text": [
      "25it [00:33,  1.14s/it]\n",
      "0it [00:00, ?it/s]"
     ]
    },
    {
     "name": "stdout",
     "output_type": "stream",
     "text": [
      "Beginning Stimulus pair: (M_40k, M_40k)\n"
     ]
    },
    {
     "name": "stderr",
     "output_type": "stream",
     "text": [
      "25it [00:09,  2.84it/s]\n",
      "0it [00:00, ?it/s]"
     ]
    },
    {
     "name": "stdout",
     "output_type": "stream",
     "text": [
      "Beginning Stimulus pair: (M_40k, N_40k)\n"
     ]
    },
    {
     "name": "stderr",
     "output_type": "stream",
     "text": [
      "25it [00:17,  1.57it/s]\n",
      "0it [00:00, ?it/s]"
     ]
    },
    {
     "name": "stdout",
     "output_type": "stream",
     "text": [
      "Beginning Stimulus pair: (M_40k, O_40k)\n"
     ]
    },
    {
     "name": "stderr",
     "output_type": "stream",
     "text": [
      "25it [00:10,  2.58it/s]\n",
      "0it [00:00, ?it/s]"
     ]
    },
    {
     "name": "stdout",
     "output_type": "stream",
     "text": [
      "Beginning Stimulus pair: (M_40k, P_40k)\n"
     ]
    },
    {
     "name": "stderr",
     "output_type": "stream",
     "text": [
      "25it [00:26,  1.20it/s]\n",
      "0it [00:00, ?it/s]"
     ]
    },
    {
     "name": "stdout",
     "output_type": "stream",
     "text": [
      "Beginning Stimulus pair: (N_40k, I_40k)\n"
     ]
    },
    {
     "name": "stderr",
     "output_type": "stream",
     "text": [
      "25it [00:26,  1.10it/s]\n",
      "0it [00:00, ?it/s]"
     ]
    },
    {
     "name": "stdout",
     "output_type": "stream",
     "text": [
      "Beginning Stimulus pair: (N_40k, J_40k)\n"
     ]
    },
    {
     "name": "stderr",
     "output_type": "stream",
     "text": [
      "25it [00:27,  1.10it/s]\n",
      "0it [00:00, ?it/s]"
     ]
    },
    {
     "name": "stdout",
     "output_type": "stream",
     "text": [
      "Beginning Stimulus pair: (N_40k, K_40k)\n"
     ]
    },
    {
     "name": "stderr",
     "output_type": "stream",
     "text": [
      "25it [00:25,  1.14it/s]\n",
      "0it [00:00, ?it/s]"
     ]
    },
    {
     "name": "stdout",
     "output_type": "stream",
     "text": [
      "Beginning Stimulus pair: (N_40k, L_40k)\n"
     ]
    },
    {
     "name": "stderr",
     "output_type": "stream",
     "text": [
      "25it [00:40,  1.38s/it]\n",
      "0it [00:00, ?it/s]"
     ]
    },
    {
     "name": "stdout",
     "output_type": "stream",
     "text": [
      "Beginning Stimulus pair: (N_40k, M_40k)\n"
     ]
    },
    {
     "name": "stderr",
     "output_type": "stream",
     "text": [
      "25it [00:17,  1.55it/s]\n",
      "0it [00:00, ?it/s]"
     ]
    },
    {
     "name": "stdout",
     "output_type": "stream",
     "text": [
      "Beginning Stimulus pair: (N_40k, N_40k)\n"
     ]
    },
    {
     "name": "stderr",
     "output_type": "stream",
     "text": [
      "25it [00:24,  1.15it/s]\n",
      "0it [00:00, ?it/s]"
     ]
    },
    {
     "name": "stdout",
     "output_type": "stream",
     "text": [
      "Beginning Stimulus pair: (N_40k, O_40k)\n"
     ]
    },
    {
     "name": "stderr",
     "output_type": "stream",
     "text": [
      "25it [00:17,  1.63it/s]\n",
      "0it [00:00, ?it/s]"
     ]
    },
    {
     "name": "stdout",
     "output_type": "stream",
     "text": [
      "Beginning Stimulus pair: (N_40k, P_40k)\n"
     ]
    },
    {
     "name": "stderr",
     "output_type": "stream",
     "text": [
      "25it [00:33,  1.07s/it]\n",
      "0it [00:00, ?it/s]"
     ]
    },
    {
     "name": "stdout",
     "output_type": "stream",
     "text": [
      "Beginning Stimulus pair: (O_40k, I_40k)\n"
     ]
    },
    {
     "name": "stderr",
     "output_type": "stream",
     "text": [
      "25it [00:20,  1.39it/s]\n",
      "0it [00:00, ?it/s]"
     ]
    },
    {
     "name": "stdout",
     "output_type": "stream",
     "text": [
      "Beginning Stimulus pair: (O_40k, J_40k)\n"
     ]
    },
    {
     "name": "stderr",
     "output_type": "stream",
     "text": [
      "25it [00:21,  1.40it/s]\n",
      "0it [00:00, ?it/s]"
     ]
    },
    {
     "name": "stdout",
     "output_type": "stream",
     "text": [
      "Beginning Stimulus pair: (O_40k, K_40k)\n"
     ]
    },
    {
     "name": "stderr",
     "output_type": "stream",
     "text": [
      "25it [00:19,  1.45it/s]\n",
      "0it [00:00, ?it/s]"
     ]
    },
    {
     "name": "stdout",
     "output_type": "stream",
     "text": [
      "Beginning Stimulus pair: (O_40k, L_40k)\n"
     ]
    },
    {
     "name": "stderr",
     "output_type": "stream",
     "text": [
      "25it [00:33,  1.15s/it]\n",
      "0it [00:00, ?it/s]"
     ]
    },
    {
     "name": "stdout",
     "output_type": "stream",
     "text": [
      "Beginning Stimulus pair: (O_40k, M_40k)\n"
     ]
    },
    {
     "name": "stderr",
     "output_type": "stream",
     "text": [
      "25it [00:10,  2.63it/s]\n",
      "0it [00:00, ?it/s]"
     ]
    },
    {
     "name": "stdout",
     "output_type": "stream",
     "text": [
      "Beginning Stimulus pair: (O_40k, N_40k)\n"
     ]
    },
    {
     "name": "stderr",
     "output_type": "stream",
     "text": [
      "25it [00:18,  1.43it/s]\n",
      "0it [00:00, ?it/s]"
     ]
    },
    {
     "name": "stdout",
     "output_type": "stream",
     "text": [
      "Beginning Stimulus pair: (O_40k, O_40k)\n"
     ]
    },
    {
     "name": "stderr",
     "output_type": "stream",
     "text": [
      "25it [00:11,  2.45it/s]\n",
      "0it [00:00, ?it/s]"
     ]
    },
    {
     "name": "stdout",
     "output_type": "stream",
     "text": [
      "Beginning Stimulus pair: (O_40k, P_40k)\n"
     ]
    },
    {
     "name": "stderr",
     "output_type": "stream",
     "text": [
      "25it [00:26,  1.17it/s]\n",
      "0it [00:00, ?it/s]"
     ]
    },
    {
     "name": "stdout",
     "output_type": "stream",
     "text": [
      "Beginning Stimulus pair: (P_40k, I_40k)\n"
     ]
    },
    {
     "name": "stderr",
     "output_type": "stream",
     "text": [
      "25it [00:36,  1.03s/it]\n",
      "0it [00:00, ?it/s]"
     ]
    },
    {
     "name": "stdout",
     "output_type": "stream",
     "text": [
      "Beginning Stimulus pair: (P_40k, J_40k)\n"
     ]
    },
    {
     "name": "stderr",
     "output_type": "stream",
     "text": [
      "25it [00:38,  1.06it/s]\n",
      "0it [00:00, ?it/s]"
     ]
    },
    {
     "name": "stdout",
     "output_type": "stream",
     "text": [
      "Beginning Stimulus pair: (P_40k, K_40k)\n"
     ]
    },
    {
     "name": "stderr",
     "output_type": "stream",
     "text": [
      "25it [00:36,  1.12it/s]\n",
      "0it [00:00, ?it/s]"
     ]
    },
    {
     "name": "stdout",
     "output_type": "stream",
     "text": [
      "Beginning Stimulus pair: (P_40k, L_40k)\n"
     ]
    },
    {
     "name": "stderr",
     "output_type": "stream",
     "text": [
      "25it [00:49,  1.54s/it]\n",
      "0it [00:00, ?it/s]"
     ]
    },
    {
     "name": "stdout",
     "output_type": "stream",
     "text": [
      "Beginning Stimulus pair: (P_40k, M_40k)\n"
     ]
    },
    {
     "name": "stderr",
     "output_type": "stream",
     "text": [
      "25it [00:27,  1.56it/s]\n",
      "0it [00:00, ?it/s]"
     ]
    },
    {
     "name": "stdout",
     "output_type": "stream",
     "text": [
      "Beginning Stimulus pair: (P_40k, N_40k)\n"
     ]
    },
    {
     "name": "stderr",
     "output_type": "stream",
     "text": [
      "25it [00:34,  1.14it/s]\n",
      "0it [00:00, ?it/s]"
     ]
    },
    {
     "name": "stdout",
     "output_type": "stream",
     "text": [
      "Beginning Stimulus pair: (P_40k, O_40k)\n"
     ]
    },
    {
     "name": "stderr",
     "output_type": "stream",
     "text": [
      "25it [00:27,  1.51it/s]\n",
      "0it [00:00, ?it/s]"
     ]
    },
    {
     "name": "stdout",
     "output_type": "stream",
     "text": [
      "Beginning Stimulus pair: (P_40k, P_40k)\n"
     ]
    },
    {
     "name": "stderr",
     "output_type": "stream",
     "text": [
      "25it [00:43,  1.10s/it]\n",
      "0it [00:00, ?it/s]"
     ]
    },
    {
     "name": "stdout",
     "output_type": "stream",
     "text": [
      "Beginning Stimulus pair: (I_40k, I_40k)\n"
     ]
    },
    {
     "name": "stderr",
     "output_type": "stream",
     "text": [
      "25it [06:59, 16.77s/it]\n",
      "0it [00:00, ?it/s]"
     ]
    },
    {
     "name": "stdout",
     "output_type": "stream",
     "text": [
      "Beginning Stimulus pair: (I_40k, J_40k)\n"
     ]
    },
    {
     "name": "stderr",
     "output_type": "stream",
     "text": [
      "25it [07:47, 16.35s/it]\n",
      "0it [00:00, ?it/s]"
     ]
    },
    {
     "name": "stdout",
     "output_type": "stream",
     "text": [
      "Beginning Stimulus pair: (I_40k, K_40k)\n"
     ]
    },
    {
     "name": "stderr",
     "output_type": "stream",
     "text": [
      "25it [07:32, 15.99s/it]\n",
      "0it [00:00, ?it/s]"
     ]
    },
    {
     "name": "stdout",
     "output_type": "stream",
     "text": [
      "Beginning Stimulus pair: (I_40k, L_40k)\n"
     ]
    },
    {
     "name": "stderr",
     "output_type": "stream",
     "text": [
      "25it [20:53, 39.14s/it]\n",
      "0it [00:00, ?it/s]"
     ]
    },
    {
     "name": "stdout",
     "output_type": "stream",
     "text": [
      "Beginning Stimulus pair: (I_40k, M_40k)\n"
     ]
    },
    {
     "name": "stderr",
     "output_type": "stream",
     "text": [
      "25it [04:09, 10.85s/it]\n",
      "0it [00:00, ?it/s]"
     ]
    },
    {
     "name": "stdout",
     "output_type": "stream",
     "text": [
      "Beginning Stimulus pair: (I_40k, N_40k)\n"
     ]
    },
    {
     "name": "stderr",
     "output_type": "stream",
     "text": [
      "25it [06:04, 15.22s/it]\n",
      "0it [00:00, ?it/s]"
     ]
    },
    {
     "name": "stdout",
     "output_type": "stream",
     "text": [
      "Beginning Stimulus pair: (I_40k, O_40k)\n"
     ]
    },
    {
     "name": "stderr",
     "output_type": "stream",
     "text": [
      "25it [04:32, 11.40s/it]\n",
      "0it [00:00, ?it/s]"
     ]
    },
    {
     "name": "stdout",
     "output_type": "stream",
     "text": [
      "Beginning Stimulus pair: (I_40k, P_40k)\n"
     ]
    },
    {
     "name": "stderr",
     "output_type": "stream",
     "text": [
      "9it [03:45, 20.76s/it]"
     ]
    }
   ],
   "source": [
    "# C version - parameter sweep\n",
    "# Organization of scg file is [stim]\n",
    "#with open(scgfs[bird], 'rb') as scgf:\n",
    "#    scg_data = pickle.load(scgf)\n",
    "#    print(scg_data.keys())\n",
    "   \n",
    "scg_data = scgfs[bird]\n",
    "# Logic of computation.  For each pair of stimuli, \n",
    "# we compute the KL divergence between all pairs of trials.\n",
    "# so we need an Nstim x Nstim x (Ntrials*Ntrials) matrix to store all the values\n",
    "dims = [1,2,3]\n",
    "betas = [-0.15, -0.65, -0.95]\n",
    "stims = list(scg_data.keys())   # Get list of stimuli\n",
    "Nstim = len(stims)              # Get number of stimuli\n",
    "Ntrials = 5                     # Hard coded for now...\n",
    "\n",
    "# Create result array\n",
    "# Stimulus x Stimulus x TrialPairs x Dimension x Beta\n",
    "KL_divs = np.zeros((Nstim, Nstim, Ntrials*Ntrials, len(dims), len(betas)))\n",
    "\n",
    "for k, beta in enumerate(betas):\n",
    "    for l, dim in enumerate(dims):\n",
    "        # KL divergence is not symmetric, so we have to do i.e. I/L and L/I\n",
    "        for i, stim1 in enumerate(stims):\n",
    "            for j, stim2 in enumerate(stims):\n",
    "                print(\"Beginning Stimulus pair: ({}, {})\".format(stim1, stim2))\n",
    "                # Extract scgs for each stimulis\n",
    "                scg1_dat = scg_data[stim1]\n",
    "                scg2_dat = scg_data[stim2]\n",
    "                for (trial1, trial2) in tqdm.tqdm(product(range(Ntrials), range(Ntrials))):\n",
    "                    scg1 = scg1_dat[trial1]\n",
    "                    scg2 = scg2_dat[trial2]\n",
    "                    KL = pyslsa.KL(scg1, scg2, dim, beta)\n",
    "                    KL_divs[i, j, trial1*Ntrials + trial2, l, k] = KL\n",
    "with open(os.path.join(figsavepth, 'KL_divs_{}_parameter_sweep.pkl'.format(bird)), 'wb') as f:\n",
    "    pickle.dump(KL_divs, f)"
   ]
  },
  {
   "cell_type": "code",
   "execution_count": null,
   "metadata": {
    "collapsed": true
   },
   "outputs": [],
   "source": []
  }
 ],
 "metadata": {
  "kernelspec": {
   "display_name": "Python 3",
   "language": "python",
   "name": "python3"
  },
  "language_info": {
   "codemirror_mode": {
    "name": "ipython",
    "version": 3
   },
   "file_extension": ".py",
   "mimetype": "text/x-python",
   "name": "python",
   "nbconvert_exporter": "python",
   "pygments_lexer": "ipython3",
   "version": "3.6.2"
  }
 },
 "nbformat": 4,
 "nbformat_minor": 2
}
