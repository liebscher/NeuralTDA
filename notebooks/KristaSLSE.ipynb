{
 "cells": [
  {
   "cell_type": "code",
   "execution_count": 5,
   "metadata": {},
   "outputs": [
    {
     "name": "stdout",
     "output_type": "stream",
     "text": [
      "/home/brad/DailyLog/20171020/\n"
     ]
    }
   ],
   "source": [
    "# standard\n",
    "import numpy as np\n",
    "import glob\n",
    "import os\n",
    "import pickle\n",
    "import tqdm\n",
    "from itertools import product\n",
    "from joblib import Parallel, delayed\n",
    "import datetime\n",
    "\n",
    "# My code\n",
    "import neuraltda.simpComp as sc\n",
    "import neuraltda.spectralAnalysis as sa\n",
    "import neuraltda.topology2 as tp2\n",
    "\n",
    "# Plotting\n",
    "import matplotlib.pyplot as plt\n",
    "%matplotlib inline\n",
    "\n",
    "# file save path\n",
    "daystr = datetime.datetime.now().strftime('%Y%m%d')\n",
    "figsavepth = '/home/brad/DailyLog/'+daystr+'/'\n",
    "print(figsavepth)"
   ]
  },
  {
   "cell_type": "code",
   "execution_count": 6,
   "metadata": {
    "collapsed": true
   },
   "outputs": [],
   "source": [
    "# The goal is to compute the pairwise distances using the KL divergence between all trials of each stimuli.\n",
    "# First we set up the parameters for the analysis\n",
    "\n",
    "# Bird parameters\n",
    "bps = {'B1083': '/home/brad/krista/B1083/P03S03/', 'B1075': '/home/brad/krista/B1075/P01S03/',\n",
    "       'B1235': '/home/brad/krista/B1235/P02S01/', 'B1056': '/home/brad/krista/B1056/klusta/phy020516/Pen01_Lft_AP100_ML1300__Site03_Z2500__B1056_cat_P01_S03_1/',\n",
    "       'B1056': '/home/brad/krista/B1056/klusta/phy020516/Pen01_Lft_AP100_ML1300__Site03_Z2500__B1056_cat_P01_S03_1/'}\n",
    "\n",
    "birds = ['B1083']\n",
    "\n",
    "# Binning parameters\n",
    "windt = 10.0                      # milliseconds\n",
    "dtovr = 0.5*windt                 # milliseconds\n",
    "segment_info = [0, 0]             # use full Trial\n",
    "cluster_group = ['Good']          # use just good clusters\n",
    "comment = 'ForSLSE'               # SLSE Computations\n",
    "bdfs = {}                         # Dictionary to store bdf\n",
    "scgfs = {}                         # Dictionary to store simplicial complexes\n",
    "\n",
    "# Simplicial complex parameters\n",
    "thresh = 6.0\n",
    "dim = 1\n",
    "beta = -0.15\n"
   ]
  },
  {
   "cell_type": "code",
   "execution_count": 7,
   "metadata": {},
   "outputs": [
    {
     "name": "stdout",
     "output_type": "stream",
     "text": [
      "/home/brad/krista/B1083/P03S03/binned_data/win-10.0_dtovr-5.0_seg-0-0-ForSLSE/20171019T171241Z-10.0-5.0.binned\n"
     ]
    }
   ],
   "source": [
    "# Now, bin the data\n",
    "for bird in birds:\n",
    "    block_path = bps[bird]\n",
    "    bfdict = tp2.dag_bin(block_path, windt, segment_info, cluster_group=cluster_group, dt_overlap=dtovr, comment=comment)\n",
    "    bdf = glob.glob(os.path.join(bfdict['raw'], '*.binned'))[0]\n",
    "    print(bdf)\n",
    "    bdfs[bird] = bdf"
   ]
  },
  {
   "cell_type": "code",
   "execution_count": 8,
   "metadata": {},
   "outputs": [
    {
     "name": "stdout",
     "output_type": "stream",
     "text": [
      "Computing Chain Groups...\n",
      "KeysView(<HDF5 file \"20171019T171241Z-10.0-5.0.binned\" (mode r)>)\n",
      "Stim: I_40k, Clusters:None\n",
      "Starting jobs...\n",
      "Stim: J_40k, Clusters:None\n",
      "Starting jobs...\n",
      "Stim: K_40k, Clusters:None\n",
      "Starting jobs...\n",
      "Stim: L_40k, Clusters:None\n",
      "Starting jobs...\n",
      "Stim: M_40k, Clusters:None\n",
      "Starting jobs...\n",
      "Stim: N_40k, Clusters:None\n",
      "Starting jobs...\n",
      "Stim: O_40k, Clusters:None\n",
      "Starting jobs...\n",
      "Stim: P_40k, Clusters:None\n",
      "Starting jobs...\n"
     ]
    }
   ],
   "source": [
    "# Ok, data binned, now we compute chain groups\n",
    "for bird in birds:\n",
    "    block_path = bps[bird]\n",
    "    scg_f = sa.computeChainGroups(block_path, bdfs[bird], thresh, comment=comment)\n",
    "    scgfs[bird] = scg_f"
   ]
  },
  {
   "cell_type": "code",
   "execution_count": 9,
   "metadata": {},
   "outputs": [
    {
     "name": "stdout",
     "output_type": "stream",
     "text": [
      "{'B1083': '/home/brad/krista/B1083/P03S03/scg/20171019T171241Z-10.0-5.0-6.0-ForSLSE.scg'}\n"
     ]
    }
   ],
   "source": [
    "scgfs[bird] = scg_f\n",
    "print(scgfs)"
   ]
  },
  {
   "cell_type": "code",
   "execution_count": null,
   "metadata": {
    "scrolled": true
   },
   "outputs": [],
   "source": [
    "# Organization of scg file is [stim]\n",
    "with open(scgfs[bird], 'rb') as scgf:\n",
    "    scg_data = pickle.load(scgf)\n",
    "    print(scg_data.keys())\n",
    "    \n",
    "# Logic of computation.  For each pair of stimuli, \n",
    "# we compute the KL divergence between all pairs of trials.\n",
    "# so we need an Nstim x Nstim x (Ntrials*Ntrials) matrix to store all the values\n",
    "stims = list(scg_data.keys())   # Get list of stimuli\n",
    "Nstim = len(stims)              # Get number of stimuli\n",
    "Ntrials = 5                     # Hard coded for now...\n",
    "\n",
    "# Create result array\n",
    "KL_divs = np.zeros((Nstim, Nstim, Ntrials*Ntrials))\n",
    "\n",
    "# KL divergence is not symmetric, so we have to do i.e. I/L and L/I\n",
    "for i, stim1 in enumerate(stims):\n",
    "    for j, stim2 in enumerate(stims):\n",
    "        print(\"Beginning Stimulus pair: ({}, {})\".format(stim1, stim2))\n",
    "        # Extract scgs for each stimulis\n",
    "        scg1_dat = scg_data[stim1]\n",
    "        scg2_dat = scg_data[stim2]\n",
    "        Parallel(n_jobs=7)(delayed(par_KL)(scg1_dat, scg2_dat, trial1, trial2, KL_divs, i, j) \n",
    "                           for trial1,trial2 in product(range(Ntrials), range(Ntrials)))\n"
   ]
  },
  {
   "cell_type": "code",
   "execution_count": null,
   "metadata": {
    "collapsed": true
   },
   "outputs": [],
   "source": [
    "def par_KL(scg1_dat, scg2_dat, trial1, trial2, KL_divs, i, j):\n",
    "    scg1 = scg1_dat[trial1]\n",
    "    scg2 = scg2_dat[trial2]\n",
    "\n",
    "    # Compute Laplacians\n",
    "    L1 = sc.compute_laplacian(scg1, dim)\n",
    "    L2 = sc.compute_laplacian(scg2, dim)\n",
    "\n",
    "    # Reconcile Laplacians\n",
    "    # Lsamp : scg1 Ldata : scg2\n",
    "    if (np.size(L1) > np.size(L2)):\n",
    "        (L2, L1) = sc.reconcile_laplacians(L2, L1)\n",
    "    else:\n",
    "        (L1, L2) = sc.reconcile_laplacians(L1, L2)\n",
    "\n",
    "    # Compute Divergence\n",
    "    KL = sc.KLdivergence_lap(L1, L2, beta)\n",
    "    KL_divs[i, j, trial1*Ntrials + trial2] = KL"
   ]
  },
  {
   "cell_type": "code",
   "execution_count": null,
   "metadata": {
    "collapsed": true
   },
   "outputs": [],
   "source": [
    "# Non parallel version\n",
    "# Organization of scg file is [stim]\n",
    "with open(scgfs[bird], 'rb') as scgf:\n",
    "    scg_data = pickle.load(scgf)\n",
    "    print(scg_data.keys())\n",
    "    \n",
    "# Logic of computation.  For each pair of stimuli, \n",
    "# we compute the KL divergence between all pairs of trials.\n",
    "# so we need an Nstim x Nstim x (Ntrials*Ntrials) matrix to store all the values\n",
    "stims = list(scg_data.keys())   # Get list of stimuli\n",
    "Nstim = len(stims)              # Get number of stimuli\n",
    "Ntrials = 5                     # Hard coded for now...\n",
    "\n",
    "# Create result array\n",
    "KL_divs = np.zeros((Nstim, Nstim, Ntrials*Ntrials))\n",
    "\n",
    "# KL divergence is not symmetric, so we have to do i.e. I/L and L/I\n",
    "for i, stim1 in enumerate(stims):\n",
    "    for j, stim2 in enumerate(stims):\n",
    "        print(\"Beginning Stimulus pair: ({}, {})\".format(stim1, stim2))\n",
    "        # Extract scgs for each stimulis\n",
    "        scg1_dat = scg_data[stim1]\n",
    "        scg2_dat = scg_data[stim2]\n",
    "        for (trial1, trial2) in tqdm.tqdm(product(range(Ntrials), range(Ntrials))):\n",
    "            scg1 = scg1_dat[trial1]\n",
    "            scg2 = scg2_dat[trial2]\n",
    "\n",
    "            # Compute Laplacians\n",
    "            L1 = sc.compute_laplacian(scg1, dim)\n",
    "            L2 = sc.compute_laplacian(scg2, dim)\n",
    "\n",
    "            # Reconcile Laplacians\n",
    "            # Lsamp : scg1 Ldata : scg2\n",
    "            if (np.size(L1) > np.size(L2)):\n",
    "                (L2, L1) = sc.reconcile_laplacians(L2, L1)\n",
    "            else:\n",
    "                (L1, L2) = sc.reconcile_laplacians(L1, L2)\n",
    "\n",
    "            # Compute Divergence\n",
    "            KL = sc.KLdivergence_lap(L1, L2, beta)\n",
    "            KL_divs[i, j, trial1*Ntrials + trial2] = KL\n",
    "            \n",
    "            "
   ]
  },
  {
   "cell_type": "code",
   "execution_count": 13,
   "metadata": {},
   "outputs": [],
   "source": [
    "with open(os.path.join(figsavepth, 'KL_divs_{}.pkl'.format(bird)), 'wb') as f:\n",
    "    pickle.dump(KL_divs, f)"
   ]
  },
  {
   "cell_type": "code",
   "execution_count": null,
   "metadata": {},
   "outputs": [],
   "source": [
    "KL_divs.shape"
   ]
  },
  {
   "cell_type": "code",
   "execution_count": null,
   "metadata": {
    "collapsed": true
   },
   "outputs": [],
   "source": [
    "KL_div_mean = np.mean(KL_divs, axis=2)"
   ]
  },
  {
   "cell_type": "code",
   "execution_count": null,
   "metadata": {},
   "outputs": [],
   "source": [
    "plt.imshow(KL_div_mean, interpolation='nearest')\n",
    "plt.colorbar()"
   ]
  },
  {
   "cell_type": "code",
   "execution_count": null,
   "metadata": {
    "collapsed": true
   },
   "outputs": [],
   "source": [
    "from scipy.cluster.hierarchy import dendrogram, linkage\n",
    "\n",
    "# Make compressed distance matrix\n",
    "y = KL_div_mean[np.triu_indices(Nstim, k=1)].flatten()\n",
    "Z = linkage(y)"
   ]
  },
  {
   "cell_type": "code",
   "execution_count": null,
   "metadata": {},
   "outputs": [],
   "source": [
    "dendrogram(Z)"
   ]
  },
  {
   "cell_type": "code",
   "execution_count": null,
   "metadata": {
    "collapsed": true
   },
   "outputs": [],
   "source": [
    "d_fam_fam = KL_div_mean[4:, 4:] # familiar familiar\n",
    "d_fam_nov = KL_div_mean[4:, 0:4] # familiear vs novel\n",
    "d_nov_fam = KL_div_mean[0:4, 4:] # Novel vs familiar\n",
    "d_nov_nov = KL_div_mean[0:4, 0:4] # Novel vs Novel"
   ]
  },
  {
   "cell_type": "code",
   "execution_count": null,
   "metadata": {
    "collapsed": true
   },
   "outputs": [],
   "source": []
  }
 ],
 "metadata": {
  "kernelspec": {
   "display_name": "Python 3",
   "language": "python",
   "name": "python3"
  },
  "language_info": {
   "codemirror_mode": {
    "name": "ipython",
    "version": 3
   },
   "file_extension": ".py",
   "mimetype": "text/x-python",
   "name": "python",
   "nbconvert_exporter": "python",
   "pygments_lexer": "ipython3",
   "version": "3.6.2"
  }
 },
 "nbformat": 4,
 "nbformat_minor": 2
}
