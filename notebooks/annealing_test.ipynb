{
 "cells": [
  {
   "cell_type": "code",
   "execution_count": 80,
   "metadata": {
    "collapsed": false
   },
   "outputs": [
    {
     "data": {
      "text/plain": [
       "<module 'neuraltda.Annealer' from '/home/brad/code/NeuralTDA/neuraltda/Annealer.pyc'>"
      ]
     },
     "execution_count": 80,
     "metadata": {},
     "output_type": "execute_result"
    }
   ],
   "source": [
    "import numpy as np\n",
    "from neuraltda import SLSEMetric as slse\n",
    "import neuraltda.Annealer as an\n",
    "reload(an)"
   ]
  },
  {
   "cell_type": "code",
   "execution_count": null,
   "metadata": {
    "collapsed": true
   },
   "outputs": [],
   "source": [
    "myslse = slse.SLSEMetric([], 1, 13.0)"
   ]
  },
  {
   "cell_type": "code",
   "execution_count": null,
   "metadata": {
    "collapsed": false
   },
   "outputs": [],
   "source": [
    "myslse.error([], 1)"
   ]
  },
  {
   "cell_type": "code",
   "execution_count": 2,
   "metadata": {
    "collapsed": true
   },
   "outputs": [],
   "source": [
    "class simplesys:\n",
    "    \n",
    "    def __init__(self, center):\n",
    "        self.center = center\n",
    "        \n",
    "    def initialize(self):\n",
    "        return 100*np.random.randn()\n",
    "    \n",
    "    def run(self, s):\n",
    "        return s\n",
    "    \n",
    "class sqloss:\n",
    "    \n",
    "    def __init__(self, center):\n",
    "        self.center = center\n",
    "        \n",
    "    def error(self, x):\n",
    "        return (self.center - x)**2"
   ]
  },
  {
   "cell_type": "code",
   "execution_count": null,
   "metadata": {
    "collapsed": false
   },
   "outputs": [],
   "source": [
    "sys = simplesys(4)\n",
    "loss = sqloss(3.5)\n",
    "annealer = an.Annealer(loss, sys, 0.001)"
   ]
  },
  {
   "cell_type": "code",
   "execution_count": null,
   "metadata": {
    "collapsed": false
   },
   "outputs": [],
   "source": [
    "annealer.anneal(10000)"
   ]
  },
  {
   "cell_type": "code",
   "execution_count": 3,
   "metadata": {
    "collapsed": true
   },
   "outputs": [],
   "source": [
    "import brian2\n",
    "%matplotlib inline"
   ]
  },
  {
   "cell_type": "code",
   "execution_count": null,
   "metadata": {
    "collapsed": false
   },
   "outputs": [],
   "source": [
    "start_scope()\n",
    "\n",
    "eqs = '''\n",
    "dv/dt = (I-v)/tau : 1\n",
    "I : 1\n",
    "tau : second\n",
    "'''\n",
    "G = NeuronGroup(3, eqs, threshold='v>1', reset='v = 0', method='linear')\n",
    "G.I = [2, 0, 0]\n",
    "G.tau = [10, 100, 100]*ms\n",
    "\n",
    "# Comment these two lines out to see what happens without Synapses\n",
    "S = Synapses(G, G, 'w : 1', on_pre='v_post += w')\n",
    "S.connect(i=0, j=[1, 2])\n",
    "S.w = 'j*0.2'\n",
    "\n",
    "M = StateMonitor(G, 'v', record=True)\n",
    "\n",
    "run(50*ms)\n",
    "\n",
    "plot(M.t/ms, M.v[0], '-b', label='Neuron 0')\n",
    "plot(M.t/ms, M.v[1], '-g', lw=2, label='Neuron 1')\n",
    "plot(M.t/ms, M.v[2], '-r', lw=2, label='Neuron 1')\n",
    "xlabel('Time (ms)')\n",
    "ylabel('v')\n",
    "legend(loc='best');"
   ]
  },
  {
   "cell_type": "code",
   "execution_count": null,
   "metadata": {
    "collapsed": false
   },
   "outputs": [],
   "source": [
    "start_scope()\n",
    "\n",
    "N = 25\n",
    "tau = 10*ms\n",
    "v0_max = 3.\n",
    "duration = 4000*ms\n",
    "sigma = 0.2\n",
    "\n",
    "eqs = '''\n",
    "dv/dt = (v0-v)/tau+sigma*xi*tau**-0.5 : 1 (unless refractory)\n",
    "v0 : 1\n",
    "'''\n",
    "\n",
    "G = NeuronGroup(N, eqs, threshold='v>1', reset='v=0', refractory=5*ms, method='euler')\n",
    "M = SpikeMonitor(G)\n",
    "\n",
    "G.v0 = 0.7\n",
    "\n",
    "# Comment these two lines out to see what happens without Synapses\n",
    "S = Synapses(G, G, 'w : 1', on_pre='v_post += w')\n",
    "S.connect(p=0.1)\n",
    "S.w = 'randn()'\n",
    "S.delay = 1*ms\n",
    "\n",
    "run(duration)\n",
    "\n",
    "figure(figsize=(12,4))\n",
    "subplot(121)\n",
    "plot(M.t/ms, M.i, '.k')\n",
    "xlabel('Time (ms)')\n",
    "ylabel('Neuron index')\n",
    "subplot(122)\n",
    "plot(G.v0, M.count/duration)\n",
    "xlabel('v0')\n",
    "ylabel('Firing rate (sp/s)');\n",
    "\n"
   ]
  },
  {
   "cell_type": "code",
   "execution_count": 52,
   "metadata": {
    "collapsed": false
   },
   "outputs": [],
   "source": [
    "import pandas as pd\n",
    "class SpikingNetwork:\n",
    "    fs = 40000\n",
    "    N = 25\n",
    "    tau = 10*brian2.ms\n",
    "    v0_max = 3.\n",
    "    duration = 4000*brian2.ms\n",
    "    sigma = 0.2\n",
    "    \n",
    "    def __init__(self):\n",
    "        brian2.start_scope()\n",
    "        \n",
    "        eqs = '''\n",
    "        dv/dt = (v0-v)/tau+sigma*xi*tau**-0.5 : 1 (unless refractory)\n",
    "        v0 : 1\n",
    "        tau : second\n",
    "        sigma : 1\n",
    "        '''\n",
    "\n",
    "        self.G = brian2.NeuronGroup(self.N, eqs, threshold='v>1', reset='v=0', refractory=5*brian2.ms, method='euler')\n",
    "        self.M = brian2.SpikeMonitor(self.G)\n",
    "\n",
    "        self.G.v0 = 0.7\n",
    "        self.G.tau = self.tau\n",
    "        self.G.sigma=self.sigma\n",
    "        # Comment these two lines out to see what happens without Synapses\n",
    "        self.S = brian2.Synapses(self.G, self.G, 'w : 1', on_pre='v_post += w')\n",
    "        self.S.connect(p=0.1)\n",
    "        self.S.w = 'randn()'\n",
    "        self.S.delay = 1*brian2.ms\n",
    "        \n",
    "        self.net = brian2.Network()\n",
    "        self.net.add(self.G, self.M, self.S)\n",
    "        \n",
    "    def initialize(self):\n",
    "        return np.array(self.S.w)\n",
    "    \n",
    "    def run(self, weights=None):\n",
    "        if weights:\n",
    "            self.S.w = weights\n",
    "        self.net.run(self.duration)\n",
    "        sptrains = self.M.spike_trains()\n",
    "        spikes = pd.DataFrame(data={'cluster': self.M.i, 'time_samples': np.int_(np.array(self.M.t)*self.fs), 'recording': len(self.M.t)*[0]})\n",
    "        spikes = spikes.sort(columns='time_samples')\n",
    "        stim_trials = pd.DataFrame(data={'time_samples': [0], 'stimulus_end': [float(self.duration)]})\n",
    "        clusters_list = range(self.N)\n",
    "        \n",
    "        return spikes"
   ]
  },
  {
   "cell_type": "code",
   "execution_count": 11,
   "metadata": {
    "collapsed": false
   },
   "outputs": [],
   "source": [
    "def visualise_connectivity(S):\n",
    "    Ns = len(S.source)\n",
    "    Nt = len(S.target)\n",
    "    figure(figsize=(10, 4))\n",
    "    subplot(121)\n",
    "    plot(zeros(Ns), arange(Ns), 'ok', ms=10)\n",
    "    plot(ones(Nt), arange(Nt), 'ok', ms=10)\n",
    "    for i, j in zip(S.i, S.j):\n",
    "        plot([0, 1], [i, j], '-k')\n",
    "    xticks([0, 1], ['Source', 'Target'])\n",
    "    ylabel('Neuron index')\n",
    "    xlim(-0.1, 1.1)\n",
    "    ylim(-1, max(Ns, Nt))\n",
    "    subplot(122)\n",
    "    plot(S.i, S.j, 'ok')\n",
    "    xlim(-1, Ns)\n",
    "    ylim(-1, Nt)\n",
    "    xlabel('Source neuron index')\n",
    "    ylabel('Target neuron index')"
   ]
  },
  {
   "cell_type": "code",
   "execution_count": null,
   "metadata": {
    "collapsed": false
   },
   "outputs": [],
   "source": [
    "visualise_connectivity(S)"
   ]
  },
  {
   "cell_type": "code",
   "execution_count": null,
   "metadata": {
    "collapsed": false
   },
   "outputs": [],
   "source": [
    "S.w = np.random.standard_normal(np.shape(S.w))"
   ]
  },
  {
   "cell_type": "code",
   "execution_count": null,
   "metadata": {
    "collapsed": false
   },
   "outputs": [],
   "source": [
    "S.w"
   ]
  },
  {
   "cell_type": "code",
   "execution_count": null,
   "metadata": {
    "collapsed": false
   },
   "outputs": [],
   "source": [
    "np.array(S.w)"
   ]
  },
  {
   "cell_type": "code",
   "execution_count": null,
   "metadata": {
    "collapsed": false
   },
   "outputs": [],
   "source": [
    "len(M.t)"
   ]
  },
  {
   "cell_type": "code",
   "execution_count": 98,
   "metadata": {
    "collapsed": false
   },
   "outputs": [
    {
     "data": {
      "text/plain": [
       "<module 'neuraltda.SpikingNetwork' from '/home/brad/code/NeuralTDA/neuraltda/SpikingNetwork.py'>"
      ]
     },
     "execution_count": 98,
     "metadata": {},
     "output_type": "execute_result"
    }
   ],
   "source": [
    "import neuraltda.SpikingNetwork as sn\n",
    "reload(sn)"
   ]
  },
  {
   "cell_type": "code",
   "execution_count": 84,
   "metadata": {
    "collapsed": false
   },
   "outputs": [],
   "source": [
    "t1 = sn.SpikingNetwork(10.0, 5.0)"
   ]
  },
  {
   "cell_type": "code",
   "execution_count": 85,
   "metadata": {
    "collapsed": false
   },
   "outputs": [],
   "source": [
    "test = t1.run()"
   ]
  },
  {
   "cell_type": "code",
   "execution_count": 79,
   "metadata": {
    "collapsed": false
   },
   "outputs": [
    {
     "data": {
      "text/plain": [
       "<matplotlib.image.AxesImage at 0x7f92a41c8ed0>"
      ]
     },
     "execution_count": 79,
     "metadata": {},
     "output_type": "execute_result"
    },
    {
     "data": {
      "image/png": "[encoded data removed]",
      "text/plain": [
       "<matplotlib.figure.Figure at 0x7f92a705d490>"
      ]
     },
     "metadata": {},
     "output_type": "display_data"
    }
   ],
   "source": [
    "import matplotlib.pyplot as plt\n",
    "%matplotlib inline\n",
    "\n",
    "plt.imshow(test[:, :, 0])"
   ]
  },
  {
   "cell_type": "code",
   "execution_count": 283,
   "metadata": {
    "collapsed": false
   },
   "outputs": [
    {
     "data": {
      "text/plain": [
       "<module 'neuraltda.Annealer' from '/home/brad/code/NeuralTDA/neuraltda/Annealer.pyc'>"
      ]
     },
     "execution_count": 283,
     "metadata": {},
     "output_type": "execute_result"
    }
   ],
   "source": [
    "import neuraltda.simpComp as sc\n",
    "reload(slse)\n",
    "reload(sn)\n",
    "reload(an)\n",
    "\n"
   ]
  },
  {
   "cell_type": "code",
   "execution_count": 284,
   "metadata": {
    "collapsed": false
   },
   "outputs": [],
   "source": [
    "targ = sc.simplicialChainGroups([(1,2,3), (2,3,4), (1,4,7,9), (3,9)])\n",
    "loss = slse.SLSEMetric(targ, 1, 6.0)\n",
    "sys = sn.SpikingNetwork(10.0, 5.0)\n",
    "annealer = an.Annealer(loss, sys, 10.0)"
   ]
  },
  {
   "cell_type": "code",
   "execution_count": 241,
   "metadata": {
    "collapsed": false,
    "scrolled": true
   },
   "outputs": [
    {
     "name": "stderr",
     "output_type": "stream",
     "text": [
      "INFO       No numerical integration method specified for group 'synapses_2', using method 'linear' (took 0.03s). [brian2.stateupdaters.base.method_choice]\n",
      "WARNING    /home/brad/code/NeuralTDA/neuraltda/SpikingNetwork.py:86: FutureWarning: sort(columns=....) is deprecated, use sort_values(by=.....)\n",
      "  new_spikes = new_spikes.sort(columns='time_samples')\n",
      " [py.warnings]\n",
      "INFO       No numerical integration method specified for group 'synapses_2', using method 'linear' (took 0.02s). [brian2.stateupdaters.base.method_choice]\n",
      "INFO       No numerical integration method specified for group 'synapses_2', using method 'linear' (took 0.02s). [brian2.stateupdaters.base.method_choice]\n",
      "INFO       No numerical integration method specified for group 'synapses_2', using method 'linear' (took 0.02s). [brian2.stateupdaters.base.method_choice]\n",
      "INFO       No numerical integration method specified for group 'synapses_2', using method 'linear' (took 0.02s). [brian2.stateupdaters.base.method_choice]\n",
      "INFO       No numerical integration method specified for group 'synapses_2', using method 'linear' (took 0.02s). [brian2.stateupdaters.base.method_choice]\n"
     ]
    },
    {
     "name": "stdout",
     "output_type": "stream",
     "text": [
      "0\n",
      "1\n",
      "2\n",
      "3\n",
      "4\n",
      "Status: 0/100, E: inf, E_new: 0.096276644567, Temp: 0.0735758882343\n"
     ]
    },
    {
     "name": "stderr",
     "output_type": "stream",
     "text": [
      "INFO       No numerical integration method specified for group 'synapses_2', using method 'linear' (took 0.02s). [brian2.stateupdaters.base.method_choice]\n",
      "INFO       No numerical integration method specified for group 'synapses_2', using method 'linear' (took 0.02s). [brian2.stateupdaters.base.method_choice]\n",
      "INFO       No numerical integration method specified for group 'synapses_2', using method 'linear' (took 0.02s). [brian2.stateupdaters.base.method_choice]\n",
      "INFO       No numerical integration method specified for group 'synapses_2', using method 'linear' (took 0.02s). [brian2.stateupdaters.base.method_choice]\n",
      "INFO       No numerical integration method specified for group 'synapses_2', using method 'linear' (took 0.02s). [brian2.stateupdaters.base.method_choice]\n"
     ]
    },
    {
     "name": "stdout",
     "output_type": "stream",
     "text": [
      "0\n",
      "1\n",
      "2\n",
      "3\n",
      "4\n",
      "Status: 1/100, E: 0.096276644567, E_new: 0.096276644567, Temp: 0.0728364383267\n"
     ]
    },
    {
     "name": "stderr",
     "output_type": "stream",
     "text": [
      "INFO       No numerical integration method specified for group 'synapses_2', using method 'linear' (took 0.02s). [brian2.stateupdaters.base.method_choice]\n",
      "INFO       No numerical integration method specified for group 'synapses_2', using method 'linear' (took 0.02s). [brian2.stateupdaters.base.method_choice]\n",
      "INFO       No numerical integration method specified for group 'synapses_2', using method 'linear' (took 0.02s). [brian2.stateupdaters.base.method_choice]\n",
      "INFO       No numerical integration method specified for group 'synapses_2', using method 'linear' (took 0.02s). [brian2.stateupdaters.base.method_choice]\n",
      "INFO       No numerical integration method specified for group 'synapses_2', using method 'linear' (took 0.02s). [brian2.stateupdaters.base.method_choice]\n"
     ]
    },
    {
     "name": "stdout",
     "output_type": "stream",
     "text": [
      "0\n",
      "1\n",
      "2\n",
      "3\n",
      "4\n",
      "Status: 2/100, E: 0.096276644567, E_new: 0.096276644567, Temp: 0.0720895577196\n"
     ]
    },
    {
     "name": "stderr",
     "output_type": "stream",
     "text": [
      "INFO       No numerical integration method specified for group 'synapses_2', using method 'linear' (took 0.02s). [brian2.stateupdaters.base.method_choice]\n",
      "INFO       No numerical integration method specified for group 'synapses_2', using method 'linear' (took 0.02s). [brian2.stateupdaters.base.method_choice]\n",
      "INFO       No numerical integration method specified for group 'synapses_2', using method 'linear' (took 0.02s). [brian2.stateupdaters.base.method_choice]\n",
      "INFO       No numerical integration method specified for group 'synapses_2', using method 'linear' (took 0.02s). [brian2.stateupdaters.base.method_choice]\n",
      "INFO       No numerical integration method specified for group 'synapses_2', using method 'linear' (took 0.02s). [brian2.stateupdaters.base.method_choice]\n"
     ]
    },
    {
     "name": "stdout",
     "output_type": "stream",
     "text": [
      "0\n",
      "1\n",
      "2\n",
      "3\n",
      "4\n",
      "Status: 3/100, E: 0.096276644567, E_new: 0.096276644567, Temp: 0.0713351741239\n"
     ]
    },
    {
     "name": "stderr",
     "output_type": "stream",
     "text": [
      "INFO       No numerical integration method specified for group 'synapses_2', using method 'linear' (took 0.02s). [brian2.stateupdaters.base.method_choice]\n",
      "INFO       No numerical integration method specified for group 'synapses_2', using method 'linear' (took 0.02s). [brian2.stateupdaters.base.method_choice]\n",
      "INFO       No numerical integration method specified for group 'synapses_2', using method 'linear' (took 0.02s). [brian2.stateupdaters.base.method_choice]\n",
      "INFO       No numerical integration method specified for group 'synapses_2', using method 'linear' (took 0.02s). [brian2.stateupdaters.base.method_choice]\n",
      "INFO       No numerical integration method specified for group 'synapses_2', using method 'linear' (took 0.02s). [brian2.stateupdaters.base.method_choice]\n"
     ]
    },
    {
     "name": "stdout",
     "output_type": "stream",
     "text": [
      "0\n",
      "1\n",
      "2\n",
      "3\n",
      "4\n",
      "Status: 4/100, E: 0.096276644567, E_new: 0.096276644567, Temp: 0.0705732162918\n"
     ]
    },
    {
     "name": "stderr",
     "output_type": "stream",
     "text": [
      "INFO       No numerical integration method specified for group 'synapses_2', using method 'linear' (took 0.02s). [brian2.stateupdaters.base.method_choice]\n",
      "INFO       No numerical integration method specified for group 'synapses_2', using method 'linear' (took 0.02s). [brian2.stateupdaters.base.method_choice]\n",
      "INFO       No numerical integration method specified for group 'synapses_2', using method 'linear' (took 0.02s). [brian2.stateupdaters.base.method_choice]\n",
      "INFO       No numerical integration method specified for group 'synapses_2', using method 'linear' (took 0.02s). [brian2.stateupdaters.base.method_choice]\n",
      "INFO       No numerical integration method specified for group 'synapses_2', using method 'linear' (took 0.02s). [brian2.stateupdaters.base.method_choice]\n"
     ]
    },
    {
     "name": "stdout",
     "output_type": "stream",
     "text": [
      "0\n",
      "1\n",
      "2\n",
      "3\n",
      "4\n",
      "Status: 5/100, E: 0.096276644567, E_new: 0.096276644567, Temp: 0.0698036141863\n"
     ]
    },
    {
     "name": "stderr",
     "output_type": "stream",
     "text": [
      "INFO       No numerical integration method specified for group 'synapses_2', using method 'linear' (took 0.02s). [brian2.stateupdaters.base.method_choice]\n",
      "INFO       No numerical integration method specified for group 'synapses_2', using method 'linear' (took 0.02s). [brian2.stateupdaters.base.method_choice]\n",
      "INFO       No numerical integration method specified for group 'synapses_2', using method 'linear' (took 0.02s). [brian2.stateupdaters.base.method_choice]\n",
      "INFO       No numerical integration method specified for group 'synapses_2', using method 'linear' (took 0.02s). [brian2.stateupdaters.base.method_choice]\n",
      "INFO       No numerical integration method specified for group 'synapses_2', using method 'linear' (took 0.02s). [brian2.stateupdaters.base.method_choice]\n"
     ]
    },
    {
     "name": "stdout",
     "output_type": "stream",
     "text": [
      "0\n",
      "1\n",
      "2\n",
      "3\n",
      "4\n",
      "Status: 6/100, E: 0.096276644567, E_new: 0.096276644567, Temp: 0.0690262991661\n"
     ]
    },
    {
     "name": "stderr",
     "output_type": "stream",
     "text": [
      "INFO       No numerical integration method specified for group 'synapses_2', using method 'linear' (took 0.02s). [brian2.stateupdaters.base.method_choice]\n",
      "INFO       No numerical integration method specified for group 'synapses_2', using method 'linear' (took 0.02s). [brian2.stateupdaters.base.method_choice]\n",
      "INFO       No numerical integration method specified for group 'synapses_2', using method 'linear' (took 0.02s). [brian2.stateupdaters.base.method_choice]\n",
      "INFO       No numerical integration method specified for group 'synapses_2', using method 'linear' (took 0.02s). [brian2.stateupdaters.base.method_choice]\n",
      "INFO       No numerical integration method specified for group 'synapses_2', using method 'linear' (took 0.02s). [brian2.stateupdaters.base.method_choice]\n"
     ]
    },
    {
     "name": "stdout",
     "output_type": "stream",
     "text": [
      "0\n",
      "1\n",
      "2\n",
      "3\n",
      "4\n",
      "Status: 7/100, E: 0.096276644567, E_new: 0.096276644567, Temp: 0.0682412041846\n"
     ]
    },
    {
     "name": "stderr",
     "output_type": "stream",
     "text": [
      "INFO       No numerical integration method specified for group 'synapses_2', using method 'linear' (took 0.02s). [brian2.stateupdaters.base.method_choice]\n",
      "INFO       No numerical integration method specified for group 'synapses_2', using method 'linear' (took 0.02s). [brian2.stateupdaters.base.method_choice]\n",
      "INFO       No numerical integration method specified for group 'synapses_2', using method 'linear' (took 0.02s). [brian2.stateupdaters.base.method_choice]\n",
      "INFO       No numerical integration method specified for group 'synapses_2', using method 'linear' (took 0.02s). [brian2.stateupdaters.base.method_choice]\n",
      "INFO       No numerical integration method specified for group 'synapses_2', using method 'linear' (took 0.02s). [brian2.stateupdaters.base.method_choice]\n"
     ]
    },
    {
     "name": "stdout",
     "output_type": "stream",
     "text": [
      "0\n",
      "1\n",
      "2\n",
      "3\n",
      "4\n",
      "Status: 8/100, E: 0.096276644567, E_new: 0.096276644567, Temp: 0.0674482640047\n"
     ]
    },
    {
     "name": "stderr",
     "output_type": "stream",
     "text": [
      "INFO       No numerical integration method specified for group 'synapses_2', using method 'linear' (took 0.02s). [brian2.stateupdaters.base.method_choice]\n",
      "INFO       No numerical integration method specified for group 'synapses_2', using method 'linear' (took 0.02s). [brian2.stateupdaters.base.method_choice]\n",
      "INFO       No numerical integration method specified for group 'synapses_2', using method 'linear' (took 0.02s). [brian2.stateupdaters.base.method_choice]\n",
      "INFO       No numerical integration method specified for group 'synapses_2', using method 'linear' (took 0.02s). [brian2.stateupdaters.base.method_choice]\n",
      "INFO       No numerical integration method specified for group 'synapses_2', using method 'linear' (took 0.02s). [brian2.stateupdaters.base.method_choice]\n"
     ]
    },
    {
     "name": "stdout",
     "output_type": "stream",
     "text": [
      "0\n",
      "1\n",
      "2\n",
      "3\n",
      "4\n",
      "Status: 9/100, E: 0.096276644567, E_new: 0.096276644567, Temp: 0.0666474154312\n"
     ]
    },
    {
     "name": "stderr",
     "output_type": "stream",
     "text": [
      "INFO       No numerical integration method specified for group 'synapses_2', using method 'linear' (took 0.02s). [brian2.stateupdaters.base.method_choice]\n",
      "INFO       No numerical integration method specified for group 'synapses_2', using method 'linear' (took 0.02s). [brian2.stateupdaters.base.method_choice]\n",
      "INFO       No numerical integration method specified for group 'synapses_2', using method 'linear' (took 0.02s). [brian2.stateupdaters.base.method_choice]\n",
      "INFO       No numerical integration method specified for group 'synapses_2', using method 'linear' (took 0.02s). [brian2.stateupdaters.base.method_choice]\n",
      "INFO       No numerical integration method specified for group 'synapses_2', using method 'linear' (took 0.02s). [brian2.stateupdaters.base.method_choice]\n"
     ]
    },
    {
     "name": "stdout",
     "output_type": "stream",
     "text": [
      "0\n",
      "1\n",
      "2\n",
      "3\n",
      "4\n",
      "Status: 10/100, E: 0.096276644567, E_new: 0.096276644567, Temp: 0.0658385975616\n"
     ]
    },
    {
     "name": "stderr",
     "output_type": "stream",
     "text": [
      "INFO       No numerical integration method specified for group 'synapses_2', using method 'linear' (took 0.02s). [brian2.stateupdaters.base.method_choice]\n",
      "INFO       No numerical integration method specified for group 'synapses_2', using method 'linear' (took 0.02s). [brian2.stateupdaters.base.method_choice]\n",
      "INFO       No numerical integration method specified for group 'synapses_2', using method 'linear' (took 0.02s). [brian2.stateupdaters.base.method_choice]\n",
      "INFO       No numerical integration method specified for group 'synapses_2', using method 'linear' (took 0.02s). [brian2.stateupdaters.base.method_choice]\n",
      "INFO       No numerical integration method specified for group 'synapses_2', using method 'linear' (took 0.02s). [brian2.stateupdaters.base.method_choice]\n"
     ]
    },
    {
     "name": "stdout",
     "output_type": "stream",
     "text": [
      "0\n",
      "1\n",
      "2\n",
      "3\n",
      "4\n",
      "Status: 11/100, E: 0.096276644567, E_new: 0.096276644567, Temp: 0.0650217520561\n"
     ]
    },
    {
     "name": "stderr",
     "output_type": "stream",
     "text": [
      "INFO       No numerical integration method specified for group 'synapses_2', using method 'linear' (took 0.02s). [brian2.stateupdaters.base.method_choice]\n",
      "INFO       No numerical integration method specified for group 'synapses_2', using method 'linear' (took 0.02s). [brian2.stateupdaters.base.method_choice]\n",
      "INFO       No numerical integration method specified for group 'synapses_2', using method 'linear' (took 0.02s). [brian2.stateupdaters.base.method_choice]\n",
      "INFO       No numerical integration method specified for group 'synapses_2', using method 'linear' (took 0.02s). [brian2.stateupdaters.base.method_choice]\n",
      "INFO       No numerical integration method specified for group 'synapses_2', using method 'linear' (took 0.02s). [brian2.stateupdaters.base.method_choice]\n"
     ]
    },
    {
     "name": "stdout",
     "output_type": "stream",
     "text": [
      "0\n",
      "1\n",
      "2\n",
      "3\n",
      "4\n",
      "Status: 12/100, E: 0.096276644567, E_new: 0.096276644567, Temp: 0.0641968234298\n"
     ]
    },
    {
     "name": "stderr",
     "output_type": "stream",
     "text": [
      "INFO       No numerical integration method specified for group 'synapses_2', using method 'linear' (took 0.02s). [brian2.stateupdaters.base.method_choice]\n",
      "INFO       No numerical integration method specified for group 'synapses_2', using method 'linear' (took 0.02s). [brian2.stateupdaters.base.method_choice]\n",
      "INFO       No numerical integration method specified for group 'synapses_2', using method 'linear' (took 0.02s). [brian2.stateupdaters.base.method_choice]\n",
      "INFO       No numerical integration method specified for group 'synapses_2', using method 'linear' (took 0.02s). [brian2.stateupdaters.base.method_choice]\n",
      "INFO       No numerical integration method specified for group 'synapses_2', using method 'linear' (took 0.02s). [brian2.stateupdaters.base.method_choice]\n"
     ]
    },
    {
     "name": "stdout",
     "output_type": "stream",
     "text": [
      "0\n",
      "1\n",
      "2\n",
      "3\n",
      "4\n",
      "Status: 13/100, E: 0.096276644567, E_new: 0.096276644567, Temp: 0.0633637593671\n"
     ]
    },
    {
     "name": "stderr",
     "output_type": "stream",
     "text": [
      "INFO       No numerical integration method specified for group 'synapses_2', using method 'linear' (took 0.02s). [brian2.stateupdaters.base.method_choice]\n",
      "INFO       No numerical integration method specified for group 'synapses_2', using method 'linear' (took 0.02s). [brian2.stateupdaters.base.method_choice]\n",
      "INFO       No numerical integration method specified for group 'synapses_2', using method 'linear' (took 0.02s). [brian2.stateupdaters.base.method_choice]\n",
      "INFO       No numerical integration method specified for group 'synapses_2', using method 'linear' (took 0.02s). [brian2.stateupdaters.base.method_choice]\n",
      "INFO       No numerical integration method specified for group 'synapses_2', using method 'linear' (took 0.02s). [brian2.stateupdaters.base.method_choice]\n"
     ]
    },
    {
     "name": "stdout",
     "output_type": "stream",
     "text": [
      "0\n",
      "1\n",
      "2\n",
      "3\n",
      "4\n",
      "Status: 14/100, E: 0.096276644567, E_new: 0.096276644567, Temp: 0.0625225110612\n"
     ]
    },
    {
     "name": "stderr",
     "output_type": "stream",
     "text": [
      "INFO       No numerical integration method specified for group 'synapses_2', using method 'linear' (took 0.02s). [brian2.stateupdaters.base.method_choice]\n",
      "INFO       No numerical integration method specified for group 'synapses_2', using method 'linear' (took 0.02s). [brian2.stateupdaters.base.method_choice]\n",
      "INFO       No numerical integration method specified for group 'synapses_2', using method 'linear' (took 0.02s). [brian2.stateupdaters.base.method_choice]\n",
      "INFO       No numerical integration method specified for group 'synapses_2', using method 'linear' (took 0.02s). [brian2.stateupdaters.base.method_choice]\n",
      "INFO       No numerical integration method specified for group 'synapses_2', using method 'linear' (took 0.02s). [brian2.stateupdaters.base.method_choice]\n"
     ]
    },
    {
     "name": "stdout",
     "output_type": "stream",
     "text": [
      "0\n",
      "1\n",
      "2\n",
      "3\n",
      "4\n",
      "Status: 15/100, E: 0.096276644567, E_new: 0.096276644567, Temp: 0.0616730335793\n"
     ]
    },
    {
     "name": "stderr",
     "output_type": "stream",
     "text": [
      "INFO       No numerical integration method specified for group 'synapses_2', using method 'linear' (took 0.02s). [brian2.stateupdaters.base.method_choice]\n",
      "INFO       No numerical integration method specified for group 'synapses_2', using method 'linear' (took 0.02s). [brian2.stateupdaters.base.method_choice]\n",
      "INFO       No numerical integration method specified for group 'synapses_2', using method 'linear' (took 0.02s). [brian2.stateupdaters.base.method_choice]\n",
      "INFO       No numerical integration method specified for group 'synapses_2', using method 'linear' (took 0.02s). [brian2.stateupdaters.base.method_choice]\n",
      "INFO       No numerical integration method specified for group 'synapses_2', using method 'linear' (took 0.02s). [brian2.stateupdaters.base.method_choice]\n"
     ]
    },
    {
     "name": "stdout",
     "output_type": "stream",
     "text": [
      "0\n",
      "1\n",
      "2\n",
      "3\n",
      "4\n",
      "Status: 16/100, E: 0.096276644567, E_new: 0.096276644567, Temp: 0.060815286257\n"
     ]
    },
    {
     "name": "stderr",
     "output_type": "stream",
     "text": [
      "INFO       No numerical integration method specified for group 'synapses_2', using method 'linear' (took 0.02s). [brian2.stateupdaters.base.method_choice]\n",
      "INFO       No numerical integration method specified for group 'synapses_2', using method 'linear' (took 0.02s). [brian2.stateupdaters.base.method_choice]\n",
      "INFO       No numerical integration method specified for group 'synapses_2', using method 'linear' (took 0.02s). [brian2.stateupdaters.base.method_choice]\n",
      "INFO       No numerical integration method specified for group 'synapses_2', using method 'linear' (took 0.02s). [brian2.stateupdaters.base.method_choice]\n",
      "INFO       No numerical integration method specified for group 'synapses_2', using method 'linear' (took 0.02s). [brian2.stateupdaters.base.method_choice]\n"
     ]
    },
    {
     "name": "stdout",
     "output_type": "stream",
     "text": [
      "0\n",
      "1\n",
      "2\n",
      "3\n",
      "4\n",
      "Status: 17/100, E: 0.096276644567, E_new: 0.096276644567, Temp: 0.0599492331225\n"
     ]
    },
    {
     "name": "stderr",
     "output_type": "stream",
     "text": [
      "INFO       No numerical integration method specified for group 'synapses_2', using method 'linear' (took 0.02s). [brian2.stateupdaters.base.method_choice]\n",
      "INFO       No numerical integration method specified for group 'synapses_2', using method 'linear' (took 0.02s). [brian2.stateupdaters.base.method_choice]\n",
      "INFO       No numerical integration method specified for group 'synapses_2', using method 'linear' (took 0.02s). [brian2.stateupdaters.base.method_choice]\n",
      "INFO       No numerical integration method specified for group 'synapses_2', using method 'linear' (took 0.02s). [brian2.stateupdaters.base.method_choice]\n",
      "INFO       No numerical integration method specified for group 'synapses_2', using method 'linear' (took 0.02s). [brian2.stateupdaters.base.method_choice]\n"
     ]
    },
    {
     "name": "stdout",
     "output_type": "stream",
     "text": [
      "0\n",
      "1\n",
      "2\n",
      "3\n",
      "4\n",
      "Status: 18/100, E: 0.096276644567, E_new: 0.096276644567, Temp: 0.0590748433542\n"
     ]
    },
    {
     "name": "stderr",
     "output_type": "stream",
     "text": [
      "INFO       No numerical integration method specified for group 'synapses_2', using method 'linear' (took 0.02s). [brian2.stateupdaters.base.method_choice]\n",
      "INFO       No numerical integration method specified for group 'synapses_2', using method 'linear' (took 0.02s). [brian2.stateupdaters.base.method_choice]\n",
      "INFO       No numerical integration method specified for group 'synapses_2', using method 'linear' (took 0.02s). [brian2.stateupdaters.base.method_choice]\n",
      "INFO       No numerical integration method specified for group 'synapses_2', using method 'linear' (took 0.02s). [brian2.stateupdaters.base.method_choice]\n",
      "INFO       No numerical integration method specified for group 'synapses_2', using method 'linear' (took 0.02s). [brian2.stateupdaters.base.method_choice]\n"
     ]
    },
    {
     "name": "stdout",
     "output_type": "stream",
     "text": [
      "0\n",
      "1\n",
      "2\n",
      "3\n",
      "4\n",
      "Status: 19/100, E: 0.096276644567, E_new: 0.096276644567, Temp: 0.0581920917729\n"
     ]
    },
    {
     "name": "stderr",
     "output_type": "stream",
     "text": [
      "INFO       No numerical integration method specified for group 'synapses_2', using method 'linear' (took 0.02s). [brian2.stateupdaters.base.method_choice]\n",
      "INFO       No numerical integration method specified for group 'synapses_2', using method 'linear' (took 0.02s). [brian2.stateupdaters.base.method_choice]\n",
      "INFO       No numerical integration method specified for group 'synapses_2', using method 'linear' (took 0.02s). [brian2.stateupdaters.base.method_choice]\n",
      "INFO       No numerical integration method specified for group 'synapses_2', using method 'linear' (took 0.02s). [brian2.stateupdaters.base.method_choice]\n",
      "INFO       No numerical integration method specified for group 'synapses_2', using method 'linear' (took 0.02s). [brian2.stateupdaters.base.method_choice]\n"
     ]
    },
    {
     "name": "stdout",
     "output_type": "stream",
     "text": [
      "0\n",
      "1\n",
      "2\n",
      "3\n",
      "4\n",
      "Status: 20/100, E: 0.096276644567, E_new: 0.096276644567, Temp: 0.057300959372\n"
     ]
    },
    {
     "name": "stderr",
     "output_type": "stream",
     "text": [
      "INFO       No numerical integration method specified for group 'synapses_2', using method 'linear' (took 0.02s). [brian2.stateupdaters.base.method_choice]\n",
      "INFO       No numerical integration method specified for group 'synapses_2', using method 'linear' (took 0.02s). [brian2.stateupdaters.base.method_choice]\n",
      "INFO       No numerical integration method specified for group 'synapses_2', using method 'linear' (took 0.02s). [brian2.stateupdaters.base.method_choice]\n",
      "INFO       No numerical integration method specified for group 'synapses_2', using method 'linear' (took 0.02s). [brian2.stateupdaters.base.method_choice]\n",
      "INFO       No numerical integration method specified for group 'synapses_2', using method 'linear' (took 0.02s). [brian2.stateupdaters.base.method_choice]\n"
     ]
    },
    {
     "name": "stdout",
     "output_type": "stream",
     "text": [
      "0\n",
      "1\n",
      "2\n",
      "3\n",
      "4\n",
      "Status: 21/100, E: 0.096276644567, E_new: 0.096276644567, Temp: 0.0564014338886\n"
     ]
    },
    {
     "name": "stderr",
     "output_type": "stream",
     "text": [
      "INFO       No numerical integration method specified for group 'synapses_2', using method 'linear' (took 0.02s). [brian2.stateupdaters.base.method_choice]\n",
      "INFO       No numerical integration method specified for group 'synapses_2', using method 'linear' (took 0.02s). [brian2.stateupdaters.base.method_choice]\n",
      "INFO       No numerical integration method specified for group 'synapses_2', using method 'linear' (took 0.02s). [brian2.stateupdaters.base.method_choice]\n",
      "INFO       No numerical integration method specified for group 'synapses_2', using method 'linear' (took 0.02s). [brian2.stateupdaters.base.method_choice]\n",
      "INFO       No numerical integration method specified for group 'synapses_2', using method 'linear' (took 0.02s). [brian2.stateupdaters.base.method_choice]\n"
     ]
    },
    {
     "name": "stdout",
     "output_type": "stream",
     "text": [
      "0\n",
      "1\n",
      "2\n",
      "3\n",
      "4\n",
      "Status: 22/100, E: 0.096276644567, E_new: 0.096276644567, Temp: 0.0554935104173\n"
     ]
    },
    {
     "name": "stderr",
     "output_type": "stream",
     "text": [
      "INFO       No numerical integration method specified for group 'synapses_2', using method 'linear' (took 0.02s). [brian2.stateupdaters.base.method_choice]\n",
      "INFO       No numerical integration method specified for group 'synapses_2', using method 'linear' (took 0.02s). [brian2.stateupdaters.base.method_choice]\n",
      "INFO       No numerical integration method specified for group 'synapses_2', using method 'linear' (took 0.02s). [brian2.stateupdaters.base.method_choice]\n",
      "INFO       No numerical integration method specified for group 'synapses_2', using method 'linear' (took 0.02s). [brian2.stateupdaters.base.method_choice]\n",
      "INFO       No numerical integration method specified for group 'synapses_2', using method 'linear' (took 0.02s). [brian2.stateupdaters.base.method_choice]\n"
     ]
    },
    {
     "name": "stdout",
     "output_type": "stream",
     "text": [
      "0\n",
      "1\n",
      "2\n",
      "3\n",
      "4\n",
      "Status: 23/100, E: 0.096276644567, E_new: 0.096276644567, Temp: 0.0545771920713\n"
     ]
    },
    {
     "name": "stderr",
     "output_type": "stream",
     "text": [
      "INFO       No numerical integration method specified for group 'synapses_2', using method 'linear' (took 0.02s). [brian2.stateupdaters.base.method_choice]\n",
      "INFO       No numerical integration method specified for group 'synapses_2', using method 'linear' (took 0.02s). [brian2.stateupdaters.base.method_choice]\n",
      "INFO       No numerical integration method specified for group 'synapses_2', using method 'linear' (took 0.02s). [brian2.stateupdaters.base.method_choice]\n",
      "INFO       No numerical integration method specified for group 'synapses_2', using method 'linear' (took 0.02s). [brian2.stateupdaters.base.method_choice]\n",
      "INFO       No numerical integration method specified for group 'synapses_2', using method 'linear' (took 0.02s). [brian2.stateupdaters.base.method_choice]\n"
     ]
    },
    {
     "name": "stdout",
     "output_type": "stream",
     "text": [
      "0\n",
      "1\n",
      "2\n",
      "3\n",
      "4\n",
      "Status: 24/100, E: 0.096276644567, E_new: 0.096276644567, Temp: 0.053652490694\n"
     ]
    },
    {
     "name": "stderr",
     "output_type": "stream",
     "text": [
      "INFO       No numerical integration method specified for group 'synapses_2', using method 'linear' (took 0.02s). [brian2.stateupdaters.base.method_choice]\n",
      "INFO       No numerical integration method specified for group 'synapses_2', using method 'linear' (took 0.02s). [brian2.stateupdaters.base.method_choice]\n",
      "INFO       No numerical integration method specified for group 'synapses_2', using method 'linear' (took 0.02s). [brian2.stateupdaters.base.method_choice]\n",
      "INFO       No numerical integration method specified for group 'synapses_2', using method 'linear' (took 0.02s). [brian2.stateupdaters.base.method_choice]\n",
      "INFO       No numerical integration method specified for group 'synapses_2', using method 'linear' (took 0.02s). [brian2.stateupdaters.base.method_choice]\n"
     ]
    },
    {
     "name": "stdout",
     "output_type": "stream",
     "text": [
      "0\n",
      "1\n",
      "2\n",
      "3\n",
      "4\n",
      "Status: 25/100, E: 0.096276644567, E_new: 0.096276644567, Temp: 0.0527194276231\n"
     ]
    },
    {
     "name": "stderr",
     "output_type": "stream",
     "text": [
      "INFO       No numerical integration method specified for group 'synapses_2', using method 'linear' (took 0.02s). [brian2.stateupdaters.base.method_choice]\n",
      "INFO       No numerical integration method specified for group 'synapses_2', using method 'linear' (took 0.02s). [brian2.stateupdaters.base.method_choice]\n",
      "INFO       No numerical integration method specified for group 'synapses_2', using method 'linear' (took 0.02s). [brian2.stateupdaters.base.method_choice]\n",
      "INFO       No numerical integration method specified for group 'synapses_2', using method 'linear' (took 0.02s). [brian2.stateupdaters.base.method_choice]\n",
      "INFO       No numerical integration method specified for group 'synapses_2', using method 'linear' (took 0.02s). [brian2.stateupdaters.base.method_choice]\n"
     ]
    },
    {
     "name": "stdout",
     "output_type": "stream",
     "text": [
      "0\n",
      "1\n",
      "2\n",
      "3\n",
      "4\n",
      "Status: 26/100, E: 0.096276644567, E_new: 0.096276644567, Temp: 0.0517780345137\n"
     ]
    },
    {
     "name": "stderr",
     "output_type": "stream",
     "text": [
      "INFO       No numerical integration method specified for group 'synapses_2', using method 'linear' (took 0.02s). [brian2.stateupdaters.base.method_choice]\n",
      "INFO       No numerical integration method specified for group 'synapses_2', using method 'linear' (took 0.02s). [brian2.stateupdaters.base.method_choice]\n",
      "INFO       No numerical integration method specified for group 'synapses_2', using method 'linear' (took 0.02s). [brian2.stateupdaters.base.method_choice]\n",
      "INFO       No numerical integration method specified for group 'synapses_2', using method 'linear' (took 0.02s). [brian2.stateupdaters.base.method_choice]\n",
      "INFO       No numerical integration method specified for group 'synapses_2', using method 'linear' (took 0.02s). [brian2.stateupdaters.base.method_choice]\n"
     ]
    },
    {
     "name": "stdout",
     "output_type": "stream",
     "text": [
      "0\n",
      "1\n",
      "2\n",
      "3\n",
      "4\n",
      "Status: 27/100, E: 0.096276644567, E_new: 0.096276644567, Temp: 0.0508283542219\n"
     ]
    },
    {
     "name": "stderr",
     "output_type": "stream",
     "text": [
      "INFO       No numerical integration method specified for group 'synapses_2', using method 'linear' (took 0.02s). [brian2.stateupdaters.base.method_choice]\n",
      "INFO       No numerical integration method specified for group 'synapses_2', using method 'linear' (took 0.02s). [brian2.stateupdaters.base.method_choice]\n",
      "INFO       No numerical integration method specified for group 'synapses_2', using method 'linear' (took 0.02s). [brian2.stateupdaters.base.method_choice]\n",
      "INFO       No numerical integration method specified for group 'synapses_2', using method 'linear' (took 0.02s). [brian2.stateupdaters.base.method_choice]\n",
      "INFO       No numerical integration method specified for group 'synapses_2', using method 'linear' (took 0.02s). [brian2.stateupdaters.base.method_choice]\n"
     ]
    },
    {
     "name": "stdout",
     "output_type": "stream",
     "text": [
      "0\n",
      "1\n",
      "2\n",
      "3\n",
      "4\n",
      "Status: 28/100, E: 0.096276644567, E_new: 0.096276644567, Temp: 0.0498704417555\n"
     ]
    },
    {
     "name": "stderr",
     "output_type": "stream",
     "text": [
      "INFO       No numerical integration method specified for group 'synapses_2', using method 'linear' (took 0.02s). [brian2.stateupdaters.base.method_choice]\n",
      "INFO       No numerical integration method specified for group 'synapses_2', using method 'linear' (took 0.02s). [brian2.stateupdaters.base.method_choice]\n",
      "INFO       No numerical integration method specified for group 'synapses_2', using method 'linear' (took 0.02s). [brian2.stateupdaters.base.method_choice]\n",
      "INFO       No numerical integration method specified for group 'synapses_2', using method 'linear' (took 0.02s). [brian2.stateupdaters.base.method_choice]\n",
      "INFO       No numerical integration method specified for group 'synapses_2', using method 'linear' (took 0.02s). [brian2.stateupdaters.base.method_choice]\n"
     ]
    },
    {
     "name": "stdout",
     "output_type": "stream",
     "text": [
      "0\n",
      "1\n",
      "2\n",
      "3\n",
      "4\n",
      "Status: 29/100, E: 0.096276644567, E_new: 0.096276644567, Temp: 0.0489043652945\n"
     ]
    },
    {
     "name": "stderr",
     "output_type": "stream",
     "text": [
      "INFO       No numerical integration method specified for group 'synapses_2', using method 'linear' (took 0.02s). [brian2.stateupdaters.base.method_choice]\n",
      "INFO       No numerical integration method specified for group 'synapses_2', using method 'linear' (took 0.02s). [brian2.stateupdaters.base.method_choice]\n",
      "INFO       No numerical integration method specified for group 'synapses_2', using method 'linear' (took 0.02s). [brian2.stateupdaters.base.method_choice]\n",
      "INFO       No numerical integration method specified for group 'synapses_2', using method 'linear' (took 0.02s). [brian2.stateupdaters.base.method_choice]\n",
      "INFO       No numerical integration method specified for group 'synapses_2', using method 'linear' (took 0.02s). [brian2.stateupdaters.base.method_choice]\n"
     ]
    },
    {
     "name": "stdout",
     "output_type": "stream",
     "text": [
      "0\n",
      "1\n",
      "2\n",
      "3\n",
      "4\n",
      "Status: 30/100, E: 0.096276644567, E_new: 0.096276644567, Temp: 0.0479302072884\n"
     ]
    },
    {
     "name": "stderr",
     "output_type": "stream",
     "text": [
      "INFO       No numerical integration method specified for group 'synapses_2', using method 'linear' (took 0.02s). [brian2.stateupdaters.base.method_choice]\n",
      "INFO       No numerical integration method specified for group 'synapses_2', using method 'linear' (took 0.02s). [brian2.stateupdaters.base.method_choice]\n",
      "INFO       No numerical integration method specified for group 'synapses_2', using method 'linear' (took 0.02s). [brian2.stateupdaters.base.method_choice]\n",
      "INFO       No numerical integration method specified for group 'synapses_2', using method 'linear' (took 0.02s). [brian2.stateupdaters.base.method_choice]\n",
      "INFO       No numerical integration method specified for group 'synapses_2', using method 'linear' (took 0.02s). [brian2.stateupdaters.base.method_choice]\n"
     ]
    },
    {
     "name": "stdout",
     "output_type": "stream",
     "text": [
      "0\n",
      "1\n",
      "2\n",
      "3\n",
      "4\n",
      "Status: 31/100, E: 0.096276644567, E_new: 0.096276644567, Temp: 0.0469480656329\n"
     ]
    },
    {
     "name": "stderr",
     "output_type": "stream",
     "text": [
      "INFO       No numerical integration method specified for group 'synapses_2', using method 'linear' (took 0.02s). [brian2.stateupdaters.base.method_choice]\n",
      "INFO       No numerical integration method specified for group 'synapses_2', using method 'linear' (took 0.02s). [brian2.stateupdaters.base.method_choice]\n",
      "INFO       No numerical integration method specified for group 'synapses_2', using method 'linear' (took 0.02s). [brian2.stateupdaters.base.method_choice]\n",
      "INFO       No numerical integration method specified for group 'synapses_2', using method 'linear' (took 0.02s). [brian2.stateupdaters.base.method_choice]\n",
      "INFO       No numerical integration method specified for group 'synapses_2', using method 'linear' (took 0.02s). [brian2.stateupdaters.base.method_choice]\n"
     ]
    },
    {
     "name": "stdout",
     "output_type": "stream",
     "text": [
      "0\n",
      "1\n",
      "2\n",
      "3\n",
      "4\n",
      "Status: 32/100, E: 0.096276644567, E_new: 0.096276644567, Temp: 0.0459580549346\n"
     ]
    },
    {
     "name": "stderr",
     "output_type": "stream",
     "text": [
      "INFO       No numerical integration method specified for group 'synapses_2', using method 'linear' (took 0.02s). [brian2.stateupdaters.base.method_choice]\n",
      "INFO       No numerical integration method specified for group 'synapses_2', using method 'linear' (took 0.02s). [brian2.stateupdaters.base.method_choice]\n",
      "INFO       No numerical integration method specified for group 'synapses_2', using method 'linear' (took 0.02s). [brian2.stateupdaters.base.method_choice]\n",
      "INFO       No numerical integration method specified for group 'synapses_2', using method 'linear' (took 0.02s). [brian2.stateupdaters.base.method_choice]\n",
      "INFO       No numerical integration method specified for group 'synapses_2', using method 'linear' (took 0.02s). [brian2.stateupdaters.base.method_choice]\n"
     ]
    },
    {
     "name": "stdout",
     "output_type": "stream",
     "text": [
      "0\n",
      "1\n",
      "2\n",
      "3\n",
      "4\n",
      "Status: 33/100, E: 0.096276644567, E_new: 0.096276644567, Temp: 0.044960307866\n"
     ]
    },
    {
     "name": "stderr",
     "output_type": "stream",
     "text": [
      "INFO       No numerical integration method specified for group 'synapses_2', using method 'linear' (took 0.02s). [brian2.stateupdaters.base.method_choice]\n",
      "INFO       No numerical integration method specified for group 'synapses_2', using method 'linear' (took 0.02s). [brian2.stateupdaters.base.method_choice]\n",
      "INFO       No numerical integration method specified for group 'synapses_2', using method 'linear' (took 0.02s). [brian2.stateupdaters.base.method_choice]\n",
      "INFO       No numerical integration method specified for group 'synapses_2', using method 'linear' (took 0.02s). [brian2.stateupdaters.base.method_choice]\n",
      "INFO       No numerical integration method specified for group 'synapses_2', using method 'linear' (took 0.02s). [brian2.stateupdaters.base.method_choice]\n"
     ]
    },
    {
     "name": "stdout",
     "output_type": "stream",
     "text": [
      "0\n",
      "1\n",
      "2\n",
      "3\n",
      "4\n",
      "Status: 34/100, E: 0.096276644567, E_new: 0.096276644567, Temp: 0.0439549766201\n"
     ]
    },
    {
     "name": "stderr",
     "output_type": "stream",
     "text": [
      "INFO       No numerical integration method specified for group 'synapses_2', using method 'linear' (took 0.02s). [brian2.stateupdaters.base.method_choice]\n",
      "INFO       No numerical integration method specified for group 'synapses_2', using method 'linear' (took 0.02s). [brian2.stateupdaters.base.method_choice]\n",
      "INFO       No numerical integration method specified for group 'synapses_2', using method 'linear' (took 0.02s). [brian2.stateupdaters.base.method_choice]\n",
      "INFO       No numerical integration method specified for group 'synapses_2', using method 'linear' (took 0.02s). [brian2.stateupdaters.base.method_choice]\n",
      "INFO       No numerical integration method specified for group 'synapses_2', using method 'linear' (took 0.02s). [brian2.stateupdaters.base.method_choice]\n"
     ]
    },
    {
     "name": "stdout",
     "output_type": "stream",
     "text": [
      "0\n",
      "1\n",
      "2\n",
      "3\n",
      "4\n",
      "Status: 35/100, E: 0.096276644567, E_new: 0.096276644567, Temp: 0.0429422344683\n"
     ]
    },
    {
     "name": "stderr",
     "output_type": "stream",
     "text": [
      "INFO       No numerical integration method specified for group 'synapses_2', using method 'linear' (took 0.02s). [brian2.stateupdaters.base.method_choice]\n",
      "INFO       No numerical integration method specified for group 'synapses_2', using method 'linear' (took 0.02s). [brian2.stateupdaters.base.method_choice]\n",
      "INFO       No numerical integration method specified for group 'synapses_2', using method 'linear' (took 0.02s). [brian2.stateupdaters.base.method_choice]\n",
      "INFO       No numerical integration method specified for group 'synapses_2', using method 'linear' (took 0.02s). [brian2.stateupdaters.base.method_choice]\n",
      "INFO       No numerical integration method specified for group 'synapses_2', using method 'linear' (took 0.02s). [brian2.stateupdaters.base.method_choice]\n"
     ]
    },
    {
     "name": "stdout",
     "output_type": "stream",
     "text": [
      "0\n",
      "1\n",
      "2\n",
      "3\n",
      "4\n",
      "Status: 36/100, E: 0.096276644567, E_new: 0.096276644567, Temp: 0.0419222774302\n"
     ]
    },
    {
     "name": "stderr",
     "output_type": "stream",
     "text": [
      "INFO       No numerical integration method specified for group 'synapses_2', using method 'linear' (took 0.02s). [brian2.stateupdaters.base.method_choice]\n",
      "INFO       No numerical integration method specified for group 'synapses_2', using method 'linear' (took 0.02s). [brian2.stateupdaters.base.method_choice]\n",
      "INFO       No numerical integration method specified for group 'synapses_2', using method 'linear' (took 0.02s). [brian2.stateupdaters.base.method_choice]\n",
      "INFO       No numerical integration method specified for group 'synapses_2', using method 'linear' (took 0.02s). [brian2.stateupdaters.base.method_choice]\n",
      "INFO       No numerical integration method specified for group 'synapses_2', using method 'linear' (took 0.02s). [brian2.stateupdaters.base.method_choice]\n"
     ]
    },
    {
     "name": "stdout",
     "output_type": "stream",
     "text": [
      "0\n",
      "1\n",
      "2\n",
      "3\n",
      "4\n",
      "Status: 37/100, E: 0.096276644567, E_new: 0.096276644567, Temp: 0.0408953260596\n"
     ]
    },
    {
     "name": "stderr",
     "output_type": "stream",
     "text": [
      "INFO       No numerical integration method specified for group 'synapses_2', using method 'linear' (took 0.02s). [brian2.stateupdaters.base.method_choice]\n",
      "INFO       No numerical integration method specified for group 'synapses_2', using method 'linear' (took 0.02s). [brian2.stateupdaters.base.method_choice]\n",
      "INFO       No numerical integration method specified for group 'synapses_2', using method 'linear' (took 0.02s). [brian2.stateupdaters.base.method_choice]\n",
      "INFO       No numerical integration method specified for group 'synapses_2', using method 'linear' (took 0.02s). [brian2.stateupdaters.base.method_choice]\n",
      "INFO       No numerical integration method specified for group 'synapses_2', using method 'linear' (took 0.02s). [brian2.stateupdaters.base.method_choice]\n"
     ]
    },
    {
     "name": "stdout",
     "output_type": "stream",
     "text": [
      "0\n",
      "1\n",
      "2\n",
      "3\n",
      "4\n",
      "Status: 38/100, E: 0.096276644567, E_new: 0.096276644567, Temp: 0.0398616273559\n"
     ]
    },
    {
     "name": "stderr",
     "output_type": "stream",
     "text": [
      "INFO       No numerical integration method specified for group 'synapses_2', using method 'linear' (took 0.02s). [brian2.stateupdaters.base.method_choice]\n",
      "INFO       No numerical integration method specified for group 'synapses_2', using method 'linear' (took 0.02s). [brian2.stateupdaters.base.method_choice]\n",
      "INFO       No numerical integration method specified for group 'synapses_2', using method 'linear' (took 0.02s). [brian2.stateupdaters.base.method_choice]\n",
      "INFO       No numerical integration method specified for group 'synapses_2', using method 'linear' (took 0.02s). [brian2.stateupdaters.base.method_choice]\n",
      "INFO       No numerical integration method specified for group 'synapses_2', using method 'linear' (took 0.02s). [brian2.stateupdaters.base.method_choice]\n"
     ]
    },
    {
     "name": "stdout",
     "output_type": "stream",
     "text": [
      "0\n",
      "1\n",
      "2\n",
      "3\n",
      "4\n",
      "Status: 39/100, E: 0.096276644567, E_new: 0.096276644567, Temp: 0.0388214568065\n"
     ]
    },
    {
     "name": "stderr",
     "output_type": "stream",
     "text": [
      "INFO       No numerical integration method specified for group 'synapses_2', using method 'linear' (took 0.02s). [brian2.stateupdaters.base.method_choice]\n",
      "INFO       No numerical integration method specified for group 'synapses_2', using method 'linear' (took 0.02s). [brian2.stateupdaters.base.method_choice]\n",
      "INFO       No numerical integration method specified for group 'synapses_2', using method 'linear' (took 0.02s). [brian2.stateupdaters.base.method_choice]\n",
      "INFO       No numerical integration method specified for group 'synapses_2', using method 'linear' (took 0.02s). [brian2.stateupdaters.base.method_choice]\n",
      "INFO       No numerical integration method specified for group 'synapses_2', using method 'linear' (took 0.02s). [brian2.stateupdaters.base.method_choice]\n"
     ]
    },
    {
     "name": "stdout",
     "output_type": "stream",
     "text": [
      "0\n",
      "1\n",
      "2\n",
      "3\n",
      "4\n",
      "Status: 40/100, E: 0.096276644567, E_new: 0.096276644567, Temp: 0.0377751205675\n"
     ]
    },
    {
     "name": "stderr",
     "output_type": "stream",
     "text": [
      "INFO       No numerical integration method specified for group 'synapses_2', using method 'linear' (took 0.02s). [brian2.stateupdaters.base.method_choice]\n",
      "INFO       No numerical integration method specified for group 'synapses_2', using method 'linear' (took 0.02s). [brian2.stateupdaters.base.method_choice]\n",
      "INFO       No numerical integration method specified for group 'synapses_2', using method 'linear' (took 0.02s). [brian2.stateupdaters.base.method_choice]\n",
      "INFO       No numerical integration method specified for group 'synapses_2', using method 'linear' (took 0.02s). [brian2.stateupdaters.base.method_choice]\n",
      "INFO       No numerical integration method specified for group 'synapses_2', using method 'linear' (took 0.02s). [brian2.stateupdaters.base.method_choice]\n"
     ]
    },
    {
     "name": "stdout",
     "output_type": "stream",
     "text": [
      "0\n",
      "1\n",
      "2\n",
      "3\n",
      "4\n",
      "Status: 41/100, E: 0.096276644567, E_new: 0.096276644567, Temp: 0.0367229577887\n"
     ]
    },
    {
     "name": "stderr",
     "output_type": "stream",
     "text": [
      "INFO       No numerical integration method specified for group 'synapses_2', using method 'linear' (took 0.02s). [brian2.stateupdaters.base.method_choice]\n",
      "INFO       No numerical integration method specified for group 'synapses_2', using method 'linear' (took 0.02s). [brian2.stateupdaters.base.method_choice]\n",
      "INFO       No numerical integration method specified for group 'synapses_2', using method 'linear' (took 0.02s). [brian2.stateupdaters.base.method_choice]\n",
      "INFO       No numerical integration method specified for group 'synapses_2', using method 'linear' (took 0.02s). [brian2.stateupdaters.base.method_choice]\n",
      "INFO       No numerical integration method specified for group 'synapses_2', using method 'linear' (took 0.02s). [brian2.stateupdaters.base.method_choice]\n"
     ]
    },
    {
     "name": "stdout",
     "output_type": "stream",
     "text": [
      "0\n",
      "1\n",
      "2\n",
      "3\n",
      "4\n",
      "Status: 42/100, E: 0.096276644567, E_new: 0.096276644567, Temp: 0.0356653430912\n"
     ]
    },
    {
     "name": "stderr",
     "output_type": "stream",
     "text": [
      "INFO       No numerical integration method specified for group 'synapses_2', using method 'linear' (took 0.02s). [brian2.stateupdaters.base.method_choice]\n",
      "INFO       No numerical integration method specified for group 'synapses_2', using method 'linear' (took 0.02s). [brian2.stateupdaters.base.method_choice]\n",
      "INFO       No numerical integration method specified for group 'synapses_2', using method 'linear' (took 0.02s). [brian2.stateupdaters.base.method_choice]\n",
      "INFO       No numerical integration method specified for group 'synapses_2', using method 'linear' (took 0.02s). [brian2.stateupdaters.base.method_choice]\n",
      "INFO       No numerical integration method specified for group 'synapses_2', using method 'linear' (took 0.02s). [brian2.stateupdaters.base.method_choice]\n"
     ]
    },
    {
     "name": "stdout",
     "output_type": "stream",
     "text": [
      "0\n",
      "1\n",
      "2\n",
      "3\n",
      "4\n",
      "Status: 43/100, E: 0.096276644567, E_new: 0.096276644567, Temp: 0.0346026892017\n"
     ]
    },
    {
     "name": "stderr",
     "output_type": "stream",
     "text": [
      "INFO       No numerical integration method specified for group 'synapses_2', using method 'linear' (took 0.02s). [brian2.stateupdaters.base.method_choice]\n",
      "INFO       No numerical integration method specified for group 'synapses_2', using method 'linear' (took 0.02s). [brian2.stateupdaters.base.method_choice]\n",
      "INFO       No numerical integration method specified for group 'synapses_2', using method 'linear' (took 0.02s). [brian2.stateupdaters.base.method_choice]\n",
      "INFO       No numerical integration method specified for group 'synapses_2', using method 'linear' (took 0.02s). [brian2.stateupdaters.base.method_choice]\n",
      "INFO       No numerical integration method specified for group 'synapses_2', using method 'linear' (took 0.02s). [brian2.stateupdaters.base.method_choice]\n"
     ]
    },
    {
     "name": "stdout",
     "output_type": "stream",
     "text": [
      "0\n",
      "1\n",
      "2\n",
      "3\n",
      "4\n",
      "Status: 44/100, E: 0.096276644567, E_new: 0.096276644567, Temp: 0.0335354497504\n"
     ]
    },
    {
     "name": "stderr",
     "output_type": "stream",
     "text": [
      "INFO       No numerical integration method specified for group 'synapses_2', using method 'linear' (took 0.02s). [brian2.stateupdaters.base.method_choice]\n",
      "INFO       No numerical integration method specified for group 'synapses_2', using method 'linear' (took 0.02s). [brian2.stateupdaters.base.method_choice]\n",
      "INFO       No numerical integration method specified for group 'synapses_2', using method 'linear' (took 0.02s). [brian2.stateupdaters.base.method_choice]\n",
      "INFO       No numerical integration method specified for group 'synapses_2', using method 'linear' (took 0.02s). [brian2.stateupdaters.base.method_choice]\n",
      "INFO       No numerical integration method specified for group 'synapses_2', using method 'linear' (took 0.02s). [brian2.stateupdaters.base.method_choice]\n"
     ]
    },
    {
     "name": "stdout",
     "output_type": "stream",
     "text": [
      "0\n",
      "1\n",
      "2\n",
      "3\n",
      "4\n",
      "Status: 45/100, E: 0.096276644567, E_new: 0.096276644567, Temp: 0.0324641222364\n"
     ]
    },
    {
     "name": "stderr",
     "output_type": "stream",
     "text": [
      "INFO       No numerical integration method specified for group 'synapses_2', using method 'linear' (took 0.02s). [brian2.stateupdaters.base.method_choice]\n",
      "INFO       No numerical integration method specified for group 'synapses_2', using method 'linear' (took 0.02s). [brian2.stateupdaters.base.method_choice]\n",
      "INFO       No numerical integration method specified for group 'synapses_2', using method 'linear' (took 0.02s). [brian2.stateupdaters.base.method_choice]\n",
      "INFO       No numerical integration method specified for group 'synapses_2', using method 'linear' (took 0.02s). [brian2.stateupdaters.base.method_choice]\n",
      "INFO       No numerical integration method specified for group 'synapses_2', using method 'linear' (took 0.02s). [brian2.stateupdaters.base.method_choice]\n"
     ]
    },
    {
     "name": "stdout",
     "output_type": "stream",
     "text": [
      "0\n",
      "1\n",
      "2\n",
      "3\n",
      "4\n",
      "Status: 46/100, E: 0.096276644567, E_new: 0.096276644567, Temp: 0.0313892511641\n"
     ]
    },
    {
     "name": "stderr",
     "output_type": "stream",
     "text": [
      "INFO       No numerical integration method specified for group 'synapses_2', using method 'linear' (took 0.02s). [brian2.stateupdaters.base.method_choice]\n",
      "INFO       No numerical integration method specified for group 'synapses_2', using method 'linear' (took 0.02s). [brian2.stateupdaters.base.method_choice]\n",
      "INFO       No numerical integration method specified for group 'synapses_2', using method 'linear' (took 0.02s). [brian2.stateupdaters.base.method_choice]\n",
      "INFO       No numerical integration method specified for group 'synapses_2', using method 'linear' (took 0.02s). [brian2.stateupdaters.base.method_choice]\n",
      "INFO       No numerical integration method specified for group 'synapses_2', using method 'linear' (took 0.02s). [brian2.stateupdaters.base.method_choice]\n"
     ]
    },
    {
     "name": "stdout",
     "output_type": "stream",
     "text": [
      "0\n",
      "1\n",
      "2\n",
      "3\n",
      "4\n",
      "Status: 47/100, E: 0.096276644567, E_new: 0.096276644567, Temp: 0.0303114313523\n"
     ]
    },
    {
     "name": "stderr",
     "output_type": "stream",
     "text": [
      "INFO       No numerical integration method specified for group 'synapses_2', using method 'linear' (took 0.02s). [brian2.stateupdaters.base.method_choice]\n",
      "INFO       No numerical integration method specified for group 'synapses_2', using method 'linear' (took 0.02s). [brian2.stateupdaters.base.method_choice]\n",
      "INFO       No numerical integration method specified for group 'synapses_2', using method 'linear' (took 0.02s). [brian2.stateupdaters.base.method_choice]\n",
      "INFO       No numerical integration method specified for group 'synapses_2', using method 'linear' (took 0.02s). [brian2.stateupdaters.base.method_choice]\n",
      "INFO       No numerical integration method specified for group 'synapses_2', using method 'linear' (took 0.02s). [brian2.stateupdaters.base.method_choice]\n"
     ]
    },
    {
     "name": "stdout",
     "output_type": "stream",
     "text": [
      "0\n",
      "1\n",
      "2\n",
      "3\n",
      "4\n",
      "Status: 48/100, E: 0.096276644567, E_new: 0.096276644567, Temp: 0.0292313114143\n"
     ]
    },
    {
     "name": "stderr",
     "output_type": "stream",
     "text": [
      "INFO       No numerical integration method specified for group 'synapses_2', using method 'linear' (took 0.02s). [brian2.stateupdaters.base.method_choice]\n",
      "INFO       No numerical integration method specified for group 'synapses_2', using method 'linear' (took 0.02s). [brian2.stateupdaters.base.method_choice]\n",
      "INFO       No numerical integration method specified for group 'synapses_2', using method 'linear' (took 0.02s). [brian2.stateupdaters.base.method_choice]\n",
      "INFO       No numerical integration method specified for group 'synapses_2', using method 'linear' (took 0.02s). [brian2.stateupdaters.base.method_choice]\n",
      "INFO       No numerical integration method specified for group 'synapses_2', using method 'linear' (took 0.02s). [brian2.stateupdaters.base.method_choice]\n"
     ]
    },
    {
     "name": "stdout",
     "output_type": "stream",
     "text": [
      "0\n",
      "1\n",
      "2\n",
      "3\n",
      "4\n",
      "Status: 49/100, E: 0.096276644567, E_new: 0.096276644567, Temp: 0.0281495974082\n"
     ]
    },
    {
     "name": "stderr",
     "output_type": "stream",
     "text": [
      "INFO       No numerical integration method specified for group 'synapses_2', using method 'linear' (took 0.02s). [brian2.stateupdaters.base.method_choice]\n",
      "INFO       No numerical integration method specified for group 'synapses_2', using method 'linear' (took 0.02s). [brian2.stateupdaters.base.method_choice]\n",
      "INFO       No numerical integration method specified for group 'synapses_2', using method 'linear' (took 0.02s). [brian2.stateupdaters.base.method_choice]\n",
      "INFO       No numerical integration method specified for group 'synapses_2', using method 'linear' (took 0.02s). [brian2.stateupdaters.base.method_choice]\n",
      "INFO       No numerical integration method specified for group 'synapses_2', using method 'linear' (took 0.02s). [brian2.stateupdaters.base.method_choice]\n"
     ]
    },
    {
     "name": "stdout",
     "output_type": "stream",
     "text": [
      "0\n",
      "1\n",
      "2\n",
      "3\n",
      "4\n",
      "Status: 50/100, E: 0.096276644567, E_new: 0.096276644567, Temp: 0.0270670566473\n"
     ]
    },
    {
     "name": "stderr",
     "output_type": "stream",
     "text": [
      "INFO       No numerical integration method specified for group 'synapses_2', using method 'linear' (took 0.02s). [brian2.stateupdaters.base.method_choice]\n",
      "INFO       No numerical integration method specified for group 'synapses_2', using method 'linear' (took 0.02s). [brian2.stateupdaters.base.method_choice]\n",
      "INFO       No numerical integration method specified for group 'synapses_2', using method 'linear' (took 0.02s). [brian2.stateupdaters.base.method_choice]\n",
      "INFO       No numerical integration method specified for group 'synapses_2', using method 'linear' (took 0.02s). [brian2.stateupdaters.base.method_choice]\n",
      "INFO       No numerical integration method specified for group 'synapses_2', using method 'linear' (took 0.02s). [brian2.stateupdaters.base.method_choice]\n"
     ]
    },
    {
     "name": "stdout",
     "output_type": "stream",
     "text": [
      "0\n",
      "1\n",
      "2\n",
      "3\n",
      "4\n",
      "Status: 51/100, E: 0.096276644567, E_new: 0.096276644567, Temp: 0.025984521661\n"
     ]
    },
    {
     "name": "stderr",
     "output_type": "stream",
     "text": [
      "INFO       No numerical integration method specified for group 'synapses_2', using method 'linear' (took 0.02s). [brian2.stateupdaters.base.method_choice]\n",
      "INFO       No numerical integration method specified for group 'synapses_2', using method 'linear' (took 0.02s). [brian2.stateupdaters.base.method_choice]\n",
      "INFO       No numerical integration method specified for group 'synapses_2', using method 'linear' (took 0.02s). [brian2.stateupdaters.base.method_choice]\n",
      "INFO       No numerical integration method specified for group 'synapses_2', using method 'linear' (took 0.02s). [brian2.stateupdaters.base.method_choice]\n",
      "INFO       No numerical integration method specified for group 'synapses_2', using method 'linear' (took 0.02s). [brian2.stateupdaters.base.method_choice]\n"
     ]
    },
    {
     "name": "stdout",
     "output_type": "stream",
     "text": [
      "0\n",
      "1\n",
      "2\n",
      "3\n",
      "4\n",
      "Status: 52/100, E: 0.096276644567, E_new: 0.096276644567, Temp: 0.0249028942888\n"
     ]
    },
    {
     "name": "stderr",
     "output_type": "stream",
     "text": [
      "INFO       No numerical integration method specified for group 'synapses_2', using method 'linear' (took 0.02s). [brian2.stateupdaters.base.method_choice]\n",
      "INFO       No numerical integration method specified for group 'synapses_2', using method 'linear' (took 0.02s). [brian2.stateupdaters.base.method_choice]\n",
      "INFO       No numerical integration method specified for group 'synapses_2', using method 'linear' (took 0.02s). [brian2.stateupdaters.base.method_choice]\n",
      "INFO       No numerical integration method specified for group 'synapses_2', using method 'linear' (took 0.02s). [brian2.stateupdaters.base.method_choice]\n",
      "INFO       No numerical integration method specified for group 'synapses_2', using method 'linear' (took 0.02s). [brian2.stateupdaters.base.method_choice]\n"
     ]
    },
    {
     "name": "stdout",
     "output_type": "stream",
     "text": [
      "0\n",
      "1\n",
      "2\n",
      "3\n",
      "4\n",
      "Status: 53/100, E: 0.096276644567, E_new: 0.096276644567, Temp: 0.0238231498828\n"
     ]
    },
    {
     "name": "stderr",
     "output_type": "stream",
     "text": [
      "INFO       No numerical integration method specified for group 'synapses_2', using method 'linear' (took 0.02s). [brian2.stateupdaters.base.method_choice]\n",
      "INFO       No numerical integration method specified for group 'synapses_2', using method 'linear' (took 0.02s). [brian2.stateupdaters.base.method_choice]\n",
      "INFO       No numerical integration method specified for group 'synapses_2', using method 'linear' (took 0.02s). [brian2.stateupdaters.base.method_choice]\n",
      "INFO       No numerical integration method specified for group 'synapses_2', using method 'linear' (took 0.02s). [brian2.stateupdaters.base.method_choice]\n",
      "INFO       No numerical integration method specified for group 'synapses_2', using method 'linear' (took 0.02s). [brian2.stateupdaters.base.method_choice]\n"
     ]
    },
    {
     "name": "stdout",
     "output_type": "stream",
     "text": [
      "0\n",
      "1\n",
      "2\n",
      "3\n",
      "4\n",
      "Status: 54/100, E: 0.096276644567, E_new: 0.096276644567, Temp: 0.0227463415862\n"
     ]
    },
    {
     "name": "stderr",
     "output_type": "stream",
     "text": [
      "INFO       No numerical integration method specified for group 'synapses_2', using method 'linear' (took 0.02s). [brian2.stateupdaters.base.method_choice]\n",
      "INFO       No numerical integration method specified for group 'synapses_2', using method 'linear' (took 0.02s). [brian2.stateupdaters.base.method_choice]\n",
      "INFO       No numerical integration method specified for group 'synapses_2', using method 'linear' (took 0.02s). [brian2.stateupdaters.base.method_choice]\n",
      "INFO       No numerical integration method specified for group 'synapses_2', using method 'linear' (took 0.02s). [brian2.stateupdaters.base.method_choice]\n",
      "INFO       No numerical integration method specified for group 'synapses_2', using method 'linear' (took 0.02s). [brian2.stateupdaters.base.method_choice]\n"
     ]
    },
    {
     "name": "stdout",
     "output_type": "stream",
     "text": [
      "0\n",
      "1\n",
      "2\n",
      "3\n",
      "4\n",
      "Status: 55/100, E: 0.096276644567, E_new: 0.096276644567, Temp: 0.0216736046444\n"
     ]
    },
    {
     "name": "stderr",
     "output_type": "stream",
     "text": [
      "INFO       No numerical integration method specified for group 'synapses_2', using method 'linear' (took 0.02s). [brian2.stateupdaters.base.method_choice]\n",
      "INFO       No numerical integration method specified for group 'synapses_2', using method 'linear' (took 0.02s). [brian2.stateupdaters.base.method_choice]\n",
      "INFO       No numerical integration method specified for group 'synapses_2', using method 'linear' (took 0.02s). [brian2.stateupdaters.base.method_choice]\n",
      "INFO       No numerical integration method specified for group 'synapses_2', using method 'linear' (took 0.02s). [brian2.stateupdaters.base.method_choice]\n",
      "INFO       No numerical integration method specified for group 'synapses_2', using method 'linear' (took 0.02s). [brian2.stateupdaters.base.method_choice]\n"
     ]
    },
    {
     "name": "stdout",
     "output_type": "stream",
     "text": [
      "0\n",
      "1\n",
      "2\n",
      "3\n",
      "4\n",
      "Status: 56/100, E: 0.096276644567, E_new: 0.096276644567, Temp: 0.0206061606924\n"
     ]
    },
    {
     "name": "stderr",
     "output_type": "stream",
     "text": [
      "INFO       No numerical integration method specified for group 'synapses_2', using method 'linear' (took 0.02s). [brian2.stateupdaters.base.method_choice]\n",
      "INFO       No numerical integration method specified for group 'synapses_2', using method 'linear' (took 0.02s). [brian2.stateupdaters.base.method_choice]\n",
      "INFO       No numerical integration method specified for group 'synapses_2', using method 'linear' (took 0.02s). [brian2.stateupdaters.base.method_choice]\n",
      "INFO       No numerical integration method specified for group 'synapses_2', using method 'linear' (took 0.02s). [brian2.stateupdaters.base.method_choice]\n",
      "INFO       No numerical integration method specified for group 'synapses_2', using method 'linear' (took 0.02s). [brian2.stateupdaters.base.method_choice]\n"
     ]
    },
    {
     "name": "stdout",
     "output_type": "stream",
     "text": [
      "0\n",
      "1\n",
      "2\n",
      "3\n",
      "4\n",
      "Status: 57/100, E: 0.096276644567, E_new: 0.096276644567, Temp: 0.019545321947\n"
     ]
    },
    {
     "name": "stderr",
     "output_type": "stream",
     "text": [
      "INFO       No numerical integration method specified for group 'synapses_2', using method 'linear' (took 0.02s). [brian2.stateupdaters.base.method_choice]\n",
      "INFO       No numerical integration method specified for group 'synapses_2', using method 'linear' (took 0.02s). [brian2.stateupdaters.base.method_choice]\n",
      "INFO       No numerical integration method specified for group 'synapses_2', using method 'linear' (took 0.02s). [brian2.stateupdaters.base.method_choice]\n",
      "INFO       No numerical integration method specified for group 'synapses_2', using method 'linear' (took 0.02s). [brian2.stateupdaters.base.method_choice]\n",
      "INFO       No numerical integration method specified for group 'synapses_2', using method 'linear' (took 0.02s). [brian2.stateupdaters.base.method_choice]\n"
     ]
    },
    {
     "name": "stdout",
     "output_type": "stream",
     "text": [
      "0\n",
      "1\n",
      "2\n",
      "3\n",
      "4\n",
      "Status: 58/100, E: 0.096276644567, E_new: 0.096276644567, Temp: 0.0184924952126\n"
     ]
    },
    {
     "name": "stderr",
     "output_type": "stream",
     "text": [
      "INFO       No numerical integration method specified for group 'synapses_2', using method 'linear' (took 0.02s). [brian2.stateupdaters.base.method_choice]\n",
      "INFO       No numerical integration method specified for group 'synapses_2', using method 'linear' (took 0.02s). [brian2.stateupdaters.base.method_choice]\n",
      "INFO       No numerical integration method specified for group 'synapses_2', using method 'linear' (took 0.02s). [brian2.stateupdaters.base.method_choice]\n",
      "INFO       No numerical integration method specified for group 'synapses_2', using method 'linear' (took 0.02s). [brian2.stateupdaters.base.method_choice]\n",
      "INFO       No numerical integration method specified for group 'synapses_2', using method 'linear' (took 0.02s). [brian2.stateupdaters.base.method_choice]\n"
     ]
    },
    {
     "name": "stdout",
     "output_type": "stream",
     "text": [
      "0\n",
      "1\n",
      "2\n",
      "3\n",
      "4\n",
      "Status: 59/100, E: 0.096276644567, E_new: 0.096276644567, Temp: 0.0174491855866\n"
     ]
    },
    {
     "name": "stderr",
     "output_type": "stream",
     "text": [
      "INFO       No numerical integration method specified for group 'synapses_2', using method 'linear' (took 0.02s). [brian2.stateupdaters.base.method_choice]\n",
      "INFO       No numerical integration method specified for group 'synapses_2', using method 'linear' (took 0.02s). [brian2.stateupdaters.base.method_choice]\n",
      "INFO       No numerical integration method specified for group 'synapses_2', using method 'linear' (took 0.02s). [brian2.stateupdaters.base.method_choice]\n",
      "INFO       No numerical integration method specified for group 'synapses_2', using method 'linear' (took 0.02s). [brian2.stateupdaters.base.method_choice]\n",
      "INFO       No numerical integration method specified for group 'synapses_2', using method 'linear' (took 0.02s). [brian2.stateupdaters.base.method_choice]\n"
     ]
    },
    {
     "name": "stdout",
     "output_type": "stream",
     "text": [
      "0\n",
      "1\n",
      "2\n",
      "3\n",
      "4\n",
      "Status: 60/100, E: 0.096276644567, E_new: 0.096276644567, Temp: 0.0164169997248\n"
     ]
    },
    {
     "name": "stderr",
     "output_type": "stream",
     "text": [
      "INFO       No numerical integration method specified for group 'synapses_2', using method 'linear' (took 0.02s). [brian2.stateupdaters.base.method_choice]\n",
      "INFO       No numerical integration method specified for group 'synapses_2', using method 'linear' (took 0.02s). [brian2.stateupdaters.base.method_choice]\n",
      "INFO       No numerical integration method specified for group 'synapses_2', using method 'linear' (took 0.02s). [brian2.stateupdaters.base.method_choice]\n",
      "INFO       No numerical integration method specified for group 'synapses_2', using method 'linear' (took 0.02s). [brian2.stateupdaters.base.method_choice]\n",
      "INFO       No numerical integration method specified for group 'synapses_2', using method 'linear' (took 0.02s). [brian2.stateupdaters.base.method_choice]\n"
     ]
    },
    {
     "name": "stdout",
     "output_type": "stream",
     "text": [
      "0\n",
      "1\n",
      "2\n",
      "3\n",
      "4\n",
      "Status: 61/100, E: 0.096276644567, E_new: 0.096276644567, Temp: 0.0153976484921\n"
     ]
    },
    {
     "name": "stderr",
     "output_type": "stream",
     "text": [
      "INFO       No numerical integration method specified for group 'synapses_2', using method 'linear' (took 0.02s). [brian2.stateupdaters.base.method_choice]\n",
      "INFO       No numerical integration method specified for group 'synapses_2', using method 'linear' (took 0.02s). [brian2.stateupdaters.base.method_choice]\n",
      "INFO       No numerical integration method specified for group 'synapses_2', using method 'linear' (took 0.02s). [brian2.stateupdaters.base.method_choice]\n",
      "INFO       No numerical integration method specified for group 'synapses_2', using method 'linear' (took 0.02s). [brian2.stateupdaters.base.method_choice]\n",
      "INFO       No numerical integration method specified for group 'synapses_2', using method 'linear' (took 0.02s). [brian2.stateupdaters.base.method_choice]\n"
     ]
    },
    {
     "name": "stdout",
     "output_type": "stream",
     "text": [
      "0\n",
      "1\n",
      "2\n",
      "3\n",
      "4\n",
      "Status: 62/100, E: 0.096276644567, E_new: 0.096276644567, Temp: 0.0143929487883\n"
     ]
    },
    {
     "name": "stderr",
     "output_type": "stream",
     "text": [
      "INFO       No numerical integration method specified for group 'synapses_2', using method 'linear' (took 0.02s). [brian2.stateupdaters.base.method_choice]\n",
      "INFO       No numerical integration method specified for group 'synapses_2', using method 'linear' (took 0.02s). [brian2.stateupdaters.base.method_choice]\n",
      "INFO       No numerical integration method specified for group 'synapses_2', using method 'linear' (took 0.02s). [brian2.stateupdaters.base.method_choice]\n",
      "INFO       No numerical integration method specified for group 'synapses_2', using method 'linear' (took 0.02s). [brian2.stateupdaters.base.method_choice]\n",
      "INFO       No numerical integration method specified for group 'synapses_2', using method 'linear' (took 0.02s). [brian2.stateupdaters.base.method_choice]\n"
     ]
    },
    {
     "name": "stdout",
     "output_type": "stream",
     "text": [
      "0\n",
      "1\n",
      "2\n",
      "3\n",
      "4\n",
      "Status: 63/100, E: 0.096276644567, E_new: 0.096276644567, Temp: 0.0134048242905\n"
     ]
    },
    {
     "name": "stderr",
     "output_type": "stream",
     "text": [
      "INFO       No numerical integration method specified for group 'synapses_2', using method 'linear' (took 0.02s). [brian2.stateupdaters.base.method_choice]\n",
      "INFO       No numerical integration method specified for group 'synapses_2', using method 'linear' (took 0.03s). [brian2.stateupdaters.base.method_choice]\n",
      "INFO       No numerical integration method specified for group 'synapses_2', using method 'linear' (took 0.02s). [brian2.stateupdaters.base.method_choice]\n",
      "INFO       No numerical integration method specified for group 'synapses_2', using method 'linear' (took 0.02s). [brian2.stateupdaters.base.method_choice]\n",
      "INFO       No numerical integration method specified for group 'synapses_2', using method 'linear' (took 0.02s). [brian2.stateupdaters.base.method_choice]\n"
     ]
    },
    {
     "name": "stdout",
     "output_type": "stream",
     "text": [
      "0\n",
      "1\n",
      "2\n",
      "3\n",
      "4\n",
      "Status: 64/100, E: 0.096276644567, E_new: 0.096276644567, Temp: 0.0124353048044\n"
     ]
    },
    {
     "name": "stderr",
     "output_type": "stream",
     "text": [
      "INFO       No numerical integration method specified for group 'synapses_2', using method 'linear' (took 0.02s). [brian2.stateupdaters.base.method_choice]\n",
      "INFO       No numerical integration method specified for group 'synapses_2', using method 'linear' (took 0.02s). [brian2.stateupdaters.base.method_choice]\n",
      "INFO       No numerical integration method specified for group 'synapses_2', using method 'linear' (took 0.02s). [brian2.stateupdaters.base.method_choice]\n",
      "INFO       No numerical integration method specified for group 'synapses_2', using method 'linear' (took 0.02s). [brian2.stateupdaters.base.method_choice]\n",
      "INFO       No numerical integration method specified for group 'synapses_2', using method 'linear' (took 0.02s). [brian2.stateupdaters.base.method_choice]\n"
     ]
    },
    {
     "name": "stdout",
     "output_type": "stream",
     "text": [
      "0\n",
      "1\n",
      "2\n",
      "3\n",
      "4\n",
      "Status: 65/100, E: 0.096276644567, E_new: 0.096276644567, Temp: 0.0114865238535\n"
     ]
    },
    {
     "name": "stderr",
     "output_type": "stream",
     "text": [
      "INFO       No numerical integration method specified for group 'synapses_2', using method 'linear' (took 0.02s). [brian2.stateupdaters.base.method_choice]\n",
      "INFO       No numerical integration method specified for group 'synapses_2', using method 'linear' (took 0.02s). [brian2.stateupdaters.base.method_choice]\n",
      "INFO       No numerical integration method specified for group 'synapses_2', using method 'linear' (took 0.02s). [brian2.stateupdaters.base.method_choice]\n",
      "INFO       No numerical integration method specified for group 'synapses_2', using method 'linear' (took 0.02s). [brian2.stateupdaters.base.method_choice]\n",
      "INFO       No numerical integration method specified for group 'synapses_2', using method 'linear' (took 0.02s). [brian2.stateupdaters.base.method_choice]\n"
     ]
    },
    {
     "name": "stdout",
     "output_type": "stream",
     "text": [
      "0\n",
      "1\n",
      "2\n",
      "3\n",
      "4\n",
      "Status: 66/100, E: 0.096276644567, E_new: 0.096276644567, Temp: 0.0105607140669\n"
     ]
    },
    {
     "name": "stderr",
     "output_type": "stream",
     "text": [
      "INFO       No numerical integration method specified for group 'synapses_2', using method 'linear' (took 0.02s). [brian2.stateupdaters.base.method_choice]\n",
      "INFO       No numerical integration method specified for group 'synapses_2', using method 'linear' (took 0.02s). [brian2.stateupdaters.base.method_choice]\n",
      "INFO       No numerical integration method specified for group 'synapses_2', using method 'linear' (took 0.02s). [brian2.stateupdaters.base.method_choice]\n",
      "INFO       No numerical integration method specified for group 'synapses_2', using method 'linear' (took 0.02s). [brian2.stateupdaters.base.method_choice]\n",
      "INFO       No numerical integration method specified for group 'synapses_2', using method 'linear' (took 0.02s). [brian2.stateupdaters.base.method_choice]\n"
     ]
    },
    {
     "name": "stdout",
     "output_type": "stream",
     "text": [
      "0\n",
      "1\n",
      "2\n",
      "3\n",
      "4\n",
      "Status: 67/100, E: 0.096276644567, E_new: 0.096276644567, Temp: 0.00966019984835\n"
     ]
    },
    {
     "name": "stderr",
     "output_type": "stream",
     "text": [
      "INFO       No numerical integration method specified for group 'synapses_2', using method 'linear' (took 0.02s). [brian2.stateupdaters.base.method_choice]\n",
      "INFO       No numerical integration method specified for group 'synapses_2', using method 'linear' (took 0.02s). [brian2.stateupdaters.base.method_choice]\n",
      "INFO       No numerical integration method specified for group 'synapses_2', using method 'linear' (took 0.02s). [brian2.stateupdaters.base.method_choice]\n",
      "INFO       No numerical integration method specified for group 'synapses_2', using method 'linear' (took 0.02s). [brian2.stateupdaters.base.method_choice]\n",
      "INFO       No numerical integration method specified for group 'synapses_2', using method 'linear' (took 0.02s). [brian2.stateupdaters.base.method_choice]\n"
     ]
    },
    {
     "name": "stdout",
     "output_type": "stream",
     "text": [
      "0\n",
      "1\n",
      "2\n",
      "3\n",
      "4\n",
      "Status: 68/100, E: 0.096276644567, E_new: 0.096276644567, Temp: 0.00878738672468\n"
     ]
    },
    {
     "name": "stderr",
     "output_type": "stream",
     "text": [
      "INFO       No numerical integration method specified for group 'synapses_2', using method 'linear' (took 0.02s). [brian2.stateupdaters.base.method_choice]\n",
      "INFO       No numerical integration method specified for group 'synapses_2', using method 'linear' (took 0.02s). [brian2.stateupdaters.base.method_choice]\n",
      "INFO       No numerical integration method specified for group 'synapses_2', using method 'linear' (took 0.02s). [brian2.stateupdaters.base.method_choice]\n",
      "INFO       No numerical integration method specified for group 'synapses_2', using method 'linear' (took 0.02s). [brian2.stateupdaters.base.method_choice]\n",
      "INFO       No numerical integration method specified for group 'synapses_2', using method 'linear' (took 0.02s). [brian2.stateupdaters.base.method_choice]\n"
     ]
    },
    {
     "name": "stdout",
     "output_type": "stream",
     "text": [
      "0\n",
      "1\n",
      "2\n",
      "3\n",
      "4\n",
      "Status: 69/100, E: 0.096276644567, E_new: 0.096276644567, Temp: 0.00794474667729\n"
     ]
    },
    {
     "name": "stderr",
     "output_type": "stream",
     "text": [
      "INFO       No numerical integration method specified for group 'synapses_2', using method 'linear' (took 0.02s). [brian2.stateupdaters.base.method_choice]\n",
      "INFO       No numerical integration method specified for group 'synapses_2', using method 'linear' (took 0.02s). [brian2.stateupdaters.base.method_choice]\n",
      "INFO       No numerical integration method specified for group 'synapses_2', using method 'linear' (took 0.02s). [brian2.stateupdaters.base.method_choice]\n",
      "INFO       No numerical integration method specified for group 'synapses_2', using method 'linear' (took 0.02s). [brian2.stateupdaters.base.method_choice]\n",
      "INFO       No numerical integration method specified for group 'synapses_2', using method 'linear' (took 0.02s). [brian2.stateupdaters.base.method_choice]\n"
     ]
    },
    {
     "name": "stdout",
     "output_type": "stream",
     "text": [
      "0\n",
      "1\n",
      "2\n",
      "3\n",
      "4\n",
      "Status: 70/100, E: 0.096276644567, E_new: 0.096276644567, Temp: 0.00713479866945\n"
     ]
    },
    {
     "name": "stderr",
     "output_type": "stream",
     "text": [
      "INFO       No numerical integration method specified for group 'synapses_2', using method 'linear' (took 0.02s). [brian2.stateupdaters.base.method_choice]\n",
      "INFO       No numerical integration method specified for group 'synapses_2', using method 'linear' (took 0.02s). [brian2.stateupdaters.base.method_choice]\n",
      "INFO       No numerical integration method specified for group 'synapses_2', using method 'linear' (took 0.02s). [brian2.stateupdaters.base.method_choice]\n",
      "INFO       No numerical integration method specified for group 'synapses_2', using method 'linear' (took 0.02s). [brian2.stateupdaters.base.method_choice]\n",
      "INFO       No numerical integration method specified for group 'synapses_2', using method 'linear' (took 0.02s). [brian2.stateupdaters.base.method_choice]\n"
     ]
    },
    {
     "name": "stdout",
     "output_type": "stream",
     "text": [
      "0\n",
      "1\n",
      "2\n",
      "3\n",
      "4\n",
      "Status: 71/100, E: 0.096276644567, E_new: 0.096276644567, Temp: 0.00636008348908\n"
     ]
    },
    {
     "name": "stderr",
     "output_type": "stream",
     "text": [
      "INFO       No numerical integration method specified for group 'synapses_2', using method 'linear' (took 0.02s). [brian2.stateupdaters.base.method_choice]\n",
      "INFO       No numerical integration method specified for group 'synapses_2', using method 'linear' (took 0.02s). [brian2.stateupdaters.base.method_choice]\n",
      "INFO       No numerical integration method specified for group 'synapses_2', using method 'linear' (took 0.02s). [brian2.stateupdaters.base.method_choice]\n",
      "INFO       No numerical integration method specified for group 'synapses_2', using method 'linear' (took 0.02s). [brian2.stateupdaters.base.method_choice]\n",
      "INFO       No numerical integration method specified for group 'synapses_2', using method 'linear' (took 0.02s). [brian2.stateupdaters.base.method_choice]\n"
     ]
    },
    {
     "name": "stdout",
     "output_type": "stream",
     "text": [
      "0\n",
      "1\n",
      "2\n",
      "3\n",
      "4\n",
      "Status: 72/100, E: 0.096276644567, E_new: 0.096276644567, Temp: 0.00562313194979\n"
     ]
    },
    {
     "name": "stderr",
     "output_type": "stream",
     "text": [
      "INFO       No numerical integration method specified for group 'synapses_2', using method 'linear' (took 0.02s). [brian2.stateupdaters.base.method_choice]\n",
      "INFO       No numerical integration method specified for group 'synapses_2', using method 'linear' (took 0.02s). [brian2.stateupdaters.base.method_choice]\n",
      "INFO       No numerical integration method specified for group 'synapses_2', using method 'linear' (took 0.02s). [brian2.stateupdaters.base.method_choice]\n",
      "INFO       No numerical integration method specified for group 'synapses_2', using method 'linear' (took 0.02s). [brian2.stateupdaters.base.method_choice]\n",
      "INFO       No numerical integration method specified for group 'synapses_2', using method 'linear' (took 0.02s). [brian2.stateupdaters.base.method_choice]\n"
     ]
    },
    {
     "name": "stdout",
     "output_type": "stream",
     "text": [
      "0\n",
      "1\n",
      "2\n",
      "3\n",
      "4\n",
      "Status: 73/100, E: 0.096276644567, E_new: 0.096276644567, Temp: 0.00492642544323\n"
     ]
    },
    {
     "name": "stderr",
     "output_type": "stream",
     "text": [
      "INFO       No numerical integration method specified for group 'synapses_2', using method 'linear' (took 0.02s). [brian2.stateupdaters.base.method_choice]\n",
      "INFO       No numerical integration method specified for group 'synapses_2', using method 'linear' (took 0.02s). [brian2.stateupdaters.base.method_choice]\n",
      "INFO       No numerical integration method specified for group 'synapses_2', using method 'linear' (took 0.02s). [brian2.stateupdaters.base.method_choice]\n",
      "INFO       No numerical integration method specified for group 'synapses_2', using method 'linear' (took 0.02s). [brian2.stateupdaters.base.method_choice]\n",
      "INFO       No numerical integration method specified for group 'synapses_2', using method 'linear' (took 0.02s). [brian2.stateupdaters.base.method_choice]\n"
     ]
    },
    {
     "name": "stdout",
     "output_type": "stream",
     "text": [
      "0\n",
      "1\n",
      "2\n",
      "3\n",
      "4\n",
      "Status: 74/100, E: 0.096276644567, E_new: 0.096276644567, Temp: 0.004272347835\n"
     ]
    },
    {
     "name": "stderr",
     "output_type": "stream",
     "text": [
      "INFO       No numerical integration method specified for group 'synapses_2', using method 'linear' (took 0.02s). [brian2.stateupdaters.base.method_choice]\n",
      "INFO       No numerical integration method specified for group 'synapses_2', using method 'linear' (took 0.02s). [brian2.stateupdaters.base.method_choice]\n",
      "INFO       No numerical integration method specified for group 'synapses_2', using method 'linear' (took 0.02s). [brian2.stateupdaters.base.method_choice]\n",
      "INFO       No numerical integration method specified for group 'synapses_2', using method 'linear' (took 0.02s). [brian2.stateupdaters.base.method_choice]\n",
      "INFO       No numerical integration method specified for group 'synapses_2', using method 'linear' (took 0.02s). [brian2.stateupdaters.base.method_choice]\n"
     ]
    },
    {
     "name": "stdout",
     "output_type": "stream",
     "text": [
      "0\n",
      "1\n",
      "2\n",
      "3\n",
      "4\n",
      "Status: 75/100, E: 0.096276644567, E_new: 0.096276644567, Temp: 0.00366312777775\n"
     ]
    },
    {
     "name": "stderr",
     "output_type": "stream",
     "text": [
      "INFO       No numerical integration method specified for group 'synapses_2', using method 'linear' (took 0.02s). [brian2.stateupdaters.base.method_choice]\n",
      "INFO       No numerical integration method specified for group 'synapses_2', using method 'linear' (took 0.02s). [brian2.stateupdaters.base.method_choice]\n",
      "INFO       No numerical integration method specified for group 'synapses_2', using method 'linear' (took 0.02s). [brian2.stateupdaters.base.method_choice]\n",
      "INFO       No numerical integration method specified for group 'synapses_2', using method 'linear' (took 0.02s). [brian2.stateupdaters.base.method_choice]\n",
      "INFO       No numerical integration method specified for group 'synapses_2', using method 'linear' (took 0.02s). [brian2.stateupdaters.base.method_choice]\n"
     ]
    },
    {
     "name": "stdout",
     "output_type": "stream",
     "text": [
      "0\n",
      "1\n",
      "2\n",
      "3\n",
      "4\n",
      "Status: 76/100, E: 0.096276644567, E_new: 0.096276644567, Temp: 0.0031007707198\n"
     ]
    },
    {
     "name": "stderr",
     "output_type": "stream",
     "text": [
      "INFO       No numerical integration method specified for group 'synapses_2', using method 'linear' (took 0.02s). [brian2.stateupdaters.base.method_choice]\n",
      "INFO       No numerical integration method specified for group 'synapses_2', using method 'linear' (took 0.02s). [brian2.stateupdaters.base.method_choice]\n",
      "INFO       No numerical integration method specified for group 'synapses_2', using method 'linear' (took 0.02s). [brian2.stateupdaters.base.method_choice]\n",
      "INFO       No numerical integration method specified for group 'synapses_2', using method 'linear' (took 0.02s). [brian2.stateupdaters.base.method_choice]\n",
      "INFO       No numerical integration method specified for group 'synapses_2', using method 'linear' (took 0.02s). [brian2.stateupdaters.base.method_choice]\n"
     ]
    },
    {
     "name": "stdout",
     "output_type": "stream",
     "text": [
      "0\n",
      "1\n",
      "2\n",
      "3\n",
      "4\n",
      "Status: 77/100, E: 0.096276644567, E_new: 0.096276644567, Temp: 0.00258698027779\n"
     ]
    },
    {
     "name": "stderr",
     "output_type": "stream",
     "text": [
      "INFO       No numerical integration method specified for group 'synapses_2', using method 'linear' (took 0.02s). [brian2.stateupdaters.base.method_choice]\n",
      "INFO       No numerical integration method specified for group 'synapses_2', using method 'linear' (took 0.02s). [brian2.stateupdaters.base.method_choice]\n",
      "INFO       No numerical integration method specified for group 'synapses_2', using method 'linear' (took 0.02s). [brian2.stateupdaters.base.method_choice]\n",
      "INFO       No numerical integration method specified for group 'synapses_2', using method 'linear' (took 0.02s). [brian2.stateupdaters.base.method_choice]\n",
      "INFO       No numerical integration method specified for group 'synapses_2', using method 'linear' (took 0.02s). [brian2.stateupdaters.base.method_choice]\n"
     ]
    },
    {
     "name": "stdout",
     "output_type": "stream",
     "text": [
      "0\n",
      "1\n",
      "2\n",
      "3\n",
      "4\n",
      "Status: 78/100, E: 0.096276644567, E_new: 0.096276644567, Temp: 0.0021230692924\n"
     ]
    },
    {
     "name": "stderr",
     "output_type": "stream",
     "text": [
      "INFO       No numerical integration method specified for group 'synapses_2', using method 'linear' (took 0.02s). [brian2.stateupdaters.base.method_choice]\n",
      "INFO       No numerical integration method specified for group 'synapses_2', using method 'linear' (took 0.02s). [brian2.stateupdaters.base.method_choice]\n",
      "INFO       No numerical integration method specified for group 'synapses_2', using method 'linear' (took 0.02s). [brian2.stateupdaters.base.method_choice]\n",
      "INFO       No numerical integration method specified for group 'synapses_2', using method 'linear' (took 0.02s). [brian2.stateupdaters.base.method_choice]\n",
      "INFO       No numerical integration method specified for group 'synapses_2', using method 'linear' (took 0.02s). [brian2.stateupdaters.base.method_choice]\n"
     ]
    },
    {
     "name": "stdout",
     "output_type": "stream",
     "text": [
      "0\n",
      "1\n",
      "2\n",
      "3\n",
      "4\n",
      "Status: 79/100, E: 0.096276644567, E_new: 0.096276644567, Temp: 0.00170986189594\n"
     ]
    },
    {
     "name": "stderr",
     "output_type": "stream",
     "text": [
      "INFO       No numerical integration method specified for group 'synapses_2', using method 'linear' (took 0.02s). [brian2.stateupdaters.base.method_choice]\n",
      "INFO       No numerical integration method specified for group 'synapses_2', using method 'linear' (took 0.02s). [brian2.stateupdaters.base.method_choice]\n",
      "INFO       No numerical integration method specified for group 'synapses_2', using method 'linear' (took 0.02s). [brian2.stateupdaters.base.method_choice]\n",
      "INFO       No numerical integration method specified for group 'synapses_2', using method 'linear' (took 0.02s). [brian2.stateupdaters.base.method_choice]\n",
      "INFO       No numerical integration method specified for group 'synapses_2', using method 'linear' (took 0.02s). [brian2.stateupdaters.base.method_choice]\n"
     ]
    },
    {
     "name": "stdout",
     "output_type": "stream",
     "text": [
      "0\n",
      "1\n",
      "2\n",
      "3\n",
      "4\n",
      "Status: 80/100, E: 0.096276644567, E_new: 0.096276644567, Temp: 0.00134758939982\n"
     ]
    },
    {
     "name": "stderr",
     "output_type": "stream",
     "text": [
      "INFO       No numerical integration method specified for group 'synapses_2', using method 'linear' (took 0.02s). [brian2.stateupdaters.base.method_choice]\n",
      "INFO       No numerical integration method specified for group 'synapses_2', using method 'linear' (took 0.02s). [brian2.stateupdaters.base.method_choice]\n",
      "INFO       No numerical integration method specified for group 'synapses_2', using method 'linear' (took 0.02s). [brian2.stateupdaters.base.method_choice]\n",
      "INFO       No numerical integration method specified for group 'synapses_2', using method 'linear' (took 0.02s). [brian2.stateupdaters.base.method_choice]\n",
      "INFO       No numerical integration method specified for group 'synapses_2', using method 'linear' (took 0.02s). [brian2.stateupdaters.base.method_choice]\n"
     ]
    },
    {
     "name": "stdout",
     "output_type": "stream",
     "text": [
      "0\n",
      "1\n",
      "2\n",
      "3\n",
      "4\n",
      "Status: 81/100, E: 0.096276644567, E_new: 0.096276644567, Temp: 0.00103578487412\n"
     ]
    },
    {
     "name": "stderr",
     "output_type": "stream",
     "text": [
      "INFO       No numerical integration method specified for group 'synapses_2', using method 'linear' (took 0.02s). [brian2.stateupdaters.base.method_choice]\n",
      "INFO       No numerical integration method specified for group 'synapses_2', using method 'linear' (took 0.02s). [brian2.stateupdaters.base.method_choice]\n",
      "INFO       No numerical integration method specified for group 'synapses_2', using method 'linear' (took 0.02s). [brian2.stateupdaters.base.method_choice]\n",
      "INFO       No numerical integration method specified for group 'synapses_2', using method 'linear' (took 0.02s). [brian2.stateupdaters.base.method_choice]\n",
      "INFO       No numerical integration method specified for group 'synapses_2', using method 'linear' (took 0.02s). [brian2.stateupdaters.base.method_choice]\n"
     ]
    },
    {
     "name": "stdout",
     "output_type": "stream",
     "text": [
      "0\n",
      "1\n",
      "2\n",
      "3\n",
      "4\n",
      "Status: 82/100, E: 0.096276644567, E_new: 0.096276644567, Temp: 0.000773184027895\n"
     ]
    },
    {
     "name": "stderr",
     "output_type": "stream",
     "text": [
      "INFO       No numerical integration method specified for group 'synapses_2', using method 'linear' (took 0.02s). [brian2.stateupdaters.base.method_choice]\n",
      "INFO       No numerical integration method specified for group 'synapses_2', using method 'linear' (took 0.02s). [brian2.stateupdaters.base.method_choice]\n",
      "INFO       No numerical integration method specified for group 'synapses_2', using method 'linear' (took 0.02s). [brian2.stateupdaters.base.method_choice]\n",
      "INFO       No numerical integration method specified for group 'synapses_2', using method 'linear' (took 0.02s). [brian2.stateupdaters.base.method_choice]\n",
      "INFO       No numerical integration method specified for group 'synapses_2', using method 'linear' (took 0.02s). [brian2.stateupdaters.base.method_choice]\n"
     ]
    },
    {
     "name": "stdout",
     "output_type": "stream",
     "text": [
      "0\n",
      "1\n",
      "2\n",
      "3\n",
      "4\n",
      "Status: 83/100, E: 0.096276644567, E_new: 0.096276644567, Temp: 0.00055764340801\n"
     ]
    },
    {
     "name": "stderr",
     "output_type": "stream",
     "text": [
      "INFO       No numerical integration method specified for group 'synapses_2', using method 'linear' (took 0.02s). [brian2.stateupdaters.base.method_choice]\n",
      "INFO       No numerical integration method specified for group 'synapses_2', using method 'linear' (took 0.02s). [brian2.stateupdaters.base.method_choice]\n",
      "INFO       No numerical integration method specified for group 'synapses_2', using method 'linear' (took 0.02s). [brian2.stateupdaters.base.method_choice]\n",
      "INFO       No numerical integration method specified for group 'synapses_2', using method 'linear' (took 0.02s). [brian2.stateupdaters.base.method_choice]\n",
      "INFO       No numerical integration method specified for group 'synapses_2', using method 'linear' (took 0.02s). [brian2.stateupdaters.base.method_choice]\n"
     ]
    },
    {
     "name": "stdout",
     "output_type": "stream",
     "text": [
      "0\n",
      "1\n",
      "2\n",
      "3\n",
      "4\n",
      "Status: 84/100, E: 0.096276644567, E_new: 0.096276644567, Temp: 0.000386090827246\n"
     ]
    },
    {
     "name": "stderr",
     "output_type": "stream",
     "text": [
      "INFO       No numerical integration method specified for group 'synapses_2', using method 'linear' (took 0.02s). [brian2.stateupdaters.base.method_choice]\n",
      "INFO       No numerical integration method specified for group 'synapses_2', using method 'linear' (took 0.02s). [brian2.stateupdaters.base.method_choice]\n",
      "INFO       No numerical integration method specified for group 'synapses_2', using method 'linear' (took 0.02s). [brian2.stateupdaters.base.method_choice]\n",
      "INFO       No numerical integration method specified for group 'synapses_2', using method 'linear' (took 0.02s). [brian2.stateupdaters.base.method_choice]\n",
      "INFO       No numerical integration method specified for group 'synapses_2', using method 'linear' (took 0.02s). [brian2.stateupdaters.base.method_choice]\n"
     ]
    },
    {
     "name": "stdout",
     "output_type": "stream",
     "text": [
      "0\n",
      "1\n",
      "2\n",
      "3\n",
      "4\n",
      "Status: 85/100, E: 0.096276644567, E_new: 0.096276644567, Temp: 0.000254526760268\n"
     ]
    },
    {
     "name": "stderr",
     "output_type": "stream",
     "text": [
      "INFO       No numerical integration method specified for group 'synapses_2', using method 'linear' (took 0.02s). [brian2.stateupdaters.base.method_choice]\n",
      "INFO       No numerical integration method specified for group 'synapses_2', using method 'linear' (took 0.02s). [brian2.stateupdaters.base.method_choice]\n",
      "INFO       No numerical integration method specified for group 'synapses_2', using method 'linear' (took 0.02s). [brian2.stateupdaters.base.method_choice]\n",
      "INFO       No numerical integration method specified for group 'synapses_2', using method 'linear' (took 0.02s). [brian2.stateupdaters.base.method_choice]\n",
      "INFO       No numerical integration method specified for group 'synapses_2', using method 'linear' (took 0.02s). [brian2.stateupdaters.base.method_choice]\n"
     ]
    },
    {
     "name": "stdout",
     "output_type": "stream",
     "text": [
      "0\n",
      "1\n",
      "2\n",
      "3\n",
      "4\n",
      "Status: 86/100, E: 0.096276644567, E_new: 0.096276644567, Temp: 0.000158098064624\n"
     ]
    },
    {
     "name": "stderr",
     "output_type": "stream",
     "text": [
      "INFO       No numerical integration method specified for group 'synapses_2', using method 'linear' (took 0.02s). [brian2.stateupdaters.base.method_choice]\n",
      "INFO       No numerical integration method specified for group 'synapses_2', using method 'linear' (took 0.02s). [brian2.stateupdaters.base.method_choice]\n",
      "INFO       No numerical integration method specified for group 'synapses_2', using method 'linear' (took 0.02s). [brian2.stateupdaters.base.method_choice]\n",
      "INFO       No numerical integration method specified for group 'synapses_2', using method 'linear' (took 0.02s). [brian2.stateupdaters.base.method_choice]\n",
      "INFO       No numerical integration method specified for group 'synapses_2', using method 'linear' (took 0.02s). [brian2.stateupdaters.base.method_choice]\n"
     ]
    },
    {
     "name": "stdout",
     "output_type": "stream",
     "text": [
      "0\n",
      "1\n",
      "2\n",
      "3\n",
      "4\n",
      "Status: 87/100, E: 0.096276644567, E_new: 0.096276644567, Temp: 9.12647801162e-05\n"
     ]
    },
    {
     "name": "stderr",
     "output_type": "stream",
     "text": [
      "INFO       No numerical integration method specified for group 'synapses_2', using method 'linear' (took 0.02s). [brian2.stateupdaters.base.method_choice]\n",
      "INFO       No numerical integration method specified for group 'synapses_2', using method 'linear' (took 0.02s). [brian2.stateupdaters.base.method_choice]\n",
      "INFO       No numerical integration method specified for group 'synapses_2', using method 'linear' (took 0.02s). [brian2.stateupdaters.base.method_choice]\n",
      "INFO       No numerical integration method specified for group 'synapses_2', using method 'linear' (took 0.02s). [brian2.stateupdaters.base.method_choice]\n",
      "INFO       No numerical integration method specified for group 'synapses_2', using method 'linear' (took 0.02s). [brian2.stateupdaters.base.method_choice]\n"
     ]
    },
    {
     "name": "stdout",
     "output_type": "stream",
     "text": [
      "0\n",
      "1\n",
      "2\n",
      "3\n",
      "4\n",
      "Status: 88/100, E: 0.096276644567, E_new: 0.096276644567, Temp: 4.80738952839e-05\n"
     ]
    },
    {
     "name": "stderr",
     "output_type": "stream",
     "text": [
      "INFO       No numerical integration method specified for group 'synapses_2', using method 'linear' (took 0.02s). [brian2.stateupdaters.base.method_choice]\n",
      "INFO       No numerical integration method specified for group 'synapses_2', using method 'linear' (took 0.02s). [brian2.stateupdaters.base.method_choice]\n",
      "INFO       No numerical integration method specified for group 'synapses_2', using method 'linear' (took 0.02s). [brian2.stateupdaters.base.method_choice]\n",
      "INFO       No numerical integration method specified for group 'synapses_2', using method 'linear' (took 0.02s). [brian2.stateupdaters.base.method_choice]\n",
      "INFO       No numerical integration method specified for group 'synapses_2', using method 'linear' (took 0.02s). [brian2.stateupdaters.base.method_choice]\n"
     ]
    },
    {
     "name": "stdout",
     "output_type": "stream",
     "text": [
      "0\n",
      "1\n",
      "2\n",
      "3\n",
      "4\n",
      "Status: 89/100, E: 0.096276644567, E_new: 0.096276644567, Temp: 2.25371161016e-05\n"
     ]
    },
    {
     "name": "stderr",
     "output_type": "stream",
     "text": [
      "INFO       No numerical integration method specified for group 'synapses_2', using method 'linear' (took 0.02s). [brian2.stateupdaters.base.method_choice]\n",
      "INFO       No numerical integration method specified for group 'synapses_2', using method 'linear' (took 0.02s). [brian2.stateupdaters.base.method_choice]\n",
      "INFO       No numerical integration method specified for group 'synapses_2', using method 'linear' (took 0.02s). [brian2.stateupdaters.base.method_choice]\n",
      "INFO       No numerical integration method specified for group 'synapses_2', using method 'linear' (took 0.02s). [brian2.stateupdaters.base.method_choice]\n",
      "INFO       No numerical integration method specified for group 'synapses_2', using method 'linear' (took 0.02s). [brian2.stateupdaters.base.method_choice]\n"
     ]
    },
    {
     "name": "stdout",
     "output_type": "stream",
     "text": [
      "0\n",
      "1\n",
      "2\n",
      "3\n",
      "4\n",
      "Status: 90/100, E: 0.096276644567, E_new: 0.096276644567, Temp: 9.0799859525e-06\n"
     ]
    },
    {
     "name": "stderr",
     "output_type": "stream",
     "text": [
      "INFO       No numerical integration method specified for group 'synapses_2', using method 'linear' (took 0.02s). [brian2.stateupdaters.base.method_choice]\n",
      "INFO       No numerical integration method specified for group 'synapses_2', using method 'linear' (took 0.02s). [brian2.stateupdaters.base.method_choice]\n",
      "INFO       No numerical integration method specified for group 'synapses_2', using method 'linear' (took 0.02s). [brian2.stateupdaters.base.method_choice]\n",
      "INFO       No numerical integration method specified for group 'synapses_2', using method 'linear' (took 0.02s). [brian2.stateupdaters.base.method_choice]\n",
      "INFO       No numerical integration method specified for group 'synapses_2', using method 'linear' (took 0.02s). [brian2.stateupdaters.base.method_choice]\n"
     ]
    },
    {
     "name": "stdout",
     "output_type": "stream",
     "text": [
      "0\n",
      "1\n",
      "2\n",
      "3\n",
      "4\n",
      "Status: 91/100, E: 0.096276644567, E_new: 0.096276644567, Temp: 2.98906770496e-06\n"
     ]
    },
    {
     "name": "stderr",
     "output_type": "stream",
     "text": [
      "INFO       No numerical integration method specified for group 'synapses_2', using method 'linear' (took 0.02s). [brian2.stateupdaters.base.method_choice]\n",
      "INFO       No numerical integration method specified for group 'synapses_2', using method 'linear' (took 0.02s). [brian2.stateupdaters.base.method_choice]\n",
      "INFO       No numerical integration method specified for group 'synapses_2', using method 'linear' (took 0.02s). [brian2.stateupdaters.base.method_choice]\n",
      "INFO       No numerical integration method specified for group 'synapses_2', using method 'linear' (took 0.02s). [brian2.stateupdaters.base.method_choice]\n",
      "INFO       No numerical integration method specified for group 'synapses_2', using method 'linear' (took 0.02s). [brian2.stateupdaters.base.method_choice]\n"
     ]
    },
    {
     "name": "stdout",
     "output_type": "stream",
     "text": [
      "0\n",
      "1\n",
      "2\n",
      "3\n",
      "4\n",
      "Status: 92/100, E: 0.096276644567, E_new: 0.096276644567, Temp: 7.45330634416e-07\n"
     ]
    },
    {
     "name": "stderr",
     "output_type": "stream",
     "text": [
      "INFO       No numerical integration method specified for group 'synapses_2', using method 'linear' (took 0.02s). [brian2.stateupdaters.base.method_choice]\n",
      "INFO       No numerical integration method specified for group 'synapses_2', using method 'linear' (took 0.02s). [brian2.stateupdaters.base.method_choice]\n",
      "INFO       No numerical integration method specified for group 'synapses_2', using method 'linear' (took 0.02s). [brian2.stateupdaters.base.method_choice]\n",
      "INFO       No numerical integration method specified for group 'synapses_2', using method 'linear' (took 0.02s). [brian2.stateupdaters.base.method_choice]\n",
      "INFO       No numerical integration method specified for group 'synapses_2', using method 'linear' (took 0.02s). [brian2.stateupdaters.base.method_choice]\n"
     ]
    },
    {
     "name": "stdout",
     "output_type": "stream",
     "text": [
      "0\n",
      "1\n",
      "2\n",
      "3\n",
      "4\n",
      "Status: 93/100, E: 0.096276644567, E_new: 0.096276644567, Temp: 1.24974990189e-07\n"
     ]
    },
    {
     "name": "stderr",
     "output_type": "stream",
     "text": [
      "INFO       No numerical integration method specified for group 'synapses_2', using method 'linear' (took 0.02s). [brian2.stateupdaters.base.method_choice]\n",
      "INFO       No numerical integration method specified for group 'synapses_2', using method 'linear' (took 0.02s). [brian2.stateupdaters.base.method_choice]\n",
      "INFO       No numerical integration method specified for group 'synapses_2', using method 'linear' (took 0.02s). [brian2.stateupdaters.base.method_choice]\n",
      "INFO       No numerical integration method specified for group 'synapses_2', using method 'linear' (took 0.02s). [brian2.stateupdaters.base.method_choice]\n",
      "INFO       No numerical integration method specified for group 'synapses_2', using method 'linear' (took 0.02s). [brian2.stateupdaters.base.method_choice]\n"
     ]
    },
    {
     "name": "stdout",
     "output_type": "stream",
     "text": [
      "0\n",
      "1\n",
      "2\n",
      "3\n",
      "4\n",
      "Status: 94/100, E: 0.096276644567, E_new: 0.096276644567, Temp: 1.15554970388e-08\n"
     ]
    },
    {
     "name": "stderr",
     "output_type": "stream",
     "text": [
      "INFO       No numerical integration method specified for group 'synapses_2', using method 'linear' (took 0.02s). [brian2.stateupdaters.base.method_choice]\n",
      "INFO       No numerical integration method specified for group 'synapses_2', using method 'linear' (took 0.02s). [brian2.stateupdaters.base.method_choice]\n",
      "INFO       No numerical integration method specified for group 'synapses_2', using method 'linear' (took 0.02s). [brian2.stateupdaters.base.method_choice]\n",
      "INFO       No numerical integration method specified for group 'synapses_2', using method 'linear' (took 0.02s). [brian2.stateupdaters.base.method_choice]\n",
      "INFO       No numerical integration method specified for group 'synapses_2', using method 'linear' (took 0.02s). [brian2.stateupdaters.base.method_choice]\n"
     ]
    },
    {
     "name": "stdout",
     "output_type": "stream",
     "text": [
      "0\n",
      "1\n",
      "2\n",
      "3\n",
      "4\n",
      "Status: 95/100, E: 0.096276644567, E_new: 0.096276644567, Temp: 4.12230724488e-10\n"
     ]
    },
    {
     "name": "stderr",
     "output_type": "stream",
     "text": [
      "INFO       No numerical integration method specified for group 'synapses_2', using method 'linear' (took 0.02s). [brian2.stateupdaters.base.method_choice]\n",
      "INFO       No numerical integration method specified for group 'synapses_2', using method 'linear' (took 0.02s). [brian2.stateupdaters.base.method_choice]\n",
      "INFO       No numerical integration method specified for group 'synapses_2', using method 'linear' (took 0.02s). [brian2.stateupdaters.base.method_choice]\n",
      "INFO       No numerical integration method specified for group 'synapses_2', using method 'linear' (took 0.02s). [brian2.stateupdaters.base.method_choice]\n",
      "INFO       No numerical integration method specified for group 'synapses_2', using method 'linear' (took 0.02s). [brian2.stateupdaters.base.method_choice]\n"
     ]
    },
    {
     "name": "stdout",
     "output_type": "stream",
     "text": [
      "0\n",
      "1\n",
      "2\n",
      "3\n",
      "4\n",
      "Status: 96/100, E: 0.096276644567, E_new: 0.096276644567, Temp: 2.77758877299e-12\n"
     ]
    },
    {
     "name": "stderr",
     "output_type": "stream",
     "text": [
      "INFO       No numerical integration method specified for group 'synapses_2', using method 'linear' (took 0.02s). [brian2.stateupdaters.base.method_choice]\n",
      "INFO       No numerical integration method specified for group 'synapses_2', using method 'linear' (took 0.02s). [brian2.stateupdaters.base.method_choice]\n",
      "INFO       No numerical integration method specified for group 'synapses_2', using method 'linear' (took 0.02s). [brian2.stateupdaters.base.method_choice]\n",
      "INFO       No numerical integration method specified for group 'synapses_2', using method 'linear' (took 0.02s). [brian2.stateupdaters.base.method_choice]\n",
      "INFO       No numerical integration method specified for group 'synapses_2', using method 'linear' (took 0.02s). [brian2.stateupdaters.base.method_choice]\n"
     ]
    },
    {
     "name": "stdout",
     "output_type": "stream",
     "text": [
      "0\n",
      "1\n",
      "2\n",
      "3\n",
      "4\n",
      "Status: 97/100, E: 0.096276644567, E_new: 0.096276644567, Temp: 6.67647559073e-16\n"
     ]
    },
    {
     "name": "stderr",
     "output_type": "stream",
     "text": [
      "INFO       No numerical integration method specified for group 'synapses_2', using method 'linear' (took 0.02s). [brian2.stateupdaters.base.method_choice]\n",
      "INFO       No numerical integration method specified for group 'synapses_2', using method 'linear' (took 0.02s). [brian2.stateupdaters.base.method_choice]\n",
      "INFO       No numerical integration method specified for group 'synapses_2', using method 'linear' (took 0.02s). [brian2.stateupdaters.base.method_choice]\n",
      "INFO       No numerical integration method specified for group 'synapses_2', using method 'linear' (took 0.02s). [brian2.stateupdaters.base.method_choice]\n",
      "INFO       No numerical integration method specified for group 'synapses_2', using method 'linear' (took 0.02s). [brian2.stateupdaters.base.method_choice]\n"
     ]
    },
    {
     "name": "stdout",
     "output_type": "stream",
     "text": [
      "0\n",
      "1\n",
      "2\n",
      "3\n",
      "4\n",
      "Status: 98/100, E: 0.096276644567, E_new: 0.096276644567, Temp: 3.85749969593e-23\n"
     ]
    },
    {
     "name": "stderr",
     "output_type": "stream",
     "text": [
      "INFO       No numerical integration method specified for group 'synapses_2', using method 'linear' (took 0.02s). [brian2.stateupdaters.base.method_choice]\n",
      "INFO       No numerical integration method specified for group 'synapses_2', using method 'linear' (took 0.02s). [brian2.stateupdaters.base.method_choice]\n",
      "INFO       No numerical integration method specified for group 'synapses_2', using method 'linear' (took 0.02s). [brian2.stateupdaters.base.method_choice]\n",
      "INFO       No numerical integration method specified for group 'synapses_2', using method 'linear' (took 0.02s). [brian2.stateupdaters.base.method_choice]\n"
     ]
    },
    {
     "name": "stdout",
     "output_type": "stream",
     "text": [
      "0\n",
      "1\n",
      "2\n",
      "3\n",
      "4\n",
      "Status: 99/100, E: 0.096276644567, E_new: 0.096276644567, Temp: 7.44015195204e-45\n"
     ]
    },
    {
     "data": {
      "text/plain": [
       "array([ 1.63749527, -0.15490287,  0.88459593,  0.49486439, -1.10538917,\n",
       "       -0.68092928, -1.43208572,  0.96380402, -0.29630184, -0.73861869,\n",
       "       -0.60933604, -1.86622376,  0.88569901,  0.33560097, -0.13463928,\n",
       "        1.91475838,  1.67762434,  0.71292192,  0.25366063,  0.76742985,\n",
       "       -0.17001313, -0.51603252,  2.03880975,  0.70472627,  0.26785017,\n",
       "        0.01259131, -0.29319079,  0.66620342,  0.62885433, -0.55956093,\n",
       "        2.62487362,  1.91501304,  0.82736311,  1.1708973 , -0.25562555,\n",
       "       -1.55077105, -0.41104019,  2.62709714,  0.9976554 , -2.02231337,\n",
       "        0.8041287 ,  0.84214742, -0.18632524, -2.28753077,  1.87465602,\n",
       "        2.75768135, -0.0648553 ,  1.29180009,  0.50722181, -0.39339262,\n",
       "       -1.589369  ,  0.95979857, -2.26458943, -2.58733276, -2.02083321,\n",
       "       -1.58243872,  0.5913893 ,  1.64711179,  0.54207795, -1.88850697,\n",
       "        0.05307923, -1.1748685 ,  0.12516241,  1.70148401, -0.35360241,\n",
       "        1.04051816, -0.57817782,  0.31821938,  1.71730947,  1.04870247,\n",
       "       -0.87113395,  0.80456202, -3.22602853, -0.60473277, -1.51840461,\n",
       "       -0.90178703,  1.70972444, -1.01724859,  2.95703355, -1.5353602 ,\n",
       "        0.88408157,  0.66747911,  1.6522366 , -1.99837692, -1.19913475,\n",
       "        0.03215333,  0.02582933,  0.71677811, -0.57552297, -0.49094993,\n",
       "       -0.08873432, -0.54969398, -0.76072737,  0.4449819 ,  0.95349616,\n",
       "        0.94912902,  2.2632802 ,  0.66571348,  0.91990365,  0.3211386 ])"
      ]
     },
     "execution_count": 241,
     "metadata": {},
     "output_type": "execute_result"
    }
   ],
   "source": [
    "annealer.anneal(100)"
   ]
  },
  {
   "cell_type": "code",
   "execution_count": 191,
   "metadata": {
    "collapsed": false
   },
   "outputs": [
    {
     "name": "stdout",
     "output_type": "stream",
     "text": [
      "0\n"
     ]
    }
   ],
   "source": [
    "import neuraltda.spectralAnalysis as sa\n",
    "\n",
    "outSCG = sa.computeChainGroup(annealer.out, 6.0, 0)"
   ]
  },
  {
   "cell_type": "code",
   "execution_count": 220,
   "metadata": {
    "collapsed": false,
    "scrolled": true
   },
   "outputs": [
    {
     "data": {
      "text/plain": [
       "array([[[ 0.,  0.,  0.,  0.,  0.],\n",
       "        [ 0.,  0.,  0.,  0.,  0.],\n",
       "        [ 0.,  0.,  0.,  0.,  0.],\n",
       "        ..., \n",
       "        [ 0.,  0.,  0.,  0.,  0.],\n",
       "        [ 0.,  0.,  0.,  0.,  0.],\n",
       "        [ 0.,  0.,  0.,  0.,  0.]],\n",
       "\n",
       "       [[ 0.,  0.,  0.,  0.,  0.],\n",
       "        [ 0.,  0.,  0.,  0.,  0.],\n",
       "        [ 0.,  0.,  0.,  0.,  0.],\n",
       "        ..., \n",
       "        [ 0.,  0.,  0.,  0.,  0.],\n",
       "        [ 0.,  0.,  0.,  0.,  0.],\n",
       "        [ 0.,  0.,  0.,  0.,  0.]],\n",
       "\n",
       "       [[ 0.,  0.,  0.,  0.,  0.],\n",
       "        [ 0.,  0.,  0.,  0.,  0.],\n",
       "        [ 0.,  0.,  0.,  0.,  0.],\n",
       "        ..., \n",
       "        [ 0.,  0.,  0.,  0.,  0.],\n",
       "        [ 0.,  0.,  0.,  0.,  0.],\n",
       "        [ 0.,  0.,  0.,  0.,  0.]],\n",
       "\n",
       "       ..., \n",
       "       [[ 0.,  0.,  0.,  0.,  0.],\n",
       "        [ 0.,  0.,  0.,  0.,  0.],\n",
       "        [ 0.,  0.,  0.,  0.,  0.],\n",
       "        ..., \n",
       "        [ 0.,  0.,  0.,  0.,  0.],\n",
       "        [ 0.,  0.,  0.,  0.,  0.],\n",
       "        [ 0.,  0.,  0.,  0.,  0.]],\n",
       "\n",
       "       [[ 0.,  0.,  0.,  0.,  0.],\n",
       "        [ 0.,  0.,  0.,  0.,  0.],\n",
       "        [ 0.,  0.,  0.,  0.,  0.],\n",
       "        ..., \n",
       "        [ 0.,  0.,  0.,  0.,  0.],\n",
       "        [ 0.,  0.,  0.,  0.,  0.],\n",
       "        [ 0.,  0.,  0.,  0.,  0.]],\n",
       "\n",
       "       [[ 0.,  0.,  0.,  0.,  0.],\n",
       "        [ 0.,  0.,  0.,  0.,  0.],\n",
       "        [ 0.,  0.,  0.,  0.,  0.],\n",
       "        ..., \n",
       "        [ 0.,  0.,  0.,  0.,  0.],\n",
       "        [ 0.,  0.,  0.,  0.,  0.],\n",
       "        [ 0.,  0.,  0.,  0.,  0.]]])"
      ]
     },
     "execution_count": 220,
     "metadata": {},
     "output_type": "execute_result"
    }
   ],
   "source": [
    "sys.run()"
   ]
  },
  {
   "cell_type": "code",
   "execution_count": 286,
   "metadata": {
    "collapsed": false,
    "scrolled": true
   },
   "outputs": [
    {
     "name": "stderr",
     "output_type": "stream",
     "text": [
      "INFO       No numerical integration method specified for group 'synapses_5', using method 'linear' (took 0.02s). [brian2.stateupdaters.base.method_choice]\n",
      "INFO       No numerical integration method specified for group 'synapses_5', using method 'linear' (took 0.02s). [brian2.stateupdaters.base.method_choice]\n",
      "INFO       No numerical integration method specified for group 'synapses_5', using method 'linear' (took 0.02s). [brian2.stateupdaters.base.method_choice]\n",
      "INFO       No numerical integration method specified for group 'synapses_5', using method 'linear' (took 0.02s). [brian2.stateupdaters.base.method_choice]\n",
      "INFO       No numerical integration method specified for group 'synapses_5', using method 'linear' (took 0.02s). [brian2.stateupdaters.base.method_choice]\n"
     ]
    },
    {
     "data": {
      "image/png": "[encoded data removed]",
      "text/plain": [
       "<matplotlib.figure.Figure at 0x7f92a79971d0>"
      ]
     },
     "metadata": {},
     "output_type": "display_data"
    }
   ],
   "source": [
    "sys.run(3*np.random.standard_normal(np.array(sys.S.w).shape) )\n",
    "sys.visualize()"
   ]
  },
  {
   "cell_type": "code",
   "execution_count": 285,
   "metadata": {
    "collapsed": false
   },
   "outputs": [
    {
     "name": "stderr",
     "output_type": "stream",
     "text": [
      "INFO       No numerical integration method specified for group 'synapses_5', using method 'linear' (took 0.02s). [brian2.stateupdaters.base.method_choice]\n",
      "INFO       No numerical integration method specified for group 'synapses_5', using method 'linear' (took 0.02s). [brian2.stateupdaters.base.method_choice]\n",
      "INFO       No numerical integration method specified for group 'synapses_5', using method 'linear' (took 0.02s). [brian2.stateupdaters.base.method_choice]\n",
      "INFO       No numerical integration method specified for group 'synapses_5', using method 'linear' (took 0.02s). [brian2.stateupdaters.base.method_choice]\n",
      "INFO       No numerical integration method specified for group 'synapses_5', using method 'linear' (took 0.02s). [brian2.stateupdaters.base.method_choice]\n"
     ]
    },
    {
     "data": {
      "image/png": "[encoded data removed]",
      "text/plain": [
       "<matplotlib.figure.Figure at 0x7f92a6a6a750>"
      ]
     },
     "metadata": {},
     "output_type": "display_data"
    }
   ],
   "source": [
    "M1 = brian2.StateMonitor(sys.S, 'A_syn', record=True)\n",
    "sys.net.add(M1)\n",
    "sys.net.store()\n",
    "sys.run(3*np.random.standard_normal(np.array(sys.S.w).shape) )\n",
    "sys.visualize()"
   ]
  },
  {
   "cell_type": "code",
   "execution_count": 279,
   "metadata": {
    "collapsed": false
   },
   "outputs": [
    {
     "data": {
      "text/plain": [
       "array([[  0.00000000e+000,   0.00000000e+000,   0.00000000e+000, ...,\n",
       "          1.34053397e-177,   1.31398962e-177,   1.28797089e-177],\n",
       "       [  0.00000000e+000,   0.00000000e+000,   0.00000000e+000, ...,\n",
       "          1.57441915e-177,   1.54324356e-177,   1.51268529e-177],\n",
       "       [  0.00000000e+000,   0.00000000e+000,   0.00000000e+000, ...,\n",
       "          5.08049029e-178,   4.97988984e-178,   4.88128142e-178],\n",
       "       ..., \n",
       "       [  0.00000000e+000,   0.00000000e+000,   0.00000000e+000, ...,\n",
       "         -3.83125707e-005,  -3.75539309e-005,  -3.68103133e-005],\n",
       "       [  0.00000000e+000,   0.00000000e+000,   0.00000000e+000, ...,\n",
       "         -2.11448752e-004,  -2.07261787e-004,  -2.03157728e-004],\n",
       "       [  0.00000000e+000,   0.00000000e+000,   0.00000000e+000, ...,\n",
       "         -1.14677548e-005,  -1.12406780e-005,  -1.10180977e-005]])"
      ]
     },
     "execution_count": 279,
     "metadata": {},
     "output_type": "execute_result"
    }
   ],
   "source": [
    "M1.A_syn"
   ]
  },
  {
   "cell_type": "code",
   "execution_count": 277,
   "metadata": {
    "collapsed": false
   },
   "outputs": [
    {
     "ename": "ValueError",
     "evalue": "x and y must have same first dimension",
     "output_type": "error",
     "traceback": [
      "\u001b[1;31m---------------------------------------------------------------------------\u001b[0m",
      "\u001b[1;31mValueError\u001b[0m                                Traceback (most recent call last)",
      "\u001b[1;32m<ipython-input-277-8c4ae417373a>\u001b[0m in \u001b[0;36m<module>\u001b[1;34m()\u001b[0m\n\u001b[0;32m      1\u001b[0m \u001b[0mplt\u001b[0m\u001b[1;33m.\u001b[0m\u001b[0mfigure\u001b[0m\u001b[1;33m(\u001b[0m\u001b[1;33m)\u001b[0m\u001b[1;33m\u001b[0m\u001b[0m\n\u001b[1;32m----> 2\u001b[1;33m \u001b[0mplt\u001b[0m\u001b[1;33m.\u001b[0m\u001b[0mplot\u001b[0m\u001b[1;33m(\u001b[0m\u001b[0mM1\u001b[0m\u001b[1;33m.\u001b[0m\u001b[0mt\u001b[0m\u001b[1;33m/\u001b[0m\u001b[0mbrian2\u001b[0m\u001b[1;33m.\u001b[0m\u001b[0mms\u001b[0m\u001b[1;33m,\u001b[0m \u001b[0mM1\u001b[0m\u001b[1;33m.\u001b[0m\u001b[0mA_syn\u001b[0m\u001b[1;33m[\u001b[0m\u001b[1;36m0\u001b[0m\u001b[1;33m,\u001b[0m\u001b[1;36m1\u001b[0m\u001b[1;33m]\u001b[0m\u001b[1;33m)\u001b[0m\u001b[1;33m\u001b[0m\u001b[0m\n\u001b[0m",
      "\u001b[1;32m/home/brad/.conda/envs/neuraltda/lib/python2.7/site-packages/matplotlib/pyplot.pyc\u001b[0m in \u001b[0;36mplot\u001b[1;34m(*args, **kwargs)\u001b[0m\n\u001b[0;32m   3152\u001b[0m         \u001b[0max\u001b[0m\u001b[1;33m.\u001b[0m\u001b[0mhold\u001b[0m\u001b[1;33m(\u001b[0m\u001b[0mhold\u001b[0m\u001b[1;33m)\u001b[0m\u001b[1;33m\u001b[0m\u001b[0m\n\u001b[0;32m   3153\u001b[0m     \u001b[1;32mtry\u001b[0m\u001b[1;33m:\u001b[0m\u001b[1;33m\u001b[0m\u001b[0m\n\u001b[1;32m-> 3154\u001b[1;33m         \u001b[0mret\u001b[0m \u001b[1;33m=\u001b[0m \u001b[0max\u001b[0m\u001b[1;33m.\u001b[0m\u001b[0mplot\u001b[0m\u001b[1;33m(\u001b[0m\u001b[1;33m*\u001b[0m\u001b[0margs\u001b[0m\u001b[1;33m,\u001b[0m \u001b[1;33m**\u001b[0m\u001b[0mkwargs\u001b[0m\u001b[1;33m)\u001b[0m\u001b[1;33m\u001b[0m\u001b[0m\n\u001b[0m\u001b[0;32m   3155\u001b[0m     \u001b[1;32mfinally\u001b[0m\u001b[1;33m:\u001b[0m\u001b[1;33m\u001b[0m\u001b[0m\n\u001b[0;32m   3156\u001b[0m         \u001b[0max\u001b[0m\u001b[1;33m.\u001b[0m\u001b[0mhold\u001b[0m\u001b[1;33m(\u001b[0m\u001b[0mwashold\u001b[0m\u001b[1;33m)\u001b[0m\u001b[1;33m\u001b[0m\u001b[0m\n",
      "\u001b[1;32m/home/brad/.conda/envs/neuraltda/lib/python2.7/site-packages/matplotlib/__init__.pyc\u001b[0m in \u001b[0;36minner\u001b[1;34m(ax, *args, **kwargs)\u001b[0m\n\u001b[0;32m   1810\u001b[0m                     warnings.warn(msg % (label_namer, func.__name__),\n\u001b[0;32m   1811\u001b[0m                                   RuntimeWarning, stacklevel=2)\n\u001b[1;32m-> 1812\u001b[1;33m             \u001b[1;32mreturn\u001b[0m \u001b[0mfunc\u001b[0m\u001b[1;33m(\u001b[0m\u001b[0max\u001b[0m\u001b[1;33m,\u001b[0m \u001b[1;33m*\u001b[0m\u001b[0margs\u001b[0m\u001b[1;33m,\u001b[0m \u001b[1;33m**\u001b[0m\u001b[0mkwargs\u001b[0m\u001b[1;33m)\u001b[0m\u001b[1;33m\u001b[0m\u001b[0m\n\u001b[0m\u001b[0;32m   1813\u001b[0m         \u001b[0mpre_doc\u001b[0m \u001b[1;33m=\u001b[0m \u001b[0minner\u001b[0m\u001b[1;33m.\u001b[0m\u001b[0m__doc__\u001b[0m\u001b[1;33m\u001b[0m\u001b[0m\n\u001b[0;32m   1814\u001b[0m         \u001b[1;32mif\u001b[0m \u001b[0mpre_doc\u001b[0m \u001b[1;32mis\u001b[0m \u001b[0mNone\u001b[0m\u001b[1;33m:\u001b[0m\u001b[1;33m\u001b[0m\u001b[0m\n",
      "\u001b[1;32m/home/brad/.conda/envs/neuraltda/lib/python2.7/site-packages/matplotlib/axes/_axes.pyc\u001b[0m in \u001b[0;36mplot\u001b[1;34m(self, *args, **kwargs)\u001b[0m\n\u001b[0;32m   1422\u001b[0m             \u001b[0mkwargs\u001b[0m\u001b[1;33m[\u001b[0m\u001b[1;34m'color'\u001b[0m\u001b[1;33m]\u001b[0m \u001b[1;33m=\u001b[0m \u001b[0mc\u001b[0m\u001b[1;33m\u001b[0m\u001b[0m\n\u001b[0;32m   1423\u001b[0m \u001b[1;33m\u001b[0m\u001b[0m\n\u001b[1;32m-> 1424\u001b[1;33m         \u001b[1;32mfor\u001b[0m \u001b[0mline\u001b[0m \u001b[1;32min\u001b[0m \u001b[0mself\u001b[0m\u001b[1;33m.\u001b[0m\u001b[0m_get_lines\u001b[0m\u001b[1;33m(\u001b[0m\u001b[1;33m*\u001b[0m\u001b[0margs\u001b[0m\u001b[1;33m,\u001b[0m \u001b[1;33m**\u001b[0m\u001b[0mkwargs\u001b[0m\u001b[1;33m)\u001b[0m\u001b[1;33m:\u001b[0m\u001b[1;33m\u001b[0m\u001b[0m\n\u001b[0m\u001b[0;32m   1425\u001b[0m             \u001b[0mself\u001b[0m\u001b[1;33m.\u001b[0m\u001b[0madd_line\u001b[0m\u001b[1;33m(\u001b[0m\u001b[0mline\u001b[0m\u001b[1;33m)\u001b[0m\u001b[1;33m\u001b[0m\u001b[0m\n\u001b[0;32m   1426\u001b[0m             \u001b[0mlines\u001b[0m\u001b[1;33m.\u001b[0m\u001b[0mappend\u001b[0m\u001b[1;33m(\u001b[0m\u001b[0mline\u001b[0m\u001b[1;33m)\u001b[0m\u001b[1;33m\u001b[0m\u001b[0m\n",
      "\u001b[1;32m/home/brad/.conda/envs/neuraltda/lib/python2.7/site-packages/matplotlib/axes/_base.pyc\u001b[0m in \u001b[0;36m_grab_next_args\u001b[1;34m(self, *args, **kwargs)\u001b[0m\n\u001b[0;32m    384\u001b[0m                 \u001b[1;32mreturn\u001b[0m\u001b[1;33m\u001b[0m\u001b[0m\n\u001b[0;32m    385\u001b[0m             \u001b[1;32mif\u001b[0m \u001b[0mlen\u001b[0m\u001b[1;33m(\u001b[0m\u001b[0mremaining\u001b[0m\u001b[1;33m)\u001b[0m \u001b[1;33m<=\u001b[0m \u001b[1;36m3\u001b[0m\u001b[1;33m:\u001b[0m\u001b[1;33m\u001b[0m\u001b[0m\n\u001b[1;32m--> 386\u001b[1;33m                 \u001b[1;32mfor\u001b[0m \u001b[0mseg\u001b[0m \u001b[1;32min\u001b[0m \u001b[0mself\u001b[0m\u001b[1;33m.\u001b[0m\u001b[0m_plot_args\u001b[0m\u001b[1;33m(\u001b[0m\u001b[0mremaining\u001b[0m\u001b[1;33m,\u001b[0m \u001b[0mkwargs\u001b[0m\u001b[1;33m)\u001b[0m\u001b[1;33m:\u001b[0m\u001b[1;33m\u001b[0m\u001b[0m\n\u001b[0m\u001b[0;32m    387\u001b[0m                     \u001b[1;32myield\u001b[0m \u001b[0mseg\u001b[0m\u001b[1;33m\u001b[0m\u001b[0m\n\u001b[0;32m    388\u001b[0m                 \u001b[1;32mreturn\u001b[0m\u001b[1;33m\u001b[0m\u001b[0m\n",
      "\u001b[1;32m/home/brad/.conda/envs/neuraltda/lib/python2.7/site-packages/matplotlib/axes/_base.pyc\u001b[0m in \u001b[0;36m_plot_args\u001b[1;34m(self, tup, kwargs)\u001b[0m\n\u001b[0;32m    362\u001b[0m             \u001b[0mx\u001b[0m\u001b[1;33m,\u001b[0m \u001b[0my\u001b[0m \u001b[1;33m=\u001b[0m \u001b[0mindex_of\u001b[0m\u001b[1;33m(\u001b[0m\u001b[0mtup\u001b[0m\u001b[1;33m[\u001b[0m\u001b[1;33m-\u001b[0m\u001b[1;36m1\u001b[0m\u001b[1;33m]\u001b[0m\u001b[1;33m)\u001b[0m\u001b[1;33m\u001b[0m\u001b[0m\n\u001b[0;32m    363\u001b[0m \u001b[1;33m\u001b[0m\u001b[0m\n\u001b[1;32m--> 364\u001b[1;33m         \u001b[0mx\u001b[0m\u001b[1;33m,\u001b[0m \u001b[0my\u001b[0m \u001b[1;33m=\u001b[0m \u001b[0mself\u001b[0m\u001b[1;33m.\u001b[0m\u001b[0m_xy_from_xy\u001b[0m\u001b[1;33m(\u001b[0m\u001b[0mx\u001b[0m\u001b[1;33m,\u001b[0m \u001b[0my\u001b[0m\u001b[1;33m)\u001b[0m\u001b[1;33m\u001b[0m\u001b[0m\n\u001b[0m\u001b[0;32m    365\u001b[0m \u001b[1;33m\u001b[0m\u001b[0m\n\u001b[0;32m    366\u001b[0m         \u001b[1;32mif\u001b[0m \u001b[0mself\u001b[0m\u001b[1;33m.\u001b[0m\u001b[0mcommand\u001b[0m \u001b[1;33m==\u001b[0m \u001b[1;34m'plot'\u001b[0m\u001b[1;33m:\u001b[0m\u001b[1;33m\u001b[0m\u001b[0m\n",
      "\u001b[1;32m/home/brad/.conda/envs/neuraltda/lib/python2.7/site-packages/matplotlib/axes/_base.pyc\u001b[0m in \u001b[0;36m_xy_from_xy\u001b[1;34m(self, x, y)\u001b[0m\n\u001b[0;32m    221\u001b[0m         \u001b[0my\u001b[0m \u001b[1;33m=\u001b[0m \u001b[0m_check_1d\u001b[0m\u001b[1;33m(\u001b[0m\u001b[0my\u001b[0m\u001b[1;33m)\u001b[0m\u001b[1;33m\u001b[0m\u001b[0m\n\u001b[0;32m    222\u001b[0m         \u001b[1;32mif\u001b[0m \u001b[0mx\u001b[0m\u001b[1;33m.\u001b[0m\u001b[0mshape\u001b[0m\u001b[1;33m[\u001b[0m\u001b[1;36m0\u001b[0m\u001b[1;33m]\u001b[0m \u001b[1;33m!=\u001b[0m \u001b[0my\u001b[0m\u001b[1;33m.\u001b[0m\u001b[0mshape\u001b[0m\u001b[1;33m[\u001b[0m\u001b[1;36m0\u001b[0m\u001b[1;33m]\u001b[0m\u001b[1;33m:\u001b[0m\u001b[1;33m\u001b[0m\u001b[0m\n\u001b[1;32m--> 223\u001b[1;33m             \u001b[1;32mraise\u001b[0m \u001b[0mValueError\u001b[0m\u001b[1;33m(\u001b[0m\u001b[1;34m\"x and y must have same first dimension\"\u001b[0m\u001b[1;33m)\u001b[0m\u001b[1;33m\u001b[0m\u001b[0m\n\u001b[0m\u001b[0;32m    224\u001b[0m         \u001b[1;32mif\u001b[0m \u001b[0mx\u001b[0m\u001b[1;33m.\u001b[0m\u001b[0mndim\u001b[0m \u001b[1;33m>\u001b[0m \u001b[1;36m2\u001b[0m \u001b[1;32mor\u001b[0m \u001b[0my\u001b[0m\u001b[1;33m.\u001b[0m\u001b[0mndim\u001b[0m \u001b[1;33m>\u001b[0m \u001b[1;36m2\u001b[0m\u001b[1;33m:\u001b[0m\u001b[1;33m\u001b[0m\u001b[0m\n\u001b[0;32m    225\u001b[0m             \u001b[1;32mraise\u001b[0m \u001b[0mValueError\u001b[0m\u001b[1;33m(\u001b[0m\u001b[1;34m\"x and y can be no greater than 2-D\"\u001b[0m\u001b[1;33m)\u001b[0m\u001b[1;33m\u001b[0m\u001b[0m\n",
      "\u001b[1;31mValueError\u001b[0m: x and y must have same first dimension"
     ]
    },
    {
     "data": {
      "image/png": "[encoded data removed]",
      "text/plain": [
       "<matplotlib.figure.Figure at 0x7f92a6e08e50>"
      ]
     },
     "metadata": {},
     "output_type": "display_data"
    }
   ],
   "source": [
    "plt.figure()\n",
    "plt.plot(M1.t/brian2.ms, M1.A_syn[0,1])"
   ]
  },
  {
   "cell_type": "code",
   "execution_count": 262,
   "metadata": {
    "collapsed": false
   },
   "outputs": [
    {
     "data": {
      "text/plain": [
       "<synapses_2.w: array([ 2.40545118,  1.53445147, -1.01387023, -2.68470074, -2.43815981,\n",
       "       -1.47318049,  3.78996401,  1.82690631,  0.25728669,  1.95829694,\n",
       "        0.20244331,  1.10582528,  3.31202199,  1.94822184, -1.03887676,\n",
       "        4.85432534,  1.87584878, -2.50340638, -1.44583061, -2.80653273,\n",
       "       -0.43938181,  0.66955053,  1.13040377, -3.74489001,  2.96038666,\n",
       "        0.58071188, -0.85779984, -2.12981012, -2.66276338, -1.24864777,\n",
       "       -0.23508738, -2.95905887, -1.91406501,  1.28373282,  4.35323615,\n",
       "       -0.93289703,  3.30802135,  0.03437032, -3.09650546, -2.21732855,\n",
       "       -4.20797176, -2.63037154, -2.89026628,  1.44465265,  1.01364613,\n",
       "       -6.52088875, -2.81191475,  1.33982442, -1.56868886,  5.35902859,\n",
       "       -1.46159744, -4.64341986,  2.16007573,  0.11988461, -1.12605389,\n",
       "        4.03959219, -0.55601609, -0.75716424, -1.20997218, -5.04688783,\n",
       "       -5.42555526, -1.00311616, -6.09070848, -1.63902922,  4.68457837,\n",
       "       -3.90896027, -1.27257317, -1.09070894,  1.2280888 , -0.17427197,\n",
       "        2.00072747,  0.20404463, -1.53987632,  0.78156408, -0.10538358,\n",
       "        0.0224139 , -3.29944267, -1.52639851, -0.45019549,  4.77961319,\n",
       "        1.15242808,  2.32928874, -0.07498027,  0.0587167 ,  1.04150924,\n",
       "       -4.66990613,  1.48394563,  3.08991689,  4.24803919, -1.87035151])>"
      ]
     },
     "execution_count": 262,
     "metadata": {},
     "output_type": "execute_result"
    }
   ],
   "source": [
    "sys.S.w"
   ]
  },
  {
   "cell_type": "code",
   "execution_count": 257,
   "metadata": {
    "collapsed": false,
    "scrolled": true
   },
   "outputs": [
    {
     "data": {
      "text/plain": [
       "<synapses_1.w: array([ -3.27814039,   2.29013702,  -1.31245418,   0.11850548,\n",
       "         1.56786035,   2.10634873,  -8.68807077,   2.69458621,\n",
       "         3.15426016,  -0.96871194,  -1.71971747,   0.98740309,\n",
       "         2.93448688,   2.10831864,  -1.24944937,  -4.19229188,\n",
       "        -0.74252609,  -6.0472568 ,   1.28019988,  -2.59568823,\n",
       "         0.5837301 ,   0.54482855,   2.33580105,  -3.5768219 ,\n",
       "         7.29005507,  -2.44674298,  -0.72976822,   1.01725173,\n",
       "        -0.91716052,  -1.30704026,  -1.22450731,   1.31994942,\n",
       "         0.7797835 ,  -2.49318999,   2.12929975,  -2.06551711,\n",
       "         4.55709099,  -1.85194403,  -2.93427214,   2.30789786,\n",
       "         3.18002284,   2.05390189,   3.41428487,  -0.44076334,\n",
       "        -0.98250961,   1.92169528,   2.32951159,   1.3517211 ,\n",
       "         2.36880894,   2.19991262,  -3.98474524,  -0.23433653,\n",
       "        -2.19829513,  -2.85490871,   1.92577781,   0.59356673,\n",
       "        10.80443017,   1.55254608,   2.43672503,  -5.0521599 ,\n",
       "         3.00791488,   0.0325329 ,  -3.62388737,  -4.03388901,\n",
       "         0.20643799,   2.85729325,   1.0890657 ,   3.59081264,\n",
       "        -1.60963754,  -2.37183628,  -2.87474797,  -2.38350437,\n",
       "        -0.51945708,  -1.36649535,  -4.58689258,  -4.89109046,\n",
       "         5.14122688,   1.04299398,  -2.08809459,  -5.58240077,\n",
       "         5.52673653,  -0.74050642,   0.5979023 ,  -0.16919112,\n",
       "         0.587772  ,  -1.57872868,   0.45593186,   4.52555054,\n",
       "         1.68241203,  -0.0884593 ,   5.74371527,   0.07457749,\n",
       "         0.47755393,   1.0888822 ,   1.53789561,  -0.21949675,\n",
       "        -0.37096795,  -4.20069623,   2.19981807,   0.33062817])>"
      ]
     },
     "execution_count": 257,
     "metadata": {},
     "output_type": "execute_result"
    }
   ],
   "source": [
    "sys.S.w"
   ]
  },
  {
   "cell_type": "code",
   "execution_count": null,
   "metadata": {
    "collapsed": true
   },
   "outputs": [],
   "source": []
  }
 ],
 "metadata": {
  "kernelspec": {
   "display_name": "Python 2",
   "language": "python",
   "name": "python2"
  },
  "language_info": {
   "codemirror_mode": {
    "name": "ipython",
    "version": 2
   },
   "file_extension": ".py",
   "mimetype": "text/x-python",
   "name": "python",
   "nbconvert_exporter": "python",
   "pygments_lexer": "ipython2",
   "version": "2.7.13"
  }
 },
 "nbformat": 4,
 "nbformat_minor": 0
}
