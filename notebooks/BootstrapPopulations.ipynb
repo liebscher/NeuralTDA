{
 "cells": [
  {
   "cell_type": "markdown",
   "metadata": {},
   "source": [
    "The purpose of this notebook is to investigate how taking small, random subsets of large population affects the betti curves.  Then we can compare with the results of the smaller populations."
   ]
  },
  {
   "cell_type": "code",
   "execution_count": null,
   "metadata": {
    "collapsed": true
   },
   "outputs": [],
   "source": [
    "import numpy as np\n",
    "import neuraltda.topology2 as tp2\n",
    "\n",
    "import glob\n",
    "import os"
   ]
  },
  {
   "cell_type": "code",
   "execution_count": null,
   "metadata": {},
   "outputs": [],
   "source": [
    "# Set data and parameters\n",
    "block_path = '/home/brad/krista/B1083/P03S03/'\n",
    "\n",
    "# Binning Parameters\n",
    "windt = 10.0             # milliseconds\n",
    "dtovr = 0.5*windt        # milliseconds\n",
    "segment_info = [0, 0]    # use full Trial\n",
    "cluster_group = ['Good'] # use just good clusters\n",
    "comment = 'BSPop'        # BootStrap Populations\n",
    "\n",
    "# Betti Parameters\n",
    "nperms_subsample = 1                  # 1 permutation for each trial\n",
    "ncellsperm_subsample = 33             # Subsample 33 neurons from the population\n",
    "nperms_full = 0                       # For the full population\n",
    "dims = [0, 1, 2, 3]                   # We want first four betti numbers\n",
    "thresh = 4.0                          # Activation threshold\n",
    "twin = np.linspace(0, 6000, 1000)     # milliseconds"
   ]
  },
  {
   "cell_type": "code",
   "execution_count": null,
   "metadata": {},
   "outputs": [],
   "source": [
    "# Bin the data\n",
    "\n",
    "bfdict = tp2.bin_data(block_path, windt, segment_info,\n",
    "                      dt_overlap=dtovr, cluster_group=cluster_group, comment=comment)\n"
   ]
  },
  {
   "cell_type": "code",
   "execution_count": null,
   "metadata": {
    "scrolled": false
   },
   "outputs": [],
   "source": [
    "# Compute Betti Curves\n",
    "\n",
    "# Extract paths to binned data\n",
    "analysis_id = bfdict['analysis_id']\n",
    "bdf = glob.glob(os.path.join(bfdict['raw'], '*.binned'))[0]\n",
    "\n",
    "# Compute betti curves for subsample population\n",
    "(betti_curves_subsample, t_vals, tvms) = tp2.compute_betti_curves(analysis_id, block_path, bdf,\n",
    "                                                  thresh, nperms_subsample, ncellsperm_subsample,\n",
    "                                                  dims, twin, windt, dtovr)\n",
    "\n",
    "# Compute betti curves for full population\n",
    "(betti_curves_full, t_vals, tvms) = tp2.compute_betti_curves(analysis_id, block_path, bdf,\n",
    "                                             thresh, nperms_subsample, ncellsperm_subsample,\n",
    "                                             dims, twin, windt, dtovr)"
   ]
  },
  {
   "cell_type": "code",
   "execution_count": null,
   "metadata": {},
   "outputs": [],
   "source": []
  }
 ],
 "metadata": {
  "kernelspec": {
   "display_name": "Python 3",
   "language": "python",
   "name": "python3"
  },
  "language_info": {
   "codemirror_mode": {
    "name": "ipython",
    "version": 3
   },
   "file_extension": ".py",
   "mimetype": "text/x-python",
   "name": "python",
   "nbconvert_exporter": "python",
   "pygments_lexer": "ipython3",
   "version": "3.6.2"
  }
 },
 "nbformat": 4,
 "nbformat_minor": 2
}
