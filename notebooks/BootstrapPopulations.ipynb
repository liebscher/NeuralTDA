{
 "cells": [
  {
   "cell_type": "markdown",
   "metadata": {},
   "source": [
    "The purpose of this notebook is to investigate how taking small, random subsets of large population affects the betti curves.  Then we can compare with the results of the smaller populations."
   ]
  },
  {
   "cell_type": "code",
   "execution_count": 9,
   "metadata": {},
   "outputs": [
    {
     "name": "stdout",
     "output_type": "stream",
     "text": [
      "/home/brad/DailyLog/20171011/\n"
     ]
    }
   ],
   "source": [
    "import numpy as np\n",
    "import neuraltda.topology2 as tp2\n",
    "import neuraltda.plotting as tpplt\n",
    "\n",
    "import glob\n",
    "import os\n",
    "import datetime\n",
    "import matplotlib.pyplot as plt\n",
    "%matplotlib inline\n",
    "\n",
    "# Setup figure save path\n",
    "daystr = datetime.datetime.now().strftime('%Y%m%d')\n",
    "figsavepth = '/home/brad/DailyLog/'+daystr+'/'\n",
    "print(figsavepth)"
   ]
  },
  {
   "cell_type": "code",
   "execution_count": 3,
   "metadata": {
    "collapsed": true
   },
   "outputs": [],
   "source": [
    "# Set data and parameters\n",
    "block_path = '/home/brad/krista/B1083/P03S03/'\n",
    "\n",
    "# Binning Parameters\n",
    "windt = 10.0             # milliseconds\n",
    "dtovr = 0.5*windt        # milliseconds\n",
    "segment_info = [0, 0]    # use full Trial\n",
    "cluster_group = ['Good'] # use just good clusters\n",
    "comment = 'BSPop'        # BootStrap Populations\n",
    "\n",
    "# Betti Parameters\n",
    "nperms_subsample = 1                  # 1 permutation for each trial\n",
    "ncellsperm_subsample = 33             # Subsample 33 neurons from the population\n",
    "nperms_full = 0                       # For the full population\n",
    "dims = [0, 1, 2, 3]                   # We want first four betti numbers\n",
    "thresh = 4.0                          # Activation threshold\n",
    "twin = np.linspace(0, 6000, 1000)     # milliseconds"
   ]
  },
  {
   "cell_type": "code",
   "execution_count": 4,
   "metadata": {
    "collapsed": true
   },
   "outputs": [],
   "source": [
    "# Bin the data\n",
    "\n",
    "bfdict = tp2.bin_data(block_path, windt, segment_info,\n",
    "                      dt_overlap=dtovr, cluster_group=cluster_group, comment=comment)\n"
   ]
  },
  {
   "cell_type": "code",
   "execution_count": 13,
   "metadata": {
    "collapsed": true,
    "scrolled": false
   },
   "outputs": [],
   "source": [
    "# Compute Betti Curves\n",
    "\n",
    "# Extract paths to binned data\n",
    "analysis_id = bfdict['analysis_id']\n",
    "bdf = glob.glob(os.path.join(bfdict['raw'], '*.binned'))[0]\n",
    "\n",
    "# Compute betti curves for subsample population\n",
    "(betti_curves_subsample, t_vals, t_ms) = tp2.compute_betti_curves(analysis_id, block_path, bdf,\n",
    "                                                  thresh, nperms_subsample, ncellsperm_subsample,\n",
    "                                                  dims, twin, windt, dtovr)\n",
    "\n",
    "# Compute betti curves for full population\n",
    "(betti_curves_full, t_vals, t_ms) = tp2.compute_betti_curves(analysis_id, block_path, bdf,\n",
    "                                             thresh, nperms_full, ncellsperm_subsample,\n",
    "                                             dims, twin, windt, dtovr)"
   ]
  },
  {
   "cell_type": "code",
   "execution_count": 14,
   "metadata": {},
   "outputs": [
    {
     "data": {
      "image/png": "[encoded data removed]",
      "text/plain": [
       "<matplotlib.figure.Figure at 0x7fb0c4b573c8>"
      ]
     },
     "metadata": {},
     "output_type": "display_data"
    }
   ],
   "source": [
    "# Plot full versus subsampled population betti curves\n",
    "# This serves as a useful template for betti curve plottinggg\n",
    "\n",
    "# Generate figure and axes\n",
    "fig, axs = plt.subplots(1,2, figsize=(16, 3.5), sharey=True)\n",
    "axs = axs.flatten()\n",
    "\n",
    "betti = 2                          # Betti number to plot\n",
    "stims = np.array(list(betti_curves_subsample.keys()))  # Stimuli names\n",
    "stimIDs = [2, 3]                   # ID numbers of stimuli to plot\n",
    "stims_to_plot = stims[stimIDs]     # names of stimuli to plot\n",
    "\n",
    "# Compute the mean and stderr\n",
    "bcsub_plot_dict = tp2.compute_mean_stderr_betti_curves(betti_curves_subsample)     # Real curves \n",
    "bcf_plot_dict = tp2.compute_mean_stderr_betti_curves(betti_curves_full)   # Shuffled curves \n",
    "\n",
    "# Plot the curves\n",
    "for ind, stim in enumerate(stims_to_plot):\n",
    "    ax = axs[ind]\n",
    "    tpplt.plot_betti_curve(bcsub_plot_dict, t_ms, stim, betti, ax)\n",
    "    tpplt.plot_betti_curve(bcf_plot_dict, t_ms, stim, betti, ax)\n"
   ]
  },
  {
   "cell_type": "code",
   "execution_count": null,
   "metadata": {
    "collapsed": true
   },
   "outputs": [],
   "source": [
    "# Compare subsampled large N bird to small N bird (B1075)\n",
    "block_path_B1075 = '/home/brad/krista/B1075/P01S03/'\n",
    "\n",
    "bfdict = tp2.bin_data(block_path, windt, segment_info,\n",
    "                      dt_overlap=dtovr, cluster_group=cluster_group, comment=comment)\n",
    "\n",
    "# Compute betti curves for full population\n",
    "(betti_curves_full, t_vals, t_ms) = tp2.compute_betti_curves(analysis_id, block_path, bdf,\n",
    "                                             thresh, nperms_full, ncellsperm_subsample,\n",
    "                                             dims, twin, windt, dtovr)\n"
   ]
  }
 ],
 "metadata": {
  "kernelspec": {
   "display_name": "Python 3",
   "language": "python",
   "name": "python3"
  },
  "language_info": {
   "codemirror_mode": {
    "name": "ipython",
    "version": 3
   },
   "file_extension": ".py",
   "mimetype": "text/x-python",
   "name": "python",
   "nbconvert_exporter": "python",
   "pygments_lexer": "ipython3",
   "version": "3.6.2"
  }
 },
 "nbformat": 4,
 "nbformat_minor": 2
}
