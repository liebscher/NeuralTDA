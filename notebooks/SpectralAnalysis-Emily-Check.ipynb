{
 "cells": [
  {
   "cell_type": "code",
   "execution_count": 1,
   "metadata": {
    "collapsed": false
   },
   "outputs": [
    {
     "name": "stdout",
     "output_type": "stream",
     "text": [
      "['/mnt/cube/btheilma/emily/B604/klusta/phy103116/Pen01_Lft_AP2300_ML1250__Site15_Z2780__B604_cat_P01_S15_1/scg/20170509T154454Z-10.0-5.0-13.0-SD-incorrect-narrow-shuffle.scg', '/mnt/cube/btheilma/emily/B604/klusta/phy103116/Pen01_Lft_AP2300_ML1250__Site15_Z2780__B604_cat_P01_S15_1/scg/20170509T154454Z-10.0-5.0-13.0-SD-incorrect-wide-shuffle.scg', '/mnt/cube/btheilma/emily/B604/klusta/phy103116/Pen01_Lft_AP2300_ML1250__Site15_Z2780__B604_cat_P01_S15_1/scg/20170503T170803Z-10.0-5.0-13.0-Targ-correct-wide-shuffle.scg', '/mnt/cube/btheilma/emily/B604/klusta/phy103116/Pen01_Lft_AP2300_ML1250__Site15_Z2780__B604_cat_P01_S15_1/scg/20170508T205931Z-10.0-5.0-13.0-SD-correct-narrow.scg', '/mnt/cube/btheilma/emily/B604/klusta/phy103116/Pen01_Lft_AP2300_ML1250__Site15_Z2780__B604_cat_P01_S15_1/scg/20170508T205931Z-10.0-5.0-13.0-SD-correct-wide.scg', '/mnt/cube/btheilma/emily/B604/klusta/phy103116/Pen01_Lft_AP2300_ML1250__Site15_Z2780__B604_cat_P01_S15_1/scg/20170503T170803Z-10.0-5.0-13.0-Targ-correct-narrow.scg', '/mnt/cube/btheilma/emily/B604/klusta/phy103116/Pen01_Lft_AP2300_ML1250__Site15_Z2780__B604_cat_P01_S15_1/scg/20170503T172913Z-10.0-5.0-13.0-Targ-incorrect-wide.scg', '/mnt/cube/btheilma/emily/B604/klusta/phy103116/Pen01_Lft_AP2300_ML1250__Site15_Z2780__B604_cat_P01_S15_1/scg/20170503T172913Z-10.0-5.0-13.0-Targ-incorrect-wide-shuffle.scg', '/mnt/cube/btheilma/emily/B604/klusta/phy103116/Pen01_Lft_AP2300_ML1250__Site15_Z2780__B604_cat_P01_S15_1/scg/20170503T170803Z-10.0-5.0-13.0-Targ-correct-wide.scg', '/mnt/cube/btheilma/emily/B604/klusta/phy103116/Pen01_Lft_AP2300_ML1250__Site15_Z2780__B604_cat_P01_S15_1/scg/20170508T195953Z-10.0-5.0-13.0-SD-incorrect-wide.scg', '/mnt/cube/btheilma/emily/B604/klusta/phy103116/Pen01_Lft_AP2300_ML1250__Site15_Z2780__B604_cat_P01_S15_1/scg/20170322T165428Z-10.0-5.0-13.0.scg', '/mnt/cube/btheilma/emily/B604/klusta/phy103116/Pen01_Lft_AP2300_ML1250__Site15_Z2780__B604_cat_P01_S15_1/scg/20170508T205931Z-10.0-5.0-13.0-SD-correct-narrow-shuffle.scg', '/mnt/cube/btheilma/emily/B604/klusta/phy103116/Pen01_Lft_AP2300_ML1250__Site15_Z2780__B604_cat_P01_S15_1/scg/20170508T195953Z-10.0-5.0-13.0-SD-incorrect-narrow.scg', '/mnt/cube/btheilma/emily/B604/klusta/phy103116/Pen01_Lft_AP2300_ML1250__Site15_Z2780__B604_cat_P01_S15_1/scg/20170503T170803Z-10.0-5.0-13.0-Targ-correct-narrow-shuffle.scg', '/mnt/cube/btheilma/emily/B604/klusta/phy103116/Pen01_Lft_AP2300_ML1250__Site15_Z2780__B604_cat_P01_S15_1/scg/20170508T205931Z-10.0-5.0-13.0-SD-correct-wide-shuffle.scg', '/mnt/cube/btheilma/emily/B604/klusta/phy103116/Pen01_Lft_AP2300_ML1250__Site15_Z2780__B604_cat_P01_S15_1/scg/20170503T172913Z-10.0-5.0-13.0-Targ-incorrect-narrow.scg', '/mnt/cube/btheilma/emily/B604/klusta/phy103116/Pen01_Lft_AP2300_ML1250__Site15_Z2780__B604_cat_P01_S15_1/scg/20170503T172913Z-10.0-5.0-13.0-Targ-incorrect-narrow-shuffle.scg']\n"
     ]
    }
   ],
   "source": [
    "import neuraltda.simpComp as sc\n",
    "import neuraltda.topology2 as tp2\n",
    "import neuraltda.spectralAnalysis as sa\n",
    "import pickle\n",
    "import glob\n",
    "import os\n",
    "import numpy as np\n",
    "import scipy as sp\n",
    "import matplotlib.pyplot as plt\n",
    "import seaborn as sns\n",
    "import h5py as h5\n",
    "import tqdm\n",
    "%matplotlib inline\n",
    "reload(sa)\n",
    "reload(sc)\n",
    "\n",
    "blockPath = '/Volumes/gentner/btheilma/experiments/B1235/phy051316/Pen02_Lft_AP200_ML800__Site01_Z3000__B1235_cat_P02_S01_1/'\n",
    "\n",
    "blockPath = '/mnt/cube/btheilma/emily/B604/klusta/phy103116/Pen01_Lft_AP2300_ML1250__Site16_Z2865__B604_cat_P01_S16_1/'\n",
    "blockPath = '/mnt/cube/btheilma/emily/B604/klusta/phy103116/Pen01_Lft_AP2300_ML1250__Site15_Z2780__B604_cat_P01_S15_1/'\n",
    "#Load simplicial chain generator dictionary\n",
    "scgfss = glob.glob(os.path.join(blockPath, 'scg/*.scg'))\n",
    "print(scgfss)"
   ]
  },
  {
   "cell_type": "code",
   "execution_count": 2,
   "metadata": {
    "collapsed": false
   },
   "outputs": [
    {
     "name": "stdout",
     "output_type": "stream",
     "text": [
      "{'Targ': ['Targ-correct-wide.scg', 'Targ-correct-narrow.scg', 'Targ-incorrect-wide.scg', 'Targ-incorrect-narrow.scg'], 'SD': ['SD-correct-wide.scg', 'SD-correct-narrow.scg', 'SD-incorrect-wide.scg', 'SD-incorrect-narrow.scg']}\n"
     ]
    }
   ],
   "source": [
    "apdict = {'A':'active', 'P':'passive'}\n",
    "cidict = {'C':'correct', 'I':'incorrect'}\n",
    "widthdict= {'W':'wide', 'N':'narrow', 'B':''}\n",
    "periods = ['SD', 'Targ']\n",
    "widths = ['W', 'N', 'B']\n",
    "widths = ['W', 'N']\n",
    "ap = ['A', 'P']\n",
    "ci = ['C', 'I']\n",
    "fnames = {}\n",
    "for p in periods:\n",
    "    k = []\n",
    "    for a in ci:\n",
    "        for w in widths:\n",
    "            if w == 'B':\n",
    "                q = ''\n",
    "            else:\n",
    "                q = '-{}'.format(widthdict[w])\n",
    "            k.append(p + '-' + cidict[a] + q +'.scg')\n",
    "    fnames[p] = k\n",
    "print(fnames)"
   ]
  },
  {
   "cell_type": "code",
   "execution_count": 3,
   "metadata": {
    "collapsed": true
   },
   "outputs": [],
   "source": [
    "def JS_vs_beta_pairwise(beta, stim, scgSD, scgT, d):\n",
    "    divsave = []\n",
    "    divincsave = []\n",
    "    diffsave = []\n",
    "    ntrials = min([len(scgSD[stim]), len(scgT[stim])])\n",
    "    for ind in range(ntrials):\n",
    "            #print(stim1, t1, stim2, t2)\n",
    "        scgA = scgSD[stim][ind] #SD\n",
    "        scgB = scgT[stim][ind] #Targ\n",
    "        div = sa.compute_JS_expanded(scgA, scgB, d, beta)\n",
    "        divsave.append(float(div))\n",
    "    m1 = np.mean(divsave)\n",
    "    sd1 = np.std(divsave)\n",
    "\n",
    "    return divsave"
   ]
  },
  {
   "cell_type": "code",
   "execution_count": null,
   "metadata": {
    "collapsed": false
   },
   "outputs": [
    {
     "name": "stdout",
     "output_type": "stream",
     "text": [
      "('/mnt/cube/btheilma/emily/B604/klusta/phy103116/Pen01_Lft_AP2300_ML1250__Site15_Z2780__B604_cat_P01_S15_1/scg/20170508T205931Z-10.0-5.0-13.0-SD-correct-wide.scg', '/mnt/cube/btheilma/emily/B604/klusta/phy103116/Pen01_Lft_AP2300_ML1250__Site15_Z2780__B604_cat_P01_S15_1/scg/20170503T170803Z-10.0-5.0-13.0-Targ-correct-wide.scg')\n"
     ]
    },
    {
     "name": "stderr",
     "output_type": "stream",
     "text": [
      "\r",
      "  0%|          | 0/20 [00:00<?, ?it/s]"
     ]
    },
    {
     "name": "stdout",
     "output_type": "stream",
     "text": [
      "[u'T40S40D3', u'T3S8D40', u'T3S3D-1', u'T40S70D-1', u'T3S3D40', u'T40S70D3', u'T3S8D-1', u'T40S40D-1']\n",
      "[u'T40S40D3', u'T3S8D40', u'T3S3D-1', u'T40S70D-1', u'T3S3D40', u'T40S70D3', u'T3S8D-1', u'T40S40D-1']\n",
      "T40S40D3\n"
     ]
    },
    {
     "name": "stderr",
     "output_type": "stream",
     "text": [
      "100%|██████████| 20/20 [00:30<00:00,  1.34s/it]\n",
      "  0%|          | 0/20 [00:00<?, ?it/s]"
     ]
    },
    {
     "name": "stdout",
     "output_type": "stream",
     "text": [
      "T3S8D40\n"
     ]
    }
   ],
   "source": [
    "AllSave = {}\n",
    "for tc, sdc in zip(fnames['Targ'], fnames['SD']):\n",
    "    sdfile = glob.glob(os.path.join(blockPath, 'scg/*-'+sdc))[0]\n",
    "    tfile = glob.glob(os.path.join(blockPath, 'scg/*-'+tc))[0]\n",
    "    print((sdfile, tfile))\n",
    "    with open(sdfile, 'r') as scgf:\n",
    "        scgSD = pickle.load(scgf)\n",
    "    \n",
    "    with open(tfile, 'r') as scgf:\n",
    "        scgT = pickle.load(scgf)\n",
    "    stims = scgSD.keys()\n",
    "    print(stims)\n",
    "    stims2 = scgT.keys()\n",
    "    print(stims2)\n",
    "    betas = np.linspace(0.001, 1,20)\n",
    "\n",
    "    msdActSave = {}\n",
    "    msdPassSave = []\n",
    "    for stim in stims:\n",
    "        print(stim)\n",
    "        msdAct = []\n",
    "        msdPass = []\n",
    "        for beta in tqdm.tqdm(betas):\n",
    "            divsave = JS_vs_beta_pairwise(-1.0*beta, stim, scgSD, scgT, 1)\n",
    "            msdAct.append(divsave)\n",
    "        msdActSave[stim] = np.array(msdAct)\n",
    "    AllSave[tc] = msdActSave\n",
    "    \n",
    "import pickle\n",
    "with open('B604_1SLSE_pairwise_comparisons_version3_negativeBeta.pkl', 'wb') as out:\n",
    "    pickle.dump(AllSave, out)\n",
    "    "
   ]
  },
  {
   "cell_type": "code",
   "execution_count": null,
   "metadata": {
    "collapsed": true
   },
   "outputs": [],
   "source": [
    "# Plot mean JSD on correct / Incorrect\n",
    "#wide\n",
    "with open('B604_1SLSE_pairwise_comparisons_version2_negativeBeta.pkl', 'r') as out:\n",
    "    AllSave=pickle.load(out)\n",
    "    \n",
    "with open('B604_1SLSE_pairwise_comparisons_shuffled_negativeBeta.pkl', 'r') as out:\n",
    "    AllSaveShuff=pickle.load(out)\n",
    "    \n",
    "#with open('B604_1SLSE_pairwise_comparisons.pkl', 'r') as out:\n",
    "#    AllSave=pickle.load(out)\n",
    "    \n",
    "#with open('B604_1SLSE_pairwise_comparisons_shuffled.pkl', 'r') as out:\n",
    "#    AllSaveShuff=pickle.load(out)\n",
    "\n",
    "diffsave_wide = []\n",
    "diffsave_narrow = []\n",
    "diffsave_wide_correct = []\n",
    "diffsave_wide_incorrect = []\n",
    "diffsave_narrow_correct = []\n",
    "diffsave_narrow_incorrect = []\n",
    "dat_wide = {}\n",
    "dat_narrow = {}\n",
    "dat_wide_correct = {}\n",
    "dat_narrow_correct = {}\n",
    "dat_wide_incorrect = {}\n",
    "dat_narrow_incorrect = {}\n",
    "cw = AllSave['Targ-correct-wide.scg']\n",
    "xw = AllSave['Targ-incorrect-wide.scg'] # incorrect\n",
    "cn = AllSave['Targ-correct-narrow.scg']\n",
    "xn = AllSave['Targ-incorrect-narrow.scg']\n",
    "cws = AllSaveShuff['Targ-correct-wide-shuffle.scg']\n",
    "cns = AllSaveShuff['Targ-correct-narrow-shuffle.scg']\n",
    "xws = AllSaveShuff['Targ-incorrect-wide-shuffle.scg']\n",
    "xns = AllSaveShuff['Targ-incorrect-narrow-shuffle.scg']\n",
    "for stim in cw.keys():\n",
    "    cwt = cw[stim]\n",
    "    cnt = cn[stim]\n",
    "    xwt = xw[stim]\n",
    "    xnt = xn[stim] #trials\n",
    "    \n",
    "    cwts = cws[stim]\n",
    "    cnts = cns[stim]\n",
    "    xwts = xws[stim]\n",
    "    xnts = xns[stim] #trials\n",
    "   \n",
    "    meanJSD_cw = np.mean(cwt, axis=1)\n",
    "    meanJSD_cn = np.mean(cnt, axis=1)\n",
    "    meanJSD_xw = np.mean(xwt, axis=1)\n",
    "    meanJSD_xn = np.mean(xnt, axis=1)\n",
    "    semJSD_cw = np.std(cwt, axis=1) / np.sqrt(np.shape(cwt)[1])\n",
    "    semJSD_cn = np.std(cnt, axis=1) / np.sqrt(np.shape(cnt)[1])\n",
    "    semJSD_xw = np.std(xwt, axis=1) / np.sqrt(np.shape(xwt)[1])\n",
    "    semJSD_xn = np.std(xnt, axis=1) / np.sqrt(np.shape(xnt)[1])\n",
    "    \n",
    "    meanJSD_cws = np.mean(cwts, axis=1)\n",
    "    meanJSD_cns = np.mean(cnts, axis=1)\n",
    "    meanJSD_xws = np.mean(xwts, axis=1)\n",
    "    meanJSD_xns = np.mean(xnts, axis=1)\n",
    "    semJSD_cws = np.std(cwts, axis=1) / np.sqrt(np.shape(cwts)[1])\n",
    "    semJSD_cns = np.std(cnts, axis=1) / np.sqrt(np.shape(cnts)[1])\n",
    "    semJSD_xws = np.std(xwts, axis=1) / np.sqrt(np.shape(xwts)[1])\n",
    "    semJSD_xns = np.std(xnts, axis=1) / np.sqrt(np.shape(xnts)[1])\n",
    "    \n",
    "    semJSD_diff_cw = np.sqrt(np.square(semJSD_cw) + np.square(semJSD_cws))\n",
    "    semJSD_diff_xw = np.sqrt(np.square(semJSD_xw) + np.square(semJSD_xws))\n",
    "    semJSD_diff_cn = np.sqrt(np.square(semJSD_cn) + np.square(semJSD_cns))\n",
    "    semJSD_diff_xn = np.sqrt(np.square(semJSD_xn) + np.square(semJSD_xns))\n",
    "    \n",
    "    plt.figure()\n",
    "    plt.errorbar(betas, meanJSD_cw, yerr=semJSD_cw, fmt='g', label='Correct Wide')\n",
    "    plt.errorbar(betas, meanJSD_xw, yerr=semJSD_xw, fmt='k', label='Incorrect Wide')\n",
    "    plt.errorbar(betas, meanJSD_cws, yerr=semJSD_cws, fmt='g--', label='Correct Wide Shuffle')\n",
    "    plt.errorbar(betas, meanJSD_xws, yerr=semJSD_xws, fmt='k--', label='Incorrect Wide Shuffle')\n",
    "    plt.title(stim)\n",
    "    plt.legend(loc='best')\n",
    "    plt.xlabel('Beta')\n",
    "    plt.ylabel('Mean JS Divergence')\n",
    "    plt.savefig('/home/brad/figures/figures_v2/B604_P01S15_meanJSD_dim1_negativeB_CvsX_wide_{}.png'.format(stim))\n",
    "    \n",
    "    plt.figure()\n",
    "    plt.errorbar(betas, meanJSD_cn, yerr=semJSD_cn, fmt='g', label='Correct Narrow')\n",
    "    plt.errorbar(betas, meanJSD_xn, yerr=semJSD_xn, fmt='k', label='Incorrect Narrow')\n",
    "    plt.errorbar(betas, meanJSD_cns, yerr=semJSD_cns, fmt='g--', label='Correct Narrow Shuffle')\n",
    "    plt.errorbar(betas, meanJSD_xns, yerr=semJSD_xns, fmt='k--', label='Incorrect Narrow Shuffle')\n",
    "    plt.title(stim)\n",
    "    plt.legend(loc='best')\n",
    "    plt.xlabel('Beta')\n",
    "    plt.ylabel('Mean JS Divergence')\n",
    "    plt.savefig('/home/brad/figures/figures_v2/B604_P01S15_meanJSD_dim1_negativeB_CvsX_narrow_{}.png'.format(stim))\n",
    "    \n",
    "    plt.figure()\n",
    "    plt.errorbar(betas, meanJSD_cw - meanJSD_cws, yerr=semJSD_diff_cw, fmt='g', label='Correct Wide')\n",
    "    plt.errorbar(betas, meanJSD_xw - meanJSD_xws, yerr=semJSD_diff_xw, fmt='k', label='Incorrect Wide')\n",
    "    plt.title(stim +' Subtract Shuffle')\n",
    "    plt.legend(loc='best')\n",
    "    plt.xlabel('Beta')\n",
    "    plt.ylabel('Mean JS Divergence')\n",
    "    plt.ylim([-0.1, 0.55])\n",
    "    plt.savefig('/home/brad/figures/figures_v2/B604_P01S15_meanJSD_dim1_negativeB_subShuff_CvsX_wide_{}.png'.format(stim))\n",
    "    \n",
    "    plt.figure()\n",
    "    plt.errorbar(betas, meanJSD_cn - meanJSD_cns, yerr=semJSD_diff_cn, fmt='g', label='Correct Narrow')\n",
    "    plt.errorbar(betas, meanJSD_xn - meanJSD_xns, yerr=semJSD_diff_xn, fmt='k', label='Incorrect Narrow')\n",
    "    plt.title(stim +' Subtract Shuffle')\n",
    "    plt.legend(loc='best')\n",
    "    plt.xlabel('Beta')\n",
    "    plt.ylabel('Mean JS Divergence')\n",
    "    plt.ylim([-0.1, 0.55])\n",
    "    plt.savefig('/home/brad/figures/figures_v2/B604_P01S15_meanJSD_dim1_negativeB_subShuff_CvsX_narrow_{}.png'.format(stim))"
   ]
  }
 ],
 "metadata": {
  "kernelspec": {
   "display_name": "Python 2",
   "language": "python",
   "name": "python2"
  },
  "language_info": {
   "codemirror_mode": {
    "name": "ipython",
    "version": 2
   },
   "file_extension": ".py",
   "mimetype": "text/x-python",
   "name": "python",
   "nbconvert_exporter": "python",
   "pygments_lexer": "ipython2",
   "version": "2.7.13"
  }
 },
 "nbformat": 4,
 "nbformat_minor": 0
}
