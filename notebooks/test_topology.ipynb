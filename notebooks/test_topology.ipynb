{
 "cells": [
  {
   "cell_type": "code",
   "execution_count": 1,
   "metadata": {
    "collapsed": false
   },
   "outputs": [
    {
     "data": {
      "text/plain": [
       "<module 'ephys.rasters' from '/home/brad/code/ephys-analysis/ephys/rasters.pyc'>"
      ]
     },
     "execution_count": 1,
     "metadata": {},
     "output_type": "execute_result"
    }
   ],
   "source": [
    "import neuraltda.test_pipeline as ttop\n",
    "import numpy as np\n",
    "import neuraltda.topology as tp\n",
    "import neuraltda.topology_plots as tplot\n",
    "from ephys import rasters, spiketrains\n",
    "import h5py as h5\n",
    "import matplotlib.pyplot as plt\n",
    "%matplotlib inline\n",
    "reload(ttop)\n",
    "reload(tp)\n",
    "reload(rasters)"
   ]
  },
  {
   "cell_type": "markdown",
   "metadata": {},
   "source": [
    "# Generate Test Dataset"
   ]
  },
  {
   "cell_type": "code",
   "execution_count": 2,
   "metadata": {
    "collapsed": false
   },
   "outputs": [],
   "source": [
    "block_path = '/home/brad/experiments/B999/'\n",
    "kwikfile = 'B999_S00_P00.kwik'\n",
    "bin_id = '0801161542'\n",
    "bin_def_file = '/home/brad/code/NeuralTDA/standard_good_binnings.txt'\n",
    "n_cells = 60\n",
    "maxt = 10\n",
    "fs = 24000.0\n",
    "dthetadt = 1*np.pi/6\n",
    "kappa = 5\n",
    "maxfr = 100\n",
    "ncellperm = 40\n",
    "nperms = 1\n",
    "ntrials = 4"
   ]
  },
  {
   "cell_type": "code",
   "execution_count": 3,
   "metadata": {
    "collapsed": false
   },
   "outputs": [
    {
     "name": "stderr",
     "output_type": "stream",
     "text": [
      "/home/brad/.conda/envs/neuraltda/lib/python2.7/site-packages/numpy/lib/shape_base.py:873: VisibleDeprecationWarning: using a non-integer number instead of an integer will result in an error in the future\n",
      "  return c.reshape(shape_out)\n",
      "/home/brad/code/NeuralTDA/neuraltda/test_pipeline.py:47: FutureWarning: sort(columns=....) is deprecated, use sort_values(by=.....)\n",
      "  spikes_dataframe = spikes_dataframe.sort(columns='time_samples')\n"
     ]
    }
   ],
   "source": [
    "spikes, clusters, trials = ttop.generate_test_dataset(n_cells, maxt, fs, dthetadt, kappa, maxfr, ntrials)"
   ]
  },
  {
   "cell_type": "code",
   "execution_count": 4,
   "metadata": {
    "collapsed": false
   },
   "outputs": [
    {
     "name": "stdout",
     "output_type": "stream",
     "text": [
      "   cluster  recording  time_samples\n",
      "0      4.0        0.0           8.0\n",
      "1      5.0        0.0          39.0\n",
      "2     53.0        0.0          46.0\n",
      "3      1.0        0.0          79.0\n",
      "4      5.0        0.0         111.0\n",
      "   cluster quality\n",
      "0        0    Good\n",
      "1        1    Good\n",
      "2        2    Good\n",
      "3        3    Good\n",
      "4        4    Good\n",
      "                 stimulus  stimulus_end  time_samples\n",
      "0  test_pipeline_stimulus      240000.0           0.0\n",
      "1  test_pipeline_stimulus      576000.0      336000.0\n",
      "2  test_pipeline_stimulus      912000.0      672000.0\n",
      "3  test_pipeline_stimulus     1248000.0     1008000.0\n"
     ]
    }
   ],
   "source": [
    "print spikes.head()\n",
    "print clusters.head()\n",
    "print trials.head()"
   ]
  },
  {
   "cell_type": "markdown",
   "metadata": {},
   "source": [
    "# Test Topology2"
   ]
  },
  {
   "cell_type": "code",
   "execution_count": 6,
   "metadata": {
    "collapsed": false
   },
   "outputs": [],
   "source": [
    "import neuraltda.topology2 as tp2\n",
    "poptens_fname = '/home/brad/testing/poptenstest.binned'\n",
    "popvec_fname = '/home/brad/testing/popvectest.binned'\n",
    "clugroup = ['Good']\n",
    "seginf = {'period': 1}\n",
    "dtOverlap = 0.0\n",
    "winsize = 25.0\n",
    "\n",
    "bfdict = tp2.do_dag_bin(block_path, spikes, trials, clusters, fs, winsize,\n",
    "                       seginf, 0, 0, 0)"
   ]
  },
  {
   "cell_type": "code",
   "execution_count": 8,
   "metadata": {
    "collapsed": false
   },
   "outputs": [
    {
     "ename": "NameError",
     "evalue": "global name 'analysis_id' is not defined",
     "output_type": "error",
     "traceback": [
      "\u001b[1;31m---------------------------------------------------------------------------\u001b[0m",
      "\u001b[1;31mNameError\u001b[0m                                 Traceback (most recent call last)",
      "\u001b[1;32m<ipython-input-8-d67a046f724e>\u001b[0m in \u001b[0;36m<module>\u001b[1;34m()\u001b[0m\n\u001b[0;32m      1\u001b[0m \u001b[0mreload\u001b[0m\u001b[1;33m(\u001b[0m\u001b[0mtp2\u001b[0m\u001b[1;33m)\u001b[0m\u001b[1;33m\u001b[0m\u001b[0m\n\u001b[1;32m----> 2\u001b[1;33m \u001b[0mtp2\u001b[0m\u001b[1;33m.\u001b[0m\u001b[0mdag_topology\u001b[0m\u001b[1;33m(\u001b[0m\u001b[0mblock_path\u001b[0m\u001b[1;33m,\u001b[0m \u001b[1;36m4.0\u001b[0m\u001b[1;33m,\u001b[0m \u001b[0mbfdict\u001b[0m\u001b[1;33m)\u001b[0m\u001b[1;33m\u001b[0m\u001b[0m\n\u001b[0m",
      "\u001b[1;32m/home/brad/code/NeuralTDA/neuraltda/topology2.py\u001b[0m in \u001b[0;36mdag_topology\u001b[1;34m(block_path, thresh, bfdict, simplexWinSize)\u001b[0m\n\u001b[0;32m    799\u001b[0m             \u001b[0manalysis_dict\u001b[0m\u001b[1;33m[\u001b[0m\u001b[1;34m'raw'\u001b[0m\u001b[1;33m]\u001b[0m \u001b[1;33m=\u001b[0m \u001b[0mres\u001b[0m\u001b[1;33m\u001b[0m\u001b[0m\n\u001b[0;32m    800\u001b[0m \u001b[1;33m\u001b[0m\u001b[0m\n\u001b[1;32m--> 801\u001b[1;33m     \u001b[0mmaster_fname\u001b[0m \u001b[1;33m=\u001b[0m \u001b[0manalysis_id\u001b[0m\u001b[1;33m+\u001b[0m\u001b[1;34m'-{}-masterResults.pkl'\u001b[0m\u001b[1;33m.\u001b[0m\u001b[0mformat\u001b[0m\u001b[1;33m(\u001b[0m\u001b[0mthresh\u001b[0m\u001b[1;33m)\u001b[0m\u001b[1;33m\u001b[0m\u001b[0m\n\u001b[0m\u001b[0;32m    802\u001b[0m     \u001b[0mmaster_f\u001b[0m \u001b[1;33m=\u001b[0m \u001b[0mos\u001b[0m\u001b[1;33m.\u001b[0m\u001b[0mpath\u001b[0m\u001b[1;33m.\u001b[0m\u001b[0mjoin\u001b[0m\u001b[1;33m(\u001b[0m\u001b[0mblock_path\u001b[0m\u001b[1;33m,\u001b[0m \u001b[0mmaster_fname\u001b[0m\u001b[1;33m)\u001b[0m\u001b[1;33m\u001b[0m\u001b[0m\n\u001b[0;32m    803\u001b[0m     \u001b[1;32mwith\u001b[0m \u001b[0mopen\u001b[0m\u001b[1;33m(\u001b[0m\u001b[0mmaster_f\u001b[0m\u001b[1;33m,\u001b[0m \u001b[1;34m'w'\u001b[0m\u001b[1;33m)\u001b[0m \u001b[1;32mas\u001b[0m \u001b[0mf\u001b[0m\u001b[1;33m:\u001b[0m\u001b[1;33m\u001b[0m\u001b[0m\n",
      "\u001b[1;31mNameError\u001b[0m: global name 'analysis_id' is not defined"
     ]
    }
   ],
   "source": [
    "reload(tp2)\n",
    "tp2.dag_topology(block_path, 4.0, bfdict)"
   ]
  },
  {
   "cell_type": "markdown",
   "metadata": {},
   "source": [
    "# Test Buildpopulationemeddingtens"
   ]
  },
  {
   "cell_type": "code",
   "execution_count": 15,
   "metadata": {
    "collapsed": false
   },
   "outputs": [],
   "source": [
    "reload(tp)\n",
    "poptens_fname = '/home/brad/testing/poptenstest.binned'\n",
    "popvec_fname = '/home/brad/testing/popvectest.binned'\n",
    "clugroup = ['Good']\n",
    "seginf = {'period': 1}\n",
    "dtOverlap = 0.0\n",
    "winsize = 25.0\n",
    "tp.build_population_embedding_tensor(spikes, trials, clusters, winsize, fs, clugroup, seginf, poptens_fname)\n",
    "\n",
    "tp.build_population_embedding(spikes, trials, clusters, winsize, fs, clugroup, seginf, popvec_fname)"
   ]
  },
  {
   "cell_type": "code",
   "execution_count": 25,
   "metadata": {
    "collapsed": false
   },
   "outputs": [
    {
     "name": "stdout",
     "output_type": "stream",
     "text": [
      "0.0\n",
      "0.0\n",
      "0.0\n",
      "0.0\n"
     ]
    }
   ],
   "source": [
    "\n",
    "\n",
    "pvf = h5.File(popvec_fname, \"r\")\n",
    "pvt = h5.File(poptens_fname, \"r\")\n",
    "\n",
    "stimv = pvf['test_pipeline_stimulus']\n",
    "stimt = pvt['test_pipeline_stimulus']\n",
    "\n",
    "for ind in range(4):\n",
    "    \n",
    "    datv = np.array(stimv[str(ind)]['pop_vec'])\n",
    "    datt = np.array(stimt['pop_tens'][:, :, ind])\n",
    "    \n",
    "    if np.greater(abs(datv-datt), 0).any():\n",
    "        print(\"mismatch\")\n",
    "    print(np.amax(np.absolute(datv-datt)))"
   ]
  },
  {
   "cell_type": "code",
   "execution_count": 14,
   "metadata": {
    "collapsed": false
   },
   "outputs": [
    {
     "data": {
      "text/plain": [
       "[[0, 599],\n",
       " [600, 1199],\n",
       " [1200, 1799],\n",
       " [1800, 2399],\n",
       " [2400, 2999],\n",
       " [3000, 3599],\n",
       " [3600, 4199],\n",
       " [4200, 4799],\n",
       " [4800, 5399],\n",
       " [5400, 5999],\n",
       " [6000, 6599],\n",
       " [6600, 7199],\n",
       " [7200, 7799],\n",
       " [7800, 8399],\n",
       " [8400, 8999],\n",
       " [9000, 9599],\n",
       " [9600, 10199],\n",
       " [10200, 10799],\n",
       " [10800, 11399],\n",
       " [11400, 11999],\n",
       " [12000, 12599],\n",
       " [12600, 13199],\n",
       " [13200, 13799],\n",
       " [13800, 14399],\n",
       " [14400, 14999],\n",
       " [15000, 15599],\n",
       " [15600, 16199],\n",
       " [16200, 16799],\n",
       " [16800, 17399],\n",
       " [17400, 17999],\n",
       " [18000, 18599],\n",
       " [18600, 19199],\n",
       " [19200, 19799],\n",
       " [19800, 20399],\n",
       " [20400, 20999],\n",
       " [21000, 21599],\n",
       " [21600, 22199],\n",
       " [22200, 22799],\n",
       " [22800, 23399],\n",
       " [23400, 23999],\n",
       " [24000, 24599],\n",
       " [24600, 25199],\n",
       " [25200, 25799],\n",
       " [25800, 26399],\n",
       " [26400, 26999],\n",
       " [27000, 27599],\n",
       " [27600, 28199],\n",
       " [28200, 28799],\n",
       " [28800, 29399],\n",
       " [29400, 29999],\n",
       " [30000, 30599],\n",
       " [30600, 31199],\n",
       " [31200, 31799],\n",
       " [31800, 32399],\n",
       " [32400, 32999],\n",
       " [33000, 33599],\n",
       " [33600, 34199],\n",
       " [34200, 34799],\n",
       " [34800, 35399],\n",
       " [35400, 35999],\n",
       " [36000, 36599],\n",
       " [36600, 37199],\n",
       " [37200, 37799],\n",
       " [37800, 38399],\n",
       " [38400, 38999],\n",
       " [39000, 39599],\n",
       " [39600, 40199],\n",
       " [40200, 40799],\n",
       " [40800, 41399],\n",
       " [41400, 41999],\n",
       " [42000, 42599],\n",
       " [42600, 43199],\n",
       " [43200, 43799],\n",
       " [43800, 44399],\n",
       " [44400, 44999],\n",
       " [45000, 45599],\n",
       " [45600, 46199],\n",
       " [46200, 46799],\n",
       " [46800, 47399],\n",
       " [47400, 47999],\n",
       " [48000, 48599],\n",
       " [48600, 49199],\n",
       " [49200, 49799],\n",
       " [49800, 50399],\n",
       " [50400, 50999],\n",
       " [51000, 51599],\n",
       " [51600, 52199],\n",
       " [52200, 52799],\n",
       " [52800, 53399],\n",
       " [53400, 53999],\n",
       " [54000, 54599],\n",
       " [54600, 55199],\n",
       " [55200, 55799],\n",
       " [55800, 56399],\n",
       " [56400, 56999],\n",
       " [57000, 57599],\n",
       " [57600, 58199],\n",
       " [58200, 58799],\n",
       " [58800, 59399],\n",
       " [59400, 59999],\n",
       " [60000, 60599],\n",
       " [60600, 61199],\n",
       " [61200, 61799],\n",
       " [61800, 62399],\n",
       " [62400, 62999],\n",
       " [63000, 63599],\n",
       " [63600, 64199],\n",
       " [64200, 64799],\n",
       " [64800, 65399],\n",
       " [65400, 65999],\n",
       " [66000, 66599],\n",
       " [66600, 67199],\n",
       " [67200, 67799],\n",
       " [67800, 68399],\n",
       " [68400, 68999],\n",
       " [69000, 69599],\n",
       " [69600, 70199],\n",
       " [70200, 70799],\n",
       " [70800, 71399],\n",
       " [71400, 71999],\n",
       " [72000, 72599],\n",
       " [72600, 73199],\n",
       " [73200, 73799],\n",
       " [73800, 74399],\n",
       " [74400, 74999],\n",
       " [75000, 75599],\n",
       " [75600, 76199],\n",
       " [76200, 76799],\n",
       " [76800, 77399],\n",
       " [77400, 77999],\n",
       " [78000, 78599],\n",
       " [78600, 79199],\n",
       " [79200, 79799],\n",
       " [79800, 80399],\n",
       " [80400, 80999],\n",
       " [81000, 81599],\n",
       " [81600, 82199],\n",
       " [82200, 82799],\n",
       " [82800, 83399],\n",
       " [83400, 83999],\n",
       " [84000, 84599],\n",
       " [84600, 85199],\n",
       " [85200, 85799],\n",
       " [85800, 86399],\n",
       " [86400, 86999],\n",
       " [87000, 87599],\n",
       " [87600, 88199],\n",
       " [88200, 88799],\n",
       " [88800, 89399],\n",
       " [89400, 89999],\n",
       " [90000, 90599],\n",
       " [90600, 91199],\n",
       " [91200, 91799],\n",
       " [91800, 92399],\n",
       " [92400, 92999],\n",
       " [93000, 93599],\n",
       " [93600, 94199],\n",
       " [94200, 94799],\n",
       " [94800, 95399],\n",
       " [95400, 95999],\n",
       " [96000, 96599],\n",
       " [96600, 97199],\n",
       " [97200, 97799],\n",
       " [97800, 98399],\n",
       " [98400, 98999],\n",
       " [99000, 99599],\n",
       " [99600, 100199],\n",
       " [100200, 100799],\n",
       " [100800, 101399],\n",
       " [101400, 101999],\n",
       " [102000, 102599],\n",
       " [102600, 103199],\n",
       " [103200, 103799],\n",
       " [103800, 104399],\n",
       " [104400, 104999],\n",
       " [105000, 105599],\n",
       " [105600, 106199],\n",
       " [106200, 106799],\n",
       " [106800, 107399],\n",
       " [107400, 107999],\n",
       " [108000, 108599],\n",
       " [108600, 109199],\n",
       " [109200, 109799],\n",
       " [109800, 110399],\n",
       " [110400, 110999],\n",
       " [111000, 111599],\n",
       " [111600, 112199],\n",
       " [112200, 112799],\n",
       " [112800, 113399],\n",
       " [113400, 113999],\n",
       " [114000, 114599],\n",
       " [114600, 115199],\n",
       " [115200, 115799],\n",
       " [115800, 116399],\n",
       " [116400, 116999],\n",
       " [117000, 117599],\n",
       " [117600, 118199],\n",
       " [118200, 118799],\n",
       " [118800, 119399],\n",
       " [119400, 119999],\n",
       " [120000, 120599],\n",
       " [120600, 121199],\n",
       " [121200, 121799],\n",
       " [121800, 122399],\n",
       " [122400, 122999],\n",
       " [123000, 123599],\n",
       " [123600, 124199],\n",
       " [124200, 124799],\n",
       " [124800, 125399],\n",
       " [125400, 125999],\n",
       " [126000, 126599],\n",
       " [126600, 127199],\n",
       " [127200, 127799],\n",
       " [127800, 128399],\n",
       " [128400, 128999],\n",
       " [129000, 129599],\n",
       " [129600, 130199],\n",
       " [130200, 130799],\n",
       " [130800, 131399],\n",
       " [131400, 131999],\n",
       " [132000, 132599],\n",
       " [132600, 133199],\n",
       " [133200, 133799],\n",
       " [133800, 134399],\n",
       " [134400, 134999],\n",
       " [135000, 135599],\n",
       " [135600, 136199],\n",
       " [136200, 136799],\n",
       " [136800, 137399],\n",
       " [137400, 137999],\n",
       " [138000, 138599],\n",
       " [138600, 139199],\n",
       " [139200, 139799],\n",
       " [139800, 140399],\n",
       " [140400, 140999],\n",
       " [141000, 141599],\n",
       " [141600, 142199],\n",
       " [142200, 142799],\n",
       " [142800, 143399],\n",
       " [143400, 143999],\n",
       " [144000, 144599],\n",
       " [144600, 145199],\n",
       " [145200, 145799],\n",
       " [145800, 146399],\n",
       " [146400, 146999],\n",
       " [147000, 147599],\n",
       " [147600, 148199],\n",
       " [148200, 148799],\n",
       " [148800, 149399],\n",
       " [149400, 149999],\n",
       " [150000, 150599],\n",
       " [150600, 151199],\n",
       " [151200, 151799],\n",
       " [151800, 152399],\n",
       " [152400, 152999],\n",
       " [153000, 153599],\n",
       " [153600, 154199],\n",
       " [154200, 154799],\n",
       " [154800, 155399],\n",
       " [155400, 155999],\n",
       " [156000, 156599],\n",
       " [156600, 157199],\n",
       " [157200, 157799],\n",
       " [157800, 158399],\n",
       " [158400, 158999],\n",
       " [159000, 159599],\n",
       " [159600, 160199],\n",
       " [160200, 160799],\n",
       " [160800, 161399],\n",
       " [161400, 161999],\n",
       " [162000, 162599],\n",
       " [162600, 163199],\n",
       " [163200, 163799],\n",
       " [163800, 164399],\n",
       " [164400, 164999],\n",
       " [165000, 165599],\n",
       " [165600, 166199],\n",
       " [166200, 166799],\n",
       " [166800, 167399],\n",
       " [167400, 167999],\n",
       " [168000, 168599],\n",
       " [168600, 169199],\n",
       " [169200, 169799],\n",
       " [169800, 170399],\n",
       " [170400, 170999],\n",
       " [171000, 171599],\n",
       " [171600, 172199],\n",
       " [172200, 172799],\n",
       " [172800, 173399],\n",
       " [173400, 173999],\n",
       " [174000, 174599],\n",
       " [174600, 175199],\n",
       " [175200, 175799],\n",
       " [175800, 176399],\n",
       " [176400, 176999],\n",
       " [177000, 177599],\n",
       " [177600, 178199],\n",
       " [178200, 178799],\n",
       " [178800, 179399],\n",
       " [179400, 179999],\n",
       " [180000, 180599],\n",
       " [180600, 181199],\n",
       " [181200, 181799],\n",
       " [181800, 182399],\n",
       " [182400, 182999],\n",
       " [183000, 183599],\n",
       " [183600, 184199],\n",
       " [184200, 184799],\n",
       " [184800, 185399],\n",
       " [185400, 185999],\n",
       " [186000, 186599],\n",
       " [186600, 187199],\n",
       " [187200, 187799],\n",
       " [187800, 188399],\n",
       " [188400, 188999],\n",
       " [189000, 189599],\n",
       " [189600, 190199],\n",
       " [190200, 190799],\n",
       " [190800, 191399],\n",
       " [191400, 191999],\n",
       " [192000, 192599],\n",
       " [192600, 193199],\n",
       " [193200, 193799],\n",
       " [193800, 194399],\n",
       " [194400, 194999],\n",
       " [195000, 195599],\n",
       " [195600, 196199],\n",
       " [196200, 196799],\n",
       " [196800, 197399],\n",
       " [197400, 197999],\n",
       " [198000, 198599],\n",
       " [198600, 199199],\n",
       " [199200, 199799],\n",
       " [199800, 200399],\n",
       " [200400, 200999],\n",
       " [201000, 201599],\n",
       " [201600, 202199],\n",
       " [202200, 202799],\n",
       " [202800, 203399],\n",
       " [203400, 203999],\n",
       " [204000, 204599],\n",
       " [204600, 205199],\n",
       " [205200, 205799],\n",
       " [205800, 206399],\n",
       " [206400, 206999],\n",
       " [207000, 207599],\n",
       " [207600, 208199],\n",
       " [208200, 208799],\n",
       " [208800, 209399],\n",
       " [209400, 209999],\n",
       " [210000, 210599],\n",
       " [210600, 211199],\n",
       " [211200, 211799],\n",
       " [211800, 212399],\n",
       " [212400, 212999],\n",
       " [213000, 213599],\n",
       " [213600, 214199],\n",
       " [214200, 214799],\n",
       " [214800, 215399],\n",
       " [215400, 215999],\n",
       " [216000, 216599],\n",
       " [216600, 217199],\n",
       " [217200, 217799],\n",
       " [217800, 218399],\n",
       " [218400, 218999],\n",
       " [219000, 219599],\n",
       " [219600, 220199],\n",
       " [220200, 220799],\n",
       " [220800, 221399],\n",
       " [221400, 221999],\n",
       " [222000, 222599],\n",
       " [222600, 223199],\n",
       " [223200, 223799],\n",
       " [223800, 224399],\n",
       " [224400, 224999],\n",
       " [225000, 225599],\n",
       " [225600, 226199],\n",
       " [226200, 226799],\n",
       " [226800, 227399],\n",
       " [227400, 227999],\n",
       " [228000, 228599],\n",
       " [228600, 229199],\n",
       " [229200, 229799],\n",
       " [229800, 230399],\n",
       " [230400, 230999],\n",
       " [231000, 231599],\n",
       " [231600, 232199],\n",
       " [232200, 232799],\n",
       " [232800, 233399],\n",
       " [233400, 233999],\n",
       " [234000, 234599],\n",
       " [234600, 235199],\n",
       " [235200, 235799],\n",
       " [235800, 236399],\n",
       " [236400, 236999],\n",
       " [237000, 237599],\n",
       " [237600, 238199],\n",
       " [238200, 238799],\n",
       " [238800, 239399],\n",
       " [239400, 239999]]"
      ]
     },
     "execution_count": 14,
     "metadata": {},
     "output_type": "execute_result"
    }
   ],
   "source": [
    "trial_len = (trials['stimulus_end'] - trials['time_samples']).unique()[0]\n",
    "gen_seg_start, gen_seg_end = tp.get_segment([0, trial_len], fs, seginf)\n",
    "\n",
    "gen_seg = [gen_seg_start, gen_seg_end]\n",
    "win_size_samples = int(np.round(winsize/1000. * fs))\n",
    "overlap_samples = int(np.round(dtOverlap/1000. * fs))\n",
    "gen_windows = tp.create_subwindows(gen_seg, win_size_samples, overlap_samples)\n",
    "nwins = len(gen_windows)\n",
    "gen_windows\n",
    "\n",
    "trial_start = stim_trials.iloc[rep]['time_samples']\n",
    "trial_end = stim_trials.iloc[rep]['stimulus_end']\n",
    "trial_bounds = [trial_start, trial_end]\n",
    "seg_start, seg_end = get_segment(trial_bounds,\n",
    "                                                 fs, segment_info)\n",
    "this_segment = [seg_start, seg_end]\n",
    "win_size_samples = int(np.round(win_size/1000. * fs))\n",
    "overlap_samples = int(np.round(dtOverlap/1000. * fs))\n",
    "windows = create_subwindows(this_segment, win_size_samples, overlap_samples)\n",
    "nwins = len(windows)"
   ]
  },
  {
   "cell_type": "code",
   "execution_count": null,
   "metadata": {
    "collapsed": false
   },
   "outputs": [],
   "source": [
    "f = plt.figure(figsize=(22,22))\n",
    "rasters.plot_raster_cell_stim(spikes, trials, 12, 'test_pipeline_stimulus', [-2, 2], 0, fs)"
   ]
  },
  {
   "cell_type": "code",
   "execution_count": null,
   "metadata": {
    "collapsed": false
   },
   "outputs": [],
   "source": [
    "f = plt.figure(figsize=(11,11))\n",
    "rasters.plot_raster_stim_trial(spikes, trials,'test_pipeline_stimulus', 2, [-2, 2], 0, fs)"
   ]
  },
  {
   "cell_type": "code",
   "execution_count": null,
   "metadata": {
    "collapsed": true
   },
   "outputs": [],
   "source": [
    "def plot_raster_stim_trial(spikes, trials, stim, trial,\n",
    "                           period, rec, fs, plot_params=None, ax=None):\n",
    "    '''\n",
    "    Plots a spike raster of all units for a given trial of a given stimulus.\n",
    "\n",
    "    Parameters\n",
    "    ----------\n",
    "    spikes : pandas dataframe\n",
    "        spike dataframe from core \n",
    "    trials : pandas dataframe\n",
    "        trials dataframe from events\n",
    "    stim : str \n",
    "        Name of the stimulus for which a raster is desired\n",
    "    trial : int\n",
    "        Trial number to plot. Note: Zero-indexed.\n",
    "    period : list of floats \n",
    "        Time window for the raster:  \n",
    "        [Seconds_pre_stimulus_onset, Seconds_post_stimulus_end]\n",
    "    rec : int \n",
    "        Recording ID \n",
    "    fs : float \n",
    "        Sampling rate\n",
    "    plot_params : dict\n",
    "        Drawing parameters:\n",
    "        'spike_linewidth' - linewidth of ticks for spikes \n",
    "        'tick_linewidth' - linewidth of ticks for event markers\n",
    "        'spike_color' - color of spike ticks \n",
    "        'tick_color' - color of event ticks \n",
    "    ax : Matplotlib axes handle, optional\n",
    "        Axes on which to produce the raster.  Default is to use gca \n",
    "    '''\n",
    "\n",
    "    stim_trials = trials[trials['stimulus'] == stim]\n",
    "    ntrials = len(stim_trials)\n",
    "    assert trial < ntrials, \"Trial does not exist: %d\" % trial\n",
    "\n",
    "    stim_start = stim_trials['time_samples'].values[trial]\n",
    "    stim_end = stim_trials['stimulus_end'].values[trial]\n",
    "    stim_end_seconds = (stim_end - stim_start)/fs\n",
    "    window = [period[0], stim_end_seconds+period[1]]\n",
    "    print window\n",
    "    trial_spikes = spiketrains.calc_spikes_in_window(spikes, [stim_start, stim_end])\n",
    "    print(trial_spikes)\n",
    "    trial_clusters = np.unique(trial_spikes['cluster'].values)\n",
    "    print(trial_clusters)\n",
    "    raster_data = []\n",
    "    for clu_num, clu_id in enumerate(trial_clusters):\n",
    "        sptrain = spiketrains.get_spiketrain(rec, stim_start, clu_id, spikes, window, fs)\n",
    "        print(sptrain)\n",
    "        raster_data.append(sptrain)\n",
    "    if plot_params == None:\n",
    "        rasters.do_raster(raster_data, window, [0, stim_end_seconds], ax) \n",
    "    else:\n",
    "        rasters.do_raster(raster_data, window, [0, stim_end_seconds], ax, \n",
    "                  spike_linewidth=plot_params['spike_linewidth'],\n",
    "                  spike_color=plot_params['spike_color'],\n",
    "                  tick_linewidth=plot_params['tick_linewidth'],\n",
    "                  tick_color=plot_params['tick_color'])"
   ]
  },
  {
   "cell_type": "code",
   "execution_count": null,
   "metadata": {
    "collapsed": false
   },
   "outputs": [],
   "source": [
    "popvec_fname = '/Users/brad/experiments/B999/testbin.binned'\n",
    "segment_info = {'period': 1}\n",
    "cluster_group = ['Good']\n",
    "win_size = 50.0\n",
    "top.build_population_embedding(spikes, trials, clusters, win_size, fs, cluster_group, segment_info, popvec_fname)"
   ]
  },
  {
   "cell_type": "code",
   "execution_count": null,
   "metadata": {
    "collapsed": false
   },
   "outputs": [],
   "source": [
    "ttop.test_pipeline(block_path, kwikfile, bin_id, bin_def_file, n_cells, maxt, fs, dthetadt, kappa, maxfr, ncellperm, nperms)"
   ]
  },
  {
   "cell_type": "code",
   "execution_count": null,
   "metadata": {
    "collapsed": true
   },
   "outputs": [],
   "source": [
    "import pickle\n"
   ]
  },
  {
   "cell_type": "code",
   "execution_count": null,
   "metadata": {
    "collapsed": false
   },
   "outputs": [],
   "source": [
    "pickle.load('/Volumes/gentner/btheilma/experiments/B999/topology/0801161509/B999_S00_P00-good-50ms-stim-permuted/B999_S00_P00-good-50ms-stim-permuted-0801161509-stim-test_pipeline_stimulus-bettiPersistence.pkl')"
   ]
  },
  {
   "cell_type": "code",
   "execution_count": null,
   "metadata": {
    "collapsed": true
   },
   "outputs": [],
   "source": [
    "binned_file = '/Volumes/gentner/btheilma/experiments/B1235/phy051316/Pen02_Lft_AP200_ML800__Site03_Z3000__B1235_cat_P02_S03_1/binned_data/1608221332/B1235_cat_P02_S03_1-good-50ms-stim.binned'"
   ]
  },
  {
   "cell_type": "code",
   "execution_count": null,
   "metadata": {
    "collapsed": false
   },
   "outputs": [],
   "source": [
    "bdf = h5.File(binned_file, 'r')"
   ]
  },
  {
   "cell_type": "code",
   "execution_count": null,
   "metadata": {
    "collapsed": true
   },
   "outputs": [],
   "source": [
    "bds = bdf['A_scaled_burung']['0']\n",
    "fs = bdf.attrs['fs']\n",
    "nclus = bdf.attrs['nclus']"
   ]
  },
  {
   "cell_type": "code",
   "execution_count": null,
   "metadata": {
    "collapsed": false
   },
   "outputs": [],
   "source": [
    "np.round(6.5/0.049)"
   ]
  },
  {
   "cell_type": "code",
   "execution_count": null,
   "metadata": {
    "collapsed": false
   },
   "outputs": [],
   "source": [
    "C = top.calc_corr_raw(bds['pop_vec'], bds['windows'], fs, 1, 4, 1)"
   ]
  },
  {
   "cell_type": "code",
   "execution_count": null,
   "metadata": {
    "collapsed": false
   },
   "outputs": [],
   "source": [
    "C"
   ]
  },
  {
   "cell_type": "code",
   "execution_count": null,
   "metadata": {
    "collapsed": true
   },
   "outputs": [],
   "source": [
    "wins = bds['windows']"
   ]
  },
  {
   "cell_type": "code",
   "execution_count": null,
   "metadata": {
    "collapsed": false
   },
   "outputs": [],
   "source": [
    "wins"
   ]
  },
  {
   "cell_type": "code",
   "execution_count": null,
   "metadata": {
    "collapsed": false
   },
   "outputs": [],
   "source": [
    "wins[0, 1]"
   ]
  },
  {
   "cell_type": "code",
   "execution_count": null,
   "metadata": {
    "collapsed": false
   },
   "outputs": [],
   "source": [
    "wins[0, 0]"
   ]
  },
  {
   "cell_type": "code",
   "execution_count": null,
   "metadata": {
    "collapsed": false
   },
   "outputs": [],
   "source": [
    "wins[0,1]-wins[0,0]"
   ]
  },
  {
   "cell_type": "code",
   "execution_count": null,
   "metadata": {
    "collapsed": false
   },
   "outputs": [],
   "source": [
    "fs"
   ]
  },
  {
   "cell_type": "code",
   "execution_count": null,
   "metadata": {
    "collapsed": false
   },
   "outputs": [],
   "source": [
    "cij = top.compute_Cij_matrix(bds['pop_vec'], wins, fs, nclus, 1)"
   ]
  },
  {
   "cell_type": "code",
   "execution_count": null,
   "metadata": {
    "collapsed": false
   },
   "outputs": [],
   "source": [
    "cij_r = cij+np.diag(47*[np.nan])\n",
    "cij_t = cij_r[~(np.isnan(cij_r).all(axis=1))]"
   ]
  },
  {
   "cell_type": "code",
   "execution_count": null,
   "metadata": {
    "collapsed": false
   },
   "outputs": [],
   "source": [
    "cij_tt = cij_t[~(np.isnan(cij_t).all(axis=0))]"
   ]
  },
  {
   "cell_type": "code",
   "execution_count": null,
   "metadata": {
    "collapsed": false
   },
   "outputs": [],
   "source": [
    "cols_to_remove = np.isnan(cij[0, :])"
   ]
  },
  {
   "cell_type": "code",
   "execution_count": null,
   "metadata": {
    "collapsed": false
   },
   "outputs": [],
   "source": [
    "cij_t = cij[~cols_to_remove]"
   ]
  },
  {
   "cell_type": "code",
   "execution_count": null,
   "metadata": {
    "collapsed": false
   },
   "outputs": [],
   "source": [
    "cij_tt = cij_t[:, ~cols_to_remove]"
   ]
  },
  {
   "cell_type": "code",
   "execution_count": null,
   "metadata": {
    "collapsed": false
   },
   "outputs": [],
   "source": [
    "0+np.nan"
   ]
  },
  {
   "cell_type": "code",
   "execution_count": null,
   "metadata": {
    "collapsed": false
   },
   "outputs": [],
   "source": [
    "cij+np.diag(47*[np.nan])"
   ]
  },
  {
   "cell_type": "code",
   "execution_count": null,
   "metadata": {
    "collapsed": false
   },
   "outputs": [],
   "source": [
    "cij_tt.shape"
   ]
  },
  {
   "cell_type": "code",
   "execution_count": null,
   "metadata": {
    "collapsed": false
   },
   "outputs": [],
   "source": [
    "np.isnan(cij_tt).any()"
   ]
  },
  {
   "cell_type": "code",
   "execution_count": null,
   "metadata": {
    "collapsed": true
   },
   "outputs": [],
   "source": [
    "tdf = '/Volumes/gentner/btheilma/experiments/B1235/phy051316/Pen02_Lft_AP200_ML800__Site03_Z3000__B1235_cat_P02_S03_1/topology/clique_top/2016-08-23T1548/B1235_cat_P02_S03_1-good-50ms-stim/B1235_cat_P02_S03_1-good-50ms-stim-2016-08-23T1548-CliqueTop--stim-A_scaled_burung-bettiPersistence.pkl'"
   ]
  },
  {
   "cell_type": "code",
   "execution_count": null,
   "metadata": {
    "collapsed": false
   },
   "outputs": [],
   "source": [
    "import pickle\n",
    "tdf_f = open(tdf, 'r')\n",
    "tf = pickle.load(tdf_f)"
   ]
  },
  {
   "cell_type": "code",
   "execution_count": null,
   "metadata": {
    "collapsed": false
   },
   "outputs": [],
   "source": [
    "tf"
   ]
  },
  {
   "cell_type": "code",
   "execution_count": null,
   "metadata": {
    "collapsed": false
   },
   "outputs": [],
   "source": [
    "from neuraltda import slidingSimplex as ssp\n",
    "from neuraltda import topology as tp"
   ]
  },
  {
   "cell_type": "code",
   "execution_count": null,
   "metadata": {
    "collapsed": true
   },
   "outputs": [],
   "source": [
    "block_path = '/Volumes/gentner/btheilma/experiments/B1087/phy040516/Pen03_Lft_AP0_ML500__Site02_Z2500__B1087_cat_P03_S02_1/'\n",
    "bdf = '/Volumes/gentner/btheilma/experiments/B1087/phy040516/Pen03_Lft_AP0_ML500__Site02_Z2500__B1087_cat_P03_S02_1/binned_data/20160928T151852Z/permuted_binned/20160928T151852Z-25.0-permuted.binned'"
   ]
  },
  {
   "cell_type": "code",
   "execution_count": null,
   "metadata": {
    "collapsed": true
   },
   "outputs": [],
   "source": [
    "tpid = '20161027-ssptest'\n",
    "thresh = 4.0\n",
    "simplexWinSize = 20\n"
   ]
  },
  {
   "cell_type": "code",
   "execution_count": null,
   "metadata": {
    "collapsed": false
   },
   "outputs": [],
   "source": [
    "reload(ssp)\n",
    "reload(tp)\n",
    "ssp.sspSlidingSimplex(tpid, bdf, block_path, thresh, simplexWinSize)"
   ]
  },
  {
   "cell_type": "code",
   "execution_count": null,
   "metadata": {
    "collapsed": false
   },
   "outputs": [],
   "source": [
    "from scipy.interpolate import interp1d\n",
    "import numpy as np\n",
    "import pickle \n",
    "import matplotlib.pyplot as plt\n",
    "%matplotlib inline\n",
    "import seaborn as sns\n",
    "sns.set_context('poster')\n",
    "\n",
    "def plotBettiCurveRecursive(resDict):\n",
    "    \n",
    "    if 'bettis' in resDict.keys():\n",
    "        bettiDat = resDict['bettis']\n",
    "        bettis = len(bettiDat[0][1])\n",
    "        for betti in range(bettis):\n",
    "            ycoords = [s[1][betti] for s in bettiDat]\n",
    "            xcoords = [s[0] for s in bettiDat]\n",
    "            fig = plt.figure()\n",
    "            plt.plot(np.transpose(xcoords), np.transpose(ycoords))\n",
    "            plt.title('Hstr: %s  Betti: %s' % (resDict['hstr'], betti))\n",
    "            plt.show()\n",
    "    else:\n",
    "        for ind, k in enumerate(resDict.keys()):\n",
    "            plotBettiCurveRecursive(resDict[k])\n",
    "            \n",
    "def avgBettiRecursive(bettiDict, bettinum, runningSum, N, maxT):\n",
    "    if 'bettis' in bettiDict.keys():\n",
    "        bettiT = np.array([s[0] for s in bettiDict['bettis']])*(windt/1000.)\n",
    "        maxT = max(bettiT)\n",
    "        try:\n",
    "            bettiB = np.array([s[1][bettinum] for s in bettiDict['bettis']])\n",
    "        except:\n",
    "            \n",
    "            bettiB = np.zeros(len(bettiT))\n",
    "        bfunc = interp1d(bettiT, bettiB, kind='zero', bounds_error=False, fill_value=(bettiB[0], bettiB[-1]))\n",
    "        t = np.linspace(0, maxT, 1000)\n",
    "        bvals = bfunc(t)\n",
    "        return (runningSum + bvals, N+1, maxT)\n",
    "    else:\n",
    "        for k in bettiDict.keys():\n",
    "            runningSum, N, maxT = avgBettiRecursive(bettiDict[k], bettinum, runningSum, N, maxT)\n",
    "        return (runningSum, N, maxT)\n",
    "    \n",
    "def computeAvgBettiCurve(resDict, stim, betti):\n",
    "    \n",
    "    stimdata = resDict[stim]\n",
    "    \n",
    "    runningSum, N, maxT = avgBettiRecursive(stimdata, betti, np.zeros(1000), 0, 0)\n",
    "    avgBetti = runningSum / float(N)\n",
    "    t = np.linspace(0, maxT, len(avgBetti))\n",
    "    \n",
    "    return (avgBetti, t, maxT)\n",
    "    \n",
    "def plotAvgBettiCurves(avgBetti, t, betti): \n",
    "    plt.figure()\n",
    "    plt.plot(t, avgBetti)\n",
    "    plt.title('Stim: %s Betti: %d' %('s', betti))\n",
    "    plt.ylim([0, max(avgBetti)+2])\n",
    "    plt.xlim([0, max(t)])\n",
    "    plt.show()"
   ]
  },
  {
   "cell_type": "code",
   "execution_count": null,
   "metadata": {
    "collapsed": true
   },
   "outputs": [],
   "source": [
    "with open('/Volumes/gentner/btheilma/experiments/B1087/phy040516/Pen03_Lft_AP0_ML500__Site02_Z2500__B1087_cat_P03_S02_1/topology/20161026-ssptest/20161026-ssptest-bettiResultsDict.pkl', 'r') as f:\n",
    "    dat = pickle.load(f)\n"
   ]
  },
  {
   "cell_type": "code",
   "execution_count": null,
   "metadata": {
    "collapsed": false
   },
   "outputs": [],
   "source": [
    "dat['N_40k']"
   ]
  },
  {
   "cell_type": "code",
   "execution_count": 13,
   "metadata": {
    "collapsed": false
   },
   "outputs": [
    {
     "data": {
      "text/plain": [
       "[[0, 39],\n",
       " [25, 64],\n",
       " [50, 89],\n",
       " [75, 114],\n",
       " [100, 139],\n",
       " [125, 164],\n",
       " [150, 189],\n",
       " [175, 200]]"
      ]
     },
     "execution_count": 13,
     "metadata": {},
     "output_type": "execute_result"
    }
   ],
   "source": [
    "reload(tp)\n",
    "segment = [0, 200]\n",
    "subwin_len = 40\n",
    "\n",
    "tp.create_overlap_subwindows(segment, subwin_len, 15)"
   ]
  },
  {
   "cell_type": "code",
   "execution_count": 12,
   "metadata": {
    "collapsed": false
   },
   "outputs": [
    {
     "data": {
      "text/plain": [
       "[[0.0, 4.0], [4.0, 8.0], [8.0, 12.0], [12.0, 16.0], [16.0, 20.0]]"
      ]
     },
     "execution_count": 12,
     "metadata": {},
     "output_type": "execute_result"
    }
   ],
   "source": [
    "tp.create_subwindows(segment, subwin_len, 1)"
   ]
  },
  {
   "cell_type": "code",
   "execution_count": null,
   "metadata": {
    "collapsed": true
   },
   "outputs": [],
   "source": []
  }
 ],
 "metadata": {
  "kernelspec": {
   "display_name": "Python 2",
   "language": "python",
   "name": "python2"
  },
  "language_info": {
   "codemirror_mode": {
    "name": "ipython",
    "version": 2
   },
   "file_extension": ".py",
   "mimetype": "text/x-python",
   "name": "python",
   "nbconvert_exporter": "python",
   "pygments_lexer": "ipython2",
   "version": "2.7.11"
  }
 },
 "nbformat": 4,
 "nbformat_minor": 0
}
