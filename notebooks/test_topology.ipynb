{
 "cells": [
  {
   "cell_type": "code",
   "execution_count": null,
   "metadata": {
    "collapsed": false
   },
   "outputs": [],
   "source": [
    "import neuraltda.test_pipeline as ttop\n",
    "import numpy as np\n",
    "import neuraltda.topology as top\n",
    "import neuraltda.topology_plots as tplot\n",
    "from ephys import rasters, spiketrains\n",
    "import h5py as h5\n",
    "import matplotlib.pyplot as plt\n",
    "%matplotlib inline\n",
    "reload(ttop)\n",
    "reload(top)\n",
    "reload(rasters)"
   ]
  },
  {
   "cell_type": "code",
   "execution_count": null,
   "metadata": {
    "collapsed": false
   },
   "outputs": [],
   "source": [
    "block_path = '/Users/brad/experiments/B999/'\n",
    "kwikfile = 'B999_S00_P00.kwik'\n",
    "bin_id = '0801161542'\n",
    "bin_def_file = '/Users/brad/GentnerLab/code/NeuralTDA/standard_good_binnings.txt'\n",
    "n_cells = 60\n",
    "maxt = 10\n",
    "fs = 24000.0\n",
    "dthetadt = 1*np.pi/6\n",
    "kappa = 5\n",
    "maxfr = 100\n",
    "ncellperm = 40\n",
    "nperms = 1\n",
    "ntrials = 4"
   ]
  },
  {
   "cell_type": "code",
   "execution_count": null,
   "metadata": {
    "collapsed": false
   },
   "outputs": [],
   "source": [
    "spikes, clusters, trials = ttop.generate_test_dataset(n_cells, maxt, fs, dthetadt, kappa, maxfr, ntrials)"
   ]
  },
  {
   "cell_type": "code",
   "execution_count": null,
   "metadata": {
    "collapsed": false
   },
   "outputs": [],
   "source": [
    "print spikes.head()\n",
    "print clusters.head()\n",
    "print trials.head()"
   ]
  },
  {
   "cell_type": "code",
   "execution_count": null,
   "metadata": {
    "collapsed": false
   },
   "outputs": [],
   "source": [
    "f = plt.figure(figsize=(22,22))\n",
    "rasters.plot_raster_cell_stim(spikes, trials, 12, 'test_pipeline_stimulus', [-2, 2], 0, fs)"
   ]
  },
  {
   "cell_type": "code",
   "execution_count": null,
   "metadata": {
    "collapsed": false
   },
   "outputs": [],
   "source": [
    "f = plt.figure(figsize=(11,11))\n",
    "rasters.plot_raster_stim_trial(spikes, trials,'test_pipeline_stimulus', 2, [-2, 2], 0, fs)"
   ]
  },
  {
   "cell_type": "code",
   "execution_count": null,
   "metadata": {
    "collapsed": true
   },
   "outputs": [],
   "source": [
    "def plot_raster_stim_trial(spikes, trials, stim, trial,\n",
    "                           period, rec, fs, plot_params=None, ax=None):\n",
    "    '''\n",
    "    Plots a spike raster of all units for a given trial of a given stimulus.\n",
    "\n",
    "    Parameters\n",
    "    ----------\n",
    "    spikes : pandas dataframe\n",
    "        spike dataframe from core \n",
    "    trials : pandas dataframe\n",
    "        trials dataframe from events\n",
    "    stim : str \n",
    "        Name of the stimulus for which a raster is desired\n",
    "    trial : int\n",
    "        Trial number to plot. Note: Zero-indexed.\n",
    "    period : list of floats \n",
    "        Time window for the raster:  \n",
    "        [Seconds_pre_stimulus_onset, Seconds_post_stimulus_end]\n",
    "    rec : int \n",
    "        Recording ID \n",
    "    fs : float \n",
    "        Sampling rate\n",
    "    plot_params : dict\n",
    "        Drawing parameters:\n",
    "        'spike_linewidth' - linewidth of ticks for spikes \n",
    "        'tick_linewidth' - linewidth of ticks for event markers\n",
    "        'spike_color' - color of spike ticks \n",
    "        'tick_color' - color of event ticks \n",
    "    ax : Matplotlib axes handle, optional\n",
    "        Axes on which to produce the raster.  Default is to use gca \n",
    "    '''\n",
    "\n",
    "    stim_trials = trials[trials['stimulus'] == stim]\n",
    "    ntrials = len(stim_trials)\n",
    "    assert trial < ntrials, \"Trial does not exist: %d\" % trial\n",
    "\n",
    "    stim_start = stim_trials['time_samples'].values[trial]\n",
    "    stim_end = stim_trials['stimulus_end'].values[trial]\n",
    "    stim_end_seconds = (stim_end - stim_start)/fs\n",
    "    window = [period[0], stim_end_seconds+period[1]]\n",
    "    print window\n",
    "    trial_spikes = spiketrains.calc_spikes_in_window(spikes, [stim_start, stim_end])\n",
    "    print(trial_spikes)\n",
    "    trial_clusters = np.unique(trial_spikes['cluster'].values)\n",
    "    print(trial_clusters)\n",
    "    raster_data = []\n",
    "    for clu_num, clu_id in enumerate(trial_clusters):\n",
    "        sptrain = spiketrains.get_spiketrain(rec, stim_start, clu_id, spikes, window, fs)\n",
    "        print(sptrain)\n",
    "        raster_data.append(sptrain)\n",
    "    if plot_params == None:\n",
    "        rasters.do_raster(raster_data, window, [0, stim_end_seconds], ax) \n",
    "    else:\n",
    "        rasters.do_raster(raster_data, window, [0, stim_end_seconds], ax, \n",
    "                  spike_linewidth=plot_params['spike_linewidth'],\n",
    "                  spike_color=plot_params['spike_color'],\n",
    "                  tick_linewidth=plot_params['tick_linewidth'],\n",
    "                  tick_color=plot_params['tick_color'])"
   ]
  },
  {
   "cell_type": "code",
   "execution_count": null,
   "metadata": {
    "collapsed": false
   },
   "outputs": [],
   "source": [
    "popvec_fname = '/Users/brad/experiments/B999/testbin.binned'\n",
    "segment_info = {'period': 1}\n",
    "cluster_group = ['Good']\n",
    "win_size = 50.0\n",
    "top.build_population_embedding(spikes, trials, clusters, win_size, fs, cluster_group, segment_info, popvec_fname)"
   ]
  },
  {
   "cell_type": "code",
   "execution_count": null,
   "metadata": {
    "collapsed": false
   },
   "outputs": [],
   "source": [
    "ttop.test_pipeline(block_path, kwikfile, bin_id, bin_def_file, n_cells, maxt, fs, dthetadt, kappa, maxfr, ncellperm, nperms)"
   ]
  },
  {
   "cell_type": "code",
   "execution_count": null,
   "metadata": {
    "collapsed": true
   },
   "outputs": [],
   "source": [
    "import pickle\n"
   ]
  },
  {
   "cell_type": "code",
   "execution_count": null,
   "metadata": {
    "collapsed": false
   },
   "outputs": [],
   "source": [
    "pickle.load('/Volumes/gentner/btheilma/experiments/B999/topology/0801161509/B999_S00_P00-good-50ms-stim-permuted/B999_S00_P00-good-50ms-stim-permuted-0801161509-stim-test_pipeline_stimulus-bettiPersistence.pkl')"
   ]
  },
  {
   "cell_type": "code",
   "execution_count": null,
   "metadata": {
    "collapsed": true
   },
   "outputs": [],
   "source": [
    "binned_file = '/Volumes/gentner/btheilma/experiments/B1235/phy051316/Pen02_Lft_AP200_ML800__Site03_Z3000__B1235_cat_P02_S03_1/binned_data/1608221332/B1235_cat_P02_S03_1-good-50ms-stim.binned'"
   ]
  },
  {
   "cell_type": "code",
   "execution_count": null,
   "metadata": {
    "collapsed": false
   },
   "outputs": [],
   "source": [
    "bdf = h5.File(binned_file, 'r')"
   ]
  },
  {
   "cell_type": "code",
   "execution_count": null,
   "metadata": {
    "collapsed": true
   },
   "outputs": [],
   "source": [
    "bds = bdf['A_scaled_burung']['0']\n",
    "fs = bdf.attrs['fs']\n",
    "nclus = bdf.attrs['nclus']"
   ]
  },
  {
   "cell_type": "code",
   "execution_count": null,
   "metadata": {
    "collapsed": false
   },
   "outputs": [],
   "source": [
    "np.round(6.5/0.049)"
   ]
  },
  {
   "cell_type": "code",
   "execution_count": null,
   "metadata": {
    "collapsed": false
   },
   "outputs": [],
   "source": [
    "C = top.calc_corr_raw(bds['pop_vec'], bds['windows'], fs, 1, 4, 1)"
   ]
  },
  {
   "cell_type": "code",
   "execution_count": null,
   "metadata": {
    "collapsed": false
   },
   "outputs": [],
   "source": [
    "C"
   ]
  },
  {
   "cell_type": "code",
   "execution_count": null,
   "metadata": {
    "collapsed": true
   },
   "outputs": [],
   "source": [
    "wins = bds['windows']"
   ]
  },
  {
   "cell_type": "code",
   "execution_count": null,
   "metadata": {
    "collapsed": false
   },
   "outputs": [],
   "source": [
    "wins"
   ]
  },
  {
   "cell_type": "code",
   "execution_count": null,
   "metadata": {
    "collapsed": false
   },
   "outputs": [],
   "source": [
    "wins[0, 1]"
   ]
  },
  {
   "cell_type": "code",
   "execution_count": null,
   "metadata": {
    "collapsed": false
   },
   "outputs": [],
   "source": [
    "wins[0, 0]"
   ]
  },
  {
   "cell_type": "code",
   "execution_count": null,
   "metadata": {
    "collapsed": false
   },
   "outputs": [],
   "source": [
    "wins[0,1]-wins[0,0]"
   ]
  },
  {
   "cell_type": "code",
   "execution_count": null,
   "metadata": {
    "collapsed": false
   },
   "outputs": [],
   "source": [
    "fs"
   ]
  },
  {
   "cell_type": "code",
   "execution_count": null,
   "metadata": {
    "collapsed": false
   },
   "outputs": [],
   "source": [
    "cij = top.compute_Cij_matrix(bds['pop_vec'], wins, fs, nclus, 1)"
   ]
  },
  {
   "cell_type": "code",
   "execution_count": null,
   "metadata": {
    "collapsed": false
   },
   "outputs": [],
   "source": [
    "cij_r = cij+np.diag(47*[np.nan])\n",
    "cij_t = cij_r[~(np.isnan(cij_r).all(axis=1))]"
   ]
  },
  {
   "cell_type": "code",
   "execution_count": null,
   "metadata": {
    "collapsed": false
   },
   "outputs": [],
   "source": [
    "cij_tt = cij_t[~(np.isnan(cij_t).all(axis=0))]"
   ]
  },
  {
   "cell_type": "code",
   "execution_count": null,
   "metadata": {
    "collapsed": false
   },
   "outputs": [],
   "source": [
    "cols_to_remove = np.isnan(cij[0, :])"
   ]
  },
  {
   "cell_type": "code",
   "execution_count": null,
   "metadata": {
    "collapsed": false
   },
   "outputs": [],
   "source": [
    "cij_t = cij[~cols_to_remove]"
   ]
  },
  {
   "cell_type": "code",
   "execution_count": null,
   "metadata": {
    "collapsed": false
   },
   "outputs": [],
   "source": [
    "cij_tt = cij_t[:, ~cols_to_remove]"
   ]
  },
  {
   "cell_type": "code",
   "execution_count": null,
   "metadata": {
    "collapsed": false
   },
   "outputs": [],
   "source": [
    "0+np.nan"
   ]
  },
  {
   "cell_type": "code",
   "execution_count": null,
   "metadata": {
    "collapsed": false
   },
   "outputs": [],
   "source": [
    "cij+np.diag(47*[np.nan])"
   ]
  },
  {
   "cell_type": "code",
   "execution_count": null,
   "metadata": {
    "collapsed": false
   },
   "outputs": [],
   "source": [
    "cij_tt.shape"
   ]
  },
  {
   "cell_type": "code",
   "execution_count": null,
   "metadata": {
    "collapsed": false
   },
   "outputs": [],
   "source": [
    "np.isnan(cij_tt).any()"
   ]
  },
  {
   "cell_type": "code",
   "execution_count": null,
   "metadata": {
    "collapsed": true
   },
   "outputs": [],
   "source": [
    "tdf = '/Volumes/gentner/btheilma/experiments/B1235/phy051316/Pen02_Lft_AP200_ML800__Site03_Z3000__B1235_cat_P02_S03_1/topology/clique_top/2016-08-23T1548/B1235_cat_P02_S03_1-good-50ms-stim/B1235_cat_P02_S03_1-good-50ms-stim-2016-08-23T1548-CliqueTop--stim-A_scaled_burung-bettiPersistence.pkl'"
   ]
  },
  {
   "cell_type": "code",
   "execution_count": null,
   "metadata": {
    "collapsed": false
   },
   "outputs": [],
   "source": [
    "import pickle\n",
    "tdf_f = open(tdf, 'r')\n",
    "tf = pickle.load(tdf_f)"
   ]
  },
  {
   "cell_type": "code",
   "execution_count": null,
   "metadata": {
    "collapsed": false
   },
   "outputs": [],
   "source": [
    "tf"
   ]
  },
  {
   "cell_type": "code",
   "execution_count": 12,
   "metadata": {
    "collapsed": false
   },
   "outputs": [],
   "source": [
    "from neuraltda import slidingSimplex as ssp\n",
    "from neuraltda import topology as tp"
   ]
  },
  {
   "cell_type": "code",
   "execution_count": 13,
   "metadata": {
    "collapsed": true
   },
   "outputs": [],
   "source": [
    "block_path = '/Volumes/gentner/btheilma/experiments/B1087/phy040516/Pen03_Lft_AP0_ML500__Site02_Z2500__B1087_cat_P03_S02_1/'\n",
    "bdf = '/Volumes/gentner/btheilma/experiments/B1087/phy040516/Pen03_Lft_AP0_ML500__Site02_Z2500__B1087_cat_P03_S02_1/binned_data/20160928T151852Z/permuted_binned/20160928T151852Z-25.0-permuted.binned'"
   ]
  },
  {
   "cell_type": "code",
   "execution_count": 14,
   "metadata": {
    "collapsed": true
   },
   "outputs": [],
   "source": [
    "tpid = '20161027-ssptest'\n",
    "thresh = 4.0\n",
    "simplexWinSize = 20\n"
   ]
  },
  {
   "cell_type": "code",
   "execution_count": 16,
   "metadata": {
    "collapsed": false
   },
   "outputs": [
    {
     "ename": "KeyboardInterrupt",
     "evalue": "",
     "output_type": "error",
     "traceback": [
      "\u001b[0;31m---------------------------------------------------------------------------\u001b[0m",
      "\u001b[0;31mKeyboardInterrupt\u001b[0m                         Traceback (most recent call last)",
      "\u001b[0;32m<ipython-input-16-a9cc6296c675>\u001b[0m in \u001b[0;36m<module>\u001b[0;34m()\u001b[0m\n\u001b[1;32m      1\u001b[0m \u001b[0mreload\u001b[0m\u001b[0;34m(\u001b[0m\u001b[0mssp\u001b[0m\u001b[0;34m)\u001b[0m\u001b[0;34m\u001b[0m\u001b[0m\n\u001b[1;32m      2\u001b[0m \u001b[0mreload\u001b[0m\u001b[0;34m(\u001b[0m\u001b[0mtp\u001b[0m\u001b[0;34m)\u001b[0m\u001b[0;34m\u001b[0m\u001b[0m\n\u001b[0;32m----> 3\u001b[0;31m \u001b[0mssp\u001b[0m\u001b[0;34m.\u001b[0m\u001b[0msspSlidingSimplex\u001b[0m\u001b[0;34m(\u001b[0m\u001b[0mtpid\u001b[0m\u001b[0;34m,\u001b[0m \u001b[0mbdf\u001b[0m\u001b[0;34m,\u001b[0m \u001b[0mblock_path\u001b[0m\u001b[0;34m,\u001b[0m \u001b[0mthresh\u001b[0m\u001b[0;34m,\u001b[0m \u001b[0msimplexWinSize\u001b[0m\u001b[0;34m)\u001b[0m\u001b[0;34m\u001b[0m\u001b[0m\n\u001b[0m",
      "\u001b[0;32m/Users/brad/GentnerLab/code/NeuralTDA/neuraltda/slidingSimplex.py\u001b[0m in \u001b[0;36msspSlidingSimplex\u001b[0;34m(topologyID, tpBinnedDataFile, block_path, thresh, simplexWinSize)\u001b[0m\n\u001b[1;32m    103\u001b[0m             bettiDict = sspSlidingSimplexRecursive(stimData, pfileStem, hStem, \n\u001b[1;32m    104\u001b[0m                                                    \u001b[0mbettiDict\u001b[0m\u001b[0;34m,\u001b[0m \u001b[0manalysisPath\u001b[0m\u001b[0;34m,\u001b[0m\u001b[0;34m\u001b[0m\u001b[0m\n\u001b[0;32m--> 105\u001b[0;31m                                                    thresh, simplexWinSize)\n\u001b[0m\u001b[1;32m    106\u001b[0m             \u001b[0mbpdStim\u001b[0m\u001b[0;34m[\u001b[0m\u001b[0mstim\u001b[0m\u001b[0;34m]\u001b[0m \u001b[0;34m=\u001b[0m \u001b[0mbettiDict\u001b[0m\u001b[0;34m\u001b[0m\u001b[0m\n\u001b[1;32m    107\u001b[0m             \u001b[0;32mwith\u001b[0m \u001b[0mopen\u001b[0m\u001b[0;34m(\u001b[0m\u001b[0mbettiPkl\u001b[0m\u001b[0;34m,\u001b[0m \u001b[0;34m'w'\u001b[0m\u001b[0;34m)\u001b[0m \u001b[0;32mas\u001b[0m \u001b[0mbp\u001b[0m\u001b[0;34m:\u001b[0m\u001b[0;34m\u001b[0m\u001b[0m\n",
      "\u001b[0;32m/Users/brad/GentnerLab/code/NeuralTDA/neuraltda/slidingSimplex.py\u001b[0m in \u001b[0;36msspSlidingSimplexRecursive\u001b[0;34m(dataGroup, pfileStem, hStem, bettiDict, analysisPath, thresh, simplexWinSize)\u001b[0m\n\u001b[1;32m     65\u001b[0m                                                 \u001b[0mnewHStem\u001b[0m\u001b[0;34m,\u001b[0m \u001b[0mnewBettiDict\u001b[0m\u001b[0;34m,\u001b[0m\u001b[0;34m\u001b[0m\u001b[0m\n\u001b[1;32m     66\u001b[0m                                                 \u001b[0manalysisPath\u001b[0m\u001b[0;34m,\u001b[0m \u001b[0mthresh\u001b[0m\u001b[0;34m,\u001b[0m\u001b[0;34m\u001b[0m\u001b[0m\n\u001b[0;32m---> 67\u001b[0;31m                                                 simplexWinSize)\n\u001b[0m\u001b[1;32m     68\u001b[0m             \u001b[0mbettiDict\u001b[0m\u001b[0;34m[\u001b[0m\u001b[0mpermkey\u001b[0m\u001b[0;34m]\u001b[0m \u001b[0;34m=\u001b[0m \u001b[0mbettis\u001b[0m\u001b[0;34m\u001b[0m\u001b[0m\n\u001b[1;32m     69\u001b[0m         \u001b[0;32mreturn\u001b[0m \u001b[0mbettiDict\u001b[0m\u001b[0;34m\u001b[0m\u001b[0m\n",
      "\u001b[0;32m/Users/brad/GentnerLab/code/NeuralTDA/neuraltda/slidingSimplex.py\u001b[0m in \u001b[0;36msspSlidingSimplexRecursive\u001b[0;34m(dataGroup, pfileStem, hStem, bettiDict, analysisPath, thresh, simplexWinSize)\u001b[0m\n\u001b[1;32m     65\u001b[0m                                                 \u001b[0mnewHStem\u001b[0m\u001b[0;34m,\u001b[0m \u001b[0mnewBettiDict\u001b[0m\u001b[0;34m,\u001b[0m\u001b[0;34m\u001b[0m\u001b[0m\n\u001b[1;32m     66\u001b[0m                                                 \u001b[0manalysisPath\u001b[0m\u001b[0;34m,\u001b[0m \u001b[0mthresh\u001b[0m\u001b[0;34m,\u001b[0m\u001b[0;34m\u001b[0m\u001b[0m\n\u001b[0;32m---> 67\u001b[0;31m                                                 simplexWinSize)\n\u001b[0m\u001b[1;32m     68\u001b[0m             \u001b[0mbettiDict\u001b[0m\u001b[0;34m[\u001b[0m\u001b[0mpermkey\u001b[0m\u001b[0;34m]\u001b[0m \u001b[0;34m=\u001b[0m \u001b[0mbettis\u001b[0m\u001b[0;34m\u001b[0m\u001b[0m\n\u001b[1;32m     69\u001b[0m         \u001b[0;32mreturn\u001b[0m \u001b[0mbettiDict\u001b[0m\u001b[0;34m\u001b[0m\u001b[0m\n",
      "\u001b[0;32m/Users/brad/GentnerLab/code/NeuralTDA/neuraltda/slidingSimplex.py\u001b[0m in \u001b[0;36msspSlidingSimplexRecursive\u001b[0;34m(dataGroup, pfileStem, hStem, bettiDict, analysisPath, thresh, simplexWinSize)\u001b[0m\n\u001b[1;32m     50\u001b[0m \u001b[0;34m\u001b[0m\u001b[0m\n\u001b[1;32m     51\u001b[0m         \u001b[0mbettiDict\u001b[0m\u001b[0;34m[\u001b[0m\u001b[0;34m'hstr'\u001b[0m\u001b[0;34m]\u001b[0m \u001b[0;34m=\u001b[0m \u001b[0mhStem\u001b[0m\u001b[0;34m\u001b[0m\u001b[0m\n\u001b[0;32m---> 52\u001b[0;31m         \u001b[0mbettis\u001b[0m \u001b[0;34m=\u001b[0m \u001b[0msspComputeTopology\u001b[0m\u001b[0;34m(\u001b[0m\u001b[0mdataGroup\u001b[0m\u001b[0;34m,\u001b[0m \u001b[0mpfileStem\u001b[0m\u001b[0;34m,\u001b[0m \u001b[0manalysisPath\u001b[0m\u001b[0;34m,\u001b[0m \u001b[0mthresh\u001b[0m\u001b[0;34m,\u001b[0m \u001b[0msimplexWinSize\u001b[0m\u001b[0;34m)\u001b[0m\u001b[0;34m\u001b[0m\u001b[0m\n\u001b[0m\u001b[1;32m     53\u001b[0m         \u001b[0mnbetti\u001b[0m \u001b[0;34m=\u001b[0m \u001b[0mlen\u001b[0m\u001b[0;34m(\u001b[0m\u001b[0mbettis\u001b[0m\u001b[0;34m)\u001b[0m\u001b[0;34m\u001b[0m\u001b[0m\n\u001b[1;32m     54\u001b[0m         \u001b[0mbarcodeDict\u001b[0m \u001b[0;34m=\u001b[0m \u001b[0mdict\u001b[0m\u001b[0;34m(\u001b[0m\u001b[0;34m)\u001b[0m\u001b[0;34m\u001b[0m\u001b[0m\n",
      "\u001b[0;32m/Users/brad/GentnerLab/code/NeuralTDA/neuraltda/slidingSimplex.py\u001b[0m in \u001b[0;36msspComputeTopology\u001b[0;34m(dataGroup, pfileStem, analysisPath, thresh, simplexWinSize)\u001b[0m\n\u001b[1;32m     28\u001b[0m         \u001b[0mpfileName\u001b[0m \u001b[0;34m=\u001b[0m \u001b[0mpfileStem\u001b[0m \u001b[0;34m+\u001b[0m\u001b[0;34m'-win%d-simplex.txt'\u001b[0m \u001b[0;34m%\u001b[0m \u001b[0mwinNum\u001b[0m\u001b[0;34m\u001b[0m\u001b[0m\n\u001b[1;32m     29\u001b[0m         \u001b[0mpfile\u001b[0m \u001b[0;34m=\u001b[0m \u001b[0mos\u001b[0m\u001b[0;34m.\u001b[0m\u001b[0mpath\u001b[0m\u001b[0;34m.\u001b[0m\u001b[0mjoin\u001b[0m\u001b[0;34m(\u001b[0m\u001b[0manalysisPath\u001b[0m\u001b[0;34m,\u001b[0m \u001b[0mpfileName\u001b[0m\u001b[0;34m)\u001b[0m\u001b[0;34m\u001b[0m\u001b[0m\n\u001b[0;32m---> 30\u001b[0;31m         \u001b[0mtp\u001b[0m\u001b[0;34m.\u001b[0m\u001b[0mbuild_perseus_input\u001b[0m\u001b[0;34m(\u001b[0m\u001b[0msimplexCGs\u001b[0m\u001b[0;34m,\u001b[0m \u001b[0mpfile\u001b[0m\u001b[0;34m)\u001b[0m\u001b[0;34m\u001b[0m\u001b[0m\n\u001b[0m\u001b[1;32m     31\u001b[0m         \u001b[0mbettiFile\u001b[0m \u001b[0;34m=\u001b[0m \u001b[0mtp\u001b[0m\u001b[0;34m.\u001b[0m\u001b[0mrun_perseus\u001b[0m\u001b[0;34m(\u001b[0m\u001b[0mpfile\u001b[0m\u001b[0;34m)\u001b[0m\u001b[0;34m\u001b[0m\u001b[0m\n\u001b[1;32m     32\u001b[0m         \u001b[0mbettis\u001b[0m \u001b[0;34m=\u001b[0m \u001b[0;34m[\u001b[0m\u001b[0;34m]\u001b[0m\u001b[0;34m\u001b[0m\u001b[0m\n",
      "\u001b[0;32m/Users/brad/GentnerLab/code/NeuralTDA/neuraltda/topology.pyc\u001b[0m in \u001b[0;36mbuild_perseus_input\u001b[0;34m(cell_groups, savefile)\u001b[0m\n\u001b[1;32m    288\u001b[0m         \u001b[0mfile\u001b[0m \u001b[0msuitable\u001b[0m \u001b[0;32mfor\u001b[0m \u001b[0mrunning\u001b[0m \u001b[0mperseus\u001b[0m \u001b[0mon\u001b[0m\u001b[0;34m\u001b[0m\u001b[0m\n\u001b[1;32m    289\u001b[0m     '''\n\u001b[0;32m--> 290\u001b[0;31m     \u001b[0;32mwith\u001b[0m \u001b[0mopen\u001b[0m\u001b[0;34m(\u001b[0m\u001b[0msavefile\u001b[0m\u001b[0;34m,\u001b[0m \u001b[0;34m'w+'\u001b[0m\u001b[0;34m)\u001b[0m \u001b[0;32mas\u001b[0m \u001b[0mpfile\u001b[0m\u001b[0;34m:\u001b[0m\u001b[0;34m\u001b[0m\u001b[0m\n\u001b[0m\u001b[1;32m    291\u001b[0m         \u001b[0mpfile\u001b[0m\u001b[0;34m.\u001b[0m\u001b[0mwrite\u001b[0m\u001b[0;34m(\u001b[0m\u001b[0;34m'1\\n'\u001b[0m\u001b[0;34m)\u001b[0m\u001b[0;34m\u001b[0m\u001b[0m\n\u001b[1;32m    292\u001b[0m         \u001b[0;32mfor\u001b[0m \u001b[0mwin_grp\u001b[0m \u001b[0;32min\u001b[0m \u001b[0mcell_groups\u001b[0m\u001b[0;34m:\u001b[0m\u001b[0;34m\u001b[0m\u001b[0m\n",
      "\u001b[0;31mKeyboardInterrupt\u001b[0m: "
     ]
    }
   ],
   "source": [
    "reload(ssp)\n",
    "reload(tp)\n",
    "ssp.sspSlidingSimplex(tpid, bdf, block_path, thresh, simplexWinSize)"
   ]
  },
  {
   "cell_type": "code",
   "execution_count": 1,
   "metadata": {
    "collapsed": false
   },
   "outputs": [
    {
     "name": "stderr",
     "output_type": "stream",
     "text": [
      "/Users/brad/anaconda/envs/neuraltda/lib/python2.7/site-packages/pandas/computation/__init__.py:19: UserWarning: The installed version of numexpr 2.4.4 is not supported in pandas and will be not be used\n",
      "\n",
      "  UserWarning)\n"
     ]
    }
   ],
   "source": [
    "from scipy.interpolate import interp1d\n",
    "import numpy as np\n",
    "import pickle \n",
    "import matplotlib.pyplot as plt\n",
    "%matplotlib inline\n",
    "import seaborn as sns\n",
    "sns.set_context('poster')\n",
    "\n",
    "def plotBettiCurveRecursive(resDict):\n",
    "    \n",
    "    if 'bettis' in resDict.keys():\n",
    "        bettiDat = resDict['bettis']\n",
    "        bettis = len(bettiDat[0][1])\n",
    "        for betti in range(bettis):\n",
    "            ycoords = [s[1][betti] for s in bettiDat]\n",
    "            xcoords = [s[0] for s in bettiDat]\n",
    "            fig = plt.figure()\n",
    "            plt.plot(np.transpose(xcoords), np.transpose(ycoords))\n",
    "            plt.title('Hstr: %s  Betti: %s' % (resDict['hstr'], betti))\n",
    "            plt.show()\n",
    "    else:\n",
    "        for ind, k in enumerate(resDict.keys()):\n",
    "            plotBettiCurveRecursive(resDict[k])\n",
    "            \n",
    "def avgBettiRecursive(bettiDict, bettinum, runningSum, N, maxT):\n",
    "    if 'bettis' in bettiDict.keys():\n",
    "        bettiT = np.array([s[0] for s in bettiDict['bettis']])*(windt/1000.)\n",
    "        maxT = max(bettiT)\n",
    "        try:\n",
    "            bettiB = np.array([s[1][bettinum] for s in bettiDict['bettis']])\n",
    "        except:\n",
    "            \n",
    "            bettiB = np.zeros(len(bettiT))\n",
    "        bfunc = interp1d(bettiT, bettiB, kind='zero', bounds_error=False, fill_value=(bettiB[0], bettiB[-1]))\n",
    "        t = np.linspace(0, maxT, 1000)\n",
    "        bvals = bfunc(t)\n",
    "        return (runningSum + bvals, N+1, maxT)\n",
    "    else:\n",
    "        for k in bettiDict.keys():\n",
    "            runningSum, N, maxT = avgBettiRecursive(bettiDict[k], bettinum, runningSum, N, maxT)\n",
    "        return (runningSum, N, maxT)\n",
    "    \n",
    "def computeAvgBettiCurve(resDict, stim, betti):\n",
    "    \n",
    "    stimdata = resDict[stim]\n",
    "    \n",
    "    runningSum, N, maxT = avgBettiRecursive(stimdata, betti, np.zeros(1000), 0, 0)\n",
    "    avgBetti = runningSum / float(N)\n",
    "    t = np.linspace(0, maxT, len(avgBetti))\n",
    "    \n",
    "    return (avgBetti, t, maxT)\n",
    "    \n",
    "def plotAvgBettiCurves(avgBetti, t, betti): \n",
    "    plt.figure()\n",
    "    plt.plot(t, avgBetti)\n",
    "    plt.title('Stim: %s Betti: %d' %('s', betti))\n",
    "    plt.ylim([0, max(avgBetti)+2])\n",
    "    plt.xlim([0, max(t)])\n",
    "    plt.show()"
   ]
  },
  {
   "cell_type": "code",
   "execution_count": 2,
   "metadata": {
    "collapsed": true
   },
   "outputs": [],
   "source": [
    "with open('/Volumes/gentner/btheilma/experiments/B1087/phy040516/Pen03_Lft_AP0_ML500__Site02_Z2500__B1087_cat_P03_S02_1/topology/20161026-ssptest/20161026-ssptest-bettiResultsDict.pkl', 'r') as f:\n",
    "    dat = pickle.load(f)\n"
   ]
  },
  {
   "cell_type": "code",
   "execution_count": 11,
   "metadata": {
    "collapsed": false
   },
   "outputs": [
    {
     "data": {
      "text/plain": [
       "{u'0': {u'0': {'bettis': [[239, [1]]], 'hstr': u'N_40k--0-0'},\n",
       "  u'1': {'bettis': [[239, [1]]], 'hstr': u'N_40k--0-1'},\n",
       "  u'10': {'bettis': [[239, [1]]], 'hstr': u'N_40k--0-10'},\n",
       "  u'11': {'bettis': [[239, [1]]], 'hstr': u'N_40k--0-11'},\n",
       "  u'12': {'bettis': [[239, [1]]], 'hstr': u'N_40k--0-12'},\n",
       "  u'13': {'bettis': [[239, [1]]], 'hstr': u'N_40k--0-13'},\n",
       "  u'14': {'bettis': [[239, [1]]], 'hstr': u'N_40k--0-14'},\n",
       "  u'15': {'bettis': [[239, [1]]], 'hstr': u'N_40k--0-15'},\n",
       "  u'16': {'bettis': [[239, [1]]], 'hstr': u'N_40k--0-16'},\n",
       "  u'17': {'bettis': [[239, [1]]], 'hstr': u'N_40k--0-17'},\n",
       "  u'18': {'bettis': [[239, [1]]], 'hstr': u'N_40k--0-18'},\n",
       "  u'19': {'bettis': [[239, [1]]], 'hstr': u'N_40k--0-19'},\n",
       "  u'2': {'bettis': [[239, [1]]], 'hstr': u'N_40k--0-2'},\n",
       "  u'3': {'bettis': [[239, [1]]], 'hstr': u'N_40k--0-3'},\n",
       "  u'4': {'bettis': [[239, [1]]], 'hstr': u'N_40k--0-4'},\n",
       "  u'5': {'bettis': [[239, [1]]], 'hstr': u'N_40k--0-5'},\n",
       "  u'6': {'bettis': [[239, [1]]], 'hstr': u'N_40k--0-6'},\n",
       "  u'7': {'bettis': [[239, [1]]], 'hstr': u'N_40k--0-7'},\n",
       "  u'8': {'bettis': [[239, [1]]], 'hstr': u'N_40k--0-8'},\n",
       "  u'9': {'bettis': [[239, [1]]], 'hstr': u'N_40k--0-9'}},\n",
       " u'1': {u'0': {'bettis': [[239, [1]]], 'hstr': u'N_40k--1-0'},\n",
       "  u'1': {'bettis': [[239, [1]]], 'hstr': u'N_40k--1-1'},\n",
       "  u'10': {'bettis': [[239, [1]]], 'hstr': u'N_40k--1-10'},\n",
       "  u'11': {'bettis': [[239, [1]]], 'hstr': u'N_40k--1-11'},\n",
       "  u'12': {'bettis': [[239, [1]]], 'hstr': u'N_40k--1-12'},\n",
       "  u'13': {'bettis': [[239, [1]]], 'hstr': u'N_40k--1-13'},\n",
       "  u'14': {'bettis': [[239, [1]]], 'hstr': u'N_40k--1-14'},\n",
       "  u'15': {'bettis': [[239, [1]]], 'hstr': u'N_40k--1-15'},\n",
       "  u'16': {'bettis': [[239, [1]]], 'hstr': u'N_40k--1-16'},\n",
       "  u'17': {'bettis': [[239, [1]]], 'hstr': u'N_40k--1-17'},\n",
       "  u'18': {'bettis': [[239, [1]]], 'hstr': u'N_40k--1-18'},\n",
       "  u'19': {'bettis': [[239, [1]]], 'hstr': u'N_40k--1-19'},\n",
       "  u'2': {'bettis': [[239, [1]]], 'hstr': u'N_40k--1-2'},\n",
       "  u'3': {'bettis': [[239, [1]]], 'hstr': u'N_40k--1-3'},\n",
       "  u'4': {'bettis': [[239, [1]]], 'hstr': u'N_40k--1-4'},\n",
       "  u'5': {'bettis': [[239, [1]]], 'hstr': u'N_40k--1-5'},\n",
       "  u'6': {'bettis': [[239, [1]]], 'hstr': u'N_40k--1-6'},\n",
       "  u'7': {'bettis': [[239, [1]]], 'hstr': u'N_40k--1-7'},\n",
       "  u'8': {'bettis': [[239, [1]]], 'hstr': u'N_40k--1-8'},\n",
       "  u'9': {'bettis': [[239, [1]]], 'hstr': u'N_40k--1-9'}},\n",
       " u'10': {u'0': {'bettis': [[239, [1]]], 'hstr': u'N_40k--10-0'},\n",
       "  u'1': {'bettis': [[239, [1]]], 'hstr': u'N_40k--10-1'},\n",
       "  u'10': {'bettis': [[239, [1]]], 'hstr': u'N_40k--10-10'},\n",
       "  u'11': {'bettis': [[239, [1]]], 'hstr': u'N_40k--10-11'},\n",
       "  u'12': {'bettis': [[239, [1]]], 'hstr': u'N_40k--10-12'},\n",
       "  u'13': {'bettis': [[239, [1]]], 'hstr': u'N_40k--10-13'},\n",
       "  u'14': {'bettis': [[239, [1]]], 'hstr': u'N_40k--10-14'},\n",
       "  u'15': {'bettis': [[239, [1]]], 'hstr': u'N_40k--10-15'},\n",
       "  u'16': {'bettis': [[239, [1]]], 'hstr': u'N_40k--10-16'},\n",
       "  u'17': {'bettis': [[239, [1]]], 'hstr': u'N_40k--10-17'},\n",
       "  u'18': {'bettis': [[239, [1]]], 'hstr': u'N_40k--10-18'},\n",
       "  u'19': {'bettis': [[239, [1]]], 'hstr': u'N_40k--10-19'},\n",
       "  u'2': {'bettis': [[239, [1]]], 'hstr': u'N_40k--10-2'},\n",
       "  u'3': {'bettis': [[239, [1]]], 'hstr': u'N_40k--10-3'},\n",
       "  u'4': {'bettis': [[239, [1]]], 'hstr': u'N_40k--10-4'},\n",
       "  u'5': {'bettis': [[239, [1]]], 'hstr': u'N_40k--10-5'},\n",
       "  u'6': {'bettis': [[239, [1]]], 'hstr': u'N_40k--10-6'},\n",
       "  u'7': {'bettis': [[239, [1]]], 'hstr': u'N_40k--10-7'},\n",
       "  u'8': {'bettis': [[239, [1]]], 'hstr': u'N_40k--10-8'},\n",
       "  u'9': {'bettis': [[239, [1]]], 'hstr': u'N_40k--10-9'}},\n",
       " u'11': {u'0': {'bettis': [[239, [1]]], 'hstr': u'N_40k--11-0'},\n",
       "  u'1': {'bettis': [[239, [1]]], 'hstr': u'N_40k--11-1'},\n",
       "  u'10': {'bettis': [[239, [1]]], 'hstr': u'N_40k--11-10'},\n",
       "  u'11': {'bettis': [[239, [1]]], 'hstr': u'N_40k--11-11'},\n",
       "  u'12': {'bettis': [[239, [1]]], 'hstr': u'N_40k--11-12'},\n",
       "  u'13': {'bettis': [[239, [1]]], 'hstr': u'N_40k--11-13'},\n",
       "  u'14': {'bettis': [[239, [1]]], 'hstr': u'N_40k--11-14'},\n",
       "  u'15': {'bettis': [[239, [1]]], 'hstr': u'N_40k--11-15'},\n",
       "  u'16': {'bettis': [[239, [1]]], 'hstr': u'N_40k--11-16'},\n",
       "  u'17': {'bettis': [[239, [1]]], 'hstr': u'N_40k--11-17'},\n",
       "  u'18': {'bettis': [[239, [1]]], 'hstr': u'N_40k--11-18'},\n",
       "  u'19': {'bettis': [[239, [1]]], 'hstr': u'N_40k--11-19'},\n",
       "  u'2': {'bettis': [[239, [1]]], 'hstr': u'N_40k--11-2'},\n",
       "  u'3': {'bettis': [[239, [1]]], 'hstr': u'N_40k--11-3'},\n",
       "  u'4': {'bettis': [[239, [1]]], 'hstr': u'N_40k--11-4'},\n",
       "  u'5': {'bettis': [[239, [1]]], 'hstr': u'N_40k--11-5'},\n",
       "  u'6': {'bettis': [[239, [1]]], 'hstr': u'N_40k--11-6'},\n",
       "  u'7': {'bettis': [[239, [1]]], 'hstr': u'N_40k--11-7'},\n",
       "  u'8': {'bettis': [[239, [1]]], 'hstr': u'N_40k--11-8'},\n",
       "  u'9': {'bettis': [[239, [1]]], 'hstr': u'N_40k--11-9'}},\n",
       " u'12': {u'0': {'bettis': [[239, [1]]], 'hstr': u'N_40k--12-0'},\n",
       "  u'1': {'bettis': [[239, [1]]], 'hstr': u'N_40k--12-1'},\n",
       "  u'10': {'bettis': [[239, [1]]], 'hstr': u'N_40k--12-10'},\n",
       "  u'11': {'bettis': [[239, [1]]], 'hstr': u'N_40k--12-11'},\n",
       "  u'12': {'bettis': [[239, [1]]], 'hstr': u'N_40k--12-12'},\n",
       "  u'13': {'bettis': [[239, [1]]], 'hstr': u'N_40k--12-13'},\n",
       "  u'14': {'bettis': [[239, [1]]], 'hstr': u'N_40k--12-14'},\n",
       "  u'15': {'bettis': [[239, [1]]], 'hstr': u'N_40k--12-15'},\n",
       "  u'16': {'bettis': [[239, [1]]], 'hstr': u'N_40k--12-16'},\n",
       "  u'17': {'bettis': [[239, [1]]], 'hstr': u'N_40k--12-17'},\n",
       "  u'18': {'bettis': [[239, [1]]], 'hstr': u'N_40k--12-18'},\n",
       "  u'19': {'bettis': [[239, [1]]], 'hstr': u'N_40k--12-19'},\n",
       "  u'2': {'bettis': [[239, [1]]], 'hstr': u'N_40k--12-2'},\n",
       "  u'3': {'bettis': [[239, [1]]], 'hstr': u'N_40k--12-3'},\n",
       "  u'4': {'bettis': [[239, [1]]], 'hstr': u'N_40k--12-4'},\n",
       "  u'5': {'bettis': [[239, [1]]], 'hstr': u'N_40k--12-5'},\n",
       "  u'6': {'bettis': [[239, [1]]], 'hstr': u'N_40k--12-6'},\n",
       "  u'7': {'bettis': [[239, [1]]], 'hstr': u'N_40k--12-7'},\n",
       "  u'8': {'bettis': [[239, [1]]], 'hstr': u'N_40k--12-8'},\n",
       "  u'9': {'bettis': [[239, [1]]], 'hstr': u'N_40k--12-9'}},\n",
       " u'13': {u'0': {'bettis': [[239, [1]]], 'hstr': u'N_40k--13-0'},\n",
       "  u'1': {'bettis': [[239, [1]]], 'hstr': u'N_40k--13-1'},\n",
       "  u'10': {'bettis': [[239, [1]]], 'hstr': u'N_40k--13-10'},\n",
       "  u'11': {'bettis': [[239, [1]]], 'hstr': u'N_40k--13-11'},\n",
       "  u'12': {'bettis': [[239, [1]]], 'hstr': u'N_40k--13-12'},\n",
       "  u'13': {'bettis': [[239, [1]]], 'hstr': u'N_40k--13-13'},\n",
       "  u'14': {'bettis': [[239, [1]]], 'hstr': u'N_40k--13-14'},\n",
       "  u'15': {'bettis': [[239, [1]]], 'hstr': u'N_40k--13-15'},\n",
       "  u'16': {'bettis': [[239, [1]]], 'hstr': u'N_40k--13-16'},\n",
       "  u'17': {'bettis': [[239, [1]]], 'hstr': u'N_40k--13-17'},\n",
       "  u'18': {'bettis': [[239, [1]]], 'hstr': u'N_40k--13-18'},\n",
       "  u'19': {'bettis': [[239, [1]]], 'hstr': u'N_40k--13-19'},\n",
       "  u'2': {'bettis': [[239, [1]]], 'hstr': u'N_40k--13-2'},\n",
       "  u'3': {'bettis': [[239, [1]]], 'hstr': u'N_40k--13-3'},\n",
       "  u'4': {'bettis': [[239, [1]]], 'hstr': u'N_40k--13-4'},\n",
       "  u'5': {'bettis': [[239, [1]]], 'hstr': u'N_40k--13-5'},\n",
       "  u'6': {'bettis': [[239, [1]]], 'hstr': u'N_40k--13-6'},\n",
       "  u'7': {'bettis': [[239, [1]]], 'hstr': u'N_40k--13-7'},\n",
       "  u'8': {'bettis': [[239, [1]]], 'hstr': u'N_40k--13-8'},\n",
       "  u'9': {'bettis': [[239, [1]]], 'hstr': u'N_40k--13-9'}},\n",
       " u'14': {u'0': {'bettis': [[239, [1]]], 'hstr': u'N_40k--14-0'},\n",
       "  u'1': {'bettis': [[239, [1]]], 'hstr': u'N_40k--14-1'},\n",
       "  u'10': {'bettis': [[239, [1]]], 'hstr': u'N_40k--14-10'},\n",
       "  u'11': {'bettis': [[239, [1]]], 'hstr': u'N_40k--14-11'},\n",
       "  u'12': {'bettis': [[239, [1]]], 'hstr': u'N_40k--14-12'},\n",
       "  u'13': {'bettis': [[239, [1]]], 'hstr': u'N_40k--14-13'},\n",
       "  u'14': {'bettis': [[239, [1]]], 'hstr': u'N_40k--14-14'},\n",
       "  u'15': {'bettis': [[239, [1]]], 'hstr': u'N_40k--14-15'},\n",
       "  u'16': {'bettis': [[239, [1]]], 'hstr': u'N_40k--14-16'},\n",
       "  u'17': {'bettis': [[239, [1]]], 'hstr': u'N_40k--14-17'},\n",
       "  u'18': {'bettis': [[239, [1]]], 'hstr': u'N_40k--14-18'},\n",
       "  u'19': {'bettis': [[239, [1]]], 'hstr': u'N_40k--14-19'},\n",
       "  u'2': {'bettis': [[239, [1]]], 'hstr': u'N_40k--14-2'},\n",
       "  u'3': {'bettis': [[239, [1]]], 'hstr': u'N_40k--14-3'},\n",
       "  u'4': {'bettis': [[239, [1]]], 'hstr': u'N_40k--14-4'},\n",
       "  u'5': {'bettis': [[239, [1]]], 'hstr': u'N_40k--14-5'},\n",
       "  u'6': {'bettis': [[239, [1]]], 'hstr': u'N_40k--14-6'},\n",
       "  u'7': {'bettis': [[239, [1]]], 'hstr': u'N_40k--14-7'},\n",
       "  u'8': {'bettis': [[239, [1]]], 'hstr': u'N_40k--14-8'},\n",
       "  u'9': {'bettis': [[239, [1]]], 'hstr': u'N_40k--14-9'}},\n",
       " u'15': {u'0': {'bettis': [[239, [1]]], 'hstr': u'N_40k--15-0'},\n",
       "  u'1': {'bettis': [[239, [1]]], 'hstr': u'N_40k--15-1'},\n",
       "  u'10': {'bettis': [[239, [1]]], 'hstr': u'N_40k--15-10'},\n",
       "  u'11': {'bettis': [[239, [1]]], 'hstr': u'N_40k--15-11'},\n",
       "  u'12': {'bettis': [[239, [1]]], 'hstr': u'N_40k--15-12'},\n",
       "  u'13': {'bettis': [[239, [1]]], 'hstr': u'N_40k--15-13'},\n",
       "  u'14': {'bettis': [[239, [1]]], 'hstr': u'N_40k--15-14'},\n",
       "  u'15': {'bettis': [[239, [1]]], 'hstr': u'N_40k--15-15'},\n",
       "  u'16': {'bettis': [[239, [1]]], 'hstr': u'N_40k--15-16'},\n",
       "  u'17': {'bettis': [[239, [1]]], 'hstr': u'N_40k--15-17'},\n",
       "  u'18': {'bettis': [[239, [1]]], 'hstr': u'N_40k--15-18'},\n",
       "  u'19': {'bettis': [[239, [1]]], 'hstr': u'N_40k--15-19'},\n",
       "  u'2': {'bettis': [[239, [1]]], 'hstr': u'N_40k--15-2'},\n",
       "  u'3': {'bettis': [[239, [1]]], 'hstr': u'N_40k--15-3'},\n",
       "  u'4': {'bettis': [[239, [1]]], 'hstr': u'N_40k--15-4'},\n",
       "  u'5': {'bettis': [[239, [1]]], 'hstr': u'N_40k--15-5'},\n",
       "  u'6': {'bettis': [[239, [1]]], 'hstr': u'N_40k--15-6'},\n",
       "  u'7': {'bettis': [[239, [1]]], 'hstr': u'N_40k--15-7'},\n",
       "  u'8': {'bettis': [[239, [1]]], 'hstr': u'N_40k--15-8'},\n",
       "  u'9': {'bettis': [[239, [1]]], 'hstr': u'N_40k--15-9'}},\n",
       " u'16': {u'0': {'bettis': [[239, [1]]], 'hstr': u'N_40k--16-0'},\n",
       "  u'1': {'bettis': [[239, [1]]], 'hstr': u'N_40k--16-1'},\n",
       "  u'10': {'bettis': [[239, [1]]], 'hstr': u'N_40k--16-10'},\n",
       "  u'11': {'bettis': [[239, [1]]], 'hstr': u'N_40k--16-11'},\n",
       "  u'12': {'bettis': [[239, [1]]], 'hstr': u'N_40k--16-12'},\n",
       "  u'13': {'bettis': [[239, [1]]], 'hstr': u'N_40k--16-13'},\n",
       "  u'14': {'bettis': [[239, [1]]], 'hstr': u'N_40k--16-14'},\n",
       "  u'15': {'bettis': [[239, [1]]], 'hstr': u'N_40k--16-15'},\n",
       "  u'16': {'bettis': [[239, [1]]], 'hstr': u'N_40k--16-16'},\n",
       "  u'17': {'bettis': [[239, [1]]], 'hstr': u'N_40k--16-17'},\n",
       "  u'18': {'bettis': [[239, [1]]], 'hstr': u'N_40k--16-18'},\n",
       "  u'19': {'bettis': [[239, [1]]], 'hstr': u'N_40k--16-19'},\n",
       "  u'2': {'bettis': [[239, [1]]], 'hstr': u'N_40k--16-2'},\n",
       "  u'3': {'bettis': [[239, [1]]], 'hstr': u'N_40k--16-3'},\n",
       "  u'4': {'bettis': [[239, [1]]], 'hstr': u'N_40k--16-4'},\n",
       "  u'5': {'bettis': [[239, [1]]], 'hstr': u'N_40k--16-5'},\n",
       "  u'6': {'bettis': [[239, [1]]], 'hstr': u'N_40k--16-6'},\n",
       "  u'7': {'bettis': [[239, [1]]], 'hstr': u'N_40k--16-7'},\n",
       "  u'8': {'bettis': [[239, [1]]], 'hstr': u'N_40k--16-8'},\n",
       "  u'9': {'bettis': [[239, [1]]], 'hstr': u'N_40k--16-9'}},\n",
       " u'17': {u'0': {'bettis': [[239, [1]]], 'hstr': u'N_40k--17-0'},\n",
       "  u'1': {'bettis': [[239, [1]]], 'hstr': u'N_40k--17-1'},\n",
       "  u'10': {'bettis': [[239, [1]]], 'hstr': u'N_40k--17-10'},\n",
       "  u'11': {'bettis': [[239, [1]]], 'hstr': u'N_40k--17-11'},\n",
       "  u'12': {'bettis': [[239, [1]]], 'hstr': u'N_40k--17-12'},\n",
       "  u'13': {'bettis': [[239, [1]]], 'hstr': u'N_40k--17-13'},\n",
       "  u'14': {'bettis': [[239, [1]]], 'hstr': u'N_40k--17-14'},\n",
       "  u'15': {'bettis': [[239, [1]]], 'hstr': u'N_40k--17-15'},\n",
       "  u'16': {'bettis': [[239, [1]]], 'hstr': u'N_40k--17-16'},\n",
       "  u'17': {'bettis': [[239, [1]]], 'hstr': u'N_40k--17-17'},\n",
       "  u'18': {'bettis': [[239, [1]]], 'hstr': u'N_40k--17-18'},\n",
       "  u'19': {'bettis': [[239, [1]]], 'hstr': u'N_40k--17-19'},\n",
       "  u'2': {'bettis': [[239, [1]]], 'hstr': u'N_40k--17-2'},\n",
       "  u'3': {'bettis': [[239, [1]]], 'hstr': u'N_40k--17-3'},\n",
       "  u'4': {'bettis': [[239, [1]]], 'hstr': u'N_40k--17-4'},\n",
       "  u'5': {'bettis': [[239, [1]]], 'hstr': u'N_40k--17-5'},\n",
       "  u'6': {'bettis': [[239, [1]]], 'hstr': u'N_40k--17-6'},\n",
       "  u'7': {'bettis': [[239, [1]]], 'hstr': u'N_40k--17-7'},\n",
       "  u'8': {'bettis': [[239, [1]]], 'hstr': u'N_40k--17-8'},\n",
       "  u'9': {'bettis': [[239, [1]]], 'hstr': u'N_40k--17-9'}},\n",
       " u'18': {u'0': {'bettis': [[239, [1]]], 'hstr': u'N_40k--18-0'},\n",
       "  u'1': {'bettis': [[239, [1]]], 'hstr': u'N_40k--18-1'},\n",
       "  u'10': {'bettis': [[239, [1]]], 'hstr': u'N_40k--18-10'},\n",
       "  u'11': {'bettis': [[239, [1]]], 'hstr': u'N_40k--18-11'},\n",
       "  u'12': {'bettis': [[239, [1]]], 'hstr': u'N_40k--18-12'},\n",
       "  u'13': {'bettis': [[239, [1]]], 'hstr': u'N_40k--18-13'},\n",
       "  u'14': {'bettis': [[239, [1]]], 'hstr': u'N_40k--18-14'},\n",
       "  u'15': {'bettis': [[239, [1]]], 'hstr': u'N_40k--18-15'},\n",
       "  u'16': {'bettis': [[239, [1]]], 'hstr': u'N_40k--18-16'},\n",
       "  u'17': {'bettis': [[239, [1]]], 'hstr': u'N_40k--18-17'},\n",
       "  u'18': {'bettis': [[239, [1]]], 'hstr': u'N_40k--18-18'},\n",
       "  u'19': {'bettis': [[239, [1]]], 'hstr': u'N_40k--18-19'},\n",
       "  u'2': {'bettis': [[239, [1]]], 'hstr': u'N_40k--18-2'},\n",
       "  u'3': {'bettis': [[239, [1]]], 'hstr': u'N_40k--18-3'},\n",
       "  u'4': {'bettis': [[239, [1]]], 'hstr': u'N_40k--18-4'},\n",
       "  u'5': {'bettis': [[239, [1]]], 'hstr': u'N_40k--18-5'},\n",
       "  u'6': {'bettis': [[239, [1]]], 'hstr': u'N_40k--18-6'},\n",
       "  u'7': {'bettis': [[239, [1]]], 'hstr': u'N_40k--18-7'},\n",
       "  u'8': {'bettis': [[239, [1]]], 'hstr': u'N_40k--18-8'},\n",
       "  u'9': {'bettis': [[239, [1]]], 'hstr': u'N_40k--18-9'}},\n",
       " u'19': {u'0': {'bettis': [[239, [1]]], 'hstr': u'N_40k--19-0'},\n",
       "  u'1': {'bettis': [[239, [1]]], 'hstr': u'N_40k--19-1'},\n",
       "  u'10': {'bettis': [[239, [1]]], 'hstr': u'N_40k--19-10'},\n",
       "  u'11': {'bettis': [[239, [1]]], 'hstr': u'N_40k--19-11'},\n",
       "  u'12': {'bettis': [[239, [1]]], 'hstr': u'N_40k--19-12'},\n",
       "  u'13': {'bettis': [[239, [1]]], 'hstr': u'N_40k--19-13'},\n",
       "  u'14': {'bettis': [[239, [1]]], 'hstr': u'N_40k--19-14'},\n",
       "  u'15': {'bettis': [[239, [1]]], 'hstr': u'N_40k--19-15'},\n",
       "  u'16': {'bettis': [[239, [1]]], 'hstr': u'N_40k--19-16'},\n",
       "  u'17': {'bettis': [[239, [1]]], 'hstr': u'N_40k--19-17'},\n",
       "  u'18': {'bettis': [[239, [1]]], 'hstr': u'N_40k--19-18'},\n",
       "  u'19': {'bettis': [[239, [1]]], 'hstr': u'N_40k--19-19'},\n",
       "  u'2': {'bettis': [[239, [1]]], 'hstr': u'N_40k--19-2'},\n",
       "  u'3': {'bettis': [[239, [1]]], 'hstr': u'N_40k--19-3'},\n",
       "  u'4': {'bettis': [[239, [1]]], 'hstr': u'N_40k--19-4'},\n",
       "  u'5': {'bettis': [[239, [1]]], 'hstr': u'N_40k--19-5'},\n",
       "  u'6': {'bettis': [[239, [1]]], 'hstr': u'N_40k--19-6'},\n",
       "  u'7': {'bettis': [[239, [1]]], 'hstr': u'N_40k--19-7'},\n",
       "  u'8': {'bettis': [[239, [1]]], 'hstr': u'N_40k--19-8'},\n",
       "  u'9': {'bettis': [[239, [1]]], 'hstr': u'N_40k--19-9'}},\n",
       " u'2': {u'0': {'bettis': [[239, [1]]], 'hstr': u'N_40k--2-0'},\n",
       "  u'1': {'bettis': [[239, [1]]], 'hstr': u'N_40k--2-1'},\n",
       "  u'10': {'bettis': [[239, [1]]], 'hstr': u'N_40k--2-10'},\n",
       "  u'11': {'bettis': [[239, [1]]], 'hstr': u'N_40k--2-11'},\n",
       "  u'12': {'bettis': [[239, [1]]], 'hstr': u'N_40k--2-12'},\n",
       "  u'13': {'bettis': [[239, [1]]], 'hstr': u'N_40k--2-13'},\n",
       "  u'14': {'bettis': [[239, [1]]], 'hstr': u'N_40k--2-14'},\n",
       "  u'15': {'bettis': [[239, [1]]], 'hstr': u'N_40k--2-15'},\n",
       "  u'16': {'bettis': [[239, [1]]], 'hstr': u'N_40k--2-16'},\n",
       "  u'17': {'bettis': [[239, [1]]], 'hstr': u'N_40k--2-17'},\n",
       "  u'18': {'bettis': [[239, [1]]], 'hstr': u'N_40k--2-18'},\n",
       "  u'19': {'bettis': [[239, [1]]], 'hstr': u'N_40k--2-19'},\n",
       "  u'2': {'bettis': [[239, [1]]], 'hstr': u'N_40k--2-2'},\n",
       "  u'3': {'bettis': [[239, [1]]], 'hstr': u'N_40k--2-3'},\n",
       "  u'4': {'bettis': [[239, [1]]], 'hstr': u'N_40k--2-4'},\n",
       "  u'5': {'bettis': [[239, [1]]], 'hstr': u'N_40k--2-5'},\n",
       "  u'6': {'bettis': [[239, [1]]], 'hstr': u'N_40k--2-6'},\n",
       "  u'7': {'bettis': [[239, [1]]], 'hstr': u'N_40k--2-7'},\n",
       "  u'8': {'bettis': [[239, [1]]], 'hstr': u'N_40k--2-8'},\n",
       "  u'9': {'bettis': [[239, [1]]], 'hstr': u'N_40k--2-9'}},\n",
       " u'3': {u'0': {'bettis': [[239, [1]]], 'hstr': u'N_40k--3-0'},\n",
       "  u'1': {'bettis': [[239, [1]]], 'hstr': u'N_40k--3-1'},\n",
       "  u'10': {'bettis': [[239, [1]]], 'hstr': u'N_40k--3-10'},\n",
       "  u'11': {'bettis': [[239, [1]]], 'hstr': u'N_40k--3-11'},\n",
       "  u'12': {'bettis': [[239, [1]]], 'hstr': u'N_40k--3-12'},\n",
       "  u'13': {'bettis': [[239, [1]]], 'hstr': u'N_40k--3-13'},\n",
       "  u'14': {'bettis': [[239, [1]]], 'hstr': u'N_40k--3-14'},\n",
       "  u'15': {'bettis': [[239, [1]]], 'hstr': u'N_40k--3-15'},\n",
       "  u'16': {'bettis': [[239, [1]]], 'hstr': u'N_40k--3-16'},\n",
       "  u'17': {'bettis': [[239, [1]]], 'hstr': u'N_40k--3-17'},\n",
       "  u'18': {'bettis': [[239, [1]]], 'hstr': u'N_40k--3-18'},\n",
       "  u'19': {'bettis': [[239, [1]]], 'hstr': u'N_40k--3-19'},\n",
       "  u'2': {'bettis': [[239, [1]]], 'hstr': u'N_40k--3-2'},\n",
       "  u'3': {'bettis': [[239, [1]]], 'hstr': u'N_40k--3-3'},\n",
       "  u'4': {'bettis': [[239, [1]]], 'hstr': u'N_40k--3-4'},\n",
       "  u'5': {'bettis': [[239, [1]]], 'hstr': u'N_40k--3-5'},\n",
       "  u'6': {'bettis': [[239, [1]]], 'hstr': u'N_40k--3-6'},\n",
       "  u'7': {'bettis': [[239, [1]]], 'hstr': u'N_40k--3-7'},\n",
       "  u'8': {'bettis': [[239, [1]]], 'hstr': u'N_40k--3-8'},\n",
       "  u'9': {'bettis': [[239, [1]]], 'hstr': u'N_40k--3-9'}},\n",
       " u'4': {u'0': {'bettis': [[239, [1]]], 'hstr': u'N_40k--4-0'},\n",
       "  u'1': {'bettis': [[239, [1]]], 'hstr': u'N_40k--4-1'},\n",
       "  u'10': {'bettis': [[239, [1]]], 'hstr': u'N_40k--4-10'},\n",
       "  u'11': {'bettis': [[239, [1]]], 'hstr': u'N_40k--4-11'},\n",
       "  u'12': {'bettis': [[239, [1]]], 'hstr': u'N_40k--4-12'},\n",
       "  u'13': {'bettis': [[239, [1]]], 'hstr': u'N_40k--4-13'},\n",
       "  u'14': {'bettis': [[239, [1]]], 'hstr': u'N_40k--4-14'},\n",
       "  u'15': {'bettis': [[239, [1]]], 'hstr': u'N_40k--4-15'},\n",
       "  u'16': {'bettis': [[239, [1]]], 'hstr': u'N_40k--4-16'},\n",
       "  u'17': {'bettis': [[239, [1]]], 'hstr': u'N_40k--4-17'},\n",
       "  u'18': {'bettis': [[239, [1]]], 'hstr': u'N_40k--4-18'},\n",
       "  u'19': {'bettis': [[239, [1]]], 'hstr': u'N_40k--4-19'},\n",
       "  u'2': {'bettis': [[239, [1]]], 'hstr': u'N_40k--4-2'},\n",
       "  u'3': {'bettis': [[239, [1]]], 'hstr': u'N_40k--4-3'},\n",
       "  u'4': {'bettis': [[239, [1]]], 'hstr': u'N_40k--4-4'},\n",
       "  u'5': {'bettis': [[239, [1]]], 'hstr': u'N_40k--4-5'},\n",
       "  u'6': {'bettis': [[239, [1]]], 'hstr': u'N_40k--4-6'},\n",
       "  u'7': {'bettis': [[239, [1]]], 'hstr': u'N_40k--4-7'},\n",
       "  u'8': {'bettis': [[239, [1]]], 'hstr': u'N_40k--4-8'},\n",
       "  u'9': {'bettis': [[239, [1]]], 'hstr': u'N_40k--4-9'}},\n",
       " u'5': {u'0': {'bettis': [[239, [1]]], 'hstr': u'N_40k--5-0'},\n",
       "  u'1': {'bettis': [[239, [1]]], 'hstr': u'N_40k--5-1'},\n",
       "  u'10': {'bettis': [[239, [1]]], 'hstr': u'N_40k--5-10'},\n",
       "  u'11': {'bettis': [[239, [1]]], 'hstr': u'N_40k--5-11'},\n",
       "  u'12': {'bettis': [[239, [1]]], 'hstr': u'N_40k--5-12'},\n",
       "  u'13': {'bettis': [[239, [1]]], 'hstr': u'N_40k--5-13'},\n",
       "  u'14': {'bettis': [[239, [1]]], 'hstr': u'N_40k--5-14'},\n",
       "  u'15': {'bettis': [[239, [1]]], 'hstr': u'N_40k--5-15'},\n",
       "  u'16': {'bettis': [[239, [1]]], 'hstr': u'N_40k--5-16'},\n",
       "  u'17': {'bettis': [[239, [1]]], 'hstr': u'N_40k--5-17'},\n",
       "  u'18': {'bettis': [[239, [1]]], 'hstr': u'N_40k--5-18'},\n",
       "  u'19': {'bettis': [[239, [1]]], 'hstr': u'N_40k--5-19'},\n",
       "  u'2': {'bettis': [[239, [1]]], 'hstr': u'N_40k--5-2'},\n",
       "  u'3': {'bettis': [[239, [1]]], 'hstr': u'N_40k--5-3'},\n",
       "  u'4': {'bettis': [[239, [1]]], 'hstr': u'N_40k--5-4'},\n",
       "  u'5': {'bettis': [[239, [1]]], 'hstr': u'N_40k--5-5'},\n",
       "  u'6': {'bettis': [[239, [1]]], 'hstr': u'N_40k--5-6'},\n",
       "  u'7': {'bettis': [[239, [1]]], 'hstr': u'N_40k--5-7'},\n",
       "  u'8': {'bettis': [[239, [1]]], 'hstr': u'N_40k--5-8'},\n",
       "  u'9': {'bettis': [[239, [1]]], 'hstr': u'N_40k--5-9'}},\n",
       " u'6': {u'0': {'bettis': [[239, [1]]], 'hstr': u'N_40k--6-0'},\n",
       "  u'1': {'bettis': [[239, [1]]], 'hstr': u'N_40k--6-1'},\n",
       "  u'10': {'bettis': [[239, [1]]], 'hstr': u'N_40k--6-10'},\n",
       "  u'11': {'bettis': [[239, [1]]], 'hstr': u'N_40k--6-11'},\n",
       "  u'12': {'bettis': [[239, [1]]], 'hstr': u'N_40k--6-12'},\n",
       "  u'13': {'bettis': [[239, [1]]], 'hstr': u'N_40k--6-13'},\n",
       "  u'14': {'bettis': [[239, [1]]], 'hstr': u'N_40k--6-14'},\n",
       "  u'15': {'bettis': [[239, [1]]], 'hstr': u'N_40k--6-15'},\n",
       "  u'16': {'bettis': [[239, [1]]], 'hstr': u'N_40k--6-16'},\n",
       "  u'17': {'bettis': [[239, [1]]], 'hstr': u'N_40k--6-17'},\n",
       "  u'18': {'bettis': [[239, [1]]], 'hstr': u'N_40k--6-18'},\n",
       "  u'19': {'bettis': [[239, [1]]], 'hstr': u'N_40k--6-19'},\n",
       "  u'2': {'bettis': [[239, [1]]], 'hstr': u'N_40k--6-2'},\n",
       "  u'3': {'bettis': [[239, [1]]], 'hstr': u'N_40k--6-3'},\n",
       "  u'4': {'bettis': [[239, [1]]], 'hstr': u'N_40k--6-4'},\n",
       "  u'5': {'bettis': [[239, [1]]], 'hstr': u'N_40k--6-5'},\n",
       "  u'6': {'bettis': [[239, [1]]], 'hstr': u'N_40k--6-6'},\n",
       "  u'7': {'bettis': [[239, [1]]], 'hstr': u'N_40k--6-7'},\n",
       "  u'8': {'bettis': [[239, [1]]], 'hstr': u'N_40k--6-8'},\n",
       "  u'9': {'bettis': [[239, [1]]], 'hstr': u'N_40k--6-9'}},\n",
       " u'7': {u'0': {'bettis': [[239, [1]]], 'hstr': u'N_40k--7-0'},\n",
       "  u'1': {'bettis': [[239, [1]]], 'hstr': u'N_40k--7-1'},\n",
       "  u'10': {'bettis': [[239, [1]]], 'hstr': u'N_40k--7-10'},\n",
       "  u'11': {'bettis': [[239, [1]]], 'hstr': u'N_40k--7-11'},\n",
       "  u'12': {'bettis': [[239, [1]]], 'hstr': u'N_40k--7-12'},\n",
       "  u'13': {'bettis': [[239, [1]]], 'hstr': u'N_40k--7-13'},\n",
       "  u'14': {'bettis': [[239, [1]]], 'hstr': u'N_40k--7-14'},\n",
       "  u'15': {'bettis': [[239, [1]]], 'hstr': u'N_40k--7-15'},\n",
       "  u'16': {'bettis': [[239, [1]]], 'hstr': u'N_40k--7-16'},\n",
       "  u'17': {'bettis': [[239, [1]]], 'hstr': u'N_40k--7-17'},\n",
       "  u'18': {'bettis': [[239, [1]]], 'hstr': u'N_40k--7-18'},\n",
       "  u'19': {'bettis': [[239, [1]]], 'hstr': u'N_40k--7-19'},\n",
       "  u'2': {'bettis': [[239, [1]]], 'hstr': u'N_40k--7-2'},\n",
       "  u'3': {'bettis': [[239, [1]]], 'hstr': u'N_40k--7-3'},\n",
       "  u'4': {'bettis': [[239, [1]]], 'hstr': u'N_40k--7-4'},\n",
       "  u'5': {'bettis': [[239, [1]]], 'hstr': u'N_40k--7-5'},\n",
       "  u'6': {'bettis': [[239, [1]]], 'hstr': u'N_40k--7-6'},\n",
       "  u'7': {'bettis': [[239, [1]]], 'hstr': u'N_40k--7-7'},\n",
       "  u'8': {'bettis': [[239, [1]]], 'hstr': u'N_40k--7-8'},\n",
       "  u'9': {'bettis': [[239, [1]]], 'hstr': u'N_40k--7-9'}},\n",
       " u'8': {u'0': {'bettis': [[239, [1]]], 'hstr': u'N_40k--8-0'},\n",
       "  u'1': {'bettis': [[239, [1]]], 'hstr': u'N_40k--8-1'},\n",
       "  u'10': {'bettis': [[239, [1]]], 'hstr': u'N_40k--8-10'},\n",
       "  u'11': {'bettis': [[239, [1]]], 'hstr': u'N_40k--8-11'},\n",
       "  u'12': {'bettis': [[239, [1]]], 'hstr': u'N_40k--8-12'},\n",
       "  u'13': {'bettis': [[239, [1]]], 'hstr': u'N_40k--8-13'},\n",
       "  u'14': {'bettis': [[239, [1]]], 'hstr': u'N_40k--8-14'},\n",
       "  u'15': {'bettis': [[239, [1]]], 'hstr': u'N_40k--8-15'},\n",
       "  u'16': {'bettis': [[239, [1]]], 'hstr': u'N_40k--8-16'},\n",
       "  u'17': {'bettis': [[239, [1]]], 'hstr': u'N_40k--8-17'},\n",
       "  u'18': {'bettis': [[239, [1]]], 'hstr': u'N_40k--8-18'},\n",
       "  u'19': {'bettis': [[239, [1]]], 'hstr': u'N_40k--8-19'},\n",
       "  u'2': {'bettis': [[239, [1]]], 'hstr': u'N_40k--8-2'},\n",
       "  u'3': {'bettis': [[239, [1]]], 'hstr': u'N_40k--8-3'},\n",
       "  u'4': {'bettis': [[239, [1]]], 'hstr': u'N_40k--8-4'},\n",
       "  u'5': {'bettis': [[239, [1]]], 'hstr': u'N_40k--8-5'},\n",
       "  u'6': {'bettis': [[239, [1]]], 'hstr': u'N_40k--8-6'},\n",
       "  u'7': {'bettis': [[239, [1]]], 'hstr': u'N_40k--8-7'},\n",
       "  u'8': {'bettis': [[239, [1]]], 'hstr': u'N_40k--8-8'},\n",
       "  u'9': {'bettis': [[239, [1]]], 'hstr': u'N_40k--8-9'}},\n",
       " u'9': {u'0': {'bettis': [[239, [1]]], 'hstr': u'N_40k--9-0'},\n",
       "  u'1': {'bettis': [[239, [1]]], 'hstr': u'N_40k--9-1'},\n",
       "  u'10': {'bettis': [[239, [1]]], 'hstr': u'N_40k--9-10'},\n",
       "  u'11': {'bettis': [[239, [1]]], 'hstr': u'N_40k--9-11'},\n",
       "  u'12': {'bettis': [[239, [1]]], 'hstr': u'N_40k--9-12'},\n",
       "  u'13': {'bettis': [[239, [1]]], 'hstr': u'N_40k--9-13'},\n",
       "  u'14': {'bettis': [[239, [1]]], 'hstr': u'N_40k--9-14'},\n",
       "  u'15': {'bettis': [[239, [1]]], 'hstr': u'N_40k--9-15'},\n",
       "  u'16': {'bettis': [[239, [1]]], 'hstr': u'N_40k--9-16'},\n",
       "  u'17': {'bettis': [[239, [1]]], 'hstr': u'N_40k--9-17'},\n",
       "  u'18': {'bettis': [[239, [1]]], 'hstr': u'N_40k--9-18'},\n",
       "  u'19': {'bettis': [[239, [1]]], 'hstr': u'N_40k--9-19'},\n",
       "  u'2': {'bettis': [[239, [1]]], 'hstr': u'N_40k--9-2'},\n",
       "  u'3': {'bettis': [[239, [1]]], 'hstr': u'N_40k--9-3'},\n",
       "  u'4': {'bettis': [[239, [1]]], 'hstr': u'N_40k--9-4'},\n",
       "  u'5': {'bettis': [[239, [1]]], 'hstr': u'N_40k--9-5'},\n",
       "  u'6': {'bettis': [[239, [1]]], 'hstr': u'N_40k--9-6'},\n",
       "  u'7': {'bettis': [[239, [1]]], 'hstr': u'N_40k--9-7'},\n",
       "  u'8': {'bettis': [[239, [1]]], 'hstr': u'N_40k--9-8'},\n",
       "  u'9': {'bettis': [[239, [1]]], 'hstr': u'N_40k--9-9'}}}"
      ]
     },
     "execution_count": 11,
     "metadata": {},
     "output_type": "execute_result"
    }
   ],
   "source": [
    "dat['N_40k']"
   ]
  },
  {
   "cell_type": "code",
   "execution_count": null,
   "metadata": {
    "collapsed": true
   },
   "outputs": [],
   "source": []
  }
 ],
 "metadata": {
  "kernelspec": {
   "display_name": "Python 2",
   "language": "python",
   "name": "python2"
  },
  "language_info": {
   "codemirror_mode": {
    "name": "ipython",
    "version": 2
   },
   "file_extension": ".py",
   "mimetype": "text/x-python",
   "name": "python",
   "nbconvert_exporter": "python",
   "pygments_lexer": "ipython2",
   "version": "2.7.11"
  }
 },
 "nbformat": 4,
 "nbformat_minor": 0
}
