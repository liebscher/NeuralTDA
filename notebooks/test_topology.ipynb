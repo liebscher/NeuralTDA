{
 "cells": [
  {
   "cell_type": "code",
   "execution_count": 2,
   "metadata": {
    "collapsed": false
   },
   "outputs": [
    {
     "data": {
      "text/plain": [
       "<module 'ephys.rasters' from '/Users/brad/GentnerLab/code/ephys-analysis/ephys/rasters.pyc'>"
      ]
     },
     "execution_count": 2,
     "metadata": {},
     "output_type": "execute_result"
    }
   ],
   "source": [
    "import neuraltda.test_pipeline as ttop\n",
    "import numpy as np\n",
    "import neuraltda.topology as tp\n",
    "import neuraltda.topology_plots as tplot\n",
    "from ephys import rasters, spiketrains\n",
    "import h5py as h5\n",
    "import matplotlib.pyplot as plt\n",
    "%matplotlib inline\n",
    "reload(ttop)\n",
    "reload(tp)\n",
    "reload(rasters)"
   ]
  },
  {
   "cell_type": "code",
   "execution_count": null,
   "metadata": {
    "collapsed": false
   },
   "outputs": [],
   "source": [
    "block_path = '/Users/brad/experiments/B999/'\n",
    "kwikfile = 'B999_S00_P00.kwik'\n",
    "bin_id = '0801161542'\n",
    "bin_def_file = '/Users/brad/GentnerLab/code/NeuralTDA/standard_good_binnings.txt'\n",
    "n_cells = 60\n",
    "maxt = 10\n",
    "fs = 24000.0\n",
    "dthetadt = 1*np.pi/6\n",
    "kappa = 5\n",
    "maxfr = 100\n",
    "ncellperm = 40\n",
    "nperms = 1\n",
    "ntrials = 4"
   ]
  },
  {
   "cell_type": "code",
   "execution_count": null,
   "metadata": {
    "collapsed": false
   },
   "outputs": [],
   "source": [
    "spikes, clusters, trials = ttop.generate_test_dataset(n_cells, maxt, fs, dthetadt, kappa, maxfr, ntrials)"
   ]
  },
  {
   "cell_type": "code",
   "execution_count": null,
   "metadata": {
    "collapsed": false
   },
   "outputs": [],
   "source": [
    "print spikes.head()\n",
    "print clusters.head()\n",
    "print trials.head()"
   ]
  },
  {
   "cell_type": "code",
   "execution_count": null,
   "metadata": {
    "collapsed": false
   },
   "outputs": [],
   "source": [
    "f = plt.figure(figsize=(22,22))\n",
    "rasters.plot_raster_cell_stim(spikes, trials, 12, 'test_pipeline_stimulus', [-2, 2], 0, fs)"
   ]
  },
  {
   "cell_type": "code",
   "execution_count": null,
   "metadata": {
    "collapsed": false
   },
   "outputs": [],
   "source": [
    "f = plt.figure(figsize=(11,11))\n",
    "rasters.plot_raster_stim_trial(spikes, trials,'test_pipeline_stimulus', 2, [-2, 2], 0, fs)"
   ]
  },
  {
   "cell_type": "code",
   "execution_count": null,
   "metadata": {
    "collapsed": true
   },
   "outputs": [],
   "source": [
    "def plot_raster_stim_trial(spikes, trials, stim, trial,\n",
    "                           period, rec, fs, plot_params=None, ax=None):\n",
    "    '''\n",
    "    Plots a spike raster of all units for a given trial of a given stimulus.\n",
    "\n",
    "    Parameters\n",
    "    ----------\n",
    "    spikes : pandas dataframe\n",
    "        spike dataframe from core \n",
    "    trials : pandas dataframe\n",
    "        trials dataframe from events\n",
    "    stim : str \n",
    "        Name of the stimulus for which a raster is desired\n",
    "    trial : int\n",
    "        Trial number to plot. Note: Zero-indexed.\n",
    "    period : list of floats \n",
    "        Time window for the raster:  \n",
    "        [Seconds_pre_stimulus_onset, Seconds_post_stimulus_end]\n",
    "    rec : int \n",
    "        Recording ID \n",
    "    fs : float \n",
    "        Sampling rate\n",
    "    plot_params : dict\n",
    "        Drawing parameters:\n",
    "        'spike_linewidth' - linewidth of ticks for spikes \n",
    "        'tick_linewidth' - linewidth of ticks for event markers\n",
    "        'spike_color' - color of spike ticks \n",
    "        'tick_color' - color of event ticks \n",
    "    ax : Matplotlib axes handle, optional\n",
    "        Axes on which to produce the raster.  Default is to use gca \n",
    "    '''\n",
    "\n",
    "    stim_trials = trials[trials['stimulus'] == stim]\n",
    "    ntrials = len(stim_trials)\n",
    "    assert trial < ntrials, \"Trial does not exist: %d\" % trial\n",
    "\n",
    "    stim_start = stim_trials['time_samples'].values[trial]\n",
    "    stim_end = stim_trials['stimulus_end'].values[trial]\n",
    "    stim_end_seconds = (stim_end - stim_start)/fs\n",
    "    window = [period[0], stim_end_seconds+period[1]]\n",
    "    print window\n",
    "    trial_spikes = spiketrains.calc_spikes_in_window(spikes, [stim_start, stim_end])\n",
    "    print(trial_spikes)\n",
    "    trial_clusters = np.unique(trial_spikes['cluster'].values)\n",
    "    print(trial_clusters)\n",
    "    raster_data = []\n",
    "    for clu_num, clu_id in enumerate(trial_clusters):\n",
    "        sptrain = spiketrains.get_spiketrain(rec, stim_start, clu_id, spikes, window, fs)\n",
    "        print(sptrain)\n",
    "        raster_data.append(sptrain)\n",
    "    if plot_params == None:\n",
    "        rasters.do_raster(raster_data, window, [0, stim_end_seconds], ax) \n",
    "    else:\n",
    "        rasters.do_raster(raster_data, window, [0, stim_end_seconds], ax, \n",
    "                  spike_linewidth=plot_params['spike_linewidth'],\n",
    "                  spike_color=plot_params['spike_color'],\n",
    "                  tick_linewidth=plot_params['tick_linewidth'],\n",
    "                  tick_color=plot_params['tick_color'])"
   ]
  },
  {
   "cell_type": "code",
   "execution_count": null,
   "metadata": {
    "collapsed": false
   },
   "outputs": [],
   "source": [
    "popvec_fname = '/Users/brad/experiments/B999/testbin.binned'\n",
    "segment_info = {'period': 1}\n",
    "cluster_group = ['Good']\n",
    "win_size = 50.0\n",
    "top.build_population_embedding(spikes, trials, clusters, win_size, fs, cluster_group, segment_info, popvec_fname)"
   ]
  },
  {
   "cell_type": "code",
   "execution_count": null,
   "metadata": {
    "collapsed": false
   },
   "outputs": [],
   "source": [
    "ttop.test_pipeline(block_path, kwikfile, bin_id, bin_def_file, n_cells, maxt, fs, dthetadt, kappa, maxfr, ncellperm, nperms)"
   ]
  },
  {
   "cell_type": "code",
   "execution_count": null,
   "metadata": {
    "collapsed": true
   },
   "outputs": [],
   "source": [
    "import pickle\n"
   ]
  },
  {
   "cell_type": "code",
   "execution_count": null,
   "metadata": {
    "collapsed": false
   },
   "outputs": [],
   "source": [
    "pickle.load('/Volumes/gentner/btheilma/experiments/B999/topology/0801161509/B999_S00_P00-good-50ms-stim-permuted/B999_S00_P00-good-50ms-stim-permuted-0801161509-stim-test_pipeline_stimulus-bettiPersistence.pkl')"
   ]
  },
  {
   "cell_type": "code",
   "execution_count": null,
   "metadata": {
    "collapsed": true
   },
   "outputs": [],
   "source": [
    "binned_file = '/Volumes/gentner/btheilma/experiments/B1235/phy051316/Pen02_Lft_AP200_ML800__Site03_Z3000__B1235_cat_P02_S03_1/binned_data/1608221332/B1235_cat_P02_S03_1-good-50ms-stim.binned'"
   ]
  },
  {
   "cell_type": "code",
   "execution_count": null,
   "metadata": {
    "collapsed": false
   },
   "outputs": [],
   "source": [
    "bdf = h5.File(binned_file, 'r')"
   ]
  },
  {
   "cell_type": "code",
   "execution_count": null,
   "metadata": {
    "collapsed": true
   },
   "outputs": [],
   "source": [
    "bds = bdf['A_scaled_burung']['0']\n",
    "fs = bdf.attrs['fs']\n",
    "nclus = bdf.attrs['nclus']"
   ]
  },
  {
   "cell_type": "code",
   "execution_count": null,
   "metadata": {
    "collapsed": false
   },
   "outputs": [],
   "source": [
    "np.round(6.5/0.049)"
   ]
  },
  {
   "cell_type": "code",
   "execution_count": null,
   "metadata": {
    "collapsed": false
   },
   "outputs": [],
   "source": [
    "C = top.calc_corr_raw(bds['pop_vec'], bds['windows'], fs, 1, 4, 1)"
   ]
  },
  {
   "cell_type": "code",
   "execution_count": null,
   "metadata": {
    "collapsed": false
   },
   "outputs": [],
   "source": [
    "C"
   ]
  },
  {
   "cell_type": "code",
   "execution_count": null,
   "metadata": {
    "collapsed": true
   },
   "outputs": [],
   "source": [
    "wins = bds['windows']"
   ]
  },
  {
   "cell_type": "code",
   "execution_count": null,
   "metadata": {
    "collapsed": false
   },
   "outputs": [],
   "source": [
    "wins"
   ]
  },
  {
   "cell_type": "code",
   "execution_count": null,
   "metadata": {
    "collapsed": false
   },
   "outputs": [],
   "source": [
    "wins[0, 1]"
   ]
  },
  {
   "cell_type": "code",
   "execution_count": null,
   "metadata": {
    "collapsed": false
   },
   "outputs": [],
   "source": [
    "wins[0, 0]"
   ]
  },
  {
   "cell_type": "code",
   "execution_count": null,
   "metadata": {
    "collapsed": false
   },
   "outputs": [],
   "source": [
    "wins[0,1]-wins[0,0]"
   ]
  },
  {
   "cell_type": "code",
   "execution_count": null,
   "metadata": {
    "collapsed": false
   },
   "outputs": [],
   "source": [
    "fs"
   ]
  },
  {
   "cell_type": "code",
   "execution_count": null,
   "metadata": {
    "collapsed": false
   },
   "outputs": [],
   "source": [
    "cij = top.compute_Cij_matrix(bds['pop_vec'], wins, fs, nclus, 1)"
   ]
  },
  {
   "cell_type": "code",
   "execution_count": null,
   "metadata": {
    "collapsed": false
   },
   "outputs": [],
   "source": [
    "cij_r = cij+np.diag(47*[np.nan])\n",
    "cij_t = cij_r[~(np.isnan(cij_r).all(axis=1))]"
   ]
  },
  {
   "cell_type": "code",
   "execution_count": null,
   "metadata": {
    "collapsed": false
   },
   "outputs": [],
   "source": [
    "cij_tt = cij_t[~(np.isnan(cij_t).all(axis=0))]"
   ]
  },
  {
   "cell_type": "code",
   "execution_count": null,
   "metadata": {
    "collapsed": false
   },
   "outputs": [],
   "source": [
    "cols_to_remove = np.isnan(cij[0, :])"
   ]
  },
  {
   "cell_type": "code",
   "execution_count": null,
   "metadata": {
    "collapsed": false
   },
   "outputs": [],
   "source": [
    "cij_t = cij[~cols_to_remove]"
   ]
  },
  {
   "cell_type": "code",
   "execution_count": null,
   "metadata": {
    "collapsed": false
   },
   "outputs": [],
   "source": [
    "cij_tt = cij_t[:, ~cols_to_remove]"
   ]
  },
  {
   "cell_type": "code",
   "execution_count": null,
   "metadata": {
    "collapsed": false
   },
   "outputs": [],
   "source": [
    "0+np.nan"
   ]
  },
  {
   "cell_type": "code",
   "execution_count": null,
   "metadata": {
    "collapsed": false
   },
   "outputs": [],
   "source": [
    "cij+np.diag(47*[np.nan])"
   ]
  },
  {
   "cell_type": "code",
   "execution_count": null,
   "metadata": {
    "collapsed": false
   },
   "outputs": [],
   "source": [
    "cij_tt.shape"
   ]
  },
  {
   "cell_type": "code",
   "execution_count": null,
   "metadata": {
    "collapsed": false
   },
   "outputs": [],
   "source": [
    "np.isnan(cij_tt).any()"
   ]
  },
  {
   "cell_type": "code",
   "execution_count": null,
   "metadata": {
    "collapsed": true
   },
   "outputs": [],
   "source": [
    "tdf = '/Volumes/gentner/btheilma/experiments/B1235/phy051316/Pen02_Lft_AP200_ML800__Site03_Z3000__B1235_cat_P02_S03_1/topology/clique_top/2016-08-23T1548/B1235_cat_P02_S03_1-good-50ms-stim/B1235_cat_P02_S03_1-good-50ms-stim-2016-08-23T1548-CliqueTop--stim-A_scaled_burung-bettiPersistence.pkl'"
   ]
  },
  {
   "cell_type": "code",
   "execution_count": null,
   "metadata": {
    "collapsed": false
   },
   "outputs": [],
   "source": [
    "import pickle\n",
    "tdf_f = open(tdf, 'r')\n",
    "tf = pickle.load(tdf_f)"
   ]
  },
  {
   "cell_type": "code",
   "execution_count": null,
   "metadata": {
    "collapsed": false
   },
   "outputs": [],
   "source": [
    "tf"
   ]
  },
  {
   "cell_type": "code",
   "execution_count": null,
   "metadata": {
    "collapsed": false
   },
   "outputs": [],
   "source": [
    "from neuraltda import slidingSimplex as ssp\n",
    "from neuraltda import topology as tp"
   ]
  },
  {
   "cell_type": "code",
   "execution_count": null,
   "metadata": {
    "collapsed": true
   },
   "outputs": [],
   "source": [
    "block_path = '/Volumes/gentner/btheilma/experiments/B1087/phy040516/Pen03_Lft_AP0_ML500__Site02_Z2500__B1087_cat_P03_S02_1/'\n",
    "bdf = '/Volumes/gentner/btheilma/experiments/B1087/phy040516/Pen03_Lft_AP0_ML500__Site02_Z2500__B1087_cat_P03_S02_1/binned_data/20160928T151852Z/permuted_binned/20160928T151852Z-25.0-permuted.binned'"
   ]
  },
  {
   "cell_type": "code",
   "execution_count": null,
   "metadata": {
    "collapsed": true
   },
   "outputs": [],
   "source": [
    "tpid = '20161027-ssptest'\n",
    "thresh = 4.0\n",
    "simplexWinSize = 20\n"
   ]
  },
  {
   "cell_type": "code",
   "execution_count": null,
   "metadata": {
    "collapsed": false
   },
   "outputs": [],
   "source": [
    "reload(ssp)\n",
    "reload(tp)\n",
    "ssp.sspSlidingSimplex(tpid, bdf, block_path, thresh, simplexWinSize)"
   ]
  },
  {
   "cell_type": "code",
   "execution_count": null,
   "metadata": {
    "collapsed": false
   },
   "outputs": [],
   "source": [
    "from scipy.interpolate import interp1d\n",
    "import numpy as np\n",
    "import pickle \n",
    "import matplotlib.pyplot as plt\n",
    "%matplotlib inline\n",
    "import seaborn as sns\n",
    "sns.set_context('poster')\n",
    "\n",
    "def plotBettiCurveRecursive(resDict):\n",
    "    \n",
    "    if 'bettis' in resDict.keys():\n",
    "        bettiDat = resDict['bettis']\n",
    "        bettis = len(bettiDat[0][1])\n",
    "        for betti in range(bettis):\n",
    "            ycoords = [s[1][betti] for s in bettiDat]\n",
    "            xcoords = [s[0] for s in bettiDat]\n",
    "            fig = plt.figure()\n",
    "            plt.plot(np.transpose(xcoords), np.transpose(ycoords))\n",
    "            plt.title('Hstr: %s  Betti: %s' % (resDict['hstr'], betti))\n",
    "            plt.show()\n",
    "    else:\n",
    "        for ind, k in enumerate(resDict.keys()):\n",
    "            plotBettiCurveRecursive(resDict[k])\n",
    "            \n",
    "def avgBettiRecursive(bettiDict, bettinum, runningSum, N, maxT):\n",
    "    if 'bettis' in bettiDict.keys():\n",
    "        bettiT = np.array([s[0] for s in bettiDict['bettis']])*(windt/1000.)\n",
    "        maxT = max(bettiT)\n",
    "        try:\n",
    "            bettiB = np.array([s[1][bettinum] for s in bettiDict['bettis']])\n",
    "        except:\n",
    "            \n",
    "            bettiB = np.zeros(len(bettiT))\n",
    "        bfunc = interp1d(bettiT, bettiB, kind='zero', bounds_error=False, fill_value=(bettiB[0], bettiB[-1]))\n",
    "        t = np.linspace(0, maxT, 1000)\n",
    "        bvals = bfunc(t)\n",
    "        return (runningSum + bvals, N+1, maxT)\n",
    "    else:\n",
    "        for k in bettiDict.keys():\n",
    "            runningSum, N, maxT = avgBettiRecursive(bettiDict[k], bettinum, runningSum, N, maxT)\n",
    "        return (runningSum, N, maxT)\n",
    "    \n",
    "def computeAvgBettiCurve(resDict, stim, betti):\n",
    "    \n",
    "    stimdata = resDict[stim]\n",
    "    \n",
    "    runningSum, N, maxT = avgBettiRecursive(stimdata, betti, np.zeros(1000), 0, 0)\n",
    "    avgBetti = runningSum / float(N)\n",
    "    t = np.linspace(0, maxT, len(avgBetti))\n",
    "    \n",
    "    return (avgBetti, t, maxT)\n",
    "    \n",
    "def plotAvgBettiCurves(avgBetti, t, betti): \n",
    "    plt.figure()\n",
    "    plt.plot(t, avgBetti)\n",
    "    plt.title('Stim: %s Betti: %d' %('s', betti))\n",
    "    plt.ylim([0, max(avgBetti)+2])\n",
    "    plt.xlim([0, max(t)])\n",
    "    plt.show()"
   ]
  },
  {
   "cell_type": "code",
   "execution_count": null,
   "metadata": {
    "collapsed": true
   },
   "outputs": [],
   "source": [
    "with open('/Volumes/gentner/btheilma/experiments/B1087/phy040516/Pen03_Lft_AP0_ML500__Site02_Z2500__B1087_cat_P03_S02_1/topology/20161026-ssptest/20161026-ssptest-bettiResultsDict.pkl', 'r') as f:\n",
    "    dat = pickle.load(f)\n"
   ]
  },
  {
   "cell_type": "code",
   "execution_count": null,
   "metadata": {
    "collapsed": false
   },
   "outputs": [],
   "source": [
    "dat['N_40k']"
   ]
  },
  {
   "cell_type": "code",
   "execution_count": 13,
   "metadata": {
    "collapsed": false
   },
   "outputs": [
    {
     "data": {
      "text/plain": [
       "[[0, 39],\n",
       " [25, 64],\n",
       " [50, 89],\n",
       " [75, 114],\n",
       " [100, 139],\n",
       " [125, 164],\n",
       " [150, 189],\n",
       " [175, 200]]"
      ]
     },
     "execution_count": 13,
     "metadata": {},
     "output_type": "execute_result"
    }
   ],
   "source": [
    "reload(tp)\n",
    "segment = [0, 200]\n",
    "subwin_len = 40\n",
    "\n",
    "tp.create_overlap_subwindows(segment, subwin_len, 15)"
   ]
  },
  {
   "cell_type": "code",
   "execution_count": 12,
   "metadata": {
    "collapsed": false
   },
   "outputs": [
    {
     "data": {
      "text/plain": [
       "[[0.0, 4.0], [4.0, 8.0], [8.0, 12.0], [12.0, 16.0], [16.0, 20.0]]"
      ]
     },
     "execution_count": 12,
     "metadata": {},
     "output_type": "execute_result"
    }
   ],
   "source": [
    "tp.create_subwindows(segment, subwin_len, 1)"
   ]
  },
  {
   "cell_type": "code",
   "execution_count": null,
   "metadata": {
    "collapsed": true
   },
   "outputs": [],
   "source": []
  }
 ],
 "metadata": {
  "kernelspec": {
   "display_name": "Python 2",
   "language": "python",
   "name": "python2"
  },
  "language_info": {
   "codemirror_mode": {
    "name": "ipython",
    "version": 2
   },
   "file_extension": ".py",
   "mimetype": "text/x-python",
   "name": "python",
   "nbconvert_exporter": "python",
   "pygments_lexer": "ipython2",
   "version": "2.7.11"
  }
 },
 "nbformat": 4,
 "nbformat_minor": 0
}
