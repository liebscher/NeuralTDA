{
 "cells": [
  {
   "cell_type": "code",
   "execution_count": 47,
   "metadata": {
    "collapsed": false
   },
   "outputs": [
    {
     "data": {
      "text/plain": [
       "<module 'neuraltda.topology' from '/Users/brad/GentnerLab/code/NeuralTDA/neuraltda/topology.py'>"
      ]
     },
     "execution_count": 47,
     "metadata": {},
     "output_type": "execute_result"
    }
   ],
   "source": [
    "import neuraltda.test_pipeline as ttop\n",
    "import numpy as np\n",
    "import neuraltda.topology as top\n",
    "import h5py as h5\n",
    "reload(ttop)\n",
    "reload(top)"
   ]
  },
  {
   "cell_type": "code",
   "execution_count": null,
   "metadata": {
    "collapsed": false
   },
   "outputs": [],
   "source": [
    "block_path = '/Users/brad/experiments/B999/'\n",
    "kwikfile = 'B999_S00_P00.kwik'\n",
    "bin_id = '0801161542'\n",
    "bin_def_file = '/Users/brad/GentnerLab/code/NeuralTDA/standard_good_binnings.txt'\n",
    "n_cells = 60\n",
    "maxt = 6\n",
    "fs = 24000.0\n",
    "dthetadt = 2*np.pi/6\n",
    "kappa = 1\n",
    "maxfr = 25\n",
    "ncellperm = 40\n",
    "nperms = 1\n"
   ]
  },
  {
   "cell_type": "code",
   "execution_count": null,
   "metadata": {
    "collapsed": false
   },
   "outputs": [],
   "source": [
    "spikes, clusters, trials = ttop.generate_test_dataset(n_cells, maxt, fs, dthetadt, kappa, maxfr)"
   ]
  },
  {
   "cell_type": "code",
   "execution_count": null,
   "metadata": {
    "collapsed": false
   },
   "outputs": [],
   "source": [
    "spikes"
   ]
  },
  {
   "cell_type": "code",
   "execution_count": null,
   "metadata": {
    "collapsed": false
   },
   "outputs": [],
   "source": [
    "popvec_fname = '/Users/brad/experiments/B999/testbin.binned'\n",
    "segment_info = {'period': 1}\n",
    "cluster_group = ['Good']\n",
    "win_size = 50.0\n",
    "top.build_population_embedding(spikes, trials, clusters, win_size, fs, cluster_group, segment_info, popvec_fname)"
   ]
  },
  {
   "cell_type": "code",
   "execution_count": null,
   "metadata": {
    "collapsed": false
   },
   "outputs": [],
   "source": [
    "ttop.test_pipeline(block_path, kwikfile, bin_id, bin_def_file, n_cells, maxt, fs, dthetadt, kappa, maxfr, ncellperm, nperms)"
   ]
  },
  {
   "cell_type": "code",
   "execution_count": null,
   "metadata": {
    "collapsed": true
   },
   "outputs": [],
   "source": [
    "import pickle\n"
   ]
  },
  {
   "cell_type": "code",
   "execution_count": null,
   "metadata": {
    "collapsed": false
   },
   "outputs": [],
   "source": [
    "pickle.load('/Volumes/gentner/btheilma/experiments/B999/topology/0801161509/B999_S00_P00-good-50ms-stim-permuted/B999_S00_P00-good-50ms-stim-permuted-0801161509-stim-test_pipeline_stimulus-bettiPersistence.pkl')"
   ]
  },
  {
   "cell_type": "code",
   "execution_count": 4,
   "metadata": {
    "collapsed": true
   },
   "outputs": [],
   "source": [
    "binned_file = '/Volumes/gentner/btheilma/experiments/B1235/phy051316/Pen02_Lft_AP200_ML800__Site03_Z3000__B1235_cat_P02_S03_1/binned_data/1608221332/B1235_cat_P02_S03_1-good-50ms-stim.binned'"
   ]
  },
  {
   "cell_type": "code",
   "execution_count": 5,
   "metadata": {
    "collapsed": false
   },
   "outputs": [],
   "source": [
    "bdf = h5.File(binned_file, 'r')"
   ]
  },
  {
   "cell_type": "code",
   "execution_count": 8,
   "metadata": {
    "collapsed": true
   },
   "outputs": [],
   "source": [
    "bds = bdf['A_scaled_burung']['0']\n",
    "fs = bdf.attrs['fs']"
   ]
  },
  {
   "cell_type": "code",
   "execution_count": 43,
   "metadata": {
    "collapsed": false
   },
   "outputs": [
    {
     "data": {
      "text/plain": [
       "133.0"
      ]
     },
     "execution_count": 43,
     "metadata": {},
     "output_type": "execute_result"
    }
   ],
   "source": [
    "np.round(6.5/0.049)"
   ]
  },
  {
   "cell_type": "code",
   "execution_count": 51,
   "metadata": {
    "collapsed": false
   },
   "outputs": [
    {
     "name": "stdout",
     "output_type": "stream",
     "text": [
      "0.049984\n",
      "r_i: 23.6090225564, r_j: 1.35338345865\n",
      "c_ij [  0.           0.           0.           0.           0.           0.\n",
      "   3.0075188    6.01503759   3.0075188    0.           0.           3.0075188\n",
      "   3.0075188    3.0075188    9.02255639   9.02255639   9.02255639\n",
      "   9.02255639   9.02255639   6.01503759   3.0075188    9.02255639\n",
      "   6.01503759   9.02255639  15.03759398  12.03007519   9.02255639\n",
      "   9.02255639  12.03007519  12.03007519  12.03007519  15.03759398\n",
      "  15.03759398  12.03007519   9.02255639   9.02255639  12.03007519\n",
      "  12.03007519   9.02255639   9.02255639   6.01503759   3.0075188\n",
      "   6.01503759   6.01503759   3.0075188    3.0075188    3.0075188    0.           0.\n",
      "   3.0075188    3.0075188    3.0075188    3.0075188    3.0075188\n",
      "   6.01503759   6.01503759   6.01503759   3.0075188    3.0075188\n",
      "   6.01503759   3.0075188    0.           0.           6.01503759\n",
      "   6.01503759   9.02255639  18.04511278  18.04511278  15.03759398\n",
      "  15.03759398  18.04511278   9.02255639   6.01503759  15.03759398\n",
      "  15.03759398  18.04511278  21.05263158  18.04511278  21.05263158\n",
      "  21.05263158  24.06015038  30.07518797  30.07518797  36.09022556\n",
      "  33.08270677  27.06766917  30.07518797  30.07518797  30.07518797\n",
      "  30.07518797  24.06015038  21.05263158  18.04511278  12.03007519\n",
      "  12.03007519  12.03007519  15.03759398  18.04511278  12.03007519\n",
      "   9.02255639   9.02255639  12.03007519   9.02255639   3.0075188\n",
      "   6.01503759  15.03759398  15.03759398   9.02255639  15.03759398\n",
      "  15.03759398   9.02255639   9.02255639  15.03759398  12.03007519\n",
      "   3.0075188    6.01503759   9.02255639  18.04511278  21.05263158\n",
      "  24.06015038  21.05263158  12.03007519  15.03759398   9.02255639\n",
      "  12.03007519  12.03007519  18.04511278  24.06015038  18.04511278\n",
      "  21.05263158  27.06766917  24.06015038  27.06766917  36.09022556\n",
      "  42.10526316  54.13533835  42.10526316  42.10526316  42.10526316\n",
      "  48.12030075  33.08270677  45.11278195  45.11278195  33.08270677\n",
      "  36.09022556  39.09774436  21.05263158  33.08270677  39.09774436\n",
      "  45.11278195  27.06766917  36.09022556  27.06766917  30.07518797\n",
      "  27.06766917  24.06015038  18.04511278  36.09022556  18.04511278\n",
      "  18.04511278  27.06766917  27.06766917  18.04511278  24.06015038\n",
      "  15.03759398  15.03759398  12.03007519  12.03007519   9.02255639\n",
      "  18.04511278  12.03007519  18.04511278  18.04511278  15.03759398\n",
      "   6.01503759  15.03759398   6.01503759  12.03007519   9.02255639\n",
      "  15.03759398  12.03007519  12.03007519   6.01503759   9.02255639\n",
      "  18.04511278  15.03759398  30.07518797  30.07518797  24.06015038\n",
      "  24.06015038  27.06766917  24.06015038  27.06766917  30.07518797\n",
      "  27.06766917  30.07518797  27.06766917  24.06015038  36.09022556\n",
      "  33.08270677  27.06766917  36.09022556  39.09774436  33.08270677\n",
      "  42.10526316  33.08270677  33.08270677  42.10526316  30.07518797\n",
      "  30.07518797  33.08270677  33.08270677  21.05263158  27.06766917\n",
      "  24.06015038  21.05263158  18.04511278  33.08270677  18.04511278\n",
      "  18.04511278  21.05263158  18.04511278  18.04511278  27.06766917\n",
      "  12.03007519  21.05263158  18.04511278   9.02255639  12.03007519\n",
      "  27.06766917  15.03759398  15.03759398  15.03759398  18.04511278\n",
      "   9.02255639  12.03007519  12.03007519  12.03007519   9.02255639\n",
      "  12.03007519  15.03759398   9.02255639   6.01503759   6.01503759\n",
      "   3.0075188    6.01503759   6.01503759   0.           6.01503759   0.           0.\n",
      "   6.01503759   6.01503759   0.           6.01503759   6.01503759   0.\n",
      "   6.01503759   6.01503759   0.           3.0075188    0.           0.           0.\n",
      "   0.        ]    c_ji [  0.           0.           0.           0.           3.0075188    0.\n",
      "   6.01503759   6.01503759   0.           6.01503759   6.01503759   0.\n",
      "   6.01503759   6.01503759   0.           0.           6.01503759   0.\n",
      "   6.01503759   6.01503759   3.0075188    6.01503759   6.01503759\n",
      "   9.02255639  15.03759398  12.03007519   9.02255639  12.03007519\n",
      "  12.03007519  12.03007519   9.02255639  18.04511278  15.03759398\n",
      "  15.03759398  15.03759398  27.06766917  12.03007519   9.02255639\n",
      "  18.04511278  21.05263158  12.03007519  27.06766917  18.04511278\n",
      "  18.04511278  21.05263158  18.04511278  18.04511278  33.08270677\n",
      "  18.04511278  21.05263158  24.06015038  27.06766917  21.05263158\n",
      "  33.08270677  33.08270677  30.07518797  30.07518797  42.10526316\n",
      "  33.08270677  33.08270677  42.10526316  33.08270677  39.09774436\n",
      "  36.09022556  27.06766917  33.08270677  36.09022556  24.06015038\n",
      "  27.06766917  30.07518797  27.06766917  30.07518797  27.06766917\n",
      "  24.06015038  27.06766917  24.06015038  24.06015038  30.07518797\n",
      "  30.07518797  15.03759398  18.04511278   9.02255639   6.01503759\n",
      "  12.03007519  12.03007519  15.03759398   9.02255639  12.03007519\n",
      "   6.01503759  15.03759398   6.01503759  15.03759398  18.04511278\n",
      "  18.04511278  12.03007519  18.04511278   9.02255639  12.03007519\n",
      "  12.03007519  15.03759398  15.03759398  24.06015038  18.04511278\n",
      "  27.06766917  27.06766917  18.04511278  18.04511278  36.09022556\n",
      "  18.04511278  24.06015038  27.06766917  30.07518797  27.06766917\n",
      "  36.09022556  27.06766917  45.11278195  39.09774436  33.08270677\n",
      "  21.05263158  39.09774436  36.09022556  33.08270677  45.11278195\n",
      "  45.11278195  33.08270677  48.12030075  42.10526316  42.10526316\n",
      "  42.10526316  54.13533835  42.10526316  36.09022556  27.06766917\n",
      "  24.06015038  27.06766917  21.05263158  18.04511278  24.06015038\n",
      "  18.04511278  12.03007519  12.03007519   9.02255639  15.03759398\n",
      "  12.03007519  21.05263158  24.06015038  21.05263158  18.04511278\n",
      "   9.02255639   6.01503759   3.0075188   12.03007519  15.03759398\n",
      "   9.02255639   9.02255639  15.03759398  15.03759398   9.02255639\n",
      "  15.03759398  15.03759398   6.01503759   3.0075188    9.02255639\n",
      "  12.03007519   9.02255639   9.02255639  12.03007519  18.04511278\n",
      "  15.03759398  12.03007519  12.03007519  12.03007519  18.04511278\n",
      "  21.05263158  24.06015038  30.07518797  30.07518797  30.07518797\n",
      "  30.07518797  27.06766917  33.08270677  36.09022556  30.07518797\n",
      "  30.07518797  24.06015038  21.05263158  21.05263158  18.04511278\n",
      "  21.05263158  18.04511278  15.03759398  15.03759398   6.01503759\n",
      "   9.02255639  18.04511278  15.03759398  15.03759398  18.04511278\n",
      "  18.04511278   9.02255639   6.01503759   6.01503759   0.           0.\n",
      "   3.0075188    6.01503759   3.0075188    3.0075188    6.01503759\n",
      "   6.01503759   6.01503759   3.0075188    3.0075188    3.0075188\n",
      "   3.0075188    3.0075188    0.           0.           3.0075188\n",
      "   3.0075188    3.0075188    6.01503759   6.01503759   3.0075188\n",
      "   6.01503759   9.02255639   9.02255639  12.03007519  12.03007519\n",
      "   9.02255639   9.02255639  12.03007519  15.03759398  15.03759398\n",
      "  12.03007519  12.03007519  12.03007519   9.02255639   9.02255639\n",
      "  12.03007519  15.03759398   9.02255639   6.01503759   9.02255639\n",
      "   3.0075188    6.01503759   9.02255639   9.02255639   9.02255639\n",
      "   9.02255639   9.02255639   3.0075188    3.0075188    3.0075188    0.           0.\n",
      "   3.0075188    6.01503759   3.0075188    0.           0.           0.           0.\n",
      "   0.           0.        ]\n"
     ]
    }
   ],
   "source": [
    "C = top.calc_corr_raw(bds['pop_vec'], bds['windows'], fs, 1, 4, 1)"
   ]
  },
  {
   "cell_type": "code",
   "execution_count": 52,
   "metadata": {
    "collapsed": false
   },
   "outputs": [
    {
     "data": {
      "text/plain": [
       "0.11295116772823777"
      ]
     },
     "execution_count": 52,
     "metadata": {},
     "output_type": "execute_result"
    }
   ],
   "source": [
    "C"
   ]
  },
  {
   "cell_type": "code",
   "execution_count": 13,
   "metadata": {
    "collapsed": true
   },
   "outputs": [],
   "source": [
    "wins = bds['windows']"
   ]
  },
  {
   "cell_type": "code",
   "execution_count": 14,
   "metadata": {
    "collapsed": false
   },
   "outputs": [
    {
     "data": {
      "text/plain": [
       "<HDF5 dataset \"windows\": shape (133, 2), type \"<f8\">"
      ]
     },
     "execution_count": 14,
     "metadata": {},
     "output_type": "execute_result"
    }
   ],
   "source": [
    "wins"
   ]
  },
  {
   "cell_type": "code",
   "execution_count": 15,
   "metadata": {
    "collapsed": false
   },
   "outputs": [
    {
     "data": {
      "text/plain": [
       "5669157.0"
      ]
     },
     "execution_count": 15,
     "metadata": {},
     "output_type": "execute_result"
    }
   ],
   "source": [
    "wins[0, 1]"
   ]
  },
  {
   "cell_type": "code",
   "execution_count": 16,
   "metadata": {
    "collapsed": false
   },
   "outputs": [
    {
     "data": {
      "text/plain": [
       "5667595.0"
      ]
     },
     "execution_count": 16,
     "metadata": {},
     "output_type": "execute_result"
    }
   ],
   "source": [
    "wins[0, 0]"
   ]
  },
  {
   "cell_type": "code",
   "execution_count": 18,
   "metadata": {
    "collapsed": false
   },
   "outputs": [
    {
     "data": {
      "text/plain": [
       "1562.0"
      ]
     },
     "execution_count": 18,
     "metadata": {},
     "output_type": "execute_result"
    }
   ],
   "source": [
    "wins[0,1]-wins[0,0]"
   ]
  },
  {
   "cell_type": "code",
   "execution_count": 19,
   "metadata": {
    "collapsed": false
   },
   "outputs": [
    {
     "data": {
      "text/plain": [
       "31250.0"
      ]
     },
     "execution_count": 19,
     "metadata": {},
     "output_type": "execute_result"
    }
   ],
   "source": [
    "fs"
   ]
  },
  {
   "cell_type": "code",
   "execution_count": null,
   "metadata": {
    "collapsed": true
   },
   "outputs": [],
   "source": []
  }
 ],
 "metadata": {
  "kernelspec": {
   "display_name": "Python 2",
   "language": "python",
   "name": "python2"
  },
  "language_info": {
   "codemirror_mode": {
    "name": "ipython",
    "version": 2
   },
   "file_extension": ".py",
   "mimetype": "text/x-python",
   "name": "python",
   "nbconvert_exporter": "python",
   "pygments_lexer": "ipython2",
   "version": "2.7.11"
  }
 },
 "nbformat": 4,
 "nbformat_minor": 0
}
