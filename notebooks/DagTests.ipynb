{
 "cells": [
  {
   "cell_type": "code",
   "execution_count": 7,
   "metadata": {
    "collapsed": false
   },
   "outputs": [
    {
     "data": {
      "text/plain": [
       "<module 'neuraltda.topology2' from '/Users/brad/GentnerLab/code/NeuralTDA/neuraltda/topology2.py'>"
      ]
     },
     "execution_count": 7,
     "metadata": {},
     "output_type": "execute_result"
    }
   ],
   "source": [
    "import neuraltda.simpComp as sc\n",
    "import neuraltda.topology2 as tp2\n",
    "import neuraltda.spectralAnalysis as sa\n",
    "import pickle\n",
    "import glob\n",
    "import os\n",
    "import numpy as np\n",
    "reload(tp2)"
   ]
  },
  {
   "cell_type": "code",
   "execution_count": 2,
   "metadata": {
    "collapsed": true
   },
   "outputs": [],
   "source": [
    "blockPath = '/Volumes/gentner/btheilma/experiments/B1235/phy051316/Pen02_Lft_AP200_ML800__Site03_Z3000__B1235_cat_P02_S03_1/'\n",
    "bdf = '/Volumes/gentner/btheilma/experiments/B1235/phy051316/Pen02_Lft_AP200_ML800__Site03_Z3000__B1235_cat_P02_S03_1/binned_data/20170128T005306Z/20170128T005306Z-10.0-5.0.binned'\n",
    "scgf = '/Volumes/gentner/btheilma/experiments/B1235/phy051316/Pen02_Lft_AP200_ML800__Site03_Z3000__B1235_cat_P02_S03_1/scg/20170128T005306Z-10.0-5.0.scg'"
   ]
  },
  {
   "cell_type": "markdown",
   "metadata": {},
   "source": [
    "# Bin"
   ]
  },
  {
   "cell_type": "code",
   "execution_count": 3,
   "metadata": {
    "collapsed": true
   },
   "outputs": [],
   "source": [
    "bp1 = '/Volumes/gentner/btheilma/experiments/B1235/phy051316/Pen02_Lft_AP200_ML800__Site01_Z3000__B1235_cat_P02_S01_1/'\n",
    "#bp1 = '/Volumes/gentner/btheilma/experiments/B1075/phy041216/Pen01_Lft_AP300_ML700__Site03_Z2700__B1075_cat_P01_S03_1/'\n",
    "bps = [bp1]\n",
    "\n",
    "winSize = 25.0 #ms\n",
    "segmentInfo = {'period': 1}\n",
    "ncellsperm = 0\n",
    "nperms = 0\n",
    "nshuffs = 0\n",
    "thresh = 10.0\n",
    "propOverlap = 0.5\n",
    "dtovr = propOverlap*winSize\n",
    "\n",
    "for blockPath in bps:\n",
    "    bfdict = tp2.dag_bin(blockPath, winSize, segmentInfo, ncellsperm, nperms, nshuffs, dtOverlap=dtovr)"
   ]
  },
  {
   "cell_type": "markdown",
   "metadata": {},
   "source": [
    "# Topology"
   ]
  },
  {
   "cell_type": "code",
   "execution_count": null,
   "metadata": {
    "collapsed": false
   },
   "outputs": [],
   "source": [
    "aid = bfdict['analysis_id']\n",
    "bdf = glob.glob(os.path.join(bfdict['raw'], '*.binned'))[0]\n",
    "bpdws_sfn = tp2.calcCIBettisTensor(aid+'-{}-raw'.format(thresh),  bdf, bp1, thresh, shuffle=True, nperms=2, ncellsperm=5)"
   ]
  },
  {
   "cell_type": "code",
   "execution_count": 9,
   "metadata": {
    "collapsed": false
   },
   "outputs": [
    {
     "data": {
      "text/plain": [
       "'/Volumes/gentner/btheilma/experiments/B1235/phy051316/Pen02_Lft_AP200_ML800__Site01_Z3000__B1235_cat_P02_S01_1/topology/20170220T011906Z-25.0-12.5-10.0-raw/20170220T011906Z-25.0-12.5-10.0-raw-permuted2--bettiResultsDict.pkl'"
      ]
     },
     "execution_count": 9,
     "metadata": {},
     "output_type": "execute_result"
    }
   ],
   "source": [
    "bpdws_sfn"
   ]
  },
  {
   "cell_type": "code",
   "execution_count": 12,
   "metadata": {
    "collapsed": true
   },
   "outputs": [],
   "source": [
    "with open(bpdws_sfn, 'r') as f:\n",
    "    t = pickle.load(f)"
   ]
  },
  {
   "cell_type": "code",
   "execution_count": 20,
   "metadata": {
    "collapsed": false
   },
   "outputs": [
    {
     "data": {
      "text/plain": [
       "[[6, [1, 0, 0]],\n",
       " [13, [2, 0, 0]],\n",
       " [20, [3, 0, 0]],\n",
       " [23, [2, 0, 0]],\n",
       " [27, [3, 0, 0]],\n",
       " [32, [4, 0, 0]],\n",
       " [43, [5, 0, 0]],\n",
       " [47, [6, 0, 0]],\n",
       " [58, [7, 0, 0]],\n",
       " [70, [6, 0, 0]],\n",
       " [75, [5, 0, 0]],\n",
       " [87, [6, 0, 0]],\n",
       " [93, [7, 0, 0]],\n",
       " [103, [7, 1, 0]],\n",
       " [104, [7, 2, 0]],\n",
       " [105, [5, 2, 0]],\n",
       " [106, [4, 2, 0]],\n",
       " [110, [4, 4, 0]],\n",
       " [123, [4, 5, 0]],\n",
       " [132, [4, 6, 0]],\n",
       " [169, [4, 8, 0]],\n",
       " [220, [3, 8, 0]],\n",
       " [245, [3, 9, 0]],\n",
       " [253, [3, 10, 0]],\n",
       " [324, [3, 11, 0]],\n",
       " [326, [3, 12, 0]],\n",
       " [336, [4, 12, 0]],\n",
       " [337, [3, 12, 0]],\n",
       " [347, [2, 12, 0]],\n",
       " [388, [2, 11, 0]],\n",
       " [389, [2, 12, 0]],\n",
       " [390, [2, 13, 0]],\n",
       " [395, [2, 12, 0]],\n",
       " [451, [3, 12, 0]],\n",
       " [471, [3, 13, 0]],\n",
       " [509, [3, 14, 0]],\n",
       " [510, [3, 13, 0]],\n",
       " [511, [3, 12, 1]],\n",
       " [515, [3, 11, 1]],\n",
       " [516, [3, 12, 1]]]"
      ]
     },
     "execution_count": 20,
     "metadata": {},
     "output_type": "execute_result"
    }
   ],
   "source": [
    "t['F_scaled_burung']['11']['0']['bettis']\n"
   ]
  },
  {
   "cell_type": "code",
   "execution_count": null,
   "metadata": {
    "collapsed": true
   },
   "outputs": [],
   "source": []
  }
 ],
 "metadata": {
  "kernelspec": {
   "display_name": "Python 2",
   "language": "python",
   "name": "python2"
  },
  "language_info": {
   "codemirror_mode": {
    "name": "ipython",
    "version": 2
   },
   "file_extension": ".py",
   "mimetype": "text/x-python",
   "name": "python",
   "nbconvert_exporter": "python",
   "pygments_lexer": "ipython2",
   "version": "2.7.13"
  }
 },
 "nbformat": 4,
 "nbformat_minor": 2
}
