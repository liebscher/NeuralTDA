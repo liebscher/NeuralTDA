{
 "cells": [
  {
   "cell_type": "code",
   "execution_count": 1,
   "metadata": {},
   "outputs": [
    {
     "name": "stderr",
     "output_type": "stream",
     "text": [
      "/home/brad/.conda/envs/neuraltda-3/lib/python3.6/site-packages/IPython/html.py:14: ShimWarning: The `IPython.html` package has been deprecated since IPython 4.0. You should import from `notebook` instead. `IPython.html.widgets` has moved to `ipywidgets`.\n",
      "  \"`IPython.html.widgets` has moved to `ipywidgets`.\", ShimWarning)\n"
     ]
    }
   ],
   "source": [
    "import numpy as np\n",
    "import scipy as sp\n",
    "from importlib import reload\n",
    "import neuraltda.topology2 as tp2\n",
    "import glob\n",
    "import os\n",
    "import matplotlib.pyplot as plt\n",
    "%matplotlib inline\n",
    "\n",
    "from importlib import reload\n",
    "\n",
    "import seaborn as sns\n",
    "import pandas as pd\n",
    "import pickle\n",
    "\n",
    "import neuraltda.spectralAnalysis as sa\n",
    "import neuraltda.simpComp as sc"
   ]
  },
  {
   "cell_type": "code",
   "execution_count": 2,
   "metadata": {
    "collapsed": true
   },
   "outputs": [],
   "source": [
    "block_path = '/home/brad/krista/B1083/P03S03/'\n",
    "\n",
    "bps = {'B1083': '/home/brad/krista/B1083/P03S03/', 'B1075': '/home/brad/krista/B1075/P01S03/', 'B1235': '/home/brad/krista/B1235/P02S01/'}\n"
   ]
  },
  {
   "cell_type": "code",
   "execution_count": null,
   "metadata": {},
   "outputs": [],
   "source": [
    "#bin the data\n",
    "winsize = 10.0\n",
    "dtovr = winsize*0.5\n",
    "comment = 'ForJSDivergence'\n",
    "segment_info = [0,0]\n",
    "\n",
    "bdfs = []\n",
    "birds = ['B1083', 'B1235', 'B1075']\n",
    "for bird in birds:\n",
    "    block_path = bps[bird]\n",
    "    bfdict = tp2.dag_bin(block_path, winsize, segment_info, cluster_group=['Good'], dt_overlap=dtovr, comment=comment)\n",
    "    bdf = glob.glob(os.path.join(bfdict['raw'], '*.binned'))[0]\n",
    "    print(bdf)\n",
    "    bdfs.append([bird, bdf])"
   ]
  },
  {
   "cell_type": "code",
   "execution_count": null,
   "metadata": {},
   "outputs": [],
   "source": [
    "# compute scgs.  \n",
    "thresh = 6.0\n",
    "cmnt = 'ForJSDivergence'\n",
    "\n",
    "scgGenFiles = {}\n",
    "for bdfj in bdfs:\n",
    "    bdf = bdfj[1]\n",
    "    scgGenFiles[bdfj[0]] = sa.computeChainGroups(block_path, bdf, thresh, comment=cmnt)"
   ]
  },
  {
   "cell_type": "code",
   "execution_count": null,
   "metadata": {
    "collapsed": true
   },
   "outputs": [],
   "source": [
    "scgf = scgGenFiles['B1083']"
   ]
  },
  {
   "cell_type": "code",
   "execution_count": 146,
   "metadata": {},
   "outputs": [
    {
     "name": "stdout",
     "output_type": "stream",
     "text": [
      "/home/brad/krista/B1083/P03S03/scg/20170731T155520Z-10.0-5.0-10.0-ForJSDivergence.scg\n"
     ]
    }
   ],
   "source": [
    "\n",
    "scgf = '/home/brad/krista/B1083/P03S03/scg/20170731T155520Z-10.0-5.0-10.0-ForJSDivergence.scg'\n",
    "\n",
    "\n",
    "\n",
    "with open(scgf, 'rb') as f:\n",
    "    scg = pickle.load(f)\n",
    "    \n",
    "print(scgf)"
   ]
  },
  {
   "cell_type": "code",
   "execution_count": 147,
   "metadata": {},
   "outputs": [],
   "source": [
    "trials_A = scg['I_40k'][:10]\n",
    "trials_B = scg['I_40k'][10:]"
   ]
  },
  {
   "cell_type": "code",
   "execution_count": 148,
   "metadata": {
    "collapsed": true
   },
   "outputs": [],
   "source": [
    "trials_A = {}\n",
    "trials_B = {}\n",
    "\n",
    "for stim in scg.keys():\n",
    "    trials_A[stim] = scg[stim][:10]\n",
    "    trials_B[stim] = scg[stim][10:]"
   ]
  },
  {
   "cell_type": "code",
   "execution_count": 149,
   "metadata": {},
   "outputs": [
    {
     "name": "stdout",
     "output_type": "stream",
     "text": [
      "I_40k\n",
      "0\n",
      "0.001\n",
      "Computing Laplacians\n",
      "Reconciling Laplacians\n",
      "Computing Density Matrices\n"
     ]
    },
    {
     "ename": "KeyboardInterrupt",
     "evalue": "",
     "output_type": "error",
     "traceback": [
      "\u001b[0;31m---------------------------------------------------------------------------\u001b[0m",
      "\u001b[0;31mKeyboardInterrupt\u001b[0m                         Traceback (most recent call last)",
      "\u001b[0;32m<ipython-input-149-0b4b557c610f>\u001b[0m in \u001b[0;36m<module>\u001b[0;34m()\u001b[0m\n\u001b[1;32m     15\u001b[0m             \u001b[0;32mfor\u001b[0m \u001b[0mbeta\u001b[0m \u001b[0;32min\u001b[0m \u001b[0mbetas\u001b[0m\u001b[0;34m:\u001b[0m\u001b[0;34m\u001b[0m\u001b[0m\n\u001b[1;32m     16\u001b[0m                 \u001b[0mprint\u001b[0m\u001b[0;34m(\u001b[0m\u001b[0mbeta\u001b[0m\u001b[0;34m)\u001b[0m\u001b[0;34m\u001b[0m\u001b[0m\n\u001b[0;32m---> 17\u001b[0;31m                 \u001b[0mJS\u001b[0m \u001b[0;34m=\u001b[0m \u001b[0msa\u001b[0m\u001b[0;34m.\u001b[0m\u001b[0mcompute_JS_expanded\u001b[0m\u001b[0;34m(\u001b[0m\u001b[0mscgA\u001b[0m\u001b[0;34m,\u001b[0m \u001b[0mscgB\u001b[0m\u001b[0;34m,\u001b[0m \u001b[0md\u001b[0m\u001b[0;34m,\u001b[0m \u001b[0mbeta\u001b[0m\u001b[0;34m)\u001b[0m\u001b[0;34m\u001b[0m\u001b[0m\n\u001b[0m\u001b[1;32m     18\u001b[0m             \u001b[0mJS_stim\u001b[0m\u001b[0;34m[\u001b[0m\u001b[0mA1\u001b[0m\u001b[0;34m,\u001b[0m \u001b[0;34m:\u001b[0m\u001b[0;34m]\u001b[0m \u001b[0;34m=\u001b[0m \u001b[0mnp\u001b[0m\u001b[0;34m.\u001b[0m\u001b[0marray\u001b[0m\u001b[0;34m(\u001b[0m\u001b[0mJS\u001b[0m\u001b[0;34m)\u001b[0m\u001b[0;34m\u001b[0m\u001b[0m\n\u001b[1;32m     19\u001b[0m     \u001b[0mJS_save\u001b[0m\u001b[0;34m[\u001b[0m\u001b[0mstim\u001b[0m\u001b[0;34m]\u001b[0m \u001b[0;34m=\u001b[0m \u001b[0mJS_stim\u001b[0m\u001b[0;34m\u001b[0m\u001b[0m\n",
      "\u001b[0;32m~/code/NeuralTDA/neuraltda/spectralAnalysis.py\u001b[0m in \u001b[0;36mcompute_JS_expanded\u001b[0;34m(scgA, scgB, d, beta)\u001b[0m\n\u001b[1;32m    147\u001b[0m \u001b[0;34m\u001b[0m\u001b[0m\n\u001b[1;32m    148\u001b[0m     \u001b[0mprint\u001b[0m\u001b[0;34m(\u001b[0m\u001b[0;34m'Computing Density Matrices'\u001b[0m\u001b[0;34m)\u001b[0m\u001b[0;34m\u001b[0m\u001b[0m\n\u001b[0;32m--> 149\u001b[0;31m     \u001b[0mrho1\u001b[0m \u001b[0;34m=\u001b[0m \u001b[0msc\u001b[0m\u001b[0;34m.\u001b[0m\u001b[0mdensityMatrix\u001b[0m\u001b[0;34m(\u001b[0m\u001b[0mLA\u001b[0m\u001b[0;34m,\u001b[0m \u001b[0mbeta\u001b[0m\u001b[0;34m)\u001b[0m\u001b[0;34m\u001b[0m\u001b[0m\n\u001b[0m\u001b[1;32m    150\u001b[0m     \u001b[0mrho2\u001b[0m \u001b[0;34m=\u001b[0m \u001b[0msc\u001b[0m\u001b[0;34m.\u001b[0m\u001b[0mdensityMatrix\u001b[0m\u001b[0;34m(\u001b[0m\u001b[0mLB\u001b[0m\u001b[0;34m,\u001b[0m \u001b[0mbeta\u001b[0m\u001b[0;34m)\u001b[0m\u001b[0;34m\u001b[0m\u001b[0m\n\u001b[1;32m    151\u001b[0m \u001b[0;34m\u001b[0m\u001b[0m\n",
      "\u001b[0;32m~/code/NeuralTDA/neuraltda/simpComp.py\u001b[0m in \u001b[0;36mdensityMatrix\u001b[0;34m(L, beta)\u001b[0m\n\u001b[1;32m    341\u001b[0m \u001b[0;32mdef\u001b[0m \u001b[0mdensityMatrix\u001b[0m\u001b[0;34m(\u001b[0m\u001b[0mL\u001b[0m\u001b[0;34m,\u001b[0m \u001b[0mbeta\u001b[0m\u001b[0;34m)\u001b[0m\u001b[0;34m:\u001b[0m\u001b[0;34m\u001b[0m\u001b[0m\n\u001b[1;32m    342\u001b[0m     \u001b[0;32mtry\u001b[0m\u001b[0;34m:\u001b[0m\u001b[0;34m\u001b[0m\u001b[0m\n\u001b[0;32m--> 343\u001b[0;31m         \u001b[0mM\u001b[0m \u001b[0;34m=\u001b[0m \u001b[0mspla\u001b[0m\u001b[0;34m.\u001b[0m\u001b[0mexpm\u001b[0m\u001b[0;34m(\u001b[0m\u001b[0mbeta\u001b[0m\u001b[0;34m*\u001b[0m\u001b[0mL\u001b[0m\u001b[0;34m)\u001b[0m\u001b[0;34m\u001b[0m\u001b[0m\n\u001b[0m\u001b[1;32m    344\u001b[0m         \u001b[0mM\u001b[0m \u001b[0;34m=\u001b[0m \u001b[0mM\u001b[0m \u001b[0;34m/\u001b[0m\u001b[0mnp\u001b[0m\u001b[0;34m.\u001b[0m\u001b[0mtrace\u001b[0m\u001b[0;34m(\u001b[0m\u001b[0mM\u001b[0m\u001b[0;34m)\u001b[0m\u001b[0;34m\u001b[0m\u001b[0m\n\u001b[1;32m    345\u001b[0m     \u001b[0;32mexcept\u001b[0m \u001b[0mValueError\u001b[0m\u001b[0;34m:\u001b[0m\u001b[0;34m\u001b[0m\u001b[0m\n",
      "\u001b[0;32m~/.conda/envs/neuraltda-3/lib/python3.6/site-packages/scipy/linalg/matfuncs.py\u001b[0m in \u001b[0;36mexpm\u001b[0;34m(A, q)\u001b[0m\n\u001b[1;32m    259\u001b[0m     \u001b[0;31m# Input checking and conversion is provided by sparse.linalg.expm().\u001b[0m\u001b[0;34m\u001b[0m\u001b[0;34m\u001b[0m\u001b[0m\n\u001b[1;32m    260\u001b[0m     \u001b[0;32mimport\u001b[0m \u001b[0mscipy\u001b[0m\u001b[0;34m.\u001b[0m\u001b[0msparse\u001b[0m\u001b[0;34m.\u001b[0m\u001b[0mlinalg\u001b[0m\u001b[0;34m\u001b[0m\u001b[0m\n\u001b[0;32m--> 261\u001b[0;31m     \u001b[0;32mreturn\u001b[0m \u001b[0mscipy\u001b[0m\u001b[0;34m.\u001b[0m\u001b[0msparse\u001b[0m\u001b[0;34m.\u001b[0m\u001b[0mlinalg\u001b[0m\u001b[0;34m.\u001b[0m\u001b[0mexpm\u001b[0m\u001b[0;34m(\u001b[0m\u001b[0mA\u001b[0m\u001b[0;34m)\u001b[0m\u001b[0;34m\u001b[0m\u001b[0m\n\u001b[0m\u001b[1;32m    262\u001b[0m \u001b[0;34m\u001b[0m\u001b[0m\n\u001b[1;32m    263\u001b[0m \u001b[0;34m\u001b[0m\u001b[0m\n",
      "\u001b[0;32m~/.conda/envs/neuraltda-3/lib/python3.6/site-packages/scipy/sparse/linalg/matfuncs.py\u001b[0m in \u001b[0;36mexpm\u001b[0;34m(A)\u001b[0m\n\u001b[1;32m    580\u001b[0m \u001b[0;34m\u001b[0m\u001b[0m\n\u001b[1;32m    581\u001b[0m     \"\"\"\n\u001b[0;32m--> 582\u001b[0;31m     \u001b[0;32mreturn\u001b[0m \u001b[0m_expm\u001b[0m\u001b[0;34m(\u001b[0m\u001b[0mA\u001b[0m\u001b[0;34m,\u001b[0m \u001b[0muse_exact_onenorm\u001b[0m\u001b[0;34m=\u001b[0m\u001b[0;34m'auto'\u001b[0m\u001b[0;34m)\u001b[0m\u001b[0;34m\u001b[0m\u001b[0m\n\u001b[0m\u001b[1;32m    583\u001b[0m \u001b[0;34m\u001b[0m\u001b[0m\n\u001b[1;32m    584\u001b[0m \u001b[0;34m\u001b[0m\u001b[0m\n",
      "\u001b[0;32m~/.conda/envs/neuraltda-3/lib/python3.6/site-packages/scipy/sparse/linalg/matfuncs.py\u001b[0m in \u001b[0;36m_expm\u001b[0;34m(A, use_exact_onenorm)\u001b[0m\n\u001b[1;32m    625\u001b[0m     \u001b[0;32mif\u001b[0m \u001b[0meta_2\u001b[0m \u001b[0;34m<\u001b[0m \u001b[0;36m2.539398330063230e-001\u001b[0m \u001b[0;32mand\u001b[0m \u001b[0m_ell\u001b[0m\u001b[0;34m(\u001b[0m\u001b[0mh\u001b[0m\u001b[0;34m.\u001b[0m\u001b[0mA\u001b[0m\u001b[0;34m,\u001b[0m \u001b[0;36m5\u001b[0m\u001b[0;34m)\u001b[0m \u001b[0;34m==\u001b[0m \u001b[0;36m0\u001b[0m\u001b[0;34m:\u001b[0m\u001b[0;34m\u001b[0m\u001b[0m\n\u001b[1;32m    626\u001b[0m         \u001b[0mU\u001b[0m\u001b[0;34m,\u001b[0m \u001b[0mV\u001b[0m \u001b[0;34m=\u001b[0m \u001b[0mh\u001b[0m\u001b[0;34m.\u001b[0m\u001b[0mpade5\u001b[0m\u001b[0;34m(\u001b[0m\u001b[0;34m)\u001b[0m\u001b[0;34m\u001b[0m\u001b[0m\n\u001b[0;32m--> 627\u001b[0;31m         \u001b[0;32mreturn\u001b[0m \u001b[0m_solve_P_Q\u001b[0m\u001b[0;34m(\u001b[0m\u001b[0mU\u001b[0m\u001b[0;34m,\u001b[0m \u001b[0mV\u001b[0m\u001b[0;34m,\u001b[0m \u001b[0mstructure\u001b[0m\u001b[0;34m=\u001b[0m\u001b[0mstructure\u001b[0m\u001b[0;34m)\u001b[0m\u001b[0;34m\u001b[0m\u001b[0m\n\u001b[0m\u001b[1;32m    628\u001b[0m \u001b[0;34m\u001b[0m\u001b[0m\n\u001b[1;32m    629\u001b[0m     \u001b[0;31m# Try Pade orders 7 and 9.\u001b[0m\u001b[0;34m\u001b[0m\u001b[0;34m\u001b[0m\u001b[0m\n",
      "\u001b[0;32m~/.conda/envs/neuraltda-3/lib/python3.6/site-packages/scipy/sparse/linalg/matfuncs.py\u001b[0m in \u001b[0;36m_solve_P_Q\u001b[0;34m(U, V, structure)\u001b[0m\n\u001b[1;32m    679\u001b[0m         \u001b[0;32mreturn\u001b[0m \u001b[0mspsolve\u001b[0m\u001b[0;34m(\u001b[0m\u001b[0mQ\u001b[0m\u001b[0;34m,\u001b[0m \u001b[0mP\u001b[0m\u001b[0;34m)\u001b[0m\u001b[0;34m\u001b[0m\u001b[0m\n\u001b[1;32m    680\u001b[0m     \u001b[0;32melif\u001b[0m \u001b[0mstructure\u001b[0m \u001b[0;32mis\u001b[0m \u001b[0;32mNone\u001b[0m\u001b[0;34m:\u001b[0m\u001b[0;34m\u001b[0m\u001b[0m\n\u001b[0;32m--> 681\u001b[0;31m         \u001b[0;32mreturn\u001b[0m \u001b[0msolve\u001b[0m\u001b[0;34m(\u001b[0m\u001b[0mQ\u001b[0m\u001b[0;34m,\u001b[0m \u001b[0mP\u001b[0m\u001b[0;34m)\u001b[0m\u001b[0;34m\u001b[0m\u001b[0m\n\u001b[0m\u001b[1;32m    682\u001b[0m     \u001b[0;32melif\u001b[0m \u001b[0mstructure\u001b[0m \u001b[0;34m==\u001b[0m \u001b[0mUPPER_TRIANGULAR\u001b[0m\u001b[0;34m:\u001b[0m\u001b[0;34m\u001b[0m\u001b[0m\n\u001b[1;32m    683\u001b[0m         \u001b[0;32mreturn\u001b[0m \u001b[0msolve_triangular\u001b[0m\u001b[0;34m(\u001b[0m\u001b[0mQ\u001b[0m\u001b[0;34m,\u001b[0m \u001b[0mP\u001b[0m\u001b[0;34m)\u001b[0m\u001b[0;34m\u001b[0m\u001b[0m\n",
      "\u001b[0;32m~/.conda/envs/neuraltda-3/lib/python3.6/site-packages/scipy/linalg/basic.py\u001b[0m in \u001b[0;36msolve\u001b[0;34m(a, b, sym_pos, lower, overwrite_a, overwrite_b, debug, check_finite, assume_a, transposed)\u001b[0m\n\u001b[1;32m    176\u001b[0m                                        \u001b[0mtrans\u001b[0m\u001b[0;34m=\u001b[0m\u001b[0mtrans_conj\u001b[0m\u001b[0;34m,\u001b[0m\u001b[0;34m\u001b[0m\u001b[0m\n\u001b[1;32m    177\u001b[0m                                        \u001b[0moverwrite_a\u001b[0m\u001b[0;34m=\u001b[0m\u001b[0moverwrite_a\u001b[0m\u001b[0;34m,\u001b[0m\u001b[0;34m\u001b[0m\u001b[0m\n\u001b[0;32m--> 178\u001b[0;31m                                        \u001b[0moverwrite_b\u001b[0m\u001b[0;34m=\u001b[0m\u001b[0moverwrite_b\u001b[0m\u001b[0;34m\u001b[0m\u001b[0m\n\u001b[0m\u001b[1;32m    179\u001b[0m                                        )\n\u001b[1;32m    180\u001b[0m     \u001b[0;32melif\u001b[0m \u001b[0m_structure\u001b[0m \u001b[0;34m==\u001b[0m \u001b[0;34m'sym'\u001b[0m\u001b[0;34m:\u001b[0m\u001b[0;34m\u001b[0m\u001b[0m\n",
      "\u001b[0;31mKeyboardInterrupt\u001b[0m: "
     ]
    }
   ],
   "source": [
    "# within stim\n",
    "reload(sa)\n",
    "d = 2\n",
    "betas = np.linspace(0.001, 1, 20)\n",
    "JS_save = {}\n",
    "for stim in scg.keys():\n",
    "    print(stim)\n",
    "    JS_stim = np.zeros((10, len(betas)))\n",
    "    for A1 in range(10):\n",
    "        for B1 in range(1):\n",
    "            print(A1)\n",
    "            scgA = trials_A[stim][A1]\n",
    "            scgB = trials_B[stim][A1]\n",
    "            JS = []\n",
    "            for beta in betas:\n",
    "                print(beta)\n",
    "                JS = sa.compute_JS_expanded(scgA, scgB, d, beta)\n",
    "            JS_stim[A1, :] = np.array(JS)\n",
    "    JS_save[stim] = JS_stim"
   ]
  },
  {
   "cell_type": "code",
   "execution_count": 6,
   "metadata": {},
   "outputs": [],
   "source": [
    "scgA = scg['I_40k'][0]"
   ]
  },
  {
   "cell_type": "code",
   "execution_count": 141,
   "metadata": {},
   "outputs": [
    {
     "data": {
      "text/plain": [
       "<module 'neuraltda.simpComp' from '/home/brad/code/NeuralTDA/neuraltda/simpComp.py'>"
      ]
     },
     "execution_count": 141,
     "metadata": {},
     "output_type": "execute_result"
    }
   ],
   "source": [
    "reload(sc)"
   ]
  },
  {
   "cell_type": "code",
   "execution_count": 8,
   "metadata": {},
   "outputs": [
    {
     "name": "stdout",
     "output_type": "stream",
     "text": [
      "CPU times: user 1.43 s, sys: 12 ms, total: 1.44 s\n",
      "Wall time: 1.44 s\n"
     ]
    }
   ],
   "source": [
    "%time test = sc.boundaryOperatorMatrix(scgA, 3)"
   ]
  },
  {
   "cell_type": "code",
   "execution_count": 136,
   "metadata": {},
   "outputs": [
    {
     "name": "stdout",
     "output_type": "stream",
     "text": [
      "CPU times: user 6.55 s, sys: 444 ms, total: 7 s\n",
      "Wall time: 4.1 s\n"
     ]
    }
   ],
   "source": [
    "%time test = sc.compute_laplacian(scgA, 3)"
   ]
  },
  {
   "cell_type": "code",
   "execution_count": 60,
   "metadata": {},
   "outputs": [
    {
     "name": "stdout",
     "output_type": "stream",
     "text": [
      "CPU times: user 24.3 s, sys: 128 ms, total: 24.4 s\n",
      "Wall time: 6.26 s\n"
     ]
    }
   ],
   "source": [
    "%time vals = sp.linalg.eigh(test, eigvals_only=True)"
   ]
  },
  {
   "cell_type": "code",
   "execution_count": 63,
   "metadata": {},
   "outputs": [
    {
     "name": "stdout",
     "output_type": "stream",
     "text": [
      "[  1.31184728e-13   1.89082249e-13   1.95358821e-13 ...,   3.18152726e-04\n",
      "   2.21927089e-03   9.97031780e-01]\n"
     ]
    }
   ],
   "source": [
    "rhovals = np.exp(vals)/np.sum(np.exp(vals))\n",
    "print(rhovals)"
   ]
  },
  {
   "cell_type": "code",
   "execution_count": 56,
   "metadata": {},
   "outputs": [
    {
     "name": "stdout",
     "output_type": "stream",
     "text": [
      "CPU times: user 1min 5s, sys: 844 ms, total: 1min 6s\n",
      "Wall time: 21.6 s\n"
     ]
    }
   ],
   "source": [
    "%time (a, b) = np.linalg.eig(test)"
   ]
  },
  {
   "cell_type": "code",
   "execution_count": 13,
   "metadata": {},
   "outputs": [
    {
     "data": {
      "text/plain": [
       "(4092, 4092)"
      ]
     },
     "execution_count": 13,
     "metadata": {},
     "output_type": "execute_result"
    }
   ],
   "source": [
    "b.shape"
   ]
  },
  {
   "cell_type": "code",
   "execution_count": 15,
   "metadata": {},
   "outputs": [
    {
     "data": {
      "text/plain": [
       "False"
      ]
     },
     "execution_count": 15,
     "metadata": {},
     "output_type": "execute_result"
    }
   ],
   "source": [
    "sp.sparse.issparse(test)"
   ]
  },
  {
   "cell_type": "code",
   "execution_count": 45,
   "metadata": {
    "collapsed": true
   },
   "outputs": [],
   "source": [
    "test2 = sp.sparse.csc_matrix(test)"
   ]
  },
  {
   "cell_type": "code",
   "execution_count": 54,
   "metadata": {},
   "outputs": [
    {
     "name": "stdout",
     "output_type": "stream",
     "text": [
      "CPU times: user 9min 33s, sys: 3.41 s, total: 9min 36s\n",
      "Wall time: 4min 11s\n"
     ]
    }
   ],
   "source": [
    "%time (a, b) = sp.sparse.linalg.eigs(test2, k=4000)"
   ]
  },
  {
   "cell_type": "code",
   "execution_count": 53,
   "metadata": {},
   "outputs": [
    {
     "data": {
      "text/plain": [
       "array([ 30.21193339+0.j,  24.10432946+0.j,  22.16192701+0.j,\n",
       "        20.59173526+0.j,  20.34372557+0.j,  20.10387792+0.j,\n",
       "        20.05560045+0.j,  19.95008931+0.j,  19.61775920+0.j,\n",
       "        19.25892712+0.j,  19.12736796+0.j,  18.55431853+0.j,\n",
       "        18.43094209+0.j,  18.31734750+0.j,  18.28900764+0.j,\n",
       "        18.21355593+0.j,  18.19864393+0.j,  18.11212320+0.j,\n",
       "        17.78412853+0.j,  17.59179204+0.j,  17.56892420+0.j,\n",
       "        17.48789843+0.j,  17.31536470+0.j,  17.27242322+0.j,\n",
       "        17.21743972+0.j,  17.16015287+0.j,  17.12082883+0.j,\n",
       "        17.08279789+0.j,  17.03663965+0.j,  16.92482322+0.j,\n",
       "        17.00000000+0.j,  17.00000000+0.j,  16.74364943+0.j,\n",
       "        16.65167004+0.j,  16.46979301+0.j,  16.47064436+0.j,\n",
       "        16.45121565+0.j,  16.42696590+0.j,  16.32703326+0.j,\n",
       "        16.27263755+0.j,  16.26526649+0.j,  16.25812503+0.j,\n",
       "        16.18834030+0.j,  16.13701193+0.j,  16.08030036+0.j,\n",
       "        16.07610374+0.j,  16.05694003+0.j,  16.03461144+0.j,\n",
       "        16.00664449+0.j,  15.94832269+0.j,  15.93998921+0.j,\n",
       "        15.75878669+0.j,  15.74283158+0.j,  15.72475873+0.j,\n",
       "        15.68001906+0.j,  15.62124229+0.j,  15.57853951+0.j,\n",
       "        15.50828006+0.j,  15.49036944+0.j,  15.44050234+0.j,\n",
       "        15.40734747+0.j,  15.40195466+0.j,  15.37899120+0.j,\n",
       "        15.38096655+0.j,  15.30582701+0.j,  15.28688001+0.j,\n",
       "        15.24850957+0.j,  15.24626766+0.j,  15.23851049+0.j,\n",
       "        15.24443206+0.j,  15.21958348+0.j,  15.18460719+0.j,\n",
       "        15.18369567+0.j,  15.16896801+0.j,  15.15324720+0.j,\n",
       "        15.13715877+0.j,  15.10254322+0.j,  15.09962071+0.j,\n",
       "        15.08516153+0.j,  15.08382338+0.j,  15.08047744+0.j,\n",
       "        15.06647331+0.j,  15.04361820+0.j,  15.04005396+0.j,\n",
       "        15.03397738+0.j,  15.03307422+0.j,  15.02243476+0.j,\n",
       "        15.01772699+0.j,  15.00937874+0.j,  14.97166473+0.j,\n",
       "        14.98894107+0.j,  14.91957543+0.j,  14.87810397+0.j,\n",
       "        14.81823860+0.j,  14.78837043+0.j,  14.78304973+0.j,\n",
       "        15.00000000+0.j,  15.00000000+0.j,  14.75672261+0.j,\n",
       "        14.73731552+0.j,  14.72216953+0.j,  14.71070088+0.j,\n",
       "        14.70024136+0.j,  14.63275628+0.j,  15.00000000+0.j,\n",
       "        15.00000000+0.j,  15.00000000+0.j,  15.00000000+0.j,\n",
       "        14.55279527+0.j,  14.50451260+0.j,  14.47338269+0.j,\n",
       "        14.42556543+0.j,  15.00000000+0.j,  15.00000000+0.j,\n",
       "        14.36634938+0.j,  15.00000000+0.j,  14.27871069+0.j,\n",
       "        14.25332213+0.j,  14.23134941+0.j,  14.22522880+0.j,\n",
       "        14.19013438+0.j,  14.14236514+0.j,  15.00000000+0.j,\n",
       "        15.00000000+0.j,  15.00000000+0.j,  15.00000000+0.j,\n",
       "        14.08270720+0.j,  14.06545649+0.j,  14.05843010+0.j,\n",
       "        14.03713379+0.j,  14.04482685+0.j,  13.96316617+0.j,\n",
       "        13.94202782+0.j,  13.91533479+0.j,  13.85175175+0.j,\n",
       "        13.81242831+0.j,  13.78204401+0.j,  13.75284943+0.j,\n",
       "        13.74417955+0.j,  13.72664303+0.j,  13.67265590+0.j,\n",
       "        13.62931257+0.j,  13.62290332+0.j,  13.62055072+0.j,\n",
       "        13.57976928+0.j,  13.52445586+0.j,  15.00000000+0.j,\n",
       "        15.00000000+0.j,  15.00000000+0.j,  15.00000000+0.j,\n",
       "        15.00000000+0.j,  15.00000000+0.j,  15.00000000+0.j,\n",
       "        15.00000000+0.j,  13.41160605+0.j,  13.39012289+0.j,\n",
       "        13.36165750+0.j,  13.35379851+0.j,  13.34596085+0.j,\n",
       "        13.32594515+0.j,  13.27625517+0.j,  13.26341252+0.j,\n",
       "        13.26117900+0.j,  13.24435461+0.j,  13.24545417+0.j,\n",
       "        13.18748781+0.j,  13.17227845+0.j,  13.16162826+0.j,\n",
       "        13.14679954+0.j,  13.13376747+0.j,  13.13693140+0.j,\n",
       "        13.09663914+0.j,  13.04854230+0.j,  13.03824513+0.j,\n",
       "        13.03280458+0.j,  13.01503969+0.j,  12.99183392+0.j,\n",
       "        12.98639033+0.j,  12.96566057+0.j,  12.94158821+0.j,\n",
       "        12.90782525+0.j,  12.90687488+0.j,  12.89906005+0.j,\n",
       "        12.88746201+0.j,  12.88110636+0.j,  12.85055206+0.j,\n",
       "        12.86184609+0.j,  12.86088163+0.j,  12.86130222+0.j,\n",
       "        12.83944424+0.j,  12.76618555+0.j,  12.75638407+0.j,\n",
       "        12.73321986+0.j,  12.72733843+0.j,  12.71597569+0.j,\n",
       "        12.70128652+0.j,  13.00000000+0.j,  13.00000000+0.j,\n",
       "        13.00000000+0.j,  13.00000000+0.j,  12.67651059+0.j,\n",
       "        12.65466442+0.j,  15.00000000+0.j,  15.00000000+0.j,\n",
       "        15.00000000+0.j,  12.58817451+0.j,  12.56460374+0.j,\n",
       "        15.00000000+0.j,  15.00000000+0.j,  15.00000000+0.j,\n",
       "        12.50809853+0.j,  12.49457189+0.j,  12.48572775+0.j,\n",
       "        12.46548569+0.j,  12.46039595+0.j,  12.40943362+0.j,\n",
       "        12.40413238+0.j,  12.39038748+0.j,  12.38211043+0.j,\n",
       "        12.37813505+0.j,  13.00000000+0.j,  12.34812005+0.j,\n",
       "        12.33690182+0.j,  13.00000000+0.j,  13.00000000+0.j,\n",
       "        13.00000000+0.j,  13.00000000+0.j,  13.00000000+0.j,\n",
       "        13.00000000+0.j,  13.00000000+0.j,  15.00000000+0.j,\n",
       "        15.00000000+0.j,  15.00000000+0.j,  15.00000000+0.j,\n",
       "        15.00000000+0.j,  15.00000000+0.j,  15.00000000+0.j,\n",
       "        15.00000000+0.j,  15.00000000+0.j,  15.00000000+0.j,\n",
       "        15.00000000+0.j,  15.00000000+0.j,  15.00000000+0.j,\n",
       "        15.00000000+0.j,  15.00000000+0.j,  15.00000000+0.j,\n",
       "        15.00000000+0.j,  15.00000000+0.j,  15.00000000+0.j,\n",
       "        15.00000000+0.j,  12.26875483+0.j,  12.24480647+0.j,\n",
       "        12.22320577+0.j,  12.21175084+0.j,  12.20083961+0.j,\n",
       "        12.18946042+0.j,  15.00000000+0.j,  15.00000000+0.j,\n",
       "        15.00000000+0.j,  15.00000000+0.j,  12.16101936+0.j,\n",
       "        12.15204253+0.j,  12.14028079+0.j,  13.00000000+0.j,\n",
       "        13.00000000+0.j,  13.00000000+0.j,  13.00000000+0.j,\n",
       "        13.00000000+0.j,  12.11229580+0.j,  12.08755122+0.j,\n",
       "        12.09234477+0.j,  13.00000000+0.j,  12.06107840+0.j,\n",
       "        12.03742429+0.j,  12.03833534+0.j,  12.01693773+0.j,\n",
       "        12.03404184+0.j,  12.03404184+0.j,  12.03404184+0.j,\n",
       "        12.00000000+0.j,  12.00000000+0.j,  12.00000000+0.j,\n",
       "        12.00000000+0.j,  12.00000000+0.j,  12.00000000+0.j,\n",
       "        12.00000000+0.j,  12.00000000+0.j,  12.00000000+0.j,\n",
       "        12.00000000+0.j,  12.00000000+0.j,  12.00000000+0.j,\n",
       "        12.00000000+0.j,  12.00000000+0.j,  12.00000000+0.j,\n",
       "        12.00000000+0.j,  12.00000000+0.j,  12.00000000+0.j,\n",
       "        12.00000000+0.j,  12.00000000+0.j,  12.00000000+0.j,\n",
       "        12.00000000+0.j,  12.00000000+0.j,  12.00000000+0.j,\n",
       "        12.00000000+0.j,  12.00000000+0.j,  12.00000000+0.j,\n",
       "        12.00000000+0.j,  12.00000000+0.j,  12.00000000+0.j,\n",
       "        12.00000000+0.j,  12.00000000+0.j,  12.00000000+0.j,\n",
       "        12.00000000+0.j,  12.00000000+0.j,  12.00000000+0.j,\n",
       "        12.00000000+0.j,  12.00000000+0.j,  12.00000000+0.j,\n",
       "        12.00000000+0.j,  12.00000000+0.j,  12.00000000+0.j,\n",
       "        12.00000000+0.j,  12.00000000+0.j,  12.00000000+0.j,\n",
       "        12.00000000+0.j,  12.00000000+0.j,  12.00000000+0.j,\n",
       "        12.00000000+0.j,  12.00000000+0.j,  12.00000000+0.j,\n",
       "        12.00000000+0.j,  12.00000000+0.j,  12.00000000+0.j,\n",
       "        12.00000000+0.j,  12.00000000+0.j,  12.00000000+0.j,\n",
       "        12.00000000+0.j,  12.00000000+0.j,  12.00000000+0.j,\n",
       "        12.00000000+0.j,  12.00000000+0.j,  12.00000000+0.j,\n",
       "        12.00000000+0.j,  12.00000000+0.j,  12.00000000+0.j,\n",
       "        12.00000000+0.j,  12.00000000+0.j,  12.00000000+0.j,\n",
       "        12.00000000+0.j,  12.00000000+0.j,  12.00000000+0.j,\n",
       "        12.00000000+0.j,  12.00000000+0.j,  12.00000000+0.j,\n",
       "        12.00000000+0.j,  12.00000000+0.j,  12.00000000+0.j,\n",
       "        12.00000000+0.j,  12.00000000+0.j,  12.00000000+0.j,\n",
       "        12.00000000+0.j,  12.00000000+0.j,  12.00000000+0.j,\n",
       "        12.00000000+0.j,  12.00000000+0.j,  12.00000000+0.j,\n",
       "        12.00000000+0.j,  12.00000000+0.j,  12.00000000+0.j,\n",
       "        12.00000000+0.j,  12.00000000+0.j,  12.00000000+0.j,\n",
       "        12.00000000+0.j,  12.00000000+0.j,  12.00000000+0.j,\n",
       "        12.00000000+0.j,  12.00000000+0.j,  12.00000000+0.j,\n",
       "        12.00000000+0.j,  12.00000000+0.j,  12.00000000+0.j,\n",
       "        12.00000000+0.j,  12.00000000+0.j,  12.00000000+0.j,\n",
       "        12.00000000+0.j,  12.00000000+0.j,  12.00000000+0.j,\n",
       "        12.00000000+0.j,  12.00000000+0.j,  12.00000000+0.j,\n",
       "        12.00000000+0.j,  12.00000000+0.j,  12.00000000+0.j,\n",
       "        12.00000000+0.j,  12.00000000+0.j,  12.00000000+0.j,\n",
       "        12.00000000+0.j,  12.00000000+0.j,  12.00000000+0.j,\n",
       "        12.00000000+0.j])"
      ]
     },
     "execution_count": 53,
     "metadata": {},
     "output_type": "execute_result"
    }
   ],
   "source": [
    "a"
   ]
  },
  {
   "cell_type": "code",
   "execution_count": 41,
   "metadata": {},
   "outputs": [
    {
     "name": "stderr",
     "output_type": "stream",
     "text": [
      "/home/brad/.conda/envs/neuraltda-3/lib/python3.6/site-packages/scipy/sparse/compressed.py:774: SparseEfficiencyWarning: Changing the sparsity structure of a csc_matrix is expensive. lil_matrix is more efficient.\n",
      "  SparseEfficiencyWarning)\n"
     ]
    },
    {
     "name": "stdout",
     "output_type": "stream",
     "text": [
      "CPU times: user 8.39 s, sys: 8 ms, total: 8.4 s\n",
      "Wall time: 7.78 s\n"
     ]
    }
   ],
   "source": [
    "%time test3 = sp.sparse.linalg.expm(test2)"
   ]
  },
  {
   "cell_type": "code",
   "execution_count": 26,
   "metadata": {},
   "outputs": [
    {
     "name": "stdout",
     "output_type": "stream",
     "text": [
      "CPU times: user 1min 30s, sys: 1.96 s, total: 1min 32s\n",
      "Wall time: 38.5 s\n"
     ]
    }
   ],
   "source": [
    "%time (a, b) = np.linalg.eig(test)"
   ]
  },
  {
   "cell_type": "code",
   "execution_count": 38,
   "metadata": {},
   "outputs": [
    {
     "name": "stdout",
     "output_type": "stream",
     "text": [
      "CPU times: user 1min 32s, sys: 13.3 s, total: 1min 45s\n",
      "Wall time: 31.3 s\n"
     ]
    }
   ],
   "source": [
    "%time test2 = sp.linalg.expm(k)"
   ]
  },
  {
   "cell_type": "code",
   "execution_count": 30,
   "metadata": {},
   "outputs": [],
   "source": [
    "b[b < 0.0000001] = 0"
   ]
  },
  {
   "cell_type": "code",
   "execution_count": 37,
   "metadata": {},
   "outputs": [],
   "source": [
    "k = np.diag(a)\n",
    "k[k<0.000001]=0"
   ]
  },
  {
   "cell_type": "code",
   "execution_count": 42,
   "metadata": {},
   "outputs": [
    {
     "data": {
      "text/plain": [
       "<4092x4092 sparse matrix of type '<class 'numpy.complex128'>'\n",
       "\twith 8183 stored elements in Compressed Sparse Column format>"
      ]
     },
     "execution_count": 42,
     "metadata": {},
     "output_type": "execute_result"
    }
   ],
   "source": [
    "test3"
   ]
  },
  {
   "cell_type": "code",
   "execution_count": 43,
   "metadata": {},
   "outputs": [
    {
     "data": {
      "text/plain": [
       "array([[ 2.71828183,  0.        ,  0.        ,  0.        ],\n",
       "       [ 0.        ,  2.71828183,  0.        ,  0.        ],\n",
       "       [ 0.        ,  0.        ,  2.71828183,  0.        ],\n",
       "       [ 0.        ,  0.        ,  0.        ,  2.71828183]])"
      ]
     },
     "execution_count": 43,
     "metadata": {},
     "output_type": "execute_result"
    }
   ],
   "source": [
    "sp.linalg.expm(np.eye(4))"
   ]
  },
  {
   "cell_type": "code",
   "execution_count": 139,
   "metadata": {},
   "outputs": [
    {
     "name": "stdout",
     "output_type": "stream",
     "text": [
      "[ 0.00125604  0.00272912  0.00580973  0.01579249  0.01579249  0.01579249\n",
      "  0.01579249  0.03243991  0.04292845  0.04292845  0.11669161  0.11669161\n",
      "  0.15544634  0.41990876]\n"
     ]
    }
   ],
   "source": [
    "testE = sc.simplicialChainGroups([(1,2,3), (3,4,5), (4,5,6,7), (7,8,9)])\n",
    "testE2 = sc.simplicialChainGroups([(1,2), (3,4,5), (4,5,6), (7,8), (8, 9,10, 11)])\n",
    "testL = sc.compute_laplacian(testE, 1)\n",
    "testL2 = sc.compute_laplacian(testE2, 1)\n",
    "testR = sc.densityMatrix(testL, 1.0)\n",
    "testR2 = sc.densityMatrix(testL2, 1.0)\n",
    "testvals = sp.linalg.eigh(testR, eigvals_only=True)\n",
    "print(testvals)"
   ]
  },
  {
   "cell_type": "code",
   "execution_count": 75,
   "metadata": {},
   "outputs": [
    {
     "name": "stdout",
     "output_type": "stream",
     "text": [
      "[ 0.00125604  0.00272912  0.00580973  0.01579249  0.01579249  0.01579249\n",
      "  0.01579249  0.03243991  0.04292845  0.04292845  0.11669161  0.11669161\n",
      "  0.15544634  0.41990876]\n"
     ]
    }
   ],
   "source": [
    "\n",
    "Lvals = sp.linalg.eigh(testL, eigvals_only=True)\n",
    "rvals = np.exp(Lvals)/ np.sum(np.exp(Lvals))\n",
    "print(rvals)"
   ]
  },
  {
   "cell_type": "code",
   "execution_count": 145,
   "metadata": {},
   "outputs": [
    {
     "name": "stdout",
     "output_type": "stream",
     "text": [
      "Computing Laplacians\n",
      "Reconciling Laplacians\n",
      "Computing Density Matrices\n",
      "Computing JS divergence\n",
      "mlog\n",
      "mlog\n",
      "0.109088143705\n"
     ]
    }
   ],
   "source": [
    "print(sa.compute_JS_expanded(testE, testE2, 1, 1.0))"
   ]
  },
  {
   "cell_type": "code",
   "execution_count": 150,
   "metadata": {},
   "outputs": [
    {
     "name": "stdout",
     "output_type": "stream",
     "text": [
      "0.441489285083\n"
     ]
    }
   ],
   "source": [
    "testE = sc.simplicialChainGroups([(1,2,3), (3,4,5), (4,5,6,7), (7,8,9)])\n",
    "testE2 = sc.simplicialChainGroups([(1,2), (3,4,5), (4,5,6), (7,8), (8, 9,10, 11)])\n",
    "testL = sc.compute_laplacian(testE, 1)\n",
    "testL2 = sc.compute_laplacian(testE2, 1)\n",
    "(testL, testL2) = sc.reconcile_laplacians(testL, testL2)\n",
    "\n",
    "testR = sc.densityMatrix(testL, 1.0)\n",
    "testR2 = sc.densityMatrix(testL2, 1.0)\n",
    "\n",
    "Lvals1 = sp.linalg.eigh(testL, eigvals_only=True)\n",
    "rvals1 = np.real(np.exp(Lvals1)/ np.sum(np.exp(Lvals1)))\n",
    "\n",
    "Lvals2 = sp.linalg.eigh(testL2, eigvals_only=True)\n",
    "rvals2 = np.real(np.exp(Lvals2)/np.sum(np.exp(Lvals2)))\n",
    "\n",
    "div = np.sum(np.multiply(rvals1, (np.log(rvals1) - np.log(rvals2))/ np.log(2.0)))\n",
    "print(div)"
   ]
  },
  {
   "cell_type": "code",
   "execution_count": 109,
   "metadata": {},
   "outputs": [
    {
     "name": "stdout",
     "output_type": "stream",
     "text": [
      "[ 0.24286875  0.0044483   0.08934642  0.08934642  0.01209172  0.01209172\n",
      "  0.08934642  0.08934642  0.01209172  0.08934642  0.08934642  0.08934642\n",
      "  0.08934642  0.00163644]\n",
      "[ 0.41990876  0.15544634  0.03243991  0.00125604  0.00272912  0.11669161\n",
      "  0.01579249  0.01579249  0.00580973  0.04292845  0.04292845  0.01579249\n",
      "  0.11669161  0.01579249]\n"
     ]
    },
    {
     "data": {
      "text/plain": [
       "1.2841873372559884"
      ]
     },
     "execution_count": 109,
     "metadata": {},
     "output_type": "execute_result"
    }
   ],
   "source": [
    "sc.KLdivergence(testR, testR2)"
   ]
  },
  {
   "cell_type": "code",
   "execution_count": 102,
   "metadata": {},
   "outputs": [
    {
     "name": "stdout",
     "output_type": "stream",
     "text": [
      "[ -2.16840434e-19  -6.41847686e-17   1.38777878e-17   1.38777878e-17\n",
      "  -6.93889390e-18   5.55111512e-17   4.16333634e-17  -2.77555756e-17\n",
      "  -2.77555756e-17  -2.77555756e-17  -2.77555756e-17  -2.77555756e-17\n",
      "  -2.77555756e-17   8.32667268e-17]\n"
     ]
    }
   ],
   "source": [
    "v1 = sp.linalg.eigh(testR, eigvals_only=True)\n",
    "print(rvals1 - v1)"
   ]
  },
  {
   "cell_type": "code",
   "execution_count": 101,
   "metadata": {},
   "outputs": [
    {
     "name": "stdout",
     "output_type": "stream",
     "text": [
      "[ -3.25260652e-17  -3.46944695e-17   1.57859836e-16   5.55111512e-17\n",
      "   1.38777878e-17   2.08166817e-17  -3.46944695e-18   3.46944695e-17\n",
      "  -8.32667268e-17  -1.04083409e-16   3.05311332e-16   1.94289029e-16\n",
      "  -4.16333634e-16  -2.22044605e-16]\n"
     ]
    }
   ],
   "source": [
    "v2 = sp.linalg.eigh(testR2, eigvals_only=True)\n",
    "print(rvals2-v2)"
   ]
  },
  {
   "cell_type": "code",
   "execution_count": 103,
   "metadata": {},
   "outputs": [
    {
     "data": {
      "text/plain": [
       "0.44148928508341312"
      ]
     },
     "execution_count": 103,
     "metadata": {},
     "output_type": "execute_result"
    }
   ],
   "source": [
    "np.sum(np.multiply(rvals1, (np.log(rvals1) - np.log(rvals2))/np.log(2.0)))"
   ]
  },
  {
   "cell_type": "code",
   "execution_count": 165,
   "metadata": {},
   "outputs": [
    {
     "data": {
      "text/plain": [
       "<module 'neuraltda.simpComp' from '/home/brad/code/NeuralTDA/neuraltda/simpComp.py'>"
      ]
     },
     "execution_count": 165,
     "metadata": {},
     "output_type": "execute_result"
    }
   ],
   "source": [
    "reload(sc)\n"
   ]
  },
  {
   "cell_type": "code",
   "execution_count": 167,
   "metadata": {},
   "outputs": [
    {
     "data": {
      "text/plain": [
       "1.2841873372559884"
      ]
     },
     "execution_count": 167,
     "metadata": {},
     "output_type": "execute_result"
    }
   ],
   "source": [
    "sc.KLdivergence(testR, testR2)"
   ]
  },
  {
   "cell_type": "code",
   "execution_count": 118,
   "metadata": {},
   "outputs": [
    {
     "data": {
      "text/plain": [
       "6.4152341175112468"
      ]
     },
     "execution_count": 118,
     "metadata": {},
     "output_type": "execute_result"
    }
   ],
   "source": [
    "np.log(np.trace(sp.linalg.expm(testL)))"
   ]
  },
  {
   "cell_type": "code",
   "execution_count": 114,
   "metadata": {},
   "outputs": [
    {
     "data": {
      "text/plain": [
       "1.2851600114359308e+19"
      ]
     },
     "execution_count": 114,
     "metadata": {},
     "output_type": "execute_result"
    }
   ],
   "source": [
    "np.exp(np.trace(testL))"
   ]
  },
  {
   "cell_type": "code",
   "execution_count": 115,
   "metadata": {},
   "outputs": [
    {
     "data": {
      "text/plain": [
       "44.0"
      ]
     },
     "execution_count": 115,
     "metadata": {},
     "output_type": "execute_result"
    }
   ],
   "source": [
    "np.trace(testL)"
   ]
  },
  {
   "cell_type": "code",
   "execution_count": 117,
   "metadata": {},
   "outputs": [
    {
     "data": {
      "text/plain": [
       "611.08380949298146"
      ]
     },
     "execution_count": 117,
     "metadata": {},
     "output_type": "execute_result"
    }
   ],
   "source": [
    "np.sum(np.exp(Lvals1))"
   ]
  },
  {
   "cell_type": "code",
   "execution_count": 121,
   "metadata": {
    "collapsed": true
   },
   "outputs": [],
   "source": [
    "def KL_div2(L1, L2, beta):\n",
    "    \n",
    "    Lvals1 = sp.linalg.eigh(L1, eigvals_only=True)\n",
    "    Lvals2 = sp.linalg.eigh(L2, eigvals_only=True)\n",
    "    \n",
    "    C1 = np.sum(np.exp(beta*Lvals1))\n",
    "    C2 = np.sum(np.exp(beta*Lvals2))\n",
    "    \n",
    "    K = (beta * (L1 - L2) + (np.log(C2/C1))) / np.log(2.0)\n",
    "    rho = sp.linalg.expm(beta*L1) / C1\n",
    "    \n",
    "    return np.trace(np.dot(rho, K))"
   ]
  },
  {
   "cell_type": "code",
   "execution_count": 122,
   "metadata": {},
   "outputs": [
    {
     "data": {
      "text/plain": [
       "1.3729457474565299"
      ]
     },
     "execution_count": 122,
     "metadata": {},
     "output_type": "execute_result"
    }
   ],
   "source": [
    "KL_div2(testL, testL2, 1.0)"
   ]
  },
  {
   "cell_type": "code",
   "execution_count": 127,
   "metadata": {},
   "outputs": [],
   "source": [
    "testK = (sp.linalg.logm(testR) - sp.linalg.logm(testR2)) / np.log(2)"
   ]
  },
  {
   "cell_type": "code",
   "execution_count": 129,
   "metadata": {},
   "outputs": [],
   "source": [
    "beta = 1.0\n",
    "Lvals1 = sp.linalg.eigh(testL, eigvals_only=True)\n",
    "Lvals2 = sp.linalg.eigh(testL2, eigvals_only=True)\n",
    "    \n",
    "C1 = np.sum(np.exp(beta*Lvals1))\n",
    "C2 = np.sum(np.exp(beta*Lvals2))\n",
    "    \n",
    "K = (beta * (testL - testL2) + (np.log(C2/C1))) / np.log(2.0)"
   ]
  },
  {
   "cell_type": "code",
   "execution_count": 152,
   "metadata": {},
   "outputs": [
    {
     "data": {
      "text/plain": [
       "0.0"
      ]
     },
     "execution_count": 152,
     "metadata": {},
     "output_type": "execute_result"
    }
   ],
   "source": [
    "np.amax(np.abs(testR*testR2 - testR2*testR))"
   ]
  },
  {
   "cell_type": "code",
   "execution_count": 157,
   "metadata": {},
   "outputs": [
    {
     "data": {
      "text/plain": [
       "0.0096078701681666778"
      ]
     },
     "execution_count": 157,
     "metadata": {},
     "output_type": "execute_result"
    }
   ],
   "source": [
    "np.amax(np.abs(np.dot(testR, testR2) - np.dot(testR2, testR)))"
   ]
  },
  {
   "cell_type": "code",
   "execution_count": 158,
   "metadata": {},
   "outputs": [
    {
     "data": {
      "text/plain": [
       "3.0"
      ]
     },
     "execution_count": 158,
     "metadata": {},
     "output_type": "execute_result"
    }
   ],
   "source": [
    "np.amax(np.abs(np.dot(testL, testL2) - np.dot(testL2, testL)))"
   ]
  },
  {
   "cell_type": "code",
   "execution_count": 163,
   "metadata": {},
   "outputs": [],
   "source": [
    "r, w = np.linalg.eig(testR)\n",
    "s, w = np.linalg.eig(testR2)"
   ]
  },
  {
   "cell_type": "code",
   "execution_count": 164,
   "metadata": {},
   "outputs": [
    {
     "name": "stdout",
     "output_type": "stream",
     "text": [
      "[ 0.24286875  0.0044483   0.08934642  0.08934642  0.01209172  0.01209172\n",
      "  0.08934642  0.08934642  0.01209172  0.08934642  0.08934642  0.08934642\n",
      "  0.08934642  0.00163644]\n",
      "[ 0.41990876  0.15544634  0.03243991  0.00125604  0.00272912  0.11669161\n",
      "  0.01579249  0.01579249  0.00580973  0.04292845  0.04292845  0.01579249\n",
      "  0.11669161  0.01579249]\n"
     ]
    }
   ],
   "source": [
    "print(r)\n",
    "print(s)"
   ]
  },
  {
   "cell_type": "code",
   "execution_count": 161,
   "metadata": {},
   "outputs": [
    {
     "data": {
      "text/plain": [
       "array([[ 3.,  0.,  0.,  0.,  0.,  0.,  0.,  0.,  0.,  0.,  0.,  0.,  0.,\n",
       "         0.],\n",
       "       [ 0.,  3.,  0., -1., -1.,  0.,  0.,  0.,  0.,  0.,  0.,  0.,  0.,\n",
       "         0.],\n",
       "       [ 0.,  0.,  3., -1., -1.,  0.,  0.,  0.,  0.,  0.,  0.,  0.,  0.,\n",
       "         0.],\n",
       "       [ 0., -1., -1.,  3.,  0.,  0., -1., -1.,  0.,  0.,  0.,  0.,  0.,\n",
       "         0.],\n",
       "       [ 0., -1., -1.,  0.,  3.,  0.,  0.,  0., -1., -1.,  0.,  0.,  0.,\n",
       "         0.],\n",
       "       [ 0.,  0.,  0.,  0.,  0.,  5.,  0.,  0.,  0.,  0.,  0.,  0.,  0.,\n",
       "         0.],\n",
       "       [ 0.,  0.,  0., -1.,  0.,  0.,  4.,  0.,  0.,  0.,  0.,  0.,  0.,\n",
       "         0.],\n",
       "       [ 0.,  0.,  0., -1.,  0.,  0.,  0.,  4.,  0.,  0.,  0., -1., -1.,\n",
       "         0.],\n",
       "       [ 0.,  0.,  0.,  0., -1.,  0.,  0.,  0.,  4.,  0.,  0.,  0.,  0.,\n",
       "         0.],\n",
       "       [ 0.,  0.,  0.,  0., -1.,  0.,  0.,  0.,  0.,  4.,  0., -1., -1.,\n",
       "         0.],\n",
       "       [ 0.,  0.,  0.,  0.,  0.,  0.,  0.,  0.,  0.,  0.,  4., -1., -1.,\n",
       "         0.],\n",
       "       [ 0.,  0.,  0.,  0.,  0.,  0.,  0., -1.,  0., -1., -1.,  3.,  0.,\n",
       "         0.],\n",
       "       [ 0.,  0.,  0.,  0.,  0.,  0.,  0., -1.,  0., -1., -1.,  0.,  3.,\n",
       "         0.],\n",
       "       [ 0.,  0.,  0.,  0.,  0.,  0.,  0.,  0.,  0.,  0.,  0.,  0.,  0.,\n",
       "         3.]])"
      ]
     },
     "execution_count": 161,
     "metadata": {},
     "output_type": "execute_result"
    }
   ],
   "source": [
    "testL2"
   ]
  },
  {
   "cell_type": "code",
   "execution_count": 168,
   "metadata": {},
   "outputs": [
    {
     "data": {
      "text/plain": [
       "0.03161348629784292"
      ]
     },
     "execution_count": 168,
     "metadata": {},
     "output_type": "execute_result"
    }
   ],
   "source": [
    "sc.Likelihood(testR, testR2)"
   ]
  },
  {
   "cell_type": "code",
   "execution_count": 193,
   "metadata": {
    "collapsed": true
   },
   "outputs": [],
   "source": [
    "r, w1 = np.linalg.eig(testR)\n",
    "s, w2 = np.linalg.eig(testR2)"
   ]
  },
  {
   "cell_type": "code",
   "execution_count": 195,
   "metadata": {},
   "outputs": [],
   "source": [
    "Pbar = np.dot(w2, w1.T).T"
   ]
  },
  {
   "cell_type": "code",
   "execution_count": 181,
   "metadata": {},
   "outputs": [
    {
     "data": {
      "text/plain": [
       "array([  1.95873229e-01,   8.54575026e-02,   3.63681310e-04,\n",
       "         5.71985873e-03,   2.09786457e-01,   1.99178706e-02,\n",
       "         4.10973162e-03,   3.64799567e-01,   0.00000000e+00,\n",
       "         1.08316093e-31,   9.30597441e-02,   0.00000000e+00,\n",
       "         0.00000000e+00,   1.00000000e+00])"
      ]
     },
     "execution_count": 181,
     "metadata": {},
     "output_type": "execute_result"
    }
   ],
   "source": [
    "np.diag(k**2)"
   ]
  },
  {
   "cell_type": "code",
   "execution_count": 205,
   "metadata": {
    "collapsed": true
   },
   "outputs": [],
   "source": [
    "rho = testR\n",
    "sigma = testR2\n",
    "sigmaprime = np.dot(Pbar, np.dot(testR2, Pbar.T))\n",
    "\n",
    "sigmaprime2 = np.dot(w1, np.dot(np.diag(s), w1.T))"
   ]
  },
  {
   "cell_type": "code",
   "execution_count": 197,
   "metadata": {},
   "outputs": [
    {
     "data": {
      "text/plain": [
       "0.47212506396792708"
      ]
     },
     "execution_count": 197,
     "metadata": {},
     "output_type": "execute_result"
    }
   ],
   "source": [
    "sc.KLdivergence_matrixlog(rho, sigmaprime)"
   ]
  },
  {
   "cell_type": "code",
   "execution_count": 198,
   "metadata": {},
   "outputs": [
    {
     "data": {
      "text/plain": [
       "1.2841873372559884"
      ]
     },
     "execution_count": 198,
     "metadata": {},
     "output_type": "execute_result"
    }
   ],
   "source": [
    "sc.KLdivergence(rho, sigma)"
   ]
  },
  {
   "cell_type": "code",
   "execution_count": 206,
   "metadata": {},
   "outputs": [
    {
     "data": {
      "text/plain": [
       "0.47193116845076227"
      ]
     },
     "execution_count": 206,
     "metadata": {},
     "output_type": "execute_result"
    }
   ],
   "source": [
    "sc.KLdivergence_matrixlog(rho, sigmaprime2)"
   ]
  },
  {
   "cell_type": "code",
   "execution_count": 204,
   "metadata": {},
   "outputs": [
    {
     "name": "stdout",
     "output_type": "stream",
     "text": [
      "[ 0.00580973  0.41990876  0.15544634  0.11672107  0.00085693  0.00269966\n",
      "  0.01140354  0.01516292  0.03749457  0.04383053  0.04202637  0.01579249\n",
      "  0.11669161  0.01579249]\n"
     ]
    }
   ],
   "source": [
    "t, x = np.linalg.eig(sigmaprime)\n",
    "print(t)"
   ]
  },
  {
   "cell_type": "code",
   "execution_count": 200,
   "metadata": {},
   "outputs": [
    {
     "data": {
      "text/plain": [
       "array([ 0.41990876,  0.15544634,  0.03243991,  0.00125604,  0.00272912,\n",
       "        0.11669161,  0.01579249,  0.01579249,  0.00580973,  0.04292845,\n",
       "        0.04292845,  0.01579249,  0.11669161,  0.01579249])"
      ]
     },
     "execution_count": 200,
     "metadata": {},
     "output_type": "execute_result"
    }
   ],
   "source": [
    "s"
   ]
  },
  {
   "cell_type": "code",
   "execution_count": 207,
   "metadata": {},
   "outputs": [
    {
     "name": "stdout",
     "output_type": "stream",
     "text": [
      "[ 0.41990876  0.15544634  0.03785214  0.01545193  0.01111928  0.00085759\n",
      "  0.11672107  0.00269966  0.00580973  0.04292845  0.04292845  0.01579249\n",
      "  0.11669161  0.01579249]\n"
     ]
    }
   ],
   "source": [
    "t, x = np.linalg.eig(sigmaprime2)\n",
    "print(t)"
   ]
  },
  {
   "cell_type": "code",
   "execution_count": 189,
   "metadata": {
    "collapsed": true
   },
   "outputs": [],
   "source": [
    "Drho = np.diag(r)"
   ]
  },
  {
   "cell_type": "code",
   "execution_count": 208,
   "metadata": {},
   "outputs": [
    {
     "data": {
      "text/plain": [
       "array([[  0.00000000e+00,   7.71624497e-17,  -5.69599232e-16,\n",
       "         -5.77350269e-01,   5.77350269e-01,   0.00000000e+00,\n",
       "         -2.88675135e-01,  -2.88675135e-01,   2.88675135e-01,\n",
       "          2.88675135e-01,  -4.55629494e-16,  -2.33624709e-17,\n",
       "         -1.13261000e-15,   0.00000000e+00],\n",
       "       [  0.00000000e+00,   2.95179495e-01,   1.88701996e-01,\n",
       "         -1.14622934e-01,   1.67638439e-01,   0.00000000e+00,\n",
       "          1.49559755e-02,  -1.38544195e-01,  -2.67305397e-01,\n",
       "         -4.20805568e-01,  -1.53500171e-01,  -8.47134740e-01,\n",
       "          1.37581210e-01,   0.00000000e+00],\n",
       "       [  0.00000000e+00,  -4.05498471e-01,   5.67782446e-01,\n",
       "          3.42436167e-01,  -1.61212372e-01,   0.00000000e+00,\n",
       "         -2.04776231e-01,  -3.05367416e-01,   2.98872308e-01,\n",
       "          1.98281122e-01,  -1.00591185e-01,  -1.22209231e-01,\n",
       "         -1.25082761e-01,   0.00000000e+00],\n",
       "       [  0.00000000e+00,   1.39247329e-15,  -6.19499579e-17,\n",
       "         -3.29114104e-16,  -5.12497194e-16,   0.00000000e+00,\n",
       "          5.40822692e-01,  -5.40822692e-01,   9.05448003e-02,\n",
       "         -9.05448003e-02,   6.31367492e-01,   2.77731825e-16,\n",
       "         -5.59241944e-17,   0.00000000e+00],\n",
       "       [  0.00000000e+00,   1.01383343e-01,   2.07860841e-01,\n",
       "          1.80455592e-01,   4.62716965e-01,   0.00000000e+00,\n",
       "          3.93629848e-01,   1.12453827e-01,   1.11368475e-01,\n",
       "         -1.69807545e-01,  -2.81176020e-01,   2.48247560e-01,\n",
       "         -7.36468389e-01,   0.00000000e+00],\n",
       "       [  0.00000000e+00,   5.76890634e-01,  -3.96390283e-01,\n",
       "          3.11656597e-01,  -1.91991942e-01,   0.00000000e+00,\n",
       "         -2.44275611e-01,  -3.31548960e-01,   2.59372927e-01,\n",
       "          1.72099579e-01,  -8.72733481e-02,  -1.36626341e-01,\n",
       "         -1.33752811e-01,   0.00000000e+00],\n",
       "       [  0.00000000e+00,  -3.74845833e-01,  -3.74845833e-01,\n",
       "          4.69902442e-01,   4.69902442e-01,   0.00000000e+00,\n",
       "         -3.18999639e-01,  -1.41383495e-01,  -3.18999639e-01,\n",
       "         -1.41383495e-01,   1.77616145e-01,  -3.40365502e-02,\n",
       "         -3.40365502e-02,   0.00000000e+00],\n",
       "       [  0.00000000e+00,  -2.68906212e-01,  -2.79000918e-01,\n",
       "          9.91281420e-02,   9.91281420e-02,   0.00000000e+00,\n",
       "          3.38387836e-01,   3.91112017e-01,   3.38387836e-01,\n",
       "          3.91112017e-01,   5.27241803e-02,  -2.65912834e-01,\n",
       "         -2.79920439e-01,   0.00000000e+00],\n",
       "       [  0.00000000e+00,   3.39686730e-01,   3.97459136e-01,\n",
       "          1.89302229e-01,   1.89302229e-01,   0.00000000e+00,\n",
       "         -1.62226625e-01,   3.55500882e-01,  -1.62226625e-01,\n",
       "          3.55500882e-01,   5.17727507e-01,   5.23591203e-02,\n",
       "         -1.54472213e-01,   0.00000000e+00],\n",
       "       [  0.00000000e+00,  -1.13062640e-01,  -1.60740339e-01,\n",
       "         -3.64016018e-01,  -3.64016018e-01,   0.00000000e+00,\n",
       "         -2.55964435e-01,  -2.84504197e-03,  -2.55964435e-01,\n",
       "         -2.84504197e-03,   2.53119394e-01,  -5.57033848e-01,\n",
       "         -3.36194910e-01,   0.00000000e+00],\n",
       "       [  0.00000000e+00,   4.28888439e-16,   2.28486648e-16,\n",
       "          4.50660373e-16,  -4.66677907e-16,   0.00000000e+00,\n",
       "         -2.98548156e-01,   2.98548156e-01,   6.03605108e-01,\n",
       "         -6.03605108e-01,   3.05056952e-01,   4.39155134e-16,\n",
       "         -2.08049627e-16,   0.00000000e+00],\n",
       "       [  1.00000000e+00,   0.00000000e+00,   0.00000000e+00,\n",
       "          0.00000000e+00,   0.00000000e+00,   0.00000000e+00,\n",
       "          0.00000000e+00,   0.00000000e+00,   0.00000000e+00,\n",
       "          0.00000000e+00,   0.00000000e+00,   0.00000000e+00,\n",
       "          0.00000000e+00,   0.00000000e+00],\n",
       "       [  0.00000000e+00,   0.00000000e+00,   0.00000000e+00,\n",
       "          0.00000000e+00,   0.00000000e+00,   1.00000000e+00,\n",
       "          0.00000000e+00,   0.00000000e+00,   0.00000000e+00,\n",
       "          0.00000000e+00,   0.00000000e+00,   0.00000000e+00,\n",
       "          0.00000000e+00,   0.00000000e+00],\n",
       "       [  0.00000000e+00,   0.00000000e+00,   0.00000000e+00,\n",
       "          0.00000000e+00,   0.00000000e+00,   0.00000000e+00,\n",
       "          0.00000000e+00,   0.00000000e+00,   0.00000000e+00,\n",
       "          0.00000000e+00,   0.00000000e+00,   0.00000000e+00,\n",
       "          0.00000000e+00,   1.00000000e+00]])"
      ]
     },
     "execution_count": 208,
     "metadata": {},
     "output_type": "execute_result"
    }
   ],
   "source": [
    "Pbar"
   ]
  },
  {
   "cell_type": "code",
   "execution_count": null,
   "metadata": {
    "collapsed": true
   },
   "outputs": [],
   "source": []
  }
 ],
 "metadata": {
  "kernelspec": {
   "display_name": "Python 3",
   "language": "python",
   "name": "python3"
  },
  "language_info": {
   "codemirror_mode": {
    "name": "ipython",
    "version": 3
   },
   "file_extension": ".py",
   "mimetype": "text/x-python",
   "name": "python",
   "nbconvert_exporter": "python",
   "pygments_lexer": "ipython3",
   "version": "3.6.2"
  }
 },
 "nbformat": 4,
 "nbformat_minor": 2
}
