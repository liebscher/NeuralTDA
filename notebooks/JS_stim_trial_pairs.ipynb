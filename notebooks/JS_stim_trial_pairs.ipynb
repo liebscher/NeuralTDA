{
 "cells": [
  {
   "cell_type": "code",
   "execution_count": 7,
   "metadata": {},
   "outputs": [],
   "source": [
    "import numpy as np\n",
    "import scipy as sp\n",
    "from importlib import reload\n",
    "import neuraltda.topology2 as tp2\n",
    "import glob\n",
    "import os\n",
    "import matplotlib.pyplot as plt\n",
    "%matplotlib inline\n",
    "\n",
    "import seaborn as sns\n",
    "import pandas as pd\n",
    "\n",
    "import neuraltda.spectralAnalysis as sa\n",
    "import neuraltda.simpComp as sc"
   ]
  },
  {
   "cell_type": "code",
   "execution_count": 8,
   "metadata": {
    "collapsed": true
   },
   "outputs": [],
   "source": [
    "block_path = '/home/brad/krista/B1083/P03S03/'\n",
    "\n",
    "bps = {'B1083': '/home/brad/krista/B1083/P03S03/', 'B1075': '/home/brad/krista/B1075/P01S03/', 'B1235': '/home/brad/krista/B1235/P02S01/'}\n"
   ]
  },
  {
   "cell_type": "code",
   "execution_count": 9,
   "metadata": {},
   "outputs": [
    {
     "name": "stdout",
     "output_type": "stream",
     "text": [
      "/home/brad/krista/B1083/P03S03/binned_data/win-10.0_dtovr-5.0_seg-0-0-ForJSDivergence/20170731T155520Z-10.0-5.0.binned\n",
      "Data Not already binned\n",
      "/home/brad/krista/B1235/P02S01/binned_data/win-10.0_dtovr-5.0_seg-0-0-ForJSDivergence/20170731T180936Z-10.0-5.0.binned\n",
      "Data Not already binned\n",
      "/home/brad/krista/B1075/P01S03/binned_data/win-10.0_dtovr-5.0_seg-0-0-ForJSDivergence/20170731T180945Z-10.0-5.0.binned\n"
     ]
    }
   ],
   "source": [
    "#bin the data\n",
    "winsize = 10.0\n",
    "dtovr = winsize*0.5\n",
    "comment = 'ForJSDivergence'\n",
    "segment_info = [0,0]\n",
    "\n",
    "bdfs = []\n",
    "birds = ['B1083', 'B1235', 'B1075']\n",
    "for bird in birds:\n",
    "    block_path = bps[bird]\n",
    "    bfdict = tp2.dag_bin(block_path, winsize, segment_info, cluster_group=['Good'], dt_overlap=dtovr, comment=comment)\n",
    "    bdf = glob.glob(os.path.join(bfdict['raw'], '*.binned'))[0]\n",
    "    print(bdf)\n",
    "    bdfs.append([bird, bdf])"
   ]
  },
  {
   "cell_type": "code",
   "execution_count": 10,
   "metadata": {},
   "outputs": [
    {
     "name": "stdout",
     "output_type": "stream",
     "text": [
      "Computing Chain Groups...\n",
      "KeysView(<HDF5 file \"20170731T155520Z-10.0-5.0.binned\" (mode r)>)\n",
      "Stim: I_40k, Clusters:None\n",
      "Stim: J_40k, Clusters:None\n",
      "Stim: K_40k, Clusters:None\n",
      "Stim: L_40k, Clusters:None\n",
      "Stim: M_40k, Clusters:None\n",
      "Stim: N_40k, Clusters:None\n",
      "Stim: O_40k, Clusters:None\n",
      "Stim: P_40k, Clusters:None\n",
      "Computing Chain Groups...\n",
      "KeysView(<HDF5 file \"20170731T180936Z-10.0-5.0.binned\" (mode r)>)\n",
      "Stim: A_scaled_burung, Clusters:None\n",
      "Stim: B_scaled_burung, Clusters:None\n",
      "Stim: C_scaled_burung, Clusters:None\n",
      "Stim: D_scaled_burung, Clusters:None\n",
      "Stim: E_scaled_burung, Clusters:None\n",
      "Stim: F_scaled_burung, Clusters:None\n",
      "Stim: G_scaled_burung, Clusters:None\n",
      "Stim: H_scaled_burung, Clusters:None\n",
      "Stim: I_scaled_burung, Clusters:None\n",
      "Stim: J_scaled_burung, Clusters:None\n",
      "Stim: K_scaled_burung, Clusters:None\n",
      "Stim: L_scaled_burung, Clusters:None\n",
      "Stim: M_scaled_burung, Clusters:None\n",
      "Stim: N_scaled_burung, Clusters:None\n",
      "Stim: O_scaled_burung, Clusters:None\n",
      "Stim: P_scaled_burung, Clusters:None\n",
      "Computing Chain Groups...\n",
      "KeysView(<HDF5 file \"20170731T180945Z-10.0-5.0.binned\" (mode r)>)\n",
      "Stim: A_40k, Clusters:None\n",
      "Stim: B_40k, Clusters:None\n",
      "Stim: C_40k, Clusters:None\n",
      "Stim: D_40k, Clusters:None\n",
      "Stim: E_40k, Clusters:None\n",
      "Stim: F_40k, Clusters:None\n",
      "Stim: G_40k, Clusters:None\n",
      "Stim: H_40k, Clusters:None\n",
      "Stim: I_40k, Clusters:None\n",
      "Stim: J_40k, Clusters:None\n",
      "Stim: K_40k, Clusters:None\n",
      "Stim: L_40k, Clusters:None\n",
      "Stim: M_40k, Clusters:None\n",
      "Stim: N_40k, Clusters:None\n",
      "Stim: O_40k, Clusters:None\n",
      "Stim: P_40k, Clusters:None\n"
     ]
    }
   ],
   "source": [
    "# compute scgs.  \n",
    "thresh = 6.0\n",
    "cmnt = 'ForJSDivergence'\n",
    "\n",
    "scgGenFiles = {}\n",
    "for bdfj in bdfs:\n",
    "    bdf = bdfj[1]\n",
    "    scgGenFiles[bdfj[0]] = sa.computeChainGroups(block_path, bdf, thresh, comment=cmnt)"
   ]
  },
  {
   "cell_type": "code",
   "execution_count": 11,
   "metadata": {},
   "outputs": [
    {
     "data": {
      "text/plain": [
       "{'B1075': '/home/brad/krista/B1075/P01S03/scg/20170731T180945Z-10.0-5.0-6.0-ForJSDivergence.scg',\n",
       " 'B1083': '/home/brad/krista/B1075/P01S03/scg/20170731T155520Z-10.0-5.0-6.0-ForJSDivergence.scg',\n",
       " 'B1235': '/home/brad/krista/B1075/P01S03/scg/20170731T180936Z-10.0-5.0-6.0-ForJSDivergence.scg'}"
      ]
     },
     "execution_count": 11,
     "metadata": {},
     "output_type": "execute_result"
    }
   ],
   "source": [
    "scgf = scgGenFiles['B1083']\n"
   ]
  },
  {
   "cell_type": "code",
   "execution_count": null,
   "metadata": {
    "collapsed": true
   },
   "outputs": [],
   "source": []
  }
 ],
 "metadata": {
  "kernelspec": {
   "display_name": "Python 3",
   "language": "python",
   "name": "python3"
  },
  "language_info": {
   "codemirror_mode": {
    "name": "ipython",
    "version": 3
   },
   "file_extension": ".py",
   "mimetype": "text/x-python",
   "name": "python",
   "nbconvert_exporter": "python",
   "pygments_lexer": "ipython3",
   "version": "3.6.2"
  }
 },
 "nbformat": 4,
 "nbformat_minor": 2
}
