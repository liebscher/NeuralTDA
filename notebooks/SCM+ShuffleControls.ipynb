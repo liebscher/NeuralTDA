{
 "cells": [
  {
   "cell_type": "code",
   "execution_count": 1,
   "metadata": {},
   "outputs": [
    {
     "name": "stdout",
     "output_type": "stream",
     "text": [
      "/home/brad/DailyLog/20170911/\n"
     ]
    },
    {
     "name": "stderr",
     "output_type": "stream",
     "text": [
      "/home/brad/.conda/envs/neuraltda-3/lib/python3.6/site-packages/IPython/html.py:14: ShimWarning: The `IPython.html` package has been deprecated since IPython 4.0. You should import from `notebook` instead. `IPython.html.widgets` has moved to `ipywidgets`.\n",
      "  \"`IPython.html.widgets` has moved to `ipywidgets`.\", ShimWarning)\n"
     ]
    }
   ],
   "source": [
    "import subprocess as sp\n",
    "import networkx as nx\n",
    "import matplotlib.pyplot as plt\n",
    "import seaborn as sns  # for aesthetic\n",
    "\n",
    "import neuraltda.topology2 as tp2\n",
    "import neuraltda.spectralAnalysis as sa\n",
    "import neuraltda.simpComp as sc\n",
    "import numpy as np\n",
    "import tempfile\n",
    "import h5py as h5\n",
    "import glob\n",
    "import os\n",
    "from importlib import reload\n",
    "import tqdm\n",
    "%matplotlib inline\n",
    "\n",
    "sns.set_style('ticks')\n",
    "\n",
    "import datetime\n",
    "daystr = datetime.datetime.now().strftime('%Y%m%d')\n",
    "figsavepth = '/home/brad/DailyLog/'+daystr+'/'\n",
    "print(figsavepth)"
   ]
  },
  {
   "cell_type": "code",
   "execution_count": 2,
   "metadata": {},
   "outputs": [
    {
     "name": "stdout",
     "output_type": "stream",
     "text": [
      "/home/brad/krista/B1083/P03S03/binned_data/win-10.0_dtovr-5.0_seg-0-0-ForSCM/20170829T191155Z-10.0-5.0.binned\n"
     ]
    }
   ],
   "source": [
    "winsize = 10.0\n",
    "segment_info = [0, 0]\n",
    "pover = 0.5\n",
    "block_path = '/home/brad/krista/B1083/P03S03/'\n",
    "#block_path = '/home/brad/krista/B1056/klusta/phy020516/Pen01_Lft_AP100_ML1300__Site05_Z3500__B1056_cat_P01_S05_1/'\n",
    "#block_path = '/home/brad/krista/B1235/P02S01/'\n",
    "# Bin data\n",
    "bfdict = tp2.dag_bin(block_path, winsize, segment_info, cluster_group=['Good'], dt_overlap=pover*winsize, comment='ForSCM')\n",
    "bdf = glob.glob(os.path.join(bfdict['raw'], '*.binned'))[0]\n",
    "print(bdf)"
   ]
  },
  {
   "cell_type": "code",
   "execution_count": 3,
   "metadata": {
    "collapsed": true
   },
   "outputs": [],
   "source": [
    "thresh = 13.0\n",
    "\n",
    "\n",
    "nperms=None\n",
    "ncellsperm=0\n",
    "dims = [0,1,2,3]\n",
    "twin = np.linspace(0, 6000, 100)\n",
    "windt = winsize\n",
    "dtovr=pover*windt\n",
    "\n",
    "stim_dict = {}\n",
    "stim_shuffled_dict = {}\n",
    "stim_scm_dict = {}\n",
    "stim_betticurve_dict = {}\n",
    "stim_shuffled_betticurve_dict = {}"
   ]
  },
  {
   "cell_type": "code",
   "execution_count": 7,
   "metadata": {},
   "outputs": [
    {
     "name": "stdout",
     "output_type": "stream",
     "text": [
      "Computing trial average\n"
     ]
    }
   ],
   "source": [
    "reload(tp2)\n",
    "# compute real and shuffled betti curves - TrialAverage\n",
    "print('Computing trial average')\n",
    "(bc_tavg, t, tms) = tp2.compute_trialaverage_betti_curves('ForSCMControl', block_path, bdf, thresh, nperms, ncellsperm, dims, twin, windt, dtovr)\n",
    "(bc_tavg_shuff, t, tms) = tp2.compute_trialaverage_betti_curves('ForSCMControl-Shuffle', block_path, bdf, thresh, nperms, ncellsperm, dims, twin, windt, dtovr, shuffle=True)"
   ]
  },
  {
   "cell_type": "code",
   "execution_count": null,
   "metadata": {
    "collapsed": true
   },
   "outputs": [],
   "source": [
    "bc['I_40k'].shape"
   ]
  },
  {
   "cell_type": "code",
   "execution_count": null,
   "metadata": {
    "collapsed": true
   },
   "outputs": [],
   "source": [
    "reload(tp2)\n",
    "with h5.File(bdf, 'r') as bdff:\n",
    "    stims = bdff.keys()\n",
    "    for stim in stims:\n",
    "        print(stim)\n",
    "        stim_poptens = tp2.extract_population_tensor(bdf, stim)\n",
    "        ntrials = tp2.num_trials(stim_poptens)\n",
    "        stim_scm_dat= []\n",
    "        for trial in tqdm.tqdm(range(ntrials)):\n",
    "            scm_bettis = tp2.calc_scm_betti_distribution(stim_poptens, thresh, trial, nsamples)\n",
    "        \n",
    "            stim_scm_dat.append(scm_bettis)\n",
    "        stim_scm_dict[stim] = stim_scm_dat"
   ]
  },
  {
   "cell_type": "code",
   "execution_count": 51,
   "metadata": {
    "collapsed": true
   },
   "outputs": [],
   "source": [
    "def plot_scm_distribution(scm_bettis, trial, bettinum, ax=None, **kwargs):\n",
    "    nmaxtot = 0\n",
    "    scm_trial_bettis = scm_bettis[trial]\n",
    "    bettivals = []\n",
    "    try:\n",
    "        for x in scm_trial_bettis:\n",
    "            try:\n",
    "                bettivals.append(x[0][bettinum])\n",
    "            except IndexError:\n",
    "                bettivals.append(0)\n",
    "    except IndexError:\n",
    "        bettivals = [x[bettinum] for x in scm_trial_bettis]\n",
    "    bettivals2 = []\n",
    "    for x in bettivals:\n",
    "        if type(x) is not list:\n",
    "            bettivals2.append(x)\n",
    "        else:\n",
    "            bettivals2.append(x[0])\n",
    "    #print(bettivals)\n",
    "    (n, bins, ptaches) = ax.hist(bettivals2, 20, normed=True, stacked=True, **kwargs)\n",
    "    print(n)\n",
    "    nmax = np.amax(n)\n",
    "    nmaxtot = np.amax([nmax, nmaxtot])\n",
    "    nmaxx = np.amax(bins)\n",
    "    return (nmaxtot, nmaxx)"
   ]
  },
  {
   "cell_type": "code",
   "execution_count": null,
   "metadata": {},
   "outputs": [],
   "source": [
    "# average over all trials\n",
    "import tqdm\n",
    "nsamples = 200\n",
    "\n",
    "stim_dict = {}\n",
    "stim_shuffled_dict = {}\n",
    "stim_scm_dict = {}\n",
    "stim_betticurve_dict = {}\n",
    "stim_shuffled_betticurve_dict = {}\n",
    "with h5.File(bdf, 'r') as bdff:\n",
    "    stims = bdff.keys()\n",
    "    for stim in tqdm.tqdm(stims):\n",
    "        #print(stim)\n",
    "        trial=0\n",
    "        stim_poptens = tp2.extract_population_tensor(bdf, stim)\n",
    "        ntrials = tp2.num_trials(stim_poptens)\n",
    "        stim_scm_dat= []\n",
    "        stim_trialavg_poptens = np.mean(stim_poptens, axis=2)[:, :, np.newaxis]     \n",
    "        scm_bettis = tp2.calc_scm_betti_distribution(stim_trialavg_poptens, thresh, trial, nsamples)\n",
    "        stim_scm_dict[stim] = scm_bettis\n"
   ]
  },
  {
   "cell_type": "code",
   "execution_count": null,
   "metadata": {
    "collapsed": true
   },
   "outputs": [],
   "source": [
    "import pickle\n",
    "with open(os.path.join(block_path,'scm_control_save_trialvg_thresh13.pkl'), 'wb') as f:\n",
    "    pickle.dump(stim_scm_dict, f)"
   ]
  },
  {
   "cell_type": "code",
   "execution_count": 5,
   "metadata": {},
   "outputs": [],
   "source": [
    "import pickle\n",
    "with open(os.path.join(block_path,'scm_control_save_trialvg.pkl'), 'rb') as f:\n",
    "    stim_scm_dict = pickle.load(f)\n"
   ]
  },
  {
   "cell_type": "code",
   "execution_count": null,
   "metadata": {},
   "outputs": [],
   "source": [
    "int([-1])"
   ]
  },
  {
   "cell_type": "code",
   "execution_count": 56,
   "metadata": {},
   "outputs": [
    {
     "name": "stdout",
     "output_type": "stream",
     "text": [
      "[ 5.83333333  0.          0.          0.          0.          0.\n",
      "  0.66666667  0.          0.          0.          0.          0.          0.\n",
      "  0.13333333  0.          0.          0.          0.          0.\n",
      "  0.03333333]\n",
      "[  2.  50.  72.   4.]\n",
      "[ 19.6   0.    0.    0.    0.    0.    0.    0.    0.    0.    0.    0.\n",
      "   0.    0.    0.    0.    0.    0.    0.    0.4]\n",
      "[  2.  58.  41.   3.]\n",
      "[ 4.3    0.     0.     0.     0.     0.575  0.     0.     0.     0.     0.075\n",
      "  0.     0.     0.     0.     0.025  0.     0.     0.     0.025]\n",
      "[  3.  42.  42.   0.]\n"
     ]
    },
    {
     "data": {
      "image/png": "[encoded data removed]",
      "text/plain": [
       "<matplotlib.figure.Figure at 0x7fef2aae13c8>"
      ]
     },
     "metadata": {},
     "output_type": "display_data"
    }
   ],
   "source": [
    "f, axs = plt.subplots(1, 3, sharey=True, sharex=True, figsize=(16, 4))\n",
    "betti_num = 3\n",
    "stims = list(bc_tavg.keys())[1:4]\n",
    "my = 0\n",
    "nmaxyt = 0\n",
    "nmaxxt = 0\n",
    "for ax, stim in zip(axs.flatten(), bc_tavg.keys()):\n",
    "    final_bettis = bc_tavg[stim][:, -1, 0]\n",
    "   \n",
    "    #final_bettis = stim_betticurve_dict[stim][-1]\n",
    "    b = final_bettis[betti_num]\n",
    "    ax.plot([b, b], [0, 100], 'k--')\n",
    "    (nmaxy, nmaxx) = plot_scm_distribution([stim_scm_dict[stim]], 0, betti_num, ax, align='left', histtype='stepfilled')\n",
    "    nmaxyt = np.amax([nmaxy, nmaxyt])\n",
    "    nmaxxt = np.amax([nmaxx, nmaxxt])\n",
    "    print(final_bettis)\n",
    "\n",
    "    #ax.set_title(stim)\n",
    "    \n",
    "    ax.set_xlim([-0.1, 1.25*nmaxxt])\n",
    "    ax.set_ylim([0, 1.25*nmaxyt])\n",
    "    ax.tick_params(labelsize=20)\n",
    "plt.savefig(os.path.join(figsavepth, 'SCMControlB1083_betti{}.eps'.format(betti_num)))"
   ]
  },
  {
   "cell_type": "code",
   "execution_count": 28,
   "metadata": {},
   "outputs": [
    {
     "data": {
      "text/plain": [
       "4.0"
      ]
     },
     "execution_count": 28,
     "metadata": {},
     "output_type": "execute_result"
    }
   ],
   "source": [
    "nmaxxt"
   ]
  },
  {
   "cell_type": "code",
   "execution_count": null,
   "metadata": {
    "collapsed": true
   },
   "outputs": [],
   "source": [
    "#compute pvalues\n",
    "dims2 = [0,1,2]\n",
    "for stim in bc_tavg.keys():\n",
    "    for dim in dims2:\n",
    "        final_betti = bc_tavg[stim][dim, -1, 0]\n",
    "        scm_dist = np.array(stim_scm_dict[stim])\n",
    "        scm_dist = [x[0][dim] for x in scm_dist]\n",
    "        m = np.mean(scm_dist)\n",
    "        N = len(scm_dist)\n",
    "        if final_betti > m:\n",
    "        \n",
    "            count = np.sum(np.greater(scm_dist, final_betti))\n",
    "        else:\n",
    "            count = np.sum(np.less(scm_dist, final_betti))\n",
    "        p = 2*(1+count)/(N+1)\n",
    "        print('Stim: {} dim: {}  pvalue: {}'.format(stim, dim, p))\n",
    "    print('\\n')\n",
    "    "
   ]
  },
  {
   "cell_type": "code",
   "execution_count": null,
   "metadata": {
    "collapsed": true
   },
   "outputs": [],
   "source": [
    "np.mean(stim_scm_dict[stim][:, :, 1])"
   ]
  },
  {
   "cell_type": "code",
   "execution_count": null,
   "metadata": {},
   "outputs": [],
   "source": [
    "stim_scm_dict[stim]"
   ]
  },
  {
   "cell_type": "code",
   "execution_count": null,
   "metadata": {
    "collapsed": true
   },
   "outputs": [],
   "source": [
    "np.array(stim_scm_dict[stim]).shape"
   ]
  },
  {
   "cell_type": "code",
   "execution_count": null,
   "metadata": {
    "collapsed": true
   },
   "outputs": [],
   "source": [
    "test = stim_scm_dict[stim]\n"
   ]
  },
  {
   "cell_type": "code",
   "execution_count": null,
   "metadata": {
    "collapsed": true
   },
   "outputs": [],
   "source": [
    "test"
   ]
  },
  {
   "cell_type": "code",
   "execution_count": null,
   "metadata": {
    "collapsed": true
   },
   "outputs": [],
   "source": [
    "with h5.File(bdf, 'r') as f:\n",
    "    test_pt = np.array(f[list(f.keys())[1]]['pop_tens'])"
   ]
  },
  {
   "cell_type": "code",
   "execution_count": null,
   "metadata": {},
   "outputs": [],
   "source": [
    "test_pt.shape"
   ]
  },
  {
   "cell_type": "code",
   "execution_count": null,
   "metadata": {
    "collapsed": true
   },
   "outputs": [],
   "source": [
    "trialavg = np.mean(test_pt, axis=2)"
   ]
  },
  {
   "cell_type": "code",
   "execution_count": null,
   "metadata": {
    "collapsed": true
   },
   "outputs": [],
   "source": [
    "avg_frs = np.mean(trialavg, axis=1)"
   ]
  },
  {
   "cell_type": "code",
   "execution_count": null,
   "metadata": {},
   "outputs": [],
   "source": [
    "avg_frs.shape"
   ]
  },
  {
   "cell_type": "code",
   "execution_count": null,
   "metadata": {},
   "outputs": [],
   "source": [
    "avg_frs"
   ]
  },
  {
   "cell_type": "code",
   "execution_count": null,
   "metadata": {},
   "outputs": [],
   "source": []
  },
  {
   "cell_type": "code",
   "execution_count": null,
   "metadata": {
    "collapsed": true
   },
   "outputs": [],
   "source": []
  }
 ],
 "metadata": {
  "kernelspec": {
   "display_name": "Python 3",
   "language": "python",
   "name": "python3"
  },
  "language_info": {
   "codemirror_mode": {
    "name": "ipython",
    "version": 3
   },
   "file_extension": ".py",
   "mimetype": "text/x-python",
   "name": "python",
   "nbconvert_exporter": "python",
   "pygments_lexer": "ipython3",
   "version": "3.6.2"
  }
 },
 "nbformat": 4,
 "nbformat_minor": 2
}
