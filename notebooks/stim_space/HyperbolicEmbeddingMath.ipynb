{
 "cells": [
  {
   "cell_type": "code",
   "execution_count": 1,
   "metadata": {},
   "outputs": [
    {
     "name": "stderr",
     "output_type": "stream",
     "text": [
      "/home/brad/.conda/envs/tensorflow_gpu/lib/python3.6/importlib/_bootstrap.py:205: RuntimeWarning: compiletime version 3.5 of module 'tensorflow.python.framework.fast_tensor_util' does not match runtime version 3.6\n",
      "  return f(*args, **kwds)\n",
      "/home/brad/.conda/envs/tensorflow_gpu/lib/python3.6/site-packages/h5py/__init__.py:34: FutureWarning: Conversion of the second argument of issubdtype from `float` to `np.floating` is deprecated. In future, it will be treated as `np.float64 == np.dtype(float).type`.\n",
      "  from ._conv import register_converters as _register_converters\n"
     ]
    }
   ],
   "source": [
    "import tensorflow as tf\n",
    "import numpy as np"
   ]
  },
  {
   "cell_type": "code",
   "execution_count": 31,
   "metadata": {
    "collapsed": true
   },
   "outputs": [],
   "source": [
    "def euclidean_dsq(X):\n",
    "    \n",
    "    ndim, npts = np.shape(X)\n",
    "    M = np.dot(X.T, X)\n",
    "    Xsq = np.sum(np.square(X), axis=0)[np.newaxis, :]\n",
    "    Xii = np.dot(np.ones((npts, 1)), Xsq)\n",
    "    Xjj = np.dot(Xsq.T, np.ones((1, npts)))\n",
    "    \n",
    "    return Xii + Xjj - 2*M\n",
    "\n",
    "def Dij(X):\n",
    "    '''\n",
    "    Compute hyperbolic distances between pairs of points in X\n",
    "    X = ndim x npts\n",
    "    '''\n",
    "    M = euclidean_dsq(X)\n",
    "    a = 1 - np.sum(np.square(X), axis=0)[np.newaxis,:]\n",
    "    A = np.outer(a, a)\n",
    "    C = 1 + 2* np.divide(M, A)\n",
    "    return np.arccosh(C)\n",
    "\n",
    "def Aij(X, r, t):\n",
    "    \n",
    "    D = Dij(X)\n",
    "    return np.power(np.exp((D - r)/t) +1, -1)\n",
    "\n",
    "def d_Dij(X):\n",
    "    ndim, npts = np.shape(X)\n",
    "    alpha = 1-np.sum(np.square(X), axis=0)[np.newaxis, :]\n",
    "    beta = 1-np.sum(np.square(X), axis=0)[np.newaxis, :]\n",
    "    ab = np.outer(alpha, beta)\n",
    "    gamma = 1 + 2*np.divide(euclidean_dsq(X), ab)\n",
    "    \n",
    "    Xsq = np.sum(np.square(X), axis=0)[np.newaxis, :]\n",
    "    \n",
    "    aij = np.dot(np.ones((npts, 1)), alpha)\n",
    "    Xsqij = np.dot(np.ones((npts, 1)), Xsq)\n",
    "    Mij = np.dot(X.T, X)\n",
    "    #Xij = np.dot(np.ones((npts, 1)), X[np.newaxis, :, :])\n",
    "    Xij = np.einsum('ia, jab->jib', np.ones((npts, 1)), X[:, np.newaxis, :])\n",
    "    #ai = np.dot(alpha.T, np.ones((1, npts)))\n",
    "    \n",
    "    coeff = 4 / (np.multiply(aij, np.sqrt(np.square(gamma) - 1)))\n",
    "    coeff = np.einsum('ij, jab->iab', np.ones((ndim, 1)), coeff[np.newaxis, :, :])\n",
    "    \n",
    "    c2 = np.divide(Xsqij - 2*Mij + 1, np.square(aij.T))\n",
    "    c2 = np.einsum('ij, jab->iab', np.ones((ndim, 1)), c2[np.newaxis, :, :])\n",
    "    \n",
    "    c3 = np.divide(Xij, np.einsum('ij, jab->iab', np.ones((ndim, 1)), (aij.T)[np.newaxis, :, :])\n",
    "    c4 = np.multiply(c2, Xij.T) - c3\n",
    "    c5 = np.multiply(coeff, c4)\n",
    "    \n",
    "    "
   ]
  },
  {
   "cell_type": "code",
   "execution_count": 22,
   "metadata": {},
   "outputs": [
    {
     "data": {
      "text/plain": [
       "array([[0.25, 0.  , 0.  , 0.1 ],\n",
       "       [0.  , 0.15, 0.  , 0.6 ]])"
      ]
     },
     "execution_count": 22,
     "metadata": {},
     "output_type": "execute_result"
    }
   ],
   "source": [
    "def poincare_loss(X, Ahat, r, t):\n",
    "    ''' X is npts x ndim '''\n",
    "    \n",
    "    r = tf.reduce_sum(X*X, 1)\n",
    "    r = tf.reshape(r, [-1, 1])\n",
    "    M = r - 2*tf.matmul(X, tf.transpose(X)) + tf.transpose(r)\n",
    "    a = r*tf.transpose(r)\n",
    "    C = 1+2*tf.divide(M, a)\n",
    "    D = tf.acosh(C)\n",
    "    A = 1 / (tf.exp((D - r)/t) + 1)\n",
    "    H = -(tf.multiply(Ahat, tf.log(A)) + tf.multiply((1-Ahat), tf.log(1-A)))\n",
    "    \n",
    "    \n",
    "    M = tf.matmul(tf.transpose(X), X)\n",
    "    Xsq = tf.sum(tf.square(X), axis=0)[tf.newaxis, :]\n",
    "    Xii\n",
    "    \n",
    "        ndim, npts = np.shape(X)\n",
    "    M = np.dot(X.T, X)\n",
    "    Xsq = np.sum(np.square(X), axis=0)[np.newaxis, :]\n",
    "    Xii = np.dot(np.ones((npts, 1)), Xsq)\n",
    "    Xjj = np.dot(Xsq.T, np.ones((1, npts)))\n",
    "    \n",
    "    return Xii + Xjj - 2*M"
   ]
  },
  {
   "cell_type": "code",
   "execution_count": 28,
   "metadata": {},
   "outputs": [
    {
     "data": {
      "text/plain": [
       "array([[0.5       , 0.35432859, 0.375     , 0.18652608],\n",
       "       [0.35432859, 0.5       , 0.425     , 0.24675021],\n",
       "       [0.375     , 0.425     , 0.5       , 0.19586187],\n",
       "       [0.18652608, 0.24675021, 0.19586187, 0.5       ]])"
      ]
     },
     "execution_count": 28,
     "metadata": {},
     "output_type": "execute_result"
    }
   ],
   "source": [
    "Aij(x, 0, 1)"
   ]
  },
  {
   "cell_type": "code",
   "execution_count": 32,
   "metadata": {},
   "outputs": [
    {
     "ename": "ValueError",
     "evalue": "shapes (4,1) and (1,2,4) not aligned: 1 (dim 1) != 2 (dim 1)",
     "output_type": "error",
     "traceback": [
      "\u001b[0;31m---------------------------------------------------------------------------\u001b[0m",
      "\u001b[0;31mValueError\u001b[0m                                Traceback (most recent call last)",
      "\u001b[0;32m<ipython-input-32-645b427b7f39>\u001b[0m in \u001b[0;36m<module>\u001b[0;34m()\u001b[0m\n\u001b[0;32m----> 1\u001b[0;31m \u001b[0md_Dij\u001b[0m\u001b[0;34m(\u001b[0m\u001b[0mx\u001b[0m\u001b[0;34m)\u001b[0m\u001b[0;34m\u001b[0m\u001b[0m\n\u001b[0m",
      "\u001b[0;32m<ipython-input-31-e2d1dc69e8fc>\u001b[0m in \u001b[0;36md_Dij\u001b[0;34m(X)\u001b[0m\n\u001b[1;32m     37\u001b[0m     \u001b[0mXsqij\u001b[0m \u001b[0;34m=\u001b[0m \u001b[0mnp\u001b[0m\u001b[0;34m.\u001b[0m\u001b[0mdot\u001b[0m\u001b[0;34m(\u001b[0m\u001b[0mnp\u001b[0m\u001b[0;34m.\u001b[0m\u001b[0mones\u001b[0m\u001b[0;34m(\u001b[0m\u001b[0;34m(\u001b[0m\u001b[0mnpts\u001b[0m\u001b[0;34m,\u001b[0m \u001b[0;36m1\u001b[0m\u001b[0;34m)\u001b[0m\u001b[0;34m)\u001b[0m\u001b[0;34m,\u001b[0m \u001b[0mXsq\u001b[0m\u001b[0;34m)\u001b[0m\u001b[0;34m\u001b[0m\u001b[0m\n\u001b[1;32m     38\u001b[0m     \u001b[0mMij\u001b[0m \u001b[0;34m=\u001b[0m \u001b[0mnp\u001b[0m\u001b[0;34m.\u001b[0m\u001b[0mdot\u001b[0m\u001b[0;34m(\u001b[0m\u001b[0mX\u001b[0m\u001b[0;34m.\u001b[0m\u001b[0mT\u001b[0m\u001b[0;34m,\u001b[0m \u001b[0mX\u001b[0m\u001b[0;34m)\u001b[0m\u001b[0;34m\u001b[0m\u001b[0m\n\u001b[0;32m---> 39\u001b[0;31m     \u001b[0mXij\u001b[0m \u001b[0;34m=\u001b[0m \u001b[0mnp\u001b[0m\u001b[0;34m.\u001b[0m\u001b[0mdot\u001b[0m\u001b[0;34m(\u001b[0m\u001b[0mnp\u001b[0m\u001b[0;34m.\u001b[0m\u001b[0mones\u001b[0m\u001b[0;34m(\u001b[0m\u001b[0;34m(\u001b[0m\u001b[0mnpts\u001b[0m\u001b[0;34m,\u001b[0m \u001b[0;36m1\u001b[0m\u001b[0;34m)\u001b[0m\u001b[0;34m)\u001b[0m\u001b[0;34m,\u001b[0m \u001b[0mX\u001b[0m\u001b[0;34m[\u001b[0m\u001b[0mnp\u001b[0m\u001b[0;34m.\u001b[0m\u001b[0mnewaxis\u001b[0m\u001b[0;34m,\u001b[0m \u001b[0;34m:\u001b[0m\u001b[0;34m,\u001b[0m \u001b[0;34m:\u001b[0m\u001b[0;34m]\u001b[0m\u001b[0;34m)\u001b[0m\u001b[0;34m\u001b[0m\u001b[0m\n\u001b[0m\u001b[1;32m     40\u001b[0m     \u001b[0;31m#ai = np.dot(alpha.T, np.ones((1, npts)))\u001b[0m\u001b[0;34m\u001b[0m\u001b[0;34m\u001b[0m\u001b[0m\n\u001b[1;32m     41\u001b[0m \u001b[0;34m\u001b[0m\u001b[0m\n",
      "\u001b[0;31mValueError\u001b[0m: shapes (4,1) and (1,2,4) not aligned: 1 (dim 1) != 2 (dim 1)"
     ]
    }
   ],
   "source": [
    "d_Dij(x)"
   ]
  },
  {
   "cell_type": "code",
   "execution_count": null,
   "metadata": {
    "collapsed": true
   },
   "outputs": [],
   "source": []
  }
 ],
 "metadata": {
  "kernelspec": {
   "display_name": "Python 3",
   "language": "python",
   "name": "python3"
  },
  "language_info": {
   "codemirror_mode": {
    "name": "ipython",
    "version": 3
   },
   "file_extension": ".py",
   "mimetype": "text/x-python",
   "name": "python",
   "nbconvert_exporter": "python",
   "pygments_lexer": "ipython3",
   "version": "3.6.1"
  }
 },
 "nbformat": 4,
 "nbformat_minor": 2
}
