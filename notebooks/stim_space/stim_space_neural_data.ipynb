{
 "cells": [
  {
   "cell_type": "code",
   "execution_count": 1,
   "metadata": {},
   "outputs": [
    {
     "name": "stderr",
     "output_type": "stream",
     "text": [
      "/home/brad/.conda/envs/neuraltda-4/lib/python3.6/site-packages/h5py/__init__.py:36: FutureWarning: Conversion of the second argument of issubdtype from `float` to `np.floating` is deprecated. In future, it will be treated as `np.float64 == np.dtype(float).type`.\n",
      "  from ._conv import register_converters as _register_converters\n"
     ]
    },
    {
     "name": "stdout",
     "output_type": "stream",
     "text": [
      "/home/brad/DailyLog/20180416/\n"
     ]
    }
   ],
   "source": [
    "import numpy as np\n",
    "import scipy as sp\n",
    "from importlib import reload\n",
    "import neuraltda.topology2 as tp2\n",
    "import neuraltda.plotting as tpplt\n",
    "import neuraltda.spikeutils as su\n",
    "import glob\n",
    "import os\n",
    "import matplotlib.pyplot as plt\n",
    "%matplotlib inline\n",
    "import datetime\n",
    "import neuraltda.stimulus_space as sc\n",
    "import neuraltda.spectralAnalysis as sa\n",
    "import pandas as pd\n",
    "import h5py as h5\n",
    "import pickle\n",
    "import networkx as nx\n",
    "from sklearn.manifold import MDS\n",
    "\n",
    "# Setup figure save path\n",
    "daystr = datetime.datetime.now().strftime('%Y%m%d')\n",
    "figsavepth = '/home/brad/DailyLog/'+daystr+'/'\n",
    "print(figsavepth)"
   ]
  },
  {
   "cell_type": "code",
   "execution_count": 2,
   "metadata": {},
   "outputs": [],
   "source": [
    "# Set up birds and block_paths\n",
    "birds = ['B1083', 'B1056', 'B1235', 'B1075']\n",
    "bps = {'B1083': '/home/brad/krista/B1083/P03S03/', 'B1075': '/home/brad/krista/B1075/P01S03/',\n",
    "       'B1235': '/home/brad/krista/B1235/P02S01/', 'B1056': '/home/brad/krista/B1056/klusta/phy020516/Pen01_Lft_AP100_ML1300__Site03_Z2500__B1056_cat_P01_S03_1/',\n",
    "       'B1056': '/home/brad/krista/B1056/klusta/phy020516/Pen01_Lft_AP100_ML1300__Site03_Z2500__B1056_cat_P01_S03_1/'}\n",
    "\n",
    "# Binning Parameters\n",
    "windt = 10.0                      # milliseconds\n",
    "dtovr = 0.5*windt                 # milliseconds\n",
    "dtovr = 0\n",
    "segment_info = [0, 0]             # use full Trial\n",
    "cluster_group = ['Good']          # use just good clusters\n",
    "comment = 'StimSpace2'             # BootStrap Populations\n",
    "bdfs = {}                         # Dictionary to store bdf\n",
    "\n",
    "# computation parameters\n",
    "thresh = 4.0"
   ]
  },
  {
   "cell_type": "code",
   "execution_count": 3,
   "metadata": {},
   "outputs": [
    {
     "name": "stdout",
     "output_type": "stream",
     "text": [
      "Data Not already binned\n",
      "Nreps = 20\n",
      "skip = 200\n",
      "dur = 120000.0\n",
      "nwins = 600\n",
      "Nreps = 20\n",
      "skip = 200\n",
      "dur = 120000.0\n",
      "nwins = 600\n",
      "Nreps = 20\n",
      "skip = 200\n",
      "dur = 120000.0\n",
      "nwins = 600\n",
      "Nreps = 20\n",
      "skip = 200\n",
      "dur = 120000.0\n",
      "nwins = 600\n",
      "Nreps = 20\n",
      "skip = 200\n",
      "dur = 120000.0\n",
      "nwins = 600\n",
      "Nreps = 20\n",
      "skip = 200\n",
      "dur = 120000.0\n",
      "nwins = 600\n",
      "Nreps = 20\n",
      "skip = 200\n",
      "dur = 120000.0\n",
      "nwins = 600\n",
      "Nreps = 20\n",
      "skip = 200\n",
      "dur = 120000.0\n",
      "nwins = 600\n",
      "/home/brad/krista/B1083/P03S03/binned_data/win-10.0_dtovr-0_seg-0-0-StimSpace2/20180411T165022Z-10.0-0.binned\n",
      "Data Not already binned\n",
      "Nreps = 20\n",
      "skip = 312\n",
      "dur = 206722.0\n",
      "nwins = 663\n",
      "Nreps = 20\n",
      "skip = 312\n",
      "dur = 206723.0\n",
      "nwins = 663\n",
      "Nreps = 20\n",
      "skip = 312\n",
      "dur = 206719.0\n",
      "nwins = 663\n",
      "Nreps = 20\n",
      "skip = 312\n",
      "dur = 206719.0\n",
      "nwins = 663\n",
      "Nreps = 20\n",
      "skip = 312\n",
      "dur = 206722.0\n",
      "nwins = 663\n",
      "Nreps = 20\n",
      "skip = 312\n",
      "dur = 206719.0\n",
      "nwins = 663\n",
      "Nreps = 20\n",
      "skip = 312\n",
      "dur = 206718.0\n",
      "nwins = 663\n",
      "Nreps = 20\n",
      "skip = 312\n",
      "dur = 206719.0\n",
      "nwins = 663\n",
      "Nreps = 20\n",
      "skip = 312\n",
      "dur = 206719.0\n",
      "nwins = 663\n",
      "Nreps = 20\n",
      "skip = 312\n",
      "dur = 206722.0\n",
      "nwins = 663\n",
      "Nreps = 20\n",
      "skip = 312\n",
      "dur = 206719.0\n",
      "nwins = 663\n",
      "Nreps = 20\n",
      "skip = 312\n",
      "dur = 206718.0\n",
      "nwins = 663\n",
      "Nreps = 20\n",
      "skip = 312\n",
      "dur = 206719.0\n",
      "nwins = 663\n",
      "Nreps = 20\n",
      "skip = 312\n",
      "dur = 206719.0\n",
      "nwins = 663\n",
      "Nreps = 20\n",
      "skip = 312\n",
      "dur = 206723.0\n",
      "nwins = 663\n",
      "Nreps = 20\n",
      "skip = 312\n",
      "dur = 206718.0\n",
      "nwins = 663\n",
      "/home/brad/krista/B1056/klusta/phy020516/Pen01_Lft_AP100_ML1300__Site03_Z2500__B1056_cat_P01_S03_1/binned_data/win-10.0_dtovr-0_seg-0-0-StimSpace2/20180411T165033Z-10.0-0.binned\n",
      "Data Not already binned\n",
      "Nreps = 20\n",
      "skip = 312\n",
      "dur = 206723.0\n",
      "nwins = 663\n",
      "Nreps = 20\n",
      "skip = 312\n",
      "dur = 206719.0\n",
      "nwins = 663\n",
      "Nreps = 20\n",
      "skip = 312\n",
      "dur = 206719.0\n",
      "nwins = 663\n",
      "Nreps = 20\n",
      "skip = 312\n",
      "dur = 206718.0\n",
      "nwins = 663\n",
      "Nreps = 20\n",
      "skip = 312\n",
      "dur = 206719.0\n",
      "nwins = 663\n",
      "Nreps = 20\n",
      "skip = 312\n",
      "dur = 206719.0\n",
      "nwins = 663\n",
      "Nreps = 20\n",
      "skip = 312\n",
      "dur = 206722.0\n",
      "nwins = 663\n",
      "Nreps = 20\n",
      "skip = 312\n",
      "dur = 206723.0\n",
      "nwins = 663\n",
      "Nreps = 20\n",
      "skip = 312\n",
      "dur = 206719.0\n",
      "nwins = 663\n",
      "Nreps = 20\n",
      "skip = 312\n",
      "dur = 206722.0\n",
      "nwins = 663\n",
      "Nreps = 20\n",
      "skip = 312\n",
      "dur = 206719.0\n",
      "nwins = 663\n",
      "Nreps = 20\n",
      "skip = 312\n",
      "dur = 206719.0\n",
      "nwins = 663\n",
      "Nreps = 20\n",
      "skip = 312\n",
      "dur = 206719.0\n",
      "nwins = 663\n",
      "Nreps = 20\n",
      "skip = 312\n",
      "dur = 206722.0\n",
      "nwins = 663\n",
      "Nreps = 20\n",
      "skip = 312\n",
      "dur = 206719.0\n",
      "nwins = 663\n",
      "Nreps = 20\n",
      "skip = 312\n",
      "dur = 206719.0\n",
      "nwins = 663\n",
      "/home/brad/krista/B1235/P02S01/binned_data/win-10.0_dtovr-0_seg-0-0-StimSpace2/20180411T165048Z-10.0-0.binned\n",
      "Data Not already binned\n",
      "Nreps = 20\n",
      "skip = 200\n",
      "dur = 120000.0\n",
      "nwins = 600\n",
      "Nreps = 20\n",
      "skip = 200\n",
      "dur = 120002.0\n",
      "nwins = 600\n",
      "Nreps = 20\n",
      "skip = 200\n",
      "dur = 120000.0\n",
      "nwins = 600\n",
      "Nreps = 20\n",
      "skip = 200\n",
      "dur = 120000.0\n",
      "nwins = 600\n",
      "Nreps = 20\n",
      "skip = 200\n",
      "dur = 120003.0\n",
      "nwins = 600\n",
      "Nreps = 20\n",
      "skip = 200\n",
      "dur = 120000.0\n",
      "nwins = 600\n",
      "Nreps = 20\n",
      "skip = 200\n",
      "dur = 120003.0\n",
      "nwins = 600\n",
      "Nreps = 20\n",
      "skip = 200\n",
      "dur = 120000.0\n",
      "nwins = 600\n",
      "Nreps = 20\n",
      "skip = 200\n",
      "dur = 120000.0\n",
      "nwins = 600\n",
      "Nreps = 20\n",
      "skip = 200\n",
      "dur = 120000.0\n",
      "nwins = 600\n",
      "Nreps = 20\n",
      "skip = 200\n",
      "dur = 120000.0\n",
      "nwins = 600\n",
      "Nreps = 20\n",
      "skip = 200\n",
      "dur = 120000.0\n",
      "nwins = 600\n",
      "Nreps = 20\n",
      "skip = 200\n",
      "dur = 120002.0\n",
      "nwins = 600\n",
      "Nreps = 20\n",
      "skip = 200\n",
      "dur = 120000.0\n",
      "nwins = 600\n",
      "Nreps = 20\n",
      "skip = 200\n",
      "dur = 120000.0\n",
      "nwins = 600\n",
      "Nreps = 20\n",
      "skip = 200\n",
      "dur = 120002.0\n",
      "nwins = 600\n",
      "/home/brad/krista/B1075/P01S03/binned_data/win-10.0_dtovr-0_seg-0-0-StimSpace2/20180411T165058Z-10.0-0.binned\n"
     ]
    }
   ],
   "source": [
    "# Loop through each bird in our list and bin the data\n",
    "for bird in birds:\n",
    "    block_path = bps[bird]\n",
    "    bfdict = tp2.dag_bin(block_path, windt, segment_info, cluster_group=cluster_group, dt_overlap=dtovr, comment=comment)\n",
    "    bdf = glob.glob(os.path.join(bfdict['raw'], '*.binned'))[0]\n",
    "    print(bdf)\n",
    "    bdfs[bird] = bdf"
   ]
  },
  {
   "cell_type": "code",
   "execution_count": 46,
   "metadata": {},
   "outputs": [
    {
     "name": "stdout",
     "output_type": "stream",
     "text": [
      "['A_scaled_burung', 'B_scaled_burung', 'C_scaled_burung', 'D_scaled_burung', 'E_scaled_burung', 'F_scaled_burung', 'G_scaled_burung', 'H_scaled_burung', 'I_scaled_burung', 'J_scaled_burung', 'K_scaled_burung', 'L_scaled_burung', 'M_scaled_burung', 'N_scaled_burung', 'O_scaled_burung', 'P_scaled_burung']\n"
     ]
    }
   ],
   "source": [
    "# select bird\n",
    "bird = 'B1056'\n",
    "stim = 'I_scaled_burung'\n",
    "trial = 0\n",
    "block_path = bps[bird]\n",
    "bdf = bdfs[bird]\n",
    "with h5.File(bdf, 'r') as f:\n",
    "    print(list(f.keys()))\n",
    "    poptens = np.array(f[stim]['pop_tens'])\n",
    "    ncells = 2*poptens.shape[0]\n",
    "    ntrials = poptens.shape[2]\n",
    "    popmat = poptens[:, :, trial]\n",
    "\n"
   ]
  },
  {
   "cell_type": "code",
   "execution_count": 53,
   "metadata": {},
   "outputs": [
    {
     "name": "stdout",
     "output_type": "stream",
     "text": [
      "(54, 663)\n"
     ]
    },
    {
     "data": {
      "text/plain": [
       "(600,)"
      ]
     },
     "execution_count": 53,
     "metadata": {},
     "output_type": "execute_result"
    }
   ],
   "source": [
    "print(popmat.shape )\n",
    "t = np.arange(0, 6, 0.01)\n",
    "t.shape"
   ]
  },
  {
   "cell_type": "code",
   "execution_count": null,
   "metadata": {},
   "outputs": [],
   "source": [
    "au = sc.binnedtobinary(popmat, thresh)\n",
    "maxsimps = sc.binarytomaxsimplex(au, rDup=True)\n"
   ]
  },
  {
   "cell_type": "code",
   "execution_count": null,
   "metadata": {},
   "outputs": [],
   "source": [
    "g = sc.stimspacegraph_nx(maxsimps, ncells)\n",
    "nx.info(g)"
   ]
  },
  {
   "cell_type": "code",
   "execution_count": null,
   "metadata": {},
   "outputs": [],
   "source": [
    "dmat = nx.floyd_warshall_numpy(g)"
   ]
  },
  {
   "cell_type": "code",
   "execution_count": null,
   "metadata": {},
   "outputs": [],
   "source": [
    "gmds = MDS(n_jobs=-2, dissimilarity='precomputed')\n",
    "embed_pts = gmds.fit_transform(dmat)"
   ]
  },
  {
   "cell_type": "code",
   "execution_count": null,
   "metadata": {},
   "outputs": [],
   "source": [
    "plt.style.use('/home/brad/code/NeuralTDA/gentnerlab.mplstyle')\n",
    "fig = plt.figure(figsize=(7,7))\n",
    "plt.plot(embed_pts[:, 0], embed_pts[:, 1], 'b.')"
   ]
  },
  {
   "cell_type": "code",
   "execution_count": null,
   "metadata": {
    "scrolled": false
   },
   "outputs": [],
   "source": [
    "# select bird\n",
    "bird = 'B1056'\n",
    "stim = 'I_scaled_burung'\n",
    "trial = 1\n",
    "block_path = bps[bird]\n",
    "bdf = bdfs[bird]\n",
    "d_max = 30\n",
    "dmats = []\n",
    "graphs = []\n",
    "noise_pc = 0.005\n",
    "with h5.File(bdf, 'r') as f:\n",
    "    print(list(f.keys()))\n",
    "    poptens = np.array(f[stim]['pop_tens'])\n",
    "    ncells = 2*poptens.shape[0]\n",
    "    ntrials = poptens.shape[2]\n",
    "    for trial in range(ntrials):\n",
    "        popmat = poptens[:, :, trial]\n",
    "        au = sc.binnedtobinary(popmat, thresh)\n",
    "        maxsimps = sc.binarytomaxsimplex(au, rDup=True)\n",
    "        print('computing graph...')\n",
    "        g = sc.stimspacegraph_nx(maxsimps, ncells)\n",
    "        graphs.append(g)\n",
    "        nx.info(g)\n",
    "        print('computing distances...')\n",
    "        dmat = nx.floyd_warshall_numpy(g)\n",
    "        noise_amps = noise_pc*dmat\n",
    "        noise = np.multiply(noise_amps, np.random.randn(dmat.shape[0], dmat.shape[1])) \n",
    "        noise = (noise + noise.T)/2\n",
    "        dmat += noise\n",
    "        dmats.append(dmat)\n",
    "        #Adjust inf dists\n",
    "        dmat[np.isnan(dmat)] = d_max\n",
    "        print('computing mds...')\n",
    "        gmds = MDS(n_jobs=-2, dissimilarity='precomputed', metric=False)\n",
    "        embed_pts = gmds.fit_transform(dmat)\n",
    "        plt.figure()\n",
    "        plt.style.use('/home/brad/code/NeuralTDA/gentnerlab.mplstyle')\n",
    "        fig = plt.figure(figsize=(7,7))\n",
    "        plt.plot(embed_pts[:, 0], embed_pts[:, 1], 'b.')\n",
    "        plt.show()"
   ]
  },
  {
   "cell_type": "code",
   "execution_count": null,
   "metadata": {},
   "outputs": [],
   "source": [
    "G = graphs[0]\n",
    "nx.info(G)\n",
    "nx.is_connected(G)\n",
    "G.edges((10,31), data=True)\n",
    "\n",
    "ns = list(G.nodes())\n",
    "\n",
    "cn = [(x,) for x in range(101)]\n",
    "dmat = np.zeros((len(cn), len(cn)))\n",
    "for ind in range(len(cn)):\n",
    "    for indw in range(ind+1, len(cn)):\n",
    "        try:\n",
    "            dmat[ind, indw] = nx.shortest_path_length(G, ns[ind], ns[indw], weight='weight')\n",
    "        except ValueError:\n",
    "            print(ns[ind], ns[indw])"
   ]
  },
  {
   "cell_type": "code",
   "execution_count": null,
   "metadata": {},
   "outputs": [],
   "source": [
    "dmat = dmat + dmat.T"
   ]
  },
  {
   "cell_type": "code",
   "execution_count": null,
   "metadata": {},
   "outputs": [],
   "source": [
    "gmds = MDS(n_jobs=-2, dissimilarity='precomputed')\n",
    "embed_pts = gmds.fit_transform(dmat)\n",
    "plt.style.use('/home/brad/code/NeuralTDA/gentnerlab.mplstyle')\n",
    "fig = plt.figure(figsize=(7,7))\n",
    "plt.plot(embed_pts[:, 0], embed_pts[:, 1], 'b.')"
   ]
  },
  {
   "cell_type": "code",
   "execution_count": null,
   "metadata": {},
   "outputs": [],
   "source": [
    "nx.shortest_path_length(G, (4,28), (4,), weight='weight')"
   ]
  },
  {
   "cell_type": "code",
   "execution_count": null,
   "metadata": {},
   "outputs": [],
   "source": [
    "nx.negative_edge_cycle(G)"
   ]
  },
  {
   "cell_type": "code",
   "execution_count": null,
   "metadata": {},
   "outputs": [],
   "source": [
    "G.edges(data=True)"
   ]
  },
  {
   "cell_type": "code",
   "execution_count": null,
   "metadata": {},
   "outputs": [],
   "source": [
    "# do everything\n",
    "allmaxsimps = []\n",
    "with h5.File(bdf, 'r') as f:\n",
    "    print(list(f.keys()))\n",
    "    stims = list(f.keys())\n",
    "    for stim in stims:\n",
    "        poptens = np.array(f[stim]['pop_tens'])\n",
    "        ncells = 2*poptens.shape[0]\n",
    "        ntrials = poptens.shape[2]\n",
    "        for trial in range(ntrials):\n",
    "            popmat = poptens[:, :, trial]\n",
    "            au = sc.binnedtobinary(popmat, thresh)\n",
    "            maxsimps = sc.binarytomaxsimplex(au, rDup=True)\n",
    "            allmaxsimps.append(maxsimps)"
   ]
  },
  {
   "cell_type": "code",
   "execution_count": null,
   "metadata": {},
   "outputs": [],
   "source": [
    "ams = np.concatenate(allmaxsimps)\n",
    "g = sc.stimspacegraph_nx(ams, ncells)"
   ]
  },
  {
   "cell_type": "code",
   "execution_count": null,
   "metadata": {
    "scrolled": true
   },
   "outputs": [],
   "source": [
    "# metric version\n",
    "bird = 'B1056'\n",
    "stim = 'I_scaled_burung'\n",
    "trial = 1\n",
    "block_path = bps[bird]\n",
    "bdf = bdfs[bird]\n",
    "d_max = 30\n",
    "dmats = []\n",
    "graphs = []\n",
    "noise_pc = 0.005\n",
    "with h5.File(bdf, 'r') as f:\n",
    "    print(list(f.keys()))\n",
    "    poptens = np.array(f[stim]['pop_tens'])\n",
    "    ncells = 2*poptens.shape[0]\n",
    "    ntrials = poptens.shape[2]\n",
    "    for trial in range(ntrials):\n",
    "        popmat = poptens[:, :, trial]\n",
    "        au = sc.binnedtobinary(popmat, thresh)\n",
    "        maxsimps = sc.binarytomaxsimplex(au, rDup=True)\n",
    "        print('computing graph...')\n",
    "        g = sc.stimspacegraph_nx(maxsimps, ncells)\n",
    "        graphs.append(g)\n",
    "        nx.info(g)\n",
    "        print('computing distances...')\n",
    "        dmat = nx.floyd_warshall_numpy(g)\n",
    "        noise_amps = noise_pc*dmat\n",
    "        noise = np.multiply(noise_amps, np.random.randn(dmat.shape[0], dmat.shape[1])) \n",
    "        noise = (noise + noise.T)/2\n",
    "        dmat += noise\n",
    "        dmats.append(dmat)\n",
    "        #Adjust inf dists\n",
    "        dmat[np.isnan(dmat)] = d_max\n",
    "        print('computing mds...')\n",
    "        gmds = MDS(n_jobs=-2, dissimilarity='precomputed', metric=True)\n",
    "        embed_pts = gmds.fit_transform(dmat)\n",
    "        plt.figure()\n",
    "        plt.style.use('/home/brad/code/NeuralTDA/gentnerlab.mplstyle')\n",
    "        fig = plt.figure(figsize=(7,7))\n",
    "        plt.plot(embed_pts[:, 0], embed_pts[:, 1], 'b.')\n",
    "        plt.show()"
   ]
  },
  {
   "cell_type": "code",
   "execution_count": null,
   "metadata": {
    "scrolled": false
   },
   "outputs": [],
   "source": [
    "# metric version\n",
    "bird = 'B1056'\n",
    "stim = 'I_scaled_burung'\n",
    "trial = 1\n",
    "block_path = bps[bird]\n",
    "bdf = bdfs[bird]\n",
    "d_max = 30\n",
    "dmats = []\n",
    "graphs = []\n",
    "noise_pc = 0.005\n",
    "res = []\n",
    "with h5.File(bdf, 'r') as f:\n",
    "    print(list(f.keys()))\n",
    "    poptens = np.array(f[stim]['pop_tens'])\n",
    "    ncells = 2*poptens.shape[0]\n",
    "    ntrials = poptens.shape[2]\n",
    "    for trial in range(ntrials):\n",
    "        popmat = poptens[:, :, trial]\n",
    "        au = sc.binnedtobinary(popmat, thresh)\n",
    "        maxsimps = sc.binarytomaxsimplex(au, rDup=True)\n",
    "        print('computing graph...')\n",
    "        g = sc.stimspacegraph_nx(maxsimps, ncells)\n",
    "        sorted_node_list = sorted(list(g.nodes()), key=len)\n",
    "        graphs.append(g)\n",
    "        nx.info(g)\n",
    "        print('computing distances...')\n",
    "        dmat = nx.floyd_warshall_numpy(g, nodelist=sorted_node_list)\n",
    "        noise_amps = noise_pc*dmat\n",
    "        noise = np.multiply(noise_amps, np.random.randn(dmat.shape[0], dmat.shape[1])) \n",
    "        noise = (noise + noise.T)/2\n",
    "        dmat += noise\n",
    "        dmats.append(dmat)\n",
    "        #Adjust inf dists\n",
    "        dmat[np.isnan(dmat)] = d_max\n",
    "        print('computing mds...')\n",
    "        gmds = MDS(n_jobs=-2, dissimilarity='precomputed', metric=True)\n",
    "        embed_pts = gmds.fit_transform(dmat)\n",
    "        \n",
    "        res.append([g, sorted_node_list, dmat, embed_pts])\n",
    "        \n",
    "        fig = plt.figure(figsize=(9,9))\n",
    "        orders = np.array([len(x) for x in sorted_node_list])\n",
    "        max_ord = max(orders)\n",
    "        for order in range(max_ord):\n",
    "            inds = (orders == order+1)\n",
    "\n",
    "            plt.plot(embed_pts[inds, 0], embed_pts[inds, 1], '.', label=order+1)\n",
    "\n",
    "        plt.legend()\n",
    "        plt.show()"
   ]
  },
  {
   "cell_type": "code",
   "execution_count": 216,
   "metadata": {},
   "outputs": [
    {
     "name": "stdout",
     "output_type": "stream",
     "text": [
      "40000\n"
     ]
    }
   ],
   "source": [
    "from scipy.io import wavfile\n",
    "from scipy.signal import spectrogram\n",
    "stimname = 'I_scaled_burung'\n",
    "stimfile = '/home/brad/krista_stims/I_40k.wav'\n",
    "\n",
    "fs, stimdat = wavfile.read(stimfile)\n",
    "print(fs)\n",
    "\n",
    "winlen = 10 # ms\n",
    "winlen_samps = int(winlen*fs/1000.)\n",
    "#winlen_samps = 256\n",
    "winlen_samps = 128\n",
    "nfft = 128\n",
    "noverlap = int(winlen_samps/2)\n",
    "nt_win = 5\n",
    "ovr = np.round(winlen_samps*pcover, )\n",
    "f, t, Sxx = spectrogram(stimdat, fs, nperseg=winlen_samps, noverlap=ovr)\n",
    "\n",
    "def downsample_freq(dat):\n",
    "    return (dat[1::2, :] + dat[:-1:2, :])/2\n",
    "\n",
    "def downsample_t(dat):\n",
    "    if len(dat.shape) == 1:\n",
    "        return (dat[1::2] + dat[:-1:2])/2\n",
    "    return (dat[:, 1::2] + dat[:, :-1:2])/2\n",
    "\n",
    "avgSxx = downsample_freq(downsample_freq(downsample_freq(Sxx)))\n",
    "avgSxx = downsample_t(downsample_t(avgSxx))\n",
    "t = downsample_t(downsample_t(t))\n",
    "#t = t[::3]\n",
    "avgSxx = np.log10(avgSxx)\n",
    "avgSxx = avgSxx - np.tile(np.mean(avgSxx, axis=1)[:, np.newaxis], (1, avgSxx.shape[1]))\n",
    "avgSxx = np.divide(avgSxx, np.tile(np.std(avgSxx, axis=1)[:, np.newaxis], (1, avgSxx.shape[1])))\n",
    "stim = np.zeros((nt_win*avgSxx.shape[0], avgSxx.shape[1]))\n",
    "for win in range(nt_win, avgSxx.shape[1]):\n",
    "    stim[:, win] = np.reshape(avgSxx[:, win-nt_win:win], (nt_win*avgSxx.shape[0]))\n"
   ]
  },
  {
   "cell_type": "code",
   "execution_count": 229,
   "metadata": {},
   "outputs": [
    {
     "data": {
      "text/plain": [
       "array([0.0128, 0.0128, 0.0128, 0.0128, 0.0128, 0.0128, 0.0128, 0.0128,\n",
       "       0.0128, 0.0128, 0.0128, 0.0128, 0.0128, 0.0128, 0.0128, 0.0128,\n",
       "       0.0128, 0.0128, 0.0128, 0.0128, 0.0128, 0.0128, 0.0128, 0.0128,\n",
       "       0.0128, 0.0128, 0.0128, 0.0128, 0.0128, 0.0128, 0.0128, 0.0128,\n",
       "       0.0128, 0.0128, 0.0128, 0.0128, 0.0128, 0.0128, 0.0128, 0.0128,\n",
       "       0.0128, 0.0128, 0.0128, 0.0128, 0.0128, 0.0128, 0.0128, 0.0128,\n",
       "       0.0128, 0.0128, 0.0128, 0.0128, 0.0128, 0.0128, 0.0128, 0.0128,\n",
       "       0.0128, 0.0128, 0.0128, 0.0128, 0.0128, 0.0128, 0.0128, 0.0128,\n",
       "       0.0128, 0.0128, 0.0128, 0.0128, 0.0128, 0.0128, 0.0128, 0.0128,\n",
       "       0.0128, 0.0128, 0.0128, 0.0128, 0.0128, 0.0128, 0.0128, 0.0128,\n",
       "       0.0128, 0.0128, 0.0128, 0.0128, 0.0128, 0.0128, 0.0128, 0.0128,\n",
       "       0.0128, 0.0128, 0.0128, 0.0128, 0.0128, 0.0128, 0.0128, 0.0128,\n",
       "       0.0128, 0.0128, 0.0128, 0.0128, 0.0128, 0.0128, 0.0128, 0.0128,\n",
       "       0.0128, 0.0128, 0.0128, 0.0128, 0.0128, 0.0128, 0.0128, 0.0128,\n",
       "       0.0128, 0.0128, 0.0128, 0.0128, 0.0128, 0.0128, 0.0128, 0.0128,\n",
       "       0.0128, 0.0128, 0.0128, 0.0128, 0.0128, 0.0128, 0.0128, 0.0128,\n",
       "       0.0128, 0.0128, 0.0128, 0.0128, 0.0128, 0.0128, 0.0128, 0.0128,\n",
       "       0.0128, 0.0128, 0.0128, 0.0128, 0.0128, 0.0128, 0.0128, 0.0128,\n",
       "       0.0128, 0.0128, 0.0128, 0.0128, 0.0128, 0.0128, 0.0128, 0.0128,\n",
       "       0.0128, 0.0128, 0.0128, 0.0128, 0.0128, 0.0128, 0.0128, 0.0128,\n",
       "       0.0128, 0.0128, 0.0128, 0.0128, 0.0128, 0.0128, 0.0128, 0.0128,\n",
       "       0.0128, 0.0128, 0.0128, 0.0128, 0.0128, 0.0128, 0.0128, 0.0128,\n",
       "       0.0128, 0.0128, 0.0128, 0.0128, 0.0128, 0.0128, 0.0128, 0.0128,\n",
       "       0.0128, 0.0128, 0.0128, 0.0128, 0.0128, 0.0128, 0.0128, 0.0128,\n",
       "       0.0128, 0.0128, 0.0128, 0.0128, 0.0128, 0.0128, 0.0128, 0.0128,\n",
       "       0.0128, 0.0128, 0.0128, 0.0128, 0.0128, 0.0128, 0.0128, 0.0128,\n",
       "       0.0128, 0.0128, 0.0128, 0.0128, 0.0128, 0.0128, 0.0128, 0.0128,\n",
       "       0.0128, 0.0128, 0.0128, 0.0128, 0.0128, 0.0128, 0.0128, 0.0128,\n",
       "       0.0128, 0.0128, 0.0128, 0.0128, 0.0128, 0.0128, 0.0128, 0.0128,\n",
       "       0.0128, 0.0128, 0.0128, 0.0128, 0.0128, 0.0128, 0.0128, 0.0128,\n",
       "       0.0128, 0.0128, 0.0128, 0.0128, 0.0128, 0.0128, 0.0128, 0.0128,\n",
       "       0.0128, 0.0128, 0.0128, 0.0128, 0.0128, 0.0128, 0.0128, 0.0128,\n",
       "       0.0128, 0.0128, 0.0128, 0.0128, 0.0128, 0.0128, 0.0128, 0.0128,\n",
       "       0.0128, 0.0128, 0.0128, 0.0128, 0.0128, 0.0128, 0.0128, 0.0128,\n",
       "       0.0128, 0.0128, 0.0128, 0.0128, 0.0128, 0.0128, 0.0128, 0.0128,\n",
       "       0.0128, 0.0128, 0.0128, 0.0128, 0.0128, 0.0128, 0.0128, 0.0128,\n",
       "       0.0128, 0.0128, 0.0128, 0.0128, 0.0128, 0.0128, 0.0128, 0.0128,\n",
       "       0.0128, 0.0128, 0.0128, 0.0128, 0.0128, 0.0128, 0.0128, 0.0128,\n",
       "       0.0128, 0.0128, 0.0128, 0.0128, 0.0128, 0.0128, 0.0128, 0.0128,\n",
       "       0.0128, 0.0128, 0.0128, 0.0128, 0.0128, 0.0128, 0.0128, 0.0128,\n",
       "       0.0128, 0.0128, 0.0128, 0.0128, 0.0128, 0.0128, 0.0128, 0.0128,\n",
       "       0.0128, 0.0128, 0.0128, 0.0128, 0.0128, 0.0128, 0.0128, 0.0128,\n",
       "       0.0128, 0.0128, 0.0128, 0.0128, 0.0128, 0.0128, 0.0128, 0.0128,\n",
       "       0.0128, 0.0128, 0.0128, 0.0128, 0.0128, 0.0128, 0.0128, 0.0128,\n",
       "       0.0128, 0.0128, 0.0128, 0.0128, 0.0128, 0.0128, 0.0128, 0.0128,\n",
       "       0.0128, 0.0128, 0.0128, 0.0128, 0.0128, 0.0128, 0.0128, 0.0128,\n",
       "       0.0128, 0.0128, 0.0128, 0.0128, 0.0128, 0.0128, 0.0128, 0.0128,\n",
       "       0.0128, 0.0128, 0.0128, 0.0128, 0.0128, 0.0128, 0.0128, 0.0128,\n",
       "       0.0128, 0.0128, 0.0128, 0.0128, 0.0128, 0.0128, 0.0128, 0.0128,\n",
       "       0.0128, 0.0128, 0.0128, 0.0128, 0.0128, 0.0128, 0.0128, 0.0128,\n",
       "       0.0128, 0.0128, 0.0128, 0.0128, 0.0128, 0.0128, 0.0128, 0.0128,\n",
       "       0.0128, 0.0128, 0.0128, 0.0128, 0.0128, 0.0128, 0.0128, 0.0128,\n",
       "       0.0128, 0.0128, 0.0128, 0.0128, 0.0128, 0.0128, 0.0128, 0.0128,\n",
       "       0.0128, 0.0128, 0.0128, 0.0128, 0.0128, 0.0128, 0.0128, 0.0128,\n",
       "       0.0128, 0.0128, 0.0128, 0.0128, 0.0128, 0.0128, 0.0128, 0.0128,\n",
       "       0.0128, 0.0128, 0.0128, 0.0128, 0.0128, 0.0128, 0.0128, 0.0128,\n",
       "       0.0128, 0.0128, 0.0128, 0.0128, 0.0128, 0.0128, 0.0128, 0.0128,\n",
       "       0.0128, 0.0128, 0.0128, 0.0128, 0.0128, 0.0128, 0.0128, 0.0128,\n",
       "       0.0128, 0.0128, 0.0128])"
      ]
     },
     "execution_count": 229,
     "metadata": {},
     "output_type": "execute_result"
    }
   ],
   "source": [
    "t[1:] - t[:-1]"
   ]
  },
  {
   "cell_type": "code",
   "execution_count": 218,
   "metadata": {},
   "outputs": [],
   "source": [
    "# Extract relevant data\n",
    "from ephys import core, events\n",
    "\n",
    "bp = bps['B1056']\n",
    "\n",
    "spikes = core.load_spikes(bp)\n",
    "fs_spikes = core.load_fs(bp)\n",
    "trials = events.load_trials(bp)\n",
    "clusters = core.load_clusters(bp)\n",
    "\n",
    "# Extract trials from given stimulus\n",
    "stim_trials = trials[trials['stimulus'] == stimname]\n",
    "\n",
    "# get segment times for trial of interest\n",
    "trial = 0\n",
    "\n",
    "#\n",
    "trial_bounds = (stim_trials.iloc[trial]['time_samples'], stim_trials.iloc[trial]['stimulus_end'])\n",
    "clusters_to_use = clusters[clusters['quality'] == 'Good']\n",
    "clusters_list = clusters_to_use['cluster'].unique()\n",
    "spikes = spikes[spikes['cluster'].isin(list(clusters_list))]\n",
    "segment = tp2.get_segment((0, trial_bounds[1]-trial_bounds[0]), fs_spikes, [0,0])\n",
    "nclus = len(clusters_list)\n",
    "\n",
    "# convert time to samples:\n",
    "t_samp = t*fs_spikes"
   ]
  },
  {
   "cell_type": "code",
   "execution_count": 224,
   "metadata": {},
   "outputs": [],
   "source": [
    "# get the population tensor\n",
    "poptens = tp2.build_poptens_given_windows(stim_trials, spikes, t_samp, clusters_list, segment)"
   ]
  },
  {
   "cell_type": "code",
   "execution_count": 225,
   "metadata": {},
   "outputs": [
    {
     "name": "stdout",
     "output_type": "stream",
     "text": [
      "(54, 468, 20)\n"
     ]
    }
   ],
   "source": [
    "np.sum(poptens[:, :, 0], axis=0)\n",
    "print(poptens.shape)"
   ]
  },
  {
   "cell_type": "code",
   "execution_count": 228,
   "metadata": {},
   "outputs": [
    {
     "name": "stdout",
     "output_type": "stream",
     "text": [
      "1\n",
      "computing graph...\n",
      "419\n"
     ]
    },
    {
     "ename": "KeyboardInterrupt",
     "evalue": "",
     "output_type": "error",
     "traceback": [
      "\u001b[0;31m---------------------------------------------------------------------------\u001b[0m",
      "\u001b[0;31mKeyboardInterrupt\u001b[0m                         Traceback (most recent call last)",
      "\u001b[0;32m<ipython-input-228-335cd791fe67>\u001b[0m in \u001b[0;36m<module>\u001b[0;34m()\u001b[0m\n\u001b[1;32m     18\u001b[0m     \u001b[0mprint\u001b[0m\u001b[0;34m(\u001b[0m\u001b[0;34m'computing graph...'\u001b[0m\u001b[0;34m)\u001b[0m\u001b[0;34m\u001b[0m\u001b[0m\n\u001b[1;32m     19\u001b[0m     \u001b[0mprint\u001b[0m\u001b[0;34m(\u001b[0m\u001b[0mlen\u001b[0m\u001b[0;34m(\u001b[0m\u001b[0mmaxsimps\u001b[0m\u001b[0;34m)\u001b[0m\u001b[0;34m)\u001b[0m\u001b[0;34m\u001b[0m\u001b[0m\n\u001b[0;32m---> 20\u001b[0;31m     \u001b[0mg\u001b[0m \u001b[0;34m=\u001b[0m \u001b[0msc\u001b[0m\u001b[0;34m.\u001b[0m\u001b[0mstimspacegraph_nx\u001b[0m\u001b[0;34m(\u001b[0m\u001b[0mmaxsimps\u001b[0m\u001b[0;34m,\u001b[0m \u001b[0mncells\u001b[0m\u001b[0;34m)\u001b[0m\u001b[0;34m\u001b[0m\u001b[0m\n\u001b[0m\u001b[1;32m     21\u001b[0m     \u001b[0mgraphs\u001b[0m\u001b[0;34m.\u001b[0m\u001b[0mappend\u001b[0m\u001b[0;34m(\u001b[0m\u001b[0;34m(\u001b[0m\u001b[0mg\u001b[0m\u001b[0;34m,\u001b[0m \u001b[0mmaxsimps\u001b[0m\u001b[0;34m,\u001b[0m \u001b[0mau\u001b[0m\u001b[0;34m)\u001b[0m\u001b[0;34m)\u001b[0m\u001b[0;34m\u001b[0m\u001b[0m\n\u001b[1;32m     22\u001b[0m     \u001b[0mprint\u001b[0m\u001b[0;34m(\u001b[0m\u001b[0mnx\u001b[0m\u001b[0;34m.\u001b[0m\u001b[0minfo\u001b[0m\u001b[0;34m(\u001b[0m\u001b[0mg\u001b[0m\u001b[0;34m)\u001b[0m\u001b[0;34m)\u001b[0m\u001b[0;34m\u001b[0m\u001b[0m\n",
      "\u001b[0;32m~/code/NeuralTDA/neuraltda/stimulus_space.py\u001b[0m in \u001b[0;36mstimspacegraph_nx\u001b[0;34m(maxsimps, Ncells, stimuli)\u001b[0m\n\u001b[1;32m     60\u001b[0m     \u001b[0mdepth\u001b[0m \u001b[0;34m=\u001b[0m \u001b[0;36m0\u001b[0m\u001b[0;34m\u001b[0m\u001b[0m\n\u001b[1;32m     61\u001b[0m     \u001b[0;32mfor\u001b[0m \u001b[0mmaxsimp\u001b[0m \u001b[0;32min\u001b[0m \u001b[0mmaxsimps\u001b[0m\u001b[0;34m:\u001b[0m\u001b[0;34m\u001b[0m\u001b[0m\n\u001b[0;32m---> 62\u001b[0;31m         \u001b[0madd_cellgroups\u001b[0m\u001b[0;34m(\u001b[0m\u001b[0mg\u001b[0m\u001b[0;34m,\u001b[0m \u001b[0mmaxsimp\u001b[0m\u001b[0;34m,\u001b[0m \u001b[0mNcells\u001b[0m\u001b[0;34m,\u001b[0m \u001b[0mdepth\u001b[0m\u001b[0;34m)\u001b[0m\u001b[0;34m\u001b[0m\u001b[0m\n\u001b[0m\u001b[1;32m     63\u001b[0m \u001b[0;34m\u001b[0m\u001b[0m\n\u001b[1;32m     64\u001b[0m     \u001b[0;32mif\u001b[0m \u001b[0mstimuli\u001b[0m \u001b[0;32mis\u001b[0m \u001b[0;32mnot\u001b[0m \u001b[0;32mNone\u001b[0m\u001b[0;34m:\u001b[0m\u001b[0;34m\u001b[0m\u001b[0m\n",
      "\u001b[0;32m~/code/NeuralTDA/neuraltda/stimulus_space.py\u001b[0m in \u001b[0;36madd_cellgroups\u001b[0;34m(graph, cg, Ncells, depth)\u001b[0m\n\u001b[1;32m     40\u001b[0m             \u001b[0ma\u001b[0m \u001b[0;34m=\u001b[0m \u001b[0mcg_list\u001b[0m\u001b[0;34m.\u001b[0m\u001b[0mpop\u001b[0m\u001b[0;34m(\u001b[0m\u001b[0mind\u001b[0m\u001b[0;34m)\u001b[0m\u001b[0;34m\u001b[0m\u001b[0m\n\u001b[1;32m     41\u001b[0m             \u001b[0mgraph\u001b[0m\u001b[0;34m.\u001b[0m\u001b[0madd_edge\u001b[0m\u001b[0;34m(\u001b[0m\u001b[0mtuple\u001b[0m\u001b[0;34m(\u001b[0m\u001b[0mcg_list\u001b[0m\u001b[0;34m)\u001b[0m\u001b[0;34m,\u001b[0m \u001b[0mcg_orig\u001b[0m\u001b[0;34m,\u001b[0m \u001b[0mweight\u001b[0m\u001b[0;34m=\u001b[0m\u001b[0mmuk\u001b[0m\u001b[0;34m)\u001b[0m\u001b[0;34m\u001b[0m\u001b[0m\n\u001b[0;32m---> 42\u001b[0;31m             \u001b[0madd_cellgroups\u001b[0m\u001b[0;34m(\u001b[0m\u001b[0mgraph\u001b[0m\u001b[0;34m,\u001b[0m \u001b[0mcg_list\u001b[0m\u001b[0;34m,\u001b[0m \u001b[0mNcells\u001b[0m\u001b[0;34m,\u001b[0m \u001b[0mdepth\u001b[0m\u001b[0;34m+\u001b[0m\u001b[0;36m1\u001b[0m\u001b[0;34m)\u001b[0m\u001b[0;34m\u001b[0m\u001b[0m\n\u001b[0m\u001b[1;32m     43\u001b[0m             \u001b[0mcg_list\u001b[0m\u001b[0;34m.\u001b[0m\u001b[0minsert\u001b[0m\u001b[0;34m(\u001b[0m\u001b[0mind\u001b[0m\u001b[0;34m,\u001b[0m \u001b[0ma\u001b[0m\u001b[0;34m)\u001b[0m\u001b[0;34m\u001b[0m\u001b[0m\n\u001b[1;32m     44\u001b[0m     \u001b[0;32mreturn\u001b[0m\u001b[0;34m\u001b[0m\u001b[0m\n",
      "\u001b[0;32m~/code/NeuralTDA/neuraltda/stimulus_space.py\u001b[0m in \u001b[0;36madd_cellgroups\u001b[0;34m(graph, cg, Ncells, depth)\u001b[0m\n\u001b[1;32m     40\u001b[0m             \u001b[0ma\u001b[0m \u001b[0;34m=\u001b[0m \u001b[0mcg_list\u001b[0m\u001b[0;34m.\u001b[0m\u001b[0mpop\u001b[0m\u001b[0;34m(\u001b[0m\u001b[0mind\u001b[0m\u001b[0;34m)\u001b[0m\u001b[0;34m\u001b[0m\u001b[0m\n\u001b[1;32m     41\u001b[0m             \u001b[0mgraph\u001b[0m\u001b[0;34m.\u001b[0m\u001b[0madd_edge\u001b[0m\u001b[0;34m(\u001b[0m\u001b[0mtuple\u001b[0m\u001b[0;34m(\u001b[0m\u001b[0mcg_list\u001b[0m\u001b[0;34m)\u001b[0m\u001b[0;34m,\u001b[0m \u001b[0mcg_orig\u001b[0m\u001b[0;34m,\u001b[0m \u001b[0mweight\u001b[0m\u001b[0;34m=\u001b[0m\u001b[0mmuk\u001b[0m\u001b[0;34m)\u001b[0m\u001b[0;34m\u001b[0m\u001b[0m\n\u001b[0;32m---> 42\u001b[0;31m             \u001b[0madd_cellgroups\u001b[0m\u001b[0;34m(\u001b[0m\u001b[0mgraph\u001b[0m\u001b[0;34m,\u001b[0m \u001b[0mcg_list\u001b[0m\u001b[0;34m,\u001b[0m \u001b[0mNcells\u001b[0m\u001b[0;34m,\u001b[0m \u001b[0mdepth\u001b[0m\u001b[0;34m+\u001b[0m\u001b[0;36m1\u001b[0m\u001b[0;34m)\u001b[0m\u001b[0;34m\u001b[0m\u001b[0m\n\u001b[0m\u001b[1;32m     43\u001b[0m             \u001b[0mcg_list\u001b[0m\u001b[0;34m.\u001b[0m\u001b[0minsert\u001b[0m\u001b[0;34m(\u001b[0m\u001b[0mind\u001b[0m\u001b[0;34m,\u001b[0m \u001b[0ma\u001b[0m\u001b[0;34m)\u001b[0m\u001b[0;34m\u001b[0m\u001b[0m\n\u001b[1;32m     44\u001b[0m     \u001b[0;32mreturn\u001b[0m\u001b[0;34m\u001b[0m\u001b[0m\n",
      "\u001b[0;32m~/code/NeuralTDA/neuraltda/stimulus_space.py\u001b[0m in \u001b[0;36madd_cellgroups\u001b[0;34m(graph, cg, Ncells, depth)\u001b[0m\n\u001b[1;32m     40\u001b[0m             \u001b[0ma\u001b[0m \u001b[0;34m=\u001b[0m \u001b[0mcg_list\u001b[0m\u001b[0;34m.\u001b[0m\u001b[0mpop\u001b[0m\u001b[0;34m(\u001b[0m\u001b[0mind\u001b[0m\u001b[0;34m)\u001b[0m\u001b[0;34m\u001b[0m\u001b[0m\n\u001b[1;32m     41\u001b[0m             \u001b[0mgraph\u001b[0m\u001b[0;34m.\u001b[0m\u001b[0madd_edge\u001b[0m\u001b[0;34m(\u001b[0m\u001b[0mtuple\u001b[0m\u001b[0;34m(\u001b[0m\u001b[0mcg_list\u001b[0m\u001b[0;34m)\u001b[0m\u001b[0;34m,\u001b[0m \u001b[0mcg_orig\u001b[0m\u001b[0;34m,\u001b[0m \u001b[0mweight\u001b[0m\u001b[0;34m=\u001b[0m\u001b[0mmuk\u001b[0m\u001b[0;34m)\u001b[0m\u001b[0;34m\u001b[0m\u001b[0m\n\u001b[0;32m---> 42\u001b[0;31m             \u001b[0madd_cellgroups\u001b[0m\u001b[0;34m(\u001b[0m\u001b[0mgraph\u001b[0m\u001b[0;34m,\u001b[0m \u001b[0mcg_list\u001b[0m\u001b[0;34m,\u001b[0m \u001b[0mNcells\u001b[0m\u001b[0;34m,\u001b[0m \u001b[0mdepth\u001b[0m\u001b[0;34m+\u001b[0m\u001b[0;36m1\u001b[0m\u001b[0;34m)\u001b[0m\u001b[0;34m\u001b[0m\u001b[0m\n\u001b[0m\u001b[1;32m     43\u001b[0m             \u001b[0mcg_list\u001b[0m\u001b[0;34m.\u001b[0m\u001b[0minsert\u001b[0m\u001b[0;34m(\u001b[0m\u001b[0mind\u001b[0m\u001b[0;34m,\u001b[0m \u001b[0ma\u001b[0m\u001b[0;34m)\u001b[0m\u001b[0;34m\u001b[0m\u001b[0m\n\u001b[1;32m     44\u001b[0m     \u001b[0;32mreturn\u001b[0m\u001b[0;34m\u001b[0m\u001b[0m\n",
      "\u001b[0;32m~/code/NeuralTDA/neuraltda/stimulus_space.py\u001b[0m in \u001b[0;36madd_cellgroups\u001b[0;34m(graph, cg, Ncells, depth)\u001b[0m\n\u001b[1;32m     40\u001b[0m             \u001b[0ma\u001b[0m \u001b[0;34m=\u001b[0m \u001b[0mcg_list\u001b[0m\u001b[0;34m.\u001b[0m\u001b[0mpop\u001b[0m\u001b[0;34m(\u001b[0m\u001b[0mind\u001b[0m\u001b[0;34m)\u001b[0m\u001b[0;34m\u001b[0m\u001b[0m\n\u001b[1;32m     41\u001b[0m             \u001b[0mgraph\u001b[0m\u001b[0;34m.\u001b[0m\u001b[0madd_edge\u001b[0m\u001b[0;34m(\u001b[0m\u001b[0mtuple\u001b[0m\u001b[0;34m(\u001b[0m\u001b[0mcg_list\u001b[0m\u001b[0;34m)\u001b[0m\u001b[0;34m,\u001b[0m \u001b[0mcg_orig\u001b[0m\u001b[0;34m,\u001b[0m \u001b[0mweight\u001b[0m\u001b[0;34m=\u001b[0m\u001b[0mmuk\u001b[0m\u001b[0;34m)\u001b[0m\u001b[0;34m\u001b[0m\u001b[0m\n\u001b[0;32m---> 42\u001b[0;31m             \u001b[0madd_cellgroups\u001b[0m\u001b[0;34m(\u001b[0m\u001b[0mgraph\u001b[0m\u001b[0;34m,\u001b[0m \u001b[0mcg_list\u001b[0m\u001b[0;34m,\u001b[0m \u001b[0mNcells\u001b[0m\u001b[0;34m,\u001b[0m \u001b[0mdepth\u001b[0m\u001b[0;34m+\u001b[0m\u001b[0;36m1\u001b[0m\u001b[0;34m)\u001b[0m\u001b[0;34m\u001b[0m\u001b[0m\n\u001b[0m\u001b[1;32m     43\u001b[0m             \u001b[0mcg_list\u001b[0m\u001b[0;34m.\u001b[0m\u001b[0minsert\u001b[0m\u001b[0;34m(\u001b[0m\u001b[0mind\u001b[0m\u001b[0;34m,\u001b[0m \u001b[0ma\u001b[0m\u001b[0;34m)\u001b[0m\u001b[0;34m\u001b[0m\u001b[0m\n\u001b[1;32m     44\u001b[0m     \u001b[0;32mreturn\u001b[0m\u001b[0;34m\u001b[0m\u001b[0m\n",
      "\u001b[0;32m~/code/NeuralTDA/neuraltda/stimulus_space.py\u001b[0m in \u001b[0;36madd_cellgroups\u001b[0;34m(graph, cg, Ncells, depth)\u001b[0m\n\u001b[1;32m     40\u001b[0m             \u001b[0ma\u001b[0m \u001b[0;34m=\u001b[0m \u001b[0mcg_list\u001b[0m\u001b[0;34m.\u001b[0m\u001b[0mpop\u001b[0m\u001b[0;34m(\u001b[0m\u001b[0mind\u001b[0m\u001b[0;34m)\u001b[0m\u001b[0;34m\u001b[0m\u001b[0m\n\u001b[1;32m     41\u001b[0m             \u001b[0mgraph\u001b[0m\u001b[0;34m.\u001b[0m\u001b[0madd_edge\u001b[0m\u001b[0;34m(\u001b[0m\u001b[0mtuple\u001b[0m\u001b[0;34m(\u001b[0m\u001b[0mcg_list\u001b[0m\u001b[0;34m)\u001b[0m\u001b[0;34m,\u001b[0m \u001b[0mcg_orig\u001b[0m\u001b[0;34m,\u001b[0m \u001b[0mweight\u001b[0m\u001b[0;34m=\u001b[0m\u001b[0mmuk\u001b[0m\u001b[0;34m)\u001b[0m\u001b[0;34m\u001b[0m\u001b[0m\n\u001b[0;32m---> 42\u001b[0;31m             \u001b[0madd_cellgroups\u001b[0m\u001b[0;34m(\u001b[0m\u001b[0mgraph\u001b[0m\u001b[0;34m,\u001b[0m \u001b[0mcg_list\u001b[0m\u001b[0;34m,\u001b[0m \u001b[0mNcells\u001b[0m\u001b[0;34m,\u001b[0m \u001b[0mdepth\u001b[0m\u001b[0;34m+\u001b[0m\u001b[0;36m1\u001b[0m\u001b[0;34m)\u001b[0m\u001b[0;34m\u001b[0m\u001b[0m\n\u001b[0m\u001b[1;32m     43\u001b[0m             \u001b[0mcg_list\u001b[0m\u001b[0;34m.\u001b[0m\u001b[0minsert\u001b[0m\u001b[0;34m(\u001b[0m\u001b[0mind\u001b[0m\u001b[0;34m,\u001b[0m \u001b[0ma\u001b[0m\u001b[0;34m)\u001b[0m\u001b[0;34m\u001b[0m\u001b[0m\n\u001b[1;32m     44\u001b[0m     \u001b[0;32mreturn\u001b[0m\u001b[0;34m\u001b[0m\u001b[0m\n",
      "\u001b[0;32m~/code/NeuralTDA/neuraltda/stimulus_space.py\u001b[0m in \u001b[0;36madd_cellgroups\u001b[0;34m(graph, cg, Ncells, depth)\u001b[0m\n\u001b[1;32m     40\u001b[0m             \u001b[0ma\u001b[0m \u001b[0;34m=\u001b[0m \u001b[0mcg_list\u001b[0m\u001b[0;34m.\u001b[0m\u001b[0mpop\u001b[0m\u001b[0;34m(\u001b[0m\u001b[0mind\u001b[0m\u001b[0;34m)\u001b[0m\u001b[0;34m\u001b[0m\u001b[0m\n\u001b[1;32m     41\u001b[0m             \u001b[0mgraph\u001b[0m\u001b[0;34m.\u001b[0m\u001b[0madd_edge\u001b[0m\u001b[0;34m(\u001b[0m\u001b[0mtuple\u001b[0m\u001b[0;34m(\u001b[0m\u001b[0mcg_list\u001b[0m\u001b[0;34m)\u001b[0m\u001b[0;34m,\u001b[0m \u001b[0mcg_orig\u001b[0m\u001b[0;34m,\u001b[0m \u001b[0mweight\u001b[0m\u001b[0;34m=\u001b[0m\u001b[0mmuk\u001b[0m\u001b[0;34m)\u001b[0m\u001b[0;34m\u001b[0m\u001b[0m\n\u001b[0;32m---> 42\u001b[0;31m             \u001b[0madd_cellgroups\u001b[0m\u001b[0;34m(\u001b[0m\u001b[0mgraph\u001b[0m\u001b[0;34m,\u001b[0m \u001b[0mcg_list\u001b[0m\u001b[0;34m,\u001b[0m \u001b[0mNcells\u001b[0m\u001b[0;34m,\u001b[0m \u001b[0mdepth\u001b[0m\u001b[0;34m+\u001b[0m\u001b[0;36m1\u001b[0m\u001b[0;34m)\u001b[0m\u001b[0;34m\u001b[0m\u001b[0m\n\u001b[0m\u001b[1;32m     43\u001b[0m             \u001b[0mcg_list\u001b[0m\u001b[0;34m.\u001b[0m\u001b[0minsert\u001b[0m\u001b[0;34m(\u001b[0m\u001b[0mind\u001b[0m\u001b[0;34m,\u001b[0m \u001b[0ma\u001b[0m\u001b[0;34m)\u001b[0m\u001b[0;34m\u001b[0m\u001b[0m\n\u001b[1;32m     44\u001b[0m     \u001b[0;32mreturn\u001b[0m\u001b[0;34m\u001b[0m\u001b[0m\n",
      "\u001b[0;32m~/code/NeuralTDA/neuraltda/stimulus_space.py\u001b[0m in \u001b[0;36madd_cellgroups\u001b[0;34m(graph, cg, Ncells, depth)\u001b[0m\n\u001b[1;32m     40\u001b[0m             \u001b[0ma\u001b[0m \u001b[0;34m=\u001b[0m \u001b[0mcg_list\u001b[0m\u001b[0;34m.\u001b[0m\u001b[0mpop\u001b[0m\u001b[0;34m(\u001b[0m\u001b[0mind\u001b[0m\u001b[0;34m)\u001b[0m\u001b[0;34m\u001b[0m\u001b[0m\n\u001b[1;32m     41\u001b[0m             \u001b[0mgraph\u001b[0m\u001b[0;34m.\u001b[0m\u001b[0madd_edge\u001b[0m\u001b[0;34m(\u001b[0m\u001b[0mtuple\u001b[0m\u001b[0;34m(\u001b[0m\u001b[0mcg_list\u001b[0m\u001b[0;34m)\u001b[0m\u001b[0;34m,\u001b[0m \u001b[0mcg_orig\u001b[0m\u001b[0;34m,\u001b[0m \u001b[0mweight\u001b[0m\u001b[0;34m=\u001b[0m\u001b[0mmuk\u001b[0m\u001b[0;34m)\u001b[0m\u001b[0;34m\u001b[0m\u001b[0m\n\u001b[0;32m---> 42\u001b[0;31m             \u001b[0madd_cellgroups\u001b[0m\u001b[0;34m(\u001b[0m\u001b[0mgraph\u001b[0m\u001b[0;34m,\u001b[0m \u001b[0mcg_list\u001b[0m\u001b[0;34m,\u001b[0m \u001b[0mNcells\u001b[0m\u001b[0;34m,\u001b[0m \u001b[0mdepth\u001b[0m\u001b[0;34m+\u001b[0m\u001b[0;36m1\u001b[0m\u001b[0;34m)\u001b[0m\u001b[0;34m\u001b[0m\u001b[0m\n\u001b[0m\u001b[1;32m     43\u001b[0m             \u001b[0mcg_list\u001b[0m\u001b[0;34m.\u001b[0m\u001b[0minsert\u001b[0m\u001b[0;34m(\u001b[0m\u001b[0mind\u001b[0m\u001b[0;34m,\u001b[0m \u001b[0ma\u001b[0m\u001b[0;34m)\u001b[0m\u001b[0;34m\u001b[0m\u001b[0m\n\u001b[1;32m     44\u001b[0m     \u001b[0;32mreturn\u001b[0m\u001b[0;34m\u001b[0m\u001b[0m\n",
      "\u001b[0;32m~/code/NeuralTDA/neuraltda/stimulus_space.py\u001b[0m in \u001b[0;36madd_cellgroups\u001b[0;34m(graph, cg, Ncells, depth)\u001b[0m\n\u001b[1;32m     40\u001b[0m             \u001b[0ma\u001b[0m \u001b[0;34m=\u001b[0m \u001b[0mcg_list\u001b[0m\u001b[0;34m.\u001b[0m\u001b[0mpop\u001b[0m\u001b[0;34m(\u001b[0m\u001b[0mind\u001b[0m\u001b[0;34m)\u001b[0m\u001b[0;34m\u001b[0m\u001b[0m\n\u001b[1;32m     41\u001b[0m             \u001b[0mgraph\u001b[0m\u001b[0;34m.\u001b[0m\u001b[0madd_edge\u001b[0m\u001b[0;34m(\u001b[0m\u001b[0mtuple\u001b[0m\u001b[0;34m(\u001b[0m\u001b[0mcg_list\u001b[0m\u001b[0;34m)\u001b[0m\u001b[0;34m,\u001b[0m \u001b[0mcg_orig\u001b[0m\u001b[0;34m,\u001b[0m \u001b[0mweight\u001b[0m\u001b[0;34m=\u001b[0m\u001b[0mmuk\u001b[0m\u001b[0;34m)\u001b[0m\u001b[0;34m\u001b[0m\u001b[0m\n\u001b[0;32m---> 42\u001b[0;31m             \u001b[0madd_cellgroups\u001b[0m\u001b[0;34m(\u001b[0m\u001b[0mgraph\u001b[0m\u001b[0;34m,\u001b[0m \u001b[0mcg_list\u001b[0m\u001b[0;34m,\u001b[0m \u001b[0mNcells\u001b[0m\u001b[0;34m,\u001b[0m \u001b[0mdepth\u001b[0m\u001b[0;34m+\u001b[0m\u001b[0;36m1\u001b[0m\u001b[0;34m)\u001b[0m\u001b[0;34m\u001b[0m\u001b[0m\n\u001b[0m\u001b[1;32m     43\u001b[0m             \u001b[0mcg_list\u001b[0m\u001b[0;34m.\u001b[0m\u001b[0minsert\u001b[0m\u001b[0;34m(\u001b[0m\u001b[0mind\u001b[0m\u001b[0;34m,\u001b[0m \u001b[0ma\u001b[0m\u001b[0;34m)\u001b[0m\u001b[0;34m\u001b[0m\u001b[0m\n\u001b[1;32m     44\u001b[0m     \u001b[0;32mreturn\u001b[0m\u001b[0;34m\u001b[0m\u001b[0m\n",
      "\u001b[0;32m~/code/NeuralTDA/neuraltda/stimulus_space.py\u001b[0m in \u001b[0;36madd_cellgroups\u001b[0;34m(graph, cg, Ncells, depth)\u001b[0m\n\u001b[1;32m     40\u001b[0m             \u001b[0ma\u001b[0m \u001b[0;34m=\u001b[0m \u001b[0mcg_list\u001b[0m\u001b[0;34m.\u001b[0m\u001b[0mpop\u001b[0m\u001b[0;34m(\u001b[0m\u001b[0mind\u001b[0m\u001b[0;34m)\u001b[0m\u001b[0;34m\u001b[0m\u001b[0m\n\u001b[1;32m     41\u001b[0m             \u001b[0mgraph\u001b[0m\u001b[0;34m.\u001b[0m\u001b[0madd_edge\u001b[0m\u001b[0;34m(\u001b[0m\u001b[0mtuple\u001b[0m\u001b[0;34m(\u001b[0m\u001b[0mcg_list\u001b[0m\u001b[0;34m)\u001b[0m\u001b[0;34m,\u001b[0m \u001b[0mcg_orig\u001b[0m\u001b[0;34m,\u001b[0m \u001b[0mweight\u001b[0m\u001b[0;34m=\u001b[0m\u001b[0mmuk\u001b[0m\u001b[0;34m)\u001b[0m\u001b[0;34m\u001b[0m\u001b[0m\n\u001b[0;32m---> 42\u001b[0;31m             \u001b[0madd_cellgroups\u001b[0m\u001b[0;34m(\u001b[0m\u001b[0mgraph\u001b[0m\u001b[0;34m,\u001b[0m \u001b[0mcg_list\u001b[0m\u001b[0;34m,\u001b[0m \u001b[0mNcells\u001b[0m\u001b[0;34m,\u001b[0m \u001b[0mdepth\u001b[0m\u001b[0;34m+\u001b[0m\u001b[0;36m1\u001b[0m\u001b[0;34m)\u001b[0m\u001b[0;34m\u001b[0m\u001b[0m\n\u001b[0m\u001b[1;32m     43\u001b[0m             \u001b[0mcg_list\u001b[0m\u001b[0;34m.\u001b[0m\u001b[0minsert\u001b[0m\u001b[0;34m(\u001b[0m\u001b[0mind\u001b[0m\u001b[0;34m,\u001b[0m \u001b[0ma\u001b[0m\u001b[0;34m)\u001b[0m\u001b[0;34m\u001b[0m\u001b[0m\n\u001b[1;32m     44\u001b[0m     \u001b[0;32mreturn\u001b[0m\u001b[0;34m\u001b[0m\u001b[0m\n",
      "\u001b[0;32m~/code/NeuralTDA/neuraltda/stimulus_space.py\u001b[0m in \u001b[0;36madd_cellgroups\u001b[0;34m(graph, cg, Ncells, depth)\u001b[0m\n\u001b[1;32m     40\u001b[0m             \u001b[0ma\u001b[0m \u001b[0;34m=\u001b[0m \u001b[0mcg_list\u001b[0m\u001b[0;34m.\u001b[0m\u001b[0mpop\u001b[0m\u001b[0;34m(\u001b[0m\u001b[0mind\u001b[0m\u001b[0;34m)\u001b[0m\u001b[0;34m\u001b[0m\u001b[0m\n\u001b[1;32m     41\u001b[0m             \u001b[0mgraph\u001b[0m\u001b[0;34m.\u001b[0m\u001b[0madd_edge\u001b[0m\u001b[0;34m(\u001b[0m\u001b[0mtuple\u001b[0m\u001b[0;34m(\u001b[0m\u001b[0mcg_list\u001b[0m\u001b[0;34m)\u001b[0m\u001b[0;34m,\u001b[0m \u001b[0mcg_orig\u001b[0m\u001b[0;34m,\u001b[0m \u001b[0mweight\u001b[0m\u001b[0;34m=\u001b[0m\u001b[0mmuk\u001b[0m\u001b[0;34m)\u001b[0m\u001b[0;34m\u001b[0m\u001b[0m\n\u001b[0;32m---> 42\u001b[0;31m             \u001b[0madd_cellgroups\u001b[0m\u001b[0;34m(\u001b[0m\u001b[0mgraph\u001b[0m\u001b[0;34m,\u001b[0m \u001b[0mcg_list\u001b[0m\u001b[0;34m,\u001b[0m \u001b[0mNcells\u001b[0m\u001b[0;34m,\u001b[0m \u001b[0mdepth\u001b[0m\u001b[0;34m+\u001b[0m\u001b[0;36m1\u001b[0m\u001b[0;34m)\u001b[0m\u001b[0;34m\u001b[0m\u001b[0m\n\u001b[0m\u001b[1;32m     43\u001b[0m             \u001b[0mcg_list\u001b[0m\u001b[0;34m.\u001b[0m\u001b[0minsert\u001b[0m\u001b[0;34m(\u001b[0m\u001b[0mind\u001b[0m\u001b[0;34m,\u001b[0m \u001b[0ma\u001b[0m\u001b[0;34m)\u001b[0m\u001b[0;34m\u001b[0m\u001b[0m\n\u001b[1;32m     44\u001b[0m     \u001b[0;32mreturn\u001b[0m\u001b[0;34m\u001b[0m\u001b[0m\n",
      "\u001b[0;32m~/code/NeuralTDA/neuraltda/stimulus_space.py\u001b[0m in \u001b[0;36madd_cellgroups\u001b[0;34m(graph, cg, Ncells, depth)\u001b[0m\n\u001b[1;32m     40\u001b[0m             \u001b[0ma\u001b[0m \u001b[0;34m=\u001b[0m \u001b[0mcg_list\u001b[0m\u001b[0;34m.\u001b[0m\u001b[0mpop\u001b[0m\u001b[0;34m(\u001b[0m\u001b[0mind\u001b[0m\u001b[0;34m)\u001b[0m\u001b[0;34m\u001b[0m\u001b[0m\n\u001b[1;32m     41\u001b[0m             \u001b[0mgraph\u001b[0m\u001b[0;34m.\u001b[0m\u001b[0madd_edge\u001b[0m\u001b[0;34m(\u001b[0m\u001b[0mtuple\u001b[0m\u001b[0;34m(\u001b[0m\u001b[0mcg_list\u001b[0m\u001b[0;34m)\u001b[0m\u001b[0;34m,\u001b[0m \u001b[0mcg_orig\u001b[0m\u001b[0;34m,\u001b[0m \u001b[0mweight\u001b[0m\u001b[0;34m=\u001b[0m\u001b[0mmuk\u001b[0m\u001b[0;34m)\u001b[0m\u001b[0;34m\u001b[0m\u001b[0m\n\u001b[0;32m---> 42\u001b[0;31m             \u001b[0madd_cellgroups\u001b[0m\u001b[0;34m(\u001b[0m\u001b[0mgraph\u001b[0m\u001b[0;34m,\u001b[0m \u001b[0mcg_list\u001b[0m\u001b[0;34m,\u001b[0m \u001b[0mNcells\u001b[0m\u001b[0;34m,\u001b[0m \u001b[0mdepth\u001b[0m\u001b[0;34m+\u001b[0m\u001b[0;36m1\u001b[0m\u001b[0;34m)\u001b[0m\u001b[0;34m\u001b[0m\u001b[0m\n\u001b[0m\u001b[1;32m     43\u001b[0m             \u001b[0mcg_list\u001b[0m\u001b[0;34m.\u001b[0m\u001b[0minsert\u001b[0m\u001b[0;34m(\u001b[0m\u001b[0mind\u001b[0m\u001b[0;34m,\u001b[0m \u001b[0ma\u001b[0m\u001b[0;34m)\u001b[0m\u001b[0;34m\u001b[0m\u001b[0m\n\u001b[1;32m     44\u001b[0m     \u001b[0;32mreturn\u001b[0m\u001b[0;34m\u001b[0m\u001b[0m\n",
      "\u001b[0;32m~/code/NeuralTDA/neuraltda/stimulus_space.py\u001b[0m in \u001b[0;36madd_cellgroups\u001b[0;34m(graph, cg, Ncells, depth)\u001b[0m\n\u001b[1;32m     35\u001b[0m         \u001b[0;32mreturn\u001b[0m\u001b[0;34m\u001b[0m\u001b[0m\n\u001b[1;32m     36\u001b[0m     \u001b[0mk\u001b[0m \u001b[0;34m=\u001b[0m \u001b[0mlen\u001b[0m\u001b[0;34m(\u001b[0m\u001b[0mcg\u001b[0m\u001b[0;34m)\u001b[0m \u001b[0;34m-\u001b[0m \u001b[0;36m1\u001b[0m\u001b[0;34m\u001b[0m\u001b[0m\n\u001b[0;32m---> 37\u001b[0;31m     \u001b[0mmuk\u001b[0m \u001b[0;34m=\u001b[0m \u001b[0mmu_k\u001b[0m\u001b[0;34m(\u001b[0m\u001b[0mk\u001b[0m\u001b[0;34m,\u001b[0m \u001b[0mNcells\u001b[0m\u001b[0;34m)\u001b[0m\u001b[0;34m\u001b[0m\u001b[0m\n\u001b[0m\u001b[1;32m     38\u001b[0m     \u001b[0;32mif\u001b[0m \u001b[0;34m(\u001b[0m\u001b[0mlen\u001b[0m\u001b[0;34m(\u001b[0m\u001b[0mcg_list\u001b[0m\u001b[0;34m)\u001b[0m \u001b[0;34m>\u001b[0m \u001b[0;36m1\u001b[0m\u001b[0;34m)\u001b[0m\u001b[0;34m:\u001b[0m\u001b[0;34m\u001b[0m\u001b[0m\n\u001b[1;32m     39\u001b[0m         \u001b[0;32mfor\u001b[0m \u001b[0mind\u001b[0m \u001b[0;32min\u001b[0m \u001b[0mrange\u001b[0m\u001b[0;34m(\u001b[0m\u001b[0mlen\u001b[0m\u001b[0;34m(\u001b[0m\u001b[0mcg\u001b[0m\u001b[0;34m)\u001b[0m\u001b[0;34m)\u001b[0m\u001b[0;34m:\u001b[0m\u001b[0;34m\u001b[0m\u001b[0m\n",
      "\u001b[0;32m~/code/NeuralTDA/neuraltda/stimulus_space.py\u001b[0m in \u001b[0;36mmu_k\u001b[0;34m(k, Ncells)\u001b[0m\n\u001b[1;32m     26\u001b[0m         \u001b[0mTotal\u001b[0m \u001b[0mnumber\u001b[0m \u001b[0mof\u001b[0m \u001b[0mcells\u001b[0m \u001b[0;32min\u001b[0m \u001b[0mpopulation\u001b[0m\u001b[0;34m\u001b[0m\u001b[0m\n\u001b[1;32m     27\u001b[0m     '''\n\u001b[0;32m---> 28\u001b[0;31m     \u001b[0;32mreturn\u001b[0m \u001b[0;36m1\u001b[0m \u001b[0;34m-\u001b[0m \u001b[0mnp\u001b[0m\u001b[0;34m.\u001b[0m\u001b[0mpi\u001b[0m\u001b[0;34m*\u001b[0m\u001b[0mnp\u001b[0m\u001b[0;34m.\u001b[0m\u001b[0msqrt\u001b[0m\u001b[0;34m(\u001b[0m\u001b[0mfloat\u001b[0m\u001b[0;34m(\u001b[0m\u001b[0mk\u001b[0m\u001b[0;34m-\u001b[0m\u001b[0;36m1\u001b[0m\u001b[0;34m)\u001b[0m\u001b[0;34m/\u001b[0m\u001b[0mfloat\u001b[0m\u001b[0;34m(\u001b[0m\u001b[0mNcells\u001b[0m\u001b[0;34m)\u001b[0m\u001b[0;34m)\u001b[0m\u001b[0;34m\u001b[0m\u001b[0m\n\u001b[0m\u001b[1;32m     29\u001b[0m \u001b[0;34m\u001b[0m\u001b[0m\n\u001b[1;32m     30\u001b[0m \u001b[0;32mdef\u001b[0m \u001b[0madd_cellgroups\u001b[0m\u001b[0;34m(\u001b[0m\u001b[0mgraph\u001b[0m\u001b[0;34m,\u001b[0m \u001b[0mcg\u001b[0m\u001b[0;34m,\u001b[0m \u001b[0mNcells\u001b[0m\u001b[0;34m,\u001b[0m \u001b[0mdepth\u001b[0m\u001b[0;34m)\u001b[0m\u001b[0;34m:\u001b[0m\u001b[0;34m\u001b[0m\u001b[0m\n",
      "\u001b[0;31mKeyboardInterrupt\u001b[0m: "
     ]
    }
   ],
   "source": [
    "reload(sc)\n",
    "dmats = []\n",
    "graphs = []\n",
    "noise_pc = 0.005\n",
    "res = []\n",
    "\n",
    "# Average over all trials\n",
    "poptens = np.mean(poptens, axis=2)[:, :, np.newaxis]\n",
    "\n",
    "\n",
    "ncells = 2*poptens.shape[0]\n",
    "ntrials = poptens.shape[2]\n",
    "print(ntrials)\n",
    "for trial in range(ntrials):\n",
    "    popmat = poptens[:, :, trial]\n",
    "    au = sc.binnedtobinary(popmat, thresh)\n",
    "    maxsimps = sc.binarytomaxsimplex(au, rDup=False)\n",
    "    print('computing graph...')\n",
    "    print(len(maxsimps))\n",
    "    g = sc.stimspacegraph_nx(maxsimps, ncells)\n",
    "    graphs.append((g, maxsimps, au))\n",
    "    print(nx.info(g))\n",
    "#     print('computing distances...')\n",
    "#     dmat = nx.floyd_warshall_numpy(g)\n",
    "#     noise_amps = noise_pc*dmat\n",
    "#     noise = np.multiply(noise_amps, np.random.randn(dmat.shape[0], dmat.shape[1])) \n",
    "#     noise = (noise + noise.T)/2 \n",
    "#     dmat += noise\n",
    "#     dmats.append(dmat)\n",
    "#     #Adjust inf dists\n",
    "#     #dmat[np.isnan(dmat)] = d_max\n",
    "#     print('computing mds...')\n",
    "#     gmds = MDS(n_jobs=-2, dissimilarity='precomputed', metric=True)\n",
    "#     embed_pts = gmds.fit_transform(dmat)\n",
    "#     plt.figure()\n",
    "#     plt.style.use('/home/brad/code/NeuralTDA/gentnerlab.mplstyle')\n",
    "#     fig = plt.figure(figsize=(7,7))\n",
    "#     plt.plot(embed_pts[:, 0], embed_pts[:, 1], 'b.')\n",
    "#     plt.show()"
   ]
  },
  {
   "cell_type": "code",
   "execution_count": 213,
   "metadata": {},
   "outputs": [
    {
     "name": "stdout",
     "output_type": "stream",
     "text": [
      "preparing data...\n"
     ]
    }
   ],
   "source": [
    "g = graphs[trial][0]\n",
    "maxsimps = graphs[trial][1]\n",
    "binmat = graphs[trial][2]\n",
    "\n",
    "(embed_pts, dmat, sorted_node_list) = sc.mds_embed(g)\n",
    "print(\"preparing data...\")\n",
    "(x, y) = sc.prepare_affine_data(binmat, stim, embed_pts, sorted_node_list)\n",
    "L = lambda a: sc.affine_loss(a, x, y, stim.shape[0], 2)\n",
    "L_jac = lambda a: sc.affine_loss_jac(a, x, y, stim.shape[0], 2)"
   ]
  },
  {
   "cell_type": "code",
   "execution_count": 214,
   "metadata": {
    "scrolled": false
   },
   "outputs": [
    {
     "name": "stdout",
     "output_type": "stream",
     "text": [
      "      fun: 10761.182280398814\n",
      " hess_inv: array([[ 9.73214776e-01, -8.70004473e-03, -1.06888835e-02, ...,\n",
      "         1.41392898e-02,  2.35206141e-02,  8.21239107e-03],\n",
      "       [-8.70004473e-03,  9.94342333e-01, -9.72029507e-05, ...,\n",
      "        -3.20571587e-03, -4.52748520e-03,  3.89253931e-03],\n",
      "       [-1.06888835e-02, -9.72029507e-05,  9.87205006e-01, ...,\n",
      "         1.52777946e-02,  2.91723400e-02,  4.94802544e-03],\n",
      "       ...,\n",
      "       [ 1.41392898e-02, -3.20571587e-03,  1.52777946e-02, ...,\n",
      "         9.71035392e-01, -4.63233281e-02, -1.19923618e-03],\n",
      "       [ 2.35206141e-02, -4.52748520e-03,  2.91723400e-02, ...,\n",
      "        -4.63233281e-02,  9.20868668e-01, -5.61936350e-03],\n",
      "       [ 8.21239107e-03,  3.89253931e-03,  4.94802544e-03, ...,\n",
      "        -1.19923618e-03, -5.61936350e-03,  9.94777871e-01]])\n",
      "      jac: array([-3.16107357e-07,  9.10740408e-07, -1.61992175e-06,  5.57310540e-06,\n",
      "       -2.20100119e-07,  8.94225890e-07,  2.12435818e-06, -5.49460055e-06,\n",
      "        1.06235127e-07,  1.42867961e-06, -8.52500737e-09,  1.44478705e-07,\n",
      "       -1.08402898e-06,  4.64974774e-06, -1.21350818e-06, -5.87665134e-07,\n",
      "       -1.29786662e-06,  3.85596275e-06,  7.89720801e-07, -4.53552925e-07,\n",
      "        2.83202581e-07, -8.89448181e-07, -3.00906105e-07,  1.70598111e-06,\n",
      "        2.50115928e-07, -5.15696534e-07, -1.52384252e-06,  1.93720550e-06,\n",
      "        6.13409135e-07, -2.83910033e-07,  1.03559123e-06, -1.95586418e-06,\n",
      "        2.68732002e-07, -4.07999357e-07,  8.51916003e-07, -6.37798705e-06,\n",
      "       -1.46634764e-06,  3.49631427e-06, -1.31091354e-06,  5.18139441e-06,\n",
      "        2.98708706e-07, -1.00683211e-06,  1.51936845e-07,  4.45858991e-07,\n",
      "        1.28286591e-06, -2.88142301e-06,  1.29576655e-07,  3.13801220e-07,\n",
      "        5.78986086e-07, -1.94665585e-07,  2.87364003e-07, -5.49135414e-07,\n",
      "        1.75809021e-07,  8.51006710e-07, -2.35669688e-08, -7.73720096e-07,\n",
      "       -6.87048630e-07,  2.09304329e-06,  5.98809226e-07, -2.07115402e-06,\n",
      "        1.61153311e-06, -2.71620778e-06,  1.36769906e-07, -5.93190227e-07,\n",
      "       -5.36539829e-07,  1.57448577e-06,  1.03510235e-07, -4.61788986e-07,\n",
      "       -1.42363152e-06,  2.86776891e-06,  7.18295887e-07, -1.97733336e-06,\n",
      "        7.58707142e-07, -2.71310894e-06, -6.15206719e-07,  1.65300525e-06,\n",
      "        6.45826006e-08, -1.96756019e-07, -8.78480861e-07,  2.45852283e-06,\n",
      "       -3.21045221e-07, -1.45418001e-06, -1.76451380e-07,  1.57745563e-06,\n",
      "       -1.54846447e-07, -2.65826650e-08, -9.06326367e-07, -4.37109041e-07,\n",
      "       -9.50226028e-07,  4.82037386e-07,  2.22667609e-07, -2.92885112e-07,\n",
      "        1.24235314e-07, -7.77935618e-07,  3.15331526e-07,  5.79537314e-07,\n",
      "        1.64532167e-07,  1.16224444e-06, -1.04673385e-06, -1.10089050e-06,\n",
      "        2.22104916e-07, -4.57191973e-08,  8.96399783e-07,  4.37819381e-08,\n",
      "        2.15806693e-07,  2.17229285e-07, -4.06271567e-08,  6.47844516e-08,\n",
      "       -6.06430689e-07,  4.95411690e-07,  9.46256847e-07,  1.37009465e-07,\n",
      "       -3.82371091e-07,  8.85310598e-08, -9.30667603e-07,  5.19763418e-07,\n",
      "        6.16069343e-07, -4.24227309e-07,  9.37319555e-09, -6.40824211e-07])\n",
      "  message: 'Optimization terminated successfully.'\n",
      "     nfev: 10\n",
      "      nit: 5\n",
      "     njev: 10\n",
      "   status: 0\n",
      "  success: True\n",
      "        x: array([-0.04519894,  0.15273817, -0.04024226,  0.17021928, -0.07223248,\n",
      "        0.17969223, -0.08685317,  0.17216775, -0.05914437,  0.20829466,\n",
      "        0.04360357, -0.02389745,  0.03977746, -0.01368181,  0.02340243,\n",
      "       -0.01627511,  0.00909846,  0.00043566,  0.0251956 ,  0.03632809,\n",
      "        0.02028448,  0.02382808,  0.03056921,  0.04419242,  0.01671651,\n",
      "        0.04193124, -0.0036546 ,  0.0545189 ,  0.02511098,  0.08191507,\n",
      "        0.05577238, -0.06514898,  0.0474688 , -0.04965016,  0.03711829,\n",
      "       -0.03955755,  0.02616105, -0.03918641,  0.01901449, -0.01881688,\n",
      "        0.04252478, -0.04492684,  0.03000033, -0.03031521,  0.03518365,\n",
      "       -0.02849227,  0.0345617 , -0.01483617,  0.0381424 ,  0.00107085,\n",
      "        0.0121869 ,  0.06056025,  0.00769193,  0.07569735,  0.01125402,\n",
      "        0.08359379, -0.01077095,  0.08014375,  0.0003936 ,  0.09612095,\n",
      "       -0.02355994,  0.11114249, -0.0293866 ,  0.12448566, -0.01305253,\n",
      "        0.14803486, -0.03001214,  0.13645152, -0.02854266,  0.14359322,\n",
      "       -0.0770587 ,  0.17889962, -0.08301987,  0.20710794, -0.07936249,\n",
      "        0.20286614, -0.08371331,  0.21757327, -0.08478145,  0.20869818,\n",
      "        0.10365707,  0.11847281,  0.1356897 ,  0.1235234 ,  0.13573667,\n",
      "        0.01655411,  0.05138946,  0.07288475,  0.0506016 ,  0.05569673,\n",
      "        0.0498528 ,  0.06579784,  0.06983069,  0.06559805,  0.0542108 ,\n",
      "       -0.05608979, -0.04594429, -0.04227361, -0.04229082, -0.02698637,\n",
      "       -0.04156007, -0.01845406, -0.02093858, -0.03317124, -0.02755957,\n",
      "        0.01074677,  0.02940862,  0.02459746,  0.01699464,  0.01752608,\n",
      "        0.04596615,  0.06514428,  0.05733453,  0.04721851,  0.05303422,\n",
      "        0.13061674,  0.13586026,  0.12296614,  0.12959659,  0.13107177])\n"
     ]
    }
   ],
   "source": [
    "from scipy.optimize import fmin, minimize\n",
    "#print(fmin(L, np.random.randn(stim.shape[0]*2+stim.shape[0]), maxfun=1e6, full_output=True))\n",
    "\n",
    "minout = minimize(L, np.random.randn(stim.shape[0]*2+stim.shape[0]), method='BFGS', jac= L_jac)\n",
    "# map all the MDS points to original space\n",
    "# A = np.array([[a_min[0], a_min[1]], [a_min[2], a_min[3]]])\n",
    "# b = np.array([a_min[4], a_min[5]])\n",
    "# y_embed = np.dot(A, embed_pts.T) + np.tile(b[:, np.newaxis], (1, np.shape(embed_pts)[0]))\n",
    "\n",
    "# fig0 = plt.figure(figsize=(9,9))\n",
    "# plt.plot(embed_pts[:, 0], embed_pts[:, 1], '.')\n",
    "\n",
    "# fig = plt.figure(figsize=(9,9))\n",
    "# plot_environment(envs[env_num], fields, sigma)\n",
    "# plt.plot(y_embed[0, :], y_embed[1, :], '.')\n",
    "print(minout)"
   ]
  },
  {
   "cell_type": "code",
   "execution_count": 215,
   "metadata": {
    "scrolled": false
   },
   "outputs": [
    {
     "data": {
      "image/png": "[encoded data removed]",
      "text/plain": [
       "<matplotlib.figure.Figure at 0x7f0fcc697198>"
      ]
     },
     "metadata": {},
     "output_type": "display_data"
    },
    {
     "data": {
      "image/png": "[encoded data removed]",
      "text/plain": [
       "<matplotlib.figure.Figure at 0x7f0fe0b898d0>"
      ]
     },
     "metadata": {},
     "output_type": "display_data"
    },
    {
     "data": {
      "image/png": "[encoded data removed]",
      "text/plain": [
       "<matplotlib.figure.Figure at 0x7f0fcb38ccf8>"
      ]
     },
     "metadata": {},
     "output_type": "display_data"
    },
    {
     "data": {
      "image/png": "[encoded data removed]",
      "text/plain": [
       "<matplotlib.figure.Figure at 0x7f0fe57826d8>"
      ]
     },
     "metadata": {},
     "output_type": "display_data"
    },
    {
     "data": {
      "image/png": "[encoded data removed]",
      "text/plain": [
       "<matplotlib.figure.Figure at 0x7f0fcb37e0b8>"
      ]
     },
     "metadata": {},
     "output_type": "display_data"
    },
    {
     "data": {
      "image/png": "[encoded data removed]",
      "text/plain": [
       "<matplotlib.figure.Figure at 0x7f0fe39df9b0>"
      ]
     },
     "metadata": {},
     "output_type": "display_data"
    },
    {
     "data": {
      "image/png": "[encoded data removed]",
      "text/plain": [
       "<matplotlib.figure.Figure at 0x7f0fcb495358>"
      ]
     },
     "metadata": {},
     "output_type": "display_data"
    },
    {
     "data": {
      "image/png": "[encoded data removed]",
      "text/plain": [
       "<matplotlib.figure.Figure at 0x7f0fd232b630>"
      ]
     },
     "metadata": {},
     "output_type": "display_data"
    },
    {
     "data": {
      "image/png": "[encoded data removed]",
      "text/plain": [
       "<matplotlib.figure.Figure at 0x7f0fd24c1ba8>"
      ]
     },
     "metadata": {},
     "output_type": "display_data"
    },
    {
     "data": {
      "image/png": "[encoded data removed]",
      "text/plain": [
       "<matplotlib.figure.Figure at 0x7f0fd2258978>"
      ]
     },
     "metadata": {},
     "output_type": "display_data"
    }
   ],
   "source": [
    "affine = minout['x']\n",
    "\n",
    "reconstructed = sc.affine_transform(affine, x, stim.shape[0], 2)\n",
    "\n",
    "nexamples = 10\n",
    "exemplar_inds = np.random.choice(reconstructed.shape[1], size=nexamples)\n",
    "\n",
    "r_exemplars = reconstructed[:, exemplar_inds]\n",
    "true_exemplars = stim[:, exemplar_inds]\n",
    "\n",
    "for ex in range(nexamples):\n",
    "    r = np.reshape(r_exemplars[:, ex], (int(stim.shape[0]/nt_win), nt_win))\n",
    "    t = np.reshape(true_exemplars[:, ex], (int(stim.shape[0]/nt_win), nt_win))\n",
    "    fig = plt.figure()\n",
    "    fig.add_subplot(121)\n",
    "    ax = plt.gca()\n",
    "    plt.imshow(r)\n",
    "    fig.add_subplot(122)\n",
    "    plt.imshow(t)"
   ]
  },
  {
   "cell_type": "code",
   "execution_count": 186,
   "metadata": {},
   "outputs": [
    {
     "data": {
      "text/plain": [
       "40"
      ]
     },
     "execution_count": 186,
     "metadata": {},
     "output_type": "execute_result"
    }
   ],
   "source": [
    "stim.shape[0]"
   ]
  },
  {
   "cell_type": "code",
   "execution_count": 103,
   "metadata": {},
   "outputs": [],
   "source": [
    "reload(sc)\n",
    "testL = lambda a: sc.affine_loss(a, testx, testy, 2, 2)\n",
    "testL_jac = lambda a: sc.affine_loss_jac(a, testx, testy, 2,2)"
   ]
  },
  {
   "cell_type": "code",
   "execution_count": 105,
   "metadata": {},
   "outputs": [
    {
     "data": {
      "text/plain": [
       "      fun: 9.226203141631617e-21\n",
       " hess_inv: array([[ 0.82849541, -0.0627481 ,  0.09992566,  0.30970062, -0.16155164,\n",
       "        -0.03162954],\n",
       "       [-0.0627481 ,  0.66982943,  0.30970071,  0.02226262, -0.00350908,\n",
       "         0.33364659],\n",
       "       [ 0.09992566,  0.30970071,  0.19442092,  0.06867503, -0.03162966,\n",
       "         0.1668272 ],\n",
       "       [ 0.30970062,  0.02226262,  0.06867503,  0.35770708,  0.3336465 ,\n",
       "         0.00765001],\n",
       "       [-0.16155164, -0.00350908, -0.03162966,  0.3336465 ,  0.82621517,\n",
       "        -0.02338488],\n",
       "       [-0.03162954,  0.33364659,  0.1668272 ,  0.00765001, -0.02338488,\n",
       "         0.19529593]])\n",
       "      jac: array([ 4.16941585e-10,  2.57550194e-10, -9.22448920e-11, -4.62042823e-10,\n",
       "       -2.79593904e-10,  6.03380540e-10])\n",
       "  message: 'Optimization terminated successfully.'\n",
       "     nfev: 8\n",
       "      nit: 6\n",
       "     njev: 8\n",
       "   status: 0\n",
       "  success: True\n",
       "        x: array([ 2.00000000e+00,  3.00000000e+00, -6.00000000e+00,  1.00000000e+00,\n",
       "       -2.74824608e-12,  1.05791487e-11])"
      ]
     },
     "execution_count": 105,
     "metadata": {},
     "output_type": "execute_result"
    }
   ],
   "source": [
    "minimize(testL, [1,0,0,1,0,0], method='BFGS', jac=testL_jac)"
   ]
  },
  {
   "cell_type": "code",
   "execution_count": 104,
   "metadata": {},
   "outputs": [
    {
     "data": {
      "text/plain": [
       "array([ -21.66882108, -108.21500405,  289.5710207 ,  -53.18603141,\n",
       "         26.14655289,  -60.77875526])"
      ]
     },
     "execution_count": 104,
     "metadata": {},
     "output_type": "execute_result"
    }
   ],
   "source": [
    "testL_jac([1,0,0,1,0,0])"
   ]
  },
  {
   "cell_type": "code",
   "execution_count": 108,
   "metadata": {},
   "outputs": [
    {
     "data": {
      "text/plain": [
       "(50, 600)"
      ]
     },
     "execution_count": 108,
     "metadata": {},
     "output_type": "execute_result"
    }
   ],
   "source": [
    "stim.shape"
   ]
  },
  {
   "cell_type": "code",
   "execution_count": null,
   "metadata": {},
   "outputs": [],
   "source": []
  }
 ],
 "metadata": {
  "kernelspec": {
   "display_name": "Python 3",
   "language": "python",
   "name": "python3"
  },
  "language_info": {
   "codemirror_mode": {
    "name": "ipython",
    "version": 3
   },
   "file_extension": ".py",
   "mimetype": "text/x-python",
   "name": "python",
   "nbconvert_exporter": "python",
   "pygments_lexer": "ipython3",
   "version": "3.6.2"
  }
 },
 "nbformat": 4,
 "nbformat_minor": 2
}
