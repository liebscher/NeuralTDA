{
 "cells": [
  {
   "cell_type": "code",
   "execution_count": 1,
   "metadata": {},
   "outputs": [
    {
     "name": "stderr",
     "output_type": "stream",
     "text": [
      "/home/brad/.conda/envs/neuraltda-4/lib/python3.6/site-packages/h5py/__init__.py:36: FutureWarning: Conversion of the second argument of issubdtype from `float` to `np.floating` is deprecated. In future, it will be treated as `np.float64 == np.dtype(float).type`.\n",
      "  from ._conv import register_converters as _register_converters\n"
     ]
    },
    {
     "name": "stdout",
     "output_type": "stream",
     "text": [
      "/home/brad/DailyLog/20180416/\n"
     ]
    }
   ],
   "source": [
    "import numpy as np\n",
    "import scipy as sp\n",
    "from importlib import reload\n",
    "import neuraltda.topology2 as tp2\n",
    "import neuraltda.plotting as tpplt\n",
    "import neuraltda.spikeutils as su\n",
    "import glob\n",
    "import os\n",
    "import matplotlib.pyplot as plt\n",
    "%matplotlib inline\n",
    "import datetime\n",
    "import neuraltda.stimulus_space as sc\n",
    "import neuraltda.spectralAnalysis as sa\n",
    "import pandas as pd\n",
    "import h5py as h5\n",
    "import pickle\n",
    "import networkx as nx\n",
    "from sklearn.manifold import MDS\n",
    "\n",
    "# Setup figure save path\n",
    "daystr = datetime.datetime.now().strftime('%Y%m%d')\n",
    "figsavepth = '/home/brad/DailyLog/'+daystr+'/'\n",
    "print(figsavepth)"
   ]
  },
  {
   "cell_type": "code",
   "execution_count": 2,
   "metadata": {},
   "outputs": [],
   "source": [
    "# Set up birds and block_paths\n",
    "birds = ['B1083', 'B1056', 'B1235', 'B1075']\n",
    "bps = {'B1083': '/home/brad/krista/B1083/P03S03/', 'B1075': '/home/brad/krista/B1075/P01S03/',\n",
    "       'B1235': '/home/brad/krista/B1235/P02S01/', 'B1056': '/home/brad/krista/B1056/klusta/phy020516/Pen01_Lft_AP100_ML1300__Site03_Z2500__B1056_cat_P01_S03_1/',\n",
    "       'B1056': '/home/brad/krista/B1056/klusta/phy020516/Pen01_Lft_AP100_ML1300__Site03_Z2500__B1056_cat_P01_S03_1/'}\n",
    "\n",
    "# Binning Parameters\n",
    "windt = 10.0                      # milliseconds\n",
    "dtovr = 0.5*windt                 # milliseconds\n",
    "dtovr = 0\n",
    "segment_info = [0, 0]             # use full Trial\n",
    "cluster_group = ['Good']          # use just good clusters\n",
    "comment = 'StimSpace2'             # BootStrap Populations\n",
    "bdfs = {}                         # Dictionary to store bdf\n",
    "\n",
    "# computation parameters\n",
    "thresh = 4.0"
   ]
  },
  {
   "cell_type": "code",
   "execution_count": 3,
   "metadata": {},
   "outputs": [
    {
     "name": "stdout",
     "output_type": "stream",
     "text": [
      "Data Not already binned\n",
      "Nreps = 20\n",
      "skip = 200\n",
      "dur = 120000.0\n",
      "nwins = 600\n",
      "Nreps = 20\n",
      "skip = 200\n",
      "dur = 120000.0\n",
      "nwins = 600\n",
      "Nreps = 20\n",
      "skip = 200\n",
      "dur = 120000.0\n",
      "nwins = 600\n",
      "Nreps = 20\n",
      "skip = 200\n",
      "dur = 120000.0\n",
      "nwins = 600\n",
      "Nreps = 20\n",
      "skip = 200\n",
      "dur = 120000.0\n",
      "nwins = 600\n",
      "Nreps = 20\n",
      "skip = 200\n",
      "dur = 120000.0\n",
      "nwins = 600\n",
      "Nreps = 20\n",
      "skip = 200\n",
      "dur = 120000.0\n",
      "nwins = 600\n",
      "Nreps = 20\n",
      "skip = 200\n",
      "dur = 120000.0\n",
      "nwins = 600\n",
      "/home/brad/krista/B1083/P03S03/binned_data/win-10.0_dtovr-0_seg-0-0-StimSpace2/20180411T165022Z-10.0-0.binned\n",
      "Data Not already binned\n",
      "Nreps = 20\n",
      "skip = 312\n",
      "dur = 206722.0\n",
      "nwins = 663\n",
      "Nreps = 20\n",
      "skip = 312\n",
      "dur = 206723.0\n",
      "nwins = 663\n",
      "Nreps = 20\n",
      "skip = 312\n",
      "dur = 206719.0\n",
      "nwins = 663\n",
      "Nreps = 20\n",
      "skip = 312\n",
      "dur = 206719.0\n",
      "nwins = 663\n",
      "Nreps = 20\n",
      "skip = 312\n",
      "dur = 206722.0\n",
      "nwins = 663\n",
      "Nreps = 20\n",
      "skip = 312\n",
      "dur = 206719.0\n",
      "nwins = 663\n",
      "Nreps = 20\n",
      "skip = 312\n",
      "dur = 206718.0\n",
      "nwins = 663\n",
      "Nreps = 20\n",
      "skip = 312\n",
      "dur = 206719.0\n",
      "nwins = 663\n",
      "Nreps = 20\n",
      "skip = 312\n",
      "dur = 206719.0\n",
      "nwins = 663\n",
      "Nreps = 20\n",
      "skip = 312\n",
      "dur = 206722.0\n",
      "nwins = 663\n",
      "Nreps = 20\n",
      "skip = 312\n",
      "dur = 206719.0\n",
      "nwins = 663\n",
      "Nreps = 20\n",
      "skip = 312\n",
      "dur = 206718.0\n",
      "nwins = 663\n",
      "Nreps = 20\n",
      "skip = 312\n",
      "dur = 206719.0\n",
      "nwins = 663\n",
      "Nreps = 20\n",
      "skip = 312\n",
      "dur = 206719.0\n",
      "nwins = 663\n",
      "Nreps = 20\n",
      "skip = 312\n",
      "dur = 206723.0\n",
      "nwins = 663\n",
      "Nreps = 20\n",
      "skip = 312\n",
      "dur = 206718.0\n",
      "nwins = 663\n",
      "/home/brad/krista/B1056/klusta/phy020516/Pen01_Lft_AP100_ML1300__Site03_Z2500__B1056_cat_P01_S03_1/binned_data/win-10.0_dtovr-0_seg-0-0-StimSpace2/20180411T165033Z-10.0-0.binned\n",
      "Data Not already binned\n",
      "Nreps = 20\n",
      "skip = 312\n",
      "dur = 206723.0\n",
      "nwins = 663\n",
      "Nreps = 20\n",
      "skip = 312\n",
      "dur = 206719.0\n",
      "nwins = 663\n",
      "Nreps = 20\n",
      "skip = 312\n",
      "dur = 206719.0\n",
      "nwins = 663\n",
      "Nreps = 20\n",
      "skip = 312\n",
      "dur = 206718.0\n",
      "nwins = 663\n",
      "Nreps = 20\n",
      "skip = 312\n",
      "dur = 206719.0\n",
      "nwins = 663\n",
      "Nreps = 20\n",
      "skip = 312\n",
      "dur = 206719.0\n",
      "nwins = 663\n",
      "Nreps = 20\n",
      "skip = 312\n",
      "dur = 206722.0\n",
      "nwins = 663\n",
      "Nreps = 20\n",
      "skip = 312\n",
      "dur = 206723.0\n",
      "nwins = 663\n",
      "Nreps = 20\n",
      "skip = 312\n",
      "dur = 206719.0\n",
      "nwins = 663\n",
      "Nreps = 20\n",
      "skip = 312\n",
      "dur = 206722.0\n",
      "nwins = 663\n",
      "Nreps = 20\n",
      "skip = 312\n",
      "dur = 206719.0\n",
      "nwins = 663\n",
      "Nreps = 20\n",
      "skip = 312\n",
      "dur = 206719.0\n",
      "nwins = 663\n",
      "Nreps = 20\n",
      "skip = 312\n",
      "dur = 206719.0\n",
      "nwins = 663\n",
      "Nreps = 20\n",
      "skip = 312\n",
      "dur = 206722.0\n",
      "nwins = 663\n",
      "Nreps = 20\n",
      "skip = 312\n",
      "dur = 206719.0\n",
      "nwins = 663\n",
      "Nreps = 20\n",
      "skip = 312\n",
      "dur = 206719.0\n",
      "nwins = 663\n",
      "/home/brad/krista/B1235/P02S01/binned_data/win-10.0_dtovr-0_seg-0-0-StimSpace2/20180411T165048Z-10.0-0.binned\n",
      "Data Not already binned\n",
      "Nreps = 20\n",
      "skip = 200\n",
      "dur = 120000.0\n",
      "nwins = 600\n",
      "Nreps = 20\n",
      "skip = 200\n",
      "dur = 120002.0\n",
      "nwins = 600\n",
      "Nreps = 20\n",
      "skip = 200\n",
      "dur = 120000.0\n",
      "nwins = 600\n",
      "Nreps = 20\n",
      "skip = 200\n",
      "dur = 120000.0\n",
      "nwins = 600\n",
      "Nreps = 20\n",
      "skip = 200\n",
      "dur = 120003.0\n",
      "nwins = 600\n",
      "Nreps = 20\n",
      "skip = 200\n",
      "dur = 120000.0\n",
      "nwins = 600\n",
      "Nreps = 20\n",
      "skip = 200\n",
      "dur = 120003.0\n",
      "nwins = 600\n",
      "Nreps = 20\n",
      "skip = 200\n",
      "dur = 120000.0\n",
      "nwins = 600\n",
      "Nreps = 20\n",
      "skip = 200\n",
      "dur = 120000.0\n",
      "nwins = 600\n",
      "Nreps = 20\n",
      "skip = 200\n",
      "dur = 120000.0\n",
      "nwins = 600\n",
      "Nreps = 20\n",
      "skip = 200\n",
      "dur = 120000.0\n",
      "nwins = 600\n",
      "Nreps = 20\n",
      "skip = 200\n",
      "dur = 120000.0\n",
      "nwins = 600\n",
      "Nreps = 20\n",
      "skip = 200\n",
      "dur = 120002.0\n",
      "nwins = 600\n",
      "Nreps = 20\n",
      "skip = 200\n",
      "dur = 120000.0\n",
      "nwins = 600\n",
      "Nreps = 20\n",
      "skip = 200\n",
      "dur = 120000.0\n",
      "nwins = 600\n",
      "Nreps = 20\n",
      "skip = 200\n",
      "dur = 120002.0\n",
      "nwins = 600\n",
      "/home/brad/krista/B1075/P01S03/binned_data/win-10.0_dtovr-0_seg-0-0-StimSpace2/20180411T165058Z-10.0-0.binned\n"
     ]
    }
   ],
   "source": [
    "# Loop through each bird in our list and bin the data\n",
    "for bird in birds:\n",
    "    block_path = bps[bird]\n",
    "    bfdict = tp2.dag_bin(block_path, windt, segment_info, cluster_group=cluster_group, dt_overlap=dtovr, comment=comment)\n",
    "    bdf = glob.glob(os.path.join(bfdict['raw'], '*.binned'))[0]\n",
    "    print(bdf)\n",
    "    bdfs[bird] = bdf"
   ]
  },
  {
   "cell_type": "code",
   "execution_count": 46,
   "metadata": {},
   "outputs": [
    {
     "name": "stdout",
     "output_type": "stream",
     "text": [
      "['A_scaled_burung', 'B_scaled_burung', 'C_scaled_burung', 'D_scaled_burung', 'E_scaled_burung', 'F_scaled_burung', 'G_scaled_burung', 'H_scaled_burung', 'I_scaled_burung', 'J_scaled_burung', 'K_scaled_burung', 'L_scaled_burung', 'M_scaled_burung', 'N_scaled_burung', 'O_scaled_burung', 'P_scaled_burung']\n"
     ]
    }
   ],
   "source": [
    "# select bird\n",
    "bird = 'B1056'\n",
    "stim = 'I_scaled_burung'\n",
    "trial = 0\n",
    "block_path = bps[bird]\n",
    "bdf = bdfs[bird]\n",
    "with h5.File(bdf, 'r') as f:\n",
    "    print(list(f.keys()))\n",
    "    poptens = np.array(f[stim]['pop_tens'])\n",
    "    ncells = 2*poptens.shape[0]\n",
    "    ntrials = poptens.shape[2]\n",
    "    popmat = poptens[:, :, trial]\n",
    "\n"
   ]
  },
  {
   "cell_type": "code",
   "execution_count": 53,
   "metadata": {},
   "outputs": [
    {
     "name": "stdout",
     "output_type": "stream",
     "text": [
      "(54, 663)\n"
     ]
    },
    {
     "data": {
      "text/plain": [
       "(600,)"
      ]
     },
     "execution_count": 53,
     "metadata": {},
     "output_type": "execute_result"
    }
   ],
   "source": [
    "print(popmat.shape )\n",
    "t = np.arange(0, 6, 0.01)\n",
    "t.shape"
   ]
  },
  {
   "cell_type": "code",
   "execution_count": null,
   "metadata": {},
   "outputs": [],
   "source": [
    "au = sc.binnedtobinary(popmat, thresh)\n",
    "maxsimps = sc.binarytomaxsimplex(au, rDup=True)\n"
   ]
  },
  {
   "cell_type": "code",
   "execution_count": null,
   "metadata": {},
   "outputs": [],
   "source": [
    "g = sc.stimspacegraph_nx(maxsimps, ncells)\n",
    "nx.info(g)"
   ]
  },
  {
   "cell_type": "code",
   "execution_count": null,
   "metadata": {},
   "outputs": [],
   "source": [
    "dmat = nx.floyd_warshall_numpy(g)"
   ]
  },
  {
   "cell_type": "code",
   "execution_count": null,
   "metadata": {},
   "outputs": [],
   "source": [
    "gmds = MDS(n_jobs=-2, dissimilarity='precomputed')\n",
    "embed_pts = gmds.fit_transform(dmat)"
   ]
  },
  {
   "cell_type": "code",
   "execution_count": null,
   "metadata": {},
   "outputs": [],
   "source": [
    "plt.style.use('/home/brad/code/NeuralTDA/gentnerlab.mplstyle')\n",
    "fig = plt.figure(figsize=(7,7))\n",
    "plt.plot(embed_pts[:, 0], embed_pts[:, 1], 'b.')"
   ]
  },
  {
   "cell_type": "code",
   "execution_count": null,
   "metadata": {
    "scrolled": false
   },
   "outputs": [],
   "source": [
    "# select bird\n",
    "bird = 'B1056'\n",
    "stim = 'I_scaled_burung'\n",
    "trial = 1\n",
    "block_path = bps[bird]\n",
    "bdf = bdfs[bird]\n",
    "d_max = 30\n",
    "dmats = []\n",
    "graphs = []\n",
    "noise_pc = 0.005\n",
    "with h5.File(bdf, 'r') as f:\n",
    "    print(list(f.keys()))\n",
    "    poptens = np.array(f[stim]['pop_tens'])\n",
    "    ncells = 2*poptens.shape[0]\n",
    "    ntrials = poptens.shape[2]\n",
    "    for trial in range(ntrials):\n",
    "        popmat = poptens[:, :, trial]\n",
    "        au = sc.binnedtobinary(popmat, thresh)\n",
    "        maxsimps = sc.binarytomaxsimplex(au, rDup=True)\n",
    "        print('computing graph...')\n",
    "        g = sc.stimspacegraph_nx(maxsimps, ncells)\n",
    "        graphs.append(g)\n",
    "        nx.info(g)\n",
    "        print('computing distances...')\n",
    "        dmat = nx.floyd_warshall_numpy(g)\n",
    "        noise_amps = noise_pc*dmat\n",
    "        noise = np.multiply(noise_amps, np.random.randn(dmat.shape[0], dmat.shape[1])) \n",
    "        noise = (noise + noise.T)/2\n",
    "        dmat += noise\n",
    "        dmats.append(dmat)\n",
    "        #Adjust inf dists\n",
    "        dmat[np.isnan(dmat)] = d_max\n",
    "        print('computing mds...')\n",
    "        gmds = MDS(n_jobs=-2, dissimilarity='precomputed', metric=False)\n",
    "        embed_pts = gmds.fit_transform(dmat)\n",
    "        plt.figure()\n",
    "        plt.style.use('/home/brad/code/NeuralTDA/gentnerlab.mplstyle')\n",
    "        fig = plt.figure(figsize=(7,7))\n",
    "        plt.plot(embed_pts[:, 0], embed_pts[:, 1], 'b.')\n",
    "        plt.show()"
   ]
  },
  {
   "cell_type": "code",
   "execution_count": null,
   "metadata": {},
   "outputs": [],
   "source": [
    "G = graphs[0]\n",
    "nx.info(G)\n",
    "nx.is_connected(G)\n",
    "G.edges((10,31), data=True)\n",
    "\n",
    "ns = list(G.nodes())\n",
    "\n",
    "cn = [(x,) for x in range(101)]\n",
    "dmat = np.zeros((len(cn), len(cn)))\n",
    "for ind in range(len(cn)):\n",
    "    for indw in range(ind+1, len(cn)):\n",
    "        try:\n",
    "            dmat[ind, indw] = nx.shortest_path_length(G, ns[ind], ns[indw], weight='weight')\n",
    "        except ValueError:\n",
    "            print(ns[ind], ns[indw])"
   ]
  },
  {
   "cell_type": "code",
   "execution_count": null,
   "metadata": {},
   "outputs": [],
   "source": [
    "dmat = dmat + dmat.T"
   ]
  },
  {
   "cell_type": "code",
   "execution_count": null,
   "metadata": {},
   "outputs": [],
   "source": [
    "gmds = MDS(n_jobs=-2, dissimilarity='precomputed')\n",
    "embed_pts = gmds.fit_transform(dmat)\n",
    "plt.style.use('/home/brad/code/NeuralTDA/gentnerlab.mplstyle')\n",
    "fig = plt.figure(figsize=(7,7))\n",
    "plt.plot(embed_pts[:, 0], embed_pts[:, 1], 'b.')"
   ]
  },
  {
   "cell_type": "code",
   "execution_count": null,
   "metadata": {},
   "outputs": [],
   "source": [
    "nx.shortest_path_length(G, (4,28), (4,), weight='weight')"
   ]
  },
  {
   "cell_type": "code",
   "execution_count": null,
   "metadata": {},
   "outputs": [],
   "source": [
    "nx.negative_edge_cycle(G)"
   ]
  },
  {
   "cell_type": "code",
   "execution_count": null,
   "metadata": {},
   "outputs": [],
   "source": [
    "G.edges(data=True)"
   ]
  },
  {
   "cell_type": "code",
   "execution_count": null,
   "metadata": {},
   "outputs": [],
   "source": [
    "# do everything\n",
    "allmaxsimps = []\n",
    "with h5.File(bdf, 'r') as f:\n",
    "    print(list(f.keys()))\n",
    "    stims = list(f.keys())\n",
    "    for stim in stims:\n",
    "        poptens = np.array(f[stim]['pop_tens'])\n",
    "        ncells = 2*poptens.shape[0]\n",
    "        ntrials = poptens.shape[2]\n",
    "        for trial in range(ntrials):\n",
    "            popmat = poptens[:, :, trial]\n",
    "            au = sc.binnedtobinary(popmat, thresh)\n",
    "            maxsimps = sc.binarytomaxsimplex(au, rDup=True)\n",
    "            allmaxsimps.append(maxsimps)"
   ]
  },
  {
   "cell_type": "code",
   "execution_count": null,
   "metadata": {},
   "outputs": [],
   "source": [
    "ams = np.concatenate(allmaxsimps)\n",
    "g = sc.stimspacegraph_nx(ams, ncells)"
   ]
  },
  {
   "cell_type": "code",
   "execution_count": null,
   "metadata": {
    "scrolled": true
   },
   "outputs": [],
   "source": [
    "# metric version\n",
    "bird = 'B1056'\n",
    "stim = 'I_scaled_burung'\n",
    "trial = 1\n",
    "block_path = bps[bird]\n",
    "bdf = bdfs[bird]\n",
    "d_max = 30\n",
    "dmats = []\n",
    "graphs = []\n",
    "noise_pc = 0.005\n",
    "with h5.File(bdf, 'r') as f:\n",
    "    print(list(f.keys()))\n",
    "    poptens = np.array(f[stim]['pop_tens'])\n",
    "    ncells = 2*poptens.shape[0]\n",
    "    ntrials = poptens.shape[2]\n",
    "    for trial in range(ntrials):\n",
    "        popmat = poptens[:, :, trial]\n",
    "        au = sc.binnedtobinary(popmat, thresh)\n",
    "        maxsimps = sc.binarytomaxsimplex(au, rDup=True)\n",
    "        print('computing graph...')\n",
    "        g = sc.stimspacegraph_nx(maxsimps, ncells)\n",
    "        graphs.append(g)\n",
    "        nx.info(g)\n",
    "        print('computing distances...')\n",
    "        dmat = nx.floyd_warshall_numpy(g)\n",
    "        noise_amps = noise_pc*dmat\n",
    "        noise = np.multiply(noise_amps, np.random.randn(dmat.shape[0], dmat.shape[1])) \n",
    "        noise = (noise + noise.T)/2\n",
    "        dmat += noise\n",
    "        dmats.append(dmat)\n",
    "        #Adjust inf dists\n",
    "        dmat[np.isnan(dmat)] = d_max\n",
    "        print('computing mds...')\n",
    "        gmds = MDS(n_jobs=-2, dissimilarity='precomputed', metric=True)\n",
    "        embed_pts = gmds.fit_transform(dmat)\n",
    "        plt.figure()\n",
    "        plt.style.use('/home/brad/code/NeuralTDA/gentnerlab.mplstyle')\n",
    "        fig = plt.figure(figsize=(7,7))\n",
    "        plt.plot(embed_pts[:, 0], embed_pts[:, 1], 'b.')\n",
    "        plt.show()"
   ]
  },
  {
   "cell_type": "code",
   "execution_count": null,
   "metadata": {
    "scrolled": false
   },
   "outputs": [],
   "source": [
    "# metric version\n",
    "bird = 'B1056'\n",
    "stim = 'I_scaled_burung'\n",
    "trial = 1\n",
    "block_path = bps[bird]\n",
    "bdf = bdfs[bird]\n",
    "d_max = 30\n",
    "dmats = []\n",
    "graphs = []\n",
    "noise_pc = 0.005\n",
    "res = []\n",
    "with h5.File(bdf, 'r') as f:\n",
    "    print(list(f.keys()))\n",
    "    poptens = np.array(f[stim]['pop_tens'])\n",
    "    ncells = 2*poptens.shape[0]\n",
    "    ntrials = poptens.shape[2]\n",
    "    for trial in range(ntrials):\n",
    "        popmat = poptens[:, :, trial]\n",
    "        au = sc.binnedtobinary(popmat, thresh)\n",
    "        maxsimps = sc.binarytomaxsimplex(au, rDup=True)\n",
    "        print('computing graph...')\n",
    "        g = sc.stimspacegraph_nx(maxsimps, ncells)\n",
    "        sorted_node_list = sorted(list(g.nodes()), key=len)\n",
    "        graphs.append(g)\n",
    "        nx.info(g)\n",
    "        print('computing distances...')\n",
    "        dmat = nx.floyd_warshall_numpy(g, nodelist=sorted_node_list)\n",
    "        noise_amps = noise_pc*dmat\n",
    "        noise = np.multiply(noise_amps, np.random.randn(dmat.shape[0], dmat.shape[1])) \n",
    "        noise = (noise + noise.T)/2\n",
    "        dmat += noise\n",
    "        dmats.append(dmat)\n",
    "        #Adjust inf dists\n",
    "        dmat[np.isnan(dmat)] = d_max\n",
    "        print('computing mds...')\n",
    "        gmds = MDS(n_jobs=-2, dissimilarity='precomputed', metric=True)\n",
    "        embed_pts = gmds.fit_transform(dmat)\n",
    "        \n",
    "        res.append([g, sorted_node_list, dmat, embed_pts])\n",
    "        \n",
    "        fig = plt.figure(figsize=(9,9))\n",
    "        orders = np.array([len(x) for x in sorted_node_list])\n",
    "        max_ord = max(orders)\n",
    "        for order in range(max_ord):\n",
    "            inds = (orders == order+1)\n",
    "\n",
    "            plt.plot(embed_pts[inds, 0], embed_pts[inds, 1], '.', label=order+1)\n",
    "\n",
    "        plt.legend()\n",
    "        plt.show()"
   ]
  },
  {
   "cell_type": "code",
   "execution_count": 191,
   "metadata": {},
   "outputs": [
    {
     "name": "stdout",
     "output_type": "stream",
     "text": [
      "40000\n"
     ]
    }
   ],
   "source": [
    "from scipy.io import wavfile\n",
    "from scipy.signal import spectrogram\n",
    "stimname = 'I_scaled_burung'\n",
    "stimfile = '/home/brad/krista_stims/I_40k.wav'\n",
    "\n",
    "fs, stimdat = wavfile.read(stimfile)\n",
    "print(fs)\n",
    "\n",
    "winlen = 10 # ms\n",
    "winlen_samps = int(winlen*fs/1000.)\n",
    "#winlen_samps = 256\n",
    "winlen_samps = 128\n",
    "nfft = 128\n",
    "noverlap = int(winlen_samps/2)\n",
    "nt_win = 5\n",
    "ovr = np.round(winlen_samps*pcover, )\n",
    "f, t, Sxx = spectrogram(stimdat, fs, nperseg=winlen_samps, noverlap=ovr)\n",
    "\n",
    "def downsample_freq(dat):\n",
    "    return (dat[1::2, :] + dat[:-1:2, :])/2\n",
    "\n",
    "def downsample_t(dat):\n",
    "    if len(dat.shape) == 1:\n",
    "        return (dat[1::2] + dat[:-1:2])/2\n",
    "    return (dat[:, 1::2] + dat[:, :-1:2])/2\n",
    "\n",
    "avgSxx = downsample_freq(downsample_freq(downsample_freq(Sxx)))\n",
    "avgSxx = downsample_t(downsample_t(avgSxx))\n",
    "t = downsample_t(downsample_t(t))\n",
    "#t = t[::3]\n",
    "avgSxx = np.log10(avgSxx)\n",
    "avgSxx = avgSxx - np.tile(np.mean(avgSxx, axis=1)[:, np.newaxis], (1, avgSxx.shape[1]))\n",
    "avgSxx = np.divide(avgSxx, np.tile(np.std(avgSxx, axis=1)[:, np.newaxis], (1, avgSxx.shape[1])))\n",
    "stim = np.zeros((nt_win*avgSxx.shape[0], avgSxx.shape[1]))\n",
    "for win in range(nt_win, avgSxx.shape[1]):\n",
    "    stim[:, win] = np.reshape(avgSxx[:, win-nt_win:win], (nt_win*avgSxx.shape[0]))\n"
   ]
  },
  {
   "cell_type": "code",
   "execution_count": 192,
   "metadata": {},
   "outputs": [
    {
     "data": {
      "text/plain": [
       "(8, 468)"
      ]
     },
     "execution_count": 192,
     "metadata": {},
     "output_type": "execute_result"
    }
   ],
   "source": [
    "avgSxx.shape"
   ]
  },
  {
   "cell_type": "code",
   "execution_count": 165,
   "metadata": {},
   "outputs": [],
   "source": [
    "# Extract relevant data\n",
    "from ephys import core, events\n",
    "\n",
    "bp = bps['B1056']\n",
    "\n",
    "spikes = core.load_spikes(bp)\n",
    "fs_spikes = core.load_fs(bp)\n",
    "trials = events.load_trials(bp)\n",
    "clusters = core.load_clusters(bp)\n",
    "\n",
    "# Extract trials from given stimulus\n",
    "stim_trials = trials[trials['stimulus'] == stimname]\n",
    "\n",
    "# get segment times for trial of interest\n",
    "trial = 0\n",
    "\n",
    "#\n",
    "trial_bounds = (stim_trials.iloc[trial]['time_samples'], stim_trials.iloc[trial]['stimulus_end'])\n",
    "clusters_to_use = clusters[clusters['quality'] == 'Good']\n",
    "clusters_list = clusters_to_use['cluster'].unique()\n",
    "spikes = spikes[spikes['cluster'].isin(list(clusters_list))]\n",
    "segment = tp2.get_segment((0, trial_bounds[1]-trial_bounds[0]), fs_spikes, [0,0])\n",
    "nclus = len(clusters_list)\n",
    "\n",
    "# convert time to samples:\n",
    "t_samp = t*fs_spikes"
   ]
  },
  {
   "cell_type": "code",
   "execution_count": 166,
   "metadata": {},
   "outputs": [],
   "source": [
    "# get the population tensor\n",
    "poptens = tp2.build_poptens_given_windows(stim_trials, spikes, t_samp, clusters_list, segment)"
   ]
  },
  {
   "cell_type": "code",
   "execution_count": 168,
   "metadata": {},
   "outputs": [
    {
     "data": {
      "text/plain": [
       "array([ 0.,  0.,  2.,  9.,  2.,  5.,  5.,  3.,  5.,  4.,  3.,  2.,  2.,\n",
       "        2.,  3.,  1.,  3.,  5.,  4.,  3.,  4.,  5.,  5.,  1.,  4.,  6.,\n",
       "        2.,  2.,  2.,  3.,  2.,  2.,  1.,  5.,  2.,  1.,  1.,  1.,  2.,\n",
       "        2.,  2.,  2.,  2.,  1.,  7.,  4.,  1.,  3.,  3.,  3.,  0.,  4.,\n",
       "        2.,  3.,  3.,  1.,  4.,  4.,  5.,  2.,  1.,  3.,  3.,  2.,  0.,\n",
       "        3.,  0.,  1.,  2.,  0.,  2.,  3.,  4.,  2.,  4.,  2.,  4.,  1.,\n",
       "        6.,  5.,  3.,  1.,  2.,  2.,  2.,  1.,  3.,  2.,  1.,  6.,  5.,\n",
       "        3.,  6.,  3.,  2.,  6.,  0.,  8.,  4.,  5.,  4.,  4.,  4.,  3.,\n",
       "        4.,  5.,  0.,  2.,  4.,  6.,  3.,  4.,  3.,  4.,  3.,  2.,  2.,\n",
       "        2.,  2.,  1.,  3.,  1.,  0.,  0.,  5.,  1.,  2.,  0.,  3.,  4.,\n",
       "        1.,  1.,  1.,  4.,  3.,  3.,  1.,  1.,  0.,  0.,  2.,  3.,  1.,\n",
       "        1.,  1.,  0.,  1.,  0.,  1.,  0.,  2.,  3.,  1.,  2.,  1.,  0.,\n",
       "        3.,  0.,  1.,  2.,  0.,  0.,  1.,  0.,  1.,  0.,  2.,  0.,  2.,\n",
       "        3.,  0.,  0.,  3.,  4.,  2.,  3.,  2.,  1.,  0.,  2.,  0.,  2.,\n",
       "        1.,  1.,  0.,  1.,  1.,  0.,  1.,  2.,  2.,  1.,  0.,  2.,  4.,\n",
       "        1.,  5.,  3.,  5.,  3.,  1.,  5.,  3.,  3.,  6.,  3.,  5.,  4.,\n",
       "        2.,  4.,  4.,  3.,  7.,  4.,  3.,  2.,  5.,  7.,  7.,  2.,  2.,\n",
       "        2.,  3.,  2.,  2.,  2.,  2.,  1.,  4.,  1.,  2.,  4.,  0.,  3.,\n",
       "        0.,  2.,  4.,  2.,  7.,  0.,  2.,  1.,  1.,  1.,  1.,  4.,  1.,\n",
       "        1.,  2.,  0.,  1.,  0.,  4.,  4.,  2.,  3.,  6.,  8.,  5.,  4.,\n",
       "        6.,  2.,  6.,  5.,  5.,  3.,  4.,  2.,  0.,  3.,  3.,  6.,  9.,\n",
       "        6.,  5.,  7.,  7.,  0.,  4.,  1.,  5.,  6.,  1.,  1.,  2.,  2.,\n",
       "        0.,  2.,  2.,  0.,  1.,  0.,  1.,  2.,  1.,  2.,  0.,  1.,  0.,\n",
       "        1.,  0.,  1.,  2.,  1.,  1.,  2.,  2.,  2.,  1.,  4.,  0.,  4.,\n",
       "        2.,  0.,  2.,  1.,  1.,  1.,  5.,  2.,  1.,  1.,  1.,  0.,  0.,\n",
       "        2.,  0.,  1.,  2.,  2.,  1.,  0.,  1.,  0.,  2.,  0.,  1.,  2.,\n",
       "        1.,  3.,  3.,  7.,  3.,  2.,  7.,  5.,  2.,  0.,  3.,  2.,  5.,\n",
       "        5.,  2.,  1.,  1.,  2.,  1.,  4.,  1.,  1.,  5.,  1.,  3.,  1.,\n",
       "        3.,  4.,  5.,  2.,  3.,  3.,  1.,  1.,  0.,  0.,  3.,  0.,  0.,\n",
       "        2.,  1.,  1.,  0.,  0.,  0.,  0.,  1.,  1.,  4.,  1.,  1.,  2.,\n",
       "        1.,  0.,  1.,  2.,  0.,  1.,  3.,  1.,  5.,  2.,  0.,  1.,  0.,\n",
       "        1.,  0.,  1.,  1.,  0.,  1.,  1.,  1.,  0.,  1.,  1.,  1.,  0.,\n",
       "        0.,  0.,  1.,  0.,  0.,  0.,  1.,  3.,  3.,  2.,  1.,  2.,  2.,\n",
       "        1.,  1.,  1.,  2.,  3.,  6.,  3.,  4.,  2.,  1.,  4.,  3.,  5.,\n",
       "        4.,  1.,  3.,  1.,  4.,  1.,  3.,  3.,  3.,  0.,  1.,  0.,  7.,\n",
       "        3.,  7., 10.,  7.,  0.,  5.,  6.,  4.,  1.,  6.,  2.,  3.,  3.])"
      ]
     },
     "execution_count": 168,
     "metadata": {},
     "output_type": "execute_result"
    }
   ],
   "source": [
    "np.sum(poptens[:, :, 0], axis=0)\n",
    "#print(poptens.shape)"
   ]
  },
  {
   "cell_type": "code",
   "execution_count": 172,
   "metadata": {},
   "outputs": [
    {
     "name": "stdout",
     "output_type": "stream",
     "text": [
      "computing graph...\n",
      "369\n",
      "Name: \n",
      "Type: Graph\n",
      "Number of nodes: 1500\n",
      "Number of edges: 4882\n",
      "Average degree:   6.5093\n",
      "computing graph...\n",
      "351\n",
      "Name: \n",
      "Type: Graph\n",
      "Number of nodes: 969\n",
      "Number of edges: 2814\n",
      "Average degree:   5.8080\n",
      "computing graph...\n",
      "357\n",
      "Name: \n",
      "Type: Graph\n",
      "Number of nodes: 1549\n",
      "Number of edges: 5350\n",
      "Average degree:   6.9077\n",
      "computing graph...\n",
      "338\n",
      "Name: \n",
      "Type: Graph\n",
      "Number of nodes: 704\n",
      "Number of edges: 1867\n",
      "Average degree:   5.3040\n",
      "computing graph...\n",
      "340\n",
      "Name: \n",
      "Type: Graph\n",
      "Number of nodes: 941\n",
      "Number of edges: 2866\n",
      "Average degree:   6.0914\n"
     ]
    }
   ],
   "source": [
    "reload(sc)\n",
    "dmats = []\n",
    "graphs = []\n",
    "noise_pc = 0.005\n",
    "res = []\n",
    "ncells = 2*poptens.shape[0]\n",
    "ntrials = poptens.shape[2]\n",
    "for trial in range(5):\n",
    "    popmat = poptens[:, :, trial]\n",
    "    au = sc.binnedtobinary(popmat, thresh)\n",
    "    maxsimps = sc.binarytomaxsimplex(au, rDup=False)\n",
    "    print('computing graph...')\n",
    "    print(len(maxsimps))\n",
    "    g = sc.stimspacegraph_nx(maxsimps, ncells)\n",
    "    graphs.append((g, maxsimps, au))\n",
    "    print(nx.info(g))\n",
    "#     print('computing distances...')\n",
    "#     dmat = nx.floyd_warshall_numpy(g)\n",
    "#     noise_amps = noise_pc*dmat\n",
    "#     noise = np.multiply(noise_amps, np.random.randn(dmat.shape[0], dmat.shape[1])) \n",
    "#     noise = (noise + noise.T)/2\n",
    "#     dmat += noise\n",
    "#     dmats.append(dmat)\n",
    "#     #Adjust inf dists\n",
    "#     #dmat[np.isnan(dmat)] = d_max\n",
    "#     print('computing mds...')\n",
    "#     gmds = MDS(n_jobs=-2, dissimilarity='precomputed', metric=True)\n",
    "#     embed_pts = gmds.fit_transform(dmat)\n",
    "#     plt.figure()\n",
    "#     plt.style.use('/home/brad/code/NeuralTDA/gentnerlab.mplstyle')\n",
    "#     fig = plt.figure(figsize=(7,7))\n",
    "#     plt.plot(embed_pts[:, 0], embed_pts[:, 1], 'b.')\n",
    "#     plt.show()"
   ]
  },
  {
   "cell_type": "code",
   "execution_count": 193,
   "metadata": {},
   "outputs": [
    {
     "name": "stdout",
     "output_type": "stream",
     "text": [
      "preparing data...\n"
     ]
    }
   ],
   "source": [
    "g = graphs[trial][0]\n",
    "maxsimps = graphs[trial][1]\n",
    "binmat = graphs[trial][2]\n",
    "\n",
    "(embed_pts, dmat, sorted_node_list) = sc.mds_embed(g)\n",
    "print(\"preparing data...\")\n",
    "(x, y) = sc.prepare_affine_data(binmat, stim, embed_pts, sorted_node_list)\n",
    "L = lambda a: sc.affine_loss(a, x, y, stim.shape[0], 2)\n",
    "L_jac = lambda a: sc.affine_loss_jac(a, x, y, stim.shape[0], 2)"
   ]
  },
  {
   "cell_type": "code",
   "execution_count": 195,
   "metadata": {
    "scrolled": false
   },
   "outputs": [
    {
     "name": "stdout",
     "output_type": "stream",
     "text": [
      "      fun: 6236.47918591017\n",
      " hess_inv: array([[ 9.53181989e-01,  1.56654578e-03,  5.29893776e-03, ...,\n",
      "         1.87882489e-02, -2.33699012e-03,  2.12396923e-02],\n",
      "       [ 1.56654578e-03,  9.68894945e-01, -1.10062909e-02, ...,\n",
      "        -1.67988818e-02,  6.83683171e-03,  3.70462174e-04],\n",
      "       [ 5.29893776e-03, -1.10062909e-02,  9.89382540e-01, ...,\n",
      "        -1.86209623e-02,  6.38648764e-04, -6.70050450e-03],\n",
      "       ...,\n",
      "       [ 1.87882489e-02, -1.67988818e-02, -1.86209623e-02, ...,\n",
      "         9.53019585e-01, -5.04368923e-03, -7.06667071e-03],\n",
      "       [-2.33699012e-03,  6.83683171e-03,  6.38648764e-04, ...,\n",
      "        -5.04368923e-03,  9.92395165e-01,  6.65845141e-03],\n",
      "       [ 2.12396923e-02,  3.70462174e-04, -6.70050450e-03, ...,\n",
      "        -7.06667071e-03,  6.65845141e-03,  9.75527545e-01]])\n",
      "      jac: array([-1.07562232e-06, -1.36899826e-06, -4.12572284e-07,  4.39981761e-07,\n",
      "       -1.43371718e-07, -1.15434654e-06,  4.72759607e-07, -4.39473869e-07,\n",
      "       -2.49180712e-06,  2.31298728e-07, -1.12735771e-06, -1.01687103e-06,\n",
      "        5.28992476e-07, -6.97809869e-07,  1.44617544e-06,  1.13373726e-07,\n",
      "        1.68399792e-06,  1.38599696e-06,  1.07960091e-06, -1.82860878e-06,\n",
      "        3.82190816e-07, -1.42854832e-06,  5.08322140e-09,  7.01464714e-07,\n",
      "       -1.05700268e-06, -9.37458875e-07, -2.40098918e-07,  1.15262376e-06,\n",
      "       -1.99929611e-06, -1.47831291e-06,  7.61323729e-07,  1.59454839e-07,\n",
      "        8.87555486e-07,  1.42659793e-07,  2.13193877e-06, -5.68504035e-07,\n",
      "       -5.60136199e-07,  1.03908364e-06,  1.45950574e-06, -7.72081556e-07,\n",
      "        7.91625965e-07,  7.63062207e-07, -4.84809384e-07, -7.33248509e-07,\n",
      "       -2.31167787e-06, -5.61294332e-07, -1.76472055e-06,  1.66937703e-07,\n",
      "       -7.22276567e-08,  1.41929348e-06, -1.06036601e-06, -3.59004223e-07,\n",
      "        7.99245448e-07, -3.01935735e-07, -1.34988058e-06,  1.20171561e-06,\n",
      "       -3.54688090e-07,  1.55375504e-06, -8.12448588e-07,  7.83446197e-08,\n",
      "       -1.14233752e-06, -1.41622677e-06,  1.08553562e-07, -1.18510308e-06,\n",
      "       -5.02371556e-07,  4.91586131e-07, -2.03982574e-06,  1.90592226e-07,\n",
      "       -4.40669784e-07, -7.41499544e-07, -7.13635229e-07,  8.40418537e-07,\n",
      "       -1.90464049e-06,  4.63154301e-07,  2.22080260e-07, -1.89992931e-06,\n",
      "       -6.58514580e-07,  4.12326292e-07, -1.51412378e-06, -1.05751607e-06,\n",
      "       -1.10271259e-07,  3.75892093e-07, -2.18427019e-07, -3.08596000e-07,\n",
      "        1.17886894e-06,  2.28245352e-07, -3.38030384e-07, -5.64435897e-07,\n",
      "       -3.37726036e-07, -9.04172666e-07, -3.64974397e-07,  1.84479344e-07,\n",
      "        9.03102446e-08,  2.55660066e-07,  1.77460279e-07, -2.96841904e-07,\n",
      "       -2.73915941e-07, -9.56901520e-07,  5.16783746e-07, -7.22617902e-07,\n",
      "        2.87661166e-08, -2.12800799e-08,  7.40104539e-07,  6.23404503e-07,\n",
      "        4.07033589e-07,  4.01257761e-07, -3.88459995e-07,  6.85577099e-07,\n",
      "        3.66106093e-07,  2.74916893e-07,  5.24057526e-08, -4.30108660e-07,\n",
      "        2.84468015e-07,  6.58484694e-07,  5.79001700e-08,  4.26774577e-07,\n",
      "        8.61614728e-07, -5.24120711e-07,  3.32466518e-07,  4.04244423e-07])\n",
      "  message: 'Optimization terminated successfully.'\n",
      "     nfev: 18\n",
      "      nit: 11\n",
      "     njev: 18\n",
      "   status: 0\n",
      "  success: True\n",
      "        x: array([ 0.12000389,  0.05788631,  0.0813815 ,  0.04057538,  0.086507  ,\n",
      "        0.09294141,  0.09484707,  0.13481785,  0.06669553,  0.11489216,\n",
      "       -0.02980574, -0.06366625, -0.0273505 , -0.10579523, -0.04286576,\n",
      "       -0.0657928 , -0.04653977, -0.03462307, -0.01809105, -0.02718588,\n",
      "       -0.02517628, -0.02195634, -0.03762106, -0.02799077, -0.04442676,\n",
      "        0.01060965, -0.05376151,  0.03091869, -0.04442667,  0.03090305,\n",
      "       -0.10526941, -0.03824612, -0.11193697, -0.05255059, -0.11644212,\n",
      "       -0.01606261, -0.13006547, -0.00460955, -0.11008747, -0.01589631,\n",
      "       -0.09449092, -0.02346133, -0.09244646, -0.03726317, -0.09023485,\n",
      "       -0.00750976, -0.08895714,  0.00497607, -0.09691656,  0.01405451,\n",
      "        0.00126712,  0.00630795, -0.00072298,  0.01982963,  0.01424327,\n",
      "        0.04639321,  0.01876278,  0.05668936,  0.01313797,  0.07196868,\n",
      "        0.05697795,  0.04749717,  0.06387298,  0.04896829,  0.05837525,\n",
      "        0.07210369,  0.03968104,  0.10253171,  0.03320131,  0.09984501,\n",
      "        0.08679581,  0.0992501 ,  0.08733527,  0.10040155,  0.08619004,\n",
      "        0.13548582,  0.07380668,  0.1606103 ,  0.05223197,  0.17031988,\n",
      "        0.10657642,  0.10953307,  0.06746879,  0.03037785,  0.01005729,\n",
      "        0.06805495,  0.08475823,  0.0512886 ,  0.03206196,  0.04505497,\n",
      "        0.05427175,  0.04561473,  0.02364177,  0.0015559 ,  0.00919855,\n",
      "       -0.03719918, -0.04780371, -0.0521943 , -0.08523828, -0.05386858,\n",
      "       -0.05230135, -0.03541099, -0.04505157, -0.0571704 , -0.05598584,\n",
      "        0.01942766,  0.01258055,  0.0101173 , -0.00750888, -0.01257499,\n",
      "        0.05815523,  0.04380328,  0.03273913, -0.00350395, -0.02671391,\n",
      "        0.06852038,  0.06714089,  0.0484049 ,  0.01435647, -0.01621916])\n"
     ]
    }
   ],
   "source": [
    "from scipy.optimize import fmin, minimize\n",
    "#print(fmin(L, np.random.randn(stim.shape[0]*2+stim.shape[0]), maxfun=1e6, full_output=True))\n",
    "\n",
    "minout = minimize(L, np.random.randn(stim.shape[0]*2+stim.shape[0]), method='BFGS', jac= L_jac)\n",
    "# map all the MDS points to original space\n",
    "# A = np.array([[a_min[0], a_min[1]], [a_min[2], a_min[3]]])\n",
    "# b = np.array([a_min[4], a_min[5]])\n",
    "# y_embed = np.dot(A, embed_pts.T) + np.tile(b[:, np.newaxis], (1, np.shape(embed_pts)[0]))\n",
    "\n",
    "# fig0 = plt.figure(figsize=(9,9))\n",
    "# plt.plot(embed_pts[:, 0], embed_pts[:, 1], '.')\n",
    "\n",
    "# fig = plt.figure(figsize=(9,9))\n",
    "# plot_environment(envs[env_num], fields, sigma)\n",
    "# plt.plot(y_embed[0, :], y_embed[1, :], '.')\n",
    "print(minout)"
   ]
  },
  {
   "cell_type": "code",
   "execution_count": 197,
   "metadata": {
    "scrolled": false
   },
   "outputs": [
    {
     "data": {
      "image/png": "[encoded data removed]",
      "text/plain": [
       "<matplotlib.figure.Figure at 0x7f0fd26967f0>"
      ]
     },
     "metadata": {},
     "output_type": "display_data"
    },
    {
     "data": {
      "image/png": "[encoded data removed]",
      "text/plain": [
       "<matplotlib.figure.Figure at 0x7f0fd294aeb8>"
      ]
     },
     "metadata": {},
     "output_type": "display_data"
    },
    {
     "data": {
      "image/png": "[encoded data removed]",
      "text/plain": [
       "<matplotlib.figure.Figure at 0x7f0fd19f78d0>"
      ]
     },
     "metadata": {},
     "output_type": "display_data"
    },
    {
     "data": {
      "image/png": "[encoded data removed]",
      "text/plain": [
       "<matplotlib.figure.Figure at 0x7f0fd26d1438>"
      ]
     },
     "metadata": {},
     "output_type": "display_data"
    },
    {
     "data": {
      "image/png": "[encoded data removed]",
      "text/plain": [
       "<matplotlib.figure.Figure at 0x7f0fcb742c88>"
      ]
     },
     "metadata": {},
     "output_type": "display_data"
    },
    {
     "data": {
      "image/png": "[encoded data removed]",
      "text/plain": [
       "<matplotlib.figure.Figure at 0x7f0fcb480c50>"
      ]
     },
     "metadata": {},
     "output_type": "display_data"
    },
    {
     "data": {
      "image/png": "[encoded data removed]",
      "text/plain": [
       "<matplotlib.figure.Figure at 0x7f0fd27189b0>"
      ]
     },
     "metadata": {},
     "output_type": "display_data"
    },
    {
     "data": {
      "image/png": "[encoded data removed]",
      "text/plain": [
       "<matplotlib.figure.Figure at 0x7f0fe414da90>"
      ]
     },
     "metadata": {},
     "output_type": "display_data"
    },
    {
     "data": {
      "image/png": "[encoded data removed]",
      "text/plain": [
       "<matplotlib.figure.Figure at 0x7f0fe11af9b0>"
      ]
     },
     "metadata": {},
     "output_type": "display_data"
    },
    {
     "data": {
      "image/png": "[encoded data removed]",
      "text/plain": [
       "<matplotlib.figure.Figure at 0x7f0fd2268198>"
      ]
     },
     "metadata": {},
     "output_type": "display_data"
    }
   ],
   "source": [
    "affine = minout['x']\n",
    "\n",
    "reconstructed = sc.affine_transform(affine, x, stim.shape[0], 2)\n",
    "\n",
    "nexamples = 10\n",
    "exemplar_inds = np.random.choice(reconstructed.shape[1], size=nexamples)\n",
    "\n",
    "r_exemplars = reconstructed[:, exemplar_inds]\n",
    "true_exemplars = stim[:, exemplar_inds]\n",
    "\n",
    "for ex in range(nexamples):\n",
    "    r = np.reshape(r_exemplars[:, ex], (int(stim.shape[0]/nt_win), nt_win))\n",
    "    t = np.reshape(true_exemplars[:, ex], (int(stim.shape[0]/nt_win), nt_win))\n",
    "    fig = plt.figure()\n",
    "    fig.add_subplot(121)\n",
    "    ax = plt.gca()\n",
    "    plt.imshow(r)\n",
    "    fig.add_subplot(122)\n",
    "    plt.imshow(t)"
   ]
  },
  {
   "cell_type": "code",
   "execution_count": 186,
   "metadata": {},
   "outputs": [
    {
     "data": {
      "text/plain": [
       "40"
      ]
     },
     "execution_count": 186,
     "metadata": {},
     "output_type": "execute_result"
    }
   ],
   "source": [
    "stim.shape[0]"
   ]
  },
  {
   "cell_type": "code",
   "execution_count": 103,
   "metadata": {},
   "outputs": [],
   "source": [
    "reload(sc)\n",
    "testL = lambda a: sc.affine_loss(a, testx, testy, 2, 2)\n",
    "testL_jac = lambda a: sc.affine_loss_jac(a, testx, testy, 2,2)"
   ]
  },
  {
   "cell_type": "code",
   "execution_count": 105,
   "metadata": {},
   "outputs": [
    {
     "data": {
      "text/plain": [
       "      fun: 9.226203141631617e-21\n",
       " hess_inv: array([[ 0.82849541, -0.0627481 ,  0.09992566,  0.30970062, -0.16155164,\n",
       "        -0.03162954],\n",
       "       [-0.0627481 ,  0.66982943,  0.30970071,  0.02226262, -0.00350908,\n",
       "         0.33364659],\n",
       "       [ 0.09992566,  0.30970071,  0.19442092,  0.06867503, -0.03162966,\n",
       "         0.1668272 ],\n",
       "       [ 0.30970062,  0.02226262,  0.06867503,  0.35770708,  0.3336465 ,\n",
       "         0.00765001],\n",
       "       [-0.16155164, -0.00350908, -0.03162966,  0.3336465 ,  0.82621517,\n",
       "        -0.02338488],\n",
       "       [-0.03162954,  0.33364659,  0.1668272 ,  0.00765001, -0.02338488,\n",
       "         0.19529593]])\n",
       "      jac: array([ 4.16941585e-10,  2.57550194e-10, -9.22448920e-11, -4.62042823e-10,\n",
       "       -2.79593904e-10,  6.03380540e-10])\n",
       "  message: 'Optimization terminated successfully.'\n",
       "     nfev: 8\n",
       "      nit: 6\n",
       "     njev: 8\n",
       "   status: 0\n",
       "  success: True\n",
       "        x: array([ 2.00000000e+00,  3.00000000e+00, -6.00000000e+00,  1.00000000e+00,\n",
       "       -2.74824608e-12,  1.05791487e-11])"
      ]
     },
     "execution_count": 105,
     "metadata": {},
     "output_type": "execute_result"
    }
   ],
   "source": [
    "minimize(testL, [1,0,0,1,0,0], method='BFGS', jac=testL_jac)"
   ]
  },
  {
   "cell_type": "code",
   "execution_count": 104,
   "metadata": {},
   "outputs": [
    {
     "data": {
      "text/plain": [
       "array([ -21.66882108, -108.21500405,  289.5710207 ,  -53.18603141,\n",
       "         26.14655289,  -60.77875526])"
      ]
     },
     "execution_count": 104,
     "metadata": {},
     "output_type": "execute_result"
    }
   ],
   "source": [
    "testL_jac([1,0,0,1,0,0])"
   ]
  },
  {
   "cell_type": "code",
   "execution_count": 108,
   "metadata": {},
   "outputs": [
    {
     "data": {
      "text/plain": [
       "(50, 600)"
      ]
     },
     "execution_count": 108,
     "metadata": {},
     "output_type": "execute_result"
    }
   ],
   "source": [
    "stim.shape"
   ]
  },
  {
   "cell_type": "code",
   "execution_count": null,
   "metadata": {},
   "outputs": [],
   "source": []
  }
 ],
 "metadata": {
  "kernelspec": {
   "display_name": "Python 3",
   "language": "python",
   "name": "python3"
  },
  "language_info": {
   "codemirror_mode": {
    "name": "ipython",
    "version": 3
   },
   "file_extension": ".py",
   "mimetype": "text/x-python",
   "name": "python",
   "nbconvert_exporter": "python",
   "pygments_lexer": "ipython3",
   "version": "3.6.2"
  }
 },
 "nbformat": 4,
 "nbformat_minor": 2
}
