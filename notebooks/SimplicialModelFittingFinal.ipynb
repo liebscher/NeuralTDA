{
 "cells": [
  {
   "cell_type": "code",
   "execution_count": 2,
   "metadata": {},
   "outputs": [
    {
     "data": {
      "text/plain": [
       "<module 'neuraltda.simpComp' from '/home/brad/code/NeuralTDA/neuraltda/simpComp.py'>"
      ]
     },
     "execution_count": 2,
     "metadata": {},
     "output_type": "execute_result"
    }
   ],
   "source": [
    "import neuraltda.simpComp as sc\n",
    "import neuraltda.topology2 as tp2\n",
    "import neuraltda.spectralAnalysis as sa\n",
    "from ephys import rasters\n",
    "import pickle\n",
    "import glob\n",
    "import os\n",
    "import numpy as np\n",
    "import matplotlib.pyplot as plt\n",
    "from scipy.optimize import brentq\n",
    "import seaborn as sns\n",
    "from importlib import reload\n",
    "sns.set_context('poster')\n",
    "sns.set_style('white')\n",
    "%matplotlib inline\n",
    "reload(sa)\n",
    "reload(sc)"
   ]
  },
  {
   "cell_type": "code",
   "execution_count": 6,
   "metadata": {
    "collapsed": true
   },
   "outputs": [],
   "source": [
    "nsamples2 = 25\n",
    "d = 1\n",
    "def loss_new(a, beta):\n",
    "    # take a set of probabilities, generate random configurations, measure KL divergence to data, report loss\n",
    "    probs = (a*np.ones((ncells, 1)))\n",
    "    KLsave=[]\n",
    "    samples = np.random.rand(ncells, nwin, nsamples2)\n",
    "    probmat = np.tile(probs,  (1, nwin))[:, :, np.newaxis]\n",
    "    probmat = np.tile(probmat, (1, 1, nsamples2))\n",
    "    binMatsamples = np.greater(probmat, samples).astype(int)\n",
    "    SCGs = []\n",
    "    for ind in range(nsamples2):\n",
    "        msimps = sc.binarytomaxsimplex(binMat=binMatsamples[:, :, ind], rDup=True)\n",
    "        Emodel = sc.simplicialChainGroups(msimps)\n",
    "\n",
    "        Ddata = sc.boundaryOperatorMatrix(Edata)\n",
    "        Dsamp = sc.boundaryOperatorMatrix(Emodel)\n",
    "        Lsamp = sc.laplacian(Dsamp, d)\n",
    "        Ldata = sc.laplacian(Ddata, d)\n",
    "        if (np.size(Lsamp) > np.size(Ldata)):\n",
    "            (Ldata, Lsamp) = sc.reconcile_laplacians(Ldata, Lsamp)\n",
    "        else:\n",
    "            (Lsamp, Ldata) = sc.reconcile_laplacians(Lsamp, Ldata)\n",
    "        rsamp = sc.densityMatrix(Lsamp, beta)\n",
    "        \n",
    "        rdata = sc.densityMatrix(Ldata, beta)\n",
    "        \n",
    "        KLsave.append(sc.KLdivergence(rdata, rsamp))\n",
    "    m = np.mean(KLsave)\n",
    "    std = np.std(KLsave)\n",
    "    stderr = std / np.sqrt(nsamples2)\n",
    "    return (m, stderr)\n"
   ]
  },
  {
   "cell_type": "code",
   "execution_count": 11,
   "metadata": {
    "collapsed": true
   },
   "outputs": [],
   "source": [
    "# Generate binary matrix with given probabilities for each \"cell\"\n",
    "ncells = 20\n",
    "nwin = 1000\n",
    "a = 0.02\n",
    "probs = (a*np.ones((ncells, 1)))\n",
    "nsamples = 1\n",
    "samples = np.random.rand(ncells, nwin, nsamples)\n",
    "probmat = np.tile(probs,  (1, nwin))[:, :, np.newaxis]\n",
    "probmat = np.tile(probmat, (1, 1, nsamples))\n",
    "binMatsamples = np.greater(probmat, samples).astype(int)"
   ]
  },
  {
   "cell_type": "code",
   "execution_count": 19,
   "metadata": {},
   "outputs": [
    {
     "name": "stdout",
     "output_type": "stream",
     "text": [
      "0\n",
      "0.005\n",
      "0.00555555555556\n",
      "0.00611111111111\n",
      "0.00666666666667\n",
      "0.00722222222222\n",
      "0.00777777777778\n",
      "0.00833333333333\n",
      "0.00888888888889\n",
      "0.00944444444444\n",
      "0.01\n",
      "0.0105555555556\n",
      "0.0111111111111\n",
      "0.0116666666667\n",
      "0.0122222222222\n",
      "0.0127777777778\n",
      "0.0133333333333\n",
      "0.0138888888889\n",
      "0.0144444444444\n",
      "0.015\n",
      "0.0155555555556\n",
      "0.0161111111111\n",
      "0.0166666666667\n",
      "0.0172222222222\n",
      "0.0177777777778\n",
      "0.0183333333333\n",
      "0.0188888888889\n",
      "0.0194444444444\n",
      "0.02\n",
      "0.0205555555556\n",
      "0.0211111111111\n",
      "0.0216666666667\n",
      "0.0222222222222\n",
      "0.0227777777778\n",
      "0.0233333333333\n",
      "0.0238888888889\n",
      "0.0244444444444\n",
      "0.025\n",
      "0.0255555555556\n",
      "0.0261111111111\n",
      "0.0266666666667\n",
      "0.0272222222222\n",
      "0.0277777777778\n",
      "0.0283333333333\n",
      "0.0288888888889\n",
      "0.0294444444444\n",
      "0.03\n",
      "0.0305555555556\n",
      "0.0311111111111\n",
      "0.0316666666667\n",
      "0.0322222222222\n",
      "0.0327777777778\n",
      "0.0333333333333\n",
      "0.0338888888889\n",
      "0.0344444444444\n",
      "0.035\n",
      "0.0355555555556\n",
      "0.0361111111111\n",
      "0.0366666666667\n",
      "0.0372222222222\n",
      "0.0377777777778\n",
      "0.0383333333333\n",
      "0.0388888888889\n",
      "0.0394444444444\n",
      "0.04\n",
      "0.0405555555556\n",
      "0.0411111111111\n",
      "0.0416666666667\n",
      "0.0422222222222\n",
      "0.0427777777778\n",
      "0.0433333333333\n",
      "0.0438888888889\n",
      "0.0444444444444\n",
      "0.045\n",
      "0.0455555555556\n",
      "0.0461111111111\n",
      "0.0466666666667\n",
      "0.0472222222222\n",
      "0.0477777777778\n",
      "0.0483333333333\n",
      "0.0488888888889\n",
      "0.0494444444444\n",
      "0.05\n",
      "0.0505555555556\n",
      "0.0511111111111\n",
      "0.0516666666667\n",
      "0.0522222222222\n",
      "0.0527777777778\n",
      "0.0533333333333\n",
      "0.0538888888889\n",
      "0.0544444444444\n",
      "0.055\n",
      "0.0555555555556\n",
      "0.0561111111111\n",
      "0.0566666666667\n",
      "0.0572222222222\n",
      "0.0577777777778\n",
      "0.0583333333333\n",
      "0.0588888888889\n",
      "0.0594444444444\n",
      "0.06\n"
     ]
    }
   ],
   "source": [
    "# Compute SCG for each sample\n",
    "SCGs = []\n",
    "for ind in range(nsamples):\n",
    "    msimps = sc.binarytomaxsimplex(binMat=binMatsamples[:, :, ind], rDup=True)\n",
    "    E = sc.simplicialChainGroups(msimps)\n",
    "    SCGs.append(E)\n",
    "Edata = SCGs[0]\n",
    "\n",
    "\n",
    "est_save = []\n",
    "ntrials = 1\n",
    "X = np.linspace(0.005, 0.06, 100)\n",
    "\n",
    "for t in range(ntrials):\n",
    "    print(t)\n",
    "    KL=[]\n",
    "    KLerr = []\n",
    "    for x in X:\n",
    "        print(x)\n",
    "        (m, stderr) = loss_new(x, 0.15)\n",
    "        KL.append(m)\n",
    "        KLerr.append(stderr)\n",
    "        \n",
    "    \n",
    "    index_min = np.argmin(KL)\n",
    "    est_save.append(X[index_min])"
   ]
  },
  {
   "cell_type": "code",
   "execution_count": 20,
   "metadata": {},
   "outputs": [
    {
     "data": {
      "text/plain": [
       "<matplotlib.text.Text at 0x7fd0548874a8>"
      ]
     },
     "execution_count": 20,
     "metadata": {},
     "output_type": "execute_result"
    },
    {
     "data": {
      "image/png": "[encoded data removed]",
      "text/plain": [
       "<matplotlib.figure.Figure at 0x7fd054937198>"
      ]
     },
     "metadata": {},
     "output_type": "display_data"
    }
   ],
   "source": [
    "sns.set_style('white')\n",
    "plt.figure(figsize=(11,8))\n",
    "plt.errorbar(X, KL, yerr=KLerr, linewidth=3, capsize=6, capthick=2, fmt='b')\n",
    "plt.ylim(0, 0.46)\n",
    "plt.plot(a*np.ones((20, 1)), np.linspace(0, 0.45, 20), 'k--')\n",
    "plt.xlabel('Firing Probability')\n",
    "plt.ylabel('KL Divergence')\n",
    "plt.title('Poisson Spiking Population Model Fit')\n",
    "#plt.savefig('/Users/brad/PoissonFit-{}.pdf'.format(a), format='pdf')"
   ]
  },
  {
   "cell_type": "code",
   "execution_count": 18,
   "metadata": {},
   "outputs": [
    {
     "data": {
      "text/plain": [
       "0.020100000000000003"
      ]
     },
     "execution_count": 18,
     "metadata": {},
     "output_type": "execute_result"
    }
   ],
   "source": [
    "test = binMatsamples[:, :, 0]\n",
    "np.mean(np.sum(test, axis=1) / 1000)"
   ]
  },
  {
   "cell_type": "code",
   "execution_count": null,
   "metadata": {
    "collapsed": true
   },
   "outputs": [],
   "source": []
  }
 ],
 "metadata": {
  "kernelspec": {
   "display_name": "Python 3",
   "language": "python",
   "name": "python3"
  },
  "language_info": {
   "codemirror_mode": {
    "name": "ipython",
    "version": 3
   },
   "file_extension": ".py",
   "mimetype": "text/x-python",
   "name": "python",
   "nbconvert_exporter": "python",
   "pygments_lexer": "ipython3",
   "version": "3.6.1"
  }
 },
 "nbformat": 4,
 "nbformat_minor": 2
}
