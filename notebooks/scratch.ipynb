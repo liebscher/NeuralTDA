{
 "cells": [
  {
   "cell_type": "code",
   "execution_count": 7,
   "metadata": {
    "collapsed": true
   },
   "outputs": [],
   "source": [
    "import pickle\n",
    "import numpy as np\n",
    "import sys"
   ]
  },
  {
   "cell_type": "code",
   "execution_count": 15,
   "metadata": {},
   "outputs": [],
   "source": [
    "\n",
    "fname = '/home/brad/krista/B1075/P01S03/oldPredictionResults/20160923T165344Z-25.0-4.0-masterResults.pkl-predictionAccuracy-ShuffledBettis'\n",
    "with open(fname, 'rb') as f:\n",
    "    test = pickle.load(f, encoding='bytes')\n",
    "    \n",
    "fname = '/home/brad/krista/B1075/P01S03/oldPredictionResults/20161005T012837Z-25.0-4.0-masterResults.pkl-predictionAccuracyShuff'\n",
    "with open(fname, 'rb') as f:\n",
    "    tests = pickle.load(f, encoding='bytes')"
   ]
  },
  {
   "cell_type": "code",
   "execution_count": 17,
   "metadata": {},
   "outputs": [
    {
     "data": {
      "text/plain": [
       "0.61822916666666672"
      ]
     },
     "execution_count": 17,
     "metadata": {},
     "output_type": "execute_result"
    }
   ],
   "source": [
    "np.mean(test)"
   ]
  },
  {
   "cell_type": "code",
   "execution_count": 13,
   "metadata": {},
   "outputs": [
    {
     "data": {
      "text/plain": [
       "array([ 0.503125,  0.465625,  0.46875 ,  0.440625,  0.496875,  0.521875,\n",
       "        0.559375,  0.528125,  0.55625 ,  0.446875,  0.49375 ,  0.50625 ,\n",
       "        0.5     ,  0.575   ,  0.5375  ,  0.503125,  0.45    ,  0.5125  ,\n",
       "        0.515625,  0.534375,  0.56875 ,  0.434375,  0.446875,  0.475   ,\n",
       "        0.440625,  0.4375  ,  0.5375  ,  0.44375 ,  0.584375,  0.4125  ])"
      ]
     },
     "execution_count": 13,
     "metadata": {},
     "output_type": "execute_result"
    }
   ],
   "source": [
    "tests"
   ]
  },
  {
   "cell_type": "code",
   "execution_count": null,
   "metadata": {
    "collapsed": true
   },
   "outputs": [],
   "source": []
  }
 ],
 "metadata": {
  "kernelspec": {
   "display_name": "Python 3",
   "language": "python",
   "name": "python3"
  },
  "language_info": {
   "codemirror_mode": {
    "name": "ipython",
    "version": 3
   },
   "file_extension": ".py",
   "mimetype": "text/x-python",
   "name": "python",
   "nbconvert_exporter": "python",
   "pygments_lexer": "ipython3",
   "version": "3.6.1"
  }
 },
 "nbformat": 4,
 "nbformat_minor": 2
}
