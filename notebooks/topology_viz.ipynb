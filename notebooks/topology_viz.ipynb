{
 "cells": [
  {
   "cell_type": "markdown",
   "metadata": {},
   "source": [
    "# NeuralTDA Plotting Routines\n",
    "\n",
    "This purpose of this notebook is to create various plots of the results of topology computations on neural data"
   ]
  },
  {
   "cell_type": "code",
   "execution_count": 1,
   "metadata": {
    "collapsed": false
   },
   "outputs": [
    {
     "name": "stdout",
     "output_type": "stream",
     "text": [
      "Populating the interactive namespace from numpy and matplotlib\n"
     ]
    },
    {
     "name": "stderr",
     "output_type": "stream",
     "text": [
      "/Users/brad/anaconda/envs/neuraltda/lib/python2.7/site-packages/pandas/computation/__init__.py:19: UserWarning: The installed version of numexpr 2.4.4 is not supported in pandas and will be not be used\n",
      "\n",
      "  UserWarning)\n"
     ]
    },
    {
     "data": {
      "text/plain": [
       "<module 'neuraltda.topology' from '/Users/brad/GentnerLab/code/NeuralTDA/neuraltda/topology.pyc'>"
      ]
     },
     "execution_count": 1,
     "metadata": {},
     "output_type": "execute_result"
    }
   ],
   "source": [
    "import numpy as np\n",
    "import scipy as sp\n",
    "import matplotlib.pyplot as plt\n",
    "import pickle\n",
    "import os\n",
    "import sys\n",
    "from ephys import core, events, rasters\n",
    "from neuraltda import topology\n",
    "import glob\n",
    "import string\n",
    "from scipy.io import wavfile\n",
    "import scipy.signal as signal\n",
    "from scipy.interpolate import interp1d\n",
    "\n",
    "%pylab inline\n",
    "reload(topology)"
   ]
  },
  {
   "cell_type": "markdown",
   "metadata": {},
   "source": [
    "# Load the data\n",
    "\n",
    "Set 'block_path' to the path of the folder containing your post-manually sorted data"
   ]
  },
  {
   "cell_type": "code",
   "execution_count": 2,
   "metadata": {
    "collapsed": false
   },
   "outputs": [],
   "source": [
    "\n",
    "block_path = '/Volumes/gentner/btheilma/experiments/B1235/phy051316/Pen01_Lft_AP200_ML800__Site01_Z2200__B1235_cat_P01_S01_1/'\n",
    "clusters   = core.load_clusters(block_path)\n",
    "trials     = events.load_trials(block_path)\n",
    "fs         = core.load_fs(block_path)\n",
    "rec        = 0 "
   ]
  },
  {
   "cell_type": "markdown",
   "metadata": {
    "collapsed": false
   },
   "source": [
    "# Gather Topology Files"
   ]
  },
  {
   "cell_type": "code",
   "execution_count": 6,
   "metadata": {
    "collapsed": false
   },
   "outputs": [],
   "source": [
    "topofolder = '/Volumes/gentner/btheilma/experiments/B1235/phy051316/Pen01_Lft_AP200_ML800__Site01_Z2200__B1235_cat_P01_S01_1/topology/bht060816/B1235_cat_P01_S01_1-good_50ms_stim/'\n",
    "persistence_files = sorted(glob.glob(os.path.join(topofolder, '*.pkl')))"
   ]
  },
  {
   "cell_type": "markdown",
   "metadata": {},
   "source": [
    "# Set Parameters for Plots"
   ]
  },
  {
   "cell_type": "code",
   "execution_count": null,
   "metadata": {
    "collapsed": true
   },
   "outputs": [],
   "source": [
    "bird=1235\n",
    "windt = 50\n",
    "prd = 'stim'\n",
    "nstim = 16\n",
    "ntrials = 20\n",
    "betti = 1\n",
    "max_betti = 4\n",
    "pen='02'\n",
    "site='01'"
   ]
  },
  {
   "cell_type": "markdown",
   "metadata": {},
   "source": [
    "# Single Betti - All Trials - All Stimuli\n",
    "\n"
   ]
  },
  {
   "cell_type": "code",
   "execution_count": null,
   "metadata": {
    "collapsed": false,
    "scrolled": false
   },
   "outputs": [],
   "source": [
    "\n",
    "figsize = (22, 20)\n",
    "fig, axs = plt.subplots(4, 4, figsize=figsize)\n",
    "\n",
    "for stimind in range(len(persistence_files)):\n",
    "    tf = persistence_files[stimind]\n",
    "    tfilepath, tfilename = os.path.split(tf)\n",
    "    stimname = list(string.ascii_lowercase)[stimind]\n",
    "    pdata = pickle.load(open(tf, 'r'))\n",
    "    \n",
    "    ax = axs.flatten()[stimind]\n",
    "    upper=0\n",
    "    for trial in range(ntrials):     \n",
    "        trialdata = pdata['{}'.format(str(trial))]\n",
    "        betti1 = np.zeros([len(trialdata), 2])\n",
    "        for ind, filt in enumerate(trialdata):\n",
    "            betti1[ind, 0] = filt[0]*windt/1000.\n",
    "            try: \n",
    "                betti1[ind, 1] = filt[1][betti]\n",
    "            except IndexError:\n",
    "                betti1[ind, 1] = 0\n",
    "            \n",
    "        upper = max([upper, max(betti1[:, 1])])\n",
    "        #print(upper)\n",
    "        \n",
    "        #ax.set_xlim(0, 8)\n",
    "        #ax.set_ylim(0, 10)\n",
    "        pltcolor='b'\n",
    "#        if stimname in ['stimA', 'stimB', 'stimC', 'stimD']:\n",
    "#            pltcolor = 'r'\n",
    "        ax.plot(betti1[:, 0], betti1[:,1], pltcolor, lw=2)\n",
    "        ax.set_title('Stimulus: {}'.format(stimname))\n",
    "        ax.set_xlabel('Time (seconds)')\n",
    "        ax.set_ylabel('Betti Number Value')\n",
    "        ax.set_ylim([0, upper+1])\n",
    "plt.savefig('/home/brad/B{}_betti{}_timedep_{}ms_{}.png'.format(bird, betti, windt, prd))"
   ]
  },
  {
   "cell_type": "code",
   "execution_count": null,
   "metadata": {
    "collapsed": false
   },
   "outputs": [],
   "source": [
    "topofolder1 = '/mnt/cube/btheilma/experiments/B1235/phy051316/Pen01_Lft_AP200_ML800__Site01_Z2200__B1235_cat_P01_S01_1/topology/bht060716/B1235_cat_P01_S01_1-good_50ms_stim/'\n",
    "topofolder2 = '/mnt/cube/btheilma/experiments/B1235/phy051316/Pen01_Lft_AP200_ML800__Site01_Z2200__B1235_cat_P01_S01_1/topology/bht060816/B1235_cat_P01_S01_1-good_50ms_stim/'\n",
    "persistence_files1 = glob.glob(os.path.join(topofolder1, '*.pkl'))\n",
    "persistence_files2 = glob.glob(os.path.join(topofolder2, '*.pkl'))\n",
    "tfile1 = persistence_files1[0]\n",
    "tfile2 = persistence_files2[0]\n",
    "print(persistence_files1)\n",
    "print(persistence_files2)"
   ]
  },
  {
   "cell_type": "code",
   "execution_count": null,
   "metadata": {
    "collapsed": false
   },
   "outputs": [],
   "source": [
    "betti1"
   ]
  },
  {
   "cell_type": "markdown",
   "metadata": {},
   "source": [
    "# Single Betti - Trial Average - All Stimuli\n",
    "\n",
    "Uses step interpolation"
   ]
  },
  {
   "cell_type": "code",
   "execution_count": null,
   "metadata": {
    "collapsed": false
   },
   "outputs": [],
   "source": [
    "from scipy.interpolate import interp1d\n",
    "t = np.linspace(0, 7, num=1000)\n",
    "betticurves = np.zeros((ntrials, 1000))\n",
    "bettiStimspline=[]\n",
    "figsize = (22, 20)\n",
    "fig, axs = plt.subplots(4, 4, figsize=figsize)\n",
    "\n",
    "\n",
    "for stimind in range(len(persistence_files)):\n",
    "    tf = persistence_files[stimind]\n",
    "    tfilepath, tfilename = os.path.split(tf)\n",
    "    stimname = list(string.ascii_lowercase)[stimind]\n",
    "    pdata = pickle.load(open(tf, 'r'))\n",
    "    #print(tf)\n",
    "    upper=0\n",
    "    bettiTrialspline=[]\n",
    "    ax = axs.flatten()[stimind]\n",
    "    for trial in range(20):\n",
    "        \n",
    "        trialdata = pdata['{}'.format(str(trial))]\n",
    "        betti1 = np.zeros([len(trialdata), 2])\n",
    "        for ind, filt in enumerate(trialdata):\n",
    "            betti1[ind, 0] = filt[0]*windt/1000.\n",
    "            try: \n",
    "                betti1[ind, 1] = filt[1][betti]\n",
    "            except IndexError:\n",
    "                betti1[ind, 1] = 0\n",
    "                \n",
    "        bettifunc = interp1d(betti1[:, 0], betti1[:, 1], kind='zero', bounds_error=False, fill_value=(betti1[0, 1], betti1[-1, 1]))\n",
    "        betticurve = bettifunc(t)\n",
    "        betticurves[trial, :] = betticurve\n",
    "    avgbetticurve = np.mean(betticurves, axis=0)\n",
    "    ax.plot(t, avgbetticurve, lw=2)\n",
    "    ax.set_title('Stimulus: {}'.format(stimname))\n",
    "    ax.set_xlabel('Time (seconds)')\n",
    "    ax.set_ylabel('Betti Number Value')\n",
    "   "
   ]
  },
  {
   "cell_type": "markdown",
   "metadata": {},
   "source": [
    "# All Betti Numbers - Trial Average - Single Stimulus"
   ]
  },
  {
   "cell_type": "code",
   "execution_count": null,
   "metadata": {
    "collapsed": false
   },
   "outputs": [],
   "source": [
    "\n",
    "t = np.linspace(0, 7, num=1000)\n",
    "betticurves = np.zeros((max_betti, ntrials, 1000))\n",
    "bettiStimspline=[]\n",
    "\n",
    "stimind = 15\n",
    "tf = persistence_files[stimind]\n",
    "tfilepath, tfilename = os.path.split(tf)\n",
    "stimname = list(string.ascii_lowercase)[stimind]\n",
    "pdata = pickle.load(open(tf, 'r'))\n",
    "\n",
    "for trial in range(20): \n",
    "    trialdata = pdata['{}'.format(str(trial))]\n",
    "    for betti_num in range(max_betti):\n",
    "        betti1 = np.zeros([len(trialdata), 2])\n",
    "        for ind, filt in enumerate(trialdata):\n",
    "            betti1[ind, 0] = filt[0]*windt/1000.\n",
    "            try: \n",
    "                betti1[ind, 1] = filt[1][betti_num]\n",
    "            except IndexError:\n",
    "                betti1[ind, 1] = 0\n",
    "                \n",
    "        bettifunc = interp1d(betti1[:, 0], betti1[:, 1], kind='zero', bounds_error=False, fill_value=(betti1[0, 1], betti1[-1, 1]))\n",
    "        betticurve = bettifunc(t)\n",
    "        betticurves[betti_num, trial, :] = betticurve\n",
    "        \n",
    "avgbetticurve = np.mean(betticurves, axis=1)"
   ]
  },
  {
   "cell_type": "code",
   "execution_count": null,
   "metadata": {
    "collapsed": false
   },
   "outputs": [],
   "source": [
    "# Set the font dictionaries (for plot title and axis titles)\n",
    "title_font = {'fontname':'Arial', 'size':'36', 'color':'black', 'weight':'normal',\n",
    "              'verticalalignment':'bottom'} # Bottom vertical alignment for more space\n",
    "axis_font = {'fontname':'Arial', 'size':'36'}\n",
    "\n",
    "figsize = (22, 22)\n",
    "fig = plt.figure(figsize=figsize)\n",
    "\n",
    "ax = plt.subplot() # Defines ax variable by creating an empty plot\n",
    "\n",
    "# Set the tick labels font\n",
    "for label in (ax.get_xticklabels() + ax.get_yticklabels()):\n",
    "    label.set_fontname('Arial')\n",
    "    label.set_fontsize(32)\n",
    "\n",
    "plt.plot(t, avgbetticurve[0, :], t, avgbetticurve[1, :], t, avgbetticurve[2, :], t, avgbetticurve[3, :], lw=6)\n",
    "plt.title('Stimulus: {}'.format(stimname), **title_font)\n",
    "plt.xlabel('Time (seconds)', **axis_font)\n",
    "plt.ylabel('Betti Number Value', **axis_font)\n",
    "\n",
    "plt.legend(['Betti 0', 'Betti 1', 'Betti 2', 'Betti 3'], fontsize=36, loc=2)\n",
    "plt.savefig('/home/brad/topology_figs/for_neurodinner/test.png')"
   ]
  },
  {
   "cell_type": "markdown",
   "metadata": {},
   "source": [
    "# All Bettis - Trial Average - Single Stimulus - Plot with Stimulus Spectrogram"
   ]
  },
  {
   "cell_type": "markdown",
   "metadata": {},
   "source": [
    "## Compute "
   ]
  },
  {
   "cell_type": "code",
   "execution_count": null,
   "metadata": {
    "collapsed": false
   },
   "outputs": [],
   "source": [
    "stimind = 15\n",
    "stimulus_file = '/home/brad/P_40k_warp.wav'\n",
    "\n",
    "rate, song = wavfile.read('/home/brad/P_40k_warp.wav')\n",
    "sf, st, sPxx = signal.spectrogram(song, rate)\n",
    "plt.figure()\n",
    "plt.imshow(np.log(sPxx), origin='lower', extent=[st[0], st[-1], sf[0], sf[-1]], aspect='auto')\n",
    "\n",
    "from scipy.interpolate import interp1d\n",
    "\n",
    "betticurves = np.zeros((max_betti, ntrials, len(st)))\n",
    "bettiStimspline=[]\n",
    "\n",
    "tf = persistence_files[stimind]\n",
    "tfilepath, tfilename = os.path.split(tf)\n",
    "stimname = list(string.ascii_lowercase)[stimind]\n",
    "pdata = pickle.load(open(tf, 'r'))\n",
    "\n",
    "for trial in range(ntrials):\n",
    "        \n",
    "    trialdata = pdata['{}'.format(str(trial))]\n",
    "    for betti_num in range(max_betti):\n",
    "        betti1 = np.zeros([len(trialdata), 2])\n",
    "        for ind, filt in enumerate(trialdata):\n",
    "            betti1[ind, 0] = filt[0]*windt/1000.\n",
    "            try: \n",
    "                betti1[ind, 1] = filt[1][betti_num]\n",
    "            except IndexError:\n",
    "                betti1[ind, 1] = 0\n",
    "                \n",
    "        bettifunc = interp1d(betti1[:, 0], betti1[:, 1], kind='zero', bounds_error=False, fill_value=(betti1[0, 1], betti1[-1, 1]))\n",
    "        betticurve = bettifunc(st)\n",
    "        betticurves[betti_num, trial, :] = betticurve\n",
    "        \n",
    "avgbetticurve = np.mean(betticurves, axis=1)"
   ]
  },
  {
   "cell_type": "markdown",
   "metadata": {},
   "source": [
    "## Plot"
   ]
  },
  {
   "cell_type": "code",
   "execution_count": null,
   "metadata": {
    "collapsed": false
   },
   "outputs": [],
   "source": [
    "# Set the font dictionaries (for plot title and axis titles)\n",
    "title_font = {'fontname':'Arial', 'size':'36', 'color':'black', 'weight':'normal',\n",
    "              'verticalalignment':'bottom'} # Bottom vertical alignment for more space\n",
    "axis_font = {'fontname':'Arial', 'size':'36'}\n",
    "\n",
    "figsize = (22, 22)\n",
    "f, pltaxes = plt.subplots(2, 1, figsize=(22,18), sharex=True)\n",
    "ax = pltaxes[0]\n",
    "# Set the tick labels font\n",
    "for label in (ax.get_xticklabels() + ax.get_yticklabels()):\n",
    "    label.set_fontname('Arial')\n",
    "    label.set_fontsize(32)\n",
    "    \n",
    "song_spec_normed = sPxx / np.max(sPxx)\n",
    "ax.imshow(np.log(song_spec_normed), origin='lower', extent=[st[0], st[-1], sf[0], sf[-1]], aspect='auto', cmap='spectral')\n",
    "ax.set_ylabel('Frequency (Hz)', **axis_font)\n",
    "\n",
    "ax=pltaxes[1]\n",
    "# Set the tick labels font\n",
    "for label in (ax.get_xticklabels() + ax.get_yticklabels()):\n",
    "    label.set_fontname('Arial')\n",
    "    label.set_fontsize(32)\n",
    "\n",
    "ax.plot(st, avgbetticurve[0, :], st, avgbetticurve[1, :], st, avgbetticurve[2, :], st, avgbetticurve[3, :], lw=6)\n",
    "ax.set_title('Stimulus: {}'.format(stimname), **title_font)\n",
    "ax.set_xlabel('Time (seconds)', **axis_font)\n",
    "ax.set_ylabel('Betti Number Value', **axis_font)\n",
    "ax.set_xlim([st[0], st[-1]])\n",
    "\n",
    "#plt.legend(['Betti 0', 'Betti 1', 'Betti 2', 'Betti 3'], fontsize=36, loc=2)\n",
    "plt.savefig('/home/brad/topology_figs/for_neurodinner/B1235_P01S01_StimP_AllAvgBetti_withSpectrogram.png')"
   ]
  },
  {
   "cell_type": "markdown",
   "metadata": {},
   "source": [
    "# All Betti Numbers - Trial Averages - All Stimuli"
   ]
  },
  {
   "cell_type": "code",
   "execution_count": null,
   "metadata": {
    "collapsed": false,
    "scrolled": true
   },
   "outputs": [],
   "source": [
    "\n",
    "t = np.linspace(0, 7, num=1000)\n",
    "betticurves = np.zeros((max_betti, ntrials, 1000))\n",
    "bettiStimspline=[]\n",
    "figsize = (11, 11)\n",
    "figsize = (22, 20)\n",
    "fig, axs = plt.subplots(4, 4, figsize=figsize)\n",
    "\n",
    "for stimind in range(nstim):\n",
    "    tf = persistence_files[stimind]\n",
    "    tfilepath, tfilename = os.path.split(tf)\n",
    "    stimname = list(string.ascii_lowercase)[stimind]\n",
    "    pdata = pickle.load(open(tf, 'r'))\n",
    "    ax = axs.flatten()[stimind]\n",
    "    for trial in range(ntrials):\n",
    "        \n",
    "        trialdata = pdata['{}'.format(str(trial))]\n",
    "        for betti_num in range(max_betti):\n",
    "            betti1 = np.zeros([len(trialdata), 2])\n",
    "            for ind, filt in enumerate(trialdata):\n",
    "                betti1[ind, 0] = filt[0]*windt/1000.\n",
    "                try: \n",
    "                    betti1[ind, 1] = filt[1][betti_num]\n",
    "                except IndexError:\n",
    "                    betti1[ind, 1] = 0\n",
    "                \n",
    "            bettifunc = interp1d(betti1[:, 0], betti1[:, 1], kind='zero', bounds_error=False, fill_value=(betti1[0, 1], betti1[-1, 1]))\n",
    "            betticurve = bettifunc(t)\n",
    "            betticurves[betti_num, trial, :] = betticurve\n",
    "        \n",
    "    avgbetticurve = np.mean(betticurves, axis=1)\n",
    "\n",
    "    ax.plot(t, avgbetticurve[0, :], t, avgbetticurve[1, :], t, avgbetticurve[2, :], t, avgbetticurve[3, :], lw=3)\n",
    "    ax.set_title('Stimulus: {}'.format(stimname))\n",
    "    ax.set_xlabel('Time (seconds)')\n",
    "    ax.set_ylabel('Betti Number Value')\n",
    "    ax.set_ylim([0, 14])\n",
    "plt.savefig('/home/brad/B{}_P{}S{}_avgbettis_timedep_{}ms_{}.png'.format(bird, pen, site, windt, prd))"
   ]
  },
  {
   "cell_type": "markdown",
   "metadata": {},
   "source": [
    "# All Betti Numbers - (Trial Averages + Single Trials) - One Stimulus\n"
   ]
  },
  {
   "cell_type": "code",
   "execution_count": null,
   "metadata": {
    "collapsed": false
   },
   "outputs": [],
   "source": [
    "\n",
    "t = np.linspace(0, 7, num=1000)\n",
    "\n",
    "betticurves = np.zeros((max_betti, ntrials, 1000))\n",
    "bettiStimspline=[]\n",
    "\n",
    "\n",
    "stimind = 13\n",
    "tf = persistence_files[stimind]\n",
    "tfilepath, tfilename = os.path.split(tf)\n",
    "stimname = list(string.ascii_lowercase)[stimind]\n",
    "pdata = pickle.load(open(tf, 'r'))\n",
    "\n",
    "for trial in range(20):\n",
    "        \n",
    "    trialdata = pdata['{}'.format(str(trial))]\n",
    "    for betti_num in range(max_betti):\n",
    "        betti1 = np.zeros([len(trialdata), 2])\n",
    "        for ind, filt in enumerate(trialdata):\n",
    "            betti1[ind, 0] = filt[0]*windt/1000.\n",
    "            try: \n",
    "                betti1[ind, 1] = filt[1][betti_num]\n",
    "            except IndexError:\n",
    "                betti1[ind, 1] = 0\n",
    "                \n",
    "        bettifunc = interp1d(betti1[:, 0], betti1[:, 1], kind='zero', bounds_error=False, fill_value=(betti1[0, 1], betti1[-1, 1]))\n",
    "        betticurve = bettifunc(t)\n",
    "        betticurves[betti_num, trial, :] = betticurve\n",
    "avgbetticurve = np.mean(betticurves, axis=1)\n"
   ]
  },
  {
   "cell_type": "code",
   "execution_count": null,
   "metadata": {
    "collapsed": false
   },
   "outputs": [],
   "source": [
    "# Set the font dictionaries (for plot title and axis titles)\n",
    "title_font = {'fontname':'Arial', 'size':'36', 'color':'black', 'weight':'normal',\n",
    "              'verticalalignment':'bottom'} # Bottom vertical alignment for more space\n",
    "axis_font = {'fontname':'Arial', 'size':'36'}\n",
    "\n",
    "figsize = (22, 20)\n",
    "fig, axs = plt.subplots(2, 2, figsize=figsize)\n",
    "\n",
    "for bettinum in range(max_betti):\n",
    "    ax = axs.flatten()[bettinum]\n",
    "\n",
    "    # Set the tick labels font\n",
    "    for label in (ax.get_xticklabels() + ax.get_yticklabels()):\n",
    "        label.set_fontname('Arial')\n",
    "        label.set_fontsize(32)\n",
    "    for trial in range(20):\n",
    "        ax.plot(t, betticurves[bettinum, trial, :], 'b', lw=4)\n",
    "        ax.set_title('Betti Number: {}'.format(bettinum), **title_font)\n",
    "        #ax.set_xlabel('Time (seconds)', **axis_font)\n",
    "        #ax.set_ylabel('Betti Number Value', **axis_font)\n",
    "        ax.set_ylim([0, 16])\n",
    "    ax.plot(t, avgbetticurve[bettinum, :], 'r', lw=6)\n",
    "plt.savefig('/home/brad/topology_figs/for_neurodinner/B1235_P01S01_Stim13_AllBettis_TrialbyTrial.png')"
   ]
  }
 ],
 "metadata": {
  "kernelspec": {
   "display_name": "Python 2",
   "language": "python",
   "name": "python2"
  },
  "language_info": {
   "codemirror_mode": {
    "name": "ipython",
    "version": 2
   },
   "file_extension": ".py",
   "mimetype": "text/x-python",
   "name": "python",
   "nbconvert_exporter": "python",
   "pygments_lexer": "ipython2",
   "version": "2.7.11"
  }
 },
 "nbformat": 4,
 "nbformat_minor": 0
}
