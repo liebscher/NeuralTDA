{
 "cells": [
  {
   "cell_type": "markdown",
   "metadata": {},
   "source": [
    "# Initial visualizations of your data\n",
    "\n",
    "This notebook is meant to let you quickly look at your post-manually sorted data"
   ]
  },
  {
   "cell_type": "code",
   "execution_count": 1,
   "metadata": {
    "collapsed": false
   },
   "outputs": [
    {
     "name": "stderr",
     "output_type": "stream",
     "text": [
      "/Users/brad/anaconda/lib/python2.7/site-packages/pandas/computation/__init__.py:19: UserWarning: The installed version of numexpr 2.4.4 is not supported in pandas and will be not be used\n",
      "\n",
      "  UserWarning)\n"
     ]
    },
    {
     "name": "stdout",
     "output_type": "stream",
     "text": [
      "Populating the interactive namespace from numpy and matplotlib\n"
     ]
    }
   ],
   "source": [
    "import numpy as np\n",
    "import scipy as sp\n",
    "import matplotlib.pyplot as plt\n",
    "import pickle\n",
    "import os\n",
    "import sys\n",
    "sys.path.append('/Users/brad/GentnerLab/code/gentnerlab/ephys-analysis/')\n",
    "sys.path.append('/Users/brad/GentnerLab/code/NeuralTDA/src')\n",
    "from ephys import core, events, rasters\n",
    "import topology\n",
    "import glob\n",
    "%pylab inline"
   ]
  },
  {
   "cell_type": "markdown",
   "metadata": {},
   "source": [
    "## Load the data\n",
    "\n",
    "Set 'block_path' to the path of the folder containing your post-manually sorted data"
   ]
  },
  {
   "cell_type": "code",
   "execution_count": null,
   "metadata": {
    "collapsed": false
   },
   "outputs": [],
   "source": [
    "block_path = '/Users/brad/GentnerLab/data/Pen01_Lft_AP100_ML1300__Site03_Z2500__B1056_cat_P01_S03_1/'\n",
    "spikes     = core.load_spikes(block_path)\n",
    "clusters   = core.load_clusters(block_path)\n",
    "trials     = events.load_trials(block_path)\n",
    "fs         = core.load_fs(block_path)\n",
    "rec        = 0 "
   ]
  },
  {
   "cell_type": "code",
   "execution_count": null,
   "metadata": {
    "collapsed": false
   },
   "outputs": [],
   "source": [
    "len(clusters[clusters['quality']=='Good'])"
   ]
  },
  {
   "cell_type": "code",
   "execution_count": null,
   "metadata": {
    "collapsed": false
   },
   "outputs": [],
   "source": [
    "persistence_files = glob.glob(os.path.join(block_path, 'topology/50ms_avg_p/*.pkl'))\n",
    "persistence_files\n",
    "os.path.split(persistence_files[0])"
   ]
  },
  {
   "cell_type": "markdown",
   "metadata": {},
   "source": [
    "## Plot rasters of each trial from each Good unit for all stims\n",
    "\n"
   ]
  },
  {
   "cell_type": "code",
   "execution_count": null,
   "metadata": {
    "collapsed": false,
    "scrolled": true
   },
   "outputs": [],
   "source": [
    "figsize = (22, 20)\n",
    "fig, axs = plt.subplots(4, 4, figsize=figsize)\n",
    "for stimind in range(16):\n",
    "    tf = persistence_files[stimind]\n",
    "    tfilepath, tfilename = os.path.split(tf)\n",
    "    stimname = tfilename.split('_')[5]\n",
    "    pdata = pickle.load(open(tf, 'r'))\n",
    "\n",
    "    betti=1\n",
    "    \n",
    "\n",
    "\n",
    "    ax = axs.flatten()[stimind]\n",
    "    for trial in range(20):\n",
    "        trialdata = pdata['{}'.format(str(trial))]\n",
    "        betti1 = np.zeros([len(trialdata), 2])\n",
    "        for ind, filt in enumerate(trialdata):\n",
    "            betti1[ind, 0] = filt[0]*0.05\n",
    "            betti1[ind, 1] = filt[1][1]\n",
    "        betti0 = np.zeros([len(trialdata), 2])\n",
    "        for ind, filt in enumerate(trialdata):\n",
    "            betti0[ind, 0] = filt[0]*0.05\n",
    "            betti0[ind, 1] = filt[1][0]\n",
    "\n",
    "        ax.set_xlim(0, 6.5)\n",
    "        ax.set_ylim(0, 25)\n",
    "        pltcolor='b'\n",
    "        if stimname in ['stimA', 'stimB', 'stimC', 'stimD']:\n",
    "            pltcolor = 'r'\n",
    "        ax.plot(betti1[:, 0], betti1[:,1], pltcolor, lw=2)\n",
    "        ax.set_title('Stimulus: {}'.format(stimname))\n",
    "        ax.set_xlabel('Time (seconds)')\n",
    "        ax.set_ylabel('First Betti Number')\n",
    "plt.savefig('betti0_timedep_50ms.png')"
   ]
  },
  {
   "cell_type": "code",
   "execution_count": null,
   "metadata": {
    "collapsed": false
   },
   "outputs": [],
   "source": [
    "pdata"
   ]
  },
  {
   "cell_type": "markdown",
   "metadata": {},
   "source": [
    "## See a cell / stim combo that looked interesting?  Plot it here!"
   ]
  },
  {
   "cell_type": "code",
   "execution_count": null,
   "metadata": {
    "collapsed": false
   },
   "outputs": [],
   "source": [
    "for stim in range(16):\n",
    "    tf = persistence_files[stim]\n",
    "    pdata = pickle.load(open(tf, 'r'))\n",
    "    bettipts0 = []\n",
    "    bettipts1 = []\n",
    "    for trial in range(20):\n",
    "        trialdata = pdata['{}'.format(str(trial))]\n",
    "        betti1 = np.zeros([len(trialdata), 2])\n",
    "        for ind, filt in enumerate(trialdata):\n",
    "            betti1[ind, 0] = filt[0]*0.05\n",
    "            betti1[ind, 1] = filt[1][1]\n",
    "        betti0 = np.zeros([len(trialdata), 2])\n",
    "        for ind, filt in enumerate(trialdata):\n",
    "            betti0[ind, 0] = filt[0]*0.05\n",
    "            betti0[ind, 1] = filt[1][0]\n",
    "        bettipt = [betti0[-1, 1], betti1[-1, 1]]\n",
    "        bettipts0.append(betti0[-1, 1])\n",
    "        bettipts1.append(betti1[-1, 1])\n",
    "    plt.figure()\n",
    "    plt.scatter(bettipts0, bettipts1)"
   ]
  },
  {
   "cell_type": "markdown",
   "metadata": {},
   "source": [
    "## Plot Average, Gaussian Smoothed PSTHs for each Unit"
   ]
  },
  {
   "cell_type": "code",
   "execution_count": 27,
   "metadata": {
    "collapsed": false
   },
   "outputs": [
    {
     "name": "stdout",
     "output_type": "stream",
     "text": [
      "(10, 1000)\n"
     ]
    }
   ],
   "source": [
    "import test\n",
    "import pandas as pd\n",
    "reload(test)\n",
    "times = np.array(range(0, 1000, 1))\n",
    "testspikes = test.generate_ring_dataset(10, times, 0.02)\n",
    "testtrials = pd.DataFrame({'time_samples': 0, 'stimulus_end': 1000, 'stimulus': 'test'}, index=[0])"
   ]
  },
  {
   "cell_type": "code",
   "execution_count": 17,
   "metadata": {
    "collapsed": false
   },
   "outputs": [
    {
     "data": {
      "text/plain": [
       "[1,\n",
       " 5,\n",
       " 9,\n",
       " 13,\n",
       " 17,\n",
       " 21,\n",
       " 25,\n",
       " 29,\n",
       " 33,\n",
       " 37,\n",
       " 41,\n",
       " 45,\n",
       " 49,\n",
       " 53,\n",
       " 57,\n",
       " 61,\n",
       " 65,\n",
       " 69,\n",
       " 73,\n",
       " 77,\n",
       " 81,\n",
       " 85,\n",
       " 89,\n",
       " 93,\n",
       " 97]"
      ]
     },
     "execution_count": 17,
     "metadata": {},
     "output_type": "execute_result"
    }
   ],
   "source": []
  },
  {
   "cell_type": "markdown",
   "metadata": {},
   "source": [
    "## Plot rasters of each MUA unit"
   ]
  },
  {
   "cell_type": "code",
   "execution_count": 26,
   "metadata": {
    "collapsed": false
   },
   "outputs": [],
   "source": [
    "reload(rasters)\n",
    "good_cluster_ids = range(10)\n",
    "\n",
    "# We have 16 stims, so let's go with a 4x4 subplot layout\n",
    "subplot_xy = [1,2]\n",
    "figsize = (22,20)\n",
    "period = [0,0]\n",
    "rec=0\n",
    "fs = 1000.0\n",
    "\n",
    "for clusterID in good_cluster_ids:\n",
    "    fig = rasters.plot_unit_raster(testspikes, testtrials, clusterID, period, rec, fs, subplot_xy, figsize)\n",
    "    #raster_fname = os.path.join(raster_dir, 'unit{}_raster.png'.format(str(clusterID)))\n",
    "    fig.savefig('ring_test{}.png'.format(str(clusterID)))\n",
    "    plt.close(fig)"
   ]
  },
  {
   "cell_type": "code",
   "execution_count": null,
   "metadata": {
    "collapsed": true
   },
   "outputs": [],
   "source": []
  }
 ],
 "metadata": {
  "kernelspec": {
   "display_name": "Python 2",
   "language": "python",
   "name": "python2"
  },
  "language_info": {
   "codemirror_mode": {
    "name": "ipython",
    "version": 2
   },
   "file_extension": ".py",
   "mimetype": "text/x-python",
   "name": "python",
   "nbconvert_exporter": "python",
   "pygments_lexer": "ipython2",
   "version": "2.7.11"
  }
 },
 "nbformat": 4,
 "nbformat_minor": 0
}
