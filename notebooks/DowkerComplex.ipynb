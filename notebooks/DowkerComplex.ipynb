{
 "cells": [
  {
   "cell_type": "code",
   "execution_count": 48,
   "metadata": {
    "collapsed": true
   },
   "outputs": [],
   "source": [
    "import h5py as h5\n",
    "import numpy as np\n",
    "import neuraltda.SimplicialComplex as sc\n",
    "import matplotlib.pyplot as plt\n",
    "%matplotlib inline"
   ]
  },
  {
   "cell_type": "code",
   "execution_count": 2,
   "metadata": {
    "collapsed": true
   },
   "outputs": [],
   "source": [
    "fname = './B1235_cat_P01_S01_1-good-50ms-stim.binned'\n",
    "f = h5.File(fname, 'r')"
   ]
  },
  {
   "cell_type": "code",
   "execution_count": 6,
   "metadata": {
    "collapsed": false
   },
   "outputs": [],
   "source": [
    "stimdata = f['A_scaled_burung']\n",
    "trialdata = stimdata['0']"
   ]
  },
  {
   "cell_type": "code",
   "execution_count": 54,
   "metadata": {
    "collapsed": true
   },
   "outputs": [],
   "source": [
    "def binnedtobinary(popvec, thresh):\n",
    "    \n",
    "    popvec = np.array(popvec)\n",
    "    Ncells, Nwin = np.shape(popvec)\n",
    "    means = popvec.sum(1)/Nwin\n",
    "    means = np.tile(means, (Nwin, 1)).T\n",
    "    meanthr = thresh*means\n",
    "    \n",
    "    activeUnits = np.greater(popvec, meanthr).astype(int)\n",
    "    return activeUnits\n",
    "    \n",
    "def BinaryToMaxSimplex(binMat):\n",
    "    \n",
    "    Ncells, Nwin = np.shape(binMat)\n",
    "    MaxSimps = []\n",
    "    for cell in range(Ncells):\n",
    "        if binMat[cell, :].any():\n",
    "            verts = np.arange(Nwin)[binMat[cell, :] == 1]\n",
    "            verts = np.sort(verts)\n",
    "            MaxSimps.append(list(verts))\n",
    "    return MaxSimps\n",
    "        \n",
    "def ShuffleBinary(binMat):\n",
    "    retMat = np.array(binMat)\n",
    "    Ncells, Nwin = np.shape(binMat)\n",
    "    for cell in range(Ncells):\n",
    "        np.random.shuffle(retMat[cell, :])\n",
    "    return retMat\n",
    "        \n",
    "    "
   ]
  },
  {
   "cell_type": "code",
   "execution_count": 78,
   "metadata": {
    "collapsed": false
   },
   "outputs": [
    {
     "data": {
      "text/plain": [
       "array([ 0,  0,  0,  0,  0,  0,  0,  0,  0,  0,  0,  0,  0,  0,  0,  0,  0,\n",
       "        0,  1, -1,  0,  0,  0,  0,  0,  0,  0,  0,  0,  0,  0,  0,  0,  0,\n",
       "        0,  0,  0,  0,  0,  0,  0,  0,  0,  0,  0,  0,  0,  0,  0,  0,  0,\n",
       "        0,  0,  0,  0,  0,  1,  0,  0,  0,  0,  0,  0,  0,  0,  0,  0,  0,\n",
       "        0,  0,  0,  0,  0,  0,  0,  0,  0,  0,  0,  0,  0,  0,  0,  0,  0,\n",
       "        0,  0,  0,  0,  0,  0,  0,  0,  0,  0,  0,  0,  0,  0,  0,  0, -1,\n",
       "        1,  0,  0,  0,  0,  0,  0,  0,  0,  0,  1,  0,  0,  0,  0,  0,  0,\n",
       "        0,  0,  0,  0, -1,  0,  0,  0,  0, -1,  0,  0,  0,  0])"
      ]
     },
     "execution_count": 78,
     "metadata": {},
     "output_type": "execute_result"
    }
   ],
   "source": [
    "(tst - tst_shuffled)[3, :]"
   ]
  },
  {
   "cell_type": "code",
   "execution_count": 79,
   "metadata": {
    "collapsed": false
   },
   "outputs": [
    {
     "name": "stdout",
     "output_type": "stream",
     "text": [
      "[[60, 61, 90, 102], [18, 56, 62, 102, 112], [19, 23, 32, 33, 40, 41, 55, 56, 57, 83, 84, 102, 105, 116], [8, 20, 25, 27, 28, 36, 45, 62, 71, 76, 82, 87, 98, 108, 110, 115, 118, 120], [82], [23, 35, 52, 58, 61, 82, 83, 91, 104], [93], [53, 62]]\n",
      "[[25, 41, 43, 107], [33, 53, 69, 113, 132], [1, 2, 10, 20, 32, 46, 49, 58, 72, 99, 100, 105, 106, 115], [17, 28, 41, 42, 46, 57, 64, 73, 76, 81, 83, 87, 89, 114, 121, 123, 125, 130], [5], [17, 18, 31, 36, 46, 54, 78, 85, 103], [115], [116, 131]]\n"
     ]
    }
   ],
   "source": [
    "popvec = trialdata['pop_vec'][:10, :]\n",
    "\n",
    "tst = binnedtobinary(popvec, 6.0)\n",
    "tst_shuffled = ShuffleBinary(tst)\n",
    "tst2 = BinaryToMaxSimplex(tst)\n",
    "tst2_shuffled = BinaryToMaxSimplex(tst_shuffled)\n",
    "print(tst2)\n",
    "print(tst2_shuffled)"
   ]
  },
  {
   "cell_type": "code",
   "execution_count": 86,
   "metadata": {
    "collapsed": false
   },
   "outputs": [],
   "source": [
    "spikeComplex = sc.SimplicialComplex(tst2)\n",
    "spikeComplex.updateAdjacency()\n",
    "shuffledspikeComplex = sc.SimplicialComplex(tst2_shuffled)\n",
    "shuffledspikeComplex.updateAdjacency()"
   ]
  },
  {
   "cell_type": "code",
   "execution_count": 87,
   "metadata": {
    "collapsed": false
   },
   "outputs": [
    {
     "name": "stdout",
     "output_type": "stream",
     "text": [
      "[44, 295, 1278, 4193, 10697, 21651, 35292, 46770, 50623, 44759, 32188, 18655, 8582, 3061, 816, 153, 18]\n",
      "[49, 296, 1278, 4193, 10697, 21651, 35292, 46770, 50623, 44759, 32188, 18655, 8582, 3061, 816, 153, 18]\n"
     ]
    }
   ],
   "source": [
    "print( [len(spikeComplex.nSimplexDict[s]) for s in range(spikeComplex.dimension)])\n",
    "print( [len(shuffledspikeComplex.nSimplexDict[s]) for s in range(shuffledspikeComplex.dimension)])"
   ]
  },
  {
   "cell_type": "code",
   "execution_count": 92,
   "metadata": {
    "collapsed": false
   },
   "outputs": [
    {
     "name": "stdout",
     "output_type": "stream",
     "text": [
      "[ 14.65685425+0.j  38.52417470+0.j  36.52417470+0.j ...,  16.00000000+0.j\n",
      "  16.00000000+0.j   4.00000000+0.j]\n",
      "[ 14.65685425+0.j  38.52417470+0.j  36.52417470+0.j ...,  16.00000000+0.j\n",
      "  16.00000000+0.j   4.00000000+0.j]\n"
     ]
    }
   ],
   "source": [
    "dim=3\n",
    "spec = spikeComplex.getSpectrum(dim)\n",
    "specshuff = shuffledspikeComplex.getSpectrum(dim)\n",
    "print(spec)\n",
    "print(specshuff)"
   ]
  },
  {
   "cell_type": "code",
   "execution_count": 91,
   "metadata": {
    "collapsed": false
   },
   "outputs": [
    {
     "data": {
      "text/plain": [
       "[<matplotlib.lines.Line2D at 0x6174bfc8450>,\n",
       " <matplotlib.lines.Line2D at 0x6174bfc8550>]"
      ]
     },
     "execution_count": 91,
     "metadata": {},
     "output_type": "execute_result"
    },
    {
     "data": {
      "image/png": "[encoded data removed]",
      "text/plain": [
       "<matplotlib.figure.Figure at 0x3bfa2aa50>"
      ]
     },
     "metadata": {},
     "output_type": "display_data"
    }
   ],
   "source": [
    "plt.plot(range(len(spec)), np.sort(spec),'r.', range(len(specshuff)), np.sort(specshuff), 'b.')"
   ]
  },
  {
   "cell_type": "code",
   "execution_count": 104,
   "metadata": {
    "collapsed": false
   },
   "outputs": [
    {
     "name": "stdout",
     "output_type": "stream",
     "text": [
      "[0 0 0 0 0 0 0 0 0 0 0 0 0 0 0 0 0 1 0 0 0 0 0 0 0 0 0 0 0 0 0 0 0 0 0 0 0\n",
      " 0 0]\n"
     ]
    }
   ],
   "source": [
    "popvec = trialdata['pop_vec'][:, :]\n",
    "\n",
    "tst = binnedtobinary(popvec, 6.0)\n",
    "tst_shuffled = ShuffleBinary(tst)\n",
    "tst = np.transpose(tst)\n",
    "tst_shuffled = np.transpose(tst_shuffled)\n",
    "tst2 = BinaryToMaxSimplex(tst)\n",
    "tst2_shuffled = BinaryToMaxSimplex(tst_shuffled)\n",
    "print(tst[3, :])\n"
   ]
  },
  {
   "cell_type": "code",
   "execution_count": 105,
   "metadata": {
    "collapsed": true
   },
   "outputs": [],
   "source": [
    "spikeComplexT = sc.SimplicialComplex(tst2)\n",
    "spikeComplexT.updateAdjacency()\n",
    "shuffledspikeComplexT = sc.SimplicialComplex(tst2_shuffled)\n",
    "shuffledspikeComplexT.updateAdjacency()"
   ]
  },
  {
   "cell_type": "code",
   "execution_count": 106,
   "metadata": {
    "collapsed": false
   },
   "outputs": [
    {
     "name": "stdout",
     "output_type": "stream",
     "text": [
      "[30, 143, 187, 143, 83, 35, 9]\n",
      "[30, 93, 63, 28, 8]\n"
     ]
    }
   ],
   "source": [
    "print( [len(spikeComplexT.nSimplexDict[s]) for s in range(spikeComplexT.dimension)])\n",
    "print( [len(shuffledspikeComplexT.nSimplexDict[s]) for s in range(shuffledspikeComplexT.dimension)])"
   ]
  },
  {
   "cell_type": "code",
   "execution_count": 119,
   "metadata": {
    "collapsed": false
   },
   "outputs": [
    {
     "ename": "KeyError",
     "evalue": "6",
     "output_type": "error",
     "traceback": [
      "\u001b[0;31m---------------------------------------------------------------------------\u001b[0m",
      "\u001b[0;31mKeyError\u001b[0m                                  Traceback (most recent call last)",
      "\u001b[0;32m<ipython-input-119-3fc123207eec>\u001b[0m in \u001b[0;36m<module>\u001b[0;34m()\u001b[0m\n\u001b[1;32m      1\u001b[0m \u001b[0mdim\u001b[0m\u001b[0;34m=\u001b[0m\u001b[0;36m5\u001b[0m\u001b[0;34m\u001b[0m\u001b[0m\n\u001b[1;32m      2\u001b[0m \u001b[0mspec\u001b[0m \u001b[0;34m=\u001b[0m \u001b[0mspikeComplexT\u001b[0m\u001b[0;34m.\u001b[0m\u001b[0mgetSpectrum\u001b[0m\u001b[0;34m(\u001b[0m\u001b[0mdim\u001b[0m\u001b[0;34m)\u001b[0m\u001b[0;34m\u001b[0m\u001b[0m\n\u001b[0;32m----> 3\u001b[0;31m \u001b[0mspecshuff\u001b[0m \u001b[0;34m=\u001b[0m \u001b[0mshuffledspikeComplexT\u001b[0m\u001b[0;34m.\u001b[0m\u001b[0mgetSpectrum\u001b[0m\u001b[0;34m(\u001b[0m\u001b[0mdim\u001b[0m\u001b[0;34m)\u001b[0m\u001b[0;34m\u001b[0m\u001b[0m\n\u001b[0m\u001b[1;32m      4\u001b[0m \u001b[0;32mprint\u001b[0m\u001b[0;34m(\u001b[0m\u001b[0mspec\u001b[0m\u001b[0;34m)\u001b[0m\u001b[0;34m\u001b[0m\u001b[0m\n\u001b[1;32m      5\u001b[0m \u001b[0;32mprint\u001b[0m\u001b[0;34m(\u001b[0m\u001b[0mspecshuff\u001b[0m\u001b[0;34m)\u001b[0m\u001b[0;34m\u001b[0m\u001b[0m\n",
      "\u001b[0;32m/Users/brad/GentnerLab/code/NeuralTDA/neuraltda/SimplicialComplex.py\u001b[0m in \u001b[0;36mgetSpectrum\u001b[0;34m(self, dimension)\u001b[0m\n\u001b[1;32m    187\u001b[0m     \u001b[0;32mdef\u001b[0m \u001b[0mgetSpectrum\u001b[0m\u001b[0;34m(\u001b[0m\u001b[0mself\u001b[0m\u001b[0;34m,\u001b[0m \u001b[0mdimension\u001b[0m\u001b[0;34m)\u001b[0m\u001b[0;34m:\u001b[0m\u001b[0;34m\u001b[0m\u001b[0m\n\u001b[1;32m    188\u001b[0m \u001b[0;34m\u001b[0m\u001b[0m\n\u001b[0;32m--> 189\u001b[0;31m         \u001b[0mL\u001b[0m \u001b[0;34m=\u001b[0m \u001b[0mself\u001b[0m\u001b[0;34m.\u001b[0m\u001b[0mgetLaplacian\u001b[0m\u001b[0;34m(\u001b[0m\u001b[0mdimension\u001b[0m\u001b[0;34m)\u001b[0m\u001b[0;34m\u001b[0m\u001b[0m\n\u001b[0m\u001b[1;32m    190\u001b[0m         \u001b[0mw\u001b[0m\u001b[0;34m,\u001b[0m \u001b[0mv\u001b[0m \u001b[0;34m=\u001b[0m \u001b[0mLA\u001b[0m\u001b[0;34m.\u001b[0m\u001b[0meig\u001b[0m\u001b[0;34m(\u001b[0m\u001b[0mL\u001b[0m\u001b[0;34m)\u001b[0m\u001b[0;34m\u001b[0m\u001b[0m\n\u001b[1;32m    191\u001b[0m         \u001b[0;32mreturn\u001b[0m \u001b[0mw\u001b[0m\u001b[0;34m\u001b[0m\u001b[0m\n",
      "\u001b[0;32m/Users/brad/GentnerLab/code/NeuralTDA/neuraltda/SimplicialComplex.py\u001b[0m in \u001b[0;36mgetLaplacian\u001b[0;34m(self, dimension)\u001b[0m\n\u001b[1;32m    178\u001b[0m \u001b[0;34m\u001b[0m\u001b[0m\n\u001b[1;32m    179\u001b[0m         \u001b[0mDi\u001b[0m \u001b[0;34m=\u001b[0m \u001b[0mself\u001b[0m\u001b[0;34m.\u001b[0m\u001b[0mgetBoundaryMap\u001b[0m\u001b[0;34m(\u001b[0m\u001b[0mdimension\u001b[0m\u001b[0;34m)\u001b[0m\u001b[0;34m\u001b[0m\u001b[0m\n\u001b[0;32m--> 180\u001b[0;31m         \u001b[0mDi1\u001b[0m \u001b[0;34m=\u001b[0m \u001b[0mself\u001b[0m\u001b[0;34m.\u001b[0m\u001b[0mgetBoundaryMap\u001b[0m\u001b[0;34m(\u001b[0m\u001b[0mdimension\u001b[0m\u001b[0;34m+\u001b[0m\u001b[0;36m1\u001b[0m\u001b[0;34m)\u001b[0m\u001b[0;34m\u001b[0m\u001b[0m\n\u001b[0m\u001b[1;32m    181\u001b[0m \u001b[0;34m\u001b[0m\u001b[0m\n\u001b[1;32m    182\u001b[0m         \u001b[0mLup\u001b[0m \u001b[0;34m=\u001b[0m \u001b[0mnp\u001b[0m\u001b[0;34m.\u001b[0m\u001b[0mdot\u001b[0m\u001b[0;34m(\u001b[0m\u001b[0mDi1\u001b[0m\u001b[0;34m,\u001b[0m \u001b[0mnp\u001b[0m\u001b[0;34m.\u001b[0m\u001b[0mtranspose\u001b[0m\u001b[0;34m(\u001b[0m\u001b[0mDi1\u001b[0m\u001b[0;34m)\u001b[0m\u001b[0;34m)\u001b[0m\u001b[0;34m\u001b[0m\u001b[0m\n",
      "\u001b[0;32m/Users/brad/GentnerLab/code/NeuralTDA/neuraltda/SimplicialComplex.py\u001b[0m in \u001b[0;36mgetBoundaryMap\u001b[0;34m(self, dimension)\u001b[0m\n\u001b[1;32m    167\u001b[0m     \u001b[0;32mdef\u001b[0m \u001b[0mgetBoundaryMap\u001b[0m\u001b[0;34m(\u001b[0m\u001b[0mself\u001b[0m\u001b[0;34m,\u001b[0m \u001b[0mdimension\u001b[0m\u001b[0;34m)\u001b[0m\u001b[0;34m:\u001b[0m\u001b[0;34m\u001b[0m\u001b[0m\n\u001b[1;32m    168\u001b[0m \u001b[0;34m\u001b[0m\u001b[0m\n\u001b[0;32m--> 169\u001b[0;31m         \u001b[0mupperD\u001b[0m \u001b[0;34m=\u001b[0m \u001b[0mlen\u001b[0m\u001b[0;34m(\u001b[0m\u001b[0mself\u001b[0m\u001b[0;34m.\u001b[0m\u001b[0mnSimplexDict\u001b[0m\u001b[0;34m[\u001b[0m\u001b[0mdimension\u001b[0m\u001b[0;34m]\u001b[0m\u001b[0;34m)\u001b[0m\u001b[0;34m\u001b[0m\u001b[0m\n\u001b[0m\u001b[1;32m    170\u001b[0m         \u001b[0mlowerD\u001b[0m \u001b[0;34m=\u001b[0m \u001b[0mlen\u001b[0m\u001b[0;34m(\u001b[0m\u001b[0mself\u001b[0m\u001b[0;34m.\u001b[0m\u001b[0mnSimplexDict\u001b[0m\u001b[0;34m[\u001b[0m\u001b[0mdimension\u001b[0m\u001b[0;34m-\u001b[0m\u001b[0;36m1\u001b[0m\u001b[0;34m]\u001b[0m\u001b[0;34m)\u001b[0m\u001b[0;34m\u001b[0m\u001b[0m\n\u001b[1;32m    171\u001b[0m \u001b[0;34m\u001b[0m\u001b[0m\n",
      "\u001b[0;31mKeyError\u001b[0m: 6"
     ]
    }
   ],
   "source": [
    "dim=5\n",
    "spec = spikeComplexT.getSpectrum(dim)\n",
    "specshuff = shuffledspikeComplexT.getSpectrum(dim)\n",
    "print(spec)\n",
    "print(specshuff)\n",
    "plt.plot(range(len(spec)), np.sort(spec),'r.', range(len(specshuff)), np.sort(specshuff), 'b.')"
   ]
  },
  {
   "cell_type": "code",
   "execution_count": 111,
   "metadata": {
    "collapsed": true
   },
   "outputs": [],
   "source": [
    "def computeSpectrogram(spec, sigma, lam):\n",
    "    \n",
    "    sig = np.zeros(np.shape(lam))\n",
    "    for eigval in spec:\n",
    "        gaussian = np.exp(-(lam-eigval)**2 / (2*sigma**2)) / (np.sqrt(2*np.pi*sigma**2))\n",
    "        sig = sig+gaussian\n",
    "    return sig"
   ]
  },
  {
   "cell_type": "code",
   "execution_count": 120,
   "metadata": {
    "collapsed": false
   },
   "outputs": [],
   "source": [
    "t = np.linspace(0, 18, 1000)\n",
    "specg = computeSpectrogram(spec, 0.05, t)"
   ]
  },
  {
   "cell_type": "code",
   "execution_count": 117,
   "metadata": {
    "collapsed": false
   },
   "outputs": [
    {
     "data": {
      "text/plain": [
       "[<matplotlib.lines.Line2D at 0x617a32d3250>]"
      ]
     },
     "execution_count": 117,
     "metadata": {},
     "output_type": "execute_result"
    },
    {
     "data": {
      "image/png": "[encoded data removed]",
      "text/plain": [
       "<matplotlib.figure.Figure at 0x6176ab3b110>"
      ]
     },
     "metadata": {},
     "output_type": "display_data"
    }
   ],
   "source": [
    "def computeAvgSpectrogram(stimdata, sigma):\n",
    "    \n",
    "    spikeComplex = sc.Simplicial"
   ]
  },
  {
   "cell_type": "code",
   "execution_count": 121,
   "metadata": {
    "collapsed": false
   },
   "outputs": [
    {
     "data": {
      "text/plain": [
       "[<matplotlib.lines.Line2D at 0x617b11e9510>]"
      ]
     },
     "execution_count": 121,
     "metadata": {},
     "output_type": "execute_result"
    },
    {
     "data": {
      "image/png": "[encoded data removed]",
      "text/plain": [
       "<matplotlib.figure.Figure at 0x6174c3e7490>"
      ]
     },
     "metadata": {},
     "output_type": "display_data"
    }
   ],
   "source": [
    "plt.plot(t, specg)"
   ]
  },
  {
   "cell_type": "code",
   "execution_count": null,
   "metadata": {
    "collapsed": true
   },
   "outputs": [],
   "source": []
  }
 ],
 "metadata": {
  "kernelspec": {
   "display_name": "Python 2",
   "language": "python",
   "name": "python2"
  },
  "language_info": {
   "codemirror_mode": {
    "name": "ipython",
    "version": 2
   },
   "file_extension": ".py",
   "mimetype": "text/x-python",
   "name": "python",
   "nbconvert_exporter": "python",
   "pygments_lexer": "ipython2",
   "version": "2.7.11"
  }
 },
 "nbformat": 4,
 "nbformat_minor": 0
}
