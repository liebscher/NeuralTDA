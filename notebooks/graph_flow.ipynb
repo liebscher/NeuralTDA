{
 "cells": [
  {
   "cell_type": "code",
   "execution_count": 15,
   "metadata": {
    "collapsed": false
   },
   "outputs": [],
   "source": [
    "import numpy as np\n",
    "import networkx as nx\n",
    "from scipy.integrate import odeint"
   ]
  },
  {
   "cell_type": "code",
   "execution_count": 107,
   "metadata": {
    "collapsed": true
   },
   "outputs": [],
   "source": [
    "N = 5\n",
    "mat = np.abs(0.01*np.random.standard_normal([N, N]))"
   ]
  },
  {
   "cell_type": "code",
   "execution_count": 108,
   "metadata": {
    "collapsed": false
   },
   "outputs": [],
   "source": [
    "dg = nx.DiGraph(data=mat)"
   ]
  },
  {
   "cell_type": "code",
   "execution_count": 109,
   "metadata": {
    "collapsed": false
   },
   "outputs": [
    {
     "data": {
      "text/plain": [
       "{'weight': 0.005974789799994832}"
      ]
     },
     "execution_count": 109,
     "metadata": {},
     "output_type": "execute_result"
    }
   ],
   "source": [
    "dg.get_edge_data(0,2)"
   ]
  },
  {
   "cell_type": "code",
   "execution_count": 110,
   "metadata": {
    "collapsed": true
   },
   "outputs": [],
   "source": [
    "alpha = 0.01\n",
    "def graph_flow(A, t):\n",
    "    A = np.reshape(A, [N, N])\n",
    "    \n",
    "    B = A - np.dot(A, np.dot(A.T, A))\n",
    "    dA = alpha*np.multiply(A, B)\n",
    "    dA = np.reshape(dA, N**2)\n",
    "    return dA\n",
    "\n",
    "def integrate_A(Ainit, tmax):\n",
    "    t = np.arange(tmax)\n",
    "    Ainit = np.reshape(Ainit, N**2)\n",
    "    out = odeint(graph_flow, Ainit, t)\n",
    "    return (out, t)"
   ]
  },
  {
   "cell_type": "code",
   "execution_count": 118,
   "metadata": {
    "collapsed": false
   },
   "outputs": [],
   "source": [
    "(Aout, t) = integrate_A(mat, 800/alpha)"
   ]
  },
  {
   "cell_type": "code",
   "execution_count": 119,
   "metadata": {
    "collapsed": false
   },
   "outputs": [],
   "source": [
    "Anew = Aout[-1, :]"
   ]
  },
  {
   "cell_type": "code",
   "execution_count": 98,
   "metadata": {
    "collapsed": false
   },
   "outputs": [],
   "source": [
    "Atraj = Aout[:, 4]"
   ]
  },
  {
   "cell_type": "code",
   "execution_count": 99,
   "metadata": {
    "collapsed": false
   },
   "outputs": [
    {
     "data": {
      "text/plain": [
       "array([ 0.02148284,  0.02148724,  0.02149164, ...,  0.        ,\n",
       "        0.        ,  0.        ])"
      ]
     },
     "execution_count": 99,
     "metadata": {},
     "output_type": "execute_result"
    }
   ],
   "source": [
    "At"
   ]
  },
  {
   "cell_type": "code",
   "execution_count": 121,
   "metadata": {
    "collapsed": false
   },
   "outputs": [
    {
     "name": "stdout",
     "output_type": "stream",
     "text": [
      "[[  1.27e-02   2.39e-03   1.01e+00   3.28e-03   3.84e-02]\n",
      " [  2.39e-03   2.54e-03   9.96e-04   2.97e-04   2.00e+00]\n",
      " [  1.01e+00   9.96e-04   5.76e-04   1.00e+00   1.45e-03]\n",
      " [  3.28e-03   2.97e-04   1.00e+00   5.94e-02   2.51e-02]\n",
      " [  3.84e-02   2.00e+00   1.45e-03   2.51e-02   2.91e-05]]\n"
     ]
    }
   ],
   "source": [
    "Anew.shape = [N, N]\n",
    "Ab = Anew + Anew.T\n",
    "print(np.array_str(Ab, precision=2))"
   ]
  },
  {
   "cell_type": "code",
   "execution_count": null,
   "metadata": {
    "collapsed": true
   },
   "outputs": [],
   "source": []
  }
 ],
 "metadata": {
  "kernelspec": {
   "display_name": "Python 2",
   "language": "python",
   "name": "python2"
  },
  "language_info": {
   "codemirror_mode": {
    "name": "ipython",
    "version": 2
   },
   "file_extension": ".py",
   "mimetype": "text/x-python",
   "name": "python",
   "nbconvert_exporter": "python",
   "pygments_lexer": "ipython2",
   "version": "2.7.13"
  }
 },
 "nbformat": 4,
 "nbformat_minor": 0
}
